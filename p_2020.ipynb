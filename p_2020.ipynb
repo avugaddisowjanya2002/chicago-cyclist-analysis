{
 "cells": [
  {
   "cell_type": "code",
   "execution_count": 1,
   "id": "fd8211d5-7789-484f-af8f-13e346889ddf",
   "metadata": {},
   "outputs": [
    {
     "name": "stdout",
     "output_type": "stream",
     "text": [
      "shape: (5, 13)\n",
      "┌──────────────────┬───────────────┬────────────┬────────────┬───┬───────────┬─────────┬──────────┬───────────────┐\n",
      "│ ride_id          ┆ rideable_type ┆ started_at ┆ ended_at   ┆ … ┆ start_lng ┆ end_lat ┆ end_lng  ┆ member_casual │\n",
      "│ ---              ┆ ---           ┆ ---        ┆ ---        ┆   ┆ ---       ┆ ---     ┆ ---      ┆ ---           │\n",
      "│ str              ┆ str           ┆ str        ┆ str        ┆   ┆ str       ┆ str     ┆ str      ┆ str           │\n",
      "╞══════════════════╪═══════════════╪════════════╪════════════╪═══╪═══════════╪═════════╪══════════╪═══════════════╡\n",
      "│ A847FADBBC638E45 ┆ docked_bike   ┆ 2020-04-26 ┆ 2020-04-26 ┆ … ┆ -87.661   ┆ 41.9322 ┆ -87.6586 ┆ member        │\n",
      "│                  ┆               ┆ 17:45:14   ┆ 18:12:03   ┆   ┆           ┆         ┆          ┆               │\n",
      "│ 5405B80E996FF60D ┆ docked_bike   ┆ 2020-04-17 ┆ 2020-04-17 ┆ … ┆ -87.7154  ┆ 41.9306 ┆ -87.7238 ┆ member        │\n",
      "│                  ┆               ┆ 17:08:54   ┆ 17:17:03   ┆   ┆           ┆         ┆          ┆               │\n",
      "│ 5DD24A79A4E006F4 ┆ docked_bike   ┆ 2020-04-01 ┆ 2020-04-01 ┆ … ┆ -87.6179  ┆ 41.8679 ┆ -87.623  ┆ member        │\n",
      "│                  ┆               ┆ 17:54:13   ┆ 18:08:36   ┆   ┆           ┆         ┆          ┆               │\n",
      "│ 2A59BBDF5CDBA725 ┆ docked_bike   ┆ 2020-04-07 ┆ 2020-04-07 ┆ … ┆ -87.6975  ┆ 41.8992 ┆ -87.6722 ┆ member        │\n",
      "│                  ┆               ┆ 12:50:19   ┆ 13:02:31   ┆   ┆           ┆         ┆          ┆               │\n",
      "│ 27AD306C119C6158 ┆ docked_bike   ┆ 2020-04-18 ┆ 2020-04-18 ┆ … ┆ -87.6262  ┆ 41.9695 ┆ -87.6547 ┆ casual        │\n",
      "│                  ┆               ┆ 10:22:59   ┆ 11:15:54   ┆   ┆           ┆         ┆          ┆               │\n",
      "└──────────────────┴───────────────┴────────────┴────────────┴───┴───────────┴─────────┴──────────┴───────────────┘\n"
     ]
    }
   ],
   "source": [
    "import os\n",
    "import polars as pl\n",
    "\n",
    "# List of folder paths\n",
    "folder_paths = [\n",
    "    r\"C:\\Users\\Sowjanya\\OneDrive\\Desktop\\Capstone\\DATA_2020\"\n",
    "]\n",
    "\n",
    "# Create an empty list to store DataFrames\n",
    "dataframes = []\n",
    "\n",
    "# Loop through each folder\n",
    "for folder_path in folder_paths:\n",
    "    # Get a list of all CSV files in the folder\n",
    "    file_list = [f for f in os.listdir(folder_path) if f.endswith('.csv')]\n",
    "    \n",
    "    # Read each file and append to the list\n",
    "    for file in file_list:\n",
    "        file_path = os.path.join(folder_path, file)\n",
    "        df = pl.read_csv(file_path, infer_schema_length=1000)  # Increase schema inference\n",
    "        dataframes.append(df.with_columns([\n",
    "            pl.col(col).cast(pl.Utf8) for col in df.columns  # Convert all columns to string\n",
    "        ]))\n",
    "\n",
    "# Concatenate all DataFrames into one\n",
    "df_final = pl.concat(dataframes, how=\"vertical_relaxed\")  # Allow mismatched schemas\n",
    "\n",
    "# Display the first few rows\n",
    "print(df_final.head())"
   ]
  },
  {
   "cell_type": "code",
   "execution_count": 3,
   "id": "547bfdce-1980-48da-944f-3bff6825399d",
   "metadata": {},
   "outputs": [],
   "source": [
    "df = df_final.clone()"
   ]
  },
  {
   "cell_type": "code",
   "execution_count": 5,
   "id": "dd1a0f5f-ec0e-480c-8a13-494f7cd857ad",
   "metadata": {},
   "outputs": [
    {
     "data": {
      "text/html": [
       "<div><style>\n",
       ".dataframe > thead > tr,\n",
       ".dataframe > tbody > tr {\n",
       "  text-align: right;\n",
       "  white-space: pre-wrap;\n",
       "}\n",
       "</style>\n",
       "<small>shape: (3_114_796, 13)</small><table border=\"1\" class=\"dataframe\"><thead><tr><th>ride_id</th><th>rideable_type</th><th>started_at</th><th>ended_at</th><th>start_station_name</th><th>start_station_id</th><th>end_station_name</th><th>end_station_id</th><th>start_lat</th><th>start_lng</th><th>end_lat</th><th>end_lng</th><th>member_casual</th></tr><tr><td>str</td><td>str</td><td>str</td><td>str</td><td>str</td><td>str</td><td>str</td><td>str</td><td>str</td><td>str</td><td>str</td><td>str</td><td>str</td></tr></thead><tbody><tr><td>&quot;A847FADBBC638E45&quot;</td><td>&quot;docked_bike&quot;</td><td>&quot;2020-04-26 17:45:14&quot;</td><td>&quot;2020-04-26 18:12:03&quot;</td><td>&quot;Eckhart Park&quot;</td><td>&quot;86&quot;</td><td>&quot;Lincoln Ave &amp; Diversey Pkwy&quot;</td><td>&quot;152&quot;</td><td>&quot;41.8964&quot;</td><td>&quot;-87.661&quot;</td><td>&quot;41.9322&quot;</td><td>&quot;-87.6586&quot;</td><td>&quot;member&quot;</td></tr><tr><td>&quot;5405B80E996FF60D&quot;</td><td>&quot;docked_bike&quot;</td><td>&quot;2020-04-17 17:08:54&quot;</td><td>&quot;2020-04-17 17:17:03&quot;</td><td>&quot;Drake Ave &amp; Fullerton Ave&quot;</td><td>&quot;503&quot;</td><td>&quot;Kosciuszko Park&quot;</td><td>&quot;499&quot;</td><td>&quot;41.9244&quot;</td><td>&quot;-87.7154&quot;</td><td>&quot;41.9306&quot;</td><td>&quot;-87.7238&quot;</td><td>&quot;member&quot;</td></tr><tr><td>&quot;5DD24A79A4E006F4&quot;</td><td>&quot;docked_bike&quot;</td><td>&quot;2020-04-01 17:54:13&quot;</td><td>&quot;2020-04-01 18:08:36&quot;</td><td>&quot;McClurg Ct &amp; Erie St&quot;</td><td>&quot;142&quot;</td><td>&quot;Indiana Ave &amp; Roosevelt Rd&quot;</td><td>&quot;255&quot;</td><td>&quot;41.8945&quot;</td><td>&quot;-87.6179&quot;</td><td>&quot;41.8679&quot;</td><td>&quot;-87.623&quot;</td><td>&quot;member&quot;</td></tr><tr><td>&quot;2A59BBDF5CDBA725&quot;</td><td>&quot;docked_bike&quot;</td><td>&quot;2020-04-07 12:50:19&quot;</td><td>&quot;2020-04-07 13:02:31&quot;</td><td>&quot;California Ave &amp; Division St&quot;</td><td>&quot;216&quot;</td><td>&quot;Wood St &amp; Augusta Blvd&quot;</td><td>&quot;657&quot;</td><td>&quot;41.903&quot;</td><td>&quot;-87.6975&quot;</td><td>&quot;41.8992&quot;</td><td>&quot;-87.6722&quot;</td><td>&quot;member&quot;</td></tr><tr><td>&quot;27AD306C119C6158&quot;</td><td>&quot;docked_bike&quot;</td><td>&quot;2020-04-18 10:22:59&quot;</td><td>&quot;2020-04-18 11:15:54&quot;</td><td>&quot;Rush St &amp; Hubbard St&quot;</td><td>&quot;125&quot;</td><td>&quot;Sheridan Rd &amp; Lawrence Ave&quot;</td><td>&quot;323&quot;</td><td>&quot;41.8902&quot;</td><td>&quot;-87.6262&quot;</td><td>&quot;41.9695&quot;</td><td>&quot;-87.6547&quot;</td><td>&quot;casual&quot;</td></tr><tr><td>&hellip;</td><td>&hellip;</td><td>&hellip;</td><td>&hellip;</td><td>&hellip;</td><td>&hellip;</td><td>&hellip;</td><td>&hellip;</td><td>&hellip;</td><td>&hellip;</td><td>&hellip;</td><td>&hellip;</td><td>&hellip;</td></tr><tr><td>&quot;4631EE956BCEA738&quot;</td><td>&quot;classic_bike&quot;</td><td>&quot;2020-12-19 13:59:33&quot;</td><td>&quot;2020-12-19 14:03:21&quot;</td><td>&quot;Rhodes Ave &amp; 32nd St&quot;</td><td>&quot;13215&quot;</td><td>&quot;Indiana Ave &amp; 31st St&quot;</td><td>&quot;TA1308000036&quot;</td><td>&quot;41.836208&quot;</td><td>&quot;-87.613533&quot;</td><td>&quot;41.838842&quot;</td><td>&quot;-87.621857&quot;</td><td>&quot;casual&quot;</td></tr><tr><td>&quot;D17CBEDEA8DBDFF6&quot;</td><td>&quot;electric_bike&quot;</td><td>&quot;2020-12-20 15:48:41&quot;</td><td>&quot;2020-12-20 15:52:14&quot;</td><td>&quot;Rhodes Ave &amp; 32nd St&quot;</td><td>&quot;13215&quot;</td><td>&quot;Indiana Ave &amp; 31st St&quot;</td><td>&quot;TA1308000036&quot;</td><td>&quot;41.836723166666665&quot;</td><td>&quot;-87.61336483333334&quot;</td><td>&quot;41.838722833333335&quot;</td><td>&quot;-87.6218535&quot;</td><td>&quot;member&quot;</td></tr><tr><td>&quot;447A6C67E9AF962E&quot;</td><td>&quot;docked_bike&quot;</td><td>&quot;2020-12-02 16:59:58&quot;</td><td>&quot;2020-12-02 17:08:28&quot;</td><td>&quot;Rhodes Ave &amp; 32nd St&quot;</td><td>&quot;13215&quot;</td><td>&quot;Indiana Ave &amp; 31st St&quot;</td><td>&quot;TA1308000036&quot;</td><td>&quot;41.836208&quot;</td><td>&quot;-87.613533&quot;</td><td>&quot;41.838842&quot;</td><td>&quot;-87.621857&quot;</td><td>&quot;member&quot;</td></tr><tr><td>&quot;F558C17E95751C62&quot;</td><td>&quot;electric_bike&quot;</td><td>&quot;2020-12-20 18:06:52&quot;</td><td>&quot;2020-12-20 18:09:53&quot;</td><td>&quot;Rhodes Ave &amp; 32nd St&quot;</td><td>&quot;13215&quot;</td><td>&quot;Indiana Ave &amp; 31st St&quot;</td><td>&quot;TA1308000036&quot;</td><td>&quot;41.836734166666666&quot;</td><td>&quot;-87.61339383333333&quot;</td><td>&quot;41.8387495&quot;</td><td>&quot;-87.621862&quot;</td><td>&quot;member&quot;</td></tr><tr><td>&quot;E1888F4B274EEA12&quot;</td><td>&quot;electric_bike&quot;</td><td>&quot;2020-12-03 09:43:42&quot;</td><td>&quot;2020-12-03 09:47:14&quot;</td><td>&quot;Rhodes Ave &amp; 32nd St&quot;</td><td>&quot;13215&quot;</td><td>&quot;Indiana Ave &amp; 31st St&quot;</td><td>&quot;TA1308000036&quot;</td><td>&quot;41.836766&quot;</td><td>&quot;-87.6133655&quot;</td><td>&quot;41.8386805&quot;</td><td>&quot;-87.62185366666667&quot;</td><td>&quot;member&quot;</td></tr></tbody></table></div>"
      ],
      "text/plain": [
       "shape: (3_114_796, 13)\n",
       "┌──────────────┬──────────────┬──────────────┬─────────────┬───┬─────────────┬─────────────┬─────────────┬─────────────┐\n",
       "│ ride_id      ┆ rideable_typ ┆ started_at   ┆ ended_at    ┆ … ┆ start_lng   ┆ end_lat     ┆ end_lng     ┆ member_casu │\n",
       "│ ---          ┆ e            ┆ ---          ┆ ---         ┆   ┆ ---         ┆ ---         ┆ ---         ┆ al          │\n",
       "│ str          ┆ ---          ┆ str          ┆ str         ┆   ┆ str         ┆ str         ┆ str         ┆ ---         │\n",
       "│              ┆ str          ┆              ┆             ┆   ┆             ┆             ┆             ┆ str         │\n",
       "╞══════════════╪══════════════╪══════════════╪═════════════╪═══╪═════════════╪═════════════╪═════════════╪═════════════╡\n",
       "│ A847FADBBC63 ┆ docked_bike  ┆ 2020-04-26   ┆ 2020-04-26  ┆ … ┆ -87.661     ┆ 41.9322     ┆ -87.6586    ┆ member      │\n",
       "│ 8E45         ┆              ┆ 17:45:14     ┆ 18:12:03    ┆   ┆             ┆             ┆             ┆             │\n",
       "│ 5405B80E996F ┆ docked_bike  ┆ 2020-04-17   ┆ 2020-04-17  ┆ … ┆ -87.7154    ┆ 41.9306     ┆ -87.7238    ┆ member      │\n",
       "│ F60D         ┆              ┆ 17:08:54     ┆ 17:17:03    ┆   ┆             ┆             ┆             ┆             │\n",
       "│ 5DD24A79A4E0 ┆ docked_bike  ┆ 2020-04-01   ┆ 2020-04-01  ┆ … ┆ -87.6179    ┆ 41.8679     ┆ -87.623     ┆ member      │\n",
       "│ 06F4         ┆              ┆ 17:54:13     ┆ 18:08:36    ┆   ┆             ┆             ┆             ┆             │\n",
       "│ 2A59BBDF5CDB ┆ docked_bike  ┆ 2020-04-07   ┆ 2020-04-07  ┆ … ┆ -87.6975    ┆ 41.8992     ┆ -87.6722    ┆ member      │\n",
       "│ A725         ┆              ┆ 12:50:19     ┆ 13:02:31    ┆   ┆             ┆             ┆             ┆             │\n",
       "│ 27AD306C119C ┆ docked_bike  ┆ 2020-04-18   ┆ 2020-04-18  ┆ … ┆ -87.6262    ┆ 41.9695     ┆ -87.6547    ┆ casual      │\n",
       "│ 6158         ┆              ┆ 10:22:59     ┆ 11:15:54    ┆   ┆             ┆             ┆             ┆             │\n",
       "│ …            ┆ …            ┆ …            ┆ …           ┆ … ┆ …           ┆ …           ┆ …           ┆ …           │\n",
       "│ 4631EE956BCE ┆ classic_bike ┆ 2020-12-19   ┆ 2020-12-19  ┆ … ┆ -87.613533  ┆ 41.838842   ┆ -87.621857  ┆ casual      │\n",
       "│ A738         ┆              ┆ 13:59:33     ┆ 14:03:21    ┆   ┆             ┆             ┆             ┆             │\n",
       "│ D17CBEDEA8DB ┆ electric_bik ┆ 2020-12-20   ┆ 2020-12-20  ┆ … ┆ -87.6133648 ┆ 41.83872283 ┆ -87.6218535 ┆ member      │\n",
       "│ DFF6         ┆ e            ┆ 15:48:41     ┆ 15:52:14    ┆   ┆ 3333334     ┆ 3333335     ┆             ┆             │\n",
       "│ 447A6C67E9AF ┆ docked_bike  ┆ 2020-12-02   ┆ 2020-12-02  ┆ … ┆ -87.613533  ┆ 41.838842   ┆ -87.621857  ┆ member      │\n",
       "│ 962E         ┆              ┆ 16:59:58     ┆ 17:08:28    ┆   ┆             ┆             ┆             ┆             │\n",
       "│ F558C17E9575 ┆ electric_bik ┆ 2020-12-20   ┆ 2020-12-20  ┆ … ┆ -87.6133938 ┆ 41.8387495  ┆ -87.621862  ┆ member      │\n",
       "│ 1C62         ┆ e            ┆ 18:06:52     ┆ 18:09:53    ┆   ┆ 3333333     ┆             ┆             ┆             │\n",
       "│ E1888F4B274E ┆ electric_bik ┆ 2020-12-03   ┆ 2020-12-03  ┆ … ┆ -87.6133655 ┆ 41.8386805  ┆ -87.6218536 ┆ member      │\n",
       "│ EA12         ┆ e            ┆ 09:43:42     ┆ 09:47:14    ┆   ┆             ┆             ┆ 6666667     ┆             │\n",
       "└──────────────┴──────────────┴──────────────┴─────────────┴───┴─────────────┴─────────────┴─────────────┴─────────────┘"
      ]
     },
     "execution_count": 5,
     "metadata": {},
     "output_type": "execute_result"
    }
   ],
   "source": [
    "df"
   ]
  },
  {
   "cell_type": "code",
   "execution_count": 7,
   "id": "d0532abc-7dfe-4e6d-b5eb-ed88bf8fb1c7",
   "metadata": {},
   "outputs": [
    {
     "name": "stdout",
     "output_type": "stream",
     "text": [
      "shape: (1, 13)\n",
      "┌─────────┬───────────────┬────────────┬──────────┬───┬───────────┬─────────┬─────────┬───────────────┐\n",
      "│ ride_id ┆ rideable_type ┆ started_at ┆ ended_at ┆ … ┆ start_lng ┆ end_lat ┆ end_lng ┆ member_casual │\n",
      "│ ---     ┆ ---           ┆ ---        ┆ ---      ┆   ┆ ---       ┆ ---     ┆ ---     ┆ ---           │\n",
      "│ u32     ┆ u32           ┆ u32        ┆ u32      ┆   ┆ u32       ┆ u32     ┆ u32     ┆ u32           │\n",
      "╞═════════╪═══════════════╪════════════╪══════════╪═══╪═══════════╪═════════╪═════════╪═══════════════╡\n",
      "│ 0       ┆ 0             ┆ 0          ┆ 0        ┆ … ┆ 0         ┆ 4254    ┆ 4254    ┆ 0             │\n",
      "└─────────┴───────────────┴────────────┴──────────┴───┴───────────┴─────────┴─────────┴───────────────┘\n"
     ]
    }
   ],
   "source": [
    "# Step 1: Count missing values in each column\n",
    "missing_values = df.null_count()\n",
    "print(missing_values)"
   ]
  },
  {
   "cell_type": "code",
   "execution_count": 9,
   "id": "b09e57e6-fde8-4245-a799-d20db69d2275",
   "metadata": {},
   "outputs": [
    {
     "name": "stdout",
     "output_type": "stream",
     "text": [
      "Number of removed records: 4254\n",
      "\n",
      "Records removed (stored separately):\n",
      "shape: (4_254, 13)\n",
      "┌───────────────┬───────────────┬───────────────┬───────────────┬───┬───────────────┬─────────┬─────────┬──────────────┐\n",
      "│ ride_id       ┆ rideable_type ┆ started_at    ┆ ended_at      ┆ … ┆ start_lng     ┆ end_lat ┆ end_lng ┆ member_casua │\n",
      "│ ---           ┆ ---           ┆ ---           ┆ ---           ┆   ┆ ---           ┆ ---     ┆ ---     ┆ l            │\n",
      "│ str           ┆ str           ┆ str           ┆ str           ┆   ┆ str           ┆ str     ┆ str     ┆ ---          │\n",
      "│               ┆               ┆               ┆               ┆   ┆               ┆         ┆         ┆ str          │\n",
      "╞═══════════════╪═══════════════╪═══════════════╪═══════════════╪═══╪═══════════════╪═════════╪═════════╪══════════════╡\n",
      "│ 5E2BD03BCA180 ┆ docked_bike   ┆ 2020-04-07    ┆ 2020-04-07    ┆ … ┆ -87.6347      ┆ null    ┆ null    ┆ member       │\n",
      "│ FBA           ┆               ┆ 11:53:08      ┆ 12:28:35      ┆   ┆               ┆         ┆         ┆              │\n",
      "│ BD5813A6101E9 ┆ docked_bike   ┆ 2020-04-20    ┆ 2020-04-20    ┆ … ┆ -87.659       ┆ null    ┆ null    ┆ member       │\n",
      "│ BF4           ┆               ┆ 12:24:48      ┆ 12:29:46      ┆   ┆               ┆         ┆         ┆              │\n",
      "│ 228691849C208 ┆ docked_bike   ┆ 2020-04-16    ┆ 2020-04-16    ┆ … ┆ -87.6565      ┆ null    ┆ null    ┆ member       │\n",
      "│ 1EE           ┆               ┆ 08:41:56      ┆ 11:33:48      ┆   ┆               ┆         ┆         ┆              │\n",
      "│ ED7750BCEEE87 ┆ docked_bike   ┆ 2020-04-09    ┆ 2020-04-09    ┆ … ┆ -87.6511      ┆ null    ┆ null    ┆ casual       │\n",
      "│ 174           ┆               ┆ 15:33:45      ┆ 16:34:54      ┆   ┆               ┆         ┆         ┆              │\n",
      "│ 1E00C457DCDA0 ┆ docked_bike   ┆ 2020-04-25    ┆ 2020-04-25    ┆ … ┆ -87.6368      ┆ null    ┆ null    ┆ member       │\n",
      "│ 835           ┆               ┆ 06:52:02      ┆ 07:17:54      ┆   ┆               ┆         ┆         ┆              │\n",
      "│ …             ┆ …             ┆ …             ┆ …             ┆ … ┆ …             ┆ …       ┆ …       ┆ …            │\n",
      "│ 945F8FA075937 ┆ docked_bike   ┆ 2020-12-03    ┆ 2020-12-03    ┆ … ┆ -87.648043    ┆ null    ┆ null    ┆ member       │\n",
      "│ F8E           ┆               ┆ 10:44:14      ┆ 12:20:14      ┆   ┆               ┆         ┆         ┆              │\n",
      "│ E5040679D5D57 ┆ classic_bike  ┆ 2020-12-22    ┆ 2020-12-22    ┆ … ┆ -87.648043    ┆ null    ┆ null    ┆ member       │\n",
      "│ 3A1           ┆               ┆ 17:15:30      ┆ 17:51:20      ┆   ┆               ┆         ┆         ┆              │\n",
      "│ D11F2C628C63E ┆ classic_bike  ┆ 2020-12-22    ┆ 2020-12-22    ┆ … ┆ -87.596471    ┆ null    ┆ null    ┆ member       │\n",
      "│ 035           ┆               ┆ 06:43:16      ┆ 10:35:09      ┆   ┆               ┆         ┆         ┆              │\n",
      "│ EC92911EA34C4 ┆ classic_bike  ┆ 2020-12-10    ┆ 2020-12-10    ┆ … ┆ -87.705280487 ┆ null    ┆ null    ┆ casual       │\n",
      "│ 979           ┆               ┆ 14:31:18      ┆ 17:06:08      ┆   ┆ 1             ┆         ┆         ┆              │\n",
      "│ 6A51FE6BAFCDA ┆ docked_bike   ┆ 2020-12-01    ┆ 2020-12-01    ┆ … ┆ -87.651073    ┆ null    ┆ null    ┆ member       │\n",
      "│ BE8           ┆               ┆ 08:00:12      ┆ 10:01:57      ┆   ┆               ┆         ┆         ┆              │\n",
      "└───────────────┴───────────────┴───────────────┴───────────────┴───┴───────────────┴─────────┴─────────┴──────────────┘\n",
      "\n",
      "Updated DataFrame after removal:\n",
      "shape: (3_110_542, 13)\n",
      "┌──────────────┬──────────────┬──────────────┬─────────────┬───┬─────────────┬─────────────┬─────────────┬─────────────┐\n",
      "│ ride_id      ┆ rideable_typ ┆ started_at   ┆ ended_at    ┆ … ┆ start_lng   ┆ end_lat     ┆ end_lng     ┆ member_casu │\n",
      "│ ---          ┆ e            ┆ ---          ┆ ---         ┆   ┆ ---         ┆ ---         ┆ ---         ┆ al          │\n",
      "│ str          ┆ ---          ┆ str          ┆ str         ┆   ┆ str         ┆ str         ┆ str         ┆ ---         │\n",
      "│              ┆ str          ┆              ┆             ┆   ┆             ┆             ┆             ┆ str         │\n",
      "╞══════════════╪══════════════╪══════════════╪═════════════╪═══╪═════════════╪═════════════╪═════════════╪═════════════╡\n",
      "│ A847FADBBC63 ┆ docked_bike  ┆ 2020-04-26   ┆ 2020-04-26  ┆ … ┆ -87.661     ┆ 41.9322     ┆ -87.6586    ┆ member      │\n",
      "│ 8E45         ┆              ┆ 17:45:14     ┆ 18:12:03    ┆   ┆             ┆             ┆             ┆             │\n",
      "│ 5405B80E996F ┆ docked_bike  ┆ 2020-04-17   ┆ 2020-04-17  ┆ … ┆ -87.7154    ┆ 41.9306     ┆ -87.7238    ┆ member      │\n",
      "│ F60D         ┆              ┆ 17:08:54     ┆ 17:17:03    ┆   ┆             ┆             ┆             ┆             │\n",
      "│ 5DD24A79A4E0 ┆ docked_bike  ┆ 2020-04-01   ┆ 2020-04-01  ┆ … ┆ -87.6179    ┆ 41.8679     ┆ -87.623     ┆ member      │\n",
      "│ 06F4         ┆              ┆ 17:54:13     ┆ 18:08:36    ┆   ┆             ┆             ┆             ┆             │\n",
      "│ 2A59BBDF5CDB ┆ docked_bike  ┆ 2020-04-07   ┆ 2020-04-07  ┆ … ┆ -87.6975    ┆ 41.8992     ┆ -87.6722    ┆ member      │\n",
      "│ A725         ┆              ┆ 12:50:19     ┆ 13:02:31    ┆   ┆             ┆             ┆             ┆             │\n",
      "│ 27AD306C119C ┆ docked_bike  ┆ 2020-04-18   ┆ 2020-04-18  ┆ … ┆ -87.6262    ┆ 41.9695     ┆ -87.6547    ┆ casual      │\n",
      "│ 6158         ┆              ┆ 10:22:59     ┆ 11:15:54    ┆   ┆             ┆             ┆             ┆             │\n",
      "│ …            ┆ …            ┆ …            ┆ …           ┆ … ┆ …           ┆ …           ┆ …           ┆ …           │\n",
      "│ 4631EE956BCE ┆ classic_bike ┆ 2020-12-19   ┆ 2020-12-19  ┆ … ┆ -87.613533  ┆ 41.838842   ┆ -87.621857  ┆ casual      │\n",
      "│ A738         ┆              ┆ 13:59:33     ┆ 14:03:21    ┆   ┆             ┆             ┆             ┆             │\n",
      "│ D17CBEDEA8DB ┆ electric_bik ┆ 2020-12-20   ┆ 2020-12-20  ┆ … ┆ -87.6133648 ┆ 41.83872283 ┆ -87.6218535 ┆ member      │\n",
      "│ DFF6         ┆ e            ┆ 15:48:41     ┆ 15:52:14    ┆   ┆ 3333334     ┆ 3333335     ┆             ┆             │\n",
      "│ 447A6C67E9AF ┆ docked_bike  ┆ 2020-12-02   ┆ 2020-12-02  ┆ … ┆ -87.613533  ┆ 41.838842   ┆ -87.621857  ┆ member      │\n",
      "│ 962E         ┆              ┆ 16:59:58     ┆ 17:08:28    ┆   ┆             ┆             ┆             ┆             │\n",
      "│ F558C17E9575 ┆ electric_bik ┆ 2020-12-20   ┆ 2020-12-20  ┆ … ┆ -87.6133938 ┆ 41.8387495  ┆ -87.621862  ┆ member      │\n",
      "│ 1C62         ┆ e            ┆ 18:06:52     ┆ 18:09:53    ┆   ┆ 3333333     ┆             ┆             ┆             │\n",
      "│ E1888F4B274E ┆ electric_bik ┆ 2020-12-03   ┆ 2020-12-03  ┆ … ┆ -87.6133655 ┆ 41.8386805  ┆ -87.6218536 ┆ member      │\n",
      "│ EA12         ┆ e            ┆ 09:43:42     ┆ 09:47:14    ┆   ┆             ┆             ┆ 6666667     ┆             │\n",
      "└──────────────┴──────────────┴──────────────┴─────────────┴───┴─────────────┴─────────────┴─────────────┴─────────────┘\n"
     ]
    }
   ],
   "source": [
    "# Step 2: Identify and store records where both 'end_lat' and 'end_lng' are null\n",
    "missing_end_lat_lng = df.filter(pl.col(\"end_lat\").is_null() & pl.col(\"end_lng\").is_null()).clone()\n",
    "\n",
    "# Step 3: Remove these records from the original DataFrame\n",
    "df_cleaned = df.drop_nulls(subset=[\"end_lat\", \"end_lng\"])\n",
    "\n",
    "# Display results\n",
    "print(f\"Number of removed records: {missing_end_lat_lng.shape[0]}\")\n",
    "print(\"\\nRecords removed (stored separately):\")\n",
    "print(missing_end_lat_lng)\n",
    "\n",
    "print(\"\\nUpdated DataFrame after removal:\")\n",
    "print(df_cleaned)"
   ]
  },
  {
   "cell_type": "code",
   "execution_count": 104,
   "id": "be50f9d1-fc2c-4c3a-84af-61e859b9b6ef",
   "metadata": {},
   "outputs": [],
   "source": [
    "df_cleaned = df_cleaned.with_columns(\n",
    "    pl.col(\"started_at\").str.split(\" \").alias(\"split_col\")\n",
    ").with_columns(\n",
    "    pl.col(\"split_col\").list.get(0).alias(\"start_date\"),\n",
    "    pl.col(\"split_col\").list.get(1).alias(\"start_time\")\n",
    ").drop(\"split_col\")  # Optional: Remove the temporary column"
   ]
  },
  {
   "cell_type": "code",
   "execution_count": 105,
   "id": "a8884c73-13d5-4e34-b13c-85889d740bcf",
   "metadata": {},
   "outputs": [],
   "source": [
    "# Split 'started_at' into 'start_date' and 'start_time'\n",
    "df_cleaned = df_cleaned.with_columns(\n",
    "    pl.col(\"started_at\").str.split(\" \").alias(\"split_start\")\n",
    ").with_columns(\n",
    "    pl.col(\"split_start\").list.get(0).alias(\"start_date\"),\n",
    "    pl.col(\"split_start\").list.get(1).alias(\"start_time\")\n",
    ").drop(\"split_start\")  # Optional cleanup\n",
    "\n",
    "# Remove milliseconds from 'start_time'\n",
    "df_cleaned = df_cleaned.with_columns(\n",
    "    pl.col(\"start_time\").str.split(\".\").list.get(0)\n",
    ")\n",
    "\n",
    "# Convert 'start_date' and 'start_time' to datetime\n",
    "df_cleaned = df_cleaned.with_columns(\n",
    "    (pl.col(\"start_date\") + \" \" + pl.col(\"start_time\")).str.strptime(pl.Datetime, \"%Y-%m-%d %H:%M:%S\").alias(\"started_at\")\n",
    ")\n",
    "\n",
    "# Split 'ended_at' into 'end_date' and 'end_time'\n",
    "df_cleaned = df_cleaned.with_columns(\n",
    "    pl.col(\"ended_at\").str.split(\" \").alias(\"split_end\")\n",
    ").with_columns(\n",
    "    pl.col(\"split_end\").list.get(0).alias(\"end_date\"),\n",
    "    pl.col(\"split_end\").list.get(1).alias(\"end_time\")\n",
    ").drop(\"split_end\")  # Optional cleanup\n",
    "\n",
    "# Remove milliseconds from 'end_time'\n",
    "df_cleaned = df_cleaned.with_columns(\n",
    "    pl.col(\"end_time\").str.split(\".\").list.get(0)\n",
    ")\n"
   ]
  },
  {
   "cell_type": "code",
   "execution_count": 110,
   "id": "54ed8ea7-ac2a-4328-8549-93f9b5d469ed",
   "metadata": {},
   "outputs": [],
   "source": [
    "# Convert 'start_date' and 'start_time' to datetime\n",
    "df_cleaned = df_cleaned.with_columns(\n",
    "    (pl.col(\"end_date\") + \" \" + pl.col(\"end_time\")).str.strptime(pl.Datetime, \"%Y-%m-%d %H:%M:%S\").alias(\"ended_at\")\n",
    ")"
   ]
  },
  {
   "cell_type": "code",
   "execution_count": 126,
   "id": "ad7ca86e-48a1-42d6-8561-a2ef11fdab8c",
   "metadata": {},
   "outputs": [
    {
     "data": {
      "text/html": [
       "<div><style>\n",
       ".dataframe > thead > tr,\n",
       ".dataframe > tbody > tr {\n",
       "  text-align: right;\n",
       "  white-space: pre-wrap;\n",
       "}\n",
       "</style>\n",
       "<small>shape: (3_110_542, 16)</small><table border=\"1\" class=\"dataframe\"><thead><tr><th>ride_id</th><th>rideable_type</th><th>started_at</th><th>ended_at</th><th>start_station_name</th><th>end_station_name</th><th>start_lat</th><th>start_lng</th><th>end_lat</th><th>end_lng</th><th>member_casual</th><th>start_date</th><th>start_time</th><th>end_date</th><th>end_time</th><th>duration</th></tr><tr><td>str</td><td>str</td><td>datetime[μs]</td><td>datetime[μs]</td><td>str</td><td>str</td><td>str</td><td>str</td><td>str</td><td>str</td><td>str</td><td>str</td><td>str</td><td>str</td><td>str</td><td>duration[μs]</td></tr></thead><tbody><tr><td>&quot;A847FADBBC638E45&quot;</td><td>&quot;docked_bike&quot;</td><td>2020-04-26 17:45:14</td><td>2020-04-26 18:12:03</td><td>&quot;Eckhart Park&quot;</td><td>&quot;Lincoln Ave &amp; Diversey Pkwy&quot;</td><td>&quot;41.8964&quot;</td><td>&quot;-87.661&quot;</td><td>&quot;41.9322&quot;</td><td>&quot;-87.6586&quot;</td><td>&quot;member&quot;</td><td>&quot;2020-04-26&quot;</td><td>&quot;17:45:14&quot;</td><td>&quot;2020-04-26&quot;</td><td>&quot;18:12:03&quot;</td><td>26m 49s</td></tr><tr><td>&quot;5405B80E996FF60D&quot;</td><td>&quot;docked_bike&quot;</td><td>2020-04-17 17:08:54</td><td>2020-04-17 17:17:03</td><td>&quot;Drake Ave &amp; Fullerton Ave&quot;</td><td>&quot;Kosciuszko Park&quot;</td><td>&quot;41.9244&quot;</td><td>&quot;-87.7154&quot;</td><td>&quot;41.9306&quot;</td><td>&quot;-87.7238&quot;</td><td>&quot;member&quot;</td><td>&quot;2020-04-17&quot;</td><td>&quot;17:08:54&quot;</td><td>&quot;2020-04-17&quot;</td><td>&quot;17:17:03&quot;</td><td>8m 9s</td></tr><tr><td>&quot;5DD24A79A4E006F4&quot;</td><td>&quot;docked_bike&quot;</td><td>2020-04-01 17:54:13</td><td>2020-04-01 18:08:36</td><td>&quot;McClurg Ct &amp; Erie St&quot;</td><td>&quot;Indiana Ave &amp; Roosevelt Rd&quot;</td><td>&quot;41.8945&quot;</td><td>&quot;-87.6179&quot;</td><td>&quot;41.8679&quot;</td><td>&quot;-87.623&quot;</td><td>&quot;member&quot;</td><td>&quot;2020-04-01&quot;</td><td>&quot;17:54:13&quot;</td><td>&quot;2020-04-01&quot;</td><td>&quot;18:08:36&quot;</td><td>14m 23s</td></tr><tr><td>&quot;2A59BBDF5CDBA725&quot;</td><td>&quot;docked_bike&quot;</td><td>2020-04-07 12:50:19</td><td>2020-04-07 13:02:31</td><td>&quot;California Ave &amp; Division St&quot;</td><td>&quot;Wood St &amp; Augusta Blvd&quot;</td><td>&quot;41.903&quot;</td><td>&quot;-87.6975&quot;</td><td>&quot;41.8992&quot;</td><td>&quot;-87.6722&quot;</td><td>&quot;member&quot;</td><td>&quot;2020-04-07&quot;</td><td>&quot;12:50:19&quot;</td><td>&quot;2020-04-07&quot;</td><td>&quot;13:02:31&quot;</td><td>12m 12s</td></tr><tr><td>&quot;27AD306C119C6158&quot;</td><td>&quot;docked_bike&quot;</td><td>2020-04-18 10:22:59</td><td>2020-04-18 11:15:54</td><td>&quot;Rush St &amp; Hubbard St&quot;</td><td>&quot;Sheridan Rd &amp; Lawrence Ave&quot;</td><td>&quot;41.8902&quot;</td><td>&quot;-87.6262&quot;</td><td>&quot;41.9695&quot;</td><td>&quot;-87.6547&quot;</td><td>&quot;casual&quot;</td><td>&quot;2020-04-18&quot;</td><td>&quot;10:22:59&quot;</td><td>&quot;2020-04-18&quot;</td><td>&quot;11:15:54&quot;</td><td>52m 55s</td></tr><tr><td>&hellip;</td><td>&hellip;</td><td>&hellip;</td><td>&hellip;</td><td>&hellip;</td><td>&hellip;</td><td>&hellip;</td><td>&hellip;</td><td>&hellip;</td><td>&hellip;</td><td>&hellip;</td><td>&hellip;</td><td>&hellip;</td><td>&hellip;</td><td>&hellip;</td><td>&hellip;</td></tr><tr><td>&quot;4631EE956BCEA738&quot;</td><td>&quot;classic_bike&quot;</td><td>2020-12-19 13:59:33</td><td>2020-12-19 14:03:21</td><td>&quot;Rhodes Ave &amp; 32nd St&quot;</td><td>&quot;Indiana Ave &amp; 31st St&quot;</td><td>&quot;41.836208&quot;</td><td>&quot;-87.613533&quot;</td><td>&quot;41.838842&quot;</td><td>&quot;-87.621857&quot;</td><td>&quot;casual&quot;</td><td>&quot;2020-12-19&quot;</td><td>&quot;13:59:33&quot;</td><td>&quot;2020-12-19&quot;</td><td>&quot;14:03:21&quot;</td><td>3m 48s</td></tr><tr><td>&quot;D17CBEDEA8DBDFF6&quot;</td><td>&quot;electric_bike&quot;</td><td>2020-12-20 15:48:41</td><td>2020-12-20 15:52:14</td><td>&quot;Rhodes Ave &amp; 32nd St&quot;</td><td>&quot;Indiana Ave &amp; 31st St&quot;</td><td>&quot;41.836723166666665&quot;</td><td>&quot;-87.61336483333334&quot;</td><td>&quot;41.838722833333335&quot;</td><td>&quot;-87.6218535&quot;</td><td>&quot;member&quot;</td><td>&quot;2020-12-20&quot;</td><td>&quot;15:48:41&quot;</td><td>&quot;2020-12-20&quot;</td><td>&quot;15:52:14&quot;</td><td>3m 33s</td></tr><tr><td>&quot;447A6C67E9AF962E&quot;</td><td>&quot;docked_bike&quot;</td><td>2020-12-02 16:59:58</td><td>2020-12-02 17:08:28</td><td>&quot;Rhodes Ave &amp; 32nd St&quot;</td><td>&quot;Indiana Ave &amp; 31st St&quot;</td><td>&quot;41.836208&quot;</td><td>&quot;-87.613533&quot;</td><td>&quot;41.838842&quot;</td><td>&quot;-87.621857&quot;</td><td>&quot;member&quot;</td><td>&quot;2020-12-02&quot;</td><td>&quot;16:59:58&quot;</td><td>&quot;2020-12-02&quot;</td><td>&quot;17:08:28&quot;</td><td>8m 30s</td></tr><tr><td>&quot;F558C17E95751C62&quot;</td><td>&quot;electric_bike&quot;</td><td>2020-12-20 18:06:52</td><td>2020-12-20 18:09:53</td><td>&quot;Rhodes Ave &amp; 32nd St&quot;</td><td>&quot;Indiana Ave &amp; 31st St&quot;</td><td>&quot;41.836734166666666&quot;</td><td>&quot;-87.61339383333333&quot;</td><td>&quot;41.8387495&quot;</td><td>&quot;-87.621862&quot;</td><td>&quot;member&quot;</td><td>&quot;2020-12-20&quot;</td><td>&quot;18:06:52&quot;</td><td>&quot;2020-12-20&quot;</td><td>&quot;18:09:53&quot;</td><td>3m 1s</td></tr><tr><td>&quot;E1888F4B274EEA12&quot;</td><td>&quot;electric_bike&quot;</td><td>2020-12-03 09:43:42</td><td>2020-12-03 09:47:14</td><td>&quot;Rhodes Ave &amp; 32nd St&quot;</td><td>&quot;Indiana Ave &amp; 31st St&quot;</td><td>&quot;41.836766&quot;</td><td>&quot;-87.6133655&quot;</td><td>&quot;41.8386805&quot;</td><td>&quot;-87.62185366666667&quot;</td><td>&quot;member&quot;</td><td>&quot;2020-12-03&quot;</td><td>&quot;09:43:42&quot;</td><td>&quot;2020-12-03&quot;</td><td>&quot;09:47:14&quot;</td><td>3m 32s</td></tr></tbody></table></div>"
      ],
      "text/plain": [
       "shape: (3_110_542, 16)\n",
       "┌───────────────┬───────────────┬───────────────┬──────────────┬───┬────────────┬────────────┬──────────┬──────────────┐\n",
       "│ ride_id       ┆ rideable_type ┆ started_at    ┆ ended_at     ┆ … ┆ start_time ┆ end_date   ┆ end_time ┆ duration     │\n",
       "│ ---           ┆ ---           ┆ ---           ┆ ---          ┆   ┆ ---        ┆ ---        ┆ ---      ┆ ---          │\n",
       "│ str           ┆ str           ┆ datetime[μs]  ┆ datetime[μs] ┆   ┆ str        ┆ str        ┆ str      ┆ duration[μs] │\n",
       "╞═══════════════╪═══════════════╪═══════════════╪══════════════╪═══╪════════════╪════════════╪══════════╪══════════════╡\n",
       "│ A847FADBBC638 ┆ docked_bike   ┆ 2020-04-26    ┆ 2020-04-26   ┆ … ┆ 17:45:14   ┆ 2020-04-26 ┆ 18:12:03 ┆ 26m 49s      │\n",
       "│ E45           ┆               ┆ 17:45:14      ┆ 18:12:03     ┆   ┆            ┆            ┆          ┆              │\n",
       "│ 5405B80E996FF ┆ docked_bike   ┆ 2020-04-17    ┆ 2020-04-17   ┆ … ┆ 17:08:54   ┆ 2020-04-17 ┆ 17:17:03 ┆ 8m 9s        │\n",
       "│ 60D           ┆               ┆ 17:08:54      ┆ 17:17:03     ┆   ┆            ┆            ┆          ┆              │\n",
       "│ 5DD24A79A4E00 ┆ docked_bike   ┆ 2020-04-01    ┆ 2020-04-01   ┆ … ┆ 17:54:13   ┆ 2020-04-01 ┆ 18:08:36 ┆ 14m 23s      │\n",
       "│ 6F4           ┆               ┆ 17:54:13      ┆ 18:08:36     ┆   ┆            ┆            ┆          ┆              │\n",
       "│ 2A59BBDF5CDBA ┆ docked_bike   ┆ 2020-04-07    ┆ 2020-04-07   ┆ … ┆ 12:50:19   ┆ 2020-04-07 ┆ 13:02:31 ┆ 12m 12s      │\n",
       "│ 725           ┆               ┆ 12:50:19      ┆ 13:02:31     ┆   ┆            ┆            ┆          ┆              │\n",
       "│ 27AD306C119C6 ┆ docked_bike   ┆ 2020-04-18    ┆ 2020-04-18   ┆ … ┆ 10:22:59   ┆ 2020-04-18 ┆ 11:15:54 ┆ 52m 55s      │\n",
       "│ 158           ┆               ┆ 10:22:59      ┆ 11:15:54     ┆   ┆            ┆            ┆          ┆              │\n",
       "│ …             ┆ …             ┆ …             ┆ …            ┆ … ┆ …          ┆ …          ┆ …        ┆ …            │\n",
       "│ 4631EE956BCEA ┆ classic_bike  ┆ 2020-12-19    ┆ 2020-12-19   ┆ … ┆ 13:59:33   ┆ 2020-12-19 ┆ 14:03:21 ┆ 3m 48s       │\n",
       "│ 738           ┆               ┆ 13:59:33      ┆ 14:03:21     ┆   ┆            ┆            ┆          ┆              │\n",
       "│ D17CBEDEA8DBD ┆ electric_bike ┆ 2020-12-20    ┆ 2020-12-20   ┆ … ┆ 15:48:41   ┆ 2020-12-20 ┆ 15:52:14 ┆ 3m 33s       │\n",
       "│ FF6           ┆               ┆ 15:48:41      ┆ 15:52:14     ┆   ┆            ┆            ┆          ┆              │\n",
       "│ 447A6C67E9AF9 ┆ docked_bike   ┆ 2020-12-02    ┆ 2020-12-02   ┆ … ┆ 16:59:58   ┆ 2020-12-02 ┆ 17:08:28 ┆ 8m 30s       │\n",
       "│ 62E           ┆               ┆ 16:59:58      ┆ 17:08:28     ┆   ┆            ┆            ┆          ┆              │\n",
       "│ F558C17E95751 ┆ electric_bike ┆ 2020-12-20    ┆ 2020-12-20   ┆ … ┆ 18:06:52   ┆ 2020-12-20 ┆ 18:09:53 ┆ 3m 1s        │\n",
       "│ C62           ┆               ┆ 18:06:52      ┆ 18:09:53     ┆   ┆            ┆            ┆          ┆              │\n",
       "│ E1888F4B274EE ┆ electric_bike ┆ 2020-12-03    ┆ 2020-12-03   ┆ … ┆ 09:43:42   ┆ 2020-12-03 ┆ 09:47:14 ┆ 3m 32s       │\n",
       "│ A12           ┆               ┆ 09:43:42      ┆ 09:47:14     ┆   ┆            ┆            ┆          ┆              │\n",
       "└───────────────┴───────────────┴───────────────┴──────────────┴───┴────────────┴────────────┴──────────┴──────────────┘"
      ]
     },
     "execution_count": 126,
     "metadata": {},
     "output_type": "execute_result"
    }
   ],
   "source": [
    "df_cleaned"
   ]
  },
  {
   "cell_type": "code",
   "execution_count": 114,
   "id": "304e6ccd-081f-4f1d-979e-55f6aaff6b4d",
   "metadata": {},
   "outputs": [],
   "source": [
    "df_cleaned = df_cleaned.drop([\"start_station_id\", \"end_station_id\"])\n"
   ]
  },
  {
   "cell_type": "code",
   "execution_count": 115,
   "id": "a3c98e6a-a9fd-4dbf-9ddd-72e453acad38",
   "metadata": {},
   "outputs": [],
   "source": [
    "df_cleaned = df_cleaned.with_columns(\n",
    "    (pl.col(\"ended_at\") - pl.col(\"started_at\")).alias(\"duration\")\n",
    ")\n"
   ]
  },
  {
   "cell_type": "code",
   "execution_count": 130,
   "id": "670aa5a2-afe4-4a7b-9461-adbedf2e5e77",
   "metadata": {},
   "outputs": [
    {
     "name": "stdout",
     "output_type": "stream",
     "text": [
      "shape: (83_268, 16)\n",
      "┌───────────────┬───────────────┬───────────────┬──────────────┬───┬────────────┬────────────┬──────────┬──────────────┐\n",
      "│ ride_id       ┆ rideable_type ┆ started_at    ┆ ended_at     ┆ … ┆ start_time ┆ end_date   ┆ end_time ┆ duration     │\n",
      "│ ---           ┆ ---           ┆ ---           ┆ ---          ┆   ┆ ---        ┆ ---        ┆ ---      ┆ ---          │\n",
      "│ str           ┆ str           ┆ datetime[μs]  ┆ datetime[μs] ┆   ┆ str        ┆ str        ┆ str      ┆ duration[μs] │\n",
      "╞═══════════════╪═══════════════╪═══════════════╪══════════════╪═══╪════════════╪════════════╪══════════╪══════════════╡\n",
      "│ 9E350A69C5FED ┆ docked_bike   ┆ 2020-04-08    ┆ 2020-04-08   ┆ … ┆ 15:01:51   ┆ 2020-04-08 ┆ 15:03:20 ┆ 1m 29s       │\n",
      "│ EF3           ┆               ┆ 15:01:51      ┆ 15:03:20     ┆   ┆            ┆            ┆          ┆              │\n",
      "│ 27E8A3FD802C4 ┆ docked_bike   ┆ 2020-04-21    ┆ 2020-04-21   ┆ … ┆ 16:25:19   ┆ 2020-04-21 ┆ 16:26:41 ┆ 1m 22s       │\n",
      "│ C08           ┆               ┆ 16:25:19      ┆ 16:26:41     ┆   ┆            ┆            ┆          ┆              │\n",
      "│ EA0FBC59F73B9 ┆ docked_bike   ┆ 2020-04-28    ┆ 2020-04-28   ┆ … ┆ 06:22:45   ┆ 2020-04-28 ┆ 06:22:48 ┆ 3s           │\n",
      "│ 0B6           ┆               ┆ 06:22:45      ┆ 06:22:48     ┆   ┆            ┆            ┆          ┆              │\n",
      "│ 7106A083CA980 ┆ docked_bike   ┆ 2020-04-18    ┆ 2020-04-18   ┆ … ┆ 17:54:08   ┆ 2020-04-18 ┆ 17:55:32 ┆ 1m 24s       │\n",
      "│ DA8           ┆               ┆ 17:54:08      ┆ 17:55:32     ┆   ┆            ┆            ┆          ┆              │\n",
      "│ 8A52587DCD27D ┆ docked_bike   ┆ 2020-04-07    ┆ 2020-04-07   ┆ … ┆ 06:03:39   ┆ 2020-04-07 ┆ 06:03:42 ┆ 3s           │\n",
      "│ B83           ┆               ┆ 06:03:39      ┆ 06:03:42     ┆   ┆            ┆            ┆          ┆              │\n",
      "│ …             ┆ …             ┆ …             ┆ …            ┆ … ┆ …          ┆ …          ┆ …        ┆ …            │\n",
      "│ B7E5F6A7F80FA ┆ classic_bike  ┆ 2020-12-10    ┆ 2020-12-10   ┆ … ┆ 16:44:26   ┆ 2020-12-10 ┆ 16:44:44 ┆ 18s          │\n",
      "│ 37B           ┆               ┆ 16:44:26      ┆ 16:44:44     ┆   ┆            ┆            ┆          ┆              │\n",
      "│ B82E7FC96C57E ┆ electric_bike ┆ 2020-12-19    ┆ 2020-12-19   ┆ … ┆ 18:51:13   ┆ 2020-12-19 ┆ 18:52:42 ┆ 1m 29s       │\n",
      "│ 6E2           ┆               ┆ 18:51:13      ┆ 18:52:42     ┆   ┆            ┆            ┆          ┆              │\n",
      "│ 9420A61260C4D ┆ classic_bike  ┆ 2020-12-23    ┆ 2020-12-23   ┆ … ┆ 16:00:20   ┆ 2020-12-23 ┆ 16:00:48 ┆ 28s          │\n",
      "│ E58           ┆               ┆ 16:00:20      ┆ 16:00:48     ┆   ┆            ┆            ┆          ┆              │\n",
      "│ 6696CC610759B ┆ classic_bike  ┆ 2020-12-15    ┆ 2020-12-15   ┆ … ┆ 17:04:18   ┆ 2020-12-15 ┆ 17:05:07 ┆ 49s          │\n",
      "│ 8AC           ┆               ┆ 17:04:18      ┆ 17:05:07     ┆   ┆            ┆            ┆          ┆              │\n",
      "│ 8EB357C795419 ┆ electric_bike ┆ 2020-12-30    ┆ 2020-12-30   ┆ … ┆ 15:32:38   ┆ 2020-12-30 ┆ 15:32:47 ┆ 9s           │\n",
      "│ F50           ┆               ┆ 15:32:38      ┆ 15:32:47     ┆   ┆            ┆            ┆          ┆              │\n",
      "└───────────────┴───────────────┴───────────────┴──────────────┴───┴────────────┴────────────┴──────────┴──────────────┘\n"
     ]
    }
   ],
   "source": [
    "df_filtered = df_cleaned.filter(pl.col(\"duration\") <= pl.duration(minutes=2))\n",
    "\n",
    "print(df_filtered)\n"
   ]
  },
  {
   "cell_type": "markdown",
   "id": "fe0c5116-9cbb-4719-9a51-383a2775e81f",
   "metadata": {},
   "source": []
  },
  {
   "cell_type": "code",
   "execution_count": null,
   "id": "c3f3a2d0-bf44-440d-a3ab-7838b3a06b44",
   "metadata": {},
   "outputs": [],
   "source": []
  },
  {
   "cell_type": "code",
   "execution_count": null,
   "id": "6ad2e084-f124-4d88-9f14-bc18b5f8a46f",
   "metadata": {},
   "outputs": [],
   "source": []
  },
  {
   "cell_type": "code",
   "execution_count": 132,
   "id": "03f33bc4-3751-4131-95ab-4921a517a5ff",
   "metadata": {},
   "outputs": [
    {
     "name": "stdout",
     "output_type": "stream",
     "text": [
      "shape: (83_268, 16)\n",
      "┌───────────────┬───────────────┬───────────────┬──────────────┬───┬────────────┬────────────┬──────────┬──────────────┐\n",
      "│ ride_id       ┆ rideable_type ┆ started_at    ┆ ended_at     ┆ … ┆ start_time ┆ end_date   ┆ end_time ┆ duration     │\n",
      "│ ---           ┆ ---           ┆ ---           ┆ ---          ┆   ┆ ---        ┆ ---        ┆ ---      ┆ ---          │\n",
      "│ str           ┆ str           ┆ datetime[μs]  ┆ datetime[μs] ┆   ┆ str        ┆ str        ┆ str      ┆ duration[μs] │\n",
      "╞═══════════════╪═══════════════╪═══════════════╪══════════════╪═══╪════════════╪════════════╪══════════╪══════════════╡\n",
      "│ 9E350A69C5FED ┆ docked_bike   ┆ 2020-04-08    ┆ 2020-04-08   ┆ … ┆ 15:01:51   ┆ 2020-04-08 ┆ 15:03:20 ┆ 1m 29s       │\n",
      "│ EF3           ┆               ┆ 15:01:51      ┆ 15:03:20     ┆   ┆            ┆            ┆          ┆              │\n",
      "│ 27E8A3FD802C4 ┆ docked_bike   ┆ 2020-04-21    ┆ 2020-04-21   ┆ … ┆ 16:25:19   ┆ 2020-04-21 ┆ 16:26:41 ┆ 1m 22s       │\n",
      "│ C08           ┆               ┆ 16:25:19      ┆ 16:26:41     ┆   ┆            ┆            ┆          ┆              │\n",
      "│ EA0FBC59F73B9 ┆ docked_bike   ┆ 2020-04-28    ┆ 2020-04-28   ┆ … ┆ 06:22:45   ┆ 2020-04-28 ┆ 06:22:48 ┆ 3s           │\n",
      "│ 0B6           ┆               ┆ 06:22:45      ┆ 06:22:48     ┆   ┆            ┆            ┆          ┆              │\n",
      "│ 7106A083CA980 ┆ docked_bike   ┆ 2020-04-18    ┆ 2020-04-18   ┆ … ┆ 17:54:08   ┆ 2020-04-18 ┆ 17:55:32 ┆ 1m 24s       │\n",
      "│ DA8           ┆               ┆ 17:54:08      ┆ 17:55:32     ┆   ┆            ┆            ┆          ┆              │\n",
      "│ 8A52587DCD27D ┆ docked_bike   ┆ 2020-04-07    ┆ 2020-04-07   ┆ … ┆ 06:03:39   ┆ 2020-04-07 ┆ 06:03:42 ┆ 3s           │\n",
      "│ B83           ┆               ┆ 06:03:39      ┆ 06:03:42     ┆   ┆            ┆            ┆          ┆              │\n",
      "│ …             ┆ …             ┆ …             ┆ …            ┆ … ┆ …          ┆ …          ┆ …        ┆ …            │\n",
      "│ B7E5F6A7F80FA ┆ classic_bike  ┆ 2020-12-10    ┆ 2020-12-10   ┆ … ┆ 16:44:26   ┆ 2020-12-10 ┆ 16:44:44 ┆ 18s          │\n",
      "│ 37B           ┆               ┆ 16:44:26      ┆ 16:44:44     ┆   ┆            ┆            ┆          ┆              │\n",
      "│ B82E7FC96C57E ┆ electric_bike ┆ 2020-12-19    ┆ 2020-12-19   ┆ … ┆ 18:51:13   ┆ 2020-12-19 ┆ 18:52:42 ┆ 1m 29s       │\n",
      "│ 6E2           ┆               ┆ 18:51:13      ┆ 18:52:42     ┆   ┆            ┆            ┆          ┆              │\n",
      "│ 9420A61260C4D ┆ classic_bike  ┆ 2020-12-23    ┆ 2020-12-23   ┆ … ┆ 16:00:20   ┆ 2020-12-23 ┆ 16:00:48 ┆ 28s          │\n",
      "│ E58           ┆               ┆ 16:00:20      ┆ 16:00:48     ┆   ┆            ┆            ┆          ┆              │\n",
      "│ 6696CC610759B ┆ classic_bike  ┆ 2020-12-15    ┆ 2020-12-15   ┆ … ┆ 17:04:18   ┆ 2020-12-15 ┆ 17:05:07 ┆ 49s          │\n",
      "│ 8AC           ┆               ┆ 17:04:18      ┆ 17:05:07     ┆   ┆            ┆            ┆          ┆              │\n",
      "│ 8EB357C795419 ┆ electric_bike ┆ 2020-12-30    ┆ 2020-12-30   ┆ … ┆ 15:32:38   ┆ 2020-12-30 ┆ 15:32:47 ┆ 9s           │\n",
      "│ F50           ┆               ┆ 15:32:38      ┆ 15:32:47     ┆   ┆            ┆            ┆          ┆              │\n",
      "└───────────────┴───────────────┴───────────────┴──────────────┴───┴────────────┴────────────┴──────────┴──────────────┘\n"
     ]
    }
   ],
   "source": [
    "\n",
    "\n",
    "df_filtered = df_cleaned.filter(pl.col(\"duration\") <= pl.duration(minutes=2))\n",
    "\n",
    "print(df_filtered)\n",
    "\n"
   ]
  },
  {
   "cell_type": "code",
   "execution_count": 117,
   "id": "c613d2af-2d04-4913-81e8-9dc895c36329",
   "metadata": {},
   "outputs": [
    {
     "name": "stdout",
     "output_type": "stream",
     "text": [
      "shape: (3_110_542, 17)\n",
      "┌───────────────┬──────────────┬──────────────┬──────────────┬───┬────────────┬──────────┬──────────────┬──────────────┐\n",
      "│ ride_id       ┆ rideable_typ ┆ started_at   ┆ ended_at     ┆ … ┆ end_date   ┆ end_time ┆ duration     ┆ ride_validit │\n",
      "│ ---           ┆ e            ┆ ---          ┆ ---          ┆   ┆ ---        ┆ ---      ┆ ---          ┆ y            │\n",
      "│ str           ┆ ---          ┆ datetime[μs] ┆ datetime[μs] ┆   ┆ str        ┆ str      ┆ duration[μs] ┆ ---          │\n",
      "│               ┆ str          ┆              ┆              ┆   ┆            ┆          ┆              ┆ str          │\n",
      "╞═══════════════╪══════════════╪══════════════╪══════════════╪═══╪════════════╪══════════╪══════════════╪══════════════╡\n",
      "│ A847FADBBC638 ┆ docked_bike  ┆ 2020-04-26   ┆ 2020-04-26   ┆ … ┆ 2020-04-26 ┆ 18:12:03 ┆ 26m 49s      ┆ Fair         │\n",
      "│ E45           ┆              ┆ 17:45:14     ┆ 18:12:03     ┆   ┆            ┆          ┆              ┆              │\n",
      "│ 5405B80E996FF ┆ docked_bike  ┆ 2020-04-17   ┆ 2020-04-17   ┆ … ┆ 2020-04-17 ┆ 17:17:03 ┆ 8m 9s        ┆ Fair         │\n",
      "│ 60D           ┆              ┆ 17:08:54     ┆ 17:17:03     ┆   ┆            ┆          ┆              ┆              │\n",
      "│ 5DD24A79A4E00 ┆ docked_bike  ┆ 2020-04-01   ┆ 2020-04-01   ┆ … ┆ 2020-04-01 ┆ 18:08:36 ┆ 14m 23s      ┆ Fair         │\n",
      "│ 6F4           ┆              ┆ 17:54:13     ┆ 18:08:36     ┆   ┆            ┆          ┆              ┆              │\n",
      "│ 2A59BBDF5CDBA ┆ docked_bike  ┆ 2020-04-07   ┆ 2020-04-07   ┆ … ┆ 2020-04-07 ┆ 13:02:31 ┆ 12m 12s      ┆ Fair         │\n",
      "│ 725           ┆              ┆ 12:50:19     ┆ 13:02:31     ┆   ┆            ┆          ┆              ┆              │\n",
      "│ 27AD306C119C6 ┆ docked_bike  ┆ 2020-04-18   ┆ 2020-04-18   ┆ … ┆ 2020-04-18 ┆ 11:15:54 ┆ 52m 55s      ┆ Fair         │\n",
      "│ 158           ┆              ┆ 10:22:59     ┆ 11:15:54     ┆   ┆            ┆          ┆              ┆              │\n",
      "│ …             ┆ …            ┆ …            ┆ …            ┆ … ┆ …          ┆ …        ┆ …            ┆ …            │\n",
      "│ 4631EE956BCEA ┆ classic_bike ┆ 2020-12-19   ┆ 2020-12-19   ┆ … ┆ 2020-12-19 ┆ 14:03:21 ┆ 3m 48s       ┆ Fair         │\n",
      "│ 738           ┆              ┆ 13:59:33     ┆ 14:03:21     ┆   ┆            ┆          ┆              ┆              │\n",
      "│ D17CBEDEA8DBD ┆ electric_bik ┆ 2020-12-20   ┆ 2020-12-20   ┆ … ┆ 2020-12-20 ┆ 15:52:14 ┆ 3m 33s       ┆ Fair         │\n",
      "│ FF6           ┆ e            ┆ 15:48:41     ┆ 15:52:14     ┆   ┆            ┆          ┆              ┆              │\n",
      "│ 447A6C67E9AF9 ┆ docked_bike  ┆ 2020-12-02   ┆ 2020-12-02   ┆ … ┆ 2020-12-02 ┆ 17:08:28 ┆ 8m 30s       ┆ Fair         │\n",
      "│ 62E           ┆              ┆ 16:59:58     ┆ 17:08:28     ┆   ┆            ┆          ┆              ┆              │\n",
      "│ F558C17E95751 ┆ electric_bik ┆ 2020-12-20   ┆ 2020-12-20   ┆ … ┆ 2020-12-20 ┆ 18:09:53 ┆ 3m 1s        ┆ Fair         │\n",
      "│ C62           ┆ e            ┆ 18:06:52     ┆ 18:09:53     ┆   ┆            ┆          ┆              ┆              │\n",
      "│ E1888F4B274EE ┆ electric_bik ┆ 2020-12-03   ┆ 2020-12-03   ┆ … ┆ 2020-12-03 ┆ 09:47:14 ┆ 3m 32s       ┆ Fair         │\n",
      "│ A12           ┆ e            ┆ 09:43:42     ┆ 09:47:14     ┆   ┆            ┆          ┆              ┆              │\n",
      "└───────────────┴──────────────┴──────────────┴──────────────┴───┴────────────┴──────────┴──────────────┴──────────────┘\n"
     ]
    }
   ],
   "source": [
    "df_filtered = df_cleaned.with_columns(\n",
    "    pl.when(pl.col(\"duration\") <= pl.duration(minutes=2))\n",
    "    .then(pl.lit(\"Suspicious\"))\n",
    "    .otherwise(pl.lit(\"Fair\"))\n",
    "    .alias(\"ride_validity\")\n",
    ")\n",
    "\n",
    "print(df_filtered)\n"
   ]
  },
  {
   "cell_type": "code",
   "execution_count": 124,
   "id": "63ca3414-5a86-4f4e-a3bf-69f759d8d14a",
   "metadata": {},
   "outputs": [
    {
     "data": {
      "text/html": [
       "<div><style>\n",
       ".dataframe > thead > tr,\n",
       ".dataframe > tbody > tr {\n",
       "  text-align: right;\n",
       "  white-space: pre-wrap;\n",
       "}\n",
       "</style>\n",
       "<small>shape: (3_110_542, 17)</small><table border=\"1\" class=\"dataframe\"><thead><tr><th>ride_id</th><th>rideable_type</th><th>started_at</th><th>ended_at</th><th>start_station_name</th><th>end_station_name</th><th>start_lat</th><th>start_lng</th><th>end_lat</th><th>end_lng</th><th>member_casual</th><th>start_date</th><th>start_time</th><th>end_date</th><th>end_time</th><th>duration</th><th>ride_validity</th></tr><tr><td>str</td><td>str</td><td>datetime[μs]</td><td>datetime[μs]</td><td>str</td><td>str</td><td>str</td><td>str</td><td>str</td><td>str</td><td>str</td><td>str</td><td>str</td><td>str</td><td>str</td><td>duration[μs]</td><td>str</td></tr></thead><tbody><tr><td>&quot;A847FADBBC638E45&quot;</td><td>&quot;docked_bike&quot;</td><td>2020-04-26 17:45:14</td><td>2020-04-26 18:12:03</td><td>&quot;Eckhart Park&quot;</td><td>&quot;Lincoln Ave &amp; Diversey Pkwy&quot;</td><td>&quot;41.8964&quot;</td><td>&quot;-87.661&quot;</td><td>&quot;41.9322&quot;</td><td>&quot;-87.6586&quot;</td><td>&quot;member&quot;</td><td>&quot;2020-04-26&quot;</td><td>&quot;17:45:14&quot;</td><td>&quot;2020-04-26&quot;</td><td>&quot;18:12:03&quot;</td><td>26m 49s</td><td>&quot;Fair&quot;</td></tr><tr><td>&quot;5405B80E996FF60D&quot;</td><td>&quot;docked_bike&quot;</td><td>2020-04-17 17:08:54</td><td>2020-04-17 17:17:03</td><td>&quot;Drake Ave &amp; Fullerton Ave&quot;</td><td>&quot;Kosciuszko Park&quot;</td><td>&quot;41.9244&quot;</td><td>&quot;-87.7154&quot;</td><td>&quot;41.9306&quot;</td><td>&quot;-87.7238&quot;</td><td>&quot;member&quot;</td><td>&quot;2020-04-17&quot;</td><td>&quot;17:08:54&quot;</td><td>&quot;2020-04-17&quot;</td><td>&quot;17:17:03&quot;</td><td>8m 9s</td><td>&quot;Fair&quot;</td></tr><tr><td>&quot;5DD24A79A4E006F4&quot;</td><td>&quot;docked_bike&quot;</td><td>2020-04-01 17:54:13</td><td>2020-04-01 18:08:36</td><td>&quot;McClurg Ct &amp; Erie St&quot;</td><td>&quot;Indiana Ave &amp; Roosevelt Rd&quot;</td><td>&quot;41.8945&quot;</td><td>&quot;-87.6179&quot;</td><td>&quot;41.8679&quot;</td><td>&quot;-87.623&quot;</td><td>&quot;member&quot;</td><td>&quot;2020-04-01&quot;</td><td>&quot;17:54:13&quot;</td><td>&quot;2020-04-01&quot;</td><td>&quot;18:08:36&quot;</td><td>14m 23s</td><td>&quot;Fair&quot;</td></tr><tr><td>&quot;2A59BBDF5CDBA725&quot;</td><td>&quot;docked_bike&quot;</td><td>2020-04-07 12:50:19</td><td>2020-04-07 13:02:31</td><td>&quot;California Ave &amp; Division St&quot;</td><td>&quot;Wood St &amp; Augusta Blvd&quot;</td><td>&quot;41.903&quot;</td><td>&quot;-87.6975&quot;</td><td>&quot;41.8992&quot;</td><td>&quot;-87.6722&quot;</td><td>&quot;member&quot;</td><td>&quot;2020-04-07&quot;</td><td>&quot;12:50:19&quot;</td><td>&quot;2020-04-07&quot;</td><td>&quot;13:02:31&quot;</td><td>12m 12s</td><td>&quot;Fair&quot;</td></tr><tr><td>&quot;27AD306C119C6158&quot;</td><td>&quot;docked_bike&quot;</td><td>2020-04-18 10:22:59</td><td>2020-04-18 11:15:54</td><td>&quot;Rush St &amp; Hubbard St&quot;</td><td>&quot;Sheridan Rd &amp; Lawrence Ave&quot;</td><td>&quot;41.8902&quot;</td><td>&quot;-87.6262&quot;</td><td>&quot;41.9695&quot;</td><td>&quot;-87.6547&quot;</td><td>&quot;casual&quot;</td><td>&quot;2020-04-18&quot;</td><td>&quot;10:22:59&quot;</td><td>&quot;2020-04-18&quot;</td><td>&quot;11:15:54&quot;</td><td>52m 55s</td><td>&quot;Fair&quot;</td></tr><tr><td>&hellip;</td><td>&hellip;</td><td>&hellip;</td><td>&hellip;</td><td>&hellip;</td><td>&hellip;</td><td>&hellip;</td><td>&hellip;</td><td>&hellip;</td><td>&hellip;</td><td>&hellip;</td><td>&hellip;</td><td>&hellip;</td><td>&hellip;</td><td>&hellip;</td><td>&hellip;</td><td>&hellip;</td></tr><tr><td>&quot;4631EE956BCEA738&quot;</td><td>&quot;classic_bike&quot;</td><td>2020-12-19 13:59:33</td><td>2020-12-19 14:03:21</td><td>&quot;Rhodes Ave &amp; 32nd St&quot;</td><td>&quot;Indiana Ave &amp; 31st St&quot;</td><td>&quot;41.836208&quot;</td><td>&quot;-87.613533&quot;</td><td>&quot;41.838842&quot;</td><td>&quot;-87.621857&quot;</td><td>&quot;casual&quot;</td><td>&quot;2020-12-19&quot;</td><td>&quot;13:59:33&quot;</td><td>&quot;2020-12-19&quot;</td><td>&quot;14:03:21&quot;</td><td>3m 48s</td><td>&quot;Fair&quot;</td></tr><tr><td>&quot;D17CBEDEA8DBDFF6&quot;</td><td>&quot;electric_bike&quot;</td><td>2020-12-20 15:48:41</td><td>2020-12-20 15:52:14</td><td>&quot;Rhodes Ave &amp; 32nd St&quot;</td><td>&quot;Indiana Ave &amp; 31st St&quot;</td><td>&quot;41.836723166666665&quot;</td><td>&quot;-87.61336483333334&quot;</td><td>&quot;41.838722833333335&quot;</td><td>&quot;-87.6218535&quot;</td><td>&quot;member&quot;</td><td>&quot;2020-12-20&quot;</td><td>&quot;15:48:41&quot;</td><td>&quot;2020-12-20&quot;</td><td>&quot;15:52:14&quot;</td><td>3m 33s</td><td>&quot;Fair&quot;</td></tr><tr><td>&quot;447A6C67E9AF962E&quot;</td><td>&quot;docked_bike&quot;</td><td>2020-12-02 16:59:58</td><td>2020-12-02 17:08:28</td><td>&quot;Rhodes Ave &amp; 32nd St&quot;</td><td>&quot;Indiana Ave &amp; 31st St&quot;</td><td>&quot;41.836208&quot;</td><td>&quot;-87.613533&quot;</td><td>&quot;41.838842&quot;</td><td>&quot;-87.621857&quot;</td><td>&quot;member&quot;</td><td>&quot;2020-12-02&quot;</td><td>&quot;16:59:58&quot;</td><td>&quot;2020-12-02&quot;</td><td>&quot;17:08:28&quot;</td><td>8m 30s</td><td>&quot;Fair&quot;</td></tr><tr><td>&quot;F558C17E95751C62&quot;</td><td>&quot;electric_bike&quot;</td><td>2020-12-20 18:06:52</td><td>2020-12-20 18:09:53</td><td>&quot;Rhodes Ave &amp; 32nd St&quot;</td><td>&quot;Indiana Ave &amp; 31st St&quot;</td><td>&quot;41.836734166666666&quot;</td><td>&quot;-87.61339383333333&quot;</td><td>&quot;41.8387495&quot;</td><td>&quot;-87.621862&quot;</td><td>&quot;member&quot;</td><td>&quot;2020-12-20&quot;</td><td>&quot;18:06:52&quot;</td><td>&quot;2020-12-20&quot;</td><td>&quot;18:09:53&quot;</td><td>3m 1s</td><td>&quot;Fair&quot;</td></tr><tr><td>&quot;E1888F4B274EEA12&quot;</td><td>&quot;electric_bike&quot;</td><td>2020-12-03 09:43:42</td><td>2020-12-03 09:47:14</td><td>&quot;Rhodes Ave &amp; 32nd St&quot;</td><td>&quot;Indiana Ave &amp; 31st St&quot;</td><td>&quot;41.836766&quot;</td><td>&quot;-87.6133655&quot;</td><td>&quot;41.8386805&quot;</td><td>&quot;-87.62185366666667&quot;</td><td>&quot;member&quot;</td><td>&quot;2020-12-03&quot;</td><td>&quot;09:43:42&quot;</td><td>&quot;2020-12-03&quot;</td><td>&quot;09:47:14&quot;</td><td>3m 32s</td><td>&quot;Fair&quot;</td></tr></tbody></table></div>"
      ],
      "text/plain": [
       "shape: (3_110_542, 17)\n",
       "┌───────────────┬──────────────┬──────────────┬──────────────┬───┬────────────┬──────────┬──────────────┬──────────────┐\n",
       "│ ride_id       ┆ rideable_typ ┆ started_at   ┆ ended_at     ┆ … ┆ end_date   ┆ end_time ┆ duration     ┆ ride_validit │\n",
       "│ ---           ┆ e            ┆ ---          ┆ ---          ┆   ┆ ---        ┆ ---      ┆ ---          ┆ y            │\n",
       "│ str           ┆ ---          ┆ datetime[μs] ┆ datetime[μs] ┆   ┆ str        ┆ str      ┆ duration[μs] ┆ ---          │\n",
       "│               ┆ str          ┆              ┆              ┆   ┆            ┆          ┆              ┆ str          │\n",
       "╞═══════════════╪══════════════╪══════════════╪══════════════╪═══╪════════════╪══════════╪══════════════╪══════════════╡\n",
       "│ A847FADBBC638 ┆ docked_bike  ┆ 2020-04-26   ┆ 2020-04-26   ┆ … ┆ 2020-04-26 ┆ 18:12:03 ┆ 26m 49s      ┆ Fair         │\n",
       "│ E45           ┆              ┆ 17:45:14     ┆ 18:12:03     ┆   ┆            ┆          ┆              ┆              │\n",
       "│ 5405B80E996FF ┆ docked_bike  ┆ 2020-04-17   ┆ 2020-04-17   ┆ … ┆ 2020-04-17 ┆ 17:17:03 ┆ 8m 9s        ┆ Fair         │\n",
       "│ 60D           ┆              ┆ 17:08:54     ┆ 17:17:03     ┆   ┆            ┆          ┆              ┆              │\n",
       "│ 5DD24A79A4E00 ┆ docked_bike  ┆ 2020-04-01   ┆ 2020-04-01   ┆ … ┆ 2020-04-01 ┆ 18:08:36 ┆ 14m 23s      ┆ Fair         │\n",
       "│ 6F4           ┆              ┆ 17:54:13     ┆ 18:08:36     ┆   ┆            ┆          ┆              ┆              │\n",
       "│ 2A59BBDF5CDBA ┆ docked_bike  ┆ 2020-04-07   ┆ 2020-04-07   ┆ … ┆ 2020-04-07 ┆ 13:02:31 ┆ 12m 12s      ┆ Fair         │\n",
       "│ 725           ┆              ┆ 12:50:19     ┆ 13:02:31     ┆   ┆            ┆          ┆              ┆              │\n",
       "│ 27AD306C119C6 ┆ docked_bike  ┆ 2020-04-18   ┆ 2020-04-18   ┆ … ┆ 2020-04-18 ┆ 11:15:54 ┆ 52m 55s      ┆ Fair         │\n",
       "│ 158           ┆              ┆ 10:22:59     ┆ 11:15:54     ┆   ┆            ┆          ┆              ┆              │\n",
       "│ …             ┆ …            ┆ …            ┆ …            ┆ … ┆ …          ┆ …        ┆ …            ┆ …            │\n",
       "│ 4631EE956BCEA ┆ classic_bike ┆ 2020-12-19   ┆ 2020-12-19   ┆ … ┆ 2020-12-19 ┆ 14:03:21 ┆ 3m 48s       ┆ Fair         │\n",
       "│ 738           ┆              ┆ 13:59:33     ┆ 14:03:21     ┆   ┆            ┆          ┆              ┆              │\n",
       "│ D17CBEDEA8DBD ┆ electric_bik ┆ 2020-12-20   ┆ 2020-12-20   ┆ … ┆ 2020-12-20 ┆ 15:52:14 ┆ 3m 33s       ┆ Fair         │\n",
       "│ FF6           ┆ e            ┆ 15:48:41     ┆ 15:52:14     ┆   ┆            ┆          ┆              ┆              │\n",
       "│ 447A6C67E9AF9 ┆ docked_bike  ┆ 2020-12-02   ┆ 2020-12-02   ┆ … ┆ 2020-12-02 ┆ 17:08:28 ┆ 8m 30s       ┆ Fair         │\n",
       "│ 62E           ┆              ┆ 16:59:58     ┆ 17:08:28     ┆   ┆            ┆          ┆              ┆              │\n",
       "│ F558C17E95751 ┆ electric_bik ┆ 2020-12-20   ┆ 2020-12-20   ┆ … ┆ 2020-12-20 ┆ 18:09:53 ┆ 3m 1s        ┆ Fair         │\n",
       "│ C62           ┆ e            ┆ 18:06:52     ┆ 18:09:53     ┆   ┆            ┆          ┆              ┆              │\n",
       "│ E1888F4B274EE ┆ electric_bik ┆ 2020-12-03   ┆ 2020-12-03   ┆ … ┆ 2020-12-03 ┆ 09:47:14 ┆ 3m 32s       ┆ Fair         │\n",
       "│ A12           ┆ e            ┆ 09:43:42     ┆ 09:47:14     ┆   ┆            ┆          ┆              ┆              │\n",
       "└───────────────┴──────────────┴──────────────┴──────────────┴───┴────────────┴──────────┴──────────────┴──────────────┘"
      ]
     },
     "execution_count": 124,
     "metadata": {},
     "output_type": "execute_result"
    }
   ],
   "source": [
    "df_filtered\n"
   ]
  },
  {
   "cell_type": "code",
   "execution_count": 120,
   "id": "985c3b98-6ca6-4258-a72c-30a58a90c521",
   "metadata": {},
   "outputs": [],
   "source": [
    "df_cleaned = df_cleaned.with_columns([\n",
    "    df_cleaned[\"started_at\"].dt.truncate(\"1s\").alias(\"started_at\"),\n",
    "    df_cleaned[\"ended_at\"].dt.truncate(\"1s\").alias(\"ended_at\")\n",
    "])"
   ]
  },
  {
   "cell_type": "code",
   "execution_count": 29,
   "id": "48074530-3449-4f31-8744-2378aee93992",
   "metadata": {},
   "outputs": [],
   "source": [
    "df = df_filtered.clone()"
   ]
  },
  {
   "cell_type": "code",
   "execution_count": 31,
   "id": "fa5c313f-f8dd-4e11-b420-ed4a30557cce",
   "metadata": {},
   "outputs": [
    {
     "data": {
      "text/html": [
       "<div><style>\n",
       ".dataframe > thead > tr,\n",
       ".dataframe > tbody > tr {\n",
       "  text-align: right;\n",
       "  white-space: pre-wrap;\n",
       "}\n",
       "</style>\n",
       "<small>shape: (3_110_542, 17)</small><table border=\"1\" class=\"dataframe\"><thead><tr><th>ride_id</th><th>rideable_type</th><th>started_at</th><th>ended_at</th><th>start_station_name</th><th>end_station_name</th><th>start_lat</th><th>start_lng</th><th>end_lat</th><th>end_lng</th><th>member_casual</th><th>start_date</th><th>start_time</th><th>end_date</th><th>end_time</th><th>duration</th><th>ride_validity</th></tr><tr><td>str</td><td>str</td><td>datetime[μs]</td><td>datetime[μs]</td><td>str</td><td>str</td><td>str</td><td>str</td><td>str</td><td>str</td><td>str</td><td>str</td><td>str</td><td>str</td><td>str</td><td>duration[μs]</td><td>str</td></tr></thead><tbody><tr><td>&quot;A847FADBBC638E45&quot;</td><td>&quot;docked_bike&quot;</td><td>2020-04-26 17:45:14</td><td>2020-04-26 18:12:03</td><td>&quot;Eckhart Park&quot;</td><td>&quot;Lincoln Ave &amp; Diversey Pkwy&quot;</td><td>&quot;41.8964&quot;</td><td>&quot;-87.661&quot;</td><td>&quot;41.9322&quot;</td><td>&quot;-87.6586&quot;</td><td>&quot;member&quot;</td><td>&quot;2020-04-26&quot;</td><td>&quot;17:45:14&quot;</td><td>&quot;2020-04-26&quot;</td><td>&quot;18:12:03&quot;</td><td>26m 49s</td><td>&quot;Fair&quot;</td></tr><tr><td>&quot;5405B80E996FF60D&quot;</td><td>&quot;docked_bike&quot;</td><td>2020-04-17 17:08:54</td><td>2020-04-17 17:17:03</td><td>&quot;Drake Ave &amp; Fullerton Ave&quot;</td><td>&quot;Kosciuszko Park&quot;</td><td>&quot;41.9244&quot;</td><td>&quot;-87.7154&quot;</td><td>&quot;41.9306&quot;</td><td>&quot;-87.7238&quot;</td><td>&quot;member&quot;</td><td>&quot;2020-04-17&quot;</td><td>&quot;17:08:54&quot;</td><td>&quot;2020-04-17&quot;</td><td>&quot;17:17:03&quot;</td><td>8m 9s</td><td>&quot;Fair&quot;</td></tr><tr><td>&quot;5DD24A79A4E006F4&quot;</td><td>&quot;docked_bike&quot;</td><td>2020-04-01 17:54:13</td><td>2020-04-01 18:08:36</td><td>&quot;McClurg Ct &amp; Erie St&quot;</td><td>&quot;Indiana Ave &amp; Roosevelt Rd&quot;</td><td>&quot;41.8945&quot;</td><td>&quot;-87.6179&quot;</td><td>&quot;41.8679&quot;</td><td>&quot;-87.623&quot;</td><td>&quot;member&quot;</td><td>&quot;2020-04-01&quot;</td><td>&quot;17:54:13&quot;</td><td>&quot;2020-04-01&quot;</td><td>&quot;18:08:36&quot;</td><td>14m 23s</td><td>&quot;Fair&quot;</td></tr><tr><td>&quot;2A59BBDF5CDBA725&quot;</td><td>&quot;docked_bike&quot;</td><td>2020-04-07 12:50:19</td><td>2020-04-07 13:02:31</td><td>&quot;California Ave &amp; Division St&quot;</td><td>&quot;Wood St &amp; Augusta Blvd&quot;</td><td>&quot;41.903&quot;</td><td>&quot;-87.6975&quot;</td><td>&quot;41.8992&quot;</td><td>&quot;-87.6722&quot;</td><td>&quot;member&quot;</td><td>&quot;2020-04-07&quot;</td><td>&quot;12:50:19&quot;</td><td>&quot;2020-04-07&quot;</td><td>&quot;13:02:31&quot;</td><td>12m 12s</td><td>&quot;Fair&quot;</td></tr><tr><td>&quot;27AD306C119C6158&quot;</td><td>&quot;docked_bike&quot;</td><td>2020-04-18 10:22:59</td><td>2020-04-18 11:15:54</td><td>&quot;Rush St &amp; Hubbard St&quot;</td><td>&quot;Sheridan Rd &amp; Lawrence Ave&quot;</td><td>&quot;41.8902&quot;</td><td>&quot;-87.6262&quot;</td><td>&quot;41.9695&quot;</td><td>&quot;-87.6547&quot;</td><td>&quot;casual&quot;</td><td>&quot;2020-04-18&quot;</td><td>&quot;10:22:59&quot;</td><td>&quot;2020-04-18&quot;</td><td>&quot;11:15:54&quot;</td><td>52m 55s</td><td>&quot;Fair&quot;</td></tr><tr><td>&hellip;</td><td>&hellip;</td><td>&hellip;</td><td>&hellip;</td><td>&hellip;</td><td>&hellip;</td><td>&hellip;</td><td>&hellip;</td><td>&hellip;</td><td>&hellip;</td><td>&hellip;</td><td>&hellip;</td><td>&hellip;</td><td>&hellip;</td><td>&hellip;</td><td>&hellip;</td><td>&hellip;</td></tr><tr><td>&quot;4631EE956BCEA738&quot;</td><td>&quot;classic_bike&quot;</td><td>2020-12-19 13:59:33</td><td>2020-12-19 14:03:21</td><td>&quot;Rhodes Ave &amp; 32nd St&quot;</td><td>&quot;Indiana Ave &amp; 31st St&quot;</td><td>&quot;41.836208&quot;</td><td>&quot;-87.613533&quot;</td><td>&quot;41.838842&quot;</td><td>&quot;-87.621857&quot;</td><td>&quot;casual&quot;</td><td>&quot;2020-12-19&quot;</td><td>&quot;13:59:33&quot;</td><td>&quot;2020-12-19&quot;</td><td>&quot;14:03:21&quot;</td><td>3m 48s</td><td>&quot;Fair&quot;</td></tr><tr><td>&quot;D17CBEDEA8DBDFF6&quot;</td><td>&quot;electric_bike&quot;</td><td>2020-12-20 15:48:41</td><td>2020-12-20 15:52:14</td><td>&quot;Rhodes Ave &amp; 32nd St&quot;</td><td>&quot;Indiana Ave &amp; 31st St&quot;</td><td>&quot;41.836723166666665&quot;</td><td>&quot;-87.61336483333334&quot;</td><td>&quot;41.838722833333335&quot;</td><td>&quot;-87.6218535&quot;</td><td>&quot;member&quot;</td><td>&quot;2020-12-20&quot;</td><td>&quot;15:48:41&quot;</td><td>&quot;2020-12-20&quot;</td><td>&quot;15:52:14&quot;</td><td>3m 33s</td><td>&quot;Fair&quot;</td></tr><tr><td>&quot;447A6C67E9AF962E&quot;</td><td>&quot;docked_bike&quot;</td><td>2020-12-02 16:59:58</td><td>2020-12-02 17:08:28</td><td>&quot;Rhodes Ave &amp; 32nd St&quot;</td><td>&quot;Indiana Ave &amp; 31st St&quot;</td><td>&quot;41.836208&quot;</td><td>&quot;-87.613533&quot;</td><td>&quot;41.838842&quot;</td><td>&quot;-87.621857&quot;</td><td>&quot;member&quot;</td><td>&quot;2020-12-02&quot;</td><td>&quot;16:59:58&quot;</td><td>&quot;2020-12-02&quot;</td><td>&quot;17:08:28&quot;</td><td>8m 30s</td><td>&quot;Fair&quot;</td></tr><tr><td>&quot;F558C17E95751C62&quot;</td><td>&quot;electric_bike&quot;</td><td>2020-12-20 18:06:52</td><td>2020-12-20 18:09:53</td><td>&quot;Rhodes Ave &amp; 32nd St&quot;</td><td>&quot;Indiana Ave &amp; 31st St&quot;</td><td>&quot;41.836734166666666&quot;</td><td>&quot;-87.61339383333333&quot;</td><td>&quot;41.8387495&quot;</td><td>&quot;-87.621862&quot;</td><td>&quot;member&quot;</td><td>&quot;2020-12-20&quot;</td><td>&quot;18:06:52&quot;</td><td>&quot;2020-12-20&quot;</td><td>&quot;18:09:53&quot;</td><td>3m 1s</td><td>&quot;Fair&quot;</td></tr><tr><td>&quot;E1888F4B274EEA12&quot;</td><td>&quot;electric_bike&quot;</td><td>2020-12-03 09:43:42</td><td>2020-12-03 09:47:14</td><td>&quot;Rhodes Ave &amp; 32nd St&quot;</td><td>&quot;Indiana Ave &amp; 31st St&quot;</td><td>&quot;41.836766&quot;</td><td>&quot;-87.6133655&quot;</td><td>&quot;41.8386805&quot;</td><td>&quot;-87.62185366666667&quot;</td><td>&quot;member&quot;</td><td>&quot;2020-12-03&quot;</td><td>&quot;09:43:42&quot;</td><td>&quot;2020-12-03&quot;</td><td>&quot;09:47:14&quot;</td><td>3m 32s</td><td>&quot;Fair&quot;</td></tr></tbody></table></div>"
      ],
      "text/plain": [
       "shape: (3_110_542, 17)\n",
       "┌───────────────┬──────────────┬──────────────┬──────────────┬───┬────────────┬──────────┬──────────────┬──────────────┐\n",
       "│ ride_id       ┆ rideable_typ ┆ started_at   ┆ ended_at     ┆ … ┆ end_date   ┆ end_time ┆ duration     ┆ ride_validit │\n",
       "│ ---           ┆ e            ┆ ---          ┆ ---          ┆   ┆ ---        ┆ ---      ┆ ---          ┆ y            │\n",
       "│ str           ┆ ---          ┆ datetime[μs] ┆ datetime[μs] ┆   ┆ str        ┆ str      ┆ duration[μs] ┆ ---          │\n",
       "│               ┆ str          ┆              ┆              ┆   ┆            ┆          ┆              ┆ str          │\n",
       "╞═══════════════╪══════════════╪══════════════╪══════════════╪═══╪════════════╪══════════╪══════════════╪══════════════╡\n",
       "│ A847FADBBC638 ┆ docked_bike  ┆ 2020-04-26   ┆ 2020-04-26   ┆ … ┆ 2020-04-26 ┆ 18:12:03 ┆ 26m 49s      ┆ Fair         │\n",
       "│ E45           ┆              ┆ 17:45:14     ┆ 18:12:03     ┆   ┆            ┆          ┆              ┆              │\n",
       "│ 5405B80E996FF ┆ docked_bike  ┆ 2020-04-17   ┆ 2020-04-17   ┆ … ┆ 2020-04-17 ┆ 17:17:03 ┆ 8m 9s        ┆ Fair         │\n",
       "│ 60D           ┆              ┆ 17:08:54     ┆ 17:17:03     ┆   ┆            ┆          ┆              ┆              │\n",
       "│ 5DD24A79A4E00 ┆ docked_bike  ┆ 2020-04-01   ┆ 2020-04-01   ┆ … ┆ 2020-04-01 ┆ 18:08:36 ┆ 14m 23s      ┆ Fair         │\n",
       "│ 6F4           ┆              ┆ 17:54:13     ┆ 18:08:36     ┆   ┆            ┆          ┆              ┆              │\n",
       "│ 2A59BBDF5CDBA ┆ docked_bike  ┆ 2020-04-07   ┆ 2020-04-07   ┆ … ┆ 2020-04-07 ┆ 13:02:31 ┆ 12m 12s      ┆ Fair         │\n",
       "│ 725           ┆              ┆ 12:50:19     ┆ 13:02:31     ┆   ┆            ┆          ┆              ┆              │\n",
       "│ 27AD306C119C6 ┆ docked_bike  ┆ 2020-04-18   ┆ 2020-04-18   ┆ … ┆ 2020-04-18 ┆ 11:15:54 ┆ 52m 55s      ┆ Fair         │\n",
       "│ 158           ┆              ┆ 10:22:59     ┆ 11:15:54     ┆   ┆            ┆          ┆              ┆              │\n",
       "│ …             ┆ …            ┆ …            ┆ …            ┆ … ┆ …          ┆ …        ┆ …            ┆ …            │\n",
       "│ 4631EE956BCEA ┆ classic_bike ┆ 2020-12-19   ┆ 2020-12-19   ┆ … ┆ 2020-12-19 ┆ 14:03:21 ┆ 3m 48s       ┆ Fair         │\n",
       "│ 738           ┆              ┆ 13:59:33     ┆ 14:03:21     ┆   ┆            ┆          ┆              ┆              │\n",
       "│ D17CBEDEA8DBD ┆ electric_bik ┆ 2020-12-20   ┆ 2020-12-20   ┆ … ┆ 2020-12-20 ┆ 15:52:14 ┆ 3m 33s       ┆ Fair         │\n",
       "│ FF6           ┆ e            ┆ 15:48:41     ┆ 15:52:14     ┆   ┆            ┆          ┆              ┆              │\n",
       "│ 447A6C67E9AF9 ┆ docked_bike  ┆ 2020-12-02   ┆ 2020-12-02   ┆ … ┆ 2020-12-02 ┆ 17:08:28 ┆ 8m 30s       ┆ Fair         │\n",
       "│ 62E           ┆              ┆ 16:59:58     ┆ 17:08:28     ┆   ┆            ┆          ┆              ┆              │\n",
       "│ F558C17E95751 ┆ electric_bik ┆ 2020-12-20   ┆ 2020-12-20   ┆ … ┆ 2020-12-20 ┆ 18:09:53 ┆ 3m 1s        ┆ Fair         │\n",
       "│ C62           ┆ e            ┆ 18:06:52     ┆ 18:09:53     ┆   ┆            ┆          ┆              ┆              │\n",
       "│ E1888F4B274EE ┆ electric_bik ┆ 2020-12-03   ┆ 2020-12-03   ┆ … ┆ 2020-12-03 ┆ 09:47:14 ┆ 3m 32s       ┆ Fair         │\n",
       "│ A12           ┆ e            ┆ 09:43:42     ┆ 09:47:14     ┆   ┆            ┆          ┆              ┆              │\n",
       "└───────────────┴──────────────┴──────────────┴──────────────┴───┴────────────┴──────────┴──────────────┴──────────────┘"
      ]
     },
     "execution_count": 31,
     "metadata": {},
     "output_type": "execute_result"
    }
   ],
   "source": [
    "df"
   ]
  },
  {
   "cell_type": "code",
   "execution_count": 33,
   "id": "adca5877-1cbf-435c-b39a-d4cd1cb9fac9",
   "metadata": {},
   "outputs": [],
   "source": [
    "data_1 = df.clone()"
   ]
  },
  {
   "cell_type": "code",
   "execution_count": 35,
   "id": "803a0f18-5884-4d99-b6c4-359956865066",
   "metadata": {},
   "outputs": [
    {
     "data": {
      "text/html": [
       "<div><style>\n",
       ".dataframe > thead > tr,\n",
       ".dataframe > tbody > tr {\n",
       "  text-align: right;\n",
       "  white-space: pre-wrap;\n",
       "}\n",
       "</style>\n",
       "<small>shape: (3_110_542, 17)</small><table border=\"1\" class=\"dataframe\"><thead><tr><th>ride_id</th><th>rideable_type</th><th>started_at</th><th>ended_at</th><th>start_station_name</th><th>end_station_name</th><th>start_lat</th><th>start_lng</th><th>end_lat</th><th>end_lng</th><th>member_casual</th><th>start_date</th><th>start_time</th><th>end_date</th><th>end_time</th><th>duration</th><th>ride_validity</th></tr><tr><td>str</td><td>str</td><td>datetime[μs]</td><td>datetime[μs]</td><td>str</td><td>str</td><td>str</td><td>str</td><td>str</td><td>str</td><td>str</td><td>str</td><td>str</td><td>str</td><td>str</td><td>duration[μs]</td><td>str</td></tr></thead><tbody><tr><td>&quot;A847FADBBC638E45&quot;</td><td>&quot;docked_bike&quot;</td><td>2020-04-26 17:45:14</td><td>2020-04-26 18:12:03</td><td>&quot;Eckhart Park&quot;</td><td>&quot;Lincoln Ave &amp; Diversey Pkwy&quot;</td><td>&quot;41.8964&quot;</td><td>&quot;-87.661&quot;</td><td>&quot;41.9322&quot;</td><td>&quot;-87.6586&quot;</td><td>&quot;member&quot;</td><td>&quot;2020-04-26&quot;</td><td>&quot;17:45:14&quot;</td><td>&quot;2020-04-26&quot;</td><td>&quot;18:12:03&quot;</td><td>26m 49s</td><td>&quot;Fair&quot;</td></tr><tr><td>&quot;5405B80E996FF60D&quot;</td><td>&quot;docked_bike&quot;</td><td>2020-04-17 17:08:54</td><td>2020-04-17 17:17:03</td><td>&quot;Drake Ave &amp; Fullerton Ave&quot;</td><td>&quot;Kosciuszko Park&quot;</td><td>&quot;41.9244&quot;</td><td>&quot;-87.7154&quot;</td><td>&quot;41.9306&quot;</td><td>&quot;-87.7238&quot;</td><td>&quot;member&quot;</td><td>&quot;2020-04-17&quot;</td><td>&quot;17:08:54&quot;</td><td>&quot;2020-04-17&quot;</td><td>&quot;17:17:03&quot;</td><td>8m 9s</td><td>&quot;Fair&quot;</td></tr><tr><td>&quot;5DD24A79A4E006F4&quot;</td><td>&quot;docked_bike&quot;</td><td>2020-04-01 17:54:13</td><td>2020-04-01 18:08:36</td><td>&quot;McClurg Ct &amp; Erie St&quot;</td><td>&quot;Indiana Ave &amp; Roosevelt Rd&quot;</td><td>&quot;41.8945&quot;</td><td>&quot;-87.6179&quot;</td><td>&quot;41.8679&quot;</td><td>&quot;-87.623&quot;</td><td>&quot;member&quot;</td><td>&quot;2020-04-01&quot;</td><td>&quot;17:54:13&quot;</td><td>&quot;2020-04-01&quot;</td><td>&quot;18:08:36&quot;</td><td>14m 23s</td><td>&quot;Fair&quot;</td></tr><tr><td>&quot;2A59BBDF5CDBA725&quot;</td><td>&quot;docked_bike&quot;</td><td>2020-04-07 12:50:19</td><td>2020-04-07 13:02:31</td><td>&quot;California Ave &amp; Division St&quot;</td><td>&quot;Wood St &amp; Augusta Blvd&quot;</td><td>&quot;41.903&quot;</td><td>&quot;-87.6975&quot;</td><td>&quot;41.8992&quot;</td><td>&quot;-87.6722&quot;</td><td>&quot;member&quot;</td><td>&quot;2020-04-07&quot;</td><td>&quot;12:50:19&quot;</td><td>&quot;2020-04-07&quot;</td><td>&quot;13:02:31&quot;</td><td>12m 12s</td><td>&quot;Fair&quot;</td></tr><tr><td>&quot;27AD306C119C6158&quot;</td><td>&quot;docked_bike&quot;</td><td>2020-04-18 10:22:59</td><td>2020-04-18 11:15:54</td><td>&quot;Rush St &amp; Hubbard St&quot;</td><td>&quot;Sheridan Rd &amp; Lawrence Ave&quot;</td><td>&quot;41.8902&quot;</td><td>&quot;-87.6262&quot;</td><td>&quot;41.9695&quot;</td><td>&quot;-87.6547&quot;</td><td>&quot;casual&quot;</td><td>&quot;2020-04-18&quot;</td><td>&quot;10:22:59&quot;</td><td>&quot;2020-04-18&quot;</td><td>&quot;11:15:54&quot;</td><td>52m 55s</td><td>&quot;Fair&quot;</td></tr><tr><td>&hellip;</td><td>&hellip;</td><td>&hellip;</td><td>&hellip;</td><td>&hellip;</td><td>&hellip;</td><td>&hellip;</td><td>&hellip;</td><td>&hellip;</td><td>&hellip;</td><td>&hellip;</td><td>&hellip;</td><td>&hellip;</td><td>&hellip;</td><td>&hellip;</td><td>&hellip;</td><td>&hellip;</td></tr><tr><td>&quot;4631EE956BCEA738&quot;</td><td>&quot;classic_bike&quot;</td><td>2020-12-19 13:59:33</td><td>2020-12-19 14:03:21</td><td>&quot;Rhodes Ave &amp; 32nd St&quot;</td><td>&quot;Indiana Ave &amp; 31st St&quot;</td><td>&quot;41.836208&quot;</td><td>&quot;-87.613533&quot;</td><td>&quot;41.838842&quot;</td><td>&quot;-87.621857&quot;</td><td>&quot;casual&quot;</td><td>&quot;2020-12-19&quot;</td><td>&quot;13:59:33&quot;</td><td>&quot;2020-12-19&quot;</td><td>&quot;14:03:21&quot;</td><td>3m 48s</td><td>&quot;Fair&quot;</td></tr><tr><td>&quot;D17CBEDEA8DBDFF6&quot;</td><td>&quot;electric_bike&quot;</td><td>2020-12-20 15:48:41</td><td>2020-12-20 15:52:14</td><td>&quot;Rhodes Ave &amp; 32nd St&quot;</td><td>&quot;Indiana Ave &amp; 31st St&quot;</td><td>&quot;41.836723166666665&quot;</td><td>&quot;-87.61336483333334&quot;</td><td>&quot;41.838722833333335&quot;</td><td>&quot;-87.6218535&quot;</td><td>&quot;member&quot;</td><td>&quot;2020-12-20&quot;</td><td>&quot;15:48:41&quot;</td><td>&quot;2020-12-20&quot;</td><td>&quot;15:52:14&quot;</td><td>3m 33s</td><td>&quot;Fair&quot;</td></tr><tr><td>&quot;447A6C67E9AF962E&quot;</td><td>&quot;docked_bike&quot;</td><td>2020-12-02 16:59:58</td><td>2020-12-02 17:08:28</td><td>&quot;Rhodes Ave &amp; 32nd St&quot;</td><td>&quot;Indiana Ave &amp; 31st St&quot;</td><td>&quot;41.836208&quot;</td><td>&quot;-87.613533&quot;</td><td>&quot;41.838842&quot;</td><td>&quot;-87.621857&quot;</td><td>&quot;member&quot;</td><td>&quot;2020-12-02&quot;</td><td>&quot;16:59:58&quot;</td><td>&quot;2020-12-02&quot;</td><td>&quot;17:08:28&quot;</td><td>8m 30s</td><td>&quot;Fair&quot;</td></tr><tr><td>&quot;F558C17E95751C62&quot;</td><td>&quot;electric_bike&quot;</td><td>2020-12-20 18:06:52</td><td>2020-12-20 18:09:53</td><td>&quot;Rhodes Ave &amp; 32nd St&quot;</td><td>&quot;Indiana Ave &amp; 31st St&quot;</td><td>&quot;41.836734166666666&quot;</td><td>&quot;-87.61339383333333&quot;</td><td>&quot;41.8387495&quot;</td><td>&quot;-87.621862&quot;</td><td>&quot;member&quot;</td><td>&quot;2020-12-20&quot;</td><td>&quot;18:06:52&quot;</td><td>&quot;2020-12-20&quot;</td><td>&quot;18:09:53&quot;</td><td>3m 1s</td><td>&quot;Fair&quot;</td></tr><tr><td>&quot;E1888F4B274EEA12&quot;</td><td>&quot;electric_bike&quot;</td><td>2020-12-03 09:43:42</td><td>2020-12-03 09:47:14</td><td>&quot;Rhodes Ave &amp; 32nd St&quot;</td><td>&quot;Indiana Ave &amp; 31st St&quot;</td><td>&quot;41.836766&quot;</td><td>&quot;-87.6133655&quot;</td><td>&quot;41.8386805&quot;</td><td>&quot;-87.62185366666667&quot;</td><td>&quot;member&quot;</td><td>&quot;2020-12-03&quot;</td><td>&quot;09:43:42&quot;</td><td>&quot;2020-12-03&quot;</td><td>&quot;09:47:14&quot;</td><td>3m 32s</td><td>&quot;Fair&quot;</td></tr></tbody></table></div>"
      ],
      "text/plain": [
       "shape: (3_110_542, 17)\n",
       "┌───────────────┬──────────────┬──────────────┬──────────────┬───┬────────────┬──────────┬──────────────┬──────────────┐\n",
       "│ ride_id       ┆ rideable_typ ┆ started_at   ┆ ended_at     ┆ … ┆ end_date   ┆ end_time ┆ duration     ┆ ride_validit │\n",
       "│ ---           ┆ e            ┆ ---          ┆ ---          ┆   ┆ ---        ┆ ---      ┆ ---          ┆ y            │\n",
       "│ str           ┆ ---          ┆ datetime[μs] ┆ datetime[μs] ┆   ┆ str        ┆ str      ┆ duration[μs] ┆ ---          │\n",
       "│               ┆ str          ┆              ┆              ┆   ┆            ┆          ┆              ┆ str          │\n",
       "╞═══════════════╪══════════════╪══════════════╪══════════════╪═══╪════════════╪══════════╪══════════════╪══════════════╡\n",
       "│ A847FADBBC638 ┆ docked_bike  ┆ 2020-04-26   ┆ 2020-04-26   ┆ … ┆ 2020-04-26 ┆ 18:12:03 ┆ 26m 49s      ┆ Fair         │\n",
       "│ E45           ┆              ┆ 17:45:14     ┆ 18:12:03     ┆   ┆            ┆          ┆              ┆              │\n",
       "│ 5405B80E996FF ┆ docked_bike  ┆ 2020-04-17   ┆ 2020-04-17   ┆ … ┆ 2020-04-17 ┆ 17:17:03 ┆ 8m 9s        ┆ Fair         │\n",
       "│ 60D           ┆              ┆ 17:08:54     ┆ 17:17:03     ┆   ┆            ┆          ┆              ┆              │\n",
       "│ 5DD24A79A4E00 ┆ docked_bike  ┆ 2020-04-01   ┆ 2020-04-01   ┆ … ┆ 2020-04-01 ┆ 18:08:36 ┆ 14m 23s      ┆ Fair         │\n",
       "│ 6F4           ┆              ┆ 17:54:13     ┆ 18:08:36     ┆   ┆            ┆          ┆              ┆              │\n",
       "│ 2A59BBDF5CDBA ┆ docked_bike  ┆ 2020-04-07   ┆ 2020-04-07   ┆ … ┆ 2020-04-07 ┆ 13:02:31 ┆ 12m 12s      ┆ Fair         │\n",
       "│ 725           ┆              ┆ 12:50:19     ┆ 13:02:31     ┆   ┆            ┆          ┆              ┆              │\n",
       "│ 27AD306C119C6 ┆ docked_bike  ┆ 2020-04-18   ┆ 2020-04-18   ┆ … ┆ 2020-04-18 ┆ 11:15:54 ┆ 52m 55s      ┆ Fair         │\n",
       "│ 158           ┆              ┆ 10:22:59     ┆ 11:15:54     ┆   ┆            ┆          ┆              ┆              │\n",
       "│ …             ┆ …            ┆ …            ┆ …            ┆ … ┆ …          ┆ …        ┆ …            ┆ …            │\n",
       "│ 4631EE956BCEA ┆ classic_bike ┆ 2020-12-19   ┆ 2020-12-19   ┆ … ┆ 2020-12-19 ┆ 14:03:21 ┆ 3m 48s       ┆ Fair         │\n",
       "│ 738           ┆              ┆ 13:59:33     ┆ 14:03:21     ┆   ┆            ┆          ┆              ┆              │\n",
       "│ D17CBEDEA8DBD ┆ electric_bik ┆ 2020-12-20   ┆ 2020-12-20   ┆ … ┆ 2020-12-20 ┆ 15:52:14 ┆ 3m 33s       ┆ Fair         │\n",
       "│ FF6           ┆ e            ┆ 15:48:41     ┆ 15:52:14     ┆   ┆            ┆          ┆              ┆              │\n",
       "│ 447A6C67E9AF9 ┆ docked_bike  ┆ 2020-12-02   ┆ 2020-12-02   ┆ … ┆ 2020-12-02 ┆ 17:08:28 ┆ 8m 30s       ┆ Fair         │\n",
       "│ 62E           ┆              ┆ 16:59:58     ┆ 17:08:28     ┆   ┆            ┆          ┆              ┆              │\n",
       "│ F558C17E95751 ┆ electric_bik ┆ 2020-12-20   ┆ 2020-12-20   ┆ … ┆ 2020-12-20 ┆ 18:09:53 ┆ 3m 1s        ┆ Fair         │\n",
       "│ C62           ┆ e            ┆ 18:06:52     ┆ 18:09:53     ┆   ┆            ┆          ┆              ┆              │\n",
       "│ E1888F4B274EE ┆ electric_bik ┆ 2020-12-03   ┆ 2020-12-03   ┆ … ┆ 2020-12-03 ┆ 09:47:14 ┆ 3m 32s       ┆ Fair         │\n",
       "│ A12           ┆ e            ┆ 09:43:42     ┆ 09:47:14     ┆   ┆            ┆          ┆              ┆              │\n",
       "└───────────────┴──────────────┴──────────────┴──────────────┴───┴────────────┴──────────┴──────────────┴──────────────┘"
      ]
     },
     "execution_count": 35,
     "metadata": {},
     "output_type": "execute_result"
    }
   ],
   "source": [
    "data_1"
   ]
  },
  {
   "cell_type": "markdown",
   "id": "be2e2ef3-fd1f-46b4-bb19-04d8e98731c8",
   "metadata": {},
   "source": [
    "##  Polars is optimized for performance, we can avoid slow row-wise operations by using a vectorized approach and efficient nearest-neighbor searches.\n",
    "\n",
    "## Instead of iterating row by row, we can use Scipy's KDTree for fast nearest-neighbor lookups. Here’s how you can implement it in Polars:"
   ]
  },
  {
   "cell_type": "code",
   "execution_count": 38,
   "id": "9ae4a6e3-950c-44e2-9690-75415c35e287",
   "metadata": {},
   "outputs": [
    {
     "name": "stderr",
     "output_type": "stream",
     "text": [
      "C:\\Users\\Sowjanya\\AppData\\Local\\Temp\\ipykernel_28104\\1136869562.py:29: SettingWithCopyWarning: \n",
      "A value is trying to be set on a copy of a slice from a DataFrame.\n",
      "Try using .loc[row_indexer,col_indexer] = value instead\n",
      "\n",
      "See the caveats in the documentation: https://pandas.pydata.org/pandas-docs/stable/user_guide/indexing.html#returning-a-view-versus-a-copy\n",
      "  missing_places[\"start_station_name\"] = valid_places.iloc[nearest_indices][\"start_station_name\"].values\n"
     ]
    },
    {
     "name": "stdout",
     "output_type": "stream",
     "text": [
      "shape: (3_110_542, 17)\n",
      "┌───────────────┬──────────────┬──────────────┬──────────────┬───┬────────────┬──────────┬──────────────┬──────────────┐\n",
      "│ ride_id       ┆ rideable_typ ┆ started_at   ┆ ended_at     ┆ … ┆ end_date   ┆ end_time ┆ duration     ┆ ride_validit │\n",
      "│ ---           ┆ e            ┆ ---          ┆ ---          ┆   ┆ ---        ┆ ---      ┆ ---          ┆ y            │\n",
      "│ str           ┆ ---          ┆ datetime[μs] ┆ datetime[μs] ┆   ┆ str        ┆ str      ┆ duration[μs] ┆ ---          │\n",
      "│               ┆ str          ┆              ┆              ┆   ┆            ┆          ┆              ┆ str          │\n",
      "╞═══════════════╪══════════════╪══════════════╪══════════════╪═══╪════════════╪══════════╪══════════════╪══════════════╡\n",
      "│ A847FADBBC638 ┆ docked_bike  ┆ 2020-04-26   ┆ 2020-04-26   ┆ … ┆ 2020-04-26 ┆ 18:12:03 ┆ 26m 49s      ┆ Fair         │\n",
      "│ E45           ┆              ┆ 17:45:14     ┆ 18:12:03     ┆   ┆            ┆          ┆              ┆              │\n",
      "│ 5405B80E996FF ┆ docked_bike  ┆ 2020-04-17   ┆ 2020-04-17   ┆ … ┆ 2020-04-17 ┆ 17:17:03 ┆ 8m 9s        ┆ Fair         │\n",
      "│ 60D           ┆              ┆ 17:08:54     ┆ 17:17:03     ┆   ┆            ┆          ┆              ┆              │\n",
      "│ 5DD24A79A4E00 ┆ docked_bike  ┆ 2020-04-01   ┆ 2020-04-01   ┆ … ┆ 2020-04-01 ┆ 18:08:36 ┆ 14m 23s      ┆ Fair         │\n",
      "│ 6F4           ┆              ┆ 17:54:13     ┆ 18:08:36     ┆   ┆            ┆          ┆              ┆              │\n",
      "│ 2A59BBDF5CDBA ┆ docked_bike  ┆ 2020-04-07   ┆ 2020-04-07   ┆ … ┆ 2020-04-07 ┆ 13:02:31 ┆ 12m 12s      ┆ Fair         │\n",
      "│ 725           ┆              ┆ 12:50:19     ┆ 13:02:31     ┆   ┆            ┆          ┆              ┆              │\n",
      "│ 27AD306C119C6 ┆ docked_bike  ┆ 2020-04-18   ┆ 2020-04-18   ┆ … ┆ 2020-04-18 ┆ 11:15:54 ┆ 52m 55s      ┆ Fair         │\n",
      "│ 158           ┆              ┆ 10:22:59     ┆ 11:15:54     ┆   ┆            ┆          ┆              ┆              │\n",
      "│ …             ┆ …            ┆ …            ┆ …            ┆ … ┆ …          ┆ …        ┆ …            ┆ …            │\n",
      "│ 4631EE956BCEA ┆ classic_bike ┆ 2020-12-19   ┆ 2020-12-19   ┆ … ┆ 2020-12-19 ┆ 14:03:21 ┆ 3m 48s       ┆ Fair         │\n",
      "│ 738           ┆              ┆ 13:59:33     ┆ 14:03:21     ┆   ┆            ┆          ┆              ┆              │\n",
      "│ D17CBEDEA8DBD ┆ electric_bik ┆ 2020-12-20   ┆ 2020-12-20   ┆ … ┆ 2020-12-20 ┆ 15:52:14 ┆ 3m 33s       ┆ Fair         │\n",
      "│ FF6           ┆ e            ┆ 15:48:41     ┆ 15:52:14     ┆   ┆            ┆          ┆              ┆              │\n",
      "│ 447A6C67E9AF9 ┆ docked_bike  ┆ 2020-12-02   ┆ 2020-12-02   ┆ … ┆ 2020-12-02 ┆ 17:08:28 ┆ 8m 30s       ┆ Fair         │\n",
      "│ 62E           ┆              ┆ 16:59:58     ┆ 17:08:28     ┆   ┆            ┆          ┆              ┆              │\n",
      "│ F558C17E95751 ┆ electric_bik ┆ 2020-12-20   ┆ 2020-12-20   ┆ … ┆ 2020-12-20 ┆ 18:09:53 ┆ 3m 1s        ┆ Fair         │\n",
      "│ C62           ┆ e            ┆ 18:06:52     ┆ 18:09:53     ┆   ┆            ┆          ┆              ┆              │\n",
      "│ E1888F4B274EE ┆ electric_bik ┆ 2020-12-03   ┆ 2020-12-03   ┆ … ┆ 2020-12-03 ┆ 09:47:14 ┆ 3m 32s       ┆ Fair         │\n",
      "│ A12           ┆ e            ┆ 09:43:42     ┆ 09:47:14     ┆   ┆            ┆          ┆              ┆              │\n",
      "└───────────────┴──────────────┴──────────────┴──────────────┴───┴────────────┴──────────┴──────────────┴──────────────┘\n"
     ]
    }
   ],
   "source": [
    "import polars as pl\n",
    "import numpy as np\n",
    "from scipy.spatial import cKDTree  # Fast nearest-neighbor search\n",
    "\n",
    "def find_nearest_place_polars(df: pl.DataFrame) -> pl.DataFrame:\n",
    "    \"\"\"\n",
    "    Assigns the nearest place name to rows where 'start_station_name' is missing.\n",
    "    Uses KDTree for fast nearest-neighbor lookup.\n",
    "    \"\"\"\n",
    "\n",
    "    # Convert to Pandas for KDTree operations (only for lat/lng processing)\n",
    "    df_pandas = df.to_pandas()\n",
    "\n",
    "    # Extract valid and missing place data\n",
    "    valid_places = df_pandas[df_pandas[\"start_station_name\"].notna()]\n",
    "    missing_places = df_pandas[df_pandas[\"start_station_name\"].isna()]\n",
    "\n",
    "    # Build KDTree for fast nearest neighbor search\n",
    "    if not valid_places.empty:\n",
    "        valid_coords = np.array(list(zip(valid_places[\"start_lat\"], valid_places[\"start_lng\"])))\n",
    "        tree = cKDTree(valid_coords)\n",
    "\n",
    "        # Find nearest valid station for each missing station\n",
    "        if not missing_places.empty:\n",
    "            missing_coords = np.array(list(zip(missing_places[\"start_lat\"], missing_places[\"start_lng\"])))\n",
    "            _, nearest_indices = tree.query(missing_coords)\n",
    "\n",
    "            # Assign nearest station names\n",
    "            missing_places[\"start_station_name\"] = valid_places.iloc[nearest_indices][\"start_station_name\"].values\n",
    "\n",
    "            # Merge back the updated missing places\n",
    "            df_pandas.loc[df_pandas[\"start_station_name\"].isna(), \"start_station_name\"] = missing_places[\"start_station_name\"]\n",
    "\n",
    "    # Convert back to Polars\n",
    "    return pl.from_pandas(df_pandas)\n",
    "\n",
    "# Example usage\n",
    "try:\n",
    "    df_cleaned = pl.DataFrame(data_1)  # Ensure data_1 is defined\n",
    "    df_cleaned = find_nearest_place_polars(df_cleaned)\n",
    "    print(df_cleaned)\n",
    "except NameError:\n",
    "    print(\"Error: 'data_1' is not defined. Make sure your dataset exists.\")\n"
   ]
  },
  {
   "cell_type": "code",
   "execution_count": 92,
   "id": "c2c7eebe-78ff-4da2-9b09-f7dba1ac33c6",
   "metadata": {},
   "outputs": [
    {
     "name": "stdout",
     "output_type": "stream",
     "text": [
      "Missing values in start_station_name: 0\n"
     ]
    }
   ],
   "source": [
    "# Count missing values in start_station_name\n",
    "missing_count = df_cleaned[\"start_station_name\"].is_null().sum()\n",
    "print(f\"Missing values in start_station_name: {missing_count}\")"
   ]
  },
  {
   "cell_type": "code",
   "execution_count": 44,
   "id": "4ee82b71-2bda-471d-980e-286891ce6f51",
   "metadata": {},
   "outputs": [
    {
     "name": "stderr",
     "output_type": "stream",
     "text": [
      "C:\\Users\\Sowjanya\\AppData\\Local\\Temp\\ipykernel_28104\\65436734.py:32: SettingWithCopyWarning: \n",
      "A value is trying to be set on a copy of a slice from a DataFrame.\n",
      "Try using .loc[row_indexer,col_indexer] = value instead\n",
      "\n",
      "See the caveats in the documentation: https://pandas.pydata.org/pandas-docs/stable/user_guide/indexing.html#returning-a-view-versus-a-copy\n",
      "  missing_places[station_col] = valid_places.iloc[nearest_indices][station_col].values\n",
      "C:\\Users\\Sowjanya\\AppData\\Local\\Temp\\ipykernel_28104\\65436734.py:32: SettingWithCopyWarning: \n",
      "A value is trying to be set on a copy of a slice from a DataFrame.\n",
      "Try using .loc[row_indexer,col_indexer] = value instead\n",
      "\n",
      "See the caveats in the documentation: https://pandas.pydata.org/pandas-docs/stable/user_guide/indexing.html#returning-a-view-versus-a-copy\n",
      "  missing_places[station_col] = valid_places.iloc[nearest_indices][station_col].values\n"
     ]
    },
    {
     "name": "stdout",
     "output_type": "stream",
     "text": [
      "shape: (3_110_542, 17)\n",
      "┌───────────────┬──────────────┬──────────────┬──────────────┬───┬────────────┬──────────┬──────────────┬──────────────┐\n",
      "│ ride_id       ┆ rideable_typ ┆ started_at   ┆ ended_at     ┆ … ┆ end_date   ┆ end_time ┆ duration     ┆ ride_validit │\n",
      "│ ---           ┆ e            ┆ ---          ┆ ---          ┆   ┆ ---        ┆ ---      ┆ ---          ┆ y            │\n",
      "│ str           ┆ ---          ┆ datetime[μs] ┆ datetime[μs] ┆   ┆ str        ┆ str      ┆ duration[μs] ┆ ---          │\n",
      "│               ┆ str          ┆              ┆              ┆   ┆            ┆          ┆              ┆ str          │\n",
      "╞═══════════════╪══════════════╪══════════════╪══════════════╪═══╪════════════╪══════════╪══════════════╪══════════════╡\n",
      "│ A847FADBBC638 ┆ docked_bike  ┆ 2020-04-26   ┆ 2020-04-26   ┆ … ┆ 2020-04-26 ┆ 18:12:03 ┆ 26m 49s      ┆ Fair         │\n",
      "│ E45           ┆              ┆ 17:45:14     ┆ 18:12:03     ┆   ┆            ┆          ┆              ┆              │\n",
      "│ 5405B80E996FF ┆ docked_bike  ┆ 2020-04-17   ┆ 2020-04-17   ┆ … ┆ 2020-04-17 ┆ 17:17:03 ┆ 8m 9s        ┆ Fair         │\n",
      "│ 60D           ┆              ┆ 17:08:54     ┆ 17:17:03     ┆   ┆            ┆          ┆              ┆              │\n",
      "│ 5DD24A79A4E00 ┆ docked_bike  ┆ 2020-04-01   ┆ 2020-04-01   ┆ … ┆ 2020-04-01 ┆ 18:08:36 ┆ 14m 23s      ┆ Fair         │\n",
      "│ 6F4           ┆              ┆ 17:54:13     ┆ 18:08:36     ┆   ┆            ┆          ┆              ┆              │\n",
      "│ 2A59BBDF5CDBA ┆ docked_bike  ┆ 2020-04-07   ┆ 2020-04-07   ┆ … ┆ 2020-04-07 ┆ 13:02:31 ┆ 12m 12s      ┆ Fair         │\n",
      "│ 725           ┆              ┆ 12:50:19     ┆ 13:02:31     ┆   ┆            ┆          ┆              ┆              │\n",
      "│ 27AD306C119C6 ┆ docked_bike  ┆ 2020-04-18   ┆ 2020-04-18   ┆ … ┆ 2020-04-18 ┆ 11:15:54 ┆ 52m 55s      ┆ Fair         │\n",
      "│ 158           ┆              ┆ 10:22:59     ┆ 11:15:54     ┆   ┆            ┆          ┆              ┆              │\n",
      "│ …             ┆ …            ┆ …            ┆ …            ┆ … ┆ …          ┆ …        ┆ …            ┆ …            │\n",
      "│ 4631EE956BCEA ┆ classic_bike ┆ 2020-12-19   ┆ 2020-12-19   ┆ … ┆ 2020-12-19 ┆ 14:03:21 ┆ 3m 48s       ┆ Fair         │\n",
      "│ 738           ┆              ┆ 13:59:33     ┆ 14:03:21     ┆   ┆            ┆          ┆              ┆              │\n",
      "│ D17CBEDEA8DBD ┆ electric_bik ┆ 2020-12-20   ┆ 2020-12-20   ┆ … ┆ 2020-12-20 ┆ 15:52:14 ┆ 3m 33s       ┆ Fair         │\n",
      "│ FF6           ┆ e            ┆ 15:48:41     ┆ 15:52:14     ┆   ┆            ┆          ┆              ┆              │\n",
      "│ 447A6C67E9AF9 ┆ docked_bike  ┆ 2020-12-02   ┆ 2020-12-02   ┆ … ┆ 2020-12-02 ┆ 17:08:28 ┆ 8m 30s       ┆ Fair         │\n",
      "│ 62E           ┆              ┆ 16:59:58     ┆ 17:08:28     ┆   ┆            ┆          ┆              ┆              │\n",
      "│ F558C17E95751 ┆ electric_bik ┆ 2020-12-20   ┆ 2020-12-20   ┆ … ┆ 2020-12-20 ┆ 18:09:53 ┆ 3m 1s        ┆ Fair         │\n",
      "│ C62           ┆ e            ┆ 18:06:52     ┆ 18:09:53     ┆   ┆            ┆          ┆              ┆              │\n",
      "│ E1888F4B274EE ┆ electric_bik ┆ 2020-12-03   ┆ 2020-12-03   ┆ … ┆ 2020-12-03 ┆ 09:47:14 ┆ 3m 32s       ┆ Fair         │\n",
      "│ A12           ┆ e            ┆ 09:43:42     ┆ 09:47:14     ┆   ┆            ┆          ┆              ┆              │\n",
      "└───────────────┴──────────────┴──────────────┴──────────────┴───┴────────────┴──────────┴──────────────┴──────────────┘\n"
     ]
    }
   ],
   "source": [
    "import polars as pl\n",
    "import numpy as np\n",
    "from scipy.spatial import cKDTree  # Fast nearest-neighbor search\n",
    "\n",
    "def find_nearest_place_polars(df: pl.DataFrame) -> pl.DataFrame:\n",
    "    \"\"\"\n",
    "    Assigns the nearest place name to rows where 'start_station_name' and 'end_station_name' are missing.\n",
    "    Uses KDTree for fast nearest-neighbor lookup.\n",
    "    \"\"\"\n",
    "\n",
    "    # Convert Polars to Pandas for KDTree operations\n",
    "    df_pandas = df.to_pandas()\n",
    "\n",
    "    def fill_missing_station(df, station_col, lat_col, lng_col):\n",
    "        \"\"\"\n",
    "        Helper function to fill missing station names based on nearest valid locations.\n",
    "        \"\"\"\n",
    "        valid_places = df[df[station_col].notna()]\n",
    "        missing_places = df[df[station_col].isna()]\n",
    "\n",
    "        # Build KDTree for fast nearest neighbor search\n",
    "        if not valid_places.empty:\n",
    "            valid_coords = np.array(list(zip(valid_places[lat_col], valid_places[lng_col])))\n",
    "            tree = cKDTree(valid_coords)\n",
    "\n",
    "            # Find nearest valid station for each missing station\n",
    "            if not missing_places.empty:\n",
    "                missing_coords = np.array(list(zip(missing_places[lat_col], missing_places[lng_col])))\n",
    "                _, nearest_indices = tree.query(missing_coords)\n",
    "\n",
    "                # Assign nearest station names\n",
    "                missing_places[station_col] = valid_places.iloc[nearest_indices][station_col].values\n",
    "\n",
    "                # Merge back the updated missing places\n",
    "                df.loc[df[station_col].isna(), station_col] = missing_places[station_col]\n",
    "\n",
    "    # Fill missing values for start and end stations\n",
    "    fill_missing_station(df_pandas, \"start_station_name\", \"start_lat\", \"start_lng\")\n",
    "    fill_missing_station(df_pandas, \"end_station_name\", \"end_lat\", \"end_lng\")\n",
    "\n",
    "    # Convert back to Polars\n",
    "    return pl.from_pandas(df_pandas)\n",
    "\n",
    "# Example usage\n",
    "try:\n",
    "    df_cleaned = pl.DataFrame(data_1)  # Ensure data_1 is defined\n",
    "    df_cleaned = find_nearest_place_polars(df_cleaned)\n",
    "    print(df_cleaned)\n",
    "except NameError:\n",
    "    print(\"Error: 'data_1' is not defined. Make sure your dataset exists.\")"
   ]
  },
  {
   "cell_type": "code",
   "execution_count": 46,
   "id": "bd867d5c-edf5-4493-89a8-b65b35560e66",
   "metadata": {},
   "outputs": [
    {
     "name": "stdout",
     "output_type": "stream",
     "text": [
      "Missing values in end_station_name: 0\n"
     ]
    }
   ],
   "source": [
    "# Count missing values in start_station_name\n",
    "missing_count = df_cleaned[\"end_station_name\"].is_null().sum()\n",
    "print(f\"Missing values in end_station_name: {missing_count}\")"
   ]
  },
  {
   "cell_type": "code",
   "execution_count": 48,
   "id": "b99bfe92-a942-422b-85a9-3caa3e0bd961",
   "metadata": {},
   "outputs": [],
   "source": [
    "df_cleaned = df_cleaned.with_columns(\n",
    "    df_cleaned[\"duration\"].dt.total_seconds().cast(pl.Float64).alias(\"duration_seconds\")\n",
    ")"
   ]
  },
  {
   "cell_type": "code",
   "execution_count": 50,
   "id": "0e79e69e-f10d-4dc2-8797-262cc6f98d09",
   "metadata": {},
   "outputs": [
    {
     "data": {
      "text/plain": [
       "Schema([('ride_id', String),\n",
       "        ('rideable_type', String),\n",
       "        ('started_at', Datetime(time_unit='us', time_zone=None)),\n",
       "        ('ended_at', Datetime(time_unit='us', time_zone=None)),\n",
       "        ('start_station_name', String),\n",
       "        ('end_station_name', String),\n",
       "        ('start_lat', String),\n",
       "        ('start_lng', String),\n",
       "        ('end_lat', String),\n",
       "        ('end_lng', String),\n",
       "        ('member_casual', String),\n",
       "        ('start_date', String),\n",
       "        ('start_time', String),\n",
       "        ('end_date', String),\n",
       "        ('end_time', String),\n",
       "        ('duration', Duration(time_unit='us')),\n",
       "        ('ride_validity', String),\n",
       "        ('duration_seconds', Float64)])"
      ]
     },
     "execution_count": 50,
     "metadata": {},
     "output_type": "execute_result"
    }
   ],
   "source": [
    "df_cleaned.schema"
   ]
  },
  {
   "cell_type": "code",
   "execution_count": 52,
   "id": "d8775570-8d3e-400c-94ff-36988c569350",
   "metadata": {},
   "outputs": [
    {
     "data": {
      "text/html": [
       "<div><style>\n",
       ".dataframe > thead > tr,\n",
       ".dataframe > tbody > tr {\n",
       "  text-align: right;\n",
       "  white-space: pre-wrap;\n",
       "}\n",
       "</style>\n",
       "<small>shape: (3_110_542, 18)</small><table border=\"1\" class=\"dataframe\"><thead><tr><th>ride_id</th><th>rideable_type</th><th>started_at</th><th>ended_at</th><th>start_station_name</th><th>end_station_name</th><th>start_lat</th><th>start_lng</th><th>end_lat</th><th>end_lng</th><th>member_casual</th><th>start_date</th><th>start_time</th><th>end_date</th><th>end_time</th><th>duration</th><th>ride_validity</th><th>duration_seconds</th></tr><tr><td>str</td><td>str</td><td>datetime[μs]</td><td>datetime[μs]</td><td>str</td><td>str</td><td>str</td><td>str</td><td>str</td><td>str</td><td>str</td><td>str</td><td>str</td><td>str</td><td>str</td><td>duration[μs]</td><td>str</td><td>f64</td></tr></thead><tbody><tr><td>&quot;A847FADBBC638E45&quot;</td><td>&quot;docked_bike&quot;</td><td>2020-04-26 17:45:14</td><td>2020-04-26 18:12:03</td><td>&quot;Eckhart Park&quot;</td><td>&quot;Lincoln Ave &amp; Diversey Pkwy&quot;</td><td>&quot;41.8964&quot;</td><td>&quot;-87.661&quot;</td><td>&quot;41.9322&quot;</td><td>&quot;-87.6586&quot;</td><td>&quot;member&quot;</td><td>&quot;2020-04-26&quot;</td><td>&quot;17:45:14&quot;</td><td>&quot;2020-04-26&quot;</td><td>&quot;18:12:03&quot;</td><td>26m 49s</td><td>&quot;Fair&quot;</td><td>1609.0</td></tr><tr><td>&quot;5405B80E996FF60D&quot;</td><td>&quot;docked_bike&quot;</td><td>2020-04-17 17:08:54</td><td>2020-04-17 17:17:03</td><td>&quot;Drake Ave &amp; Fullerton Ave&quot;</td><td>&quot;Kosciuszko Park&quot;</td><td>&quot;41.9244&quot;</td><td>&quot;-87.7154&quot;</td><td>&quot;41.9306&quot;</td><td>&quot;-87.7238&quot;</td><td>&quot;member&quot;</td><td>&quot;2020-04-17&quot;</td><td>&quot;17:08:54&quot;</td><td>&quot;2020-04-17&quot;</td><td>&quot;17:17:03&quot;</td><td>8m 9s</td><td>&quot;Fair&quot;</td><td>489.0</td></tr><tr><td>&quot;5DD24A79A4E006F4&quot;</td><td>&quot;docked_bike&quot;</td><td>2020-04-01 17:54:13</td><td>2020-04-01 18:08:36</td><td>&quot;McClurg Ct &amp; Erie St&quot;</td><td>&quot;Indiana Ave &amp; Roosevelt Rd&quot;</td><td>&quot;41.8945&quot;</td><td>&quot;-87.6179&quot;</td><td>&quot;41.8679&quot;</td><td>&quot;-87.623&quot;</td><td>&quot;member&quot;</td><td>&quot;2020-04-01&quot;</td><td>&quot;17:54:13&quot;</td><td>&quot;2020-04-01&quot;</td><td>&quot;18:08:36&quot;</td><td>14m 23s</td><td>&quot;Fair&quot;</td><td>863.0</td></tr><tr><td>&quot;2A59BBDF5CDBA725&quot;</td><td>&quot;docked_bike&quot;</td><td>2020-04-07 12:50:19</td><td>2020-04-07 13:02:31</td><td>&quot;California Ave &amp; Division St&quot;</td><td>&quot;Wood St &amp; Augusta Blvd&quot;</td><td>&quot;41.903&quot;</td><td>&quot;-87.6975&quot;</td><td>&quot;41.8992&quot;</td><td>&quot;-87.6722&quot;</td><td>&quot;member&quot;</td><td>&quot;2020-04-07&quot;</td><td>&quot;12:50:19&quot;</td><td>&quot;2020-04-07&quot;</td><td>&quot;13:02:31&quot;</td><td>12m 12s</td><td>&quot;Fair&quot;</td><td>732.0</td></tr><tr><td>&quot;27AD306C119C6158&quot;</td><td>&quot;docked_bike&quot;</td><td>2020-04-18 10:22:59</td><td>2020-04-18 11:15:54</td><td>&quot;Rush St &amp; Hubbard St&quot;</td><td>&quot;Sheridan Rd &amp; Lawrence Ave&quot;</td><td>&quot;41.8902&quot;</td><td>&quot;-87.6262&quot;</td><td>&quot;41.9695&quot;</td><td>&quot;-87.6547&quot;</td><td>&quot;casual&quot;</td><td>&quot;2020-04-18&quot;</td><td>&quot;10:22:59&quot;</td><td>&quot;2020-04-18&quot;</td><td>&quot;11:15:54&quot;</td><td>52m 55s</td><td>&quot;Fair&quot;</td><td>3175.0</td></tr><tr><td>&hellip;</td><td>&hellip;</td><td>&hellip;</td><td>&hellip;</td><td>&hellip;</td><td>&hellip;</td><td>&hellip;</td><td>&hellip;</td><td>&hellip;</td><td>&hellip;</td><td>&hellip;</td><td>&hellip;</td><td>&hellip;</td><td>&hellip;</td><td>&hellip;</td><td>&hellip;</td><td>&hellip;</td><td>&hellip;</td></tr><tr><td>&quot;4631EE956BCEA738&quot;</td><td>&quot;classic_bike&quot;</td><td>2020-12-19 13:59:33</td><td>2020-12-19 14:03:21</td><td>&quot;Rhodes Ave &amp; 32nd St&quot;</td><td>&quot;Indiana Ave &amp; 31st St&quot;</td><td>&quot;41.836208&quot;</td><td>&quot;-87.613533&quot;</td><td>&quot;41.838842&quot;</td><td>&quot;-87.621857&quot;</td><td>&quot;casual&quot;</td><td>&quot;2020-12-19&quot;</td><td>&quot;13:59:33&quot;</td><td>&quot;2020-12-19&quot;</td><td>&quot;14:03:21&quot;</td><td>3m 48s</td><td>&quot;Fair&quot;</td><td>228.0</td></tr><tr><td>&quot;D17CBEDEA8DBDFF6&quot;</td><td>&quot;electric_bike&quot;</td><td>2020-12-20 15:48:41</td><td>2020-12-20 15:52:14</td><td>&quot;Rhodes Ave &amp; 32nd St&quot;</td><td>&quot;Indiana Ave &amp; 31st St&quot;</td><td>&quot;41.836723166666665&quot;</td><td>&quot;-87.61336483333334&quot;</td><td>&quot;41.838722833333335&quot;</td><td>&quot;-87.6218535&quot;</td><td>&quot;member&quot;</td><td>&quot;2020-12-20&quot;</td><td>&quot;15:48:41&quot;</td><td>&quot;2020-12-20&quot;</td><td>&quot;15:52:14&quot;</td><td>3m 33s</td><td>&quot;Fair&quot;</td><td>213.0</td></tr><tr><td>&quot;447A6C67E9AF962E&quot;</td><td>&quot;docked_bike&quot;</td><td>2020-12-02 16:59:58</td><td>2020-12-02 17:08:28</td><td>&quot;Rhodes Ave &amp; 32nd St&quot;</td><td>&quot;Indiana Ave &amp; 31st St&quot;</td><td>&quot;41.836208&quot;</td><td>&quot;-87.613533&quot;</td><td>&quot;41.838842&quot;</td><td>&quot;-87.621857&quot;</td><td>&quot;member&quot;</td><td>&quot;2020-12-02&quot;</td><td>&quot;16:59:58&quot;</td><td>&quot;2020-12-02&quot;</td><td>&quot;17:08:28&quot;</td><td>8m 30s</td><td>&quot;Fair&quot;</td><td>510.0</td></tr><tr><td>&quot;F558C17E95751C62&quot;</td><td>&quot;electric_bike&quot;</td><td>2020-12-20 18:06:52</td><td>2020-12-20 18:09:53</td><td>&quot;Rhodes Ave &amp; 32nd St&quot;</td><td>&quot;Indiana Ave &amp; 31st St&quot;</td><td>&quot;41.836734166666666&quot;</td><td>&quot;-87.61339383333333&quot;</td><td>&quot;41.8387495&quot;</td><td>&quot;-87.621862&quot;</td><td>&quot;member&quot;</td><td>&quot;2020-12-20&quot;</td><td>&quot;18:06:52&quot;</td><td>&quot;2020-12-20&quot;</td><td>&quot;18:09:53&quot;</td><td>3m 1s</td><td>&quot;Fair&quot;</td><td>181.0</td></tr><tr><td>&quot;E1888F4B274EEA12&quot;</td><td>&quot;electric_bike&quot;</td><td>2020-12-03 09:43:42</td><td>2020-12-03 09:47:14</td><td>&quot;Rhodes Ave &amp; 32nd St&quot;</td><td>&quot;Indiana Ave &amp; 31st St&quot;</td><td>&quot;41.836766&quot;</td><td>&quot;-87.6133655&quot;</td><td>&quot;41.8386805&quot;</td><td>&quot;-87.62185366666667&quot;</td><td>&quot;member&quot;</td><td>&quot;2020-12-03&quot;</td><td>&quot;09:43:42&quot;</td><td>&quot;2020-12-03&quot;</td><td>&quot;09:47:14&quot;</td><td>3m 32s</td><td>&quot;Fair&quot;</td><td>212.0</td></tr></tbody></table></div>"
      ],
      "text/plain": [
       "shape: (3_110_542, 18)\n",
       "┌──────────────┬──────────────┬──────────────┬──────────────┬───┬──────────┬──────────────┬──────────────┬─────────────┐\n",
       "│ ride_id      ┆ rideable_typ ┆ started_at   ┆ ended_at     ┆ … ┆ end_time ┆ duration     ┆ ride_validit ┆ duration_se │\n",
       "│ ---          ┆ e            ┆ ---          ┆ ---          ┆   ┆ ---      ┆ ---          ┆ y            ┆ conds       │\n",
       "│ str          ┆ ---          ┆ datetime[μs] ┆ datetime[μs] ┆   ┆ str      ┆ duration[μs] ┆ ---          ┆ ---         │\n",
       "│              ┆ str          ┆              ┆              ┆   ┆          ┆              ┆ str          ┆ f64         │\n",
       "╞══════════════╪══════════════╪══════════════╪══════════════╪═══╪══════════╪══════════════╪══════════════╪═════════════╡\n",
       "│ A847FADBBC63 ┆ docked_bike  ┆ 2020-04-26   ┆ 2020-04-26   ┆ … ┆ 18:12:03 ┆ 26m 49s      ┆ Fair         ┆ 1609.0      │\n",
       "│ 8E45         ┆              ┆ 17:45:14     ┆ 18:12:03     ┆   ┆          ┆              ┆              ┆             │\n",
       "│ 5405B80E996F ┆ docked_bike  ┆ 2020-04-17   ┆ 2020-04-17   ┆ … ┆ 17:17:03 ┆ 8m 9s        ┆ Fair         ┆ 489.0       │\n",
       "│ F60D         ┆              ┆ 17:08:54     ┆ 17:17:03     ┆   ┆          ┆              ┆              ┆             │\n",
       "│ 5DD24A79A4E0 ┆ docked_bike  ┆ 2020-04-01   ┆ 2020-04-01   ┆ … ┆ 18:08:36 ┆ 14m 23s      ┆ Fair         ┆ 863.0       │\n",
       "│ 06F4         ┆              ┆ 17:54:13     ┆ 18:08:36     ┆   ┆          ┆              ┆              ┆             │\n",
       "│ 2A59BBDF5CDB ┆ docked_bike  ┆ 2020-04-07   ┆ 2020-04-07   ┆ … ┆ 13:02:31 ┆ 12m 12s      ┆ Fair         ┆ 732.0       │\n",
       "│ A725         ┆              ┆ 12:50:19     ┆ 13:02:31     ┆   ┆          ┆              ┆              ┆             │\n",
       "│ 27AD306C119C ┆ docked_bike  ┆ 2020-04-18   ┆ 2020-04-18   ┆ … ┆ 11:15:54 ┆ 52m 55s      ┆ Fair         ┆ 3175.0      │\n",
       "│ 6158         ┆              ┆ 10:22:59     ┆ 11:15:54     ┆   ┆          ┆              ┆              ┆             │\n",
       "│ …            ┆ …            ┆ …            ┆ …            ┆ … ┆ …        ┆ …            ┆ …            ┆ …           │\n",
       "│ 4631EE956BCE ┆ classic_bike ┆ 2020-12-19   ┆ 2020-12-19   ┆ … ┆ 14:03:21 ┆ 3m 48s       ┆ Fair         ┆ 228.0       │\n",
       "│ A738         ┆              ┆ 13:59:33     ┆ 14:03:21     ┆   ┆          ┆              ┆              ┆             │\n",
       "│ D17CBEDEA8DB ┆ electric_bik ┆ 2020-12-20   ┆ 2020-12-20   ┆ … ┆ 15:52:14 ┆ 3m 33s       ┆ Fair         ┆ 213.0       │\n",
       "│ DFF6         ┆ e            ┆ 15:48:41     ┆ 15:52:14     ┆   ┆          ┆              ┆              ┆             │\n",
       "│ 447A6C67E9AF ┆ docked_bike  ┆ 2020-12-02   ┆ 2020-12-02   ┆ … ┆ 17:08:28 ┆ 8m 30s       ┆ Fair         ┆ 510.0       │\n",
       "│ 962E         ┆              ┆ 16:59:58     ┆ 17:08:28     ┆   ┆          ┆              ┆              ┆             │\n",
       "│ F558C17E9575 ┆ electric_bik ┆ 2020-12-20   ┆ 2020-12-20   ┆ … ┆ 18:09:53 ┆ 3m 1s        ┆ Fair         ┆ 181.0       │\n",
       "│ 1C62         ┆ e            ┆ 18:06:52     ┆ 18:09:53     ┆   ┆          ┆              ┆              ┆             │\n",
       "│ E1888F4B274E ┆ electric_bik ┆ 2020-12-03   ┆ 2020-12-03   ┆ … ┆ 09:47:14 ┆ 3m 32s       ┆ Fair         ┆ 212.0       │\n",
       "│ EA12         ┆ e            ┆ 09:43:42     ┆ 09:47:14     ┆   ┆          ┆              ┆              ┆             │\n",
       "└──────────────┴──────────────┴──────────────┴──────────────┴───┴──────────┴──────────────┴──────────────┴─────────────┘"
      ]
     },
     "execution_count": 52,
     "metadata": {},
     "output_type": "execute_result"
    }
   ],
   "source": [
    "df_cleaned"
   ]
  },
  {
   "cell_type": "code",
   "execution_count": 54,
   "id": "79be89db-583a-4613-a997-6eaac80dd200",
   "metadata": {},
   "outputs": [],
   "source": [
    "df_cleaned = df_cleaned.drop(\"duration_seconds\")\n"
   ]
  },
  {
   "cell_type": "code",
   "execution_count": 56,
   "id": "a29a1892-6971-4f50-a0c3-b3ebd6e161c8",
   "metadata": {},
   "outputs": [],
   "source": [
    "df_cleaned = df_cleaned.with_columns([\n",
    "    df_cleaned[\"started_at\"].cast(pl.Utf8).alias(\"started_at\"),\n",
    "    df_cleaned[\"ended_at\"].cast(pl.Utf8).alias(\"ended_at\"),\n",
    "    df_cleaned[\"duration\"].dt.total_seconds().cast(pl.Utf8).alias(\"duration\")  # Convert to seconds, then string\n",
    "])\n"
   ]
  },
  {
   "cell_type": "code",
   "execution_count": 57,
   "id": "f9eeb086-27b4-4647-939c-bf7d42707d6e",
   "metadata": {},
   "outputs": [
    {
     "data": {
      "text/html": [
       "<div><style>\n",
       ".dataframe > thead > tr,\n",
       ".dataframe > tbody > tr {\n",
       "  text-align: right;\n",
       "  white-space: pre-wrap;\n",
       "}\n",
       "</style>\n",
       "<small>shape: (3_110_542, 17)</small><table border=\"1\" class=\"dataframe\"><thead><tr><th>ride_id</th><th>rideable_type</th><th>started_at</th><th>ended_at</th><th>start_station_name</th><th>end_station_name</th><th>start_lat</th><th>start_lng</th><th>end_lat</th><th>end_lng</th><th>member_casual</th><th>start_date</th><th>start_time</th><th>end_date</th><th>end_time</th><th>duration</th><th>ride_validity</th></tr><tr><td>str</td><td>str</td><td>str</td><td>str</td><td>str</td><td>str</td><td>str</td><td>str</td><td>str</td><td>str</td><td>str</td><td>str</td><td>str</td><td>str</td><td>str</td><td>str</td><td>str</td></tr></thead><tbody><tr><td>&quot;A847FADBBC638E45&quot;</td><td>&quot;docked_bike&quot;</td><td>&quot;2020-04-26 17:45:14.000000&quot;</td><td>&quot;2020-04-26 18:12:03.000000&quot;</td><td>&quot;Eckhart Park&quot;</td><td>&quot;Lincoln Ave &amp; Diversey Pkwy&quot;</td><td>&quot;41.8964&quot;</td><td>&quot;-87.661&quot;</td><td>&quot;41.9322&quot;</td><td>&quot;-87.6586&quot;</td><td>&quot;member&quot;</td><td>&quot;2020-04-26&quot;</td><td>&quot;17:45:14&quot;</td><td>&quot;2020-04-26&quot;</td><td>&quot;18:12:03&quot;</td><td>&quot;1609&quot;</td><td>&quot;Fair&quot;</td></tr><tr><td>&quot;5405B80E996FF60D&quot;</td><td>&quot;docked_bike&quot;</td><td>&quot;2020-04-17 17:08:54.000000&quot;</td><td>&quot;2020-04-17 17:17:03.000000&quot;</td><td>&quot;Drake Ave &amp; Fullerton Ave&quot;</td><td>&quot;Kosciuszko Park&quot;</td><td>&quot;41.9244&quot;</td><td>&quot;-87.7154&quot;</td><td>&quot;41.9306&quot;</td><td>&quot;-87.7238&quot;</td><td>&quot;member&quot;</td><td>&quot;2020-04-17&quot;</td><td>&quot;17:08:54&quot;</td><td>&quot;2020-04-17&quot;</td><td>&quot;17:17:03&quot;</td><td>&quot;489&quot;</td><td>&quot;Fair&quot;</td></tr><tr><td>&quot;5DD24A79A4E006F4&quot;</td><td>&quot;docked_bike&quot;</td><td>&quot;2020-04-01 17:54:13.000000&quot;</td><td>&quot;2020-04-01 18:08:36.000000&quot;</td><td>&quot;McClurg Ct &amp; Erie St&quot;</td><td>&quot;Indiana Ave &amp; Roosevelt Rd&quot;</td><td>&quot;41.8945&quot;</td><td>&quot;-87.6179&quot;</td><td>&quot;41.8679&quot;</td><td>&quot;-87.623&quot;</td><td>&quot;member&quot;</td><td>&quot;2020-04-01&quot;</td><td>&quot;17:54:13&quot;</td><td>&quot;2020-04-01&quot;</td><td>&quot;18:08:36&quot;</td><td>&quot;863&quot;</td><td>&quot;Fair&quot;</td></tr><tr><td>&quot;2A59BBDF5CDBA725&quot;</td><td>&quot;docked_bike&quot;</td><td>&quot;2020-04-07 12:50:19.000000&quot;</td><td>&quot;2020-04-07 13:02:31.000000&quot;</td><td>&quot;California Ave &amp; Division St&quot;</td><td>&quot;Wood St &amp; Augusta Blvd&quot;</td><td>&quot;41.903&quot;</td><td>&quot;-87.6975&quot;</td><td>&quot;41.8992&quot;</td><td>&quot;-87.6722&quot;</td><td>&quot;member&quot;</td><td>&quot;2020-04-07&quot;</td><td>&quot;12:50:19&quot;</td><td>&quot;2020-04-07&quot;</td><td>&quot;13:02:31&quot;</td><td>&quot;732&quot;</td><td>&quot;Fair&quot;</td></tr><tr><td>&quot;27AD306C119C6158&quot;</td><td>&quot;docked_bike&quot;</td><td>&quot;2020-04-18 10:22:59.000000&quot;</td><td>&quot;2020-04-18 11:15:54.000000&quot;</td><td>&quot;Rush St &amp; Hubbard St&quot;</td><td>&quot;Sheridan Rd &amp; Lawrence Ave&quot;</td><td>&quot;41.8902&quot;</td><td>&quot;-87.6262&quot;</td><td>&quot;41.9695&quot;</td><td>&quot;-87.6547&quot;</td><td>&quot;casual&quot;</td><td>&quot;2020-04-18&quot;</td><td>&quot;10:22:59&quot;</td><td>&quot;2020-04-18&quot;</td><td>&quot;11:15:54&quot;</td><td>&quot;3175&quot;</td><td>&quot;Fair&quot;</td></tr><tr><td>&hellip;</td><td>&hellip;</td><td>&hellip;</td><td>&hellip;</td><td>&hellip;</td><td>&hellip;</td><td>&hellip;</td><td>&hellip;</td><td>&hellip;</td><td>&hellip;</td><td>&hellip;</td><td>&hellip;</td><td>&hellip;</td><td>&hellip;</td><td>&hellip;</td><td>&hellip;</td><td>&hellip;</td></tr><tr><td>&quot;4631EE956BCEA738&quot;</td><td>&quot;classic_bike&quot;</td><td>&quot;2020-12-19 13:59:33.000000&quot;</td><td>&quot;2020-12-19 14:03:21.000000&quot;</td><td>&quot;Rhodes Ave &amp; 32nd St&quot;</td><td>&quot;Indiana Ave &amp; 31st St&quot;</td><td>&quot;41.836208&quot;</td><td>&quot;-87.613533&quot;</td><td>&quot;41.838842&quot;</td><td>&quot;-87.621857&quot;</td><td>&quot;casual&quot;</td><td>&quot;2020-12-19&quot;</td><td>&quot;13:59:33&quot;</td><td>&quot;2020-12-19&quot;</td><td>&quot;14:03:21&quot;</td><td>&quot;228&quot;</td><td>&quot;Fair&quot;</td></tr><tr><td>&quot;D17CBEDEA8DBDFF6&quot;</td><td>&quot;electric_bike&quot;</td><td>&quot;2020-12-20 15:48:41.000000&quot;</td><td>&quot;2020-12-20 15:52:14.000000&quot;</td><td>&quot;Rhodes Ave &amp; 32nd St&quot;</td><td>&quot;Indiana Ave &amp; 31st St&quot;</td><td>&quot;41.836723166666665&quot;</td><td>&quot;-87.61336483333334&quot;</td><td>&quot;41.838722833333335&quot;</td><td>&quot;-87.6218535&quot;</td><td>&quot;member&quot;</td><td>&quot;2020-12-20&quot;</td><td>&quot;15:48:41&quot;</td><td>&quot;2020-12-20&quot;</td><td>&quot;15:52:14&quot;</td><td>&quot;213&quot;</td><td>&quot;Fair&quot;</td></tr><tr><td>&quot;447A6C67E9AF962E&quot;</td><td>&quot;docked_bike&quot;</td><td>&quot;2020-12-02 16:59:58.000000&quot;</td><td>&quot;2020-12-02 17:08:28.000000&quot;</td><td>&quot;Rhodes Ave &amp; 32nd St&quot;</td><td>&quot;Indiana Ave &amp; 31st St&quot;</td><td>&quot;41.836208&quot;</td><td>&quot;-87.613533&quot;</td><td>&quot;41.838842&quot;</td><td>&quot;-87.621857&quot;</td><td>&quot;member&quot;</td><td>&quot;2020-12-02&quot;</td><td>&quot;16:59:58&quot;</td><td>&quot;2020-12-02&quot;</td><td>&quot;17:08:28&quot;</td><td>&quot;510&quot;</td><td>&quot;Fair&quot;</td></tr><tr><td>&quot;F558C17E95751C62&quot;</td><td>&quot;electric_bike&quot;</td><td>&quot;2020-12-20 18:06:52.000000&quot;</td><td>&quot;2020-12-20 18:09:53.000000&quot;</td><td>&quot;Rhodes Ave &amp; 32nd St&quot;</td><td>&quot;Indiana Ave &amp; 31st St&quot;</td><td>&quot;41.836734166666666&quot;</td><td>&quot;-87.61339383333333&quot;</td><td>&quot;41.8387495&quot;</td><td>&quot;-87.621862&quot;</td><td>&quot;member&quot;</td><td>&quot;2020-12-20&quot;</td><td>&quot;18:06:52&quot;</td><td>&quot;2020-12-20&quot;</td><td>&quot;18:09:53&quot;</td><td>&quot;181&quot;</td><td>&quot;Fair&quot;</td></tr><tr><td>&quot;E1888F4B274EEA12&quot;</td><td>&quot;electric_bike&quot;</td><td>&quot;2020-12-03 09:43:42.000000&quot;</td><td>&quot;2020-12-03 09:47:14.000000&quot;</td><td>&quot;Rhodes Ave &amp; 32nd St&quot;</td><td>&quot;Indiana Ave &amp; 31st St&quot;</td><td>&quot;41.836766&quot;</td><td>&quot;-87.6133655&quot;</td><td>&quot;41.8386805&quot;</td><td>&quot;-87.62185366666667&quot;</td><td>&quot;member&quot;</td><td>&quot;2020-12-03&quot;</td><td>&quot;09:43:42&quot;</td><td>&quot;2020-12-03&quot;</td><td>&quot;09:47:14&quot;</td><td>&quot;212&quot;</td><td>&quot;Fair&quot;</td></tr></tbody></table></div>"
      ],
      "text/plain": [
       "shape: (3_110_542, 17)\n",
       "┌───────────────┬───────────────┬───────────────┬───────────────┬───┬────────────┬──────────┬──────────┬───────────────┐\n",
       "│ ride_id       ┆ rideable_type ┆ started_at    ┆ ended_at      ┆ … ┆ end_date   ┆ end_time ┆ duration ┆ ride_validity │\n",
       "│ ---           ┆ ---           ┆ ---           ┆ ---           ┆   ┆ ---        ┆ ---      ┆ ---      ┆ ---           │\n",
       "│ str           ┆ str           ┆ str           ┆ str           ┆   ┆ str        ┆ str      ┆ str      ┆ str           │\n",
       "╞═══════════════╪═══════════════╪═══════════════╪═══════════════╪═══╪════════════╪══════════╪══════════╪═══════════════╡\n",
       "│ A847FADBBC638 ┆ docked_bike   ┆ 2020-04-26    ┆ 2020-04-26    ┆ … ┆ 2020-04-26 ┆ 18:12:03 ┆ 1609     ┆ Fair          │\n",
       "│ E45           ┆               ┆ 17:45:14.0000 ┆ 18:12:03.0000 ┆   ┆            ┆          ┆          ┆               │\n",
       "│               ┆               ┆ 00            ┆ 00            ┆   ┆            ┆          ┆          ┆               │\n",
       "│ 5405B80E996FF ┆ docked_bike   ┆ 2020-04-17    ┆ 2020-04-17    ┆ … ┆ 2020-04-17 ┆ 17:17:03 ┆ 489      ┆ Fair          │\n",
       "│ 60D           ┆               ┆ 17:08:54.0000 ┆ 17:17:03.0000 ┆   ┆            ┆          ┆          ┆               │\n",
       "│               ┆               ┆ 00            ┆ 00            ┆   ┆            ┆          ┆          ┆               │\n",
       "│ 5DD24A79A4E00 ┆ docked_bike   ┆ 2020-04-01    ┆ 2020-04-01    ┆ … ┆ 2020-04-01 ┆ 18:08:36 ┆ 863      ┆ Fair          │\n",
       "│ 6F4           ┆               ┆ 17:54:13.0000 ┆ 18:08:36.0000 ┆   ┆            ┆          ┆          ┆               │\n",
       "│               ┆               ┆ 00            ┆ 00            ┆   ┆            ┆          ┆          ┆               │\n",
       "│ 2A59BBDF5CDBA ┆ docked_bike   ┆ 2020-04-07    ┆ 2020-04-07    ┆ … ┆ 2020-04-07 ┆ 13:02:31 ┆ 732      ┆ Fair          │\n",
       "│ 725           ┆               ┆ 12:50:19.0000 ┆ 13:02:31.0000 ┆   ┆            ┆          ┆          ┆               │\n",
       "│               ┆               ┆ 00            ┆ 00            ┆   ┆            ┆          ┆          ┆               │\n",
       "│ 27AD306C119C6 ┆ docked_bike   ┆ 2020-04-18    ┆ 2020-04-18    ┆ … ┆ 2020-04-18 ┆ 11:15:54 ┆ 3175     ┆ Fair          │\n",
       "│ 158           ┆               ┆ 10:22:59.0000 ┆ 11:15:54.0000 ┆   ┆            ┆          ┆          ┆               │\n",
       "│               ┆               ┆ 00            ┆ 00            ┆   ┆            ┆          ┆          ┆               │\n",
       "│ …             ┆ …             ┆ …             ┆ …             ┆ … ┆ …          ┆ …        ┆ …        ┆ …             │\n",
       "│ 4631EE956BCEA ┆ classic_bike  ┆ 2020-12-19    ┆ 2020-12-19    ┆ … ┆ 2020-12-19 ┆ 14:03:21 ┆ 228      ┆ Fair          │\n",
       "│ 738           ┆               ┆ 13:59:33.0000 ┆ 14:03:21.0000 ┆   ┆            ┆          ┆          ┆               │\n",
       "│               ┆               ┆ 00            ┆ 00            ┆   ┆            ┆          ┆          ┆               │\n",
       "│ D17CBEDEA8DBD ┆ electric_bike ┆ 2020-12-20    ┆ 2020-12-20    ┆ … ┆ 2020-12-20 ┆ 15:52:14 ┆ 213      ┆ Fair          │\n",
       "│ FF6           ┆               ┆ 15:48:41.0000 ┆ 15:52:14.0000 ┆   ┆            ┆          ┆          ┆               │\n",
       "│               ┆               ┆ 00            ┆ 00            ┆   ┆            ┆          ┆          ┆               │\n",
       "│ 447A6C67E9AF9 ┆ docked_bike   ┆ 2020-12-02    ┆ 2020-12-02    ┆ … ┆ 2020-12-02 ┆ 17:08:28 ┆ 510      ┆ Fair          │\n",
       "│ 62E           ┆               ┆ 16:59:58.0000 ┆ 17:08:28.0000 ┆   ┆            ┆          ┆          ┆               │\n",
       "│               ┆               ┆ 00            ┆ 00            ┆   ┆            ┆          ┆          ┆               │\n",
       "│ F558C17E95751 ┆ electric_bike ┆ 2020-12-20    ┆ 2020-12-20    ┆ … ┆ 2020-12-20 ┆ 18:09:53 ┆ 181      ┆ Fair          │\n",
       "│ C62           ┆               ┆ 18:06:52.0000 ┆ 18:09:53.0000 ┆   ┆            ┆          ┆          ┆               │\n",
       "│               ┆               ┆ 00            ┆ 00            ┆   ┆            ┆          ┆          ┆               │\n",
       "│ E1888F4B274EE ┆ electric_bike ┆ 2020-12-03    ┆ 2020-12-03    ┆ … ┆ 2020-12-03 ┆ 09:47:14 ┆ 212      ┆ Fair          │\n",
       "│ A12           ┆               ┆ 09:43:42.0000 ┆ 09:47:14.0000 ┆   ┆            ┆          ┆          ┆               │\n",
       "│               ┆               ┆ 00            ┆ 00            ┆   ┆            ┆          ┆          ┆               │\n",
       "└───────────────┴───────────────┴───────────────┴───────────────┴───┴────────────┴──────────┴──────────┴───────────────┘"
      ]
     },
     "execution_count": 57,
     "metadata": {},
     "output_type": "execute_result"
    }
   ],
   "source": [
    "df_cleaned"
   ]
  },
  {
   "cell_type": "code",
   "execution_count": 58,
   "id": "624290f4-b196-4ae6-a5b8-5ee189ff0d8a",
   "metadata": {},
   "outputs": [],
   "source": [
    "df_cleaned = df_cleaned.with_columns([\n",
    "    df_cleaned[\"started_at\"].str.slice(0, 19).alias(\"started_at\"),  # Keep only YYYY-MM-DD HH:MM:SS\n",
    "    df_cleaned[\"ended_at\"].str.slice(0, 19).alias(\"ended_at\")\n",
    "])\n"
   ]
  },
  {
   "cell_type": "code",
   "execution_count": 59,
   "id": "50838713-9854-42f5-b46d-4751e08e0c92",
   "metadata": {},
   "outputs": [
    {
     "data": {
      "text/html": [
       "<div><style>\n",
       ".dataframe > thead > tr,\n",
       ".dataframe > tbody > tr {\n",
       "  text-align: right;\n",
       "  white-space: pre-wrap;\n",
       "}\n",
       "</style>\n",
       "<small>shape: (3_110_542, 17)</small><table border=\"1\" class=\"dataframe\"><thead><tr><th>ride_id</th><th>rideable_type</th><th>started_at</th><th>ended_at</th><th>start_station_name</th><th>end_station_name</th><th>start_lat</th><th>start_lng</th><th>end_lat</th><th>end_lng</th><th>member_casual</th><th>start_date</th><th>start_time</th><th>end_date</th><th>end_time</th><th>duration</th><th>ride_validity</th></tr><tr><td>str</td><td>str</td><td>str</td><td>str</td><td>str</td><td>str</td><td>str</td><td>str</td><td>str</td><td>str</td><td>str</td><td>str</td><td>str</td><td>str</td><td>str</td><td>str</td><td>str</td></tr></thead><tbody><tr><td>&quot;A847FADBBC638E45&quot;</td><td>&quot;docked_bike&quot;</td><td>&quot;2020-04-26 17:45:14&quot;</td><td>&quot;2020-04-26 18:12:03&quot;</td><td>&quot;Eckhart Park&quot;</td><td>&quot;Lincoln Ave &amp; Diversey Pkwy&quot;</td><td>&quot;41.8964&quot;</td><td>&quot;-87.661&quot;</td><td>&quot;41.9322&quot;</td><td>&quot;-87.6586&quot;</td><td>&quot;member&quot;</td><td>&quot;2020-04-26&quot;</td><td>&quot;17:45:14&quot;</td><td>&quot;2020-04-26&quot;</td><td>&quot;18:12:03&quot;</td><td>&quot;1609&quot;</td><td>&quot;Fair&quot;</td></tr><tr><td>&quot;5405B80E996FF60D&quot;</td><td>&quot;docked_bike&quot;</td><td>&quot;2020-04-17 17:08:54&quot;</td><td>&quot;2020-04-17 17:17:03&quot;</td><td>&quot;Drake Ave &amp; Fullerton Ave&quot;</td><td>&quot;Kosciuszko Park&quot;</td><td>&quot;41.9244&quot;</td><td>&quot;-87.7154&quot;</td><td>&quot;41.9306&quot;</td><td>&quot;-87.7238&quot;</td><td>&quot;member&quot;</td><td>&quot;2020-04-17&quot;</td><td>&quot;17:08:54&quot;</td><td>&quot;2020-04-17&quot;</td><td>&quot;17:17:03&quot;</td><td>&quot;489&quot;</td><td>&quot;Fair&quot;</td></tr><tr><td>&quot;5DD24A79A4E006F4&quot;</td><td>&quot;docked_bike&quot;</td><td>&quot;2020-04-01 17:54:13&quot;</td><td>&quot;2020-04-01 18:08:36&quot;</td><td>&quot;McClurg Ct &amp; Erie St&quot;</td><td>&quot;Indiana Ave &amp; Roosevelt Rd&quot;</td><td>&quot;41.8945&quot;</td><td>&quot;-87.6179&quot;</td><td>&quot;41.8679&quot;</td><td>&quot;-87.623&quot;</td><td>&quot;member&quot;</td><td>&quot;2020-04-01&quot;</td><td>&quot;17:54:13&quot;</td><td>&quot;2020-04-01&quot;</td><td>&quot;18:08:36&quot;</td><td>&quot;863&quot;</td><td>&quot;Fair&quot;</td></tr><tr><td>&quot;2A59BBDF5CDBA725&quot;</td><td>&quot;docked_bike&quot;</td><td>&quot;2020-04-07 12:50:19&quot;</td><td>&quot;2020-04-07 13:02:31&quot;</td><td>&quot;California Ave &amp; Division St&quot;</td><td>&quot;Wood St &amp; Augusta Blvd&quot;</td><td>&quot;41.903&quot;</td><td>&quot;-87.6975&quot;</td><td>&quot;41.8992&quot;</td><td>&quot;-87.6722&quot;</td><td>&quot;member&quot;</td><td>&quot;2020-04-07&quot;</td><td>&quot;12:50:19&quot;</td><td>&quot;2020-04-07&quot;</td><td>&quot;13:02:31&quot;</td><td>&quot;732&quot;</td><td>&quot;Fair&quot;</td></tr><tr><td>&quot;27AD306C119C6158&quot;</td><td>&quot;docked_bike&quot;</td><td>&quot;2020-04-18 10:22:59&quot;</td><td>&quot;2020-04-18 11:15:54&quot;</td><td>&quot;Rush St &amp; Hubbard St&quot;</td><td>&quot;Sheridan Rd &amp; Lawrence Ave&quot;</td><td>&quot;41.8902&quot;</td><td>&quot;-87.6262&quot;</td><td>&quot;41.9695&quot;</td><td>&quot;-87.6547&quot;</td><td>&quot;casual&quot;</td><td>&quot;2020-04-18&quot;</td><td>&quot;10:22:59&quot;</td><td>&quot;2020-04-18&quot;</td><td>&quot;11:15:54&quot;</td><td>&quot;3175&quot;</td><td>&quot;Fair&quot;</td></tr><tr><td>&hellip;</td><td>&hellip;</td><td>&hellip;</td><td>&hellip;</td><td>&hellip;</td><td>&hellip;</td><td>&hellip;</td><td>&hellip;</td><td>&hellip;</td><td>&hellip;</td><td>&hellip;</td><td>&hellip;</td><td>&hellip;</td><td>&hellip;</td><td>&hellip;</td><td>&hellip;</td><td>&hellip;</td></tr><tr><td>&quot;4631EE956BCEA738&quot;</td><td>&quot;classic_bike&quot;</td><td>&quot;2020-12-19 13:59:33&quot;</td><td>&quot;2020-12-19 14:03:21&quot;</td><td>&quot;Rhodes Ave &amp; 32nd St&quot;</td><td>&quot;Indiana Ave &amp; 31st St&quot;</td><td>&quot;41.836208&quot;</td><td>&quot;-87.613533&quot;</td><td>&quot;41.838842&quot;</td><td>&quot;-87.621857&quot;</td><td>&quot;casual&quot;</td><td>&quot;2020-12-19&quot;</td><td>&quot;13:59:33&quot;</td><td>&quot;2020-12-19&quot;</td><td>&quot;14:03:21&quot;</td><td>&quot;228&quot;</td><td>&quot;Fair&quot;</td></tr><tr><td>&quot;D17CBEDEA8DBDFF6&quot;</td><td>&quot;electric_bike&quot;</td><td>&quot;2020-12-20 15:48:41&quot;</td><td>&quot;2020-12-20 15:52:14&quot;</td><td>&quot;Rhodes Ave &amp; 32nd St&quot;</td><td>&quot;Indiana Ave &amp; 31st St&quot;</td><td>&quot;41.836723166666665&quot;</td><td>&quot;-87.61336483333334&quot;</td><td>&quot;41.838722833333335&quot;</td><td>&quot;-87.6218535&quot;</td><td>&quot;member&quot;</td><td>&quot;2020-12-20&quot;</td><td>&quot;15:48:41&quot;</td><td>&quot;2020-12-20&quot;</td><td>&quot;15:52:14&quot;</td><td>&quot;213&quot;</td><td>&quot;Fair&quot;</td></tr><tr><td>&quot;447A6C67E9AF962E&quot;</td><td>&quot;docked_bike&quot;</td><td>&quot;2020-12-02 16:59:58&quot;</td><td>&quot;2020-12-02 17:08:28&quot;</td><td>&quot;Rhodes Ave &amp; 32nd St&quot;</td><td>&quot;Indiana Ave &amp; 31st St&quot;</td><td>&quot;41.836208&quot;</td><td>&quot;-87.613533&quot;</td><td>&quot;41.838842&quot;</td><td>&quot;-87.621857&quot;</td><td>&quot;member&quot;</td><td>&quot;2020-12-02&quot;</td><td>&quot;16:59:58&quot;</td><td>&quot;2020-12-02&quot;</td><td>&quot;17:08:28&quot;</td><td>&quot;510&quot;</td><td>&quot;Fair&quot;</td></tr><tr><td>&quot;F558C17E95751C62&quot;</td><td>&quot;electric_bike&quot;</td><td>&quot;2020-12-20 18:06:52&quot;</td><td>&quot;2020-12-20 18:09:53&quot;</td><td>&quot;Rhodes Ave &amp; 32nd St&quot;</td><td>&quot;Indiana Ave &amp; 31st St&quot;</td><td>&quot;41.836734166666666&quot;</td><td>&quot;-87.61339383333333&quot;</td><td>&quot;41.8387495&quot;</td><td>&quot;-87.621862&quot;</td><td>&quot;member&quot;</td><td>&quot;2020-12-20&quot;</td><td>&quot;18:06:52&quot;</td><td>&quot;2020-12-20&quot;</td><td>&quot;18:09:53&quot;</td><td>&quot;181&quot;</td><td>&quot;Fair&quot;</td></tr><tr><td>&quot;E1888F4B274EEA12&quot;</td><td>&quot;electric_bike&quot;</td><td>&quot;2020-12-03 09:43:42&quot;</td><td>&quot;2020-12-03 09:47:14&quot;</td><td>&quot;Rhodes Ave &amp; 32nd St&quot;</td><td>&quot;Indiana Ave &amp; 31st St&quot;</td><td>&quot;41.836766&quot;</td><td>&quot;-87.6133655&quot;</td><td>&quot;41.8386805&quot;</td><td>&quot;-87.62185366666667&quot;</td><td>&quot;member&quot;</td><td>&quot;2020-12-03&quot;</td><td>&quot;09:43:42&quot;</td><td>&quot;2020-12-03&quot;</td><td>&quot;09:47:14&quot;</td><td>&quot;212&quot;</td><td>&quot;Fair&quot;</td></tr></tbody></table></div>"
      ],
      "text/plain": [
       "shape: (3_110_542, 17)\n",
       "┌──────────────────┬───────────────┬────────────┬────────────┬───┬────────────┬──────────┬──────────┬───────────────┐\n",
       "│ ride_id          ┆ rideable_type ┆ started_at ┆ ended_at   ┆ … ┆ end_date   ┆ end_time ┆ duration ┆ ride_validity │\n",
       "│ ---              ┆ ---           ┆ ---        ┆ ---        ┆   ┆ ---        ┆ ---      ┆ ---      ┆ ---           │\n",
       "│ str              ┆ str           ┆ str        ┆ str        ┆   ┆ str        ┆ str      ┆ str      ┆ str           │\n",
       "╞══════════════════╪═══════════════╪════════════╪════════════╪═══╪════════════╪══════════╪══════════╪═══════════════╡\n",
       "│ A847FADBBC638E45 ┆ docked_bike   ┆ 2020-04-26 ┆ 2020-04-26 ┆ … ┆ 2020-04-26 ┆ 18:12:03 ┆ 1609     ┆ Fair          │\n",
       "│                  ┆               ┆ 17:45:14   ┆ 18:12:03   ┆   ┆            ┆          ┆          ┆               │\n",
       "│ 5405B80E996FF60D ┆ docked_bike   ┆ 2020-04-17 ┆ 2020-04-17 ┆ … ┆ 2020-04-17 ┆ 17:17:03 ┆ 489      ┆ Fair          │\n",
       "│                  ┆               ┆ 17:08:54   ┆ 17:17:03   ┆   ┆            ┆          ┆          ┆               │\n",
       "│ 5DD24A79A4E006F4 ┆ docked_bike   ┆ 2020-04-01 ┆ 2020-04-01 ┆ … ┆ 2020-04-01 ┆ 18:08:36 ┆ 863      ┆ Fair          │\n",
       "│                  ┆               ┆ 17:54:13   ┆ 18:08:36   ┆   ┆            ┆          ┆          ┆               │\n",
       "│ 2A59BBDF5CDBA725 ┆ docked_bike   ┆ 2020-04-07 ┆ 2020-04-07 ┆ … ┆ 2020-04-07 ┆ 13:02:31 ┆ 732      ┆ Fair          │\n",
       "│                  ┆               ┆ 12:50:19   ┆ 13:02:31   ┆   ┆            ┆          ┆          ┆               │\n",
       "│ 27AD306C119C6158 ┆ docked_bike   ┆ 2020-04-18 ┆ 2020-04-18 ┆ … ┆ 2020-04-18 ┆ 11:15:54 ┆ 3175     ┆ Fair          │\n",
       "│                  ┆               ┆ 10:22:59   ┆ 11:15:54   ┆   ┆            ┆          ┆          ┆               │\n",
       "│ …                ┆ …             ┆ …          ┆ …          ┆ … ┆ …          ┆ …        ┆ …        ┆ …             │\n",
       "│ 4631EE956BCEA738 ┆ classic_bike  ┆ 2020-12-19 ┆ 2020-12-19 ┆ … ┆ 2020-12-19 ┆ 14:03:21 ┆ 228      ┆ Fair          │\n",
       "│                  ┆               ┆ 13:59:33   ┆ 14:03:21   ┆   ┆            ┆          ┆          ┆               │\n",
       "│ D17CBEDEA8DBDFF6 ┆ electric_bike ┆ 2020-12-20 ┆ 2020-12-20 ┆ … ┆ 2020-12-20 ┆ 15:52:14 ┆ 213      ┆ Fair          │\n",
       "│                  ┆               ┆ 15:48:41   ┆ 15:52:14   ┆   ┆            ┆          ┆          ┆               │\n",
       "│ 447A6C67E9AF962E ┆ docked_bike   ┆ 2020-12-02 ┆ 2020-12-02 ┆ … ┆ 2020-12-02 ┆ 17:08:28 ┆ 510      ┆ Fair          │\n",
       "│                  ┆               ┆ 16:59:58   ┆ 17:08:28   ┆   ┆            ┆          ┆          ┆               │\n",
       "│ F558C17E95751C62 ┆ electric_bike ┆ 2020-12-20 ┆ 2020-12-20 ┆ … ┆ 2020-12-20 ┆ 18:09:53 ┆ 181      ┆ Fair          │\n",
       "│                  ┆               ┆ 18:06:52   ┆ 18:09:53   ┆   ┆            ┆          ┆          ┆               │\n",
       "│ E1888F4B274EEA12 ┆ electric_bike ┆ 2020-12-03 ┆ 2020-12-03 ┆ … ┆ 2020-12-03 ┆ 09:47:14 ┆ 212      ┆ Fair          │\n",
       "│                  ┆               ┆ 09:43:42   ┆ 09:47:14   ┆   ┆            ┆          ┆          ┆               │\n",
       "└──────────────────┴───────────────┴────────────┴────────────┴───┴────────────┴──────────┴──────────┴───────────────┘"
      ]
     },
     "execution_count": 59,
     "metadata": {},
     "output_type": "execute_result"
    }
   ],
   "source": [
    "df_cleaned"
   ]
  },
  {
   "cell_type": "code",
   "execution_count": null,
   "id": "5252cc6f-47a3-4adf-a7ea-4a0eda877878",
   "metadata": {},
   "outputs": [],
   "source": []
  },
  {
   "cell_type": "code",
   "execution_count": 65,
   "id": "e5f48c24-06ba-4aa7-b268-24f8f83b7b65",
   "metadata": {},
   "outputs": [
    {
     "name": "stdout",
     "output_type": "stream",
     "text": [
      "File saved as cleaned_cyclistic_data_2020.csv\n"
     ]
    }
   ],
   "source": [
    "df_cleaned.write_csv(\"cleaned_cyclistic_data_2020.csv\")\n",
    "print(\"File saved as cleaned_cyclistic_data_2020.csv\")\n"
   ]
  },
  {
   "cell_type": "code",
   "execution_count": 66,
   "id": "717ecaee-e66e-4b4d-89f7-d7a8f254d158",
   "metadata": {},
   "outputs": [
    {
     "data": {
      "text/html": [
       "<div><style>\n",
       ".dataframe > thead > tr,\n",
       ".dataframe > tbody > tr {\n",
       "  text-align: right;\n",
       "  white-space: pre-wrap;\n",
       "}\n",
       "</style>\n",
       "<small>shape: (1, 17)</small><table border=\"1\" class=\"dataframe\"><thead><tr><th>ride_id_null_count</th><th>rideable_type_null_count</th><th>started_at_null_count</th><th>ended_at_null_count</th><th>start_station_name_null_count</th><th>end_station_name_null_count</th><th>start_lat_null_count</th><th>start_lng_null_count</th><th>end_lat_null_count</th><th>end_lng_null_count</th><th>member_casual_null_count</th><th>start_date_null_count</th><th>start_time_null_count</th><th>end_date_null_count</th><th>end_time_null_count</th><th>duration_null_count</th><th>ride_validity_null_count</th></tr><tr><td>u32</td><td>u32</td><td>u32</td><td>u32</td><td>u32</td><td>u32</td><td>u32</td><td>u32</td><td>u32</td><td>u32</td><td>u32</td><td>u32</td><td>u32</td><td>u32</td><td>u32</td><td>u32</td><td>u32</td></tr></thead><tbody><tr><td>0</td><td>0</td><td>0</td><td>0</td><td>0</td><td>0</td><td>0</td><td>0</td><td>0</td><td>0</td><td>0</td><td>0</td><td>0</td><td>0</td><td>0</td><td>0</td><td>0</td></tr></tbody></table></div>"
      ],
      "text/plain": [
       "shape: (1, 17)\n",
       "┌──────────────┬──────────────┬──────────────┬─────────────┬───┬─────────────┬─────────────┬─────────────┬─────────────┐\n",
       "│ ride_id_null ┆ rideable_typ ┆ started_at_n ┆ ended_at_nu ┆ … ┆ end_date_nu ┆ end_time_nu ┆ duration_nu ┆ ride_validi │\n",
       "│ _count       ┆ e_null_count ┆ ull_count    ┆ ll_count    ┆   ┆ ll_count    ┆ ll_count    ┆ ll_count    ┆ ty_null_cou │\n",
       "│ ---          ┆ ---          ┆ ---          ┆ ---         ┆   ┆ ---         ┆ ---         ┆ ---         ┆ nt          │\n",
       "│ u32          ┆ u32          ┆ u32          ┆ u32         ┆   ┆ u32         ┆ u32         ┆ u32         ┆ ---         │\n",
       "│              ┆              ┆              ┆             ┆   ┆             ┆             ┆             ┆ u32         │\n",
       "╞══════════════╪══════════════╪══════════════╪═════════════╪═══╪═════════════╪═════════════╪═════════════╪═════════════╡\n",
       "│ 0            ┆ 0            ┆ 0            ┆ 0           ┆ … ┆ 0           ┆ 0           ┆ 0           ┆ 0           │\n",
       "└──────────────┴──────────────┴──────────────┴─────────────┴───┴─────────────┴─────────────┴─────────────┴─────────────┘"
      ]
     },
     "execution_count": 66,
     "metadata": {},
     "output_type": "execute_result"
    }
   ],
   "source": [
    "# Count the number of null values in each column\n",
    "df_cleaned.select([pl.col(col).is_null().sum().alias(f\"{col}_null_count\") for col in df_cleaned.columns])\n"
   ]
  },
  {
   "cell_type": "code",
   "execution_count": null,
   "id": "9e68ceb2-a32e-4fcf-9ff2-41c6faf9fbe1",
   "metadata": {},
   "outputs": [],
   "source": []
  },
  {
   "cell_type": "code",
   "execution_count": 1,
   "id": "27a2f046-bcc4-47fe-8af0-8f567f8b616e",
   "metadata": {},
   "outputs": [],
   "source": [
    "import polars as pl"
   ]
  },
  {
   "cell_type": "code",
   "execution_count": 5,
   "id": "3cdae81b-6f28-4762-9a70-8b738ae76329",
   "metadata": {},
   "outputs": [],
   "source": [
    "_2020 = pl.read_csv(r\"C:\\Users\\Sowjanya\\Documents\\BIIKE-SHARE-DATA\\all_files_Cyclist\\final_2020.csv\")"
   ]
  },
  {
   "cell_type": "code",
   "execution_count": 7,
   "id": "7a715119-1ffb-4d21-9df5-262587477e6b",
   "metadata": {},
   "outputs": [
    {
     "data": {
      "text/html": [
       "<div><style>\n",
       ".dataframe > thead > tr,\n",
       ".dataframe > tbody > tr {\n",
       "  text-align: right;\n",
       "  white-space: pre-wrap;\n",
       "}\n",
       "</style>\n",
       "<small>shape: (3_099_686, 26)</small><table border=\"1\" class=\"dataframe\"><thead><tr><th></th><th>ride_id</th><th>rideable_type</th><th>started_at</th><th>ended_at</th><th>start_station_name</th><th>end_station_name</th><th>start_lat</th><th>start_lng</th><th>end_lat</th><th>end_lng</th><th>member_casual</th><th>start_date</th><th>start_time</th><th>end_date</th><th>end_time</th><th>duration</th><th>ride_validity</th><th>day_period</th><th>month_name</th><th>season</th><th>weekday</th><th>week_type</th><th>duration_seconds</th><th>duration_minutes</th><th>total_hours</th></tr><tr><td>i64</td><td>str</td><td>str</td><td>str</td><td>str</td><td>str</td><td>str</td><td>f64</td><td>f64</td><td>f64</td><td>f64</td><td>str</td><td>str</td><td>str</td><td>str</td><td>str</td><td>i64</td><td>str</td><td>str</td><td>str</td><td>str</td><td>str</td><td>str</td><td>f64</td><td>f64</td><td>f64</td></tr></thead><tbody><tr><td>0</td><td>&quot;A847FADBBC638E45&quot;</td><td>&quot;docked_bike&quot;</td><td>&quot;2020-04-26 17:45:14&quot;</td><td>&quot;2020-04-26 18:12:03&quot;</td><td>&quot;Eckhart Park&quot;</td><td>&quot;Lincoln Ave &amp; Diversey Pkwy&quot;</td><td>41.8964</td><td>-87.661</td><td>41.9322</td><td>-87.6586</td><td>&quot;member&quot;</td><td>&quot;2020-04-26&quot;</td><td>&quot;17:45:14&quot;</td><td>&quot;2020-04-26&quot;</td><td>&quot;18:12:03&quot;</td><td>1609</td><td>&quot;Fair&quot;</td><td>&quot;Evening&quot;</td><td>&quot;April&quot;</td><td>&quot;Spring&quot;</td><td>&quot;Sunday&quot;</td><td>&quot;Weekend&quot;</td><td>1609.0</td><td>26.49</td><td>0.0</td></tr><tr><td>1</td><td>&quot;5405B80E996FF60D&quot;</td><td>&quot;docked_bike&quot;</td><td>&quot;2020-04-17 17:08:54&quot;</td><td>&quot;2020-04-17 17:17:03&quot;</td><td>&quot;Drake Ave &amp; Fullerton Ave&quot;</td><td>&quot;Kosciuszko Park&quot;</td><td>41.9244</td><td>-87.7154</td><td>41.9306</td><td>-87.7238</td><td>&quot;member&quot;</td><td>&quot;2020-04-17&quot;</td><td>&quot;17:08:54&quot;</td><td>&quot;2020-04-17&quot;</td><td>&quot;17:17:03&quot;</td><td>489</td><td>&quot;Fair&quot;</td><td>&quot;Evening&quot;</td><td>&quot;April&quot;</td><td>&quot;Spring&quot;</td><td>&quot;Friday&quot;</td><td>&quot;Weekday&quot;</td><td>489.0</td><td>8.09</td><td>0.0</td></tr><tr><td>2</td><td>&quot;5DD24A79A4E006F4&quot;</td><td>&quot;docked_bike&quot;</td><td>&quot;2020-04-01 17:54:13&quot;</td><td>&quot;2020-04-01 18:08:36&quot;</td><td>&quot;McClurg Ct &amp; Erie St&quot;</td><td>&quot;Indiana Ave &amp; Roosevelt Rd&quot;</td><td>41.8945</td><td>-87.6179</td><td>41.8679</td><td>-87.623</td><td>&quot;member&quot;</td><td>&quot;2020-04-01&quot;</td><td>&quot;17:54:13&quot;</td><td>&quot;2020-04-01&quot;</td><td>&quot;18:08:36&quot;</td><td>863</td><td>&quot;Fair&quot;</td><td>&quot;Evening&quot;</td><td>&quot;April&quot;</td><td>&quot;Spring&quot;</td><td>&quot;Wednesday&quot;</td><td>&quot;Weekday&quot;</td><td>863.0</td><td>14.23</td><td>0.0</td></tr><tr><td>3</td><td>&quot;2A59BBDF5CDBA725&quot;</td><td>&quot;docked_bike&quot;</td><td>&quot;2020-04-07 12:50:19&quot;</td><td>&quot;2020-04-07 13:02:31&quot;</td><td>&quot;California Ave &amp; Division St&quot;</td><td>&quot;Wood St &amp; Augusta Blvd&quot;</td><td>41.903</td><td>-87.6975</td><td>41.8992</td><td>-87.6722</td><td>&quot;member&quot;</td><td>&quot;2020-04-07&quot;</td><td>&quot;12:50:19&quot;</td><td>&quot;2020-04-07&quot;</td><td>&quot;13:02:31&quot;</td><td>732</td><td>&quot;Fair&quot;</td><td>&quot;Afternoon&quot;</td><td>&quot;April&quot;</td><td>&quot;Spring&quot;</td><td>&quot;Tuesday&quot;</td><td>&quot;Weekday&quot;</td><td>732.0</td><td>12.12</td><td>0.0</td></tr><tr><td>4</td><td>&quot;27AD306C119C6158&quot;</td><td>&quot;docked_bike&quot;</td><td>&quot;2020-04-18 10:22:59&quot;</td><td>&quot;2020-04-18 11:15:54&quot;</td><td>&quot;Rush St &amp; Hubbard St&quot;</td><td>&quot;Sheridan Rd &amp; Lawrence Ave&quot;</td><td>41.8902</td><td>-87.6262</td><td>41.9695</td><td>-87.6547</td><td>&quot;casual&quot;</td><td>&quot;2020-04-18&quot;</td><td>&quot;10:22:59&quot;</td><td>&quot;2020-04-18&quot;</td><td>&quot;11:15:54&quot;</td><td>3175</td><td>&quot;Fair&quot;</td><td>&quot;Morning&quot;</td><td>&quot;April&quot;</td><td>&quot;Spring&quot;</td><td>&quot;Saturday&quot;</td><td>&quot;Weekend&quot;</td><td>3175.0</td><td>52.55</td><td>0.0</td></tr><tr><td>&hellip;</td><td>&hellip;</td><td>&hellip;</td><td>&hellip;</td><td>&hellip;</td><td>&hellip;</td><td>&hellip;</td><td>&hellip;</td><td>&hellip;</td><td>&hellip;</td><td>&hellip;</td><td>&hellip;</td><td>&hellip;</td><td>&hellip;</td><td>&hellip;</td><td>&hellip;</td><td>&hellip;</td><td>&hellip;</td><td>&hellip;</td><td>&hellip;</td><td>&hellip;</td><td>&hellip;</td><td>&hellip;</td><td>&hellip;</td><td>&hellip;</td><td>&hellip;</td></tr><tr><td>3110537</td><td>&quot;4631EE956BCEA738&quot;</td><td>&quot;classic_bike&quot;</td><td>&quot;2020-12-19 13:59:33&quot;</td><td>&quot;2020-12-19 14:03:21&quot;</td><td>&quot;Rhodes Ave &amp; 32nd St&quot;</td><td>&quot;Indiana Ave &amp; 31st St&quot;</td><td>41.836208</td><td>-87.613533</td><td>41.838842</td><td>-87.621857</td><td>&quot;casual&quot;</td><td>&quot;2020-12-19&quot;</td><td>&quot;13:59:33&quot;</td><td>&quot;2020-12-19&quot;</td><td>&quot;14:03:21&quot;</td><td>228</td><td>&quot;Fair&quot;</td><td>&quot;Afternoon&quot;</td><td>&quot;December&quot;</td><td>&quot;Winter&quot;</td><td>&quot;Saturday&quot;</td><td>&quot;Weekend&quot;</td><td>228.0</td><td>3.48</td><td>0.0</td></tr><tr><td>3110538</td><td>&quot;D17CBEDEA8DBDFF6&quot;</td><td>&quot;electric_bike&quot;</td><td>&quot;2020-12-20 15:48:41&quot;</td><td>&quot;2020-12-20 15:52:14&quot;</td><td>&quot;Rhodes Ave &amp; 32nd St&quot;</td><td>&quot;Indiana Ave &amp; 31st St&quot;</td><td>41.836723</td><td>-87.613365</td><td>41.838723</td><td>-87.621854</td><td>&quot;member&quot;</td><td>&quot;2020-12-20&quot;</td><td>&quot;15:48:41&quot;</td><td>&quot;2020-12-20&quot;</td><td>&quot;15:52:14&quot;</td><td>213</td><td>&quot;Fair&quot;</td><td>&quot;Afternoon&quot;</td><td>&quot;December&quot;</td><td>&quot;Winter&quot;</td><td>&quot;Sunday&quot;</td><td>&quot;Weekend&quot;</td><td>213.0</td><td>3.33</td><td>0.0</td></tr><tr><td>3110539</td><td>&quot;447A6C67E9AF962E&quot;</td><td>&quot;docked_bike&quot;</td><td>&quot;2020-12-02 16:59:58&quot;</td><td>&quot;2020-12-02 17:08:28&quot;</td><td>&quot;Rhodes Ave &amp; 32nd St&quot;</td><td>&quot;Indiana Ave &amp; 31st St&quot;</td><td>41.836208</td><td>-87.613533</td><td>41.838842</td><td>-87.621857</td><td>&quot;member&quot;</td><td>&quot;2020-12-02&quot;</td><td>&quot;16:59:58&quot;</td><td>&quot;2020-12-02&quot;</td><td>&quot;17:08:28&quot;</td><td>510</td><td>&quot;Fair&quot;</td><td>&quot;Afternoon&quot;</td><td>&quot;December&quot;</td><td>&quot;Winter&quot;</td><td>&quot;Wednesday&quot;</td><td>&quot;Weekday&quot;</td><td>510.0</td><td>8.3</td><td>0.0</td></tr><tr><td>3110540</td><td>&quot;F558C17E95751C62&quot;</td><td>&quot;electric_bike&quot;</td><td>&quot;2020-12-20 18:06:52&quot;</td><td>&quot;2020-12-20 18:09:53&quot;</td><td>&quot;Rhodes Ave &amp; 32nd St&quot;</td><td>&quot;Indiana Ave &amp; 31st St&quot;</td><td>41.836734</td><td>-87.613394</td><td>41.838749</td><td>-87.621862</td><td>&quot;member&quot;</td><td>&quot;2020-12-20&quot;</td><td>&quot;18:06:52&quot;</td><td>&quot;2020-12-20&quot;</td><td>&quot;18:09:53&quot;</td><td>181</td><td>&quot;Fair&quot;</td><td>&quot;Evening&quot;</td><td>&quot;December&quot;</td><td>&quot;Winter&quot;</td><td>&quot;Sunday&quot;</td><td>&quot;Weekend&quot;</td><td>181.0</td><td>3.01</td><td>0.0</td></tr><tr><td>3110541</td><td>&quot;E1888F4B274EEA12&quot;</td><td>&quot;electric_bike&quot;</td><td>&quot;2020-12-03 09:43:42&quot;</td><td>&quot;2020-12-03 09:47:14&quot;</td><td>&quot;Rhodes Ave &amp; 32nd St&quot;</td><td>&quot;Indiana Ave &amp; 31st St&quot;</td><td>41.836766</td><td>-87.613366</td><td>41.838681</td><td>-87.621854</td><td>&quot;member&quot;</td><td>&quot;2020-12-03&quot;</td><td>&quot;09:43:42&quot;</td><td>&quot;2020-12-03&quot;</td><td>&quot;09:47:14&quot;</td><td>212</td><td>&quot;Fair&quot;</td><td>&quot;Morning&quot;</td><td>&quot;December&quot;</td><td>&quot;Winter&quot;</td><td>&quot;Thursday&quot;</td><td>&quot;Weekday&quot;</td><td>212.0</td><td>3.32</td><td>0.0</td></tr></tbody></table></div>"
      ],
      "text/plain": [
       "shape: (3_099_686, 26)\n",
       "┌─────────┬───────────────┬───────────────┬───────────────┬───┬───────────┬───────────────┬──────────────┬─────────────┐\n",
       "│         ┆ ride_id       ┆ rideable_type ┆ started_at    ┆ … ┆ week_type ┆ duration_seco ┆ duration_min ┆ total_hours │\n",
       "│ ---     ┆ ---           ┆ ---           ┆ ---           ┆   ┆ ---       ┆ nds           ┆ utes         ┆ ---         │\n",
       "│ i64     ┆ str           ┆ str           ┆ str           ┆   ┆ str       ┆ ---           ┆ ---          ┆ f64         │\n",
       "│         ┆               ┆               ┆               ┆   ┆           ┆ f64           ┆ f64          ┆             │\n",
       "╞═════════╪═══════════════╪═══════════════╪═══════════════╪═══╪═══════════╪═══════════════╪══════════════╪═════════════╡\n",
       "│ 0       ┆ A847FADBBC638 ┆ docked_bike   ┆ 2020-04-26    ┆ … ┆ Weekend   ┆ 1609.0        ┆ 26.49        ┆ 0.0         │\n",
       "│         ┆ E45           ┆               ┆ 17:45:14      ┆   ┆           ┆               ┆              ┆             │\n",
       "│ 1       ┆ 5405B80E996FF ┆ docked_bike   ┆ 2020-04-17    ┆ … ┆ Weekday   ┆ 489.0         ┆ 8.09         ┆ 0.0         │\n",
       "│         ┆ 60D           ┆               ┆ 17:08:54      ┆   ┆           ┆               ┆              ┆             │\n",
       "│ 2       ┆ 5DD24A79A4E00 ┆ docked_bike   ┆ 2020-04-01    ┆ … ┆ Weekday   ┆ 863.0         ┆ 14.23        ┆ 0.0         │\n",
       "│         ┆ 6F4           ┆               ┆ 17:54:13      ┆   ┆           ┆               ┆              ┆             │\n",
       "│ 3       ┆ 2A59BBDF5CDBA ┆ docked_bike   ┆ 2020-04-07    ┆ … ┆ Weekday   ┆ 732.0         ┆ 12.12        ┆ 0.0         │\n",
       "│         ┆ 725           ┆               ┆ 12:50:19      ┆   ┆           ┆               ┆              ┆             │\n",
       "│ 4       ┆ 27AD306C119C6 ┆ docked_bike   ┆ 2020-04-18    ┆ … ┆ Weekend   ┆ 3175.0        ┆ 52.55        ┆ 0.0         │\n",
       "│         ┆ 158           ┆               ┆ 10:22:59      ┆   ┆           ┆               ┆              ┆             │\n",
       "│ …       ┆ …             ┆ …             ┆ …             ┆ … ┆ …         ┆ …             ┆ …            ┆ …           │\n",
       "│ 3110537 ┆ 4631EE956BCEA ┆ classic_bike  ┆ 2020-12-19    ┆ … ┆ Weekend   ┆ 228.0         ┆ 3.48         ┆ 0.0         │\n",
       "│         ┆ 738           ┆               ┆ 13:59:33      ┆   ┆           ┆               ┆              ┆             │\n",
       "│ 3110538 ┆ D17CBEDEA8DBD ┆ electric_bike ┆ 2020-12-20    ┆ … ┆ Weekend   ┆ 213.0         ┆ 3.33         ┆ 0.0         │\n",
       "│         ┆ FF6           ┆               ┆ 15:48:41      ┆   ┆           ┆               ┆              ┆             │\n",
       "│ 3110539 ┆ 447A6C67E9AF9 ┆ docked_bike   ┆ 2020-12-02    ┆ … ┆ Weekday   ┆ 510.0         ┆ 8.3          ┆ 0.0         │\n",
       "│         ┆ 62E           ┆               ┆ 16:59:58      ┆   ┆           ┆               ┆              ┆             │\n",
       "│ 3110540 ┆ F558C17E95751 ┆ electric_bike ┆ 2020-12-20    ┆ … ┆ Weekend   ┆ 181.0         ┆ 3.01         ┆ 0.0         │\n",
       "│         ┆ C62           ┆               ┆ 18:06:52      ┆   ┆           ┆               ┆              ┆             │\n",
       "│ 3110541 ┆ E1888F4B274EE ┆ electric_bike ┆ 2020-12-03    ┆ … ┆ Weekday   ┆ 212.0         ┆ 3.32         ┆ 0.0         │\n",
       "│         ┆ A12           ┆               ┆ 09:43:42      ┆   ┆           ┆               ┆              ┆             │\n",
       "└─────────┴───────────────┴───────────────┴───────────────┴───┴───────────┴───────────────┴──────────────┴─────────────┘"
      ]
     },
     "execution_count": 7,
     "metadata": {},
     "output_type": "execute_result"
    }
   ],
   "source": [
    "_2020"
   ]
  },
  {
   "cell_type": "markdown",
   "id": "7a894046-399e-4933-b16f-f04932d4763b",
   "metadata": {},
   "source": [
    "pip install sqlalchemy"
   ]
  },
  {
   "cell_type": "code",
   "execution_count": 41,
   "id": "8c0129d0-ed5e-4d45-b810-6c319edb5cbc",
   "metadata": {},
   "outputs": [],
   "source": [
    "from sqlalchemy import create_engine"
   ]
  },
  {
   "cell_type": "code",
   "execution_count": 42,
   "id": "7c84b6ee-55ec-4eac-9446-7c816c24d3c4",
   "metadata": {},
   "outputs": [
    {
     "name": "stdout",
     "output_type": "stream",
     "text": [
      "Requirement already satisfied: sqlalchemy in c:\\users\\sowjanya\\anaconda3\\lib\\site-packages (2.0.34)\n",
      "Requirement already satisfied: mysql-connector-python in c:\\users\\sowjanya\\anaconda3\\lib\\site-packages (9.2.0)\n",
      "Requirement already satisfied: pymysql in c:\\users\\sowjanya\\anaconda3\\lib\\site-packages (1.1.1)\n",
      "Requirement already satisfied: typing-extensions>=4.6.0 in c:\\users\\sowjanya\\anaconda3\\lib\\site-packages (from sqlalchemy) (4.11.0)\n",
      "Requirement already satisfied: greenlet!=0.4.17 in c:\\users\\sowjanya\\anaconda3\\lib\\site-packages (from sqlalchemy) (3.0.1)\n",
      "Note: you may need to restart the kernel to use updated packages.\n"
     ]
    }
   ],
   "source": [
    "pip install sqlalchemy mysql-connector-python pymysql\n"
   ]
  },
  {
   "cell_type": "markdown",
   "id": "78a4e2c5-53f6-4743-a8b2-b6d274afae34",
   "metadata": {},
   "source": [
    "import mysql.connector\n",
    "\n",
    "# Connection without specifying the database\n",
    "connection = mysql.connector.connect(\n",
    "    host=\"localhost\",\n",
    "    port=3305,\n",
    "    user=\"root\",\n",
    "    password=\"root\"\n",
    ")\n",
    "\n",
    "cursor = connection.cursor()\n",
    "\n",
    "# Create database if not exists\n",
    "cursor.execute(\"CREATE DATABASE IF NOT EXISTS bike_share\")\n",
    "\n",
    "# Now connect to the database\n",
    "connection.database = \"bike_share\"\n",
    "\n",
    "print(\"Database connected successfully!\")"
   ]
  },
  {
   "cell_type": "code",
   "execution_count": 54,
   "id": "17fd1199-5a2b-4ed1-aa62-a1ea68e8ae9a",
   "metadata": {},
   "outputs": [
    {
     "name": "stdout",
     "output_type": "stream",
     "text": [
      "✅ Table 'bike_rides_2020' created successfully!\n"
     ]
    }
   ],
   "source": [
    "import mysql.connector\n",
    "\n",
    "# Connect to MySQL database\n",
    "connection = mysql.connector.connect(\n",
    "    host=\"localhost\",\n",
    "    port=3305,\n",
    "    user=\"root\",\n",
    "    password=\"root\",\n",
    "    database=\"bike_share\"\n",
    ")\n",
    "cursor = connection.cursor()\n",
    "\n",
    "# Create table query\n",
    "create_table_query = \"\"\"\n",
    "CREATE TABLE IF NOT EXISTS bike_rides_2020 (\n",
    "    ride_id TEXT,\n",
    "    rideable_type TEXT,\n",
    "    started_at TEXT,\n",
    "    ended_at TEXT,\n",
    "    start_station_name TEXT,\n",
    "    end_station_name TEXT,\n",
    "    start_lat DOUBLE,\n",
    "    start_lng DOUBLE,\n",
    "    end_lat DOUBLE,\n",
    "    end_lng DOUBLE,\n",
    "    member_casual TEXT,\n",
    "    start_date TEXT,\n",
    "    start_time TEXT,\n",
    "    end_date TEXT,\n",
    "    end_time TEXT,\n",
    "    duration INT,\n",
    "    ride_validity TEXT\n",
    ");\n",
    "\"\"\"\n",
    "\n",
    "# Execute the query\n",
    "cursor.execute(create_table_query)\n",
    "connection.commit()\n",
    "\n",
    "print(\"✅ Table 'bike_rides_2020' created successfully!\")\n",
    "\n",
    "# Close connection\n",
    "cursor.close()\n",
    "connection.close()\n"
   ]
  },
  {
   "cell_type": "code",
   "execution_count": 58,
   "id": "68636ef6-8627-43a9-a6eb-c1a8e1f95c1b",
   "metadata": {},
   "outputs": [
    {
     "name": "stdout",
     "output_type": "stream",
     "text": [
      "✅ Database connected successfully!\n",
      "✅ Table checked/created successfully!\n",
      "✅ Inserted 3110542 unique records successfully into `bike_rides_2020`!\n"
     ]
    }
   ],
   "source": [
    "import mysql.connector\n",
    "\n",
    "# Assuming df_cleaned is your cleaned Polars DataFrame\n",
    "df_cleaned = df_cleaned.unique()  # Ensure unique records\n",
    "\n",
    "# Convert Polars DataFrame to a list of tuples\n",
    "data = [tuple(row) for row in df_cleaned.to_numpy()]\n",
    "\n",
    "# Connect to MySQL without specifying the database first\n",
    "connection = mysql.connector.connect(\n",
    "    host=\"localhost\",\n",
    "    port=3305,\n",
    "    user=\"root\",\n",
    "    password=\"root\"\n",
    ")\n",
    "cursor = connection.cursor()\n",
    "\n",
    "# Create database if not exists\n",
    "cursor.execute(\"CREATE DATABASE IF NOT EXISTS bike_share\")\n",
    "\n",
    "# Connect to the database\n",
    "connection.database = \"bike_share\"\n",
    "\n",
    "print(\"✅ Database connected successfully!\")\n",
    "\n",
    "# Ensure the `bike_rides_2020` table exists (Modify the schema if needed)\n",
    "cursor.execute(\"\"\"\n",
    "CREATE TABLE IF NOT EXISTS bike_rides_2020 (\n",
    "    ride_id TEXT PRIMARY KEY,\n",
    "    rideable_type TEXT,\n",
    "    started_at TEXT,\n",
    "    ended_at TEXT,\n",
    "    start_station_name TEXT,\n",
    "    end_station_name TEXT,\n",
    "    start_lat DOUBLE,\n",
    "    start_lng DOUBLE,\n",
    "    end_lat DOUBLE,\n",
    "    end_lng DOUBLE,\n",
    "    member_casual TEXT,\n",
    "    start_date TEXT,\n",
    "    start_time TEXT,\n",
    "    end_date TEXT,\n",
    "    end_time TEXT,\n",
    "    duration INT,\n",
    "    ride_validity TEXT\n",
    ")\n",
    "\"\"\")\n",
    "\n",
    "print(\"✅ Table checked/created successfully!\")\n",
    "\n",
    "# SQL Insert Query (Ensure column names match your table)\n",
    "insert_stmt = \"\"\"\n",
    "INSERT IGNORE INTO bike_rides_2020 (\n",
    "    ride_id, rideable_type, started_at, ended_at, start_station_name, \n",
    "    end_station_name, start_lat, start_lng, end_lat, end_lng, \n",
    "    member_casual, start_date, start_time, end_date, end_time, \n",
    "    duration, ride_validity\n",
    ") VALUES (%s, %s, %s, %s, %s, %s, %s, %s, %s, %s, %s, %s, %s, %s, %s, %s, %s)\n",
    "\"\"\"\n",
    "\n",
    "# Insert data in batches for efficiency\n",
    "batch_size = 1000\n",
    "for i in range(0, len(data), batch_size):\n",
    "    batch = data[i:i + batch_size]\n",
    "    cursor.executemany(insert_stmt, batch)\n",
    "    connection.commit()\n",
    "\n",
    "print(f\"✅ Inserted {len(data)} unique records successfully into `bike_rides_2020`!\")\n",
    "\n",
    "# Close connection\n",
    "cursor.close()\n",
    "connection.close()\n"
   ]
  },
  {
   "cell_type": "code",
   "execution_count": null,
   "id": "316091be-bcde-4a3e-99b2-06adc4a5e59a",
   "metadata": {},
   "outputs": [],
   "source": []
  }
 ],
 "metadata": {
  "kernelspec": {
   "display_name": "Python 3 (ipykernel)",
   "language": "python",
   "name": "python3"
  },
  "language_info": {
   "codemirror_mode": {
    "name": "ipython",
    "version": 3
   },
   "file_extension": ".py",
   "mimetype": "text/x-python",
   "name": "python",
   "nbconvert_exporter": "python",
   "pygments_lexer": "ipython3",
   "version": "3.12.7"
  }
 },
 "nbformat": 4,
 "nbformat_minor": 5
}
