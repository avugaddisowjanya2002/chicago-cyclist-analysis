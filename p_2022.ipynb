{
 "cells": [
  {
   "cell_type": "code",
   "execution_count": 8,
   "id": "fd8211d5-7789-484f-af8f-13e346889ddf",
   "metadata": {},
   "outputs": [
    {
     "name": "stdout",
     "output_type": "stream",
     "text": [
      "shape: (5, 13)\n",
      "┌──────────────┬──────────────┬──────────────┬─────────────┬───┬─────────────┬─────────────┬─────────────┬─────────────┐\n",
      "│ ride_id      ┆ rideable_typ ┆ started_at   ┆ ended_at    ┆ … ┆ start_lng   ┆ end_lat     ┆ end_lng     ┆ member_casu │\n",
      "│ ---          ┆ e            ┆ ---          ┆ ---         ┆   ┆ ---         ┆ ---         ┆ ---         ┆ al          │\n",
      "│ str          ┆ ---          ┆ str          ┆ str         ┆   ┆ str         ┆ str         ┆ str         ┆ ---         │\n",
      "│              ┆ str          ┆              ┆             ┆   ┆             ┆             ┆             ┆ str         │\n",
      "╞══════════════╪══════════════╪══════════════╪═════════════╪═══╪═════════════╪═════════════╪═════════════╪═════════════╡\n",
      "│ C2F7DD78E82E ┆ electric_bik ┆ 2022-01-13   ┆ 2022-01-13  ┆ … ┆ -87.665906  ┆ 42.01256011 ┆ -87.6743671 ┆ casual      │\n",
      "│ C875         ┆ e            ┆ 11:59:47     ┆ 12:02:44    ┆   ┆             ┆ 541         ┆ 152         ┆             │\n",
      "│ A6CF8980A652 ┆ electric_bik ┆ 2022-01-10   ┆ 2022-01-10  ┆ … ┆ -87.6659675 ┆ 42.01256011 ┆ -87.6743671 ┆ casual      │\n",
      "│ D272         ┆ e            ┆ 08:41:56     ┆ 08:46:17    ┆   ┆             ┆ 541         ┆ 152         ┆             │\n",
      "│ BD0F91DFF741 ┆ classic_bike ┆ 2022-01-25   ┆ 2022-01-25  ┆ … ┆ -87.6537080 ┆ 41.92533    ┆ -87.6658    ┆ member      │\n",
      "│ C66D         ┆              ┆ 04:53:40     ┆ 04:58:01    ┆   ┆ 423         ┆             ┆             ┆             │\n",
      "│ CBB80ED41910 ┆ classic_bike ┆ 2022-01-04   ┆ 2022-01-04  ┆ … ┆ -87.669154  ┆ 41.961507   ┆ -87.671387  ┆ casual      │\n",
      "│ 5406         ┆              ┆ 00:18:04     ┆ 00:33:00    ┆   ┆             ┆             ┆             ┆             │\n",
      "│ DDC963BFDDA5 ┆ classic_bike ┆ 2022-01-20   ┆ 2022-01-20  ┆ … ┆ -87.62408   ┆ 41.88462107 ┆ -87.6278342 ┆ member      │\n",
      "│ 1EEA         ┆              ┆ 01:31:10     ┆ 01:37:12    ┆   ┆             ┆ 257936      ┆ 3066139     ┆             │\n",
      "└──────────────┴──────────────┴──────────────┴─────────────┴───┴─────────────┴─────────────┴─────────────┴─────────────┘\n"
     ]
    }
   ],
   "source": [
    "import os\n",
    "import polars as pl\n",
    "\n",
    "# List of folder paths\n",
    "folder_paths = [\n",
    "    r\"C:\\Users\\Sowjanya\\OneDrive\\Desktop\\Capstone\\DATA_2022\"\n",
    "]\n",
    "\n",
    "# Create an empty list to store DataFrames\n",
    "dataframes = []\n",
    "\n",
    "# Loop through each folder\n",
    "for folder_path in folder_paths:\n",
    "    # Get a list of all CSV files in the folder\n",
    "    file_list = [f for f in os.listdir(folder_path) if f.endswith('.csv')]\n",
    "    \n",
    "    # Read each file and append to the list\n",
    "    for file in file_list:\n",
    "        file_path = os.path.join(folder_path, file)\n",
    "        df = pl.read_csv(file_path, infer_schema_length=10000)  # Increase schema inference\n",
    "        dataframes.append(df.with_columns([\n",
    "            pl.col(col).cast(pl.Utf8) for col in df.columns  # Convert all columns to string\n",
    "        ]))\n",
    "\n",
    "# Concatenate all DataFrames into one\n",
    "df_final = pl.concat(dataframes, how=\"vertical_relaxed\")  # Allow mismatched schemas\n",
    "\n",
    "# Display the first few rows\n",
    "print(df_final.head())"
   ]
  },
  {
   "cell_type": "code",
   "execution_count": 10,
   "id": "547bfdce-1980-48da-944f-3bff6825399d",
   "metadata": {},
   "outputs": [],
   "source": [
    "df = df_final.clone()"
   ]
  },
  {
   "cell_type": "code",
   "execution_count": 12,
   "id": "dd1a0f5f-ec0e-480c-8a13-494f7cd857ad",
   "metadata": {},
   "outputs": [
    {
     "data": {
      "text/html": [
       "<div><style>\n",
       ".dataframe > thead > tr,\n",
       ".dataframe > tbody > tr {\n",
       "  text-align: right;\n",
       "  white-space: pre-wrap;\n",
       "}\n",
       "</style>\n",
       "<small>shape: (5_667_717, 13)</small><table border=\"1\" class=\"dataframe\"><thead><tr><th>ride_id</th><th>rideable_type</th><th>started_at</th><th>ended_at</th><th>start_station_name</th><th>start_station_id</th><th>end_station_name</th><th>end_station_id</th><th>start_lat</th><th>start_lng</th><th>end_lat</th><th>end_lng</th><th>member_casual</th></tr><tr><td>str</td><td>str</td><td>str</td><td>str</td><td>str</td><td>str</td><td>str</td><td>str</td><td>str</td><td>str</td><td>str</td><td>str</td><td>str</td></tr></thead><tbody><tr><td>&quot;C2F7DD78E82EC875&quot;</td><td>&quot;electric_bike&quot;</td><td>&quot;2022-01-13 11:59:47&quot;</td><td>&quot;2022-01-13 12:02:44&quot;</td><td>&quot;Glenwood Ave &amp; Touhy Ave&quot;</td><td>&quot;525&quot;</td><td>&quot;Clark St &amp; Touhy Ave&quot;</td><td>&quot;RP-007&quot;</td><td>&quot;42.0128005&quot;</td><td>&quot;-87.665906&quot;</td><td>&quot;42.01256011541&quot;</td><td>&quot;-87.6743671152&quot;</td><td>&quot;casual&quot;</td></tr><tr><td>&quot;A6CF8980A652D272&quot;</td><td>&quot;electric_bike&quot;</td><td>&quot;2022-01-10 08:41:56&quot;</td><td>&quot;2022-01-10 08:46:17&quot;</td><td>&quot;Glenwood Ave &amp; Touhy Ave&quot;</td><td>&quot;525&quot;</td><td>&quot;Clark St &amp; Touhy Ave&quot;</td><td>&quot;RP-007&quot;</td><td>&quot;42.012763&quot;</td><td>&quot;-87.6659675&quot;</td><td>&quot;42.01256011541&quot;</td><td>&quot;-87.6743671152&quot;</td><td>&quot;casual&quot;</td></tr><tr><td>&quot;BD0F91DFF741C66D&quot;</td><td>&quot;classic_bike&quot;</td><td>&quot;2022-01-25 04:53:40&quot;</td><td>&quot;2022-01-25 04:58:01&quot;</td><td>&quot;Sheffield Ave &amp; Fullerton Ave&quot;</td><td>&quot;TA1306000016&quot;</td><td>&quot;Greenview Ave &amp; Fullerton Ave&quot;</td><td>&quot;TA1307000001&quot;</td><td>&quot;41.9256018819&quot;</td><td>&quot;-87.6537080423&quot;</td><td>&quot;41.92533&quot;</td><td>&quot;-87.6658&quot;</td><td>&quot;member&quot;</td></tr><tr><td>&quot;CBB80ED419105406&quot;</td><td>&quot;classic_bike&quot;</td><td>&quot;2022-01-04 00:18:04&quot;</td><td>&quot;2022-01-04 00:33:00&quot;</td><td>&quot;Clark St &amp; Bryn Mawr Ave&quot;</td><td>&quot;KA1504000151&quot;</td><td>&quot;Paulina St &amp; Montrose Ave&quot;</td><td>&quot;TA1309000021&quot;</td><td>&quot;41.983593&quot;</td><td>&quot;-87.669154&quot;</td><td>&quot;41.961507&quot;</td><td>&quot;-87.671387&quot;</td><td>&quot;casual&quot;</td></tr><tr><td>&quot;DDC963BFDDA51EEA&quot;</td><td>&quot;classic_bike&quot;</td><td>&quot;2022-01-20 01:31:10&quot;</td><td>&quot;2022-01-20 01:37:12&quot;</td><td>&quot;Michigan Ave &amp; Jackson Blvd&quot;</td><td>&quot;TA1309000002&quot;</td><td>&quot;State St &amp; Randolph St&quot;</td><td>&quot;TA1305000029&quot;</td><td>&quot;41.87785&quot;</td><td>&quot;-87.62408&quot;</td><td>&quot;41.88462107257936&quot;</td><td>&quot;-87.62783423066139&quot;</td><td>&quot;member&quot;</td></tr><tr><td>&hellip;</td><td>&hellip;</td><td>&hellip;</td><td>&hellip;</td><td>&hellip;</td><td>&hellip;</td><td>&hellip;</td><td>&hellip;</td><td>&hellip;</td><td>&hellip;</td><td>&hellip;</td><td>&hellip;</td><td>&hellip;</td></tr><tr><td>&quot;43ABEE85B6E15DCA&quot;</td><td>&quot;classic_bike&quot;</td><td>&quot;2022-12-05 06:51:04&quot;</td><td>&quot;2022-12-05 06:54:48&quot;</td><td>&quot;Sangamon St &amp; Washington Blvd&quot;</td><td>&quot;13409&quot;</td><td>&quot;Peoria St &amp; Jackson Blvd&quot;</td><td>&quot;13158&quot;</td><td>&quot;41.883165&quot;</td><td>&quot;-87.6511&quot;</td><td>&quot;41.8776415962753&quot;</td><td>&quot;-87.64961779117584&quot;</td><td>&quot;member&quot;</td></tr><tr><td>&quot;F041C89A3D1F0270&quot;</td><td>&quot;electric_bike&quot;</td><td>&quot;2022-12-14 17:06:28&quot;</td><td>&quot;2022-12-14 17:19:27&quot;</td><td>&quot;Bernard St &amp; Elston Ave&quot;</td><td>&quot;18016&quot;</td><td>&quot;Seeley Ave &amp; Roscoe St&quot;</td><td>&quot;13144&quot;</td><td>&quot;41.949979544&quot;</td><td>&quot;-87.714018822&quot;</td><td>&quot;41.943403&quot;</td><td>&quot;-87.679618&quot;</td><td>&quot;member&quot;</td></tr><tr><td>&quot;A2BECB88430BE156&quot;</td><td>&quot;classic_bike&quot;</td><td>&quot;2022-12-08 16:27:47&quot;</td><td>&quot;2022-12-08 16:32:20&quot;</td><td>&quot;Wacker Dr &amp; Washington St&quot;</td><td>&quot;KA1503000072&quot;</td><td>&quot;Green St &amp; Madison St&quot;</td><td>&quot;TA1307000120&quot;</td><td>&quot;41.88314336439022&quot;</td><td>&quot;-87.63724207878113&quot;</td><td>&quot;41.881859328038225&quot;</td><td>&quot;-87.64926373958588&quot;</td><td>&quot;member&quot;</td></tr><tr><td>&quot;37B392960E566F58&quot;</td><td>&quot;classic_bike&quot;</td><td>&quot;2022-12-28 09:37:38&quot;</td><td>&quot;2022-12-28 09:41:34&quot;</td><td>&quot;Sangamon St &amp; Washington Blvd&quot;</td><td>&quot;13409&quot;</td><td>&quot;Peoria St &amp; Jackson Blvd&quot;</td><td>&quot;13158&quot;</td><td>&quot;41.883165&quot;</td><td>&quot;-87.6511&quot;</td><td>&quot;41.8776415962753&quot;</td><td>&quot;-87.64961779117584&quot;</td><td>&quot;member&quot;</td></tr><tr><td>&quot;2DD1587210BA45AE&quot;</td><td>&quot;classic_bike&quot;</td><td>&quot;2022-12-09 00:27:25&quot;</td><td>&quot;2022-12-09 00:35:28&quot;</td><td>&quot;Southport Ave &amp; Waveland Ave&quot;</td><td>&quot;13235&quot;</td><td>&quot;Seeley Ave &amp; Roscoe St&quot;</td><td>&quot;13144&quot;</td><td>&quot;41.94815&quot;</td><td>&quot;-87.66394&quot;</td><td>&quot;41.943403&quot;</td><td>&quot;-87.679618&quot;</td><td>&quot;casual&quot;</td></tr></tbody></table></div>"
      ],
      "text/plain": [
       "shape: (5_667_717, 13)\n",
       "┌──────────────┬──────────────┬──────────────┬─────────────┬───┬─────────────┬─────────────┬─────────────┬─────────────┐\n",
       "│ ride_id      ┆ rideable_typ ┆ started_at   ┆ ended_at    ┆ … ┆ start_lng   ┆ end_lat     ┆ end_lng     ┆ member_casu │\n",
       "│ ---          ┆ e            ┆ ---          ┆ ---         ┆   ┆ ---         ┆ ---         ┆ ---         ┆ al          │\n",
       "│ str          ┆ ---          ┆ str          ┆ str         ┆   ┆ str         ┆ str         ┆ str         ┆ ---         │\n",
       "│              ┆ str          ┆              ┆             ┆   ┆             ┆             ┆             ┆ str         │\n",
       "╞══════════════╪══════════════╪══════════════╪═════════════╪═══╪═════════════╪═════════════╪═════════════╪═════════════╡\n",
       "│ C2F7DD78E82E ┆ electric_bik ┆ 2022-01-13   ┆ 2022-01-13  ┆ … ┆ -87.665906  ┆ 42.01256011 ┆ -87.6743671 ┆ casual      │\n",
       "│ C875         ┆ e            ┆ 11:59:47     ┆ 12:02:44    ┆   ┆             ┆ 541         ┆ 152         ┆             │\n",
       "│ A6CF8980A652 ┆ electric_bik ┆ 2022-01-10   ┆ 2022-01-10  ┆ … ┆ -87.6659675 ┆ 42.01256011 ┆ -87.6743671 ┆ casual      │\n",
       "│ D272         ┆ e            ┆ 08:41:56     ┆ 08:46:17    ┆   ┆             ┆ 541         ┆ 152         ┆             │\n",
       "│ BD0F91DFF741 ┆ classic_bike ┆ 2022-01-25   ┆ 2022-01-25  ┆ … ┆ -87.6537080 ┆ 41.92533    ┆ -87.6658    ┆ member      │\n",
       "│ C66D         ┆              ┆ 04:53:40     ┆ 04:58:01    ┆   ┆ 423         ┆             ┆             ┆             │\n",
       "│ CBB80ED41910 ┆ classic_bike ┆ 2022-01-04   ┆ 2022-01-04  ┆ … ┆ -87.669154  ┆ 41.961507   ┆ -87.671387  ┆ casual      │\n",
       "│ 5406         ┆              ┆ 00:18:04     ┆ 00:33:00    ┆   ┆             ┆             ┆             ┆             │\n",
       "│ DDC963BFDDA5 ┆ classic_bike ┆ 2022-01-20   ┆ 2022-01-20  ┆ … ┆ -87.62408   ┆ 41.88462107 ┆ -87.6278342 ┆ member      │\n",
       "│ 1EEA         ┆              ┆ 01:31:10     ┆ 01:37:12    ┆   ┆             ┆ 257936      ┆ 3066139     ┆             │\n",
       "│ …            ┆ …            ┆ …            ┆ …           ┆ … ┆ …           ┆ …           ┆ …           ┆ …           │\n",
       "│ 43ABEE85B6E1 ┆ classic_bike ┆ 2022-12-05   ┆ 2022-12-05  ┆ … ┆ -87.6511    ┆ 41.87764159 ┆ -87.6496177 ┆ member      │\n",
       "│ 5DCA         ┆              ┆ 06:51:04     ┆ 06:54:48    ┆   ┆             ┆ 62753       ┆ 9117584     ┆             │\n",
       "│ F041C89A3D1F ┆ electric_bik ┆ 2022-12-14   ┆ 2022-12-14  ┆ … ┆ -87.7140188 ┆ 41.943403   ┆ -87.679618  ┆ member      │\n",
       "│ 0270         ┆ e            ┆ 17:06:28     ┆ 17:19:27    ┆   ┆ 22          ┆             ┆             ┆             │\n",
       "│ A2BECB88430B ┆ classic_bike ┆ 2022-12-08   ┆ 2022-12-08  ┆ … ┆ -87.6372420 ┆ 41.88185932 ┆ -87.6492637 ┆ member      │\n",
       "│ E156         ┆              ┆ 16:27:47     ┆ 16:32:20    ┆   ┆ 7878113     ┆ 8038225     ┆ 3958588     ┆             │\n",
       "│ 37B392960E56 ┆ classic_bike ┆ 2022-12-28   ┆ 2022-12-28  ┆ … ┆ -87.6511    ┆ 41.87764159 ┆ -87.6496177 ┆ member      │\n",
       "│ 6F58         ┆              ┆ 09:37:38     ┆ 09:41:34    ┆   ┆             ┆ 62753       ┆ 9117584     ┆             │\n",
       "│ 2DD1587210BA ┆ classic_bike ┆ 2022-12-09   ┆ 2022-12-09  ┆ … ┆ -87.66394   ┆ 41.943403   ┆ -87.679618  ┆ casual      │\n",
       "│ 45AE         ┆              ┆ 00:27:25     ┆ 00:35:28    ┆   ┆             ┆             ┆             ┆             │\n",
       "└──────────────┴──────────────┴──────────────┴─────────────┴───┴─────────────┴─────────────┴─────────────┴─────────────┘"
      ]
     },
     "execution_count": 12,
     "metadata": {},
     "output_type": "execute_result"
    }
   ],
   "source": [
    "df"
   ]
  },
  {
   "cell_type": "code",
   "execution_count": 14,
   "id": "d0532abc-7dfe-4e6d-b5eb-ed88bf8fb1c7",
   "metadata": {},
   "outputs": [
    {
     "name": "stdout",
     "output_type": "stream",
     "text": [
      "shape: (1, 13)\n",
      "┌─────────┬───────────────┬────────────┬──────────┬───┬───────────┬─────────┬─────────┬───────────────┐\n",
      "│ ride_id ┆ rideable_type ┆ started_at ┆ ended_at ┆ … ┆ start_lng ┆ end_lat ┆ end_lng ┆ member_casual │\n",
      "│ ---     ┆ ---           ┆ ---        ┆ ---      ┆   ┆ ---       ┆ ---     ┆ ---     ┆ ---           │\n",
      "│ u32     ┆ u32           ┆ u32        ┆ u32      ┆   ┆ u32       ┆ u32     ┆ u32     ┆ u32           │\n",
      "╞═════════╪═══════════════╪════════════╪══════════╪═══╪═══════════╪═════════╪═════════╪═══════════════╡\n",
      "│ 0       ┆ 0             ┆ 0          ┆ 0        ┆ … ┆ 0         ┆ 5858    ┆ 5858    ┆ 0             │\n",
      "└─────────┴───────────────┴────────────┴──────────┴───┴───────────┴─────────┴─────────┴───────────────┘\n"
     ]
    }
   ],
   "source": [
    "# Step 1: Count missing values in each column\n",
    "missing_values = df.null_count()\n",
    "print(missing_values)"
   ]
  },
  {
   "cell_type": "code",
   "execution_count": 16,
   "id": "b09e57e6-fde8-4245-a799-d20db69d2275",
   "metadata": {},
   "outputs": [
    {
     "name": "stdout",
     "output_type": "stream",
     "text": [
      "Number of removed records: 5858\n",
      "\n",
      "Records removed (stored separately):\n",
      "shape: (5_858, 13)\n",
      "┌───────────────┬───────────────┬───────────────┬───────────────┬───┬───────────────┬─────────┬─────────┬──────────────┐\n",
      "│ ride_id       ┆ rideable_type ┆ started_at    ┆ ended_at      ┆ … ┆ start_lng     ┆ end_lat ┆ end_lng ┆ member_casua │\n",
      "│ ---           ┆ ---           ┆ ---           ┆ ---           ┆   ┆ ---           ┆ ---     ┆ ---     ┆ l            │\n",
      "│ str           ┆ str           ┆ str           ┆ str           ┆   ┆ str           ┆ str     ┆ str     ┆ ---          │\n",
      "│               ┆               ┆               ┆               ┆   ┆               ┆         ┆         ┆ str          │\n",
      "╞═══════════════╪═══════════════╪═══════════════╪═══════════════╪═══╪═══════════════╪═════════╪═════════╪══════════════╡\n",
      "│ C1AB102E01C34 ┆ classic_bike  ┆ 2022-01-26    ┆ 2022-01-27    ┆ … ┆ -87.62408     ┆ null    ┆ null    ┆ member       │\n",
      "│ 020           ┆               ┆ 16:56:03      ┆ 17:55:56      ┆   ┆               ┆         ┆         ┆              │\n",
      "│ 1A51C738B3CD1 ┆ classic_bike  ┆ 2022-01-10    ┆ 2022-01-11    ┆ … ┆ -87.688704282 ┆ null    ┆ null    ┆ casual       │\n",
      "│ B3A           ┆               ┆ 18:50:12      ┆ 19:50:05      ┆   ┆ 04536         ┆         ┆         ┆              │\n",
      "│ 17BC9F8B24C3D ┆ classic_bike  ┆ 2022-01-25    ┆ 2022-01-26    ┆ … ┆ -87.711830667 ┆ null    ┆ null    ┆ casual       │\n",
      "│ 9B7           ┆               ┆ 21:38:09      ┆ 22:38:04      ┆   ┆ 5             ┆         ┆         ┆              │\n",
      "│ 6C05E25B083BC ┆ classic_bike  ┆ 2022-01-15    ┆ 2022-01-16    ┆ … ┆ -87.630834    ┆ null    ┆ null    ┆ casual       │\n",
      "│ A23           ┆               ┆ 15:10:21      ┆ 16:10:14      ┆   ┆               ┆         ┆         ┆              │\n",
      "│ AF572A09F5BF1 ┆ classic_bike  ┆ 2022-01-19    ┆ 2022-01-20    ┆ … ┆ -87.707857    ┆ null    ┆ null    ┆ casual       │\n",
      "│ 85F           ┆               ┆ 00:54:32      ┆ 01:54:25      ┆   ┆               ┆         ┆         ┆              │\n",
      "│ …             ┆ …             ┆ …             ┆ …             ┆ … ┆ …             ┆ …       ┆ …       ┆ …            │\n",
      "│ 0CA67381200B0 ┆ classic_bike  ┆ 2022-12-21    ┆ 2022-12-22    ┆ … ┆ -87.6355      ┆ null    ┆ null    ┆ member       │\n",
      "│ B0F           ┆               ┆ 16:29:07      ┆ 17:28:47      ┆   ┆               ┆         ┆         ┆              │\n",
      "│ D91304881E077 ┆ classic_bike  ┆ 2022-12-20    ┆ 2022-12-21    ┆ … ┆ -87.576450114 ┆ null    ┆ null    ┆ member       │\n",
      "│ C2B           ┆               ┆ 12:51:05      ┆ 13:50:58      ┆   ┆ 1             ┆         ┆         ┆              │\n",
      "│ CBBB0A4A1498F ┆ docked_bike   ┆ 2022-12-30    ┆ 2022-12-31    ┆ … ┆ -87.624684    ┆ null    ┆ null    ┆ casual       │\n",
      "│ 790           ┆               ┆ 20:35:36      ┆ 21:35:36      ┆   ┆               ┆         ┆         ┆              │\n",
      "│ 866EF596D264C ┆ classic_bike  ┆ 2022-12-08    ┆ 2022-12-09    ┆ … ┆ -87.576450114 ┆ null    ┆ null    ┆ casual       │\n",
      "│ 2B4           ┆               ┆ 19:42:40      ┆ 20:42:32      ┆   ┆ 1             ┆         ┆         ┆              │\n",
      "│ 24B4E1CF232C2 ┆ classic_bike  ┆ 2022-12-02    ┆ 2022-12-03    ┆ … ┆ -87.651073    ┆ null    ┆ null    ┆ casual       │\n",
      "│ 16B           ┆               ┆ 14:49:05      ┆ 15:48:57      ┆   ┆               ┆         ┆         ┆              │\n",
      "└───────────────┴───────────────┴───────────────┴───────────────┴───┴───────────────┴─────────┴─────────┴──────────────┘\n",
      "\n",
      "Updated DataFrame after removal:\n",
      "shape: (5_661_859, 13)\n",
      "┌──────────────┬──────────────┬──────────────┬─────────────┬───┬─────────────┬─────────────┬─────────────┬─────────────┐\n",
      "│ ride_id      ┆ rideable_typ ┆ started_at   ┆ ended_at    ┆ … ┆ start_lng   ┆ end_lat     ┆ end_lng     ┆ member_casu │\n",
      "│ ---          ┆ e            ┆ ---          ┆ ---         ┆   ┆ ---         ┆ ---         ┆ ---         ┆ al          │\n",
      "│ str          ┆ ---          ┆ str          ┆ str         ┆   ┆ str         ┆ str         ┆ str         ┆ ---         │\n",
      "│              ┆ str          ┆              ┆             ┆   ┆             ┆             ┆             ┆ str         │\n",
      "╞══════════════╪══════════════╪══════════════╪═════════════╪═══╪═════════════╪═════════════╪═════════════╪═════════════╡\n",
      "│ C2F7DD78E82E ┆ electric_bik ┆ 2022-01-13   ┆ 2022-01-13  ┆ … ┆ -87.665906  ┆ 42.01256011 ┆ -87.6743671 ┆ casual      │\n",
      "│ C875         ┆ e            ┆ 11:59:47     ┆ 12:02:44    ┆   ┆             ┆ 541         ┆ 152         ┆             │\n",
      "│ A6CF8980A652 ┆ electric_bik ┆ 2022-01-10   ┆ 2022-01-10  ┆ … ┆ -87.6659675 ┆ 42.01256011 ┆ -87.6743671 ┆ casual      │\n",
      "│ D272         ┆ e            ┆ 08:41:56     ┆ 08:46:17    ┆   ┆             ┆ 541         ┆ 152         ┆             │\n",
      "│ BD0F91DFF741 ┆ classic_bike ┆ 2022-01-25   ┆ 2022-01-25  ┆ … ┆ -87.6537080 ┆ 41.92533    ┆ -87.6658    ┆ member      │\n",
      "│ C66D         ┆              ┆ 04:53:40     ┆ 04:58:01    ┆   ┆ 423         ┆             ┆             ┆             │\n",
      "│ CBB80ED41910 ┆ classic_bike ┆ 2022-01-04   ┆ 2022-01-04  ┆ … ┆ -87.669154  ┆ 41.961507   ┆ -87.671387  ┆ casual      │\n",
      "│ 5406         ┆              ┆ 00:18:04     ┆ 00:33:00    ┆   ┆             ┆             ┆             ┆             │\n",
      "│ DDC963BFDDA5 ┆ classic_bike ┆ 2022-01-20   ┆ 2022-01-20  ┆ … ┆ -87.62408   ┆ 41.88462107 ┆ -87.6278342 ┆ member      │\n",
      "│ 1EEA         ┆              ┆ 01:31:10     ┆ 01:37:12    ┆   ┆             ┆ 257936      ┆ 3066139     ┆             │\n",
      "│ …            ┆ …            ┆ …            ┆ …           ┆ … ┆ …           ┆ …           ┆ …           ┆ …           │\n",
      "│ 43ABEE85B6E1 ┆ classic_bike ┆ 2022-12-05   ┆ 2022-12-05  ┆ … ┆ -87.6511    ┆ 41.87764159 ┆ -87.6496177 ┆ member      │\n",
      "│ 5DCA         ┆              ┆ 06:51:04     ┆ 06:54:48    ┆   ┆             ┆ 62753       ┆ 9117584     ┆             │\n",
      "│ F041C89A3D1F ┆ electric_bik ┆ 2022-12-14   ┆ 2022-12-14  ┆ … ┆ -87.7140188 ┆ 41.943403   ┆ -87.679618  ┆ member      │\n",
      "│ 0270         ┆ e            ┆ 17:06:28     ┆ 17:19:27    ┆   ┆ 22          ┆             ┆             ┆             │\n",
      "│ A2BECB88430B ┆ classic_bike ┆ 2022-12-08   ┆ 2022-12-08  ┆ … ┆ -87.6372420 ┆ 41.88185932 ┆ -87.6492637 ┆ member      │\n",
      "│ E156         ┆              ┆ 16:27:47     ┆ 16:32:20    ┆   ┆ 7878113     ┆ 8038225     ┆ 3958588     ┆             │\n",
      "│ 37B392960E56 ┆ classic_bike ┆ 2022-12-28   ┆ 2022-12-28  ┆ … ┆ -87.6511    ┆ 41.87764159 ┆ -87.6496177 ┆ member      │\n",
      "│ 6F58         ┆              ┆ 09:37:38     ┆ 09:41:34    ┆   ┆             ┆ 62753       ┆ 9117584     ┆             │\n",
      "│ 2DD1587210BA ┆ classic_bike ┆ 2022-12-09   ┆ 2022-12-09  ┆ … ┆ -87.66394   ┆ 41.943403   ┆ -87.679618  ┆ casual      │\n",
      "│ 45AE         ┆              ┆ 00:27:25     ┆ 00:35:28    ┆   ┆             ┆             ┆             ┆             │\n",
      "└──────────────┴──────────────┴──────────────┴─────────────┴───┴─────────────┴─────────────┴─────────────┴─────────────┘\n"
     ]
    }
   ],
   "source": [
    "# Step 2: Identify and store records where both 'end_lat' and 'end_lng' are null\n",
    "missing_end_lat_lng = df.filter(pl.col(\"end_lat\").is_null() & pl.col(\"end_lng\").is_null()).clone()\n",
    "\n",
    "# Step 3: Remove these records from the original DataFrame\n",
    "df_cleaned = df.drop_nulls(subset=[\"end_lat\", \"end_lng\"])\n",
    "\n",
    "# Display results\n",
    "print(f\"Number of removed records: {missing_end_lat_lng.shape[0]}\")\n",
    "print(\"\\nRecords removed (stored separately):\")\n",
    "print(missing_end_lat_lng)\n",
    "\n",
    "print(\"\\nUpdated DataFrame after removal:\")\n",
    "print(df_cleaned)"
   ]
  },
  {
   "cell_type": "code",
   "execution_count": 18,
   "id": "be50f9d1-fc2c-4c3a-84af-61e859b9b6ef",
   "metadata": {},
   "outputs": [],
   "source": [
    "df_cleaned = df_cleaned.with_columns(\n",
    "    pl.col(\"started_at\").str.split(\" \").alias(\"split_col\")\n",
    ").with_columns(\n",
    "    pl.col(\"split_col\").list.get(0).alias(\"start_date\"),\n",
    "    pl.col(\"split_col\").list.get(1).alias(\"start_time\")\n",
    ").drop(\"split_col\")  # Optional: Remove the temporary column"
   ]
  },
  {
   "cell_type": "code",
   "execution_count": 20,
   "id": "a8884c73-13d5-4e34-b13c-85889d740bcf",
   "metadata": {},
   "outputs": [],
   "source": [
    "# Split 'started_at' into 'start_date' and 'start_time'\n",
    "df_cleaned = df_cleaned.with_columns(\n",
    "    pl.col(\"started_at\").str.split(\" \").alias(\"split_start\")\n",
    ").with_columns(\n",
    "    pl.col(\"split_start\").list.get(0).alias(\"start_date\"),\n",
    "    pl.col(\"split_start\").list.get(1).alias(\"start_time\")\n",
    ").drop(\"split_start\")  # Optional cleanup\n",
    "\n",
    "# Remove milliseconds from 'start_time'\n",
    "df_cleaned = df_cleaned.with_columns(\n",
    "    pl.col(\"start_time\").str.split(\".\").list.get(0)\n",
    ")\n",
    "\n",
    "# Convert 'start_date' and 'start_time' to datetime\n",
    "df_cleaned = df_cleaned.with_columns(\n",
    "    (pl.col(\"start_date\") + \" \" + pl.col(\"start_time\")).str.strptime(pl.Datetime, \"%Y-%m-%d %H:%M:%S\").alias(\"started_at\")\n",
    ")\n",
    "\n",
    "# Split 'ended_at' into 'end_date' and 'end_time'\n",
    "df_cleaned = df_cleaned.with_columns(\n",
    "    pl.col(\"ended_at\").str.split(\" \").alias(\"split_end\")\n",
    ").with_columns(\n",
    "    pl.col(\"split_end\").list.get(0).alias(\"end_date\"),\n",
    "    pl.col(\"split_end\").list.get(1).alias(\"end_time\")\n",
    ").drop(\"split_end\")  # Optional cleanup\n",
    "\n",
    "# Remove milliseconds from 'end_time'\n",
    "df_cleaned = df_cleaned.with_columns(\n",
    "    pl.col(\"end_time\").str.split(\".\").list.get(0)\n",
    ")\n"
   ]
  },
  {
   "cell_type": "code",
   "execution_count": 22,
   "id": "54ed8ea7-ac2a-4328-8549-93f9b5d469ed",
   "metadata": {},
   "outputs": [],
   "source": [
    "# Convert 'start_date' and 'start_time' to datetime\n",
    "df_cleaned = df_cleaned.with_columns(\n",
    "    (pl.col(\"end_date\") + \" \" + pl.col(\"end_time\")).str.strptime(pl.Datetime, \"%Y-%m-%d %H:%M:%S\").alias(\"ended_at\")\n",
    ")"
   ]
  },
  {
   "cell_type": "code",
   "execution_count": 24,
   "id": "ad7ca86e-48a1-42d6-8561-a2ef11fdab8c",
   "metadata": {},
   "outputs": [
    {
     "data": {
      "text/html": [
       "<div><style>\n",
       ".dataframe > thead > tr,\n",
       ".dataframe > tbody > tr {\n",
       "  text-align: right;\n",
       "  white-space: pre-wrap;\n",
       "}\n",
       "</style>\n",
       "<small>shape: (5_661_859, 17)</small><table border=\"1\" class=\"dataframe\"><thead><tr><th>ride_id</th><th>rideable_type</th><th>started_at</th><th>ended_at</th><th>start_station_name</th><th>start_station_id</th><th>end_station_name</th><th>end_station_id</th><th>start_lat</th><th>start_lng</th><th>end_lat</th><th>end_lng</th><th>member_casual</th><th>start_date</th><th>start_time</th><th>end_date</th><th>end_time</th></tr><tr><td>str</td><td>str</td><td>datetime[μs]</td><td>datetime[μs]</td><td>str</td><td>str</td><td>str</td><td>str</td><td>str</td><td>str</td><td>str</td><td>str</td><td>str</td><td>str</td><td>str</td><td>str</td><td>str</td></tr></thead><tbody><tr><td>&quot;C2F7DD78E82EC875&quot;</td><td>&quot;electric_bike&quot;</td><td>2022-01-13 11:59:47</td><td>2022-01-13 12:02:44</td><td>&quot;Glenwood Ave &amp; Touhy Ave&quot;</td><td>&quot;525&quot;</td><td>&quot;Clark St &amp; Touhy Ave&quot;</td><td>&quot;RP-007&quot;</td><td>&quot;42.0128005&quot;</td><td>&quot;-87.665906&quot;</td><td>&quot;42.01256011541&quot;</td><td>&quot;-87.6743671152&quot;</td><td>&quot;casual&quot;</td><td>&quot;2022-01-13&quot;</td><td>&quot;11:59:47&quot;</td><td>&quot;2022-01-13&quot;</td><td>&quot;12:02:44&quot;</td></tr><tr><td>&quot;A6CF8980A652D272&quot;</td><td>&quot;electric_bike&quot;</td><td>2022-01-10 08:41:56</td><td>2022-01-10 08:46:17</td><td>&quot;Glenwood Ave &amp; Touhy Ave&quot;</td><td>&quot;525&quot;</td><td>&quot;Clark St &amp; Touhy Ave&quot;</td><td>&quot;RP-007&quot;</td><td>&quot;42.012763&quot;</td><td>&quot;-87.6659675&quot;</td><td>&quot;42.01256011541&quot;</td><td>&quot;-87.6743671152&quot;</td><td>&quot;casual&quot;</td><td>&quot;2022-01-10&quot;</td><td>&quot;08:41:56&quot;</td><td>&quot;2022-01-10&quot;</td><td>&quot;08:46:17&quot;</td></tr><tr><td>&quot;BD0F91DFF741C66D&quot;</td><td>&quot;classic_bike&quot;</td><td>2022-01-25 04:53:40</td><td>2022-01-25 04:58:01</td><td>&quot;Sheffield Ave &amp; Fullerton Ave&quot;</td><td>&quot;TA1306000016&quot;</td><td>&quot;Greenview Ave &amp; Fullerton Ave&quot;</td><td>&quot;TA1307000001&quot;</td><td>&quot;41.9256018819&quot;</td><td>&quot;-87.6537080423&quot;</td><td>&quot;41.92533&quot;</td><td>&quot;-87.6658&quot;</td><td>&quot;member&quot;</td><td>&quot;2022-01-25&quot;</td><td>&quot;04:53:40&quot;</td><td>&quot;2022-01-25&quot;</td><td>&quot;04:58:01&quot;</td></tr><tr><td>&quot;CBB80ED419105406&quot;</td><td>&quot;classic_bike&quot;</td><td>2022-01-04 00:18:04</td><td>2022-01-04 00:33:00</td><td>&quot;Clark St &amp; Bryn Mawr Ave&quot;</td><td>&quot;KA1504000151&quot;</td><td>&quot;Paulina St &amp; Montrose Ave&quot;</td><td>&quot;TA1309000021&quot;</td><td>&quot;41.983593&quot;</td><td>&quot;-87.669154&quot;</td><td>&quot;41.961507&quot;</td><td>&quot;-87.671387&quot;</td><td>&quot;casual&quot;</td><td>&quot;2022-01-04&quot;</td><td>&quot;00:18:04&quot;</td><td>&quot;2022-01-04&quot;</td><td>&quot;00:33:00&quot;</td></tr><tr><td>&quot;DDC963BFDDA51EEA&quot;</td><td>&quot;classic_bike&quot;</td><td>2022-01-20 01:31:10</td><td>2022-01-20 01:37:12</td><td>&quot;Michigan Ave &amp; Jackson Blvd&quot;</td><td>&quot;TA1309000002&quot;</td><td>&quot;State St &amp; Randolph St&quot;</td><td>&quot;TA1305000029&quot;</td><td>&quot;41.87785&quot;</td><td>&quot;-87.62408&quot;</td><td>&quot;41.88462107257936&quot;</td><td>&quot;-87.62783423066139&quot;</td><td>&quot;member&quot;</td><td>&quot;2022-01-20&quot;</td><td>&quot;01:31:10&quot;</td><td>&quot;2022-01-20&quot;</td><td>&quot;01:37:12&quot;</td></tr><tr><td>&hellip;</td><td>&hellip;</td><td>&hellip;</td><td>&hellip;</td><td>&hellip;</td><td>&hellip;</td><td>&hellip;</td><td>&hellip;</td><td>&hellip;</td><td>&hellip;</td><td>&hellip;</td><td>&hellip;</td><td>&hellip;</td><td>&hellip;</td><td>&hellip;</td><td>&hellip;</td><td>&hellip;</td></tr><tr><td>&quot;43ABEE85B6E15DCA&quot;</td><td>&quot;classic_bike&quot;</td><td>2022-12-05 06:51:04</td><td>2022-12-05 06:54:48</td><td>&quot;Sangamon St &amp; Washington Blvd&quot;</td><td>&quot;13409&quot;</td><td>&quot;Peoria St &amp; Jackson Blvd&quot;</td><td>&quot;13158&quot;</td><td>&quot;41.883165&quot;</td><td>&quot;-87.6511&quot;</td><td>&quot;41.8776415962753&quot;</td><td>&quot;-87.64961779117584&quot;</td><td>&quot;member&quot;</td><td>&quot;2022-12-05&quot;</td><td>&quot;06:51:04&quot;</td><td>&quot;2022-12-05&quot;</td><td>&quot;06:54:48&quot;</td></tr><tr><td>&quot;F041C89A3D1F0270&quot;</td><td>&quot;electric_bike&quot;</td><td>2022-12-14 17:06:28</td><td>2022-12-14 17:19:27</td><td>&quot;Bernard St &amp; Elston Ave&quot;</td><td>&quot;18016&quot;</td><td>&quot;Seeley Ave &amp; Roscoe St&quot;</td><td>&quot;13144&quot;</td><td>&quot;41.949979544&quot;</td><td>&quot;-87.714018822&quot;</td><td>&quot;41.943403&quot;</td><td>&quot;-87.679618&quot;</td><td>&quot;member&quot;</td><td>&quot;2022-12-14&quot;</td><td>&quot;17:06:28&quot;</td><td>&quot;2022-12-14&quot;</td><td>&quot;17:19:27&quot;</td></tr><tr><td>&quot;A2BECB88430BE156&quot;</td><td>&quot;classic_bike&quot;</td><td>2022-12-08 16:27:47</td><td>2022-12-08 16:32:20</td><td>&quot;Wacker Dr &amp; Washington St&quot;</td><td>&quot;KA1503000072&quot;</td><td>&quot;Green St &amp; Madison St&quot;</td><td>&quot;TA1307000120&quot;</td><td>&quot;41.88314336439022&quot;</td><td>&quot;-87.63724207878113&quot;</td><td>&quot;41.881859328038225&quot;</td><td>&quot;-87.64926373958588&quot;</td><td>&quot;member&quot;</td><td>&quot;2022-12-08&quot;</td><td>&quot;16:27:47&quot;</td><td>&quot;2022-12-08&quot;</td><td>&quot;16:32:20&quot;</td></tr><tr><td>&quot;37B392960E566F58&quot;</td><td>&quot;classic_bike&quot;</td><td>2022-12-28 09:37:38</td><td>2022-12-28 09:41:34</td><td>&quot;Sangamon St &amp; Washington Blvd&quot;</td><td>&quot;13409&quot;</td><td>&quot;Peoria St &amp; Jackson Blvd&quot;</td><td>&quot;13158&quot;</td><td>&quot;41.883165&quot;</td><td>&quot;-87.6511&quot;</td><td>&quot;41.8776415962753&quot;</td><td>&quot;-87.64961779117584&quot;</td><td>&quot;member&quot;</td><td>&quot;2022-12-28&quot;</td><td>&quot;09:37:38&quot;</td><td>&quot;2022-12-28&quot;</td><td>&quot;09:41:34&quot;</td></tr><tr><td>&quot;2DD1587210BA45AE&quot;</td><td>&quot;classic_bike&quot;</td><td>2022-12-09 00:27:25</td><td>2022-12-09 00:35:28</td><td>&quot;Southport Ave &amp; Waveland Ave&quot;</td><td>&quot;13235&quot;</td><td>&quot;Seeley Ave &amp; Roscoe St&quot;</td><td>&quot;13144&quot;</td><td>&quot;41.94815&quot;</td><td>&quot;-87.66394&quot;</td><td>&quot;41.943403&quot;</td><td>&quot;-87.679618&quot;</td><td>&quot;casual&quot;</td><td>&quot;2022-12-09&quot;</td><td>&quot;00:27:25&quot;</td><td>&quot;2022-12-09&quot;</td><td>&quot;00:35:28&quot;</td></tr></tbody></table></div>"
      ],
      "text/plain": [
       "shape: (5_661_859, 17)\n",
       "┌────────────────┬───────────────┬───────────────┬───────────────┬───┬────────────┬────────────┬────────────┬──────────┐\n",
       "│ ride_id        ┆ rideable_type ┆ started_at    ┆ ended_at      ┆ … ┆ start_date ┆ start_time ┆ end_date   ┆ end_time │\n",
       "│ ---            ┆ ---           ┆ ---           ┆ ---           ┆   ┆ ---        ┆ ---        ┆ ---        ┆ ---      │\n",
       "│ str            ┆ str           ┆ datetime[μs]  ┆ datetime[μs]  ┆   ┆ str        ┆ str        ┆ str        ┆ str      │\n",
       "╞════════════════╪═══════════════╪═══════════════╪═══════════════╪═══╪════════════╪════════════╪════════════╪══════════╡\n",
       "│ C2F7DD78E82EC8 ┆ electric_bike ┆ 2022-01-13    ┆ 2022-01-13    ┆ … ┆ 2022-01-13 ┆ 11:59:47   ┆ 2022-01-13 ┆ 12:02:44 │\n",
       "│ 75             ┆               ┆ 11:59:47      ┆ 12:02:44      ┆   ┆            ┆            ┆            ┆          │\n",
       "│ A6CF8980A652D2 ┆ electric_bike ┆ 2022-01-10    ┆ 2022-01-10    ┆ … ┆ 2022-01-10 ┆ 08:41:56   ┆ 2022-01-10 ┆ 08:46:17 │\n",
       "│ 72             ┆               ┆ 08:41:56      ┆ 08:46:17      ┆   ┆            ┆            ┆            ┆          │\n",
       "│ BD0F91DFF741C6 ┆ classic_bike  ┆ 2022-01-25    ┆ 2022-01-25    ┆ … ┆ 2022-01-25 ┆ 04:53:40   ┆ 2022-01-25 ┆ 04:58:01 │\n",
       "│ 6D             ┆               ┆ 04:53:40      ┆ 04:58:01      ┆   ┆            ┆            ┆            ┆          │\n",
       "│ CBB80ED4191054 ┆ classic_bike  ┆ 2022-01-04    ┆ 2022-01-04    ┆ … ┆ 2022-01-04 ┆ 00:18:04   ┆ 2022-01-04 ┆ 00:33:00 │\n",
       "│ 06             ┆               ┆ 00:18:04      ┆ 00:33:00      ┆   ┆            ┆            ┆            ┆          │\n",
       "│ DDC963BFDDA51E ┆ classic_bike  ┆ 2022-01-20    ┆ 2022-01-20    ┆ … ┆ 2022-01-20 ┆ 01:31:10   ┆ 2022-01-20 ┆ 01:37:12 │\n",
       "│ EA             ┆               ┆ 01:31:10      ┆ 01:37:12      ┆   ┆            ┆            ┆            ┆          │\n",
       "│ …              ┆ …             ┆ …             ┆ …             ┆ … ┆ …          ┆ …          ┆ …          ┆ …        │\n",
       "│ 43ABEE85B6E15D ┆ classic_bike  ┆ 2022-12-05    ┆ 2022-12-05    ┆ … ┆ 2022-12-05 ┆ 06:51:04   ┆ 2022-12-05 ┆ 06:54:48 │\n",
       "│ CA             ┆               ┆ 06:51:04      ┆ 06:54:48      ┆   ┆            ┆            ┆            ┆          │\n",
       "│ F041C89A3D1F02 ┆ electric_bike ┆ 2022-12-14    ┆ 2022-12-14    ┆ … ┆ 2022-12-14 ┆ 17:06:28   ┆ 2022-12-14 ┆ 17:19:27 │\n",
       "│ 70             ┆               ┆ 17:06:28      ┆ 17:19:27      ┆   ┆            ┆            ┆            ┆          │\n",
       "│ A2BECB88430BE1 ┆ classic_bike  ┆ 2022-12-08    ┆ 2022-12-08    ┆ … ┆ 2022-12-08 ┆ 16:27:47   ┆ 2022-12-08 ┆ 16:32:20 │\n",
       "│ 56             ┆               ┆ 16:27:47      ┆ 16:32:20      ┆   ┆            ┆            ┆            ┆          │\n",
       "│ 37B392960E566F ┆ classic_bike  ┆ 2022-12-28    ┆ 2022-12-28    ┆ … ┆ 2022-12-28 ┆ 09:37:38   ┆ 2022-12-28 ┆ 09:41:34 │\n",
       "│ 58             ┆               ┆ 09:37:38      ┆ 09:41:34      ┆   ┆            ┆            ┆            ┆          │\n",
       "│ 2DD1587210BA45 ┆ classic_bike  ┆ 2022-12-09    ┆ 2022-12-09    ┆ … ┆ 2022-12-09 ┆ 00:27:25   ┆ 2022-12-09 ┆ 00:35:28 │\n",
       "│ AE             ┆               ┆ 00:27:25      ┆ 00:35:28      ┆   ┆            ┆            ┆            ┆          │\n",
       "└────────────────┴───────────────┴───────────────┴───────────────┴───┴────────────┴────────────┴────────────┴──────────┘"
      ]
     },
     "execution_count": 24,
     "metadata": {},
     "output_type": "execute_result"
    }
   ],
   "source": [
    "df_cleaned"
   ]
  },
  {
   "cell_type": "code",
   "execution_count": 26,
   "id": "304e6ccd-081f-4f1d-979e-55f6aaff6b4d",
   "metadata": {},
   "outputs": [],
   "source": [
    "df_cleaned = df_cleaned.drop([\"start_station_id\", \"end_station_id\"])\n"
   ]
  },
  {
   "cell_type": "code",
   "execution_count": 28,
   "id": "a3c98e6a-a9fd-4dbf-9ddd-72e453acad38",
   "metadata": {},
   "outputs": [],
   "source": [
    "df_cleaned = df_cleaned.with_columns(\n",
    "    (pl.col(\"ended_at\") - pl.col(\"started_at\")).alias(\"duration\")\n",
    ")\n"
   ]
  },
  {
   "cell_type": "code",
   "execution_count": 30,
   "id": "03f33bc4-3751-4131-95ab-4921a517a5ff",
   "metadata": {},
   "outputs": [
    {
     "name": "stdout",
     "output_type": "stream",
     "text": [
      "shape: (222_241, 16)\n",
      "┌───────────────┬───────────────┬───────────────┬──────────────┬───┬────────────┬────────────┬──────────┬──────────────┐\n",
      "│ ride_id       ┆ rideable_type ┆ started_at    ┆ ended_at     ┆ … ┆ start_time ┆ end_date   ┆ end_time ┆ duration     │\n",
      "│ ---           ┆ ---           ┆ ---           ┆ ---          ┆   ┆ ---        ┆ ---        ┆ ---      ┆ ---          │\n",
      "│ str           ┆ str           ┆ datetime[μs]  ┆ datetime[μs] ┆   ┆ str        ┆ str        ┆ str      ┆ duration[μs] │\n",
      "╞═══════════════╪═══════════════╪═══════════════╪══════════════╪═══╪════════════╪════════════╪══════════╪══════════════╡\n",
      "│ 7DD70C4AA0F3E ┆ classic_bike  ┆ 2022-01-14    ┆ 2022-01-14   ┆ … ┆ 05:47:07   ┆ 2022-01-14 ┆ 05:47:39 ┆ 32s          │\n",
      "│ A7B           ┆               ┆ 05:47:07      ┆ 05:47:39     ┆   ┆            ┆            ┆          ┆              │\n",
      "│ 0AA241497B970 ┆ classic_bike  ┆ 2022-01-12    ┆ 2022-01-12   ┆ … ┆ 14:09:13   ┆ 2022-01-12 ┆ 14:10:53 ┆ 1m 40s       │\n",
      "│ 400           ┆               ┆ 14:09:13      ┆ 14:10:53     ┆   ┆            ┆            ┆          ┆              │\n",
      "│ 060598F8DA7E0 ┆ classic_bike  ┆ 2022-01-26    ┆ 2022-01-26   ┆ … ┆ 15:53:41   ┆ 2022-01-26 ┆ 15:55:12 ┆ 1m 31s       │\n",
      "│ 17B           ┆               ┆ 15:53:41      ┆ 15:55:12     ┆   ┆            ┆            ┆          ┆              │\n",
      "│ 15D6F84CCB902 ┆ electric_bike ┆ 2022-01-05    ┆ 2022-01-05   ┆ … ┆ 10:00:38   ┆ 2022-01-05 ┆ 10:02:17 ┆ 1m 39s       │\n",
      "│ A27           ┆               ┆ 10:00:38      ┆ 10:02:17     ┆   ┆            ┆            ┆          ┆              │\n",
      "│ 64CA42FCA02E5 ┆ classic_bike  ┆ 2022-01-12    ┆ 2022-01-12   ┆ … ┆ 14:37:54   ┆ 2022-01-12 ┆ 14:38:07 ┆ 13s          │\n",
      "│ 148           ┆               ┆ 14:37:54      ┆ 14:38:07     ┆   ┆            ┆            ┆          ┆              │\n",
      "│ …             ┆ …             ┆ …             ┆ …            ┆ … ┆ …          ┆ …          ┆ …        ┆ …            │\n",
      "│ 761E859949154 ┆ classic_bike  ┆ 2022-12-17    ┆ 2022-12-17   ┆ … ┆ 16:24:06   ┆ 2022-12-17 ┆ 16:24:28 ┆ 22s          │\n",
      "│ 1F0           ┆               ┆ 16:24:06      ┆ 16:24:28     ┆   ┆            ┆            ┆          ┆              │\n",
      "│ 19A45774C1A5B ┆ classic_bike  ┆ 2022-12-17    ┆ 2022-12-17   ┆ … ┆ 16:22:21   ┆ 2022-12-17 ┆ 16:22:33 ┆ 12s          │\n",
      "│ 1B8           ┆               ┆ 16:22:21      ┆ 16:22:33     ┆   ┆            ┆            ┆          ┆              │\n",
      "│ 104E69ADD3837 ┆ classic_bike  ┆ 2022-12-01    ┆ 2022-12-01   ┆ … ┆ 11:32:33   ┆ 2022-12-01 ┆ 11:33:38 ┆ 1m 5s        │\n",
      "│ E7C           ┆               ┆ 11:32:33      ┆ 11:33:38     ┆   ┆            ┆            ┆          ┆              │\n",
      "│ 5B5E351D09344 ┆ classic_bike  ┆ 2022-12-07    ┆ 2022-12-07   ┆ … ┆ 09:10:10   ┆ 2022-12-07 ┆ 09:11:29 ┆ 1m 19s       │\n",
      "│ A60           ┆               ┆ 09:10:10      ┆ 09:11:29     ┆   ┆            ┆            ┆          ┆              │\n",
      "│ 17E4BE0F55611 ┆ classic_bike  ┆ 2022-12-05    ┆ 2022-12-05   ┆ … ┆ 17:42:53   ┆ 2022-12-05 ┆ 17:44:16 ┆ 1m 23s       │\n",
      "│ D44           ┆               ┆ 17:42:53      ┆ 17:44:16     ┆   ┆            ┆            ┆          ┆              │\n",
      "└───────────────┴───────────────┴───────────────┴──────────────┴───┴────────────┴────────────┴──────────┴──────────────┘\n"
     ]
    }
   ],
   "source": [
    "df_filtered = df_cleaned.filter(pl.col(\"duration\") < pl.duration(seconds=120))\n",
    "\n",
    "print(df_filtered)\n"
   ]
  },
  {
   "cell_type": "code",
   "execution_count": 32,
   "id": "c613d2af-2d04-4913-81e8-9dc895c36329",
   "metadata": {},
   "outputs": [
    {
     "name": "stdout",
     "output_type": "stream",
     "text": [
      "shape: (5_661_859, 17)\n",
      "┌───────────────┬──────────────┬──────────────┬──────────────┬───┬────────────┬──────────┬──────────────┬──────────────┐\n",
      "│ ride_id       ┆ rideable_typ ┆ started_at   ┆ ended_at     ┆ … ┆ end_date   ┆ end_time ┆ duration     ┆ ride_validit │\n",
      "│ ---           ┆ e            ┆ ---          ┆ ---          ┆   ┆ ---        ┆ ---      ┆ ---          ┆ y            │\n",
      "│ str           ┆ ---          ┆ datetime[μs] ┆ datetime[μs] ┆   ┆ str        ┆ str      ┆ duration[μs] ┆ ---          │\n",
      "│               ┆ str          ┆              ┆              ┆   ┆            ┆          ┆              ┆ str          │\n",
      "╞═══════════════╪══════════════╪══════════════╪══════════════╪═══╪════════════╪══════════╪══════════════╪══════════════╡\n",
      "│ C2F7DD78E82EC ┆ electric_bik ┆ 2022-01-13   ┆ 2022-01-13   ┆ … ┆ 2022-01-13 ┆ 12:02:44 ┆ 2m 57s       ┆ Fair         │\n",
      "│ 875           ┆ e            ┆ 11:59:47     ┆ 12:02:44     ┆   ┆            ┆          ┆              ┆              │\n",
      "│ A6CF8980A652D ┆ electric_bik ┆ 2022-01-10   ┆ 2022-01-10   ┆ … ┆ 2022-01-10 ┆ 08:46:17 ┆ 4m 21s       ┆ Fair         │\n",
      "│ 272           ┆ e            ┆ 08:41:56     ┆ 08:46:17     ┆   ┆            ┆          ┆              ┆              │\n",
      "│ BD0F91DFF741C ┆ classic_bike ┆ 2022-01-25   ┆ 2022-01-25   ┆ … ┆ 2022-01-25 ┆ 04:58:01 ┆ 4m 21s       ┆ Fair         │\n",
      "│ 66D           ┆              ┆ 04:53:40     ┆ 04:58:01     ┆   ┆            ┆          ┆              ┆              │\n",
      "│ CBB80ED419105 ┆ classic_bike ┆ 2022-01-04   ┆ 2022-01-04   ┆ … ┆ 2022-01-04 ┆ 00:33:00 ┆ 14m 56s      ┆ Fair         │\n",
      "│ 406           ┆              ┆ 00:18:04     ┆ 00:33:00     ┆   ┆            ┆          ┆              ┆              │\n",
      "│ DDC963BFDDA51 ┆ classic_bike ┆ 2022-01-20   ┆ 2022-01-20   ┆ … ┆ 2022-01-20 ┆ 01:37:12 ┆ 6m 2s        ┆ Fair         │\n",
      "│ EEA           ┆              ┆ 01:31:10     ┆ 01:37:12     ┆   ┆            ┆          ┆              ┆              │\n",
      "│ …             ┆ …            ┆ …            ┆ …            ┆ … ┆ …          ┆ …        ┆ …            ┆ …            │\n",
      "│ 43ABEE85B6E15 ┆ classic_bike ┆ 2022-12-05   ┆ 2022-12-05   ┆ … ┆ 2022-12-05 ┆ 06:54:48 ┆ 3m 44s       ┆ Fair         │\n",
      "│ DCA           ┆              ┆ 06:51:04     ┆ 06:54:48     ┆   ┆            ┆          ┆              ┆              │\n",
      "│ F041C89A3D1F0 ┆ electric_bik ┆ 2022-12-14   ┆ 2022-12-14   ┆ … ┆ 2022-12-14 ┆ 17:19:27 ┆ 12m 59s      ┆ Fair         │\n",
      "│ 270           ┆ e            ┆ 17:06:28     ┆ 17:19:27     ┆   ┆            ┆          ┆              ┆              │\n",
      "│ A2BECB88430BE ┆ classic_bike ┆ 2022-12-08   ┆ 2022-12-08   ┆ … ┆ 2022-12-08 ┆ 16:32:20 ┆ 4m 33s       ┆ Fair         │\n",
      "│ 156           ┆              ┆ 16:27:47     ┆ 16:32:20     ┆   ┆            ┆          ┆              ┆              │\n",
      "│ 37B392960E566 ┆ classic_bike ┆ 2022-12-28   ┆ 2022-12-28   ┆ … ┆ 2022-12-28 ┆ 09:41:34 ┆ 3m 56s       ┆ Fair         │\n",
      "│ F58           ┆              ┆ 09:37:38     ┆ 09:41:34     ┆   ┆            ┆          ┆              ┆              │\n",
      "│ 2DD1587210BA4 ┆ classic_bike ┆ 2022-12-09   ┆ 2022-12-09   ┆ … ┆ 2022-12-09 ┆ 00:35:28 ┆ 8m 3s        ┆ Fair         │\n",
      "│ 5AE           ┆              ┆ 00:27:25     ┆ 00:35:28     ┆   ┆            ┆          ┆              ┆              │\n",
      "└───────────────┴──────────────┴──────────────┴──────────────┴───┴────────────┴──────────┴──────────────┴──────────────┘\n"
     ]
    }
   ],
   "source": [
    "df_filtered = df_cleaned.with_columns(\n",
    "    pl.when(pl.col(\"duration\") < pl.duration(minutes=2))\n",
    "    .then(pl.lit(\"Suspicious\"))\n",
    "    .otherwise(pl.lit(\"Fair\"))\n",
    "    .alias(\"ride_validity\")\n",
    ")\n",
    "\n",
    "print(df_filtered)\n"
   ]
  },
  {
   "cell_type": "code",
   "execution_count": 34,
   "id": "985c3b98-6ca6-4258-a72c-30a58a90c521",
   "metadata": {},
   "outputs": [],
   "source": [
    "df_cleaned = df_cleaned.with_columns([\n",
    "    df_cleaned[\"started_at\"].dt.truncate(\"1s\").alias(\"started_at\"),\n",
    "    df_cleaned[\"ended_at\"].dt.truncate(\"1s\").alias(\"ended_at\")\n",
    "])\n"
   ]
  },
  {
   "cell_type": "code",
   "execution_count": 36,
   "id": "48074530-3449-4f31-8744-2378aee93992",
   "metadata": {},
   "outputs": [],
   "source": [
    "df = df_filtered.clone()"
   ]
  },
  {
   "cell_type": "code",
   "execution_count": 38,
   "id": "fa5c313f-f8dd-4e11-b420-ed4a30557cce",
   "metadata": {},
   "outputs": [
    {
     "data": {
      "text/html": [
       "<div><style>\n",
       ".dataframe > thead > tr,\n",
       ".dataframe > tbody > tr {\n",
       "  text-align: right;\n",
       "  white-space: pre-wrap;\n",
       "}\n",
       "</style>\n",
       "<small>shape: (5_661_859, 17)</small><table border=\"1\" class=\"dataframe\"><thead><tr><th>ride_id</th><th>rideable_type</th><th>started_at</th><th>ended_at</th><th>start_station_name</th><th>end_station_name</th><th>start_lat</th><th>start_lng</th><th>end_lat</th><th>end_lng</th><th>member_casual</th><th>start_date</th><th>start_time</th><th>end_date</th><th>end_time</th><th>duration</th><th>ride_validity</th></tr><tr><td>str</td><td>str</td><td>datetime[μs]</td><td>datetime[μs]</td><td>str</td><td>str</td><td>str</td><td>str</td><td>str</td><td>str</td><td>str</td><td>str</td><td>str</td><td>str</td><td>str</td><td>duration[μs]</td><td>str</td></tr></thead><tbody><tr><td>&quot;C2F7DD78E82EC875&quot;</td><td>&quot;electric_bike&quot;</td><td>2022-01-13 11:59:47</td><td>2022-01-13 12:02:44</td><td>&quot;Glenwood Ave &amp; Touhy Ave&quot;</td><td>&quot;Clark St &amp; Touhy Ave&quot;</td><td>&quot;42.0128005&quot;</td><td>&quot;-87.665906&quot;</td><td>&quot;42.01256011541&quot;</td><td>&quot;-87.6743671152&quot;</td><td>&quot;casual&quot;</td><td>&quot;2022-01-13&quot;</td><td>&quot;11:59:47&quot;</td><td>&quot;2022-01-13&quot;</td><td>&quot;12:02:44&quot;</td><td>2m 57s</td><td>&quot;Fair&quot;</td></tr><tr><td>&quot;A6CF8980A652D272&quot;</td><td>&quot;electric_bike&quot;</td><td>2022-01-10 08:41:56</td><td>2022-01-10 08:46:17</td><td>&quot;Glenwood Ave &amp; Touhy Ave&quot;</td><td>&quot;Clark St &amp; Touhy Ave&quot;</td><td>&quot;42.012763&quot;</td><td>&quot;-87.6659675&quot;</td><td>&quot;42.01256011541&quot;</td><td>&quot;-87.6743671152&quot;</td><td>&quot;casual&quot;</td><td>&quot;2022-01-10&quot;</td><td>&quot;08:41:56&quot;</td><td>&quot;2022-01-10&quot;</td><td>&quot;08:46:17&quot;</td><td>4m 21s</td><td>&quot;Fair&quot;</td></tr><tr><td>&quot;BD0F91DFF741C66D&quot;</td><td>&quot;classic_bike&quot;</td><td>2022-01-25 04:53:40</td><td>2022-01-25 04:58:01</td><td>&quot;Sheffield Ave &amp; Fullerton Ave&quot;</td><td>&quot;Greenview Ave &amp; Fullerton Ave&quot;</td><td>&quot;41.9256018819&quot;</td><td>&quot;-87.6537080423&quot;</td><td>&quot;41.92533&quot;</td><td>&quot;-87.6658&quot;</td><td>&quot;member&quot;</td><td>&quot;2022-01-25&quot;</td><td>&quot;04:53:40&quot;</td><td>&quot;2022-01-25&quot;</td><td>&quot;04:58:01&quot;</td><td>4m 21s</td><td>&quot;Fair&quot;</td></tr><tr><td>&quot;CBB80ED419105406&quot;</td><td>&quot;classic_bike&quot;</td><td>2022-01-04 00:18:04</td><td>2022-01-04 00:33:00</td><td>&quot;Clark St &amp; Bryn Mawr Ave&quot;</td><td>&quot;Paulina St &amp; Montrose Ave&quot;</td><td>&quot;41.983593&quot;</td><td>&quot;-87.669154&quot;</td><td>&quot;41.961507&quot;</td><td>&quot;-87.671387&quot;</td><td>&quot;casual&quot;</td><td>&quot;2022-01-04&quot;</td><td>&quot;00:18:04&quot;</td><td>&quot;2022-01-04&quot;</td><td>&quot;00:33:00&quot;</td><td>14m 56s</td><td>&quot;Fair&quot;</td></tr><tr><td>&quot;DDC963BFDDA51EEA&quot;</td><td>&quot;classic_bike&quot;</td><td>2022-01-20 01:31:10</td><td>2022-01-20 01:37:12</td><td>&quot;Michigan Ave &amp; Jackson Blvd&quot;</td><td>&quot;State St &amp; Randolph St&quot;</td><td>&quot;41.87785&quot;</td><td>&quot;-87.62408&quot;</td><td>&quot;41.88462107257936&quot;</td><td>&quot;-87.62783423066139&quot;</td><td>&quot;member&quot;</td><td>&quot;2022-01-20&quot;</td><td>&quot;01:31:10&quot;</td><td>&quot;2022-01-20&quot;</td><td>&quot;01:37:12&quot;</td><td>6m 2s</td><td>&quot;Fair&quot;</td></tr><tr><td>&hellip;</td><td>&hellip;</td><td>&hellip;</td><td>&hellip;</td><td>&hellip;</td><td>&hellip;</td><td>&hellip;</td><td>&hellip;</td><td>&hellip;</td><td>&hellip;</td><td>&hellip;</td><td>&hellip;</td><td>&hellip;</td><td>&hellip;</td><td>&hellip;</td><td>&hellip;</td><td>&hellip;</td></tr><tr><td>&quot;43ABEE85B6E15DCA&quot;</td><td>&quot;classic_bike&quot;</td><td>2022-12-05 06:51:04</td><td>2022-12-05 06:54:48</td><td>&quot;Sangamon St &amp; Washington Blvd&quot;</td><td>&quot;Peoria St &amp; Jackson Blvd&quot;</td><td>&quot;41.883165&quot;</td><td>&quot;-87.6511&quot;</td><td>&quot;41.8776415962753&quot;</td><td>&quot;-87.64961779117584&quot;</td><td>&quot;member&quot;</td><td>&quot;2022-12-05&quot;</td><td>&quot;06:51:04&quot;</td><td>&quot;2022-12-05&quot;</td><td>&quot;06:54:48&quot;</td><td>3m 44s</td><td>&quot;Fair&quot;</td></tr><tr><td>&quot;F041C89A3D1F0270&quot;</td><td>&quot;electric_bike&quot;</td><td>2022-12-14 17:06:28</td><td>2022-12-14 17:19:27</td><td>&quot;Bernard St &amp; Elston Ave&quot;</td><td>&quot;Seeley Ave &amp; Roscoe St&quot;</td><td>&quot;41.949979544&quot;</td><td>&quot;-87.714018822&quot;</td><td>&quot;41.943403&quot;</td><td>&quot;-87.679618&quot;</td><td>&quot;member&quot;</td><td>&quot;2022-12-14&quot;</td><td>&quot;17:06:28&quot;</td><td>&quot;2022-12-14&quot;</td><td>&quot;17:19:27&quot;</td><td>12m 59s</td><td>&quot;Fair&quot;</td></tr><tr><td>&quot;A2BECB88430BE156&quot;</td><td>&quot;classic_bike&quot;</td><td>2022-12-08 16:27:47</td><td>2022-12-08 16:32:20</td><td>&quot;Wacker Dr &amp; Washington St&quot;</td><td>&quot;Green St &amp; Madison St&quot;</td><td>&quot;41.88314336439022&quot;</td><td>&quot;-87.63724207878113&quot;</td><td>&quot;41.881859328038225&quot;</td><td>&quot;-87.64926373958588&quot;</td><td>&quot;member&quot;</td><td>&quot;2022-12-08&quot;</td><td>&quot;16:27:47&quot;</td><td>&quot;2022-12-08&quot;</td><td>&quot;16:32:20&quot;</td><td>4m 33s</td><td>&quot;Fair&quot;</td></tr><tr><td>&quot;37B392960E566F58&quot;</td><td>&quot;classic_bike&quot;</td><td>2022-12-28 09:37:38</td><td>2022-12-28 09:41:34</td><td>&quot;Sangamon St &amp; Washington Blvd&quot;</td><td>&quot;Peoria St &amp; Jackson Blvd&quot;</td><td>&quot;41.883165&quot;</td><td>&quot;-87.6511&quot;</td><td>&quot;41.8776415962753&quot;</td><td>&quot;-87.64961779117584&quot;</td><td>&quot;member&quot;</td><td>&quot;2022-12-28&quot;</td><td>&quot;09:37:38&quot;</td><td>&quot;2022-12-28&quot;</td><td>&quot;09:41:34&quot;</td><td>3m 56s</td><td>&quot;Fair&quot;</td></tr><tr><td>&quot;2DD1587210BA45AE&quot;</td><td>&quot;classic_bike&quot;</td><td>2022-12-09 00:27:25</td><td>2022-12-09 00:35:28</td><td>&quot;Southport Ave &amp; Waveland Ave&quot;</td><td>&quot;Seeley Ave &amp; Roscoe St&quot;</td><td>&quot;41.94815&quot;</td><td>&quot;-87.66394&quot;</td><td>&quot;41.943403&quot;</td><td>&quot;-87.679618&quot;</td><td>&quot;casual&quot;</td><td>&quot;2022-12-09&quot;</td><td>&quot;00:27:25&quot;</td><td>&quot;2022-12-09&quot;</td><td>&quot;00:35:28&quot;</td><td>8m 3s</td><td>&quot;Fair&quot;</td></tr></tbody></table></div>"
      ],
      "text/plain": [
       "shape: (5_661_859, 17)\n",
       "┌───────────────┬──────────────┬──────────────┬──────────────┬───┬────────────┬──────────┬──────────────┬──────────────┐\n",
       "│ ride_id       ┆ rideable_typ ┆ started_at   ┆ ended_at     ┆ … ┆ end_date   ┆ end_time ┆ duration     ┆ ride_validit │\n",
       "│ ---           ┆ e            ┆ ---          ┆ ---          ┆   ┆ ---        ┆ ---      ┆ ---          ┆ y            │\n",
       "│ str           ┆ ---          ┆ datetime[μs] ┆ datetime[μs] ┆   ┆ str        ┆ str      ┆ duration[μs] ┆ ---          │\n",
       "│               ┆ str          ┆              ┆              ┆   ┆            ┆          ┆              ┆ str          │\n",
       "╞═══════════════╪══════════════╪══════════════╪══════════════╪═══╪════════════╪══════════╪══════════════╪══════════════╡\n",
       "│ C2F7DD78E82EC ┆ electric_bik ┆ 2022-01-13   ┆ 2022-01-13   ┆ … ┆ 2022-01-13 ┆ 12:02:44 ┆ 2m 57s       ┆ Fair         │\n",
       "│ 875           ┆ e            ┆ 11:59:47     ┆ 12:02:44     ┆   ┆            ┆          ┆              ┆              │\n",
       "│ A6CF8980A652D ┆ electric_bik ┆ 2022-01-10   ┆ 2022-01-10   ┆ … ┆ 2022-01-10 ┆ 08:46:17 ┆ 4m 21s       ┆ Fair         │\n",
       "│ 272           ┆ e            ┆ 08:41:56     ┆ 08:46:17     ┆   ┆            ┆          ┆              ┆              │\n",
       "│ BD0F91DFF741C ┆ classic_bike ┆ 2022-01-25   ┆ 2022-01-25   ┆ … ┆ 2022-01-25 ┆ 04:58:01 ┆ 4m 21s       ┆ Fair         │\n",
       "│ 66D           ┆              ┆ 04:53:40     ┆ 04:58:01     ┆   ┆            ┆          ┆              ┆              │\n",
       "│ CBB80ED419105 ┆ classic_bike ┆ 2022-01-04   ┆ 2022-01-04   ┆ … ┆ 2022-01-04 ┆ 00:33:00 ┆ 14m 56s      ┆ Fair         │\n",
       "│ 406           ┆              ┆ 00:18:04     ┆ 00:33:00     ┆   ┆            ┆          ┆              ┆              │\n",
       "│ DDC963BFDDA51 ┆ classic_bike ┆ 2022-01-20   ┆ 2022-01-20   ┆ … ┆ 2022-01-20 ┆ 01:37:12 ┆ 6m 2s        ┆ Fair         │\n",
       "│ EEA           ┆              ┆ 01:31:10     ┆ 01:37:12     ┆   ┆            ┆          ┆              ┆              │\n",
       "│ …             ┆ …            ┆ …            ┆ …            ┆ … ┆ …          ┆ …        ┆ …            ┆ …            │\n",
       "│ 43ABEE85B6E15 ┆ classic_bike ┆ 2022-12-05   ┆ 2022-12-05   ┆ … ┆ 2022-12-05 ┆ 06:54:48 ┆ 3m 44s       ┆ Fair         │\n",
       "│ DCA           ┆              ┆ 06:51:04     ┆ 06:54:48     ┆   ┆            ┆          ┆              ┆              │\n",
       "│ F041C89A3D1F0 ┆ electric_bik ┆ 2022-12-14   ┆ 2022-12-14   ┆ … ┆ 2022-12-14 ┆ 17:19:27 ┆ 12m 59s      ┆ Fair         │\n",
       "│ 270           ┆ e            ┆ 17:06:28     ┆ 17:19:27     ┆   ┆            ┆          ┆              ┆              │\n",
       "│ A2BECB88430BE ┆ classic_bike ┆ 2022-12-08   ┆ 2022-12-08   ┆ … ┆ 2022-12-08 ┆ 16:32:20 ┆ 4m 33s       ┆ Fair         │\n",
       "│ 156           ┆              ┆ 16:27:47     ┆ 16:32:20     ┆   ┆            ┆          ┆              ┆              │\n",
       "│ 37B392960E566 ┆ classic_bike ┆ 2022-12-28   ┆ 2022-12-28   ┆ … ┆ 2022-12-28 ┆ 09:41:34 ┆ 3m 56s       ┆ Fair         │\n",
       "│ F58           ┆              ┆ 09:37:38     ┆ 09:41:34     ┆   ┆            ┆          ┆              ┆              │\n",
       "│ 2DD1587210BA4 ┆ classic_bike ┆ 2022-12-09   ┆ 2022-12-09   ┆ … ┆ 2022-12-09 ┆ 00:35:28 ┆ 8m 3s        ┆ Fair         │\n",
       "│ 5AE           ┆              ┆ 00:27:25     ┆ 00:35:28     ┆   ┆            ┆          ┆              ┆              │\n",
       "└───────────────┴──────────────┴──────────────┴──────────────┴───┴────────────┴──────────┴──────────────┴──────────────┘"
      ]
     },
     "execution_count": 38,
     "metadata": {},
     "output_type": "execute_result"
    }
   ],
   "source": [
    "df"
   ]
  },
  {
   "cell_type": "code",
   "execution_count": 40,
   "id": "adca5877-1cbf-435c-b39a-d4cd1cb9fac9",
   "metadata": {},
   "outputs": [],
   "source": [
    "data_1 = df.clone()"
   ]
  },
  {
   "cell_type": "code",
   "execution_count": 42,
   "id": "803a0f18-5884-4d99-b6c4-359956865066",
   "metadata": {},
   "outputs": [
    {
     "data": {
      "text/html": [
       "<div><style>\n",
       ".dataframe > thead > tr,\n",
       ".dataframe > tbody > tr {\n",
       "  text-align: right;\n",
       "  white-space: pre-wrap;\n",
       "}\n",
       "</style>\n",
       "<small>shape: (5_661_859, 17)</small><table border=\"1\" class=\"dataframe\"><thead><tr><th>ride_id</th><th>rideable_type</th><th>started_at</th><th>ended_at</th><th>start_station_name</th><th>end_station_name</th><th>start_lat</th><th>start_lng</th><th>end_lat</th><th>end_lng</th><th>member_casual</th><th>start_date</th><th>start_time</th><th>end_date</th><th>end_time</th><th>duration</th><th>ride_validity</th></tr><tr><td>str</td><td>str</td><td>datetime[μs]</td><td>datetime[μs]</td><td>str</td><td>str</td><td>str</td><td>str</td><td>str</td><td>str</td><td>str</td><td>str</td><td>str</td><td>str</td><td>str</td><td>duration[μs]</td><td>str</td></tr></thead><tbody><tr><td>&quot;C2F7DD78E82EC875&quot;</td><td>&quot;electric_bike&quot;</td><td>2022-01-13 11:59:47</td><td>2022-01-13 12:02:44</td><td>&quot;Glenwood Ave &amp; Touhy Ave&quot;</td><td>&quot;Clark St &amp; Touhy Ave&quot;</td><td>&quot;42.0128005&quot;</td><td>&quot;-87.665906&quot;</td><td>&quot;42.01256011541&quot;</td><td>&quot;-87.6743671152&quot;</td><td>&quot;casual&quot;</td><td>&quot;2022-01-13&quot;</td><td>&quot;11:59:47&quot;</td><td>&quot;2022-01-13&quot;</td><td>&quot;12:02:44&quot;</td><td>2m 57s</td><td>&quot;Fair&quot;</td></tr><tr><td>&quot;A6CF8980A652D272&quot;</td><td>&quot;electric_bike&quot;</td><td>2022-01-10 08:41:56</td><td>2022-01-10 08:46:17</td><td>&quot;Glenwood Ave &amp; Touhy Ave&quot;</td><td>&quot;Clark St &amp; Touhy Ave&quot;</td><td>&quot;42.012763&quot;</td><td>&quot;-87.6659675&quot;</td><td>&quot;42.01256011541&quot;</td><td>&quot;-87.6743671152&quot;</td><td>&quot;casual&quot;</td><td>&quot;2022-01-10&quot;</td><td>&quot;08:41:56&quot;</td><td>&quot;2022-01-10&quot;</td><td>&quot;08:46:17&quot;</td><td>4m 21s</td><td>&quot;Fair&quot;</td></tr><tr><td>&quot;BD0F91DFF741C66D&quot;</td><td>&quot;classic_bike&quot;</td><td>2022-01-25 04:53:40</td><td>2022-01-25 04:58:01</td><td>&quot;Sheffield Ave &amp; Fullerton Ave&quot;</td><td>&quot;Greenview Ave &amp; Fullerton Ave&quot;</td><td>&quot;41.9256018819&quot;</td><td>&quot;-87.6537080423&quot;</td><td>&quot;41.92533&quot;</td><td>&quot;-87.6658&quot;</td><td>&quot;member&quot;</td><td>&quot;2022-01-25&quot;</td><td>&quot;04:53:40&quot;</td><td>&quot;2022-01-25&quot;</td><td>&quot;04:58:01&quot;</td><td>4m 21s</td><td>&quot;Fair&quot;</td></tr><tr><td>&quot;CBB80ED419105406&quot;</td><td>&quot;classic_bike&quot;</td><td>2022-01-04 00:18:04</td><td>2022-01-04 00:33:00</td><td>&quot;Clark St &amp; Bryn Mawr Ave&quot;</td><td>&quot;Paulina St &amp; Montrose Ave&quot;</td><td>&quot;41.983593&quot;</td><td>&quot;-87.669154&quot;</td><td>&quot;41.961507&quot;</td><td>&quot;-87.671387&quot;</td><td>&quot;casual&quot;</td><td>&quot;2022-01-04&quot;</td><td>&quot;00:18:04&quot;</td><td>&quot;2022-01-04&quot;</td><td>&quot;00:33:00&quot;</td><td>14m 56s</td><td>&quot;Fair&quot;</td></tr><tr><td>&quot;DDC963BFDDA51EEA&quot;</td><td>&quot;classic_bike&quot;</td><td>2022-01-20 01:31:10</td><td>2022-01-20 01:37:12</td><td>&quot;Michigan Ave &amp; Jackson Blvd&quot;</td><td>&quot;State St &amp; Randolph St&quot;</td><td>&quot;41.87785&quot;</td><td>&quot;-87.62408&quot;</td><td>&quot;41.88462107257936&quot;</td><td>&quot;-87.62783423066139&quot;</td><td>&quot;member&quot;</td><td>&quot;2022-01-20&quot;</td><td>&quot;01:31:10&quot;</td><td>&quot;2022-01-20&quot;</td><td>&quot;01:37:12&quot;</td><td>6m 2s</td><td>&quot;Fair&quot;</td></tr><tr><td>&hellip;</td><td>&hellip;</td><td>&hellip;</td><td>&hellip;</td><td>&hellip;</td><td>&hellip;</td><td>&hellip;</td><td>&hellip;</td><td>&hellip;</td><td>&hellip;</td><td>&hellip;</td><td>&hellip;</td><td>&hellip;</td><td>&hellip;</td><td>&hellip;</td><td>&hellip;</td><td>&hellip;</td></tr><tr><td>&quot;43ABEE85B6E15DCA&quot;</td><td>&quot;classic_bike&quot;</td><td>2022-12-05 06:51:04</td><td>2022-12-05 06:54:48</td><td>&quot;Sangamon St &amp; Washington Blvd&quot;</td><td>&quot;Peoria St &amp; Jackson Blvd&quot;</td><td>&quot;41.883165&quot;</td><td>&quot;-87.6511&quot;</td><td>&quot;41.8776415962753&quot;</td><td>&quot;-87.64961779117584&quot;</td><td>&quot;member&quot;</td><td>&quot;2022-12-05&quot;</td><td>&quot;06:51:04&quot;</td><td>&quot;2022-12-05&quot;</td><td>&quot;06:54:48&quot;</td><td>3m 44s</td><td>&quot;Fair&quot;</td></tr><tr><td>&quot;F041C89A3D1F0270&quot;</td><td>&quot;electric_bike&quot;</td><td>2022-12-14 17:06:28</td><td>2022-12-14 17:19:27</td><td>&quot;Bernard St &amp; Elston Ave&quot;</td><td>&quot;Seeley Ave &amp; Roscoe St&quot;</td><td>&quot;41.949979544&quot;</td><td>&quot;-87.714018822&quot;</td><td>&quot;41.943403&quot;</td><td>&quot;-87.679618&quot;</td><td>&quot;member&quot;</td><td>&quot;2022-12-14&quot;</td><td>&quot;17:06:28&quot;</td><td>&quot;2022-12-14&quot;</td><td>&quot;17:19:27&quot;</td><td>12m 59s</td><td>&quot;Fair&quot;</td></tr><tr><td>&quot;A2BECB88430BE156&quot;</td><td>&quot;classic_bike&quot;</td><td>2022-12-08 16:27:47</td><td>2022-12-08 16:32:20</td><td>&quot;Wacker Dr &amp; Washington St&quot;</td><td>&quot;Green St &amp; Madison St&quot;</td><td>&quot;41.88314336439022&quot;</td><td>&quot;-87.63724207878113&quot;</td><td>&quot;41.881859328038225&quot;</td><td>&quot;-87.64926373958588&quot;</td><td>&quot;member&quot;</td><td>&quot;2022-12-08&quot;</td><td>&quot;16:27:47&quot;</td><td>&quot;2022-12-08&quot;</td><td>&quot;16:32:20&quot;</td><td>4m 33s</td><td>&quot;Fair&quot;</td></tr><tr><td>&quot;37B392960E566F58&quot;</td><td>&quot;classic_bike&quot;</td><td>2022-12-28 09:37:38</td><td>2022-12-28 09:41:34</td><td>&quot;Sangamon St &amp; Washington Blvd&quot;</td><td>&quot;Peoria St &amp; Jackson Blvd&quot;</td><td>&quot;41.883165&quot;</td><td>&quot;-87.6511&quot;</td><td>&quot;41.8776415962753&quot;</td><td>&quot;-87.64961779117584&quot;</td><td>&quot;member&quot;</td><td>&quot;2022-12-28&quot;</td><td>&quot;09:37:38&quot;</td><td>&quot;2022-12-28&quot;</td><td>&quot;09:41:34&quot;</td><td>3m 56s</td><td>&quot;Fair&quot;</td></tr><tr><td>&quot;2DD1587210BA45AE&quot;</td><td>&quot;classic_bike&quot;</td><td>2022-12-09 00:27:25</td><td>2022-12-09 00:35:28</td><td>&quot;Southport Ave &amp; Waveland Ave&quot;</td><td>&quot;Seeley Ave &amp; Roscoe St&quot;</td><td>&quot;41.94815&quot;</td><td>&quot;-87.66394&quot;</td><td>&quot;41.943403&quot;</td><td>&quot;-87.679618&quot;</td><td>&quot;casual&quot;</td><td>&quot;2022-12-09&quot;</td><td>&quot;00:27:25&quot;</td><td>&quot;2022-12-09&quot;</td><td>&quot;00:35:28&quot;</td><td>8m 3s</td><td>&quot;Fair&quot;</td></tr></tbody></table></div>"
      ],
      "text/plain": [
       "shape: (5_661_859, 17)\n",
       "┌───────────────┬──────────────┬──────────────┬──────────────┬───┬────────────┬──────────┬──────────────┬──────────────┐\n",
       "│ ride_id       ┆ rideable_typ ┆ started_at   ┆ ended_at     ┆ … ┆ end_date   ┆ end_time ┆ duration     ┆ ride_validit │\n",
       "│ ---           ┆ e            ┆ ---          ┆ ---          ┆   ┆ ---        ┆ ---      ┆ ---          ┆ y            │\n",
       "│ str           ┆ ---          ┆ datetime[μs] ┆ datetime[μs] ┆   ┆ str        ┆ str      ┆ duration[μs] ┆ ---          │\n",
       "│               ┆ str          ┆              ┆              ┆   ┆            ┆          ┆              ┆ str          │\n",
       "╞═══════════════╪══════════════╪══════════════╪══════════════╪═══╪════════════╪══════════╪══════════════╪══════════════╡\n",
       "│ C2F7DD78E82EC ┆ electric_bik ┆ 2022-01-13   ┆ 2022-01-13   ┆ … ┆ 2022-01-13 ┆ 12:02:44 ┆ 2m 57s       ┆ Fair         │\n",
       "│ 875           ┆ e            ┆ 11:59:47     ┆ 12:02:44     ┆   ┆            ┆          ┆              ┆              │\n",
       "│ A6CF8980A652D ┆ electric_bik ┆ 2022-01-10   ┆ 2022-01-10   ┆ … ┆ 2022-01-10 ┆ 08:46:17 ┆ 4m 21s       ┆ Fair         │\n",
       "│ 272           ┆ e            ┆ 08:41:56     ┆ 08:46:17     ┆   ┆            ┆          ┆              ┆              │\n",
       "│ BD0F91DFF741C ┆ classic_bike ┆ 2022-01-25   ┆ 2022-01-25   ┆ … ┆ 2022-01-25 ┆ 04:58:01 ┆ 4m 21s       ┆ Fair         │\n",
       "│ 66D           ┆              ┆ 04:53:40     ┆ 04:58:01     ┆   ┆            ┆          ┆              ┆              │\n",
       "│ CBB80ED419105 ┆ classic_bike ┆ 2022-01-04   ┆ 2022-01-04   ┆ … ┆ 2022-01-04 ┆ 00:33:00 ┆ 14m 56s      ┆ Fair         │\n",
       "│ 406           ┆              ┆ 00:18:04     ┆ 00:33:00     ┆   ┆            ┆          ┆              ┆              │\n",
       "│ DDC963BFDDA51 ┆ classic_bike ┆ 2022-01-20   ┆ 2022-01-20   ┆ … ┆ 2022-01-20 ┆ 01:37:12 ┆ 6m 2s        ┆ Fair         │\n",
       "│ EEA           ┆              ┆ 01:31:10     ┆ 01:37:12     ┆   ┆            ┆          ┆              ┆              │\n",
       "│ …             ┆ …            ┆ …            ┆ …            ┆ … ┆ …          ┆ …        ┆ …            ┆ …            │\n",
       "│ 43ABEE85B6E15 ┆ classic_bike ┆ 2022-12-05   ┆ 2022-12-05   ┆ … ┆ 2022-12-05 ┆ 06:54:48 ┆ 3m 44s       ┆ Fair         │\n",
       "│ DCA           ┆              ┆ 06:51:04     ┆ 06:54:48     ┆   ┆            ┆          ┆              ┆              │\n",
       "│ F041C89A3D1F0 ┆ electric_bik ┆ 2022-12-14   ┆ 2022-12-14   ┆ … ┆ 2022-12-14 ┆ 17:19:27 ┆ 12m 59s      ┆ Fair         │\n",
       "│ 270           ┆ e            ┆ 17:06:28     ┆ 17:19:27     ┆   ┆            ┆          ┆              ┆              │\n",
       "│ A2BECB88430BE ┆ classic_bike ┆ 2022-12-08   ┆ 2022-12-08   ┆ … ┆ 2022-12-08 ┆ 16:32:20 ┆ 4m 33s       ┆ Fair         │\n",
       "│ 156           ┆              ┆ 16:27:47     ┆ 16:32:20     ┆   ┆            ┆          ┆              ┆              │\n",
       "│ 37B392960E566 ┆ classic_bike ┆ 2022-12-28   ┆ 2022-12-28   ┆ … ┆ 2022-12-28 ┆ 09:41:34 ┆ 3m 56s       ┆ Fair         │\n",
       "│ F58           ┆              ┆ 09:37:38     ┆ 09:41:34     ┆   ┆            ┆          ┆              ┆              │\n",
       "│ 2DD1587210BA4 ┆ classic_bike ┆ 2022-12-09   ┆ 2022-12-09   ┆ … ┆ 2022-12-09 ┆ 00:35:28 ┆ 8m 3s        ┆ Fair         │\n",
       "│ 5AE           ┆              ┆ 00:27:25     ┆ 00:35:28     ┆   ┆            ┆          ┆              ┆              │\n",
       "└───────────────┴──────────────┴──────────────┴──────────────┴───┴────────────┴──────────┴──────────────┴──────────────┘"
      ]
     },
     "execution_count": 42,
     "metadata": {},
     "output_type": "execute_result"
    }
   ],
   "source": [
    "data_1"
   ]
  },
  {
   "cell_type": "markdown",
   "id": "be2e2ef3-fd1f-46b4-bb19-04d8e98731c8",
   "metadata": {},
   "source": [
    "##  Polars is optimized for performance, we can avoid slow row-wise operations by using a vectorized approach and efficient nearest-neighbor searches.\n",
    "\n",
    "## Instead of iterating row by row, we can use Scipy's KDTree for fast nearest-neighbor lookups. Here’s how you can implement it in Polars:"
   ]
  },
  {
   "cell_type": "code",
   "execution_count": 47,
   "id": "9ae4a6e3-950c-44e2-9690-75415c35e287",
   "metadata": {},
   "outputs": [
    {
     "name": "stderr",
     "output_type": "stream",
     "text": [
      "C:\\Users\\Sowjanya\\AppData\\Local\\Temp\\ipykernel_25484\\1136869562.py:29: SettingWithCopyWarning: \n",
      "A value is trying to be set on a copy of a slice from a DataFrame.\n",
      "Try using .loc[row_indexer,col_indexer] = value instead\n",
      "\n",
      "See the caveats in the documentation: https://pandas.pydata.org/pandas-docs/stable/user_guide/indexing.html#returning-a-view-versus-a-copy\n",
      "  missing_places[\"start_station_name\"] = valid_places.iloc[nearest_indices][\"start_station_name\"].values\n"
     ]
    },
    {
     "name": "stdout",
     "output_type": "stream",
     "text": [
      "shape: (5_661_859, 17)\n",
      "┌───────────────┬──────────────┬──────────────┬──────────────┬───┬────────────┬──────────┬──────────────┬──────────────┐\n",
      "│ ride_id       ┆ rideable_typ ┆ started_at   ┆ ended_at     ┆ … ┆ end_date   ┆ end_time ┆ duration     ┆ ride_validit │\n",
      "│ ---           ┆ e            ┆ ---          ┆ ---          ┆   ┆ ---        ┆ ---      ┆ ---          ┆ y            │\n",
      "│ str           ┆ ---          ┆ datetime[μs] ┆ datetime[μs] ┆   ┆ str        ┆ str      ┆ duration[μs] ┆ ---          │\n",
      "│               ┆ str          ┆              ┆              ┆   ┆            ┆          ┆              ┆ str          │\n",
      "╞═══════════════╪══════════════╪══════════════╪══════════════╪═══╪════════════╪══════════╪══════════════╪══════════════╡\n",
      "│ C2F7DD78E82EC ┆ electric_bik ┆ 2022-01-13   ┆ 2022-01-13   ┆ … ┆ 2022-01-13 ┆ 12:02:44 ┆ 2m 57s       ┆ Fair         │\n",
      "│ 875           ┆ e            ┆ 11:59:47     ┆ 12:02:44     ┆   ┆            ┆          ┆              ┆              │\n",
      "│ A6CF8980A652D ┆ electric_bik ┆ 2022-01-10   ┆ 2022-01-10   ┆ … ┆ 2022-01-10 ┆ 08:46:17 ┆ 4m 21s       ┆ Fair         │\n",
      "│ 272           ┆ e            ┆ 08:41:56     ┆ 08:46:17     ┆   ┆            ┆          ┆              ┆              │\n",
      "│ BD0F91DFF741C ┆ classic_bike ┆ 2022-01-25   ┆ 2022-01-25   ┆ … ┆ 2022-01-25 ┆ 04:58:01 ┆ 4m 21s       ┆ Fair         │\n",
      "│ 66D           ┆              ┆ 04:53:40     ┆ 04:58:01     ┆   ┆            ┆          ┆              ┆              │\n",
      "│ CBB80ED419105 ┆ classic_bike ┆ 2022-01-04   ┆ 2022-01-04   ┆ … ┆ 2022-01-04 ┆ 00:33:00 ┆ 14m 56s      ┆ Fair         │\n",
      "│ 406           ┆              ┆ 00:18:04     ┆ 00:33:00     ┆   ┆            ┆          ┆              ┆              │\n",
      "│ DDC963BFDDA51 ┆ classic_bike ┆ 2022-01-20   ┆ 2022-01-20   ┆ … ┆ 2022-01-20 ┆ 01:37:12 ┆ 6m 2s        ┆ Fair         │\n",
      "│ EEA           ┆              ┆ 01:31:10     ┆ 01:37:12     ┆   ┆            ┆          ┆              ┆              │\n",
      "│ …             ┆ …            ┆ …            ┆ …            ┆ … ┆ …          ┆ …        ┆ …            ┆ …            │\n",
      "│ 43ABEE85B6E15 ┆ classic_bike ┆ 2022-12-05   ┆ 2022-12-05   ┆ … ┆ 2022-12-05 ┆ 06:54:48 ┆ 3m 44s       ┆ Fair         │\n",
      "│ DCA           ┆              ┆ 06:51:04     ┆ 06:54:48     ┆   ┆            ┆          ┆              ┆              │\n",
      "│ F041C89A3D1F0 ┆ electric_bik ┆ 2022-12-14   ┆ 2022-12-14   ┆ … ┆ 2022-12-14 ┆ 17:19:27 ┆ 12m 59s      ┆ Fair         │\n",
      "│ 270           ┆ e            ┆ 17:06:28     ┆ 17:19:27     ┆   ┆            ┆          ┆              ┆              │\n",
      "│ A2BECB88430BE ┆ classic_bike ┆ 2022-12-08   ┆ 2022-12-08   ┆ … ┆ 2022-12-08 ┆ 16:32:20 ┆ 4m 33s       ┆ Fair         │\n",
      "│ 156           ┆              ┆ 16:27:47     ┆ 16:32:20     ┆   ┆            ┆          ┆              ┆              │\n",
      "│ 37B392960E566 ┆ classic_bike ┆ 2022-12-28   ┆ 2022-12-28   ┆ … ┆ 2022-12-28 ┆ 09:41:34 ┆ 3m 56s       ┆ Fair         │\n",
      "│ F58           ┆              ┆ 09:37:38     ┆ 09:41:34     ┆   ┆            ┆          ┆              ┆              │\n",
      "│ 2DD1587210BA4 ┆ classic_bike ┆ 2022-12-09   ┆ 2022-12-09   ┆ … ┆ 2022-12-09 ┆ 00:35:28 ┆ 8m 3s        ┆ Fair         │\n",
      "│ 5AE           ┆              ┆ 00:27:25     ┆ 00:35:28     ┆   ┆            ┆          ┆              ┆              │\n",
      "└───────────────┴──────────────┴──────────────┴──────────────┴───┴────────────┴──────────┴──────────────┴──────────────┘\n"
     ]
    }
   ],
   "source": [
    "import polars as pl\n",
    "import numpy as np\n",
    "from scipy.spatial import cKDTree  # Fast nearest-neighbor search\n",
    "\n",
    "def find_nearest_place_polars(df: pl.DataFrame) -> pl.DataFrame:\n",
    "    \"\"\"\n",
    "    Assigns the nearest place name to rows where 'start_station_name' is missing.\n",
    "    Uses KDTree for fast nearest-neighbor lookup.\n",
    "    \"\"\"\n",
    "\n",
    "    # Convert to Pandas for KDTree operations (only for lat/lng processing)\n",
    "    df_pandas = df.to_pandas()\n",
    "\n",
    "    # Extract valid and missing place data\n",
    "    valid_places = df_pandas[df_pandas[\"start_station_name\"].notna()]\n",
    "    missing_places = df_pandas[df_pandas[\"start_station_name\"].isna()]\n",
    "\n",
    "    # Build KDTree for fast nearest neighbor search\n",
    "    if not valid_places.empty:\n",
    "        valid_coords = np.array(list(zip(valid_places[\"start_lat\"], valid_places[\"start_lng\"])))\n",
    "        tree = cKDTree(valid_coords)\n",
    "\n",
    "        # Find nearest valid station for each missing station\n",
    "        if not missing_places.empty:\n",
    "            missing_coords = np.array(list(zip(missing_places[\"start_lat\"], missing_places[\"start_lng\"])))\n",
    "            _, nearest_indices = tree.query(missing_coords)\n",
    "\n",
    "            # Assign nearest station names\n",
    "            missing_places[\"start_station_name\"] = valid_places.iloc[nearest_indices][\"start_station_name\"].values\n",
    "\n",
    "            # Merge back the updated missing places\n",
    "            df_pandas.loc[df_pandas[\"start_station_name\"].isna(), \"start_station_name\"] = missing_places[\"start_station_name\"]\n",
    "\n",
    "    # Convert back to Polars\n",
    "    return pl.from_pandas(df_pandas)\n",
    "\n",
    "# Example usage\n",
    "try:\n",
    "    df_cleaned = pl.DataFrame(data_1)  # Ensure data_1 is defined\n",
    "    df_cleaned = find_nearest_place_polars(df_cleaned)\n",
    "    print(df_cleaned)\n",
    "except NameError:\n",
    "    print(\"Error: 'data_1' is not defined. Make sure your dataset exists.\")\n"
   ]
  },
  {
   "cell_type": "code",
   "execution_count": null,
   "id": "c2c7eebe-78ff-4da2-9b09-f7dba1ac33c6",
   "metadata": {},
   "outputs": [
    {
     "name": "stdout",
     "output_type": "stream",
     "text": [
      "Missing values in start_station_name: 0\n"
     ]
    }
   ],
   "source": [
    "# Count missing values in start_station_name\n",
    "missing_count = df_cleaned[\"start_station_name\"].is_null().sum()\n",
    "print(f\"Missing values in start_station_name: {missing_count}\")\n"
   ]
  },
  {
   "cell_type": "code",
   "execution_count": null,
   "id": "4ee82b71-2bda-471d-980e-286891ce6f51",
   "metadata": {},
   "outputs": [
    {
     "name": "stderr",
     "output_type": "stream",
     "text": [
      "C:\\Users\\Sowjanya\\AppData\\Local\\Temp\\ipykernel_25484\\65436734.py:32: SettingWithCopyWarning: \n",
      "A value is trying to be set on a copy of a slice from a DataFrame.\n",
      "Try using .loc[row_indexer,col_indexer] = value instead\n",
      "\n",
      "See the caveats in the documentation: https://pandas.pydata.org/pandas-docs/stable/user_guide/indexing.html#returning-a-view-versus-a-copy\n",
      "  missing_places[station_col] = valid_places.iloc[nearest_indices][station_col].values\n",
      "C:\\Users\\Sowjanya\\AppData\\Local\\Temp\\ipykernel_25484\\65436734.py:32: SettingWithCopyWarning: \n",
      "A value is trying to be set on a copy of a slice from a DataFrame.\n",
      "Try using .loc[row_indexer,col_indexer] = value instead\n",
      "\n",
      "See the caveats in the documentation: https://pandas.pydata.org/pandas-docs/stable/user_guide/indexing.html#returning-a-view-versus-a-copy\n",
      "  missing_places[station_col] = valid_places.iloc[nearest_indices][station_col].values\n"
     ]
    },
    {
     "name": "stdout",
     "output_type": "stream",
     "text": [
      "shape: (5_661_859, 17)\n",
      "┌───────────────┬──────────────┬──────────────┬──────────────┬───┬────────────┬──────────┬──────────────┬──────────────┐\n",
      "│ ride_id       ┆ rideable_typ ┆ started_at   ┆ ended_at     ┆ … ┆ end_date   ┆ end_time ┆ duration     ┆ ride_validit │\n",
      "│ ---           ┆ e            ┆ ---          ┆ ---          ┆   ┆ ---        ┆ ---      ┆ ---          ┆ y            │\n",
      "│ str           ┆ ---          ┆ datetime[μs] ┆ datetime[μs] ┆   ┆ str        ┆ str      ┆ duration[μs] ┆ ---          │\n",
      "│               ┆ str          ┆              ┆              ┆   ┆            ┆          ┆              ┆ str          │\n",
      "╞═══════════════╪══════════════╪══════════════╪══════════════╪═══╪════════════╪══════════╪══════════════╪══════════════╡\n",
      "│ C2F7DD78E82EC ┆ electric_bik ┆ 2022-01-13   ┆ 2022-01-13   ┆ … ┆ 2022-01-13 ┆ 12:02:44 ┆ 2m 57s       ┆ Fair         │\n",
      "│ 875           ┆ e            ┆ 11:59:47     ┆ 12:02:44     ┆   ┆            ┆          ┆              ┆              │\n",
      "│ A6CF8980A652D ┆ electric_bik ┆ 2022-01-10   ┆ 2022-01-10   ┆ … ┆ 2022-01-10 ┆ 08:46:17 ┆ 4m 21s       ┆ Fair         │\n",
      "│ 272           ┆ e            ┆ 08:41:56     ┆ 08:46:17     ┆   ┆            ┆          ┆              ┆              │\n",
      "│ BD0F91DFF741C ┆ classic_bike ┆ 2022-01-25   ┆ 2022-01-25   ┆ … ┆ 2022-01-25 ┆ 04:58:01 ┆ 4m 21s       ┆ Fair         │\n",
      "│ 66D           ┆              ┆ 04:53:40     ┆ 04:58:01     ┆   ┆            ┆          ┆              ┆              │\n",
      "│ CBB80ED419105 ┆ classic_bike ┆ 2022-01-04   ┆ 2022-01-04   ┆ … ┆ 2022-01-04 ┆ 00:33:00 ┆ 14m 56s      ┆ Fair         │\n",
      "│ 406           ┆              ┆ 00:18:04     ┆ 00:33:00     ┆   ┆            ┆          ┆              ┆              │\n",
      "│ DDC963BFDDA51 ┆ classic_bike ┆ 2022-01-20   ┆ 2022-01-20   ┆ … ┆ 2022-01-20 ┆ 01:37:12 ┆ 6m 2s        ┆ Fair         │\n",
      "│ EEA           ┆              ┆ 01:31:10     ┆ 01:37:12     ┆   ┆            ┆          ┆              ┆              │\n",
      "│ …             ┆ …            ┆ …            ┆ …            ┆ … ┆ …          ┆ …        ┆ …            ┆ …            │\n",
      "│ 43ABEE85B6E15 ┆ classic_bike ┆ 2022-12-05   ┆ 2022-12-05   ┆ … ┆ 2022-12-05 ┆ 06:54:48 ┆ 3m 44s       ┆ Fair         │\n",
      "│ DCA           ┆              ┆ 06:51:04     ┆ 06:54:48     ┆   ┆            ┆          ┆              ┆              │\n",
      "│ F041C89A3D1F0 ┆ electric_bik ┆ 2022-12-14   ┆ 2022-12-14   ┆ … ┆ 2022-12-14 ┆ 17:19:27 ┆ 12m 59s      ┆ Fair         │\n",
      "│ 270           ┆ e            ┆ 17:06:28     ┆ 17:19:27     ┆   ┆            ┆          ┆              ┆              │\n",
      "│ A2BECB88430BE ┆ classic_bike ┆ 2022-12-08   ┆ 2022-12-08   ┆ … ┆ 2022-12-08 ┆ 16:32:20 ┆ 4m 33s       ┆ Fair         │\n",
      "│ 156           ┆              ┆ 16:27:47     ┆ 16:32:20     ┆   ┆            ┆          ┆              ┆              │\n",
      "│ 37B392960E566 ┆ classic_bike ┆ 2022-12-28   ┆ 2022-12-28   ┆ … ┆ 2022-12-28 ┆ 09:41:34 ┆ 3m 56s       ┆ Fair         │\n",
      "│ F58           ┆              ┆ 09:37:38     ┆ 09:41:34     ┆   ┆            ┆          ┆              ┆              │\n",
      "│ 2DD1587210BA4 ┆ classic_bike ┆ 2022-12-09   ┆ 2022-12-09   ┆ … ┆ 2022-12-09 ┆ 00:35:28 ┆ 8m 3s        ┆ Fair         │\n",
      "│ 5AE           ┆              ┆ 00:27:25     ┆ 00:35:28     ┆   ┆            ┆          ┆              ┆              │\n",
      "└───────────────┴──────────────┴──────────────┴──────────────┴───┴────────────┴──────────┴──────────────┴──────────────┘\n"
     ]
    }
   ],
   "source": [
    "import polars as pl\n",
    "import numpy as np\n",
    "from scipy.spatial import cKDTree  # Fast nearest-neighbor search\n",
    "\n",
    "def find_nearest_place_polars(df: pl.DataFrame) -> pl.DataFrame:\n",
    "    \"\"\"\n",
    "    Assigns the nearest place name to rows where 'start_station_name' and 'end_station_name' are missing.\n",
    "    Uses KDTree for fast nearest-neighbor lookup.\n",
    "    \"\"\"\n",
    "\n",
    "    # Convert Polars to Pandas for KDTree operations\n",
    "    df_pandas = df.to_pandas()\n",
    "\n",
    "    def fill_missing_station(df, station_col, lat_col, lng_col):\n",
    "        \"\"\"\n",
    "        Helper function to fill missing station names based on nearest valid locations.\n",
    "        \"\"\"\n",
    "        valid_places = df[df[station_col].notna()]\n",
    "        missing_places = df[df[station_col].isna()]\n",
    "\n",
    "        # Build KDTree for fast nearest neighbor search\n",
    "        if not valid_places.empty:\n",
    "            valid_coords = np.array(list(zip(valid_places[lat_col], valid_places[lng_col])))\n",
    "            tree = cKDTree(valid_coords)\n",
    "\n",
    "            # Find nearest valid station for each missing station\n",
    "            if not missing_places.empty:\n",
    "                missing_coords = np.array(list(zip(missing_places[lat_col], missing_places[lng_col])))\n",
    "                _, nearest_indices = tree.query(missing_coords)\n",
    "\n",
    "                # Assign nearest station names\n",
    "                missing_places[station_col] = valid_places.iloc[nearest_indices][station_col].values\n",
    "\n",
    "                # Merge back the updated missing places\n",
    "                df.loc[df[station_col].isna(), station_col] = missing_places[station_col]\n",
    "\n",
    "    # Fill missing values for start and end stations\n",
    "    fill_missing_station(df_pandas, \"start_station_name\", \"start_lat\", \"start_lng\")\n",
    "    fill_missing_station(df_pandas, \"end_station_name\", \"end_lat\", \"end_lng\")\n",
    "\n",
    "    # Convert back to Polars\n",
    "    return pl.from_pandas(df_pandas)\n",
    "\n",
    "# Example usage\n",
    "try:\n",
    "    df_cleaned = pl.DataFrame(data_1)  # Ensure data_1 is defined\n",
    "    df_cleaned = find_nearest_place_polars(df_cleaned)\n",
    "    print(df_cleaned)\n",
    "except NameError:\n",
    "    print(\"Error: 'data_1' is not defined. Make sure your dataset exists.\")\n"
   ]
  },
  {
   "cell_type": "code",
   "execution_count": 54,
   "id": "bd867d5c-edf5-4493-89a8-b65b35560e66",
   "metadata": {},
   "outputs": [
    {
     "name": "stdout",
     "output_type": "stream",
     "text": [
      "Missing values in end_station_name: 0\n"
     ]
    }
   ],
   "source": [
    "# Count missing values in end_station_name\n",
    "missing_count = df_cleaned[\"end_station_name\"].is_null().sum()\n",
    "print(f\"Missing values in end_station_name: {missing_count}\")"
   ]
  },
  {
   "cell_type": "code",
   "execution_count": 56,
   "id": "b99bfe92-a942-422b-85a9-3caa3e0bd961",
   "metadata": {},
   "outputs": [],
   "source": [
    "df_cleaned = df_cleaned.with_columns(\n",
    "    df_cleaned[\"duration\"].dt.total_seconds().cast(pl.Float64).alias(\"duration_seconds\")\n",
    ")\n"
   ]
  },
  {
   "cell_type": "code",
   "execution_count": 58,
   "id": "0e79e69e-f10d-4dc2-8797-262cc6f98d09",
   "metadata": {},
   "outputs": [
    {
     "data": {
      "text/plain": [
       "Schema([('ride_id', String),\n",
       "        ('rideable_type', String),\n",
       "        ('started_at', Datetime(time_unit='us', time_zone=None)),\n",
       "        ('ended_at', Datetime(time_unit='us', time_zone=None)),\n",
       "        ('start_station_name', String),\n",
       "        ('end_station_name', String),\n",
       "        ('start_lat', String),\n",
       "        ('start_lng', String),\n",
       "        ('end_lat', String),\n",
       "        ('end_lng', String),\n",
       "        ('member_casual', String),\n",
       "        ('start_date', String),\n",
       "        ('start_time', String),\n",
       "        ('end_date', String),\n",
       "        ('end_time', String),\n",
       "        ('duration', Duration(time_unit='us')),\n",
       "        ('ride_validity', String),\n",
       "        ('duration_seconds', Float64)])"
      ]
     },
     "execution_count": 58,
     "metadata": {},
     "output_type": "execute_result"
    }
   ],
   "source": [
    "df_cleaned.schema"
   ]
  },
  {
   "cell_type": "code",
   "execution_count": 60,
   "id": "d8775570-8d3e-400c-94ff-36988c569350",
   "metadata": {},
   "outputs": [
    {
     "data": {
      "text/html": [
       "<div><style>\n",
       ".dataframe > thead > tr,\n",
       ".dataframe > tbody > tr {\n",
       "  text-align: right;\n",
       "  white-space: pre-wrap;\n",
       "}\n",
       "</style>\n",
       "<small>shape: (5_661_859, 18)</small><table border=\"1\" class=\"dataframe\"><thead><tr><th>ride_id</th><th>rideable_type</th><th>started_at</th><th>ended_at</th><th>start_station_name</th><th>end_station_name</th><th>start_lat</th><th>start_lng</th><th>end_lat</th><th>end_lng</th><th>member_casual</th><th>start_date</th><th>start_time</th><th>end_date</th><th>end_time</th><th>duration</th><th>ride_validity</th><th>duration_seconds</th></tr><tr><td>str</td><td>str</td><td>datetime[μs]</td><td>datetime[μs]</td><td>str</td><td>str</td><td>str</td><td>str</td><td>str</td><td>str</td><td>str</td><td>str</td><td>str</td><td>str</td><td>str</td><td>duration[μs]</td><td>str</td><td>f64</td></tr></thead><tbody><tr><td>&quot;C2F7DD78E82EC875&quot;</td><td>&quot;electric_bike&quot;</td><td>2022-01-13 11:59:47</td><td>2022-01-13 12:02:44</td><td>&quot;Glenwood Ave &amp; Touhy Ave&quot;</td><td>&quot;Clark St &amp; Touhy Ave&quot;</td><td>&quot;42.0128005&quot;</td><td>&quot;-87.665906&quot;</td><td>&quot;42.01256011541&quot;</td><td>&quot;-87.6743671152&quot;</td><td>&quot;casual&quot;</td><td>&quot;2022-01-13&quot;</td><td>&quot;11:59:47&quot;</td><td>&quot;2022-01-13&quot;</td><td>&quot;12:02:44&quot;</td><td>2m 57s</td><td>&quot;Fair&quot;</td><td>177.0</td></tr><tr><td>&quot;A6CF8980A652D272&quot;</td><td>&quot;electric_bike&quot;</td><td>2022-01-10 08:41:56</td><td>2022-01-10 08:46:17</td><td>&quot;Glenwood Ave &amp; Touhy Ave&quot;</td><td>&quot;Clark St &amp; Touhy Ave&quot;</td><td>&quot;42.012763&quot;</td><td>&quot;-87.6659675&quot;</td><td>&quot;42.01256011541&quot;</td><td>&quot;-87.6743671152&quot;</td><td>&quot;casual&quot;</td><td>&quot;2022-01-10&quot;</td><td>&quot;08:41:56&quot;</td><td>&quot;2022-01-10&quot;</td><td>&quot;08:46:17&quot;</td><td>4m 21s</td><td>&quot;Fair&quot;</td><td>261.0</td></tr><tr><td>&quot;BD0F91DFF741C66D&quot;</td><td>&quot;classic_bike&quot;</td><td>2022-01-25 04:53:40</td><td>2022-01-25 04:58:01</td><td>&quot;Sheffield Ave &amp; Fullerton Ave&quot;</td><td>&quot;Greenview Ave &amp; Fullerton Ave&quot;</td><td>&quot;41.9256018819&quot;</td><td>&quot;-87.6537080423&quot;</td><td>&quot;41.92533&quot;</td><td>&quot;-87.6658&quot;</td><td>&quot;member&quot;</td><td>&quot;2022-01-25&quot;</td><td>&quot;04:53:40&quot;</td><td>&quot;2022-01-25&quot;</td><td>&quot;04:58:01&quot;</td><td>4m 21s</td><td>&quot;Fair&quot;</td><td>261.0</td></tr><tr><td>&quot;CBB80ED419105406&quot;</td><td>&quot;classic_bike&quot;</td><td>2022-01-04 00:18:04</td><td>2022-01-04 00:33:00</td><td>&quot;Clark St &amp; Bryn Mawr Ave&quot;</td><td>&quot;Paulina St &amp; Montrose Ave&quot;</td><td>&quot;41.983593&quot;</td><td>&quot;-87.669154&quot;</td><td>&quot;41.961507&quot;</td><td>&quot;-87.671387&quot;</td><td>&quot;casual&quot;</td><td>&quot;2022-01-04&quot;</td><td>&quot;00:18:04&quot;</td><td>&quot;2022-01-04&quot;</td><td>&quot;00:33:00&quot;</td><td>14m 56s</td><td>&quot;Fair&quot;</td><td>896.0</td></tr><tr><td>&quot;DDC963BFDDA51EEA&quot;</td><td>&quot;classic_bike&quot;</td><td>2022-01-20 01:31:10</td><td>2022-01-20 01:37:12</td><td>&quot;Michigan Ave &amp; Jackson Blvd&quot;</td><td>&quot;State St &amp; Randolph St&quot;</td><td>&quot;41.87785&quot;</td><td>&quot;-87.62408&quot;</td><td>&quot;41.88462107257936&quot;</td><td>&quot;-87.62783423066139&quot;</td><td>&quot;member&quot;</td><td>&quot;2022-01-20&quot;</td><td>&quot;01:31:10&quot;</td><td>&quot;2022-01-20&quot;</td><td>&quot;01:37:12&quot;</td><td>6m 2s</td><td>&quot;Fair&quot;</td><td>362.0</td></tr><tr><td>&hellip;</td><td>&hellip;</td><td>&hellip;</td><td>&hellip;</td><td>&hellip;</td><td>&hellip;</td><td>&hellip;</td><td>&hellip;</td><td>&hellip;</td><td>&hellip;</td><td>&hellip;</td><td>&hellip;</td><td>&hellip;</td><td>&hellip;</td><td>&hellip;</td><td>&hellip;</td><td>&hellip;</td><td>&hellip;</td></tr><tr><td>&quot;43ABEE85B6E15DCA&quot;</td><td>&quot;classic_bike&quot;</td><td>2022-12-05 06:51:04</td><td>2022-12-05 06:54:48</td><td>&quot;Sangamon St &amp; Washington Blvd&quot;</td><td>&quot;Peoria St &amp; Jackson Blvd&quot;</td><td>&quot;41.883165&quot;</td><td>&quot;-87.6511&quot;</td><td>&quot;41.8776415962753&quot;</td><td>&quot;-87.64961779117584&quot;</td><td>&quot;member&quot;</td><td>&quot;2022-12-05&quot;</td><td>&quot;06:51:04&quot;</td><td>&quot;2022-12-05&quot;</td><td>&quot;06:54:48&quot;</td><td>3m 44s</td><td>&quot;Fair&quot;</td><td>224.0</td></tr><tr><td>&quot;F041C89A3D1F0270&quot;</td><td>&quot;electric_bike&quot;</td><td>2022-12-14 17:06:28</td><td>2022-12-14 17:19:27</td><td>&quot;Bernard St &amp; Elston Ave&quot;</td><td>&quot;Seeley Ave &amp; Roscoe St&quot;</td><td>&quot;41.949979544&quot;</td><td>&quot;-87.714018822&quot;</td><td>&quot;41.943403&quot;</td><td>&quot;-87.679618&quot;</td><td>&quot;member&quot;</td><td>&quot;2022-12-14&quot;</td><td>&quot;17:06:28&quot;</td><td>&quot;2022-12-14&quot;</td><td>&quot;17:19:27&quot;</td><td>12m 59s</td><td>&quot;Fair&quot;</td><td>779.0</td></tr><tr><td>&quot;A2BECB88430BE156&quot;</td><td>&quot;classic_bike&quot;</td><td>2022-12-08 16:27:47</td><td>2022-12-08 16:32:20</td><td>&quot;Wacker Dr &amp; Washington St&quot;</td><td>&quot;Green St &amp; Madison St&quot;</td><td>&quot;41.88314336439022&quot;</td><td>&quot;-87.63724207878113&quot;</td><td>&quot;41.881859328038225&quot;</td><td>&quot;-87.64926373958588&quot;</td><td>&quot;member&quot;</td><td>&quot;2022-12-08&quot;</td><td>&quot;16:27:47&quot;</td><td>&quot;2022-12-08&quot;</td><td>&quot;16:32:20&quot;</td><td>4m 33s</td><td>&quot;Fair&quot;</td><td>273.0</td></tr><tr><td>&quot;37B392960E566F58&quot;</td><td>&quot;classic_bike&quot;</td><td>2022-12-28 09:37:38</td><td>2022-12-28 09:41:34</td><td>&quot;Sangamon St &amp; Washington Blvd&quot;</td><td>&quot;Peoria St &amp; Jackson Blvd&quot;</td><td>&quot;41.883165&quot;</td><td>&quot;-87.6511&quot;</td><td>&quot;41.8776415962753&quot;</td><td>&quot;-87.64961779117584&quot;</td><td>&quot;member&quot;</td><td>&quot;2022-12-28&quot;</td><td>&quot;09:37:38&quot;</td><td>&quot;2022-12-28&quot;</td><td>&quot;09:41:34&quot;</td><td>3m 56s</td><td>&quot;Fair&quot;</td><td>236.0</td></tr><tr><td>&quot;2DD1587210BA45AE&quot;</td><td>&quot;classic_bike&quot;</td><td>2022-12-09 00:27:25</td><td>2022-12-09 00:35:28</td><td>&quot;Southport Ave &amp; Waveland Ave&quot;</td><td>&quot;Seeley Ave &amp; Roscoe St&quot;</td><td>&quot;41.94815&quot;</td><td>&quot;-87.66394&quot;</td><td>&quot;41.943403&quot;</td><td>&quot;-87.679618&quot;</td><td>&quot;casual&quot;</td><td>&quot;2022-12-09&quot;</td><td>&quot;00:27:25&quot;</td><td>&quot;2022-12-09&quot;</td><td>&quot;00:35:28&quot;</td><td>8m 3s</td><td>&quot;Fair&quot;</td><td>483.0</td></tr></tbody></table></div>"
      ],
      "text/plain": [
       "shape: (5_661_859, 18)\n",
       "┌──────────────┬──────────────┬──────────────┬──────────────┬───┬──────────┬──────────────┬──────────────┬─────────────┐\n",
       "│ ride_id      ┆ rideable_typ ┆ started_at   ┆ ended_at     ┆ … ┆ end_time ┆ duration     ┆ ride_validit ┆ duration_se │\n",
       "│ ---          ┆ e            ┆ ---          ┆ ---          ┆   ┆ ---      ┆ ---          ┆ y            ┆ conds       │\n",
       "│ str          ┆ ---          ┆ datetime[μs] ┆ datetime[μs] ┆   ┆ str      ┆ duration[μs] ┆ ---          ┆ ---         │\n",
       "│              ┆ str          ┆              ┆              ┆   ┆          ┆              ┆ str          ┆ f64         │\n",
       "╞══════════════╪══════════════╪══════════════╪══════════════╪═══╪══════════╪══════════════╪══════════════╪═════════════╡\n",
       "│ C2F7DD78E82E ┆ electric_bik ┆ 2022-01-13   ┆ 2022-01-13   ┆ … ┆ 12:02:44 ┆ 2m 57s       ┆ Fair         ┆ 177.0       │\n",
       "│ C875         ┆ e            ┆ 11:59:47     ┆ 12:02:44     ┆   ┆          ┆              ┆              ┆             │\n",
       "│ A6CF8980A652 ┆ electric_bik ┆ 2022-01-10   ┆ 2022-01-10   ┆ … ┆ 08:46:17 ┆ 4m 21s       ┆ Fair         ┆ 261.0       │\n",
       "│ D272         ┆ e            ┆ 08:41:56     ┆ 08:46:17     ┆   ┆          ┆              ┆              ┆             │\n",
       "│ BD0F91DFF741 ┆ classic_bike ┆ 2022-01-25   ┆ 2022-01-25   ┆ … ┆ 04:58:01 ┆ 4m 21s       ┆ Fair         ┆ 261.0       │\n",
       "│ C66D         ┆              ┆ 04:53:40     ┆ 04:58:01     ┆   ┆          ┆              ┆              ┆             │\n",
       "│ CBB80ED41910 ┆ classic_bike ┆ 2022-01-04   ┆ 2022-01-04   ┆ … ┆ 00:33:00 ┆ 14m 56s      ┆ Fair         ┆ 896.0       │\n",
       "│ 5406         ┆              ┆ 00:18:04     ┆ 00:33:00     ┆   ┆          ┆              ┆              ┆             │\n",
       "│ DDC963BFDDA5 ┆ classic_bike ┆ 2022-01-20   ┆ 2022-01-20   ┆ … ┆ 01:37:12 ┆ 6m 2s        ┆ Fair         ┆ 362.0       │\n",
       "│ 1EEA         ┆              ┆ 01:31:10     ┆ 01:37:12     ┆   ┆          ┆              ┆              ┆             │\n",
       "│ …            ┆ …            ┆ …            ┆ …            ┆ … ┆ …        ┆ …            ┆ …            ┆ …           │\n",
       "│ 43ABEE85B6E1 ┆ classic_bike ┆ 2022-12-05   ┆ 2022-12-05   ┆ … ┆ 06:54:48 ┆ 3m 44s       ┆ Fair         ┆ 224.0       │\n",
       "│ 5DCA         ┆              ┆ 06:51:04     ┆ 06:54:48     ┆   ┆          ┆              ┆              ┆             │\n",
       "│ F041C89A3D1F ┆ electric_bik ┆ 2022-12-14   ┆ 2022-12-14   ┆ … ┆ 17:19:27 ┆ 12m 59s      ┆ Fair         ┆ 779.0       │\n",
       "│ 0270         ┆ e            ┆ 17:06:28     ┆ 17:19:27     ┆   ┆          ┆              ┆              ┆             │\n",
       "│ A2BECB88430B ┆ classic_bike ┆ 2022-12-08   ┆ 2022-12-08   ┆ … ┆ 16:32:20 ┆ 4m 33s       ┆ Fair         ┆ 273.0       │\n",
       "│ E156         ┆              ┆ 16:27:47     ┆ 16:32:20     ┆   ┆          ┆              ┆              ┆             │\n",
       "│ 37B392960E56 ┆ classic_bike ┆ 2022-12-28   ┆ 2022-12-28   ┆ … ┆ 09:41:34 ┆ 3m 56s       ┆ Fair         ┆ 236.0       │\n",
       "│ 6F58         ┆              ┆ 09:37:38     ┆ 09:41:34     ┆   ┆          ┆              ┆              ┆             │\n",
       "│ 2DD1587210BA ┆ classic_bike ┆ 2022-12-09   ┆ 2022-12-09   ┆ … ┆ 00:35:28 ┆ 8m 3s        ┆ Fair         ┆ 483.0       │\n",
       "│ 45AE         ┆              ┆ 00:27:25     ┆ 00:35:28     ┆   ┆          ┆              ┆              ┆             │\n",
       "└──────────────┴──────────────┴──────────────┴──────────────┴───┴──────────┴──────────────┴──────────────┴─────────────┘"
      ]
     },
     "execution_count": 60,
     "metadata": {},
     "output_type": "execute_result"
    }
   ],
   "source": [
    "df_cleaned"
   ]
  },
  {
   "cell_type": "code",
   "execution_count": 62,
   "id": "79be89db-583a-4613-a997-6eaac80dd200",
   "metadata": {},
   "outputs": [],
   "source": [
    "df_cleaned = df_cleaned.drop(\"duration_seconds\")\n"
   ]
  },
  {
   "cell_type": "code",
   "execution_count": 64,
   "id": "a29a1892-6971-4f50-a0c3-b3ebd6e161c8",
   "metadata": {},
   "outputs": [],
   "source": [
    "df_cleaned = df_cleaned.with_columns([\n",
    "    df_cleaned[\"started_at\"].cast(pl.Utf8).alias(\"started_at\"),\n",
    "    df_cleaned[\"ended_at\"].cast(pl.Utf8).alias(\"ended_at\"),\n",
    "    df_cleaned[\"duration\"].dt.total_seconds().cast(pl.Utf8).alias(\"duration\")  # Convert to seconds, then string\n",
    "])"
   ]
  },
  {
   "cell_type": "code",
   "execution_count": 66,
   "id": "f9eeb086-27b4-4647-939c-bf7d42707d6e",
   "metadata": {},
   "outputs": [
    {
     "data": {
      "text/html": [
       "<div><style>\n",
       ".dataframe > thead > tr,\n",
       ".dataframe > tbody > tr {\n",
       "  text-align: right;\n",
       "  white-space: pre-wrap;\n",
       "}\n",
       "</style>\n",
       "<small>shape: (5_661_859, 17)</small><table border=\"1\" class=\"dataframe\"><thead><tr><th>ride_id</th><th>rideable_type</th><th>started_at</th><th>ended_at</th><th>start_station_name</th><th>end_station_name</th><th>start_lat</th><th>start_lng</th><th>end_lat</th><th>end_lng</th><th>member_casual</th><th>start_date</th><th>start_time</th><th>end_date</th><th>end_time</th><th>duration</th><th>ride_validity</th></tr><tr><td>str</td><td>str</td><td>str</td><td>str</td><td>str</td><td>str</td><td>str</td><td>str</td><td>str</td><td>str</td><td>str</td><td>str</td><td>str</td><td>str</td><td>str</td><td>str</td><td>str</td></tr></thead><tbody><tr><td>&quot;C2F7DD78E82EC875&quot;</td><td>&quot;electric_bike&quot;</td><td>&quot;2022-01-13 11:59:47.000000&quot;</td><td>&quot;2022-01-13 12:02:44.000000&quot;</td><td>&quot;Glenwood Ave &amp; Touhy Ave&quot;</td><td>&quot;Clark St &amp; Touhy Ave&quot;</td><td>&quot;42.0128005&quot;</td><td>&quot;-87.665906&quot;</td><td>&quot;42.01256011541&quot;</td><td>&quot;-87.6743671152&quot;</td><td>&quot;casual&quot;</td><td>&quot;2022-01-13&quot;</td><td>&quot;11:59:47&quot;</td><td>&quot;2022-01-13&quot;</td><td>&quot;12:02:44&quot;</td><td>&quot;177&quot;</td><td>&quot;Fair&quot;</td></tr><tr><td>&quot;A6CF8980A652D272&quot;</td><td>&quot;electric_bike&quot;</td><td>&quot;2022-01-10 08:41:56.000000&quot;</td><td>&quot;2022-01-10 08:46:17.000000&quot;</td><td>&quot;Glenwood Ave &amp; Touhy Ave&quot;</td><td>&quot;Clark St &amp; Touhy Ave&quot;</td><td>&quot;42.012763&quot;</td><td>&quot;-87.6659675&quot;</td><td>&quot;42.01256011541&quot;</td><td>&quot;-87.6743671152&quot;</td><td>&quot;casual&quot;</td><td>&quot;2022-01-10&quot;</td><td>&quot;08:41:56&quot;</td><td>&quot;2022-01-10&quot;</td><td>&quot;08:46:17&quot;</td><td>&quot;261&quot;</td><td>&quot;Fair&quot;</td></tr><tr><td>&quot;BD0F91DFF741C66D&quot;</td><td>&quot;classic_bike&quot;</td><td>&quot;2022-01-25 04:53:40.000000&quot;</td><td>&quot;2022-01-25 04:58:01.000000&quot;</td><td>&quot;Sheffield Ave &amp; Fullerton Ave&quot;</td><td>&quot;Greenview Ave &amp; Fullerton Ave&quot;</td><td>&quot;41.9256018819&quot;</td><td>&quot;-87.6537080423&quot;</td><td>&quot;41.92533&quot;</td><td>&quot;-87.6658&quot;</td><td>&quot;member&quot;</td><td>&quot;2022-01-25&quot;</td><td>&quot;04:53:40&quot;</td><td>&quot;2022-01-25&quot;</td><td>&quot;04:58:01&quot;</td><td>&quot;261&quot;</td><td>&quot;Fair&quot;</td></tr><tr><td>&quot;CBB80ED419105406&quot;</td><td>&quot;classic_bike&quot;</td><td>&quot;2022-01-04 00:18:04.000000&quot;</td><td>&quot;2022-01-04 00:33:00.000000&quot;</td><td>&quot;Clark St &amp; Bryn Mawr Ave&quot;</td><td>&quot;Paulina St &amp; Montrose Ave&quot;</td><td>&quot;41.983593&quot;</td><td>&quot;-87.669154&quot;</td><td>&quot;41.961507&quot;</td><td>&quot;-87.671387&quot;</td><td>&quot;casual&quot;</td><td>&quot;2022-01-04&quot;</td><td>&quot;00:18:04&quot;</td><td>&quot;2022-01-04&quot;</td><td>&quot;00:33:00&quot;</td><td>&quot;896&quot;</td><td>&quot;Fair&quot;</td></tr><tr><td>&quot;DDC963BFDDA51EEA&quot;</td><td>&quot;classic_bike&quot;</td><td>&quot;2022-01-20 01:31:10.000000&quot;</td><td>&quot;2022-01-20 01:37:12.000000&quot;</td><td>&quot;Michigan Ave &amp; Jackson Blvd&quot;</td><td>&quot;State St &amp; Randolph St&quot;</td><td>&quot;41.87785&quot;</td><td>&quot;-87.62408&quot;</td><td>&quot;41.88462107257936&quot;</td><td>&quot;-87.62783423066139&quot;</td><td>&quot;member&quot;</td><td>&quot;2022-01-20&quot;</td><td>&quot;01:31:10&quot;</td><td>&quot;2022-01-20&quot;</td><td>&quot;01:37:12&quot;</td><td>&quot;362&quot;</td><td>&quot;Fair&quot;</td></tr><tr><td>&hellip;</td><td>&hellip;</td><td>&hellip;</td><td>&hellip;</td><td>&hellip;</td><td>&hellip;</td><td>&hellip;</td><td>&hellip;</td><td>&hellip;</td><td>&hellip;</td><td>&hellip;</td><td>&hellip;</td><td>&hellip;</td><td>&hellip;</td><td>&hellip;</td><td>&hellip;</td><td>&hellip;</td></tr><tr><td>&quot;43ABEE85B6E15DCA&quot;</td><td>&quot;classic_bike&quot;</td><td>&quot;2022-12-05 06:51:04.000000&quot;</td><td>&quot;2022-12-05 06:54:48.000000&quot;</td><td>&quot;Sangamon St &amp; Washington Blvd&quot;</td><td>&quot;Peoria St &amp; Jackson Blvd&quot;</td><td>&quot;41.883165&quot;</td><td>&quot;-87.6511&quot;</td><td>&quot;41.8776415962753&quot;</td><td>&quot;-87.64961779117584&quot;</td><td>&quot;member&quot;</td><td>&quot;2022-12-05&quot;</td><td>&quot;06:51:04&quot;</td><td>&quot;2022-12-05&quot;</td><td>&quot;06:54:48&quot;</td><td>&quot;224&quot;</td><td>&quot;Fair&quot;</td></tr><tr><td>&quot;F041C89A3D1F0270&quot;</td><td>&quot;electric_bike&quot;</td><td>&quot;2022-12-14 17:06:28.000000&quot;</td><td>&quot;2022-12-14 17:19:27.000000&quot;</td><td>&quot;Bernard St &amp; Elston Ave&quot;</td><td>&quot;Seeley Ave &amp; Roscoe St&quot;</td><td>&quot;41.949979544&quot;</td><td>&quot;-87.714018822&quot;</td><td>&quot;41.943403&quot;</td><td>&quot;-87.679618&quot;</td><td>&quot;member&quot;</td><td>&quot;2022-12-14&quot;</td><td>&quot;17:06:28&quot;</td><td>&quot;2022-12-14&quot;</td><td>&quot;17:19:27&quot;</td><td>&quot;779&quot;</td><td>&quot;Fair&quot;</td></tr><tr><td>&quot;A2BECB88430BE156&quot;</td><td>&quot;classic_bike&quot;</td><td>&quot;2022-12-08 16:27:47.000000&quot;</td><td>&quot;2022-12-08 16:32:20.000000&quot;</td><td>&quot;Wacker Dr &amp; Washington St&quot;</td><td>&quot;Green St &amp; Madison St&quot;</td><td>&quot;41.88314336439022&quot;</td><td>&quot;-87.63724207878113&quot;</td><td>&quot;41.881859328038225&quot;</td><td>&quot;-87.64926373958588&quot;</td><td>&quot;member&quot;</td><td>&quot;2022-12-08&quot;</td><td>&quot;16:27:47&quot;</td><td>&quot;2022-12-08&quot;</td><td>&quot;16:32:20&quot;</td><td>&quot;273&quot;</td><td>&quot;Fair&quot;</td></tr><tr><td>&quot;37B392960E566F58&quot;</td><td>&quot;classic_bike&quot;</td><td>&quot;2022-12-28 09:37:38.000000&quot;</td><td>&quot;2022-12-28 09:41:34.000000&quot;</td><td>&quot;Sangamon St &amp; Washington Blvd&quot;</td><td>&quot;Peoria St &amp; Jackson Blvd&quot;</td><td>&quot;41.883165&quot;</td><td>&quot;-87.6511&quot;</td><td>&quot;41.8776415962753&quot;</td><td>&quot;-87.64961779117584&quot;</td><td>&quot;member&quot;</td><td>&quot;2022-12-28&quot;</td><td>&quot;09:37:38&quot;</td><td>&quot;2022-12-28&quot;</td><td>&quot;09:41:34&quot;</td><td>&quot;236&quot;</td><td>&quot;Fair&quot;</td></tr><tr><td>&quot;2DD1587210BA45AE&quot;</td><td>&quot;classic_bike&quot;</td><td>&quot;2022-12-09 00:27:25.000000&quot;</td><td>&quot;2022-12-09 00:35:28.000000&quot;</td><td>&quot;Southport Ave &amp; Waveland Ave&quot;</td><td>&quot;Seeley Ave &amp; Roscoe St&quot;</td><td>&quot;41.94815&quot;</td><td>&quot;-87.66394&quot;</td><td>&quot;41.943403&quot;</td><td>&quot;-87.679618&quot;</td><td>&quot;casual&quot;</td><td>&quot;2022-12-09&quot;</td><td>&quot;00:27:25&quot;</td><td>&quot;2022-12-09&quot;</td><td>&quot;00:35:28&quot;</td><td>&quot;483&quot;</td><td>&quot;Fair&quot;</td></tr></tbody></table></div>"
      ],
      "text/plain": [
       "shape: (5_661_859, 17)\n",
       "┌───────────────┬───────────────┬───────────────┬───────────────┬───┬────────────┬──────────┬──────────┬───────────────┐\n",
       "│ ride_id       ┆ rideable_type ┆ started_at    ┆ ended_at      ┆ … ┆ end_date   ┆ end_time ┆ duration ┆ ride_validity │\n",
       "│ ---           ┆ ---           ┆ ---           ┆ ---           ┆   ┆ ---        ┆ ---      ┆ ---      ┆ ---           │\n",
       "│ str           ┆ str           ┆ str           ┆ str           ┆   ┆ str        ┆ str      ┆ str      ┆ str           │\n",
       "╞═══════════════╪═══════════════╪═══════════════╪═══════════════╪═══╪════════════╪══════════╪══════════╪═══════════════╡\n",
       "│ C2F7DD78E82EC ┆ electric_bike ┆ 2022-01-13    ┆ 2022-01-13    ┆ … ┆ 2022-01-13 ┆ 12:02:44 ┆ 177      ┆ Fair          │\n",
       "│ 875           ┆               ┆ 11:59:47.0000 ┆ 12:02:44.0000 ┆   ┆            ┆          ┆          ┆               │\n",
       "│               ┆               ┆ 00            ┆ 00            ┆   ┆            ┆          ┆          ┆               │\n",
       "│ A6CF8980A652D ┆ electric_bike ┆ 2022-01-10    ┆ 2022-01-10    ┆ … ┆ 2022-01-10 ┆ 08:46:17 ┆ 261      ┆ Fair          │\n",
       "│ 272           ┆               ┆ 08:41:56.0000 ┆ 08:46:17.0000 ┆   ┆            ┆          ┆          ┆               │\n",
       "│               ┆               ┆ 00            ┆ 00            ┆   ┆            ┆          ┆          ┆               │\n",
       "│ BD0F91DFF741C ┆ classic_bike  ┆ 2022-01-25    ┆ 2022-01-25    ┆ … ┆ 2022-01-25 ┆ 04:58:01 ┆ 261      ┆ Fair          │\n",
       "│ 66D           ┆               ┆ 04:53:40.0000 ┆ 04:58:01.0000 ┆   ┆            ┆          ┆          ┆               │\n",
       "│               ┆               ┆ 00            ┆ 00            ┆   ┆            ┆          ┆          ┆               │\n",
       "│ CBB80ED419105 ┆ classic_bike  ┆ 2022-01-04    ┆ 2022-01-04    ┆ … ┆ 2022-01-04 ┆ 00:33:00 ┆ 896      ┆ Fair          │\n",
       "│ 406           ┆               ┆ 00:18:04.0000 ┆ 00:33:00.0000 ┆   ┆            ┆          ┆          ┆               │\n",
       "│               ┆               ┆ 00            ┆ 00            ┆   ┆            ┆          ┆          ┆               │\n",
       "│ DDC963BFDDA51 ┆ classic_bike  ┆ 2022-01-20    ┆ 2022-01-20    ┆ … ┆ 2022-01-20 ┆ 01:37:12 ┆ 362      ┆ Fair          │\n",
       "│ EEA           ┆               ┆ 01:31:10.0000 ┆ 01:37:12.0000 ┆   ┆            ┆          ┆          ┆               │\n",
       "│               ┆               ┆ 00            ┆ 00            ┆   ┆            ┆          ┆          ┆               │\n",
       "│ …             ┆ …             ┆ …             ┆ …             ┆ … ┆ …          ┆ …        ┆ …        ┆ …             │\n",
       "│ 43ABEE85B6E15 ┆ classic_bike  ┆ 2022-12-05    ┆ 2022-12-05    ┆ … ┆ 2022-12-05 ┆ 06:54:48 ┆ 224      ┆ Fair          │\n",
       "│ DCA           ┆               ┆ 06:51:04.0000 ┆ 06:54:48.0000 ┆   ┆            ┆          ┆          ┆               │\n",
       "│               ┆               ┆ 00            ┆ 00            ┆   ┆            ┆          ┆          ┆               │\n",
       "│ F041C89A3D1F0 ┆ electric_bike ┆ 2022-12-14    ┆ 2022-12-14    ┆ … ┆ 2022-12-14 ┆ 17:19:27 ┆ 779      ┆ Fair          │\n",
       "│ 270           ┆               ┆ 17:06:28.0000 ┆ 17:19:27.0000 ┆   ┆            ┆          ┆          ┆               │\n",
       "│               ┆               ┆ 00            ┆ 00            ┆   ┆            ┆          ┆          ┆               │\n",
       "│ A2BECB88430BE ┆ classic_bike  ┆ 2022-12-08    ┆ 2022-12-08    ┆ … ┆ 2022-12-08 ┆ 16:32:20 ┆ 273      ┆ Fair          │\n",
       "│ 156           ┆               ┆ 16:27:47.0000 ┆ 16:32:20.0000 ┆   ┆            ┆          ┆          ┆               │\n",
       "│               ┆               ┆ 00            ┆ 00            ┆   ┆            ┆          ┆          ┆               │\n",
       "│ 37B392960E566 ┆ classic_bike  ┆ 2022-12-28    ┆ 2022-12-28    ┆ … ┆ 2022-12-28 ┆ 09:41:34 ┆ 236      ┆ Fair          │\n",
       "│ F58           ┆               ┆ 09:37:38.0000 ┆ 09:41:34.0000 ┆   ┆            ┆          ┆          ┆               │\n",
       "│               ┆               ┆ 00            ┆ 00            ┆   ┆            ┆          ┆          ┆               │\n",
       "│ 2DD1587210BA4 ┆ classic_bike  ┆ 2022-12-09    ┆ 2022-12-09    ┆ … ┆ 2022-12-09 ┆ 00:35:28 ┆ 483      ┆ Fair          │\n",
       "│ 5AE           ┆               ┆ 00:27:25.0000 ┆ 00:35:28.0000 ┆   ┆            ┆          ┆          ┆               │\n",
       "│               ┆               ┆ 00            ┆ 00            ┆   ┆            ┆          ┆          ┆               │\n",
       "└───────────────┴───────────────┴───────────────┴───────────────┴───┴────────────┴──────────┴──────────┴───────────────┘"
      ]
     },
     "execution_count": 66,
     "metadata": {},
     "output_type": "execute_result"
    }
   ],
   "source": [
    "df_cleaned"
   ]
  },
  {
   "cell_type": "code",
   "execution_count": 68,
   "id": "624290f4-b196-4ae6-a5b8-5ee189ff0d8a",
   "metadata": {},
   "outputs": [],
   "source": [
    "df_cleaned = df_cleaned.with_columns([\n",
    "    df_cleaned[\"started_at\"].str.slice(0, 19).alias(\"started_at\"),  # Keep only YYYY-MM-DD HH:MM:SS\n",
    "    df_cleaned[\"ended_at\"].str.slice(0, 19).alias(\"ended_at\")\n",
    "])\n"
   ]
  },
  {
   "cell_type": "code",
   "execution_count": 70,
   "id": "e5f48c24-06ba-4aa7-b268-24f8f83b7b65",
   "metadata": {},
   "outputs": [
    {
     "name": "stdout",
     "output_type": "stream",
     "text": [
      "File saved as cleaned_cyclistic_data_2022.csv\n"
     ]
    }
   ],
   "source": [
    "df_cleaned.write_csv(\"cleaned_cyclistic_data_2022.csv\")\n",
    "print(\"File saved as cleaned_cyclistic_data_2022.csv\")"
   ]
  },
  {
   "cell_type": "code",
   "execution_count": null,
   "id": "9e68ceb2-a32e-4fcf-9ff2-41c6faf9fbe1",
   "metadata": {},
   "outputs": [],
   "source": []
  },
  {
   "cell_type": "code",
   "execution_count": null,
   "id": "27a2f046-bcc4-47fe-8af0-8f567f8b616e",
   "metadata": {},
   "outputs": [],
   "source": []
  },
  {
   "cell_type": "code",
   "execution_count": 72,
   "id": "3cdae81b-6f28-4762-9a70-8b738ae76329",
   "metadata": {},
   "outputs": [
    {
     "data": {
      "text/html": [
       "<div><style>\n",
       ".dataframe > thead > tr,\n",
       ".dataframe > tbody > tr {\n",
       "  text-align: right;\n",
       "  white-space: pre-wrap;\n",
       "}\n",
       "</style>\n",
       "<small>shape: (5_661_859, 17)</small><table border=\"1\" class=\"dataframe\"><thead><tr><th>ride_id</th><th>rideable_type</th><th>started_at</th><th>ended_at</th><th>start_station_name</th><th>end_station_name</th><th>start_lat</th><th>start_lng</th><th>end_lat</th><th>end_lng</th><th>member_casual</th><th>start_date</th><th>start_time</th><th>end_date</th><th>end_time</th><th>duration</th><th>ride_validity</th></tr><tr><td>str</td><td>str</td><td>str</td><td>str</td><td>str</td><td>str</td><td>f64</td><td>f64</td><td>f64</td><td>f64</td><td>str</td><td>str</td><td>str</td><td>str</td><td>str</td><td>i64</td><td>str</td></tr></thead><tbody><tr><td>&quot;C2F7DD78E82EC875&quot;</td><td>&quot;electric_bike&quot;</td><td>&quot;2022-01-13 11:59:47&quot;</td><td>&quot;2022-01-13 12:02:44&quot;</td><td>&quot;Glenwood Ave &amp; Touhy Ave&quot;</td><td>&quot;Clark St &amp; Touhy Ave&quot;</td><td>42.0128</td><td>-87.665906</td><td>42.01256</td><td>-87.674367</td><td>&quot;casual&quot;</td><td>&quot;2022-01-13&quot;</td><td>&quot;11:59:47&quot;</td><td>&quot;2022-01-13&quot;</td><td>&quot;12:02:44&quot;</td><td>177</td><td>&quot;Fair&quot;</td></tr><tr><td>&quot;A6CF8980A652D272&quot;</td><td>&quot;electric_bike&quot;</td><td>&quot;2022-01-10 08:41:56&quot;</td><td>&quot;2022-01-10 08:46:17&quot;</td><td>&quot;Glenwood Ave &amp; Touhy Ave&quot;</td><td>&quot;Clark St &amp; Touhy Ave&quot;</td><td>42.012763</td><td>-87.665967</td><td>42.01256</td><td>-87.674367</td><td>&quot;casual&quot;</td><td>&quot;2022-01-10&quot;</td><td>&quot;08:41:56&quot;</td><td>&quot;2022-01-10&quot;</td><td>&quot;08:46:17&quot;</td><td>261</td><td>&quot;Fair&quot;</td></tr><tr><td>&quot;BD0F91DFF741C66D&quot;</td><td>&quot;classic_bike&quot;</td><td>&quot;2022-01-25 04:53:40&quot;</td><td>&quot;2022-01-25 04:58:01&quot;</td><td>&quot;Sheffield Ave &amp; Fullerton Ave&quot;</td><td>&quot;Greenview Ave &amp; Fullerton Ave&quot;</td><td>41.925602</td><td>-87.653708</td><td>41.92533</td><td>-87.6658</td><td>&quot;member&quot;</td><td>&quot;2022-01-25&quot;</td><td>&quot;04:53:40&quot;</td><td>&quot;2022-01-25&quot;</td><td>&quot;04:58:01&quot;</td><td>261</td><td>&quot;Fair&quot;</td></tr><tr><td>&quot;CBB80ED419105406&quot;</td><td>&quot;classic_bike&quot;</td><td>&quot;2022-01-04 00:18:04&quot;</td><td>&quot;2022-01-04 00:33:00&quot;</td><td>&quot;Clark St &amp; Bryn Mawr Ave&quot;</td><td>&quot;Paulina St &amp; Montrose Ave&quot;</td><td>41.983593</td><td>-87.669154</td><td>41.961507</td><td>-87.671387</td><td>&quot;casual&quot;</td><td>&quot;2022-01-04&quot;</td><td>&quot;00:18:04&quot;</td><td>&quot;2022-01-04&quot;</td><td>&quot;00:33:00&quot;</td><td>896</td><td>&quot;Fair&quot;</td></tr><tr><td>&quot;DDC963BFDDA51EEA&quot;</td><td>&quot;classic_bike&quot;</td><td>&quot;2022-01-20 01:31:10&quot;</td><td>&quot;2022-01-20 01:37:12&quot;</td><td>&quot;Michigan Ave &amp; Jackson Blvd&quot;</td><td>&quot;State St &amp; Randolph St&quot;</td><td>41.87785</td><td>-87.62408</td><td>41.884621</td><td>-87.627834</td><td>&quot;member&quot;</td><td>&quot;2022-01-20&quot;</td><td>&quot;01:31:10&quot;</td><td>&quot;2022-01-20&quot;</td><td>&quot;01:37:12&quot;</td><td>362</td><td>&quot;Fair&quot;</td></tr><tr><td>&hellip;</td><td>&hellip;</td><td>&hellip;</td><td>&hellip;</td><td>&hellip;</td><td>&hellip;</td><td>&hellip;</td><td>&hellip;</td><td>&hellip;</td><td>&hellip;</td><td>&hellip;</td><td>&hellip;</td><td>&hellip;</td><td>&hellip;</td><td>&hellip;</td><td>&hellip;</td><td>&hellip;</td></tr><tr><td>&quot;43ABEE85B6E15DCA&quot;</td><td>&quot;classic_bike&quot;</td><td>&quot;2022-12-05 06:51:04&quot;</td><td>&quot;2022-12-05 06:54:48&quot;</td><td>&quot;Sangamon St &amp; Washington Blvd&quot;</td><td>&quot;Peoria St &amp; Jackson Blvd&quot;</td><td>41.883165</td><td>-87.6511</td><td>41.877642</td><td>-87.649618</td><td>&quot;member&quot;</td><td>&quot;2022-12-05&quot;</td><td>&quot;06:51:04&quot;</td><td>&quot;2022-12-05&quot;</td><td>&quot;06:54:48&quot;</td><td>224</td><td>&quot;Fair&quot;</td></tr><tr><td>&quot;F041C89A3D1F0270&quot;</td><td>&quot;electric_bike&quot;</td><td>&quot;2022-12-14 17:06:28&quot;</td><td>&quot;2022-12-14 17:19:27&quot;</td><td>&quot;Bernard St &amp; Elston Ave&quot;</td><td>&quot;Seeley Ave &amp; Roscoe St&quot;</td><td>41.94998</td><td>-87.714019</td><td>41.943403</td><td>-87.679618</td><td>&quot;member&quot;</td><td>&quot;2022-12-14&quot;</td><td>&quot;17:06:28&quot;</td><td>&quot;2022-12-14&quot;</td><td>&quot;17:19:27&quot;</td><td>779</td><td>&quot;Fair&quot;</td></tr><tr><td>&quot;A2BECB88430BE156&quot;</td><td>&quot;classic_bike&quot;</td><td>&quot;2022-12-08 16:27:47&quot;</td><td>&quot;2022-12-08 16:32:20&quot;</td><td>&quot;Wacker Dr &amp; Washington St&quot;</td><td>&quot;Green St &amp; Madison St&quot;</td><td>41.883143</td><td>-87.637242</td><td>41.881859</td><td>-87.649264</td><td>&quot;member&quot;</td><td>&quot;2022-12-08&quot;</td><td>&quot;16:27:47&quot;</td><td>&quot;2022-12-08&quot;</td><td>&quot;16:32:20&quot;</td><td>273</td><td>&quot;Fair&quot;</td></tr><tr><td>&quot;37B392960E566F58&quot;</td><td>&quot;classic_bike&quot;</td><td>&quot;2022-12-28 09:37:38&quot;</td><td>&quot;2022-12-28 09:41:34&quot;</td><td>&quot;Sangamon St &amp; Washington Blvd&quot;</td><td>&quot;Peoria St &amp; Jackson Blvd&quot;</td><td>41.883165</td><td>-87.6511</td><td>41.877642</td><td>-87.649618</td><td>&quot;member&quot;</td><td>&quot;2022-12-28&quot;</td><td>&quot;09:37:38&quot;</td><td>&quot;2022-12-28&quot;</td><td>&quot;09:41:34&quot;</td><td>236</td><td>&quot;Fair&quot;</td></tr><tr><td>&quot;2DD1587210BA45AE&quot;</td><td>&quot;classic_bike&quot;</td><td>&quot;2022-12-09 00:27:25&quot;</td><td>&quot;2022-12-09 00:35:28&quot;</td><td>&quot;Southport Ave &amp; Waveland Ave&quot;</td><td>&quot;Seeley Ave &amp; Roscoe St&quot;</td><td>41.94815</td><td>-87.66394</td><td>41.943403</td><td>-87.679618</td><td>&quot;casual&quot;</td><td>&quot;2022-12-09&quot;</td><td>&quot;00:27:25&quot;</td><td>&quot;2022-12-09&quot;</td><td>&quot;00:35:28&quot;</td><td>483</td><td>&quot;Fair&quot;</td></tr></tbody></table></div>"
      ],
      "text/plain": [
       "shape: (5_661_859, 17)\n",
       "┌──────────────────┬───────────────┬────────────┬────────────┬───┬────────────┬──────────┬──────────┬───────────────┐\n",
       "│ ride_id          ┆ rideable_type ┆ started_at ┆ ended_at   ┆ … ┆ end_date   ┆ end_time ┆ duration ┆ ride_validity │\n",
       "│ ---              ┆ ---           ┆ ---        ┆ ---        ┆   ┆ ---        ┆ ---      ┆ ---      ┆ ---           │\n",
       "│ str              ┆ str           ┆ str        ┆ str        ┆   ┆ str        ┆ str      ┆ i64      ┆ str           │\n",
       "╞══════════════════╪═══════════════╪════════════╪════════════╪═══╪════════════╪══════════╪══════════╪═══════════════╡\n",
       "│ C2F7DD78E82EC875 ┆ electric_bike ┆ 2022-01-13 ┆ 2022-01-13 ┆ … ┆ 2022-01-13 ┆ 12:02:44 ┆ 177      ┆ Fair          │\n",
       "│                  ┆               ┆ 11:59:47   ┆ 12:02:44   ┆   ┆            ┆          ┆          ┆               │\n",
       "│ A6CF8980A652D272 ┆ electric_bike ┆ 2022-01-10 ┆ 2022-01-10 ┆ … ┆ 2022-01-10 ┆ 08:46:17 ┆ 261      ┆ Fair          │\n",
       "│                  ┆               ┆ 08:41:56   ┆ 08:46:17   ┆   ┆            ┆          ┆          ┆               │\n",
       "│ BD0F91DFF741C66D ┆ classic_bike  ┆ 2022-01-25 ┆ 2022-01-25 ┆ … ┆ 2022-01-25 ┆ 04:58:01 ┆ 261      ┆ Fair          │\n",
       "│                  ┆               ┆ 04:53:40   ┆ 04:58:01   ┆   ┆            ┆          ┆          ┆               │\n",
       "│ CBB80ED419105406 ┆ classic_bike  ┆ 2022-01-04 ┆ 2022-01-04 ┆ … ┆ 2022-01-04 ┆ 00:33:00 ┆ 896      ┆ Fair          │\n",
       "│                  ┆               ┆ 00:18:04   ┆ 00:33:00   ┆   ┆            ┆          ┆          ┆               │\n",
       "│ DDC963BFDDA51EEA ┆ classic_bike  ┆ 2022-01-20 ┆ 2022-01-20 ┆ … ┆ 2022-01-20 ┆ 01:37:12 ┆ 362      ┆ Fair          │\n",
       "│                  ┆               ┆ 01:31:10   ┆ 01:37:12   ┆   ┆            ┆          ┆          ┆               │\n",
       "│ …                ┆ …             ┆ …          ┆ …          ┆ … ┆ …          ┆ …        ┆ …        ┆ …             │\n",
       "│ 43ABEE85B6E15DCA ┆ classic_bike  ┆ 2022-12-05 ┆ 2022-12-05 ┆ … ┆ 2022-12-05 ┆ 06:54:48 ┆ 224      ┆ Fair          │\n",
       "│                  ┆               ┆ 06:51:04   ┆ 06:54:48   ┆   ┆            ┆          ┆          ┆               │\n",
       "│ F041C89A3D1F0270 ┆ electric_bike ┆ 2022-12-14 ┆ 2022-12-14 ┆ … ┆ 2022-12-14 ┆ 17:19:27 ┆ 779      ┆ Fair          │\n",
       "│                  ┆               ┆ 17:06:28   ┆ 17:19:27   ┆   ┆            ┆          ┆          ┆               │\n",
       "│ A2BECB88430BE156 ┆ classic_bike  ┆ 2022-12-08 ┆ 2022-12-08 ┆ … ┆ 2022-12-08 ┆ 16:32:20 ┆ 273      ┆ Fair          │\n",
       "│                  ┆               ┆ 16:27:47   ┆ 16:32:20   ┆   ┆            ┆          ┆          ┆               │\n",
       "│ 37B392960E566F58 ┆ classic_bike  ┆ 2022-12-28 ┆ 2022-12-28 ┆ … ┆ 2022-12-28 ┆ 09:41:34 ┆ 236      ┆ Fair          │\n",
       "│                  ┆               ┆ 09:37:38   ┆ 09:41:34   ┆   ┆            ┆          ┆          ┆               │\n",
       "│ 2DD1587210BA45AE ┆ classic_bike  ┆ 2022-12-09 ┆ 2022-12-09 ┆ … ┆ 2022-12-09 ┆ 00:35:28 ┆ 483      ┆ Fair          │\n",
       "│                  ┆               ┆ 00:27:25   ┆ 00:35:28   ┆   ┆            ┆          ┆          ┆               │\n",
       "└──────────────────┴───────────────┴────────────┴────────────┴───┴────────────┴──────────┴──────────┴───────────────┘"
      ]
     },
     "execution_count": 72,
     "metadata": {},
     "output_type": "execute_result"
    }
   ],
   "source": [
    "pl.read_csv(r\"C:\\Users\\Sowjanya\\Documents\\BIIKE-SHARE-DATA\\cleaned_cyclistic_data_2022.csv\")"
   ]
  },
  {
   "cell_type": "code",
   "execution_count": null,
   "id": "b26f38cb-b525-42d6-84a2-c7baba4400d3",
   "metadata": {},
   "outputs": [],
   "source": [
    "pip install sqlalchemy"
   ]
  },
  {
   "cell_type": "code",
   "execution_count": null,
   "id": "8c0129d0-ed5e-4d45-b810-6c319edb5cbc",
   "metadata": {},
   "outputs": [],
   "source": [
    "from sqlalchemy import create_engine"
   ]
  },
  {
   "cell_type": "code",
   "execution_count": null,
   "id": "7c84b6ee-55ec-4eac-9446-7c816c24d3c4",
   "metadata": {},
   "outputs": [],
   "source": [
    "pip install sqlalchemy mysql-connector-python pymysql\n"
   ]
  },
  {
   "cell_type": "code",
   "execution_count": null,
   "id": "9586089a-5e40-45f9-a592-2f63f3b7b178",
   "metadata": {},
   "outputs": [],
   "source": [
    "print(len(df_cleaned.columns))  # Should match the number of %s placeholders\n"
   ]
  },
  {
   "cell_type": "code",
   "execution_count": 74,
   "id": "490d9280-e183-4938-9598-b5b4053d8777",
   "metadata": {},
   "outputs": [
    {
     "data": {
      "text/html": [
       "<div><style>\n",
       ".dataframe > thead > tr,\n",
       ".dataframe > tbody > tr {\n",
       "  text-align: right;\n",
       "  white-space: pre-wrap;\n",
       "}\n",
       "</style>\n",
       "<small>shape: (5_661_859, 17)</small><table border=\"1\" class=\"dataframe\"><thead><tr><th>ride_id</th><th>rideable_type</th><th>started_at</th><th>ended_at</th><th>start_station_name</th><th>end_station_name</th><th>start_lat</th><th>start_lng</th><th>end_lat</th><th>end_lng</th><th>member_casual</th><th>start_date</th><th>start_time</th><th>end_date</th><th>end_time</th><th>duration</th><th>ride_validity</th></tr><tr><td>str</td><td>str</td><td>str</td><td>str</td><td>str</td><td>str</td><td>str</td><td>str</td><td>str</td><td>str</td><td>str</td><td>str</td><td>str</td><td>str</td><td>str</td><td>str</td><td>str</td></tr></thead><tbody><tr><td>&quot;C2F7DD78E82EC875&quot;</td><td>&quot;electric_bike&quot;</td><td>&quot;2022-01-13 11:59:47&quot;</td><td>&quot;2022-01-13 12:02:44&quot;</td><td>&quot;Glenwood Ave &amp; Touhy Ave&quot;</td><td>&quot;Clark St &amp; Touhy Ave&quot;</td><td>&quot;42.0128005&quot;</td><td>&quot;-87.665906&quot;</td><td>&quot;42.01256011541&quot;</td><td>&quot;-87.6743671152&quot;</td><td>&quot;casual&quot;</td><td>&quot;2022-01-13&quot;</td><td>&quot;11:59:47&quot;</td><td>&quot;2022-01-13&quot;</td><td>&quot;12:02:44&quot;</td><td>&quot;177&quot;</td><td>&quot;Fair&quot;</td></tr><tr><td>&quot;A6CF8980A652D272&quot;</td><td>&quot;electric_bike&quot;</td><td>&quot;2022-01-10 08:41:56&quot;</td><td>&quot;2022-01-10 08:46:17&quot;</td><td>&quot;Glenwood Ave &amp; Touhy Ave&quot;</td><td>&quot;Clark St &amp; Touhy Ave&quot;</td><td>&quot;42.012763&quot;</td><td>&quot;-87.6659675&quot;</td><td>&quot;42.01256011541&quot;</td><td>&quot;-87.6743671152&quot;</td><td>&quot;casual&quot;</td><td>&quot;2022-01-10&quot;</td><td>&quot;08:41:56&quot;</td><td>&quot;2022-01-10&quot;</td><td>&quot;08:46:17&quot;</td><td>&quot;261&quot;</td><td>&quot;Fair&quot;</td></tr><tr><td>&quot;BD0F91DFF741C66D&quot;</td><td>&quot;classic_bike&quot;</td><td>&quot;2022-01-25 04:53:40&quot;</td><td>&quot;2022-01-25 04:58:01&quot;</td><td>&quot;Sheffield Ave &amp; Fullerton Ave&quot;</td><td>&quot;Greenview Ave &amp; Fullerton Ave&quot;</td><td>&quot;41.9256018819&quot;</td><td>&quot;-87.6537080423&quot;</td><td>&quot;41.92533&quot;</td><td>&quot;-87.6658&quot;</td><td>&quot;member&quot;</td><td>&quot;2022-01-25&quot;</td><td>&quot;04:53:40&quot;</td><td>&quot;2022-01-25&quot;</td><td>&quot;04:58:01&quot;</td><td>&quot;261&quot;</td><td>&quot;Fair&quot;</td></tr><tr><td>&quot;CBB80ED419105406&quot;</td><td>&quot;classic_bike&quot;</td><td>&quot;2022-01-04 00:18:04&quot;</td><td>&quot;2022-01-04 00:33:00&quot;</td><td>&quot;Clark St &amp; Bryn Mawr Ave&quot;</td><td>&quot;Paulina St &amp; Montrose Ave&quot;</td><td>&quot;41.983593&quot;</td><td>&quot;-87.669154&quot;</td><td>&quot;41.961507&quot;</td><td>&quot;-87.671387&quot;</td><td>&quot;casual&quot;</td><td>&quot;2022-01-04&quot;</td><td>&quot;00:18:04&quot;</td><td>&quot;2022-01-04&quot;</td><td>&quot;00:33:00&quot;</td><td>&quot;896&quot;</td><td>&quot;Fair&quot;</td></tr><tr><td>&quot;DDC963BFDDA51EEA&quot;</td><td>&quot;classic_bike&quot;</td><td>&quot;2022-01-20 01:31:10&quot;</td><td>&quot;2022-01-20 01:37:12&quot;</td><td>&quot;Michigan Ave &amp; Jackson Blvd&quot;</td><td>&quot;State St &amp; Randolph St&quot;</td><td>&quot;41.87785&quot;</td><td>&quot;-87.62408&quot;</td><td>&quot;41.88462107257936&quot;</td><td>&quot;-87.62783423066139&quot;</td><td>&quot;member&quot;</td><td>&quot;2022-01-20&quot;</td><td>&quot;01:31:10&quot;</td><td>&quot;2022-01-20&quot;</td><td>&quot;01:37:12&quot;</td><td>&quot;362&quot;</td><td>&quot;Fair&quot;</td></tr><tr><td>&hellip;</td><td>&hellip;</td><td>&hellip;</td><td>&hellip;</td><td>&hellip;</td><td>&hellip;</td><td>&hellip;</td><td>&hellip;</td><td>&hellip;</td><td>&hellip;</td><td>&hellip;</td><td>&hellip;</td><td>&hellip;</td><td>&hellip;</td><td>&hellip;</td><td>&hellip;</td><td>&hellip;</td></tr><tr><td>&quot;43ABEE85B6E15DCA&quot;</td><td>&quot;classic_bike&quot;</td><td>&quot;2022-12-05 06:51:04&quot;</td><td>&quot;2022-12-05 06:54:48&quot;</td><td>&quot;Sangamon St &amp; Washington Blvd&quot;</td><td>&quot;Peoria St &amp; Jackson Blvd&quot;</td><td>&quot;41.883165&quot;</td><td>&quot;-87.6511&quot;</td><td>&quot;41.8776415962753&quot;</td><td>&quot;-87.64961779117584&quot;</td><td>&quot;member&quot;</td><td>&quot;2022-12-05&quot;</td><td>&quot;06:51:04&quot;</td><td>&quot;2022-12-05&quot;</td><td>&quot;06:54:48&quot;</td><td>&quot;224&quot;</td><td>&quot;Fair&quot;</td></tr><tr><td>&quot;F041C89A3D1F0270&quot;</td><td>&quot;electric_bike&quot;</td><td>&quot;2022-12-14 17:06:28&quot;</td><td>&quot;2022-12-14 17:19:27&quot;</td><td>&quot;Bernard St &amp; Elston Ave&quot;</td><td>&quot;Seeley Ave &amp; Roscoe St&quot;</td><td>&quot;41.949979544&quot;</td><td>&quot;-87.714018822&quot;</td><td>&quot;41.943403&quot;</td><td>&quot;-87.679618&quot;</td><td>&quot;member&quot;</td><td>&quot;2022-12-14&quot;</td><td>&quot;17:06:28&quot;</td><td>&quot;2022-12-14&quot;</td><td>&quot;17:19:27&quot;</td><td>&quot;779&quot;</td><td>&quot;Fair&quot;</td></tr><tr><td>&quot;A2BECB88430BE156&quot;</td><td>&quot;classic_bike&quot;</td><td>&quot;2022-12-08 16:27:47&quot;</td><td>&quot;2022-12-08 16:32:20&quot;</td><td>&quot;Wacker Dr &amp; Washington St&quot;</td><td>&quot;Green St &amp; Madison St&quot;</td><td>&quot;41.88314336439022&quot;</td><td>&quot;-87.63724207878113&quot;</td><td>&quot;41.881859328038225&quot;</td><td>&quot;-87.64926373958588&quot;</td><td>&quot;member&quot;</td><td>&quot;2022-12-08&quot;</td><td>&quot;16:27:47&quot;</td><td>&quot;2022-12-08&quot;</td><td>&quot;16:32:20&quot;</td><td>&quot;273&quot;</td><td>&quot;Fair&quot;</td></tr><tr><td>&quot;37B392960E566F58&quot;</td><td>&quot;classic_bike&quot;</td><td>&quot;2022-12-28 09:37:38&quot;</td><td>&quot;2022-12-28 09:41:34&quot;</td><td>&quot;Sangamon St &amp; Washington Blvd&quot;</td><td>&quot;Peoria St &amp; Jackson Blvd&quot;</td><td>&quot;41.883165&quot;</td><td>&quot;-87.6511&quot;</td><td>&quot;41.8776415962753&quot;</td><td>&quot;-87.64961779117584&quot;</td><td>&quot;member&quot;</td><td>&quot;2022-12-28&quot;</td><td>&quot;09:37:38&quot;</td><td>&quot;2022-12-28&quot;</td><td>&quot;09:41:34&quot;</td><td>&quot;236&quot;</td><td>&quot;Fair&quot;</td></tr><tr><td>&quot;2DD1587210BA45AE&quot;</td><td>&quot;classic_bike&quot;</td><td>&quot;2022-12-09 00:27:25&quot;</td><td>&quot;2022-12-09 00:35:28&quot;</td><td>&quot;Southport Ave &amp; Waveland Ave&quot;</td><td>&quot;Seeley Ave &amp; Roscoe St&quot;</td><td>&quot;41.94815&quot;</td><td>&quot;-87.66394&quot;</td><td>&quot;41.943403&quot;</td><td>&quot;-87.679618&quot;</td><td>&quot;casual&quot;</td><td>&quot;2022-12-09&quot;</td><td>&quot;00:27:25&quot;</td><td>&quot;2022-12-09&quot;</td><td>&quot;00:35:28&quot;</td><td>&quot;483&quot;</td><td>&quot;Fair&quot;</td></tr></tbody></table></div>"
      ],
      "text/plain": [
       "shape: (5_661_859, 17)\n",
       "┌──────────────────┬───────────────┬────────────┬────────────┬───┬────────────┬──────────┬──────────┬───────────────┐\n",
       "│ ride_id          ┆ rideable_type ┆ started_at ┆ ended_at   ┆ … ┆ end_date   ┆ end_time ┆ duration ┆ ride_validity │\n",
       "│ ---              ┆ ---           ┆ ---        ┆ ---        ┆   ┆ ---        ┆ ---      ┆ ---      ┆ ---           │\n",
       "│ str              ┆ str           ┆ str        ┆ str        ┆   ┆ str        ┆ str      ┆ str      ┆ str           │\n",
       "╞══════════════════╪═══════════════╪════════════╪════════════╪═══╪════════════╪══════════╪══════════╪═══════════════╡\n",
       "│ C2F7DD78E82EC875 ┆ electric_bike ┆ 2022-01-13 ┆ 2022-01-13 ┆ … ┆ 2022-01-13 ┆ 12:02:44 ┆ 177      ┆ Fair          │\n",
       "│                  ┆               ┆ 11:59:47   ┆ 12:02:44   ┆   ┆            ┆          ┆          ┆               │\n",
       "│ A6CF8980A652D272 ┆ electric_bike ┆ 2022-01-10 ┆ 2022-01-10 ┆ … ┆ 2022-01-10 ┆ 08:46:17 ┆ 261      ┆ Fair          │\n",
       "│                  ┆               ┆ 08:41:56   ┆ 08:46:17   ┆   ┆            ┆          ┆          ┆               │\n",
       "│ BD0F91DFF741C66D ┆ classic_bike  ┆ 2022-01-25 ┆ 2022-01-25 ┆ … ┆ 2022-01-25 ┆ 04:58:01 ┆ 261      ┆ Fair          │\n",
       "│                  ┆               ┆ 04:53:40   ┆ 04:58:01   ┆   ┆            ┆          ┆          ┆               │\n",
       "│ CBB80ED419105406 ┆ classic_bike  ┆ 2022-01-04 ┆ 2022-01-04 ┆ … ┆ 2022-01-04 ┆ 00:33:00 ┆ 896      ┆ Fair          │\n",
       "│                  ┆               ┆ 00:18:04   ┆ 00:33:00   ┆   ┆            ┆          ┆          ┆               │\n",
       "│ DDC963BFDDA51EEA ┆ classic_bike  ┆ 2022-01-20 ┆ 2022-01-20 ┆ … ┆ 2022-01-20 ┆ 01:37:12 ┆ 362      ┆ Fair          │\n",
       "│                  ┆               ┆ 01:31:10   ┆ 01:37:12   ┆   ┆            ┆          ┆          ┆               │\n",
       "│ …                ┆ …             ┆ …          ┆ …          ┆ … ┆ …          ┆ …        ┆ …        ┆ …             │\n",
       "│ 43ABEE85B6E15DCA ┆ classic_bike  ┆ 2022-12-05 ┆ 2022-12-05 ┆ … ┆ 2022-12-05 ┆ 06:54:48 ┆ 224      ┆ Fair          │\n",
       "│                  ┆               ┆ 06:51:04   ┆ 06:54:48   ┆   ┆            ┆          ┆          ┆               │\n",
       "│ F041C89A3D1F0270 ┆ electric_bike ┆ 2022-12-14 ┆ 2022-12-14 ┆ … ┆ 2022-12-14 ┆ 17:19:27 ┆ 779      ┆ Fair          │\n",
       "│                  ┆               ┆ 17:06:28   ┆ 17:19:27   ┆   ┆            ┆          ┆          ┆               │\n",
       "│ A2BECB88430BE156 ┆ classic_bike  ┆ 2022-12-08 ┆ 2022-12-08 ┆ … ┆ 2022-12-08 ┆ 16:32:20 ┆ 273      ┆ Fair          │\n",
       "│                  ┆               ┆ 16:27:47   ┆ 16:32:20   ┆   ┆            ┆          ┆          ┆               │\n",
       "│ 37B392960E566F58 ┆ classic_bike  ┆ 2022-12-28 ┆ 2022-12-28 ┆ … ┆ 2022-12-28 ┆ 09:41:34 ┆ 236      ┆ Fair          │\n",
       "│                  ┆               ┆ 09:37:38   ┆ 09:41:34   ┆   ┆            ┆          ┆          ┆               │\n",
       "│ 2DD1587210BA45AE ┆ classic_bike  ┆ 2022-12-09 ┆ 2022-12-09 ┆ … ┆ 2022-12-09 ┆ 00:35:28 ┆ 483      ┆ Fair          │\n",
       "│                  ┆               ┆ 00:27:25   ┆ 00:35:28   ┆   ┆            ┆          ┆          ┆               │\n",
       "└──────────────────┴───────────────┴────────────┴────────────┴───┴────────────┴──────────┴──────────┴───────────────┘"
      ]
     },
     "execution_count": 74,
     "metadata": {},
     "output_type": "execute_result"
    }
   ],
   "source": [
    "df_cleaned"
   ]
  },
  {
   "cell_type": "code",
   "execution_count": 76,
   "id": "45c73c2c-b6d0-4b55-a7fc-7e81b84ca52a",
   "metadata": {},
   "outputs": [],
   "source": [
    "df_cleaned = df_cleaned.unique(subset=[\"ride_id\"])\n"
   ]
  },
  {
   "cell_type": "code",
   "execution_count": 78,
   "id": "c87ad00a-0f8a-426a-bcca-531b3c13c306",
   "metadata": {},
   "outputs": [
    {
     "data": {
      "text/html": [
       "<div><style>\n",
       ".dataframe > thead > tr,\n",
       ".dataframe > tbody > tr {\n",
       "  text-align: right;\n",
       "  white-space: pre-wrap;\n",
       "}\n",
       "</style>\n",
       "<small>shape: (5_661_859, 17)</small><table border=\"1\" class=\"dataframe\"><thead><tr><th>ride_id</th><th>rideable_type</th><th>started_at</th><th>ended_at</th><th>start_station_name</th><th>end_station_name</th><th>start_lat</th><th>start_lng</th><th>end_lat</th><th>end_lng</th><th>member_casual</th><th>start_date</th><th>start_time</th><th>end_date</th><th>end_time</th><th>duration</th><th>ride_validity</th></tr><tr><td>str</td><td>str</td><td>str</td><td>str</td><td>str</td><td>str</td><td>str</td><td>str</td><td>str</td><td>str</td><td>str</td><td>str</td><td>str</td><td>str</td><td>str</td><td>str</td><td>str</td></tr></thead><tbody><tr><td>&quot;FE679CAD73E6D06A&quot;</td><td>&quot;electric_bike&quot;</td><td>&quot;2022-09-25 12:19:10&quot;</td><td>&quot;2022-09-25 12:33:59&quot;</td><td>&quot;Fairbanks St &amp; Superior St&quot;</td><td>&quot;Streeter Dr &amp; Grand Ave&quot;</td><td>&quot;41.87&quot;</td><td>&quot;-87.62&quot;</td><td>&quot;41.89&quot;</td><td>&quot;-87.61&quot;</td><td>&quot;casual&quot;</td><td>&quot;2022-09-25&quot;</td><td>&quot;12:19:10&quot;</td><td>&quot;2022-09-25&quot;</td><td>&quot;12:33:59&quot;</td><td>&quot;889&quot;</td><td>&quot;Fair&quot;</td></tr><tr><td>&quot;23F076F8104CECE8&quot;</td><td>&quot;electric_bike&quot;</td><td>&quot;2022-07-21 15:44:54&quot;</td><td>&quot;2022-07-21 15:52:21&quot;</td><td>&quot;Damen Ave &amp; Pierce Ave&quot;</td><td>&quot;Dayton St &amp; North Ave&quot;</td><td>&quot;41.909471&quot;</td><td>&quot;-87.6777865&quot;</td><td>&quot;41.9105780349&quot;</td><td>&quot;-87.6494219288&quot;</td><td>&quot;member&quot;</td><td>&quot;2022-07-21&quot;</td><td>&quot;15:44:54&quot;</td><td>&quot;2022-07-21&quot;</td><td>&quot;15:52:21&quot;</td><td>&quot;447&quot;</td><td>&quot;Fair&quot;</td></tr><tr><td>&quot;964B17972771A0BC&quot;</td><td>&quot;electric_bike&quot;</td><td>&quot;2022-07-20 18:46:14&quot;</td><td>&quot;2022-07-20 18:57:37&quot;</td><td>&quot;State St &amp; Kinzie St&quot;</td><td>&quot;Dearborn St &amp; Adams St&quot;</td><td>&quot;41.89&quot;</td><td>&quot;-87.63&quot;</td><td>&quot;41.88&quot;</td><td>&quot;-87.63&quot;</td><td>&quot;casual&quot;</td><td>&quot;2022-07-20&quot;</td><td>&quot;18:46:14&quot;</td><td>&quot;2022-07-20&quot;</td><td>&quot;18:57:37&quot;</td><td>&quot;683&quot;</td><td>&quot;Fair&quot;</td></tr><tr><td>&quot;C21FFA5941A31A44&quot;</td><td>&quot;electric_bike&quot;</td><td>&quot;2022-08-09 16:14:14&quot;</td><td>&quot;2022-08-09 16:26:43&quot;</td><td>&quot;N Carpenter St &amp; W Lake St&quot;</td><td>&quot;W Armitage Ave &amp; N Sheffield A…</td><td>&quot;41.89&quot;</td><td>&quot;-87.65&quot;</td><td>&quot;41.92&quot;</td><td>&quot;-87.65&quot;</td><td>&quot;casual&quot;</td><td>&quot;2022-08-09&quot;</td><td>&quot;16:14:14&quot;</td><td>&quot;2022-08-09&quot;</td><td>&quot;16:26:43&quot;</td><td>&quot;749&quot;</td><td>&quot;Fair&quot;</td></tr><tr><td>&quot;8C6F40F3CA05EDF7&quot;</td><td>&quot;classic_bike&quot;</td><td>&quot;2022-07-20 10:02:32&quot;</td><td>&quot;2022-07-20 10:05:48&quot;</td><td>&quot;Wells St &amp; Hubbard St&quot;</td><td>&quot;Wabash Ave &amp; Grand Ave&quot;</td><td>&quot;41.889906&quot;</td><td>&quot;-87.634266&quot;</td><td>&quot;41.891466&quot;</td><td>&quot;-87.626761&quot;</td><td>&quot;member&quot;</td><td>&quot;2022-07-20&quot;</td><td>&quot;10:02:32&quot;</td><td>&quot;2022-07-20&quot;</td><td>&quot;10:05:48&quot;</td><td>&quot;196&quot;</td><td>&quot;Fair&quot;</td></tr><tr><td>&hellip;</td><td>&hellip;</td><td>&hellip;</td><td>&hellip;</td><td>&hellip;</td><td>&hellip;</td><td>&hellip;</td><td>&hellip;</td><td>&hellip;</td><td>&hellip;</td><td>&hellip;</td><td>&hellip;</td><td>&hellip;</td><td>&hellip;</td><td>&hellip;</td><td>&hellip;</td><td>&hellip;</td></tr><tr><td>&quot;72308EF9265190D4&quot;</td><td>&quot;electric_bike&quot;</td><td>&quot;2022-06-28 06:36:44&quot;</td><td>&quot;2022-06-28 06:46:08&quot;</td><td>&quot;Calumet Ave &amp; 18th St&quot;</td><td>&quot;Franklin St &amp; Monroe St&quot;</td><td>&quot;41.857637644&quot;</td><td>&quot;-87.619473457&quot;</td><td>&quot;41.880317&quot;</td><td>&quot;-87.635185&quot;</td><td>&quot;member&quot;</td><td>&quot;2022-06-28&quot;</td><td>&quot;06:36:44&quot;</td><td>&quot;2022-06-28&quot;</td><td>&quot;06:46:08&quot;</td><td>&quot;564&quot;</td><td>&quot;Fair&quot;</td></tr><tr><td>&quot;1989340331C8DEAB&quot;</td><td>&quot;docked_bike&quot;</td><td>&quot;2022-03-19 18:36:00&quot;</td><td>&quot;2022-03-19 18:52:23&quot;</td><td>&quot;Sheffield Ave &amp; Fullerton Ave&quot;</td><td>&quot;Clark St &amp; Newport St&quot;</td><td>&quot;41.925602&quot;</td><td>&quot;-87.653708&quot;</td><td>&quot;41.94454&quot;</td><td>&quot;-87.654678&quot;</td><td>&quot;casual&quot;</td><td>&quot;2022-03-19&quot;</td><td>&quot;18:36:00&quot;</td><td>&quot;2022-03-19&quot;</td><td>&quot;18:52:23&quot;</td><td>&quot;983&quot;</td><td>&quot;Fair&quot;</td></tr><tr><td>&quot;5F9E333F140CAA5B&quot;</td><td>&quot;electric_bike&quot;</td><td>&quot;2022-08-18 08:23:41&quot;</td><td>&quot;2022-08-18 08:29:39&quot;</td><td>&quot;Racine Ave &amp; Randolph St&quot;</td><td>&quot;Canal St &amp; Adams St&quot;</td><td>&quot;41.884049166666664&quot;</td><td>&quot;-87.656985&quot;</td><td>&quot;41.88&quot;</td><td>&quot;-87.64&quot;</td><td>&quot;casual&quot;</td><td>&quot;2022-08-18&quot;</td><td>&quot;08:23:41&quot;</td><td>&quot;2022-08-18&quot;</td><td>&quot;08:29:39&quot;</td><td>&quot;358&quot;</td><td>&quot;Fair&quot;</td></tr><tr><td>&quot;2C8E600D97DD2B4B&quot;</td><td>&quot;electric_bike&quot;</td><td>&quot;2022-09-28 08:44:40&quot;</td><td>&quot;2022-09-28 09:02:23&quot;</td><td>&quot;Hampden Ct &amp; Diversey Ave&quot;</td><td>&quot;Dearborn St &amp; Adams St&quot;</td><td>&quot;41.93&quot;</td><td>&quot;-87.64&quot;</td><td>&quot;41.88&quot;</td><td>&quot;-87.63&quot;</td><td>&quot;casual&quot;</td><td>&quot;2022-09-28&quot;</td><td>&quot;08:44:40&quot;</td><td>&quot;2022-09-28&quot;</td><td>&quot;09:02:23&quot;</td><td>&quot;1063&quot;</td><td>&quot;Fair&quot;</td></tr><tr><td>&quot;F1317B81B01E5E12&quot;</td><td>&quot;electric_bike&quot;</td><td>&quot;2022-09-29 15:38:40&quot;</td><td>&quot;2022-09-29 15:50:48&quot;</td><td>&quot;Leavitt St &amp; Armitage Ave&quot;</td><td>&quot;Larrabee St &amp; Webster Ave&quot;</td><td>&quot;41.917848706&quot;</td><td>&quot;-87.682485342&quot;</td><td>&quot;41.921822&quot;</td><td>&quot;-87.64414&quot;</td><td>&quot;casual&quot;</td><td>&quot;2022-09-29&quot;</td><td>&quot;15:38:40&quot;</td><td>&quot;2022-09-29&quot;</td><td>&quot;15:50:48&quot;</td><td>&quot;728&quot;</td><td>&quot;Fair&quot;</td></tr></tbody></table></div>"
      ],
      "text/plain": [
       "shape: (5_661_859, 17)\n",
       "┌──────────────────┬───────────────┬────────────┬────────────┬───┬────────────┬──────────┬──────────┬───────────────┐\n",
       "│ ride_id          ┆ rideable_type ┆ started_at ┆ ended_at   ┆ … ┆ end_date   ┆ end_time ┆ duration ┆ ride_validity │\n",
       "│ ---              ┆ ---           ┆ ---        ┆ ---        ┆   ┆ ---        ┆ ---      ┆ ---      ┆ ---           │\n",
       "│ str              ┆ str           ┆ str        ┆ str        ┆   ┆ str        ┆ str      ┆ str      ┆ str           │\n",
       "╞══════════════════╪═══════════════╪════════════╪════════════╪═══╪════════════╪══════════╪══════════╪═══════════════╡\n",
       "│ FE679CAD73E6D06A ┆ electric_bike ┆ 2022-09-25 ┆ 2022-09-25 ┆ … ┆ 2022-09-25 ┆ 12:33:59 ┆ 889      ┆ Fair          │\n",
       "│                  ┆               ┆ 12:19:10   ┆ 12:33:59   ┆   ┆            ┆          ┆          ┆               │\n",
       "│ 23F076F8104CECE8 ┆ electric_bike ┆ 2022-07-21 ┆ 2022-07-21 ┆ … ┆ 2022-07-21 ┆ 15:52:21 ┆ 447      ┆ Fair          │\n",
       "│                  ┆               ┆ 15:44:54   ┆ 15:52:21   ┆   ┆            ┆          ┆          ┆               │\n",
       "│ 964B17972771A0BC ┆ electric_bike ┆ 2022-07-20 ┆ 2022-07-20 ┆ … ┆ 2022-07-20 ┆ 18:57:37 ┆ 683      ┆ Fair          │\n",
       "│                  ┆               ┆ 18:46:14   ┆ 18:57:37   ┆   ┆            ┆          ┆          ┆               │\n",
       "│ C21FFA5941A31A44 ┆ electric_bike ┆ 2022-08-09 ┆ 2022-08-09 ┆ … ┆ 2022-08-09 ┆ 16:26:43 ┆ 749      ┆ Fair          │\n",
       "│                  ┆               ┆ 16:14:14   ┆ 16:26:43   ┆   ┆            ┆          ┆          ┆               │\n",
       "│ 8C6F40F3CA05EDF7 ┆ classic_bike  ┆ 2022-07-20 ┆ 2022-07-20 ┆ … ┆ 2022-07-20 ┆ 10:05:48 ┆ 196      ┆ Fair          │\n",
       "│                  ┆               ┆ 10:02:32   ┆ 10:05:48   ┆   ┆            ┆          ┆          ┆               │\n",
       "│ …                ┆ …             ┆ …          ┆ …          ┆ … ┆ …          ┆ …        ┆ …        ┆ …             │\n",
       "│ 72308EF9265190D4 ┆ electric_bike ┆ 2022-06-28 ┆ 2022-06-28 ┆ … ┆ 2022-06-28 ┆ 06:46:08 ┆ 564      ┆ Fair          │\n",
       "│                  ┆               ┆ 06:36:44   ┆ 06:46:08   ┆   ┆            ┆          ┆          ┆               │\n",
       "│ 1989340331C8DEAB ┆ docked_bike   ┆ 2022-03-19 ┆ 2022-03-19 ┆ … ┆ 2022-03-19 ┆ 18:52:23 ┆ 983      ┆ Fair          │\n",
       "│                  ┆               ┆ 18:36:00   ┆ 18:52:23   ┆   ┆            ┆          ┆          ┆               │\n",
       "│ 5F9E333F140CAA5B ┆ electric_bike ┆ 2022-08-18 ┆ 2022-08-18 ┆ … ┆ 2022-08-18 ┆ 08:29:39 ┆ 358      ┆ Fair          │\n",
       "│                  ┆               ┆ 08:23:41   ┆ 08:29:39   ┆   ┆            ┆          ┆          ┆               │\n",
       "│ 2C8E600D97DD2B4B ┆ electric_bike ┆ 2022-09-28 ┆ 2022-09-28 ┆ … ┆ 2022-09-28 ┆ 09:02:23 ┆ 1063     ┆ Fair          │\n",
       "│                  ┆               ┆ 08:44:40   ┆ 09:02:23   ┆   ┆            ┆          ┆          ┆               │\n",
       "│ F1317B81B01E5E12 ┆ electric_bike ┆ 2022-09-29 ┆ 2022-09-29 ┆ … ┆ 2022-09-29 ┆ 15:50:48 ┆ 728      ┆ Fair          │\n",
       "│                  ┆               ┆ 15:38:40   ┆ 15:50:48   ┆   ┆            ┆          ┆          ┆               │\n",
       "└──────────────────┴───────────────┴────────────┴────────────┴───┴────────────┴──────────┴──────────┴───────────────┘"
      ]
     },
     "execution_count": 78,
     "metadata": {},
     "output_type": "execute_result"
    }
   ],
   "source": [
    "df_cleaned"
   ]
  },
  {
   "cell_type": "code",
   "execution_count": 80,
   "id": "17ccc14d-b36e-4193-811d-af8b1942b26d",
   "metadata": {},
   "outputs": [
    {
     "name": "stdout",
     "output_type": "stream",
     "text": [
      "✅ Table 'bike_rides_2022' created successfully!\n"
     ]
    }
   ],
   "source": [
    "import mysql.connector\n",
    "\n",
    "# Connect to MySQL database\n",
    "connection = mysql.connector.connect(\n",
    "    host=\"localhost\",\n",
    "    port=3305,\n",
    "    user=\"root\",\n",
    "    password=\"root\",\n",
    "    database=\"bike_share\"\n",
    ")\n",
    "cursor = connection.cursor()\n",
    "\n",
    "# Create table query\n",
    "create_table_query = \"\"\"\n",
    "CREATE TABLE IF NOT EXISTS bike_rides_2022 (\n",
    "    ride_id TEXT,\n",
    "    rideable_type TEXT,\n",
    "    started_at TEXT,\n",
    "    ended_at TEXT,\n",
    "    start_station_name TEXT,\n",
    "    end_station_name TEXT,\n",
    "    start_lat DOUBLE,\n",
    "    start_lng DOUBLE,\n",
    "    end_lat DOUBLE,\n",
    "    end_lng DOUBLE,\n",
    "    member_casual TEXT,\n",
    "    start_date TEXT,\n",
    "    start_time TEXT,\n",
    "    end_date TEXT,\n",
    "    end_time TEXT,\n",
    "    duration INT,\n",
    "    ride_validity TEXT\n",
    ");\n",
    "\"\"\"\n",
    "\n",
    "# Execute the query\n",
    "cursor.execute(create_table_query)\n",
    "connection.commit()\n",
    "\n",
    "print(\"✅ Table 'bike_rides_2022' created successfully!\")\n",
    "\n",
    "# Close connection\n",
    "cursor.close()\n",
    "connection.close()\n"
   ]
  },
  {
   "cell_type": "code",
   "execution_count": 82,
   "id": "6d4aff1f-59b8-4f96-b027-52a8b2add166",
   "metadata": {},
   "outputs": [
    {
     "name": "stdout",
     "output_type": "stream",
     "text": [
      "✅ Database connected successfully!\n",
      "✅ Table checked/created successfully!\n",
      "✅ Inserted 5661859 unique records successfully into `bike_rides_2022`!\n"
     ]
    }
   ],
   "source": [
    "import polars as pl\n",
    "import mysql.connector\n",
    "\n",
    "# Assuming df_cleaned is your cleaned Polars DataFrame\n",
    "df_cleaned = df_cleaned.unique()  # Ensure unique records\n",
    "\n",
    "# Convert Polars DataFrame to a list of tuples\n",
    "data = [tuple(row) for row in df_cleaned.to_numpy()]\n",
    "\n",
    "# Connect to MySQL without specifying the database first\n",
    "connection = mysql.connector.connect(\n",
    "    host=\"localhost\",\n",
    "    port=3305,\n",
    "    user=\"root\",\n",
    "    password=\"root\"\n",
    ")\n",
    "cursor = connection.cursor()\n",
    "\n",
    "# Create database if not exists\n",
    "cursor.execute(\"CREATE DATABASE IF NOT EXISTS bike_share\")\n",
    "\n",
    "# Connect to the database\n",
    "connection.database = \"bike_share\"\n",
    "\n",
    "print(\"✅ Database connected successfully!\")\n",
    "\n",
    "# Ensure the `bike_rides_2021` table exists (Modify the schema if needed)\n",
    "cursor.execute(\"\"\"\n",
    "CREATE TABLE IF NOT EXISTS bike_rides_2022 (\n",
    "    ride_id TEXT PRIMARY KEY,\n",
    "    rideable_type TEXT,\n",
    "    started_at TEXT,\n",
    "    ended_at TEXT,\n",
    "    start_station_name TEXT,\n",
    "    end_station_name TEXT,\n",
    "    start_lat DOUBLE,\n",
    "    start_lng DOUBLE,\n",
    "    end_lat DOUBLE,\n",
    "    end_lng DOUBLE,\n",
    "    member_casual TEXT,\n",
    "    start_date TEXT,\n",
    "    start_time TEXT,\n",
    "    end_date TEXT,\n",
    "    end_time TEXT,\n",
    "    duration INT,\n",
    "    ride_validity TEXT\n",
    ")\n",
    "\"\"\")\n",
    "\n",
    "print(\"✅ Table checked/created successfully!\")\n",
    "\n",
    "# SQL Insert Query (Ensure column names match your table)\n",
    "insert_stmt = \"\"\"\n",
    "INSERT IGNORE INTO bike_rides_2022 (\n",
    "    ride_id, rideable_type, started_at, ended_at, start_station_name, \n",
    "    end_station_name, start_lat, start_lng, end_lat, end_lng, \n",
    "    member_casual, start_date, start_time, end_date, end_time, \n",
    "    duration, ride_validity\n",
    ") VALUES (%s, %s, %s, %s, %s, %s, %s, %s, %s, %s, %s, %s, %s, %s, %s, %s, %s)\n",
    "\"\"\"\n",
    "\n",
    "# Insert data in batches for efficiency\n",
    "batch_size = 1000\n",
    "for i in range(0, len(data), batch_size):\n",
    "    batch = data[i:i + batch_size]\n",
    "    cursor.executemany(insert_stmt, batch)\n",
    "    connection.commit()\n",
    "\n",
    "print(f\"✅ Inserted {len(data)} unique records successfully into `bike_rides_2022`!\")\n",
    "\n",
    "# Close connection\n",
    "cursor.close()\n",
    "connection.close()\n"
   ]
  },
  {
   "cell_type": "code",
   "execution_count": null,
   "id": "7d542a24-e5b8-47e9-b047-60af7a3c2b8b",
   "metadata": {},
   "outputs": [],
   "source": []
  }
 ],
 "metadata": {
  "kernelspec": {
   "display_name": "Python 3 (ipykernel)",
   "language": "python",
   "name": "python3"
  },
  "language_info": {
   "codemirror_mode": {
    "name": "ipython",
    "version": 3
   },
   "file_extension": ".py",
   "mimetype": "text/x-python",
   "name": "python",
   "nbconvert_exporter": "python",
   "pygments_lexer": "ipython3",
   "version": "3.12.7"
  }
 },
 "nbformat": 4,
 "nbformat_minor": 5
}
