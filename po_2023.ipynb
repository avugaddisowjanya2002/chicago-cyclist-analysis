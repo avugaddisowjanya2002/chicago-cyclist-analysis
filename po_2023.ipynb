{
 "cells": [
  {
   "cell_type": "code",
   "execution_count": 1,
   "id": "fd8211d5-7789-484f-af8f-13e346889ddf",
   "metadata": {},
   "outputs": [
    {
     "name": "stdout",
     "output_type": "stream",
     "text": [
      "shape: (5, 13)\n",
      "┌──────────────┬──────────────┬──────────────┬──────────────┬───┬──────────────┬───────────┬────────────┬──────────────┐\n",
      "│ ride_id      ┆ rideable_typ ┆ started_at   ┆ ended_at     ┆ … ┆ start_lng    ┆ end_lat   ┆ end_lng    ┆ member_casua │\n",
      "│ ---          ┆ e            ┆ ---          ┆ ---          ┆   ┆ ---          ┆ ---       ┆ ---        ┆ l            │\n",
      "│ str          ┆ ---          ┆ str          ┆ str          ┆   ┆ str          ┆ str       ┆ str        ┆ ---          │\n",
      "│              ┆ str          ┆              ┆              ┆   ┆              ┆           ┆            ┆ str          │\n",
      "╞══════════════╪══════════════╪══════════════╪══════════════╪═══╪══════════════╪═══════════╪════════════╪══════════════╡\n",
      "│ F96D5A74A3E4 ┆ electric_bik ┆ 2023-01-21   ┆ 2023-01-21   ┆ … ┆ -87.64627838 ┆ 41.93     ┆ -87.64     ┆ member       │\n",
      "│ 1399         ┆ e            ┆ 20:05:42     ┆ 20:16:33     ┆   ┆ 1            ┆           ┆            ┆              │\n",
      "│ 13CB7EB698CE ┆ classic_bike ┆ 2023-01-10   ┆ 2023-01-10   ┆ … ┆ -87.594747   ┆ 41.809835 ┆ -87.599383 ┆ member       │\n",
      "│ DB88         ┆              ┆ 15:37:36     ┆ 15:46:05     ┆   ┆              ┆           ┆            ┆              │\n",
      "│ BD88A2E67066 ┆ electric_bik ┆ 2023-01-02   ┆ 2023-01-02   ┆ … ┆ -87.69048283 ┆ 42.039742 ┆ -87.699413 ┆ casual       │\n",
      "│ 1CE5         ┆ e            ┆ 07:51:57     ┆ 08:05:11     ┆   ┆ 333333       ┆           ┆            ┆              │\n",
      "│ C90792D034FE ┆ classic_bike ┆ 2023-01-22   ┆ 2023-01-22   ┆ … ┆ -87.594747   ┆ 41.809835 ┆ -87.599383 ┆ member       │\n",
      "│ D968         ┆              ┆ 10:52:58     ┆ 11:01:44     ┆   ┆              ┆           ┆            ┆              │\n",
      "│ 339701752918 ┆ classic_bike ┆ 2023-01-12   ┆ 2023-01-12   ┆ … ┆ -87.594747   ┆ 41.809835 ┆ -87.599383 ┆ member       │\n",
      "│ 8E8A         ┆              ┆ 13:58:01     ┆ 14:13:20     ┆   ┆              ┆           ┆            ┆              │\n",
      "└──────────────┴──────────────┴──────────────┴──────────────┴───┴──────────────┴───────────┴────────────┴──────────────┘\n"
     ]
    }
   ],
   "source": [
    "import os\n",
    "import polars as pl\n",
    "\n",
    "# List of folder paths\n",
    "folder_paths = [\n",
    "    r\"C:\\Users\\Sowjanya\\OneDrive\\Desktop\\Capstone\\DATA_2023\"\n",
    "]\n",
    "\n",
    "# Create an empty list to store DataFrames\n",
    "dataframes = []\n",
    "\n",
    "# Loop through each folder\n",
    "for folder_path in folder_paths:\n",
    "    # Get a list of all CSV files in the folder\n",
    "    file_list = [f for f in os.listdir(folder_path) if f.endswith('.csv')]\n",
    "    \n",
    "    # Read each file and append to the list\n",
    "    for file in file_list:\n",
    "        file_path = os.path.join(folder_path, file)\n",
    "        df = pl.read_csv(file_path, infer_schema_length=1000)  # Increase schema inference\n",
    "        dataframes.append(df.with_columns([\n",
    "            pl.col(col).cast(pl.Utf8) for col in df.columns  # Convert all columns to string\n",
    "        ]))\n",
    "\n",
    "# Concatenate all DataFrames into one\n",
    "df_final = pl.concat(dataframes, how=\"vertical_relaxed\")  # Allow mismatched schemas\n",
    "\n",
    "# Display the first few rows\n",
    "print(df_final.head())"
   ]
  },
  {
   "cell_type": "code",
   "execution_count": 3,
   "id": "547bfdce-1980-48da-944f-3bff6825399d",
   "metadata": {},
   "outputs": [],
   "source": [
    "df = df_final.clone()"
   ]
  },
  {
   "cell_type": "code",
   "execution_count": 5,
   "id": "dd1a0f5f-ec0e-480c-8a13-494f7cd857ad",
   "metadata": {},
   "outputs": [
    {
     "data": {
      "text/html": [
       "<div><style>\n",
       ".dataframe > thead > tr,\n",
       ".dataframe > tbody > tr {\n",
       "  text-align: right;\n",
       "  white-space: pre-wrap;\n",
       "}\n",
       "</style>\n",
       "<small>shape: (5_719_877, 13)</small><table border=\"1\" class=\"dataframe\"><thead><tr><th>ride_id</th><th>rideable_type</th><th>started_at</th><th>ended_at</th><th>start_station_name</th><th>start_station_id</th><th>end_station_name</th><th>end_station_id</th><th>start_lat</th><th>start_lng</th><th>end_lat</th><th>end_lng</th><th>member_casual</th></tr><tr><td>str</td><td>str</td><td>str</td><td>str</td><td>str</td><td>str</td><td>str</td><td>str</td><td>str</td><td>str</td><td>str</td><td>str</td><td>str</td></tr></thead><tbody><tr><td>&quot;F96D5A74A3E41399&quot;</td><td>&quot;electric_bike&quot;</td><td>&quot;2023-01-21 20:05:42&quot;</td><td>&quot;2023-01-21 20:16:33&quot;</td><td>&quot;Lincoln Ave &amp; Fullerton Ave&quot;</td><td>&quot;TA1309000058&quot;</td><td>&quot;Hampden Ct &amp; Diversey Ave&quot;</td><td>&quot;202480.0&quot;</td><td>&quot;41.924073935&quot;</td><td>&quot;-87.646278381&quot;</td><td>&quot;41.93&quot;</td><td>&quot;-87.64&quot;</td><td>&quot;member&quot;</td></tr><tr><td>&quot;13CB7EB698CEDB88&quot;</td><td>&quot;classic_bike&quot;</td><td>&quot;2023-01-10 15:37:36&quot;</td><td>&quot;2023-01-10 15:46:05&quot;</td><td>&quot;Kimbark Ave &amp; 53rd St&quot;</td><td>&quot;TA1309000037&quot;</td><td>&quot;Greenwood Ave &amp; 47th St&quot;</td><td>&quot;TA1308000002&quot;</td><td>&quot;41.799568&quot;</td><td>&quot;-87.594747&quot;</td><td>&quot;41.809835&quot;</td><td>&quot;-87.599383&quot;</td><td>&quot;member&quot;</td></tr><tr><td>&quot;BD88A2E670661CE5&quot;</td><td>&quot;electric_bike&quot;</td><td>&quot;2023-01-02 07:51:57&quot;</td><td>&quot;2023-01-02 08:05:11&quot;</td><td>&quot;Western Ave &amp; Lunt Ave&quot;</td><td>&quot;RP-005&quot;</td><td>&quot;Valli Produce - Evanston Plaza&quot;</td><td>&quot;599&quot;</td><td>&quot;42.008571&quot;</td><td>&quot;-87.69048283333333&quot;</td><td>&quot;42.039742&quot;</td><td>&quot;-87.699413&quot;</td><td>&quot;casual&quot;</td></tr><tr><td>&quot;C90792D034FED968&quot;</td><td>&quot;classic_bike&quot;</td><td>&quot;2023-01-22 10:52:58&quot;</td><td>&quot;2023-01-22 11:01:44&quot;</td><td>&quot;Kimbark Ave &amp; 53rd St&quot;</td><td>&quot;TA1309000037&quot;</td><td>&quot;Greenwood Ave &amp; 47th St&quot;</td><td>&quot;TA1308000002&quot;</td><td>&quot;41.799568&quot;</td><td>&quot;-87.594747&quot;</td><td>&quot;41.809835&quot;</td><td>&quot;-87.599383&quot;</td><td>&quot;member&quot;</td></tr><tr><td>&quot;3397017529188E8A&quot;</td><td>&quot;classic_bike&quot;</td><td>&quot;2023-01-12 13:58:01&quot;</td><td>&quot;2023-01-12 14:13:20&quot;</td><td>&quot;Kimbark Ave &amp; 53rd St&quot;</td><td>&quot;TA1309000037&quot;</td><td>&quot;Greenwood Ave &amp; 47th St&quot;</td><td>&quot;TA1308000002&quot;</td><td>&quot;41.799568&quot;</td><td>&quot;-87.594747&quot;</td><td>&quot;41.809835&quot;</td><td>&quot;-87.599383&quot;</td><td>&quot;member&quot;</td></tr><tr><td>&hellip;</td><td>&hellip;</td><td>&hellip;</td><td>&hellip;</td><td>&hellip;</td><td>&hellip;</td><td>&hellip;</td><td>&hellip;</td><td>&hellip;</td><td>&hellip;</td><td>&hellip;</td><td>&hellip;</td><td>&hellip;</td></tr><tr><td>&quot;F74DF9549B504A6B&quot;</td><td>&quot;electric_bike&quot;</td><td>&quot;2023-12-07 13:15:24&quot;</td><td>&quot;2023-12-07 13:17:37&quot;</td><td>&quot;900 W Harrison St&quot;</td><td>&quot;13028&quot;</td><td>&quot;Racine Ave &amp; Congress Pkwy&quot;</td><td>&quot;TA1306000025&quot;</td><td>&quot;41.87470166666667&quot;</td><td>&quot;-87.64980383333334&quot;</td><td>&quot;41.87464&quot;</td><td>&quot;-87.65703&quot;</td><td>&quot;casual&quot;</td></tr><tr><td>&quot;BCDA66E761CC1029&quot;</td><td>&quot;classic_bike&quot;</td><td>&quot;2023-12-08 18:42:21&quot;</td><td>&quot;2023-12-08 18:45:56&quot;</td><td>&quot;900 W Harrison St&quot;</td><td>&quot;13028&quot;</td><td>&quot;Racine Ave &amp; Congress Pkwy&quot;</td><td>&quot;TA1306000025&quot;</td><td>&quot;41.874754&quot;</td><td>&quot;-87.649807&quot;</td><td>&quot;41.87464&quot;</td><td>&quot;-87.65703&quot;</td><td>&quot;casual&quot;</td></tr><tr><td>&quot;D2CF330F9C266683&quot;</td><td>&quot;classic_bike&quot;</td><td>&quot;2023-12-05 14:09:11&quot;</td><td>&quot;2023-12-05 14:13:01&quot;</td><td>&quot;900 W Harrison St&quot;</td><td>&quot;13028&quot;</td><td>&quot;Racine Ave &amp; Congress Pkwy&quot;</td><td>&quot;TA1306000025&quot;</td><td>&quot;41.874754&quot;</td><td>&quot;-87.649807&quot;</td><td>&quot;41.87464&quot;</td><td>&quot;-87.65703&quot;</td><td>&quot;member&quot;</td></tr><tr><td>&quot;3829A0D1E00EE970&quot;</td><td>&quot;electric_bike&quot;</td><td>&quot;2023-12-02 21:36:07&quot;</td><td>&quot;2023-12-02 21:53:45&quot;</td><td>&quot;Damen Ave &amp; Madison St&quot;</td><td>&quot;13134&quot;</td><td>&quot;Morgan St &amp; Lake St*&quot;</td><td>&quot;chargingstx4&quot;</td><td>&quot;41.881395499999996&quot;</td><td>&quot;-87.67498383333333&quot;</td><td>&quot;41.88549170626906&quot;</td><td>&quot;-87.65228927135468&quot;</td><td>&quot;casual&quot;</td></tr><tr><td>&quot;A373F5B447AEA508&quot;</td><td>&quot;classic_bike&quot;</td><td>&quot;2023-12-11 13:07:46&quot;</td><td>&quot;2023-12-11 13:11:24&quot;</td><td>&quot;900 W Harrison St&quot;</td><td>&quot;13028&quot;</td><td>&quot;Racine Ave &amp; Congress Pkwy&quot;</td><td>&quot;TA1306000025&quot;</td><td>&quot;41.874754&quot;</td><td>&quot;-87.649807&quot;</td><td>&quot;41.87464&quot;</td><td>&quot;-87.65703&quot;</td><td>&quot;member&quot;</td></tr></tbody></table></div>"
      ],
      "text/plain": [
       "shape: (5_719_877, 13)\n",
       "┌──────────────┬──────────────┬──────────────┬─────────────┬───┬─────────────┬─────────────┬─────────────┬─────────────┐\n",
       "│ ride_id      ┆ rideable_typ ┆ started_at   ┆ ended_at    ┆ … ┆ start_lng   ┆ end_lat     ┆ end_lng     ┆ member_casu │\n",
       "│ ---          ┆ e            ┆ ---          ┆ ---         ┆   ┆ ---         ┆ ---         ┆ ---         ┆ al          │\n",
       "│ str          ┆ ---          ┆ str          ┆ str         ┆   ┆ str         ┆ str         ┆ str         ┆ ---         │\n",
       "│              ┆ str          ┆              ┆             ┆   ┆             ┆             ┆             ┆ str         │\n",
       "╞══════════════╪══════════════╪══════════════╪═════════════╪═══╪═════════════╪═════════════╪═════════════╪═════════════╡\n",
       "│ F96D5A74A3E4 ┆ electric_bik ┆ 2023-01-21   ┆ 2023-01-21  ┆ … ┆ -87.6462783 ┆ 41.93       ┆ -87.64      ┆ member      │\n",
       "│ 1399         ┆ e            ┆ 20:05:42     ┆ 20:16:33    ┆   ┆ 81          ┆             ┆             ┆             │\n",
       "│ 13CB7EB698CE ┆ classic_bike ┆ 2023-01-10   ┆ 2023-01-10  ┆ … ┆ -87.594747  ┆ 41.809835   ┆ -87.599383  ┆ member      │\n",
       "│ DB88         ┆              ┆ 15:37:36     ┆ 15:46:05    ┆   ┆             ┆             ┆             ┆             │\n",
       "│ BD88A2E67066 ┆ electric_bik ┆ 2023-01-02   ┆ 2023-01-02  ┆ … ┆ -87.6904828 ┆ 42.039742   ┆ -87.699413  ┆ casual      │\n",
       "│ 1CE5         ┆ e            ┆ 07:51:57     ┆ 08:05:11    ┆   ┆ 3333333     ┆             ┆             ┆             │\n",
       "│ C90792D034FE ┆ classic_bike ┆ 2023-01-22   ┆ 2023-01-22  ┆ … ┆ -87.594747  ┆ 41.809835   ┆ -87.599383  ┆ member      │\n",
       "│ D968         ┆              ┆ 10:52:58     ┆ 11:01:44    ┆   ┆             ┆             ┆             ┆             │\n",
       "│ 339701752918 ┆ classic_bike ┆ 2023-01-12   ┆ 2023-01-12  ┆ … ┆ -87.594747  ┆ 41.809835   ┆ -87.599383  ┆ member      │\n",
       "│ 8E8A         ┆              ┆ 13:58:01     ┆ 14:13:20    ┆   ┆             ┆             ┆             ┆             │\n",
       "│ …            ┆ …            ┆ …            ┆ …           ┆ … ┆ …           ┆ …           ┆ …           ┆ …           │\n",
       "│ F74DF9549B50 ┆ electric_bik ┆ 2023-12-07   ┆ 2023-12-07  ┆ … ┆ -87.6498038 ┆ 41.87464    ┆ -87.65703   ┆ casual      │\n",
       "│ 4A6B         ┆ e            ┆ 13:15:24     ┆ 13:17:37    ┆   ┆ 3333334     ┆             ┆             ┆             │\n",
       "│ BCDA66E761CC ┆ classic_bike ┆ 2023-12-08   ┆ 2023-12-08  ┆ … ┆ -87.649807  ┆ 41.87464    ┆ -87.65703   ┆ casual      │\n",
       "│ 1029         ┆              ┆ 18:42:21     ┆ 18:45:56    ┆   ┆             ┆             ┆             ┆             │\n",
       "│ D2CF330F9C26 ┆ classic_bike ┆ 2023-12-05   ┆ 2023-12-05  ┆ … ┆ -87.649807  ┆ 41.87464    ┆ -87.65703   ┆ member      │\n",
       "│ 6683         ┆              ┆ 14:09:11     ┆ 14:13:01    ┆   ┆             ┆             ┆             ┆             │\n",
       "│ 3829A0D1E00E ┆ electric_bik ┆ 2023-12-02   ┆ 2023-12-02  ┆ … ┆ -87.6749838 ┆ 41.88549170 ┆ -87.6522892 ┆ casual      │\n",
       "│ E970         ┆ e            ┆ 21:36:07     ┆ 21:53:45    ┆   ┆ 3333333     ┆ 626906      ┆ 7135468     ┆             │\n",
       "│ A373F5B447AE ┆ classic_bike ┆ 2023-12-11   ┆ 2023-12-11  ┆ … ┆ -87.649807  ┆ 41.87464    ┆ -87.65703   ┆ member      │\n",
       "│ A508         ┆              ┆ 13:07:46     ┆ 13:11:24    ┆   ┆             ┆             ┆             ┆             │\n",
       "└──────────────┴──────────────┴──────────────┴─────────────┴───┴─────────────┴─────────────┴─────────────┴─────────────┘"
      ]
     },
     "execution_count": 5,
     "metadata": {},
     "output_type": "execute_result"
    }
   ],
   "source": [
    "df"
   ]
  },
  {
   "cell_type": "code",
   "execution_count": 7,
   "id": "d0532abc-7dfe-4e6d-b5eb-ed88bf8fb1c7",
   "metadata": {},
   "outputs": [
    {
     "name": "stdout",
     "output_type": "stream",
     "text": [
      "shape: (1, 13)\n",
      "┌─────────┬───────────────┬────────────┬──────────┬───┬───────────┬─────────┬─────────┬───────────────┐\n",
      "│ ride_id ┆ rideable_type ┆ started_at ┆ ended_at ┆ … ┆ start_lng ┆ end_lat ┆ end_lng ┆ member_casual │\n",
      "│ ---     ┆ ---           ┆ ---        ┆ ---      ┆   ┆ ---       ┆ ---     ┆ ---     ┆ ---           │\n",
      "│ u32     ┆ u32           ┆ u32        ┆ u32      ┆   ┆ u32       ┆ u32     ┆ u32     ┆ u32           │\n",
      "╞═════════╪═══════════════╪════════════╪══════════╪═══╪═══════════╪═════════╪═════════╪═══════════════╡\n",
      "│ 0       ┆ 0             ┆ 0          ┆ 0        ┆ … ┆ 0         ┆ 6990    ┆ 6990    ┆ 0             │\n",
      "└─────────┴───────────────┴────────────┴──────────┴───┴───────────┴─────────┴─────────┴───────────────┘\n"
     ]
    }
   ],
   "source": [
    "# Step 1: Count missing values in each column\n",
    "missing_values = df.null_count()\n",
    "print(missing_values)"
   ]
  },
  {
   "cell_type": "code",
   "execution_count": 9,
   "id": "b09e57e6-fde8-4245-a799-d20db69d2275",
   "metadata": {},
   "outputs": [
    {
     "name": "stdout",
     "output_type": "stream",
     "text": [
      "Number of removed records: 6990\n",
      "\n",
      "Records removed (stored separately):\n",
      "shape: (6_990, 13)\n",
      "┌───────────────┬───────────────┬───────────────┬───────────────┬───┬───────────────┬─────────┬─────────┬──────────────┐\n",
      "│ ride_id       ┆ rideable_type ┆ started_at    ┆ ended_at      ┆ … ┆ start_lng     ┆ end_lat ┆ end_lng ┆ member_casua │\n",
      "│ ---           ┆ ---           ┆ ---           ┆ ---           ┆   ┆ ---           ┆ ---     ┆ ---     ┆ l            │\n",
      "│ str           ┆ str           ┆ str           ┆ str           ┆   ┆ str           ┆ str     ┆ str     ┆ ---          │\n",
      "│               ┆               ┆               ┆               ┆   ┆               ┆         ┆         ┆ str          │\n",
      "╞═══════════════╪═══════════════╪═══════════════╪═══════════════╪═══╪═══════════════╪═════════╪═════════╪══════════════╡\n",
      "│ 1FB8FE3600279 ┆ classic_bike  ┆ 2023-01-01    ┆ 2023-01-02    ┆ … ┆ -87.627844    ┆ null    ┆ null    ┆ casual       │\n",
      "│ 846           ┆               ┆ 04:45:39      ┆ 05:45:28      ┆   ┆               ┆         ┆         ┆              │\n",
      "│ 08D63AE5147A8 ┆ docked_bike   ┆ 2023-01-09    ┆ 2023-01-15    ┆ … ┆ -87.623041    ┆ null    ┆ null    ┆ casual       │\n",
      "│ A12           ┆               ┆ 14:20:41      ┆ 04:19:09      ┆   ┆               ┆         ┆         ┆              │\n",
      "│ BEEB2B851275B ┆ classic_bike  ┆ 2023-01-30    ┆ 2023-01-31    ┆ … ┆ -87.627542    ┆ null    ┆ null    ┆ member       │\n",
      "│ BEE           ┆               ┆ 13:24:22      ┆ 14:24:09      ┆   ┆               ┆         ┆         ┆              │\n",
      "│ 758F82A4444D0 ┆ classic_bike  ┆ 2023-01-31    ┆ 2023-02-01    ┆ … ┆ -87.647071    ┆ null    ┆ null    ┆ casual       │\n",
      "│ DF3           ┆               ┆ 09:21:10      ┆ 10:21:02      ┆   ┆               ┆         ┆         ┆              │\n",
      "│ 45125F6E88AD0 ┆ docked_bike   ┆ 2023-01-07    ┆ 2023-01-08    ┆ … ┆ -87.618617    ┆ null    ┆ null    ┆ casual       │\n",
      "│ 535           ┆               ┆ 12:52:32      ┆ 06:47:21      ┆   ┆               ┆         ┆         ┆              │\n",
      "│ …             ┆ …             ┆ …             ┆ …             ┆ … ┆ …             ┆ …       ┆ …       ┆ …            │\n",
      "│ 18E825ADABAD1 ┆ classic_bike  ┆ 2023-12-08    ┆ 2023-12-09    ┆ … ┆ -87.649807    ┆ null    ┆ null    ┆ member       │\n",
      "│ B5C           ┆               ┆ 13:16:13      ┆ 14:15:52      ┆   ┆               ┆         ┆         ┆              │\n",
      "│ 91197C232691F ┆ classic_bike  ┆ 2023-12-21    ┆ 2023-12-22    ┆ … ┆ -87.67493     ┆ null    ┆ null    ┆ casual       │\n",
      "│ 477           ┆               ┆ 21:13:52      ┆ 22:13:48      ┆   ┆               ┆         ┆         ┆              │\n",
      "│ A7FE81D56A8D5 ┆ classic_bike  ┆ 2023-12-21    ┆ 2023-12-22    ┆ … ┆ -87.67493     ┆ null    ┆ null    ┆ casual       │\n",
      "│ 85E           ┆               ┆ 21:14:03      ┆ 22:13:59      ┆   ┆               ┆         ┆         ┆              │\n",
      "│ A9263FEA12A3B ┆ classic_bike  ┆ 2023-12-21    ┆ 2023-12-22    ┆ … ┆ -87.67493     ┆ null    ┆ null    ┆ casual       │\n",
      "│ 554           ┆               ┆ 21:13:48      ┆ 22:13:40      ┆   ┆               ┆         ┆         ┆              │\n",
      "│ E22F3355952F4 ┆ classic_bike  ┆ 2023-12-04    ┆ 2023-12-05    ┆ … ┆ -87.621757686 ┆ null    ┆ null    ┆ casual       │\n",
      "│ EB6           ┆               ┆ 12:41:15      ┆ 13:41:06      ┆   ┆ 13815         ┆         ┆         ┆              │\n",
      "└───────────────┴───────────────┴───────────────┴───────────────┴───┴───────────────┴─────────┴─────────┴──────────────┘\n",
      "\n",
      "Updated DataFrame after removal:\n",
      "shape: (5_712_887, 13)\n",
      "┌──────────────┬──────────────┬──────────────┬─────────────┬───┬─────────────┬─────────────┬─────────────┬─────────────┐\n",
      "│ ride_id      ┆ rideable_typ ┆ started_at   ┆ ended_at    ┆ … ┆ start_lng   ┆ end_lat     ┆ end_lng     ┆ member_casu │\n",
      "│ ---          ┆ e            ┆ ---          ┆ ---         ┆   ┆ ---         ┆ ---         ┆ ---         ┆ al          │\n",
      "│ str          ┆ ---          ┆ str          ┆ str         ┆   ┆ str         ┆ str         ┆ str         ┆ ---         │\n",
      "│              ┆ str          ┆              ┆             ┆   ┆             ┆             ┆             ┆ str         │\n",
      "╞══════════════╪══════════════╪══════════════╪═════════════╪═══╪═════════════╪═════════════╪═════════════╪═════════════╡\n",
      "│ F96D5A74A3E4 ┆ electric_bik ┆ 2023-01-21   ┆ 2023-01-21  ┆ … ┆ -87.6462783 ┆ 41.93       ┆ -87.64      ┆ member      │\n",
      "│ 1399         ┆ e            ┆ 20:05:42     ┆ 20:16:33    ┆   ┆ 81          ┆             ┆             ┆             │\n",
      "│ 13CB7EB698CE ┆ classic_bike ┆ 2023-01-10   ┆ 2023-01-10  ┆ … ┆ -87.594747  ┆ 41.809835   ┆ -87.599383  ┆ member      │\n",
      "│ DB88         ┆              ┆ 15:37:36     ┆ 15:46:05    ┆   ┆             ┆             ┆             ┆             │\n",
      "│ BD88A2E67066 ┆ electric_bik ┆ 2023-01-02   ┆ 2023-01-02  ┆ … ┆ -87.6904828 ┆ 42.039742   ┆ -87.699413  ┆ casual      │\n",
      "│ 1CE5         ┆ e            ┆ 07:51:57     ┆ 08:05:11    ┆   ┆ 3333333     ┆             ┆             ┆             │\n",
      "│ C90792D034FE ┆ classic_bike ┆ 2023-01-22   ┆ 2023-01-22  ┆ … ┆ -87.594747  ┆ 41.809835   ┆ -87.599383  ┆ member      │\n",
      "│ D968         ┆              ┆ 10:52:58     ┆ 11:01:44    ┆   ┆             ┆             ┆             ┆             │\n",
      "│ 339701752918 ┆ classic_bike ┆ 2023-01-12   ┆ 2023-01-12  ┆ … ┆ -87.594747  ┆ 41.809835   ┆ -87.599383  ┆ member      │\n",
      "│ 8E8A         ┆              ┆ 13:58:01     ┆ 14:13:20    ┆   ┆             ┆             ┆             ┆             │\n",
      "│ …            ┆ …            ┆ …            ┆ …           ┆ … ┆ …           ┆ …           ┆ …           ┆ …           │\n",
      "│ F74DF9549B50 ┆ electric_bik ┆ 2023-12-07   ┆ 2023-12-07  ┆ … ┆ -87.6498038 ┆ 41.87464    ┆ -87.65703   ┆ casual      │\n",
      "│ 4A6B         ┆ e            ┆ 13:15:24     ┆ 13:17:37    ┆   ┆ 3333334     ┆             ┆             ┆             │\n",
      "│ BCDA66E761CC ┆ classic_bike ┆ 2023-12-08   ┆ 2023-12-08  ┆ … ┆ -87.649807  ┆ 41.87464    ┆ -87.65703   ┆ casual      │\n",
      "│ 1029         ┆              ┆ 18:42:21     ┆ 18:45:56    ┆   ┆             ┆             ┆             ┆             │\n",
      "│ D2CF330F9C26 ┆ classic_bike ┆ 2023-12-05   ┆ 2023-12-05  ┆ … ┆ -87.649807  ┆ 41.87464    ┆ -87.65703   ┆ member      │\n",
      "│ 6683         ┆              ┆ 14:09:11     ┆ 14:13:01    ┆   ┆             ┆             ┆             ┆             │\n",
      "│ 3829A0D1E00E ┆ electric_bik ┆ 2023-12-02   ┆ 2023-12-02  ┆ … ┆ -87.6749838 ┆ 41.88549170 ┆ -87.6522892 ┆ casual      │\n",
      "│ E970         ┆ e            ┆ 21:36:07     ┆ 21:53:45    ┆   ┆ 3333333     ┆ 626906      ┆ 7135468     ┆             │\n",
      "│ A373F5B447AE ┆ classic_bike ┆ 2023-12-11   ┆ 2023-12-11  ┆ … ┆ -87.649807  ┆ 41.87464    ┆ -87.65703   ┆ member      │\n",
      "│ A508         ┆              ┆ 13:07:46     ┆ 13:11:24    ┆   ┆             ┆             ┆             ┆             │\n",
      "└──────────────┴──────────────┴──────────────┴─────────────┴───┴─────────────┴─────────────┴─────────────┴─────────────┘\n"
     ]
    }
   ],
   "source": [
    "# Step 2: Identify and store records where both 'end_lat' and 'end_lng' are null\n",
    "missing_end_lat_lng = df.filter(pl.col(\"end_lat\").is_null() & pl.col(\"end_lng\").is_null()).clone()\n",
    "\n",
    "# Step 3: Remove these records from the original DataFrame\n",
    "df_cleaned = df.drop_nulls(subset=[\"end_lat\", \"end_lng\"])\n",
    "\n",
    "# Display results\n",
    "print(f\"Number of removed records: {missing_end_lat_lng.shape[0]}\")\n",
    "print(\"\\nRecords removed (stored separately):\")\n",
    "print(missing_end_lat_lng)\n",
    "\n",
    "print(\"\\nUpdated DataFrame after removal:\")\n",
    "print(df_cleaned)"
   ]
  },
  {
   "cell_type": "code",
   "execution_count": 11,
   "id": "be50f9d1-fc2c-4c3a-84af-61e859b9b6ef",
   "metadata": {},
   "outputs": [],
   "source": [
    "df_cleaned = df_cleaned.with_columns(\n",
    "    pl.col(\"started_at\").str.split(\" \").alias(\"split_col\")\n",
    ").with_columns(\n",
    "    pl.col(\"split_col\").list.get(0).alias(\"start_date\"),\n",
    "    pl.col(\"split_col\").list.get(1).alias(\"start_time\")\n",
    ").drop(\"split_col\")  # Optional: Remove the temporary column"
   ]
  },
  {
   "cell_type": "code",
   "execution_count": 13,
   "id": "a8884c73-13d5-4e34-b13c-85889d740bcf",
   "metadata": {},
   "outputs": [],
   "source": [
    "# Split 'started_at' into 'start_date' and 'start_time'\n",
    "df_cleaned = df_cleaned.with_columns(\n",
    "    pl.col(\"started_at\").str.split(\" \").alias(\"split_start\")\n",
    ").with_columns(\n",
    "    pl.col(\"split_start\").list.get(0).alias(\"start_date\"),\n",
    "    pl.col(\"split_start\").list.get(1).alias(\"start_time\")\n",
    ").drop(\"split_start\")  # Optional cleanup\n",
    "\n",
    "# Remove milliseconds from 'start_time'\n",
    "df_cleaned = df_cleaned.with_columns(\n",
    "    pl.col(\"start_time\").str.split(\".\").list.get(0)\n",
    ")\n",
    "\n",
    "# Convert 'start_date' and 'start_time' to datetime\n",
    "df_cleaned = df_cleaned.with_columns(\n",
    "    (pl.col(\"start_date\") + \" \" + pl.col(\"start_time\")).str.strptime(pl.Datetime, \"%Y-%m-%d %H:%M:%S\").alias(\"started_at\")\n",
    ")\n",
    "\n",
    "# Split 'ended_at' into 'end_date' and 'end_time'\n",
    "df_cleaned = df_cleaned.with_columns(\n",
    "    pl.col(\"ended_at\").str.split(\" \").alias(\"split_end\")\n",
    ").with_columns(\n",
    "    pl.col(\"split_end\").list.get(0).alias(\"end_date\"),\n",
    "    pl.col(\"split_end\").list.get(1).alias(\"end_time\")\n",
    ").drop(\"split_end\")  # Optional cleanup\n",
    "\n",
    "# Remove milliseconds from 'end_time'\n",
    "df_cleaned = df_cleaned.with_columns(\n",
    "    pl.col(\"end_time\").str.split(\".\").list.get(0)\n",
    ")\n"
   ]
  },
  {
   "cell_type": "code",
   "execution_count": 15,
   "id": "54ed8ea7-ac2a-4328-8549-93f9b5d469ed",
   "metadata": {},
   "outputs": [],
   "source": [
    "# Convert 'start_date' and 'start_time' to datetime\n",
    "df_cleaned = df_cleaned.with_columns(\n",
    "    (pl.col(\"end_date\") + \" \" + pl.col(\"end_time\")).str.strptime(pl.Datetime, \"%Y-%m-%d %H:%M:%S\").alias(\"ended_at\")\n",
    ")"
   ]
  },
  {
   "cell_type": "code",
   "execution_count": 17,
   "id": "ad7ca86e-48a1-42d6-8561-a2ef11fdab8c",
   "metadata": {},
   "outputs": [
    {
     "data": {
      "text/html": [
       "<div><style>\n",
       ".dataframe > thead > tr,\n",
       ".dataframe > tbody > tr {\n",
       "  text-align: right;\n",
       "  white-space: pre-wrap;\n",
       "}\n",
       "</style>\n",
       "<small>shape: (5_712_887, 17)</small><table border=\"1\" class=\"dataframe\"><thead><tr><th>ride_id</th><th>rideable_type</th><th>started_at</th><th>ended_at</th><th>start_station_name</th><th>start_station_id</th><th>end_station_name</th><th>end_station_id</th><th>start_lat</th><th>start_lng</th><th>end_lat</th><th>end_lng</th><th>member_casual</th><th>start_date</th><th>start_time</th><th>end_date</th><th>end_time</th></tr><tr><td>str</td><td>str</td><td>datetime[μs]</td><td>datetime[μs]</td><td>str</td><td>str</td><td>str</td><td>str</td><td>str</td><td>str</td><td>str</td><td>str</td><td>str</td><td>str</td><td>str</td><td>str</td><td>str</td></tr></thead><tbody><tr><td>&quot;F96D5A74A3E41399&quot;</td><td>&quot;electric_bike&quot;</td><td>2023-01-21 20:05:42</td><td>2023-01-21 20:16:33</td><td>&quot;Lincoln Ave &amp; Fullerton Ave&quot;</td><td>&quot;TA1309000058&quot;</td><td>&quot;Hampden Ct &amp; Diversey Ave&quot;</td><td>&quot;202480.0&quot;</td><td>&quot;41.924073935&quot;</td><td>&quot;-87.646278381&quot;</td><td>&quot;41.93&quot;</td><td>&quot;-87.64&quot;</td><td>&quot;member&quot;</td><td>&quot;2023-01-21&quot;</td><td>&quot;20:05:42&quot;</td><td>&quot;2023-01-21&quot;</td><td>&quot;20:16:33&quot;</td></tr><tr><td>&quot;13CB7EB698CEDB88&quot;</td><td>&quot;classic_bike&quot;</td><td>2023-01-10 15:37:36</td><td>2023-01-10 15:46:05</td><td>&quot;Kimbark Ave &amp; 53rd St&quot;</td><td>&quot;TA1309000037&quot;</td><td>&quot;Greenwood Ave &amp; 47th St&quot;</td><td>&quot;TA1308000002&quot;</td><td>&quot;41.799568&quot;</td><td>&quot;-87.594747&quot;</td><td>&quot;41.809835&quot;</td><td>&quot;-87.599383&quot;</td><td>&quot;member&quot;</td><td>&quot;2023-01-10&quot;</td><td>&quot;15:37:36&quot;</td><td>&quot;2023-01-10&quot;</td><td>&quot;15:46:05&quot;</td></tr><tr><td>&quot;BD88A2E670661CE5&quot;</td><td>&quot;electric_bike&quot;</td><td>2023-01-02 07:51:57</td><td>2023-01-02 08:05:11</td><td>&quot;Western Ave &amp; Lunt Ave&quot;</td><td>&quot;RP-005&quot;</td><td>&quot;Valli Produce - Evanston Plaza&quot;</td><td>&quot;599&quot;</td><td>&quot;42.008571&quot;</td><td>&quot;-87.69048283333333&quot;</td><td>&quot;42.039742&quot;</td><td>&quot;-87.699413&quot;</td><td>&quot;casual&quot;</td><td>&quot;2023-01-02&quot;</td><td>&quot;07:51:57&quot;</td><td>&quot;2023-01-02&quot;</td><td>&quot;08:05:11&quot;</td></tr><tr><td>&quot;C90792D034FED968&quot;</td><td>&quot;classic_bike&quot;</td><td>2023-01-22 10:52:58</td><td>2023-01-22 11:01:44</td><td>&quot;Kimbark Ave &amp; 53rd St&quot;</td><td>&quot;TA1309000037&quot;</td><td>&quot;Greenwood Ave &amp; 47th St&quot;</td><td>&quot;TA1308000002&quot;</td><td>&quot;41.799568&quot;</td><td>&quot;-87.594747&quot;</td><td>&quot;41.809835&quot;</td><td>&quot;-87.599383&quot;</td><td>&quot;member&quot;</td><td>&quot;2023-01-22&quot;</td><td>&quot;10:52:58&quot;</td><td>&quot;2023-01-22&quot;</td><td>&quot;11:01:44&quot;</td></tr><tr><td>&quot;3397017529188E8A&quot;</td><td>&quot;classic_bike&quot;</td><td>2023-01-12 13:58:01</td><td>2023-01-12 14:13:20</td><td>&quot;Kimbark Ave &amp; 53rd St&quot;</td><td>&quot;TA1309000037&quot;</td><td>&quot;Greenwood Ave &amp; 47th St&quot;</td><td>&quot;TA1308000002&quot;</td><td>&quot;41.799568&quot;</td><td>&quot;-87.594747&quot;</td><td>&quot;41.809835&quot;</td><td>&quot;-87.599383&quot;</td><td>&quot;member&quot;</td><td>&quot;2023-01-12&quot;</td><td>&quot;13:58:01&quot;</td><td>&quot;2023-01-12&quot;</td><td>&quot;14:13:20&quot;</td></tr><tr><td>&hellip;</td><td>&hellip;</td><td>&hellip;</td><td>&hellip;</td><td>&hellip;</td><td>&hellip;</td><td>&hellip;</td><td>&hellip;</td><td>&hellip;</td><td>&hellip;</td><td>&hellip;</td><td>&hellip;</td><td>&hellip;</td><td>&hellip;</td><td>&hellip;</td><td>&hellip;</td><td>&hellip;</td></tr><tr><td>&quot;F74DF9549B504A6B&quot;</td><td>&quot;electric_bike&quot;</td><td>2023-12-07 13:15:24</td><td>2023-12-07 13:17:37</td><td>&quot;900 W Harrison St&quot;</td><td>&quot;13028&quot;</td><td>&quot;Racine Ave &amp; Congress Pkwy&quot;</td><td>&quot;TA1306000025&quot;</td><td>&quot;41.87470166666667&quot;</td><td>&quot;-87.64980383333334&quot;</td><td>&quot;41.87464&quot;</td><td>&quot;-87.65703&quot;</td><td>&quot;casual&quot;</td><td>&quot;2023-12-07&quot;</td><td>&quot;13:15:24&quot;</td><td>&quot;2023-12-07&quot;</td><td>&quot;13:17:37&quot;</td></tr><tr><td>&quot;BCDA66E761CC1029&quot;</td><td>&quot;classic_bike&quot;</td><td>2023-12-08 18:42:21</td><td>2023-12-08 18:45:56</td><td>&quot;900 W Harrison St&quot;</td><td>&quot;13028&quot;</td><td>&quot;Racine Ave &amp; Congress Pkwy&quot;</td><td>&quot;TA1306000025&quot;</td><td>&quot;41.874754&quot;</td><td>&quot;-87.649807&quot;</td><td>&quot;41.87464&quot;</td><td>&quot;-87.65703&quot;</td><td>&quot;casual&quot;</td><td>&quot;2023-12-08&quot;</td><td>&quot;18:42:21&quot;</td><td>&quot;2023-12-08&quot;</td><td>&quot;18:45:56&quot;</td></tr><tr><td>&quot;D2CF330F9C266683&quot;</td><td>&quot;classic_bike&quot;</td><td>2023-12-05 14:09:11</td><td>2023-12-05 14:13:01</td><td>&quot;900 W Harrison St&quot;</td><td>&quot;13028&quot;</td><td>&quot;Racine Ave &amp; Congress Pkwy&quot;</td><td>&quot;TA1306000025&quot;</td><td>&quot;41.874754&quot;</td><td>&quot;-87.649807&quot;</td><td>&quot;41.87464&quot;</td><td>&quot;-87.65703&quot;</td><td>&quot;member&quot;</td><td>&quot;2023-12-05&quot;</td><td>&quot;14:09:11&quot;</td><td>&quot;2023-12-05&quot;</td><td>&quot;14:13:01&quot;</td></tr><tr><td>&quot;3829A0D1E00EE970&quot;</td><td>&quot;electric_bike&quot;</td><td>2023-12-02 21:36:07</td><td>2023-12-02 21:53:45</td><td>&quot;Damen Ave &amp; Madison St&quot;</td><td>&quot;13134&quot;</td><td>&quot;Morgan St &amp; Lake St*&quot;</td><td>&quot;chargingstx4&quot;</td><td>&quot;41.881395499999996&quot;</td><td>&quot;-87.67498383333333&quot;</td><td>&quot;41.88549170626906&quot;</td><td>&quot;-87.65228927135468&quot;</td><td>&quot;casual&quot;</td><td>&quot;2023-12-02&quot;</td><td>&quot;21:36:07&quot;</td><td>&quot;2023-12-02&quot;</td><td>&quot;21:53:45&quot;</td></tr><tr><td>&quot;A373F5B447AEA508&quot;</td><td>&quot;classic_bike&quot;</td><td>2023-12-11 13:07:46</td><td>2023-12-11 13:11:24</td><td>&quot;900 W Harrison St&quot;</td><td>&quot;13028&quot;</td><td>&quot;Racine Ave &amp; Congress Pkwy&quot;</td><td>&quot;TA1306000025&quot;</td><td>&quot;41.874754&quot;</td><td>&quot;-87.649807&quot;</td><td>&quot;41.87464&quot;</td><td>&quot;-87.65703&quot;</td><td>&quot;member&quot;</td><td>&quot;2023-12-11&quot;</td><td>&quot;13:07:46&quot;</td><td>&quot;2023-12-11&quot;</td><td>&quot;13:11:24&quot;</td></tr></tbody></table></div>"
      ],
      "text/plain": [
       "shape: (5_712_887, 17)\n",
       "┌────────────────┬───────────────┬───────────────┬───────────────┬───┬────────────┬────────────┬────────────┬──────────┐\n",
       "│ ride_id        ┆ rideable_type ┆ started_at    ┆ ended_at      ┆ … ┆ start_date ┆ start_time ┆ end_date   ┆ end_time │\n",
       "│ ---            ┆ ---           ┆ ---           ┆ ---           ┆   ┆ ---        ┆ ---        ┆ ---        ┆ ---      │\n",
       "│ str            ┆ str           ┆ datetime[μs]  ┆ datetime[μs]  ┆   ┆ str        ┆ str        ┆ str        ┆ str      │\n",
       "╞════════════════╪═══════════════╪═══════════════╪═══════════════╪═══╪════════════╪════════════╪════════════╪══════════╡\n",
       "│ F96D5A74A3E413 ┆ electric_bike ┆ 2023-01-21    ┆ 2023-01-21    ┆ … ┆ 2023-01-21 ┆ 20:05:42   ┆ 2023-01-21 ┆ 20:16:33 │\n",
       "│ 99             ┆               ┆ 20:05:42      ┆ 20:16:33      ┆   ┆            ┆            ┆            ┆          │\n",
       "│ 13CB7EB698CEDB ┆ classic_bike  ┆ 2023-01-10    ┆ 2023-01-10    ┆ … ┆ 2023-01-10 ┆ 15:37:36   ┆ 2023-01-10 ┆ 15:46:05 │\n",
       "│ 88             ┆               ┆ 15:37:36      ┆ 15:46:05      ┆   ┆            ┆            ┆            ┆          │\n",
       "│ BD88A2E670661C ┆ electric_bike ┆ 2023-01-02    ┆ 2023-01-02    ┆ … ┆ 2023-01-02 ┆ 07:51:57   ┆ 2023-01-02 ┆ 08:05:11 │\n",
       "│ E5             ┆               ┆ 07:51:57      ┆ 08:05:11      ┆   ┆            ┆            ┆            ┆          │\n",
       "│ C90792D034FED9 ┆ classic_bike  ┆ 2023-01-22    ┆ 2023-01-22    ┆ … ┆ 2023-01-22 ┆ 10:52:58   ┆ 2023-01-22 ┆ 11:01:44 │\n",
       "│ 68             ┆               ┆ 10:52:58      ┆ 11:01:44      ┆   ┆            ┆            ┆            ┆          │\n",
       "│ 3397017529188E ┆ classic_bike  ┆ 2023-01-12    ┆ 2023-01-12    ┆ … ┆ 2023-01-12 ┆ 13:58:01   ┆ 2023-01-12 ┆ 14:13:20 │\n",
       "│ 8A             ┆               ┆ 13:58:01      ┆ 14:13:20      ┆   ┆            ┆            ┆            ┆          │\n",
       "│ …              ┆ …             ┆ …             ┆ …             ┆ … ┆ …          ┆ …          ┆ …          ┆ …        │\n",
       "│ F74DF9549B504A ┆ electric_bike ┆ 2023-12-07    ┆ 2023-12-07    ┆ … ┆ 2023-12-07 ┆ 13:15:24   ┆ 2023-12-07 ┆ 13:17:37 │\n",
       "│ 6B             ┆               ┆ 13:15:24      ┆ 13:17:37      ┆   ┆            ┆            ┆            ┆          │\n",
       "│ BCDA66E761CC10 ┆ classic_bike  ┆ 2023-12-08    ┆ 2023-12-08    ┆ … ┆ 2023-12-08 ┆ 18:42:21   ┆ 2023-12-08 ┆ 18:45:56 │\n",
       "│ 29             ┆               ┆ 18:42:21      ┆ 18:45:56      ┆   ┆            ┆            ┆            ┆          │\n",
       "│ D2CF330F9C2666 ┆ classic_bike  ┆ 2023-12-05    ┆ 2023-12-05    ┆ … ┆ 2023-12-05 ┆ 14:09:11   ┆ 2023-12-05 ┆ 14:13:01 │\n",
       "│ 83             ┆               ┆ 14:09:11      ┆ 14:13:01      ┆   ┆            ┆            ┆            ┆          │\n",
       "│ 3829A0D1E00EE9 ┆ electric_bike ┆ 2023-12-02    ┆ 2023-12-02    ┆ … ┆ 2023-12-02 ┆ 21:36:07   ┆ 2023-12-02 ┆ 21:53:45 │\n",
       "│ 70             ┆               ┆ 21:36:07      ┆ 21:53:45      ┆   ┆            ┆            ┆            ┆          │\n",
       "│ A373F5B447AEA5 ┆ classic_bike  ┆ 2023-12-11    ┆ 2023-12-11    ┆ … ┆ 2023-12-11 ┆ 13:07:46   ┆ 2023-12-11 ┆ 13:11:24 │\n",
       "│ 08             ┆               ┆ 13:07:46      ┆ 13:11:24      ┆   ┆            ┆            ┆            ┆          │\n",
       "└────────────────┴───────────────┴───────────────┴───────────────┴───┴────────────┴────────────┴────────────┴──────────┘"
      ]
     },
     "execution_count": 17,
     "metadata": {},
     "output_type": "execute_result"
    }
   ],
   "source": [
    "df_cleaned"
   ]
  },
  {
   "cell_type": "code",
   "execution_count": 19,
   "id": "304e6ccd-081f-4f1d-979e-55f6aaff6b4d",
   "metadata": {},
   "outputs": [],
   "source": [
    "df_cleaned = df_cleaned.drop([\"start_station_id\", \"end_station_id\"])\n"
   ]
  },
  {
   "cell_type": "code",
   "execution_count": 21,
   "id": "a3c98e6a-a9fd-4dbf-9ddd-72e453acad38",
   "metadata": {},
   "outputs": [],
   "source": [
    "df_cleaned = df_cleaned.with_columns(\n",
    "    (pl.col(\"ended_at\") - pl.col(\"started_at\")).alias(\"duration\")\n",
    ")\n"
   ]
  },
  {
   "cell_type": "code",
   "execution_count": 23,
   "id": "03f33bc4-3751-4131-95ab-4921a517a5ff",
   "metadata": {},
   "outputs": [
    {
     "name": "stdout",
     "output_type": "stream",
     "text": [
      "shape: (263_289, 16)\n",
      "┌───────────────┬───────────────┬───────────────┬──────────────┬───┬────────────┬────────────┬──────────┬──────────────┐\n",
      "│ ride_id       ┆ rideable_type ┆ started_at    ┆ ended_at     ┆ … ┆ start_time ┆ end_date   ┆ end_time ┆ duration     │\n",
      "│ ---           ┆ ---           ┆ ---           ┆ ---          ┆   ┆ ---        ┆ ---        ┆ ---      ┆ ---          │\n",
      "│ str           ┆ str           ┆ datetime[μs]  ┆ datetime[μs] ┆   ┆ str        ┆ str        ┆ str      ┆ duration[μs] │\n",
      "╞═══════════════╪═══════════════╪═══════════════╪══════════════╪═══╪════════════╪════════════╪══════════╪══════════════╡\n",
      "│ C1D80BC2F7A0A ┆ electric_bike ┆ 2023-01-19    ┆ 2023-01-19   ┆ … ┆ 19:17:46   ┆ 2023-01-19 ┆ 19:18:14 ┆ 28s          │\n",
      "│ F30           ┆               ┆ 19:17:46      ┆ 19:18:14     ┆   ┆            ┆            ┆          ┆              │\n",
      "│ B4ED20B291AB7 ┆ electric_bike ┆ 2023-01-26    ┆ 2023-01-26   ┆ … ┆ 12:36:49   ┆ 2023-01-26 ┆ 12:37:37 ┆ 48s          │\n",
      "│ 68F           ┆               ┆ 12:36:49      ┆ 12:37:37     ┆   ┆            ┆            ┆          ┆              │\n",
      "│ D9012A259FE14 ┆ classic_bike  ┆ 2023-01-19    ┆ 2023-01-19   ┆ … ┆ 17:42:02   ┆ 2023-01-19 ┆ 17:42:06 ┆ 4s           │\n",
      "│ AC9           ┆               ┆ 17:42:02      ┆ 17:42:06     ┆   ┆            ┆            ┆          ┆              │\n",
      "│ BD8BFC9CDEA07 ┆ electric_bike ┆ 2023-01-02    ┆ 2023-01-02   ┆ … ┆ 13:49:25   ┆ 2023-01-02 ┆ 13:49:41 ┆ 16s          │\n",
      "│ 766           ┆               ┆ 13:49:25      ┆ 13:49:41     ┆   ┆            ┆            ┆          ┆              │\n",
      "│ 6BB8F0DF56396 ┆ electric_bike ┆ 2023-01-17    ┆ 2023-01-17   ┆ … ┆ 07:48:48   ┆ 2023-01-17 ┆ 07:49:00 ┆ 12s          │\n",
      "│ D42           ┆               ┆ 07:48:48      ┆ 07:49:00     ┆   ┆            ┆            ┆          ┆              │\n",
      "│ …             ┆ …             ┆ …             ┆ …            ┆ … ┆ …          ┆ …          ┆ …        ┆ …            │\n",
      "│ 31D04CBC38CE0 ┆ classic_bike  ┆ 2023-12-19    ┆ 2023-12-19   ┆ … ┆ 07:14:05   ┆ 2023-12-19 ┆ 07:15:37 ┆ 1m 32s       │\n",
      "│ 915           ┆               ┆ 07:14:05      ┆ 07:15:37     ┆   ┆            ┆            ┆          ┆              │\n",
      "│ 9C87382FA4345 ┆ classic_bike  ┆ 2023-12-14    ┆ 2023-12-14   ┆ … ┆ 07:14:50   ┆ 2023-12-14 ┆ 07:16:08 ┆ 1m 18s       │\n",
      "│ 466           ┆               ┆ 07:14:50      ┆ 07:16:08     ┆   ┆            ┆            ┆          ┆              │\n",
      "│ 51F5D05EE3562 ┆ classic_bike  ┆ 2023-12-18    ┆ 2023-12-18   ┆ … ┆ 07:21:38   ┆ 2023-12-18 ┆ 07:23:08 ┆ 1m 30s       │\n",
      "│ BDD           ┆               ┆ 07:21:38      ┆ 07:23:08     ┆   ┆            ┆            ┆          ┆              │\n",
      "│ 623CF5053A7BD ┆ classic_bike  ┆ 2023-12-08    ┆ 2023-12-08   ┆ … ┆ 11:27:43   ┆ 2023-12-08 ┆ 11:29:36 ┆ 1m 53s       │\n",
      "│ 57C           ┆               ┆ 11:27:43      ┆ 11:29:36     ┆   ┆            ┆            ┆          ┆              │\n",
      "│ 5548198D5E7BC ┆ classic_bike  ┆ 2023-12-05    ┆ 2023-12-05   ┆ … ┆ 07:41:02   ┆ 2023-12-05 ┆ 07:42:26 ┆ 1m 24s       │\n",
      "│ 2FD           ┆               ┆ 07:41:02      ┆ 07:42:26     ┆   ┆            ┆            ┆          ┆              │\n",
      "└───────────────┴───────────────┴───────────────┴──────────────┴───┴────────────┴────────────┴──────────┴──────────────┘\n"
     ]
    }
   ],
   "source": [
    "df_filtered = df_cleaned.filter(pl.col(\"duration\") < pl.duration(seconds=120))\n",
    "\n",
    "print(df_filtered)\n"
   ]
  },
  {
   "cell_type": "code",
   "execution_count": 25,
   "id": "c613d2af-2d04-4913-81e8-9dc895c36329",
   "metadata": {},
   "outputs": [
    {
     "name": "stdout",
     "output_type": "stream",
     "text": [
      "shape: (5_712_887, 17)\n",
      "┌───────────────┬──────────────┬──────────────┬──────────────┬───┬────────────┬──────────┬──────────────┬──────────────┐\n",
      "│ ride_id       ┆ rideable_typ ┆ started_at   ┆ ended_at     ┆ … ┆ end_date   ┆ end_time ┆ duration     ┆ ride_validit │\n",
      "│ ---           ┆ e            ┆ ---          ┆ ---          ┆   ┆ ---        ┆ ---      ┆ ---          ┆ y            │\n",
      "│ str           ┆ ---          ┆ datetime[μs] ┆ datetime[μs] ┆   ┆ str        ┆ str      ┆ duration[μs] ┆ ---          │\n",
      "│               ┆ str          ┆              ┆              ┆   ┆            ┆          ┆              ┆ str          │\n",
      "╞═══════════════╪══════════════╪══════════════╪══════════════╪═══╪════════════╪══════════╪══════════════╪══════════════╡\n",
      "│ F96D5A74A3E41 ┆ electric_bik ┆ 2023-01-21   ┆ 2023-01-21   ┆ … ┆ 2023-01-21 ┆ 20:16:33 ┆ 10m 51s      ┆ Fair         │\n",
      "│ 399           ┆ e            ┆ 20:05:42     ┆ 20:16:33     ┆   ┆            ┆          ┆              ┆              │\n",
      "│ 13CB7EB698CED ┆ classic_bike ┆ 2023-01-10   ┆ 2023-01-10   ┆ … ┆ 2023-01-10 ┆ 15:46:05 ┆ 8m 29s       ┆ Fair         │\n",
      "│ B88           ┆              ┆ 15:37:36     ┆ 15:46:05     ┆   ┆            ┆          ┆              ┆              │\n",
      "│ BD88A2E670661 ┆ electric_bik ┆ 2023-01-02   ┆ 2023-01-02   ┆ … ┆ 2023-01-02 ┆ 08:05:11 ┆ 13m 14s      ┆ Fair         │\n",
      "│ CE5           ┆ e            ┆ 07:51:57     ┆ 08:05:11     ┆   ┆            ┆          ┆              ┆              │\n",
      "│ C90792D034FED ┆ classic_bike ┆ 2023-01-22   ┆ 2023-01-22   ┆ … ┆ 2023-01-22 ┆ 11:01:44 ┆ 8m 46s       ┆ Fair         │\n",
      "│ 968           ┆              ┆ 10:52:58     ┆ 11:01:44     ┆   ┆            ┆          ┆              ┆              │\n",
      "│ 3397017529188 ┆ classic_bike ┆ 2023-01-12   ┆ 2023-01-12   ┆ … ┆ 2023-01-12 ┆ 14:13:20 ┆ 15m 19s      ┆ Fair         │\n",
      "│ E8A           ┆              ┆ 13:58:01     ┆ 14:13:20     ┆   ┆            ┆          ┆              ┆              │\n",
      "│ …             ┆ …            ┆ …            ┆ …            ┆ … ┆ …          ┆ …        ┆ …            ┆ …            │\n",
      "│ F74DF9549B504 ┆ electric_bik ┆ 2023-12-07   ┆ 2023-12-07   ┆ … ┆ 2023-12-07 ┆ 13:17:37 ┆ 2m 13s       ┆ Fair         │\n",
      "│ A6B           ┆ e            ┆ 13:15:24     ┆ 13:17:37     ┆   ┆            ┆          ┆              ┆              │\n",
      "│ BCDA66E761CC1 ┆ classic_bike ┆ 2023-12-08   ┆ 2023-12-08   ┆ … ┆ 2023-12-08 ┆ 18:45:56 ┆ 3m 35s       ┆ Fair         │\n",
      "│ 029           ┆              ┆ 18:42:21     ┆ 18:45:56     ┆   ┆            ┆          ┆              ┆              │\n",
      "│ D2CF330F9C266 ┆ classic_bike ┆ 2023-12-05   ┆ 2023-12-05   ┆ … ┆ 2023-12-05 ┆ 14:13:01 ┆ 3m 50s       ┆ Fair         │\n",
      "│ 683           ┆              ┆ 14:09:11     ┆ 14:13:01     ┆   ┆            ┆          ┆              ┆              │\n",
      "│ 3829A0D1E00EE ┆ electric_bik ┆ 2023-12-02   ┆ 2023-12-02   ┆ … ┆ 2023-12-02 ┆ 21:53:45 ┆ 17m 38s      ┆ Fair         │\n",
      "│ 970           ┆ e            ┆ 21:36:07     ┆ 21:53:45     ┆   ┆            ┆          ┆              ┆              │\n",
      "│ A373F5B447AEA ┆ classic_bike ┆ 2023-12-11   ┆ 2023-12-11   ┆ … ┆ 2023-12-11 ┆ 13:11:24 ┆ 3m 38s       ┆ Fair         │\n",
      "│ 508           ┆              ┆ 13:07:46     ┆ 13:11:24     ┆   ┆            ┆          ┆              ┆              │\n",
      "└───────────────┴──────────────┴──────────────┴──────────────┴───┴────────────┴──────────┴──────────────┴──────────────┘\n"
     ]
    }
   ],
   "source": [
    "df_filtered = df_cleaned.with_columns(\n",
    "    pl.when(pl.col(\"duration\") < pl.duration(minutes=2))\n",
    "    .then(pl.lit(\"Suspicious\"))\n",
    "    .otherwise(pl.lit(\"Fair\"))\n",
    "    .alias(\"ride_validity\")\n",
    ")\n",
    "\n",
    "print(df_filtered)\n"
   ]
  },
  {
   "cell_type": "code",
   "execution_count": 27,
   "id": "985c3b98-6ca6-4258-a72c-30a58a90c521",
   "metadata": {},
   "outputs": [],
   "source": [
    "df_cleaned = df_cleaned.with_columns([\n",
    "    df_cleaned[\"started_at\"].dt.truncate(\"1s\").alias(\"started_at\"),\n",
    "    df_cleaned[\"ended_at\"].dt.truncate(\"1s\").alias(\"ended_at\")\n",
    "])\n"
   ]
  },
  {
   "cell_type": "code",
   "execution_count": 29,
   "id": "48074530-3449-4f31-8744-2378aee93992",
   "metadata": {},
   "outputs": [],
   "source": [
    "df = df_filtered.clone()"
   ]
  },
  {
   "cell_type": "code",
   "execution_count": 31,
   "id": "fa5c313f-f8dd-4e11-b420-ed4a30557cce",
   "metadata": {},
   "outputs": [
    {
     "data": {
      "text/html": [
       "<div><style>\n",
       ".dataframe > thead > tr,\n",
       ".dataframe > tbody > tr {\n",
       "  text-align: right;\n",
       "  white-space: pre-wrap;\n",
       "}\n",
       "</style>\n",
       "<small>shape: (5_712_887, 17)</small><table border=\"1\" class=\"dataframe\"><thead><tr><th>ride_id</th><th>rideable_type</th><th>started_at</th><th>ended_at</th><th>start_station_name</th><th>end_station_name</th><th>start_lat</th><th>start_lng</th><th>end_lat</th><th>end_lng</th><th>member_casual</th><th>start_date</th><th>start_time</th><th>end_date</th><th>end_time</th><th>duration</th><th>ride_validity</th></tr><tr><td>str</td><td>str</td><td>datetime[μs]</td><td>datetime[μs]</td><td>str</td><td>str</td><td>str</td><td>str</td><td>str</td><td>str</td><td>str</td><td>str</td><td>str</td><td>str</td><td>str</td><td>duration[μs]</td><td>str</td></tr></thead><tbody><tr><td>&quot;F96D5A74A3E41399&quot;</td><td>&quot;electric_bike&quot;</td><td>2023-01-21 20:05:42</td><td>2023-01-21 20:16:33</td><td>&quot;Lincoln Ave &amp; Fullerton Ave&quot;</td><td>&quot;Hampden Ct &amp; Diversey Ave&quot;</td><td>&quot;41.924073935&quot;</td><td>&quot;-87.646278381&quot;</td><td>&quot;41.93&quot;</td><td>&quot;-87.64&quot;</td><td>&quot;member&quot;</td><td>&quot;2023-01-21&quot;</td><td>&quot;20:05:42&quot;</td><td>&quot;2023-01-21&quot;</td><td>&quot;20:16:33&quot;</td><td>10m 51s</td><td>&quot;Fair&quot;</td></tr><tr><td>&quot;13CB7EB698CEDB88&quot;</td><td>&quot;classic_bike&quot;</td><td>2023-01-10 15:37:36</td><td>2023-01-10 15:46:05</td><td>&quot;Kimbark Ave &amp; 53rd St&quot;</td><td>&quot;Greenwood Ave &amp; 47th St&quot;</td><td>&quot;41.799568&quot;</td><td>&quot;-87.594747&quot;</td><td>&quot;41.809835&quot;</td><td>&quot;-87.599383&quot;</td><td>&quot;member&quot;</td><td>&quot;2023-01-10&quot;</td><td>&quot;15:37:36&quot;</td><td>&quot;2023-01-10&quot;</td><td>&quot;15:46:05&quot;</td><td>8m 29s</td><td>&quot;Fair&quot;</td></tr><tr><td>&quot;BD88A2E670661CE5&quot;</td><td>&quot;electric_bike&quot;</td><td>2023-01-02 07:51:57</td><td>2023-01-02 08:05:11</td><td>&quot;Western Ave &amp; Lunt Ave&quot;</td><td>&quot;Valli Produce - Evanston Plaza&quot;</td><td>&quot;42.008571&quot;</td><td>&quot;-87.69048283333333&quot;</td><td>&quot;42.039742&quot;</td><td>&quot;-87.699413&quot;</td><td>&quot;casual&quot;</td><td>&quot;2023-01-02&quot;</td><td>&quot;07:51:57&quot;</td><td>&quot;2023-01-02&quot;</td><td>&quot;08:05:11&quot;</td><td>13m 14s</td><td>&quot;Fair&quot;</td></tr><tr><td>&quot;C90792D034FED968&quot;</td><td>&quot;classic_bike&quot;</td><td>2023-01-22 10:52:58</td><td>2023-01-22 11:01:44</td><td>&quot;Kimbark Ave &amp; 53rd St&quot;</td><td>&quot;Greenwood Ave &amp; 47th St&quot;</td><td>&quot;41.799568&quot;</td><td>&quot;-87.594747&quot;</td><td>&quot;41.809835&quot;</td><td>&quot;-87.599383&quot;</td><td>&quot;member&quot;</td><td>&quot;2023-01-22&quot;</td><td>&quot;10:52:58&quot;</td><td>&quot;2023-01-22&quot;</td><td>&quot;11:01:44&quot;</td><td>8m 46s</td><td>&quot;Fair&quot;</td></tr><tr><td>&quot;3397017529188E8A&quot;</td><td>&quot;classic_bike&quot;</td><td>2023-01-12 13:58:01</td><td>2023-01-12 14:13:20</td><td>&quot;Kimbark Ave &amp; 53rd St&quot;</td><td>&quot;Greenwood Ave &amp; 47th St&quot;</td><td>&quot;41.799568&quot;</td><td>&quot;-87.594747&quot;</td><td>&quot;41.809835&quot;</td><td>&quot;-87.599383&quot;</td><td>&quot;member&quot;</td><td>&quot;2023-01-12&quot;</td><td>&quot;13:58:01&quot;</td><td>&quot;2023-01-12&quot;</td><td>&quot;14:13:20&quot;</td><td>15m 19s</td><td>&quot;Fair&quot;</td></tr><tr><td>&hellip;</td><td>&hellip;</td><td>&hellip;</td><td>&hellip;</td><td>&hellip;</td><td>&hellip;</td><td>&hellip;</td><td>&hellip;</td><td>&hellip;</td><td>&hellip;</td><td>&hellip;</td><td>&hellip;</td><td>&hellip;</td><td>&hellip;</td><td>&hellip;</td><td>&hellip;</td><td>&hellip;</td></tr><tr><td>&quot;F74DF9549B504A6B&quot;</td><td>&quot;electric_bike&quot;</td><td>2023-12-07 13:15:24</td><td>2023-12-07 13:17:37</td><td>&quot;900 W Harrison St&quot;</td><td>&quot;Racine Ave &amp; Congress Pkwy&quot;</td><td>&quot;41.87470166666667&quot;</td><td>&quot;-87.64980383333334&quot;</td><td>&quot;41.87464&quot;</td><td>&quot;-87.65703&quot;</td><td>&quot;casual&quot;</td><td>&quot;2023-12-07&quot;</td><td>&quot;13:15:24&quot;</td><td>&quot;2023-12-07&quot;</td><td>&quot;13:17:37&quot;</td><td>2m 13s</td><td>&quot;Fair&quot;</td></tr><tr><td>&quot;BCDA66E761CC1029&quot;</td><td>&quot;classic_bike&quot;</td><td>2023-12-08 18:42:21</td><td>2023-12-08 18:45:56</td><td>&quot;900 W Harrison St&quot;</td><td>&quot;Racine Ave &amp; Congress Pkwy&quot;</td><td>&quot;41.874754&quot;</td><td>&quot;-87.649807&quot;</td><td>&quot;41.87464&quot;</td><td>&quot;-87.65703&quot;</td><td>&quot;casual&quot;</td><td>&quot;2023-12-08&quot;</td><td>&quot;18:42:21&quot;</td><td>&quot;2023-12-08&quot;</td><td>&quot;18:45:56&quot;</td><td>3m 35s</td><td>&quot;Fair&quot;</td></tr><tr><td>&quot;D2CF330F9C266683&quot;</td><td>&quot;classic_bike&quot;</td><td>2023-12-05 14:09:11</td><td>2023-12-05 14:13:01</td><td>&quot;900 W Harrison St&quot;</td><td>&quot;Racine Ave &amp; Congress Pkwy&quot;</td><td>&quot;41.874754&quot;</td><td>&quot;-87.649807&quot;</td><td>&quot;41.87464&quot;</td><td>&quot;-87.65703&quot;</td><td>&quot;member&quot;</td><td>&quot;2023-12-05&quot;</td><td>&quot;14:09:11&quot;</td><td>&quot;2023-12-05&quot;</td><td>&quot;14:13:01&quot;</td><td>3m 50s</td><td>&quot;Fair&quot;</td></tr><tr><td>&quot;3829A0D1E00EE970&quot;</td><td>&quot;electric_bike&quot;</td><td>2023-12-02 21:36:07</td><td>2023-12-02 21:53:45</td><td>&quot;Damen Ave &amp; Madison St&quot;</td><td>&quot;Morgan St &amp; Lake St*&quot;</td><td>&quot;41.881395499999996&quot;</td><td>&quot;-87.67498383333333&quot;</td><td>&quot;41.88549170626906&quot;</td><td>&quot;-87.65228927135468&quot;</td><td>&quot;casual&quot;</td><td>&quot;2023-12-02&quot;</td><td>&quot;21:36:07&quot;</td><td>&quot;2023-12-02&quot;</td><td>&quot;21:53:45&quot;</td><td>17m 38s</td><td>&quot;Fair&quot;</td></tr><tr><td>&quot;A373F5B447AEA508&quot;</td><td>&quot;classic_bike&quot;</td><td>2023-12-11 13:07:46</td><td>2023-12-11 13:11:24</td><td>&quot;900 W Harrison St&quot;</td><td>&quot;Racine Ave &amp; Congress Pkwy&quot;</td><td>&quot;41.874754&quot;</td><td>&quot;-87.649807&quot;</td><td>&quot;41.87464&quot;</td><td>&quot;-87.65703&quot;</td><td>&quot;member&quot;</td><td>&quot;2023-12-11&quot;</td><td>&quot;13:07:46&quot;</td><td>&quot;2023-12-11&quot;</td><td>&quot;13:11:24&quot;</td><td>3m 38s</td><td>&quot;Fair&quot;</td></tr></tbody></table></div>"
      ],
      "text/plain": [
       "shape: (5_712_887, 17)\n",
       "┌───────────────┬──────────────┬──────────────┬──────────────┬───┬────────────┬──────────┬──────────────┬──────────────┐\n",
       "│ ride_id       ┆ rideable_typ ┆ started_at   ┆ ended_at     ┆ … ┆ end_date   ┆ end_time ┆ duration     ┆ ride_validit │\n",
       "│ ---           ┆ e            ┆ ---          ┆ ---          ┆   ┆ ---        ┆ ---      ┆ ---          ┆ y            │\n",
       "│ str           ┆ ---          ┆ datetime[μs] ┆ datetime[μs] ┆   ┆ str        ┆ str      ┆ duration[μs] ┆ ---          │\n",
       "│               ┆ str          ┆              ┆              ┆   ┆            ┆          ┆              ┆ str          │\n",
       "╞═══════════════╪══════════════╪══════════════╪══════════════╪═══╪════════════╪══════════╪══════════════╪══════════════╡\n",
       "│ F96D5A74A3E41 ┆ electric_bik ┆ 2023-01-21   ┆ 2023-01-21   ┆ … ┆ 2023-01-21 ┆ 20:16:33 ┆ 10m 51s      ┆ Fair         │\n",
       "│ 399           ┆ e            ┆ 20:05:42     ┆ 20:16:33     ┆   ┆            ┆          ┆              ┆              │\n",
       "│ 13CB7EB698CED ┆ classic_bike ┆ 2023-01-10   ┆ 2023-01-10   ┆ … ┆ 2023-01-10 ┆ 15:46:05 ┆ 8m 29s       ┆ Fair         │\n",
       "│ B88           ┆              ┆ 15:37:36     ┆ 15:46:05     ┆   ┆            ┆          ┆              ┆              │\n",
       "│ BD88A2E670661 ┆ electric_bik ┆ 2023-01-02   ┆ 2023-01-02   ┆ … ┆ 2023-01-02 ┆ 08:05:11 ┆ 13m 14s      ┆ Fair         │\n",
       "│ CE5           ┆ e            ┆ 07:51:57     ┆ 08:05:11     ┆   ┆            ┆          ┆              ┆              │\n",
       "│ C90792D034FED ┆ classic_bike ┆ 2023-01-22   ┆ 2023-01-22   ┆ … ┆ 2023-01-22 ┆ 11:01:44 ┆ 8m 46s       ┆ Fair         │\n",
       "│ 968           ┆              ┆ 10:52:58     ┆ 11:01:44     ┆   ┆            ┆          ┆              ┆              │\n",
       "│ 3397017529188 ┆ classic_bike ┆ 2023-01-12   ┆ 2023-01-12   ┆ … ┆ 2023-01-12 ┆ 14:13:20 ┆ 15m 19s      ┆ Fair         │\n",
       "│ E8A           ┆              ┆ 13:58:01     ┆ 14:13:20     ┆   ┆            ┆          ┆              ┆              │\n",
       "│ …             ┆ …            ┆ …            ┆ …            ┆ … ┆ …          ┆ …        ┆ …            ┆ …            │\n",
       "│ F74DF9549B504 ┆ electric_bik ┆ 2023-12-07   ┆ 2023-12-07   ┆ … ┆ 2023-12-07 ┆ 13:17:37 ┆ 2m 13s       ┆ Fair         │\n",
       "│ A6B           ┆ e            ┆ 13:15:24     ┆ 13:17:37     ┆   ┆            ┆          ┆              ┆              │\n",
       "│ BCDA66E761CC1 ┆ classic_bike ┆ 2023-12-08   ┆ 2023-12-08   ┆ … ┆ 2023-12-08 ┆ 18:45:56 ┆ 3m 35s       ┆ Fair         │\n",
       "│ 029           ┆              ┆ 18:42:21     ┆ 18:45:56     ┆   ┆            ┆          ┆              ┆              │\n",
       "│ D2CF330F9C266 ┆ classic_bike ┆ 2023-12-05   ┆ 2023-12-05   ┆ … ┆ 2023-12-05 ┆ 14:13:01 ┆ 3m 50s       ┆ Fair         │\n",
       "│ 683           ┆              ┆ 14:09:11     ┆ 14:13:01     ┆   ┆            ┆          ┆              ┆              │\n",
       "│ 3829A0D1E00EE ┆ electric_bik ┆ 2023-12-02   ┆ 2023-12-02   ┆ … ┆ 2023-12-02 ┆ 21:53:45 ┆ 17m 38s      ┆ Fair         │\n",
       "│ 970           ┆ e            ┆ 21:36:07     ┆ 21:53:45     ┆   ┆            ┆          ┆              ┆              │\n",
       "│ A373F5B447AEA ┆ classic_bike ┆ 2023-12-11   ┆ 2023-12-11   ┆ … ┆ 2023-12-11 ┆ 13:11:24 ┆ 3m 38s       ┆ Fair         │\n",
       "│ 508           ┆              ┆ 13:07:46     ┆ 13:11:24     ┆   ┆            ┆          ┆              ┆              │\n",
       "└───────────────┴──────────────┴──────────────┴──────────────┴───┴────────────┴──────────┴──────────────┴──────────────┘"
      ]
     },
     "execution_count": 31,
     "metadata": {},
     "output_type": "execute_result"
    }
   ],
   "source": [
    "df"
   ]
  },
  {
   "cell_type": "code",
   "execution_count": 33,
   "id": "adca5877-1cbf-435c-b39a-d4cd1cb9fac9",
   "metadata": {},
   "outputs": [],
   "source": [
    "data_1 = df.clone()"
   ]
  },
  {
   "cell_type": "code",
   "execution_count": 35,
   "id": "803a0f18-5884-4d99-b6c4-359956865066",
   "metadata": {},
   "outputs": [
    {
     "data": {
      "text/html": [
       "<div><style>\n",
       ".dataframe > thead > tr,\n",
       ".dataframe > tbody > tr {\n",
       "  text-align: right;\n",
       "  white-space: pre-wrap;\n",
       "}\n",
       "</style>\n",
       "<small>shape: (5_712_887, 17)</small><table border=\"1\" class=\"dataframe\"><thead><tr><th>ride_id</th><th>rideable_type</th><th>started_at</th><th>ended_at</th><th>start_station_name</th><th>end_station_name</th><th>start_lat</th><th>start_lng</th><th>end_lat</th><th>end_lng</th><th>member_casual</th><th>start_date</th><th>start_time</th><th>end_date</th><th>end_time</th><th>duration</th><th>ride_validity</th></tr><tr><td>str</td><td>str</td><td>datetime[μs]</td><td>datetime[μs]</td><td>str</td><td>str</td><td>str</td><td>str</td><td>str</td><td>str</td><td>str</td><td>str</td><td>str</td><td>str</td><td>str</td><td>duration[μs]</td><td>str</td></tr></thead><tbody><tr><td>&quot;F96D5A74A3E41399&quot;</td><td>&quot;electric_bike&quot;</td><td>2023-01-21 20:05:42</td><td>2023-01-21 20:16:33</td><td>&quot;Lincoln Ave &amp; Fullerton Ave&quot;</td><td>&quot;Hampden Ct &amp; Diversey Ave&quot;</td><td>&quot;41.924073935&quot;</td><td>&quot;-87.646278381&quot;</td><td>&quot;41.93&quot;</td><td>&quot;-87.64&quot;</td><td>&quot;member&quot;</td><td>&quot;2023-01-21&quot;</td><td>&quot;20:05:42&quot;</td><td>&quot;2023-01-21&quot;</td><td>&quot;20:16:33&quot;</td><td>10m 51s</td><td>&quot;Fair&quot;</td></tr><tr><td>&quot;13CB7EB698CEDB88&quot;</td><td>&quot;classic_bike&quot;</td><td>2023-01-10 15:37:36</td><td>2023-01-10 15:46:05</td><td>&quot;Kimbark Ave &amp; 53rd St&quot;</td><td>&quot;Greenwood Ave &amp; 47th St&quot;</td><td>&quot;41.799568&quot;</td><td>&quot;-87.594747&quot;</td><td>&quot;41.809835&quot;</td><td>&quot;-87.599383&quot;</td><td>&quot;member&quot;</td><td>&quot;2023-01-10&quot;</td><td>&quot;15:37:36&quot;</td><td>&quot;2023-01-10&quot;</td><td>&quot;15:46:05&quot;</td><td>8m 29s</td><td>&quot;Fair&quot;</td></tr><tr><td>&quot;BD88A2E670661CE5&quot;</td><td>&quot;electric_bike&quot;</td><td>2023-01-02 07:51:57</td><td>2023-01-02 08:05:11</td><td>&quot;Western Ave &amp; Lunt Ave&quot;</td><td>&quot;Valli Produce - Evanston Plaza&quot;</td><td>&quot;42.008571&quot;</td><td>&quot;-87.69048283333333&quot;</td><td>&quot;42.039742&quot;</td><td>&quot;-87.699413&quot;</td><td>&quot;casual&quot;</td><td>&quot;2023-01-02&quot;</td><td>&quot;07:51:57&quot;</td><td>&quot;2023-01-02&quot;</td><td>&quot;08:05:11&quot;</td><td>13m 14s</td><td>&quot;Fair&quot;</td></tr><tr><td>&quot;C90792D034FED968&quot;</td><td>&quot;classic_bike&quot;</td><td>2023-01-22 10:52:58</td><td>2023-01-22 11:01:44</td><td>&quot;Kimbark Ave &amp; 53rd St&quot;</td><td>&quot;Greenwood Ave &amp; 47th St&quot;</td><td>&quot;41.799568&quot;</td><td>&quot;-87.594747&quot;</td><td>&quot;41.809835&quot;</td><td>&quot;-87.599383&quot;</td><td>&quot;member&quot;</td><td>&quot;2023-01-22&quot;</td><td>&quot;10:52:58&quot;</td><td>&quot;2023-01-22&quot;</td><td>&quot;11:01:44&quot;</td><td>8m 46s</td><td>&quot;Fair&quot;</td></tr><tr><td>&quot;3397017529188E8A&quot;</td><td>&quot;classic_bike&quot;</td><td>2023-01-12 13:58:01</td><td>2023-01-12 14:13:20</td><td>&quot;Kimbark Ave &amp; 53rd St&quot;</td><td>&quot;Greenwood Ave &amp; 47th St&quot;</td><td>&quot;41.799568&quot;</td><td>&quot;-87.594747&quot;</td><td>&quot;41.809835&quot;</td><td>&quot;-87.599383&quot;</td><td>&quot;member&quot;</td><td>&quot;2023-01-12&quot;</td><td>&quot;13:58:01&quot;</td><td>&quot;2023-01-12&quot;</td><td>&quot;14:13:20&quot;</td><td>15m 19s</td><td>&quot;Fair&quot;</td></tr><tr><td>&hellip;</td><td>&hellip;</td><td>&hellip;</td><td>&hellip;</td><td>&hellip;</td><td>&hellip;</td><td>&hellip;</td><td>&hellip;</td><td>&hellip;</td><td>&hellip;</td><td>&hellip;</td><td>&hellip;</td><td>&hellip;</td><td>&hellip;</td><td>&hellip;</td><td>&hellip;</td><td>&hellip;</td></tr><tr><td>&quot;F74DF9549B504A6B&quot;</td><td>&quot;electric_bike&quot;</td><td>2023-12-07 13:15:24</td><td>2023-12-07 13:17:37</td><td>&quot;900 W Harrison St&quot;</td><td>&quot;Racine Ave &amp; Congress Pkwy&quot;</td><td>&quot;41.87470166666667&quot;</td><td>&quot;-87.64980383333334&quot;</td><td>&quot;41.87464&quot;</td><td>&quot;-87.65703&quot;</td><td>&quot;casual&quot;</td><td>&quot;2023-12-07&quot;</td><td>&quot;13:15:24&quot;</td><td>&quot;2023-12-07&quot;</td><td>&quot;13:17:37&quot;</td><td>2m 13s</td><td>&quot;Fair&quot;</td></tr><tr><td>&quot;BCDA66E761CC1029&quot;</td><td>&quot;classic_bike&quot;</td><td>2023-12-08 18:42:21</td><td>2023-12-08 18:45:56</td><td>&quot;900 W Harrison St&quot;</td><td>&quot;Racine Ave &amp; Congress Pkwy&quot;</td><td>&quot;41.874754&quot;</td><td>&quot;-87.649807&quot;</td><td>&quot;41.87464&quot;</td><td>&quot;-87.65703&quot;</td><td>&quot;casual&quot;</td><td>&quot;2023-12-08&quot;</td><td>&quot;18:42:21&quot;</td><td>&quot;2023-12-08&quot;</td><td>&quot;18:45:56&quot;</td><td>3m 35s</td><td>&quot;Fair&quot;</td></tr><tr><td>&quot;D2CF330F9C266683&quot;</td><td>&quot;classic_bike&quot;</td><td>2023-12-05 14:09:11</td><td>2023-12-05 14:13:01</td><td>&quot;900 W Harrison St&quot;</td><td>&quot;Racine Ave &amp; Congress Pkwy&quot;</td><td>&quot;41.874754&quot;</td><td>&quot;-87.649807&quot;</td><td>&quot;41.87464&quot;</td><td>&quot;-87.65703&quot;</td><td>&quot;member&quot;</td><td>&quot;2023-12-05&quot;</td><td>&quot;14:09:11&quot;</td><td>&quot;2023-12-05&quot;</td><td>&quot;14:13:01&quot;</td><td>3m 50s</td><td>&quot;Fair&quot;</td></tr><tr><td>&quot;3829A0D1E00EE970&quot;</td><td>&quot;electric_bike&quot;</td><td>2023-12-02 21:36:07</td><td>2023-12-02 21:53:45</td><td>&quot;Damen Ave &amp; Madison St&quot;</td><td>&quot;Morgan St &amp; Lake St*&quot;</td><td>&quot;41.881395499999996&quot;</td><td>&quot;-87.67498383333333&quot;</td><td>&quot;41.88549170626906&quot;</td><td>&quot;-87.65228927135468&quot;</td><td>&quot;casual&quot;</td><td>&quot;2023-12-02&quot;</td><td>&quot;21:36:07&quot;</td><td>&quot;2023-12-02&quot;</td><td>&quot;21:53:45&quot;</td><td>17m 38s</td><td>&quot;Fair&quot;</td></tr><tr><td>&quot;A373F5B447AEA508&quot;</td><td>&quot;classic_bike&quot;</td><td>2023-12-11 13:07:46</td><td>2023-12-11 13:11:24</td><td>&quot;900 W Harrison St&quot;</td><td>&quot;Racine Ave &amp; Congress Pkwy&quot;</td><td>&quot;41.874754&quot;</td><td>&quot;-87.649807&quot;</td><td>&quot;41.87464&quot;</td><td>&quot;-87.65703&quot;</td><td>&quot;member&quot;</td><td>&quot;2023-12-11&quot;</td><td>&quot;13:07:46&quot;</td><td>&quot;2023-12-11&quot;</td><td>&quot;13:11:24&quot;</td><td>3m 38s</td><td>&quot;Fair&quot;</td></tr></tbody></table></div>"
      ],
      "text/plain": [
       "shape: (5_712_887, 17)\n",
       "┌───────────────┬──────────────┬──────────────┬──────────────┬───┬────────────┬──────────┬──────────────┬──────────────┐\n",
       "│ ride_id       ┆ rideable_typ ┆ started_at   ┆ ended_at     ┆ … ┆ end_date   ┆ end_time ┆ duration     ┆ ride_validit │\n",
       "│ ---           ┆ e            ┆ ---          ┆ ---          ┆   ┆ ---        ┆ ---      ┆ ---          ┆ y            │\n",
       "│ str           ┆ ---          ┆ datetime[μs] ┆ datetime[μs] ┆   ┆ str        ┆ str      ┆ duration[μs] ┆ ---          │\n",
       "│               ┆ str          ┆              ┆              ┆   ┆            ┆          ┆              ┆ str          │\n",
       "╞═══════════════╪══════════════╪══════════════╪══════════════╪═══╪════════════╪══════════╪══════════════╪══════════════╡\n",
       "│ F96D5A74A3E41 ┆ electric_bik ┆ 2023-01-21   ┆ 2023-01-21   ┆ … ┆ 2023-01-21 ┆ 20:16:33 ┆ 10m 51s      ┆ Fair         │\n",
       "│ 399           ┆ e            ┆ 20:05:42     ┆ 20:16:33     ┆   ┆            ┆          ┆              ┆              │\n",
       "│ 13CB7EB698CED ┆ classic_bike ┆ 2023-01-10   ┆ 2023-01-10   ┆ … ┆ 2023-01-10 ┆ 15:46:05 ┆ 8m 29s       ┆ Fair         │\n",
       "│ B88           ┆              ┆ 15:37:36     ┆ 15:46:05     ┆   ┆            ┆          ┆              ┆              │\n",
       "│ BD88A2E670661 ┆ electric_bik ┆ 2023-01-02   ┆ 2023-01-02   ┆ … ┆ 2023-01-02 ┆ 08:05:11 ┆ 13m 14s      ┆ Fair         │\n",
       "│ CE5           ┆ e            ┆ 07:51:57     ┆ 08:05:11     ┆   ┆            ┆          ┆              ┆              │\n",
       "│ C90792D034FED ┆ classic_bike ┆ 2023-01-22   ┆ 2023-01-22   ┆ … ┆ 2023-01-22 ┆ 11:01:44 ┆ 8m 46s       ┆ Fair         │\n",
       "│ 968           ┆              ┆ 10:52:58     ┆ 11:01:44     ┆   ┆            ┆          ┆              ┆              │\n",
       "│ 3397017529188 ┆ classic_bike ┆ 2023-01-12   ┆ 2023-01-12   ┆ … ┆ 2023-01-12 ┆ 14:13:20 ┆ 15m 19s      ┆ Fair         │\n",
       "│ E8A           ┆              ┆ 13:58:01     ┆ 14:13:20     ┆   ┆            ┆          ┆              ┆              │\n",
       "│ …             ┆ …            ┆ …            ┆ …            ┆ … ┆ …          ┆ …        ┆ …            ┆ …            │\n",
       "│ F74DF9549B504 ┆ electric_bik ┆ 2023-12-07   ┆ 2023-12-07   ┆ … ┆ 2023-12-07 ┆ 13:17:37 ┆ 2m 13s       ┆ Fair         │\n",
       "│ A6B           ┆ e            ┆ 13:15:24     ┆ 13:17:37     ┆   ┆            ┆          ┆              ┆              │\n",
       "│ BCDA66E761CC1 ┆ classic_bike ┆ 2023-12-08   ┆ 2023-12-08   ┆ … ┆ 2023-12-08 ┆ 18:45:56 ┆ 3m 35s       ┆ Fair         │\n",
       "│ 029           ┆              ┆ 18:42:21     ┆ 18:45:56     ┆   ┆            ┆          ┆              ┆              │\n",
       "│ D2CF330F9C266 ┆ classic_bike ┆ 2023-12-05   ┆ 2023-12-05   ┆ … ┆ 2023-12-05 ┆ 14:13:01 ┆ 3m 50s       ┆ Fair         │\n",
       "│ 683           ┆              ┆ 14:09:11     ┆ 14:13:01     ┆   ┆            ┆          ┆              ┆              │\n",
       "│ 3829A0D1E00EE ┆ electric_bik ┆ 2023-12-02   ┆ 2023-12-02   ┆ … ┆ 2023-12-02 ┆ 21:53:45 ┆ 17m 38s      ┆ Fair         │\n",
       "│ 970           ┆ e            ┆ 21:36:07     ┆ 21:53:45     ┆   ┆            ┆          ┆              ┆              │\n",
       "│ A373F5B447AEA ┆ classic_bike ┆ 2023-12-11   ┆ 2023-12-11   ┆ … ┆ 2023-12-11 ┆ 13:11:24 ┆ 3m 38s       ┆ Fair         │\n",
       "│ 508           ┆              ┆ 13:07:46     ┆ 13:11:24     ┆   ┆            ┆          ┆              ┆              │\n",
       "└───────────────┴──────────────┴──────────────┴──────────────┴───┴────────────┴──────────┴──────────────┴──────────────┘"
      ]
     },
     "execution_count": 35,
     "metadata": {},
     "output_type": "execute_result"
    }
   ],
   "source": [
    "data_1"
   ]
  },
  {
   "cell_type": "markdown",
   "id": "be2e2ef3-fd1f-46b4-bb19-04d8e98731c8",
   "metadata": {},
   "source": [
    "##  Polars is optimized for performance, we can avoid slow row-wise operations by using a vectorized approach and efficient nearest-neighbor searches.\n",
    "\n",
    "## Instead of iterating row by row, we can use Scipy's KDTree for fast nearest-neighbor lookups. Here’s how you can implement it in Polars:"
   ]
  },
  {
   "cell_type": "code",
   "execution_count": 38,
   "id": "9ae4a6e3-950c-44e2-9690-75415c35e287",
   "metadata": {},
   "outputs": [
    {
     "name": "stderr",
     "output_type": "stream",
     "text": [
      "C:\\Users\\Sowjanya\\AppData\\Local\\Temp\\ipykernel_2044\\1136869562.py:29: SettingWithCopyWarning: \n",
      "A value is trying to be set on a copy of a slice from a DataFrame.\n",
      "Try using .loc[row_indexer,col_indexer] = value instead\n",
      "\n",
      "See the caveats in the documentation: https://pandas.pydata.org/pandas-docs/stable/user_guide/indexing.html#returning-a-view-versus-a-copy\n",
      "  missing_places[\"start_station_name\"] = valid_places.iloc[nearest_indices][\"start_station_name\"].values\n"
     ]
    },
    {
     "name": "stdout",
     "output_type": "stream",
     "text": [
      "shape: (5_712_887, 17)\n",
      "┌───────────────┬──────────────┬──────────────┬──────────────┬───┬────────────┬──────────┬──────────────┬──────────────┐\n",
      "│ ride_id       ┆ rideable_typ ┆ started_at   ┆ ended_at     ┆ … ┆ end_date   ┆ end_time ┆ duration     ┆ ride_validit │\n",
      "│ ---           ┆ e            ┆ ---          ┆ ---          ┆   ┆ ---        ┆ ---      ┆ ---          ┆ y            │\n",
      "│ str           ┆ ---          ┆ datetime[μs] ┆ datetime[μs] ┆   ┆ str        ┆ str      ┆ duration[μs] ┆ ---          │\n",
      "│               ┆ str          ┆              ┆              ┆   ┆            ┆          ┆              ┆ str          │\n",
      "╞═══════════════╪══════════════╪══════════════╪══════════════╪═══╪════════════╪══════════╪══════════════╪══════════════╡\n",
      "│ F96D5A74A3E41 ┆ electric_bik ┆ 2023-01-21   ┆ 2023-01-21   ┆ … ┆ 2023-01-21 ┆ 20:16:33 ┆ 10m 51s      ┆ Fair         │\n",
      "│ 399           ┆ e            ┆ 20:05:42     ┆ 20:16:33     ┆   ┆            ┆          ┆              ┆              │\n",
      "│ 13CB7EB698CED ┆ classic_bike ┆ 2023-01-10   ┆ 2023-01-10   ┆ … ┆ 2023-01-10 ┆ 15:46:05 ┆ 8m 29s       ┆ Fair         │\n",
      "│ B88           ┆              ┆ 15:37:36     ┆ 15:46:05     ┆   ┆            ┆          ┆              ┆              │\n",
      "│ BD88A2E670661 ┆ electric_bik ┆ 2023-01-02   ┆ 2023-01-02   ┆ … ┆ 2023-01-02 ┆ 08:05:11 ┆ 13m 14s      ┆ Fair         │\n",
      "│ CE5           ┆ e            ┆ 07:51:57     ┆ 08:05:11     ┆   ┆            ┆          ┆              ┆              │\n",
      "│ C90792D034FED ┆ classic_bike ┆ 2023-01-22   ┆ 2023-01-22   ┆ … ┆ 2023-01-22 ┆ 11:01:44 ┆ 8m 46s       ┆ Fair         │\n",
      "│ 968           ┆              ┆ 10:52:58     ┆ 11:01:44     ┆   ┆            ┆          ┆              ┆              │\n",
      "│ 3397017529188 ┆ classic_bike ┆ 2023-01-12   ┆ 2023-01-12   ┆ … ┆ 2023-01-12 ┆ 14:13:20 ┆ 15m 19s      ┆ Fair         │\n",
      "│ E8A           ┆              ┆ 13:58:01     ┆ 14:13:20     ┆   ┆            ┆          ┆              ┆              │\n",
      "│ …             ┆ …            ┆ …            ┆ …            ┆ … ┆ …          ┆ …        ┆ …            ┆ …            │\n",
      "│ F74DF9549B504 ┆ electric_bik ┆ 2023-12-07   ┆ 2023-12-07   ┆ … ┆ 2023-12-07 ┆ 13:17:37 ┆ 2m 13s       ┆ Fair         │\n",
      "│ A6B           ┆ e            ┆ 13:15:24     ┆ 13:17:37     ┆   ┆            ┆          ┆              ┆              │\n",
      "│ BCDA66E761CC1 ┆ classic_bike ┆ 2023-12-08   ┆ 2023-12-08   ┆ … ┆ 2023-12-08 ┆ 18:45:56 ┆ 3m 35s       ┆ Fair         │\n",
      "│ 029           ┆              ┆ 18:42:21     ┆ 18:45:56     ┆   ┆            ┆          ┆              ┆              │\n",
      "│ D2CF330F9C266 ┆ classic_bike ┆ 2023-12-05   ┆ 2023-12-05   ┆ … ┆ 2023-12-05 ┆ 14:13:01 ┆ 3m 50s       ┆ Fair         │\n",
      "│ 683           ┆              ┆ 14:09:11     ┆ 14:13:01     ┆   ┆            ┆          ┆              ┆              │\n",
      "│ 3829A0D1E00EE ┆ electric_bik ┆ 2023-12-02   ┆ 2023-12-02   ┆ … ┆ 2023-12-02 ┆ 21:53:45 ┆ 17m 38s      ┆ Fair         │\n",
      "│ 970           ┆ e            ┆ 21:36:07     ┆ 21:53:45     ┆   ┆            ┆          ┆              ┆              │\n",
      "│ A373F5B447AEA ┆ classic_bike ┆ 2023-12-11   ┆ 2023-12-11   ┆ … ┆ 2023-12-11 ┆ 13:11:24 ┆ 3m 38s       ┆ Fair         │\n",
      "│ 508           ┆              ┆ 13:07:46     ┆ 13:11:24     ┆   ┆            ┆          ┆              ┆              │\n",
      "└───────────────┴──────────────┴──────────────┴──────────────┴───┴────────────┴──────────┴──────────────┴──────────────┘\n"
     ]
    }
   ],
   "source": [
    "import polars as pl\n",
    "import numpy as np\n",
    "from scipy.spatial import cKDTree  # Fast nearest-neighbor search\n",
    "\n",
    "def find_nearest_place_polars(df: pl.DataFrame) -> pl.DataFrame:\n",
    "    \"\"\"\n",
    "    Assigns the nearest place name to rows where 'start_station_name' is missing.\n",
    "    Uses KDTree for fast nearest-neighbor lookup.\n",
    "    \"\"\"\n",
    "\n",
    "    # Convert to Pandas for KDTree operations (only for lat/lng processing)\n",
    "    df_pandas = df.to_pandas()\n",
    "\n",
    "    # Extract valid and missing place data\n",
    "    valid_places = df_pandas[df_pandas[\"start_station_name\"].notna()]\n",
    "    missing_places = df_pandas[df_pandas[\"start_station_name\"].isna()]\n",
    "\n",
    "    # Build KDTree for fast nearest neighbor search\n",
    "    if not valid_places.empty:\n",
    "        valid_coords = np.array(list(zip(valid_places[\"start_lat\"], valid_places[\"start_lng\"])))\n",
    "        tree = cKDTree(valid_coords)\n",
    "\n",
    "        # Find nearest valid station for each missing station\n",
    "        if not missing_places.empty:\n",
    "            missing_coords = np.array(list(zip(missing_places[\"start_lat\"], missing_places[\"start_lng\"])))\n",
    "            _, nearest_indices = tree.query(missing_coords)\n",
    "\n",
    "            # Assign nearest station names\n",
    "            missing_places[\"start_station_name\"] = valid_places.iloc[nearest_indices][\"start_station_name\"].values\n",
    "\n",
    "            # Merge back the updated missing places\n",
    "            df_pandas.loc[df_pandas[\"start_station_name\"].isna(), \"start_station_name\"] = missing_places[\"start_station_name\"]\n",
    "\n",
    "    # Convert back to Polars\n",
    "    return pl.from_pandas(df_pandas)\n",
    "\n",
    "# Example usage\n",
    "try:\n",
    "    df_cleaned = pl.DataFrame(data_1)  # Ensure data_1 is defined\n",
    "    df_cleaned = find_nearest_place_polars(df_cleaned)\n",
    "    print(df_cleaned)\n",
    "except NameError:\n",
    "    print(\"Error: 'data_1' is not defined. Make sure your dataset exists.\")\n"
   ]
  },
  {
   "cell_type": "code",
   "execution_count": 40,
   "id": "c2c7eebe-78ff-4da2-9b09-f7dba1ac33c6",
   "metadata": {},
   "outputs": [
    {
     "name": "stdout",
     "output_type": "stream",
     "text": [
      "Missing values in start_station_name: 0\n"
     ]
    }
   ],
   "source": [
    "# Count missing values in start_station_name\n",
    "missing_count = df_cleaned[\"start_station_name\"].is_null().sum()\n",
    "print(f\"Missing values in start_station_name: {missing_count}\")\n"
   ]
  },
  {
   "cell_type": "code",
   "execution_count": 42,
   "id": "4ee82b71-2bda-471d-980e-286891ce6f51",
   "metadata": {},
   "outputs": [
    {
     "name": "stderr",
     "output_type": "stream",
     "text": [
      "C:\\Users\\Sowjanya\\AppData\\Local\\Temp\\ipykernel_2044\\65436734.py:32: SettingWithCopyWarning: \n",
      "A value is trying to be set on a copy of a slice from a DataFrame.\n",
      "Try using .loc[row_indexer,col_indexer] = value instead\n",
      "\n",
      "See the caveats in the documentation: https://pandas.pydata.org/pandas-docs/stable/user_guide/indexing.html#returning-a-view-versus-a-copy\n",
      "  missing_places[station_col] = valid_places.iloc[nearest_indices][station_col].values\n",
      "C:\\Users\\Sowjanya\\AppData\\Local\\Temp\\ipykernel_2044\\65436734.py:32: SettingWithCopyWarning: \n",
      "A value is trying to be set on a copy of a slice from a DataFrame.\n",
      "Try using .loc[row_indexer,col_indexer] = value instead\n",
      "\n",
      "See the caveats in the documentation: https://pandas.pydata.org/pandas-docs/stable/user_guide/indexing.html#returning-a-view-versus-a-copy\n",
      "  missing_places[station_col] = valid_places.iloc[nearest_indices][station_col].values\n"
     ]
    },
    {
     "name": "stdout",
     "output_type": "stream",
     "text": [
      "shape: (5_712_887, 17)\n",
      "┌───────────────┬──────────────┬──────────────┬──────────────┬───┬────────────┬──────────┬──────────────┬──────────────┐\n",
      "│ ride_id       ┆ rideable_typ ┆ started_at   ┆ ended_at     ┆ … ┆ end_date   ┆ end_time ┆ duration     ┆ ride_validit │\n",
      "│ ---           ┆ e            ┆ ---          ┆ ---          ┆   ┆ ---        ┆ ---      ┆ ---          ┆ y            │\n",
      "│ str           ┆ ---          ┆ datetime[μs] ┆ datetime[μs] ┆   ┆ str        ┆ str      ┆ duration[μs] ┆ ---          │\n",
      "│               ┆ str          ┆              ┆              ┆   ┆            ┆          ┆              ┆ str          │\n",
      "╞═══════════════╪══════════════╪══════════════╪══════════════╪═══╪════════════╪══════════╪══════════════╪══════════════╡\n",
      "│ F96D5A74A3E41 ┆ electric_bik ┆ 2023-01-21   ┆ 2023-01-21   ┆ … ┆ 2023-01-21 ┆ 20:16:33 ┆ 10m 51s      ┆ Fair         │\n",
      "│ 399           ┆ e            ┆ 20:05:42     ┆ 20:16:33     ┆   ┆            ┆          ┆              ┆              │\n",
      "│ 13CB7EB698CED ┆ classic_bike ┆ 2023-01-10   ┆ 2023-01-10   ┆ … ┆ 2023-01-10 ┆ 15:46:05 ┆ 8m 29s       ┆ Fair         │\n",
      "│ B88           ┆              ┆ 15:37:36     ┆ 15:46:05     ┆   ┆            ┆          ┆              ┆              │\n",
      "│ BD88A2E670661 ┆ electric_bik ┆ 2023-01-02   ┆ 2023-01-02   ┆ … ┆ 2023-01-02 ┆ 08:05:11 ┆ 13m 14s      ┆ Fair         │\n",
      "│ CE5           ┆ e            ┆ 07:51:57     ┆ 08:05:11     ┆   ┆            ┆          ┆              ┆              │\n",
      "│ C90792D034FED ┆ classic_bike ┆ 2023-01-22   ┆ 2023-01-22   ┆ … ┆ 2023-01-22 ┆ 11:01:44 ┆ 8m 46s       ┆ Fair         │\n",
      "│ 968           ┆              ┆ 10:52:58     ┆ 11:01:44     ┆   ┆            ┆          ┆              ┆              │\n",
      "│ 3397017529188 ┆ classic_bike ┆ 2023-01-12   ┆ 2023-01-12   ┆ … ┆ 2023-01-12 ┆ 14:13:20 ┆ 15m 19s      ┆ Fair         │\n",
      "│ E8A           ┆              ┆ 13:58:01     ┆ 14:13:20     ┆   ┆            ┆          ┆              ┆              │\n",
      "│ …             ┆ …            ┆ …            ┆ …            ┆ … ┆ …          ┆ …        ┆ …            ┆ …            │\n",
      "│ F74DF9549B504 ┆ electric_bik ┆ 2023-12-07   ┆ 2023-12-07   ┆ … ┆ 2023-12-07 ┆ 13:17:37 ┆ 2m 13s       ┆ Fair         │\n",
      "│ A6B           ┆ e            ┆ 13:15:24     ┆ 13:17:37     ┆   ┆            ┆          ┆              ┆              │\n",
      "│ BCDA66E761CC1 ┆ classic_bike ┆ 2023-12-08   ┆ 2023-12-08   ┆ … ┆ 2023-12-08 ┆ 18:45:56 ┆ 3m 35s       ┆ Fair         │\n",
      "│ 029           ┆              ┆ 18:42:21     ┆ 18:45:56     ┆   ┆            ┆          ┆              ┆              │\n",
      "│ D2CF330F9C266 ┆ classic_bike ┆ 2023-12-05   ┆ 2023-12-05   ┆ … ┆ 2023-12-05 ┆ 14:13:01 ┆ 3m 50s       ┆ Fair         │\n",
      "│ 683           ┆              ┆ 14:09:11     ┆ 14:13:01     ┆   ┆            ┆          ┆              ┆              │\n",
      "│ 3829A0D1E00EE ┆ electric_bik ┆ 2023-12-02   ┆ 2023-12-02   ┆ … ┆ 2023-12-02 ┆ 21:53:45 ┆ 17m 38s      ┆ Fair         │\n",
      "│ 970           ┆ e            ┆ 21:36:07     ┆ 21:53:45     ┆   ┆            ┆          ┆              ┆              │\n",
      "│ A373F5B447AEA ┆ classic_bike ┆ 2023-12-11   ┆ 2023-12-11   ┆ … ┆ 2023-12-11 ┆ 13:11:24 ┆ 3m 38s       ┆ Fair         │\n",
      "│ 508           ┆              ┆ 13:07:46     ┆ 13:11:24     ┆   ┆            ┆          ┆              ┆              │\n",
      "└───────────────┴──────────────┴──────────────┴──────────────┴───┴────────────┴──────────┴──────────────┴──────────────┘\n"
     ]
    }
   ],
   "source": [
    "import polars as pl\n",
    "import numpy as np\n",
    "from scipy.spatial import cKDTree  # Fast nearest-neighbor search\n",
    "\n",
    "def find_nearest_place_polars(df: pl.DataFrame) -> pl.DataFrame:\n",
    "    \"\"\"\n",
    "    Assigns the nearest place name to rows where 'start_station_name' and 'end_station_name' are missing.\n",
    "    Uses KDTree for fast nearest-neighbor lookup.\n",
    "    \"\"\"\n",
    "\n",
    "    # Convert Polars to Pandas for KDTree operations\n",
    "    df_pandas = df.to_pandas()\n",
    "\n",
    "    def fill_missing_station(df, station_col, lat_col, lng_col):\n",
    "        \"\"\"\n",
    "        Helper function to fill missing station names based on nearest valid locations.\n",
    "        \"\"\"\n",
    "        valid_places = df[df[station_col].notna()]\n",
    "        missing_places = df[df[station_col].isna()]\n",
    "\n",
    "        # Build KDTree for fast nearest neighbor search\n",
    "        if not valid_places.empty:\n",
    "            valid_coords = np.array(list(zip(valid_places[lat_col], valid_places[lng_col])))\n",
    "            tree = cKDTree(valid_coords)\n",
    "\n",
    "            # Find nearest valid station for each missing station\n",
    "            if not missing_places.empty:\n",
    "                missing_coords = np.array(list(zip(missing_places[lat_col], missing_places[lng_col])))\n",
    "                _, nearest_indices = tree.query(missing_coords)\n",
    "\n",
    "                # Assign nearest station names\n",
    "                missing_places[station_col] = valid_places.iloc[nearest_indices][station_col].values\n",
    "\n",
    "                # Merge back the updated missing places\n",
    "                df.loc[df[station_col].isna(), station_col] = missing_places[station_col]\n",
    "\n",
    "    # Fill missing values for start and end stations\n",
    "    fill_missing_station(df_pandas, \"start_station_name\", \"start_lat\", \"start_lng\")\n",
    "    fill_missing_station(df_pandas, \"end_station_name\", \"end_lat\", \"end_lng\")\n",
    "\n",
    "    # Convert back to Polars\n",
    "    return pl.from_pandas(df_pandas)\n",
    "\n",
    "# Example usage\n",
    "try:\n",
    "    df_cleaned = pl.DataFrame(data_1)  # Ensure data_1 is defined\n",
    "    df_cleaned = find_nearest_place_polars(df_cleaned)\n",
    "    print(df_cleaned)\n",
    "except NameError:\n",
    "    print(\"Error: 'data_1' is not defined. Make sure your dataset exists.\")\n"
   ]
  },
  {
   "cell_type": "code",
   "execution_count": 44,
   "id": "bd867d5c-edf5-4493-89a8-b65b35560e66",
   "metadata": {},
   "outputs": [
    {
     "name": "stdout",
     "output_type": "stream",
     "text": [
      "Missing values in end_station_name: 0\n"
     ]
    }
   ],
   "source": [
    "# Count missing values in start_station_name\n",
    "missing_count = df_cleaned[\"end_station_name\"].is_null().sum()\n",
    "print(f\"Missing values in end_station_name: {missing_count}\")"
   ]
  },
  {
   "cell_type": "code",
   "execution_count": 46,
   "id": "b99bfe92-a942-422b-85a9-3caa3e0bd961",
   "metadata": {},
   "outputs": [],
   "source": [
    "df_cleaned = df_cleaned.with_columns(\n",
    "    df_cleaned[\"duration\"].dt.total_seconds().cast(pl.Float64).alias(\"duration_seconds\")\n",
    ")\n"
   ]
  },
  {
   "cell_type": "code",
   "execution_count": 48,
   "id": "0e79e69e-f10d-4dc2-8797-262cc6f98d09",
   "metadata": {},
   "outputs": [
    {
     "data": {
      "text/plain": [
       "Schema([('ride_id', String),\n",
       "        ('rideable_type', String),\n",
       "        ('started_at', Datetime(time_unit='us', time_zone=None)),\n",
       "        ('ended_at', Datetime(time_unit='us', time_zone=None)),\n",
       "        ('start_station_name', String),\n",
       "        ('end_station_name', String),\n",
       "        ('start_lat', String),\n",
       "        ('start_lng', String),\n",
       "        ('end_lat', String),\n",
       "        ('end_lng', String),\n",
       "        ('member_casual', String),\n",
       "        ('start_date', String),\n",
       "        ('start_time', String),\n",
       "        ('end_date', String),\n",
       "        ('end_time', String),\n",
       "        ('duration', Duration(time_unit='us')),\n",
       "        ('ride_validity', String),\n",
       "        ('duration_seconds', Float64)])"
      ]
     },
     "execution_count": 48,
     "metadata": {},
     "output_type": "execute_result"
    }
   ],
   "source": [
    "df_cleaned.schema"
   ]
  },
  {
   "cell_type": "code",
   "execution_count": 50,
   "id": "d8775570-8d3e-400c-94ff-36988c569350",
   "metadata": {},
   "outputs": [
    {
     "data": {
      "text/html": [
       "<div><style>\n",
       ".dataframe > thead > tr,\n",
       ".dataframe > tbody > tr {\n",
       "  text-align: right;\n",
       "  white-space: pre-wrap;\n",
       "}\n",
       "</style>\n",
       "<small>shape: (5_712_887, 18)</small><table border=\"1\" class=\"dataframe\"><thead><tr><th>ride_id</th><th>rideable_type</th><th>started_at</th><th>ended_at</th><th>start_station_name</th><th>end_station_name</th><th>start_lat</th><th>start_lng</th><th>end_lat</th><th>end_lng</th><th>member_casual</th><th>start_date</th><th>start_time</th><th>end_date</th><th>end_time</th><th>duration</th><th>ride_validity</th><th>duration_seconds</th></tr><tr><td>str</td><td>str</td><td>datetime[μs]</td><td>datetime[μs]</td><td>str</td><td>str</td><td>str</td><td>str</td><td>str</td><td>str</td><td>str</td><td>str</td><td>str</td><td>str</td><td>str</td><td>duration[μs]</td><td>str</td><td>f64</td></tr></thead><tbody><tr><td>&quot;F96D5A74A3E41399&quot;</td><td>&quot;electric_bike&quot;</td><td>2023-01-21 20:05:42</td><td>2023-01-21 20:16:33</td><td>&quot;Lincoln Ave &amp; Fullerton Ave&quot;</td><td>&quot;Hampden Ct &amp; Diversey Ave&quot;</td><td>&quot;41.924073935&quot;</td><td>&quot;-87.646278381&quot;</td><td>&quot;41.93&quot;</td><td>&quot;-87.64&quot;</td><td>&quot;member&quot;</td><td>&quot;2023-01-21&quot;</td><td>&quot;20:05:42&quot;</td><td>&quot;2023-01-21&quot;</td><td>&quot;20:16:33&quot;</td><td>10m 51s</td><td>&quot;Fair&quot;</td><td>651.0</td></tr><tr><td>&quot;13CB7EB698CEDB88&quot;</td><td>&quot;classic_bike&quot;</td><td>2023-01-10 15:37:36</td><td>2023-01-10 15:46:05</td><td>&quot;Kimbark Ave &amp; 53rd St&quot;</td><td>&quot;Greenwood Ave &amp; 47th St&quot;</td><td>&quot;41.799568&quot;</td><td>&quot;-87.594747&quot;</td><td>&quot;41.809835&quot;</td><td>&quot;-87.599383&quot;</td><td>&quot;member&quot;</td><td>&quot;2023-01-10&quot;</td><td>&quot;15:37:36&quot;</td><td>&quot;2023-01-10&quot;</td><td>&quot;15:46:05&quot;</td><td>8m 29s</td><td>&quot;Fair&quot;</td><td>509.0</td></tr><tr><td>&quot;BD88A2E670661CE5&quot;</td><td>&quot;electric_bike&quot;</td><td>2023-01-02 07:51:57</td><td>2023-01-02 08:05:11</td><td>&quot;Western Ave &amp; Lunt Ave&quot;</td><td>&quot;Valli Produce - Evanston Plaza&quot;</td><td>&quot;42.008571&quot;</td><td>&quot;-87.69048283333333&quot;</td><td>&quot;42.039742&quot;</td><td>&quot;-87.699413&quot;</td><td>&quot;casual&quot;</td><td>&quot;2023-01-02&quot;</td><td>&quot;07:51:57&quot;</td><td>&quot;2023-01-02&quot;</td><td>&quot;08:05:11&quot;</td><td>13m 14s</td><td>&quot;Fair&quot;</td><td>794.0</td></tr><tr><td>&quot;C90792D034FED968&quot;</td><td>&quot;classic_bike&quot;</td><td>2023-01-22 10:52:58</td><td>2023-01-22 11:01:44</td><td>&quot;Kimbark Ave &amp; 53rd St&quot;</td><td>&quot;Greenwood Ave &amp; 47th St&quot;</td><td>&quot;41.799568&quot;</td><td>&quot;-87.594747&quot;</td><td>&quot;41.809835&quot;</td><td>&quot;-87.599383&quot;</td><td>&quot;member&quot;</td><td>&quot;2023-01-22&quot;</td><td>&quot;10:52:58&quot;</td><td>&quot;2023-01-22&quot;</td><td>&quot;11:01:44&quot;</td><td>8m 46s</td><td>&quot;Fair&quot;</td><td>526.0</td></tr><tr><td>&quot;3397017529188E8A&quot;</td><td>&quot;classic_bike&quot;</td><td>2023-01-12 13:58:01</td><td>2023-01-12 14:13:20</td><td>&quot;Kimbark Ave &amp; 53rd St&quot;</td><td>&quot;Greenwood Ave &amp; 47th St&quot;</td><td>&quot;41.799568&quot;</td><td>&quot;-87.594747&quot;</td><td>&quot;41.809835&quot;</td><td>&quot;-87.599383&quot;</td><td>&quot;member&quot;</td><td>&quot;2023-01-12&quot;</td><td>&quot;13:58:01&quot;</td><td>&quot;2023-01-12&quot;</td><td>&quot;14:13:20&quot;</td><td>15m 19s</td><td>&quot;Fair&quot;</td><td>919.0</td></tr><tr><td>&hellip;</td><td>&hellip;</td><td>&hellip;</td><td>&hellip;</td><td>&hellip;</td><td>&hellip;</td><td>&hellip;</td><td>&hellip;</td><td>&hellip;</td><td>&hellip;</td><td>&hellip;</td><td>&hellip;</td><td>&hellip;</td><td>&hellip;</td><td>&hellip;</td><td>&hellip;</td><td>&hellip;</td><td>&hellip;</td></tr><tr><td>&quot;F74DF9549B504A6B&quot;</td><td>&quot;electric_bike&quot;</td><td>2023-12-07 13:15:24</td><td>2023-12-07 13:17:37</td><td>&quot;900 W Harrison St&quot;</td><td>&quot;Racine Ave &amp; Congress Pkwy&quot;</td><td>&quot;41.87470166666667&quot;</td><td>&quot;-87.64980383333334&quot;</td><td>&quot;41.87464&quot;</td><td>&quot;-87.65703&quot;</td><td>&quot;casual&quot;</td><td>&quot;2023-12-07&quot;</td><td>&quot;13:15:24&quot;</td><td>&quot;2023-12-07&quot;</td><td>&quot;13:17:37&quot;</td><td>2m 13s</td><td>&quot;Fair&quot;</td><td>133.0</td></tr><tr><td>&quot;BCDA66E761CC1029&quot;</td><td>&quot;classic_bike&quot;</td><td>2023-12-08 18:42:21</td><td>2023-12-08 18:45:56</td><td>&quot;900 W Harrison St&quot;</td><td>&quot;Racine Ave &amp; Congress Pkwy&quot;</td><td>&quot;41.874754&quot;</td><td>&quot;-87.649807&quot;</td><td>&quot;41.87464&quot;</td><td>&quot;-87.65703&quot;</td><td>&quot;casual&quot;</td><td>&quot;2023-12-08&quot;</td><td>&quot;18:42:21&quot;</td><td>&quot;2023-12-08&quot;</td><td>&quot;18:45:56&quot;</td><td>3m 35s</td><td>&quot;Fair&quot;</td><td>215.0</td></tr><tr><td>&quot;D2CF330F9C266683&quot;</td><td>&quot;classic_bike&quot;</td><td>2023-12-05 14:09:11</td><td>2023-12-05 14:13:01</td><td>&quot;900 W Harrison St&quot;</td><td>&quot;Racine Ave &amp; Congress Pkwy&quot;</td><td>&quot;41.874754&quot;</td><td>&quot;-87.649807&quot;</td><td>&quot;41.87464&quot;</td><td>&quot;-87.65703&quot;</td><td>&quot;member&quot;</td><td>&quot;2023-12-05&quot;</td><td>&quot;14:09:11&quot;</td><td>&quot;2023-12-05&quot;</td><td>&quot;14:13:01&quot;</td><td>3m 50s</td><td>&quot;Fair&quot;</td><td>230.0</td></tr><tr><td>&quot;3829A0D1E00EE970&quot;</td><td>&quot;electric_bike&quot;</td><td>2023-12-02 21:36:07</td><td>2023-12-02 21:53:45</td><td>&quot;Damen Ave &amp; Madison St&quot;</td><td>&quot;Morgan St &amp; Lake St*&quot;</td><td>&quot;41.881395499999996&quot;</td><td>&quot;-87.67498383333333&quot;</td><td>&quot;41.88549170626906&quot;</td><td>&quot;-87.65228927135468&quot;</td><td>&quot;casual&quot;</td><td>&quot;2023-12-02&quot;</td><td>&quot;21:36:07&quot;</td><td>&quot;2023-12-02&quot;</td><td>&quot;21:53:45&quot;</td><td>17m 38s</td><td>&quot;Fair&quot;</td><td>1058.0</td></tr><tr><td>&quot;A373F5B447AEA508&quot;</td><td>&quot;classic_bike&quot;</td><td>2023-12-11 13:07:46</td><td>2023-12-11 13:11:24</td><td>&quot;900 W Harrison St&quot;</td><td>&quot;Racine Ave &amp; Congress Pkwy&quot;</td><td>&quot;41.874754&quot;</td><td>&quot;-87.649807&quot;</td><td>&quot;41.87464&quot;</td><td>&quot;-87.65703&quot;</td><td>&quot;member&quot;</td><td>&quot;2023-12-11&quot;</td><td>&quot;13:07:46&quot;</td><td>&quot;2023-12-11&quot;</td><td>&quot;13:11:24&quot;</td><td>3m 38s</td><td>&quot;Fair&quot;</td><td>218.0</td></tr></tbody></table></div>"
      ],
      "text/plain": [
       "shape: (5_712_887, 18)\n",
       "┌──────────────┬──────────────┬──────────────┬──────────────┬───┬──────────┬──────────────┬──────────────┬─────────────┐\n",
       "│ ride_id      ┆ rideable_typ ┆ started_at   ┆ ended_at     ┆ … ┆ end_time ┆ duration     ┆ ride_validit ┆ duration_se │\n",
       "│ ---          ┆ e            ┆ ---          ┆ ---          ┆   ┆ ---      ┆ ---          ┆ y            ┆ conds       │\n",
       "│ str          ┆ ---          ┆ datetime[μs] ┆ datetime[μs] ┆   ┆ str      ┆ duration[μs] ┆ ---          ┆ ---         │\n",
       "│              ┆ str          ┆              ┆              ┆   ┆          ┆              ┆ str          ┆ f64         │\n",
       "╞══════════════╪══════════════╪══════════════╪══════════════╪═══╪══════════╪══════════════╪══════════════╪═════════════╡\n",
       "│ F96D5A74A3E4 ┆ electric_bik ┆ 2023-01-21   ┆ 2023-01-21   ┆ … ┆ 20:16:33 ┆ 10m 51s      ┆ Fair         ┆ 651.0       │\n",
       "│ 1399         ┆ e            ┆ 20:05:42     ┆ 20:16:33     ┆   ┆          ┆              ┆              ┆             │\n",
       "│ 13CB7EB698CE ┆ classic_bike ┆ 2023-01-10   ┆ 2023-01-10   ┆ … ┆ 15:46:05 ┆ 8m 29s       ┆ Fair         ┆ 509.0       │\n",
       "│ DB88         ┆              ┆ 15:37:36     ┆ 15:46:05     ┆   ┆          ┆              ┆              ┆             │\n",
       "│ BD88A2E67066 ┆ electric_bik ┆ 2023-01-02   ┆ 2023-01-02   ┆ … ┆ 08:05:11 ┆ 13m 14s      ┆ Fair         ┆ 794.0       │\n",
       "│ 1CE5         ┆ e            ┆ 07:51:57     ┆ 08:05:11     ┆   ┆          ┆              ┆              ┆             │\n",
       "│ C90792D034FE ┆ classic_bike ┆ 2023-01-22   ┆ 2023-01-22   ┆ … ┆ 11:01:44 ┆ 8m 46s       ┆ Fair         ┆ 526.0       │\n",
       "│ D968         ┆              ┆ 10:52:58     ┆ 11:01:44     ┆   ┆          ┆              ┆              ┆             │\n",
       "│ 339701752918 ┆ classic_bike ┆ 2023-01-12   ┆ 2023-01-12   ┆ … ┆ 14:13:20 ┆ 15m 19s      ┆ Fair         ┆ 919.0       │\n",
       "│ 8E8A         ┆              ┆ 13:58:01     ┆ 14:13:20     ┆   ┆          ┆              ┆              ┆             │\n",
       "│ …            ┆ …            ┆ …            ┆ …            ┆ … ┆ …        ┆ …            ┆ …            ┆ …           │\n",
       "│ F74DF9549B50 ┆ electric_bik ┆ 2023-12-07   ┆ 2023-12-07   ┆ … ┆ 13:17:37 ┆ 2m 13s       ┆ Fair         ┆ 133.0       │\n",
       "│ 4A6B         ┆ e            ┆ 13:15:24     ┆ 13:17:37     ┆   ┆          ┆              ┆              ┆             │\n",
       "│ BCDA66E761CC ┆ classic_bike ┆ 2023-12-08   ┆ 2023-12-08   ┆ … ┆ 18:45:56 ┆ 3m 35s       ┆ Fair         ┆ 215.0       │\n",
       "│ 1029         ┆              ┆ 18:42:21     ┆ 18:45:56     ┆   ┆          ┆              ┆              ┆             │\n",
       "│ D2CF330F9C26 ┆ classic_bike ┆ 2023-12-05   ┆ 2023-12-05   ┆ … ┆ 14:13:01 ┆ 3m 50s       ┆ Fair         ┆ 230.0       │\n",
       "│ 6683         ┆              ┆ 14:09:11     ┆ 14:13:01     ┆   ┆          ┆              ┆              ┆             │\n",
       "│ 3829A0D1E00E ┆ electric_bik ┆ 2023-12-02   ┆ 2023-12-02   ┆ … ┆ 21:53:45 ┆ 17m 38s      ┆ Fair         ┆ 1058.0      │\n",
       "│ E970         ┆ e            ┆ 21:36:07     ┆ 21:53:45     ┆   ┆          ┆              ┆              ┆             │\n",
       "│ A373F5B447AE ┆ classic_bike ┆ 2023-12-11   ┆ 2023-12-11   ┆ … ┆ 13:11:24 ┆ 3m 38s       ┆ Fair         ┆ 218.0       │\n",
       "│ A508         ┆              ┆ 13:07:46     ┆ 13:11:24     ┆   ┆          ┆              ┆              ┆             │\n",
       "└──────────────┴──────────────┴──────────────┴──────────────┴───┴──────────┴──────────────┴──────────────┴─────────────┘"
      ]
     },
     "execution_count": 50,
     "metadata": {},
     "output_type": "execute_result"
    }
   ],
   "source": [
    "df_cleaned"
   ]
  },
  {
   "cell_type": "code",
   "execution_count": 52,
   "id": "79be89db-583a-4613-a997-6eaac80dd200",
   "metadata": {},
   "outputs": [],
   "source": [
    "df_cleaned = df_cleaned.drop(\"duration_seconds\")\n"
   ]
  },
  {
   "cell_type": "code",
   "execution_count": 54,
   "id": "a29a1892-6971-4f50-a0c3-b3ebd6e161c8",
   "metadata": {},
   "outputs": [],
   "source": [
    "df_cleaned = df_cleaned.with_columns([\n",
    "    df_cleaned[\"started_at\"].cast(pl.Utf8).alias(\"started_at\"),\n",
    "    df_cleaned[\"ended_at\"].cast(pl.Utf8).alias(\"ended_at\"),\n",
    "    df_cleaned[\"duration\"].dt.total_seconds().cast(pl.Utf8).alias(\"duration\")  # Convert to seconds, then string\n",
    "])\n"
   ]
  },
  {
   "cell_type": "code",
   "execution_count": 55,
   "id": "f9eeb086-27b4-4647-939c-bf7d42707d6e",
   "metadata": {},
   "outputs": [
    {
     "data": {
      "text/html": [
       "<div><style>\n",
       ".dataframe > thead > tr,\n",
       ".dataframe > tbody > tr {\n",
       "  text-align: right;\n",
       "  white-space: pre-wrap;\n",
       "}\n",
       "</style>\n",
       "<small>shape: (5_712_887, 17)</small><table border=\"1\" class=\"dataframe\"><thead><tr><th>ride_id</th><th>rideable_type</th><th>started_at</th><th>ended_at</th><th>start_station_name</th><th>end_station_name</th><th>start_lat</th><th>start_lng</th><th>end_lat</th><th>end_lng</th><th>member_casual</th><th>start_date</th><th>start_time</th><th>end_date</th><th>end_time</th><th>duration</th><th>ride_validity</th></tr><tr><td>str</td><td>str</td><td>str</td><td>str</td><td>str</td><td>str</td><td>str</td><td>str</td><td>str</td><td>str</td><td>str</td><td>str</td><td>str</td><td>str</td><td>str</td><td>str</td><td>str</td></tr></thead><tbody><tr><td>&quot;F96D5A74A3E41399&quot;</td><td>&quot;electric_bike&quot;</td><td>&quot;2023-01-21 20:05:42.000000&quot;</td><td>&quot;2023-01-21 20:16:33.000000&quot;</td><td>&quot;Lincoln Ave &amp; Fullerton Ave&quot;</td><td>&quot;Hampden Ct &amp; Diversey Ave&quot;</td><td>&quot;41.924073935&quot;</td><td>&quot;-87.646278381&quot;</td><td>&quot;41.93&quot;</td><td>&quot;-87.64&quot;</td><td>&quot;member&quot;</td><td>&quot;2023-01-21&quot;</td><td>&quot;20:05:42&quot;</td><td>&quot;2023-01-21&quot;</td><td>&quot;20:16:33&quot;</td><td>&quot;651&quot;</td><td>&quot;Fair&quot;</td></tr><tr><td>&quot;13CB7EB698CEDB88&quot;</td><td>&quot;classic_bike&quot;</td><td>&quot;2023-01-10 15:37:36.000000&quot;</td><td>&quot;2023-01-10 15:46:05.000000&quot;</td><td>&quot;Kimbark Ave &amp; 53rd St&quot;</td><td>&quot;Greenwood Ave &amp; 47th St&quot;</td><td>&quot;41.799568&quot;</td><td>&quot;-87.594747&quot;</td><td>&quot;41.809835&quot;</td><td>&quot;-87.599383&quot;</td><td>&quot;member&quot;</td><td>&quot;2023-01-10&quot;</td><td>&quot;15:37:36&quot;</td><td>&quot;2023-01-10&quot;</td><td>&quot;15:46:05&quot;</td><td>&quot;509&quot;</td><td>&quot;Fair&quot;</td></tr><tr><td>&quot;BD88A2E670661CE5&quot;</td><td>&quot;electric_bike&quot;</td><td>&quot;2023-01-02 07:51:57.000000&quot;</td><td>&quot;2023-01-02 08:05:11.000000&quot;</td><td>&quot;Western Ave &amp; Lunt Ave&quot;</td><td>&quot;Valli Produce - Evanston Plaza&quot;</td><td>&quot;42.008571&quot;</td><td>&quot;-87.69048283333333&quot;</td><td>&quot;42.039742&quot;</td><td>&quot;-87.699413&quot;</td><td>&quot;casual&quot;</td><td>&quot;2023-01-02&quot;</td><td>&quot;07:51:57&quot;</td><td>&quot;2023-01-02&quot;</td><td>&quot;08:05:11&quot;</td><td>&quot;794&quot;</td><td>&quot;Fair&quot;</td></tr><tr><td>&quot;C90792D034FED968&quot;</td><td>&quot;classic_bike&quot;</td><td>&quot;2023-01-22 10:52:58.000000&quot;</td><td>&quot;2023-01-22 11:01:44.000000&quot;</td><td>&quot;Kimbark Ave &amp; 53rd St&quot;</td><td>&quot;Greenwood Ave &amp; 47th St&quot;</td><td>&quot;41.799568&quot;</td><td>&quot;-87.594747&quot;</td><td>&quot;41.809835&quot;</td><td>&quot;-87.599383&quot;</td><td>&quot;member&quot;</td><td>&quot;2023-01-22&quot;</td><td>&quot;10:52:58&quot;</td><td>&quot;2023-01-22&quot;</td><td>&quot;11:01:44&quot;</td><td>&quot;526&quot;</td><td>&quot;Fair&quot;</td></tr><tr><td>&quot;3397017529188E8A&quot;</td><td>&quot;classic_bike&quot;</td><td>&quot;2023-01-12 13:58:01.000000&quot;</td><td>&quot;2023-01-12 14:13:20.000000&quot;</td><td>&quot;Kimbark Ave &amp; 53rd St&quot;</td><td>&quot;Greenwood Ave &amp; 47th St&quot;</td><td>&quot;41.799568&quot;</td><td>&quot;-87.594747&quot;</td><td>&quot;41.809835&quot;</td><td>&quot;-87.599383&quot;</td><td>&quot;member&quot;</td><td>&quot;2023-01-12&quot;</td><td>&quot;13:58:01&quot;</td><td>&quot;2023-01-12&quot;</td><td>&quot;14:13:20&quot;</td><td>&quot;919&quot;</td><td>&quot;Fair&quot;</td></tr><tr><td>&hellip;</td><td>&hellip;</td><td>&hellip;</td><td>&hellip;</td><td>&hellip;</td><td>&hellip;</td><td>&hellip;</td><td>&hellip;</td><td>&hellip;</td><td>&hellip;</td><td>&hellip;</td><td>&hellip;</td><td>&hellip;</td><td>&hellip;</td><td>&hellip;</td><td>&hellip;</td><td>&hellip;</td></tr><tr><td>&quot;F74DF9549B504A6B&quot;</td><td>&quot;electric_bike&quot;</td><td>&quot;2023-12-07 13:15:24.000000&quot;</td><td>&quot;2023-12-07 13:17:37.000000&quot;</td><td>&quot;900 W Harrison St&quot;</td><td>&quot;Racine Ave &amp; Congress Pkwy&quot;</td><td>&quot;41.87470166666667&quot;</td><td>&quot;-87.64980383333334&quot;</td><td>&quot;41.87464&quot;</td><td>&quot;-87.65703&quot;</td><td>&quot;casual&quot;</td><td>&quot;2023-12-07&quot;</td><td>&quot;13:15:24&quot;</td><td>&quot;2023-12-07&quot;</td><td>&quot;13:17:37&quot;</td><td>&quot;133&quot;</td><td>&quot;Fair&quot;</td></tr><tr><td>&quot;BCDA66E761CC1029&quot;</td><td>&quot;classic_bike&quot;</td><td>&quot;2023-12-08 18:42:21.000000&quot;</td><td>&quot;2023-12-08 18:45:56.000000&quot;</td><td>&quot;900 W Harrison St&quot;</td><td>&quot;Racine Ave &amp; Congress Pkwy&quot;</td><td>&quot;41.874754&quot;</td><td>&quot;-87.649807&quot;</td><td>&quot;41.87464&quot;</td><td>&quot;-87.65703&quot;</td><td>&quot;casual&quot;</td><td>&quot;2023-12-08&quot;</td><td>&quot;18:42:21&quot;</td><td>&quot;2023-12-08&quot;</td><td>&quot;18:45:56&quot;</td><td>&quot;215&quot;</td><td>&quot;Fair&quot;</td></tr><tr><td>&quot;D2CF330F9C266683&quot;</td><td>&quot;classic_bike&quot;</td><td>&quot;2023-12-05 14:09:11.000000&quot;</td><td>&quot;2023-12-05 14:13:01.000000&quot;</td><td>&quot;900 W Harrison St&quot;</td><td>&quot;Racine Ave &amp; Congress Pkwy&quot;</td><td>&quot;41.874754&quot;</td><td>&quot;-87.649807&quot;</td><td>&quot;41.87464&quot;</td><td>&quot;-87.65703&quot;</td><td>&quot;member&quot;</td><td>&quot;2023-12-05&quot;</td><td>&quot;14:09:11&quot;</td><td>&quot;2023-12-05&quot;</td><td>&quot;14:13:01&quot;</td><td>&quot;230&quot;</td><td>&quot;Fair&quot;</td></tr><tr><td>&quot;3829A0D1E00EE970&quot;</td><td>&quot;electric_bike&quot;</td><td>&quot;2023-12-02 21:36:07.000000&quot;</td><td>&quot;2023-12-02 21:53:45.000000&quot;</td><td>&quot;Damen Ave &amp; Madison St&quot;</td><td>&quot;Morgan St &amp; Lake St*&quot;</td><td>&quot;41.881395499999996&quot;</td><td>&quot;-87.67498383333333&quot;</td><td>&quot;41.88549170626906&quot;</td><td>&quot;-87.65228927135468&quot;</td><td>&quot;casual&quot;</td><td>&quot;2023-12-02&quot;</td><td>&quot;21:36:07&quot;</td><td>&quot;2023-12-02&quot;</td><td>&quot;21:53:45&quot;</td><td>&quot;1058&quot;</td><td>&quot;Fair&quot;</td></tr><tr><td>&quot;A373F5B447AEA508&quot;</td><td>&quot;classic_bike&quot;</td><td>&quot;2023-12-11 13:07:46.000000&quot;</td><td>&quot;2023-12-11 13:11:24.000000&quot;</td><td>&quot;900 W Harrison St&quot;</td><td>&quot;Racine Ave &amp; Congress Pkwy&quot;</td><td>&quot;41.874754&quot;</td><td>&quot;-87.649807&quot;</td><td>&quot;41.87464&quot;</td><td>&quot;-87.65703&quot;</td><td>&quot;member&quot;</td><td>&quot;2023-12-11&quot;</td><td>&quot;13:07:46&quot;</td><td>&quot;2023-12-11&quot;</td><td>&quot;13:11:24&quot;</td><td>&quot;218&quot;</td><td>&quot;Fair&quot;</td></tr></tbody></table></div>"
      ],
      "text/plain": [
       "shape: (5_712_887, 17)\n",
       "┌───────────────┬───────────────┬───────────────┬───────────────┬───┬────────────┬──────────┬──────────┬───────────────┐\n",
       "│ ride_id       ┆ rideable_type ┆ started_at    ┆ ended_at      ┆ … ┆ end_date   ┆ end_time ┆ duration ┆ ride_validity │\n",
       "│ ---           ┆ ---           ┆ ---           ┆ ---           ┆   ┆ ---        ┆ ---      ┆ ---      ┆ ---           │\n",
       "│ str           ┆ str           ┆ str           ┆ str           ┆   ┆ str        ┆ str      ┆ str      ┆ str           │\n",
       "╞═══════════════╪═══════════════╪═══════════════╪═══════════════╪═══╪════════════╪══════════╪══════════╪═══════════════╡\n",
       "│ F96D5A74A3E41 ┆ electric_bike ┆ 2023-01-21    ┆ 2023-01-21    ┆ … ┆ 2023-01-21 ┆ 20:16:33 ┆ 651      ┆ Fair          │\n",
       "│ 399           ┆               ┆ 20:05:42.0000 ┆ 20:16:33.0000 ┆   ┆            ┆          ┆          ┆               │\n",
       "│               ┆               ┆ 00            ┆ 00            ┆   ┆            ┆          ┆          ┆               │\n",
       "│ 13CB7EB698CED ┆ classic_bike  ┆ 2023-01-10    ┆ 2023-01-10    ┆ … ┆ 2023-01-10 ┆ 15:46:05 ┆ 509      ┆ Fair          │\n",
       "│ B88           ┆               ┆ 15:37:36.0000 ┆ 15:46:05.0000 ┆   ┆            ┆          ┆          ┆               │\n",
       "│               ┆               ┆ 00            ┆ 00            ┆   ┆            ┆          ┆          ┆               │\n",
       "│ BD88A2E670661 ┆ electric_bike ┆ 2023-01-02    ┆ 2023-01-02    ┆ … ┆ 2023-01-02 ┆ 08:05:11 ┆ 794      ┆ Fair          │\n",
       "│ CE5           ┆               ┆ 07:51:57.0000 ┆ 08:05:11.0000 ┆   ┆            ┆          ┆          ┆               │\n",
       "│               ┆               ┆ 00            ┆ 00            ┆   ┆            ┆          ┆          ┆               │\n",
       "│ C90792D034FED ┆ classic_bike  ┆ 2023-01-22    ┆ 2023-01-22    ┆ … ┆ 2023-01-22 ┆ 11:01:44 ┆ 526      ┆ Fair          │\n",
       "│ 968           ┆               ┆ 10:52:58.0000 ┆ 11:01:44.0000 ┆   ┆            ┆          ┆          ┆               │\n",
       "│               ┆               ┆ 00            ┆ 00            ┆   ┆            ┆          ┆          ┆               │\n",
       "│ 3397017529188 ┆ classic_bike  ┆ 2023-01-12    ┆ 2023-01-12    ┆ … ┆ 2023-01-12 ┆ 14:13:20 ┆ 919      ┆ Fair          │\n",
       "│ E8A           ┆               ┆ 13:58:01.0000 ┆ 14:13:20.0000 ┆   ┆            ┆          ┆          ┆               │\n",
       "│               ┆               ┆ 00            ┆ 00            ┆   ┆            ┆          ┆          ┆               │\n",
       "│ …             ┆ …             ┆ …             ┆ …             ┆ … ┆ …          ┆ …        ┆ …        ┆ …             │\n",
       "│ F74DF9549B504 ┆ electric_bike ┆ 2023-12-07    ┆ 2023-12-07    ┆ … ┆ 2023-12-07 ┆ 13:17:37 ┆ 133      ┆ Fair          │\n",
       "│ A6B           ┆               ┆ 13:15:24.0000 ┆ 13:17:37.0000 ┆   ┆            ┆          ┆          ┆               │\n",
       "│               ┆               ┆ 00            ┆ 00            ┆   ┆            ┆          ┆          ┆               │\n",
       "│ BCDA66E761CC1 ┆ classic_bike  ┆ 2023-12-08    ┆ 2023-12-08    ┆ … ┆ 2023-12-08 ┆ 18:45:56 ┆ 215      ┆ Fair          │\n",
       "│ 029           ┆               ┆ 18:42:21.0000 ┆ 18:45:56.0000 ┆   ┆            ┆          ┆          ┆               │\n",
       "│               ┆               ┆ 00            ┆ 00            ┆   ┆            ┆          ┆          ┆               │\n",
       "│ D2CF330F9C266 ┆ classic_bike  ┆ 2023-12-05    ┆ 2023-12-05    ┆ … ┆ 2023-12-05 ┆ 14:13:01 ┆ 230      ┆ Fair          │\n",
       "│ 683           ┆               ┆ 14:09:11.0000 ┆ 14:13:01.0000 ┆   ┆            ┆          ┆          ┆               │\n",
       "│               ┆               ┆ 00            ┆ 00            ┆   ┆            ┆          ┆          ┆               │\n",
       "│ 3829A0D1E00EE ┆ electric_bike ┆ 2023-12-02    ┆ 2023-12-02    ┆ … ┆ 2023-12-02 ┆ 21:53:45 ┆ 1058     ┆ Fair          │\n",
       "│ 970           ┆               ┆ 21:36:07.0000 ┆ 21:53:45.0000 ┆   ┆            ┆          ┆          ┆               │\n",
       "│               ┆               ┆ 00            ┆ 00            ┆   ┆            ┆          ┆          ┆               │\n",
       "│ A373F5B447AEA ┆ classic_bike  ┆ 2023-12-11    ┆ 2023-12-11    ┆ … ┆ 2023-12-11 ┆ 13:11:24 ┆ 218      ┆ Fair          │\n",
       "│ 508           ┆               ┆ 13:07:46.0000 ┆ 13:11:24.0000 ┆   ┆            ┆          ┆          ┆               │\n",
       "│               ┆               ┆ 00            ┆ 00            ┆   ┆            ┆          ┆          ┆               │\n",
       "└───────────────┴───────────────┴───────────────┴───────────────┴───┴────────────┴──────────┴──────────┴───────────────┘"
      ]
     },
     "execution_count": 55,
     "metadata": {},
     "output_type": "execute_result"
    }
   ],
   "source": [
    "df_cleaned"
   ]
  },
  {
   "cell_type": "code",
   "execution_count": 58,
   "id": "624290f4-b196-4ae6-a5b8-5ee189ff0d8a",
   "metadata": {},
   "outputs": [],
   "source": [
    "df_cleaned = df_cleaned.with_columns([\n",
    "    df_cleaned[\"started_at\"].str.slice(0, 19).alias(\"started_at\"),  # Keep only YYYY-MM-DD HH:MM:SS\n",
    "    df_cleaned[\"ended_at\"].str.slice(0, 19).alias(\"ended_at\")\n",
    "])\n"
   ]
  },
  {
   "cell_type": "code",
   "execution_count": 60,
   "id": "e5f48c24-06ba-4aa7-b268-24f8f83b7b65",
   "metadata": {},
   "outputs": [
    {
     "name": "stdout",
     "output_type": "stream",
     "text": [
      "File saved as cleaned_cyclistic_data_2023.csv\n"
     ]
    }
   ],
   "source": [
    "df_cleaned.write_csv(\"cleaned_cyclistic_data_2023.csv\")\n",
    "print(\"File saved as cleaned_cyclistic_data_2023.csv\")\n"
   ]
  },
  {
   "cell_type": "code",
   "execution_count": null,
   "id": "e7cf8b8f-6bca-41f1-a2dc-9acdbb5c1d66",
   "metadata": {},
   "outputs": [],
   "source": []
  },
  {
   "cell_type": "code",
   "execution_count": null,
   "id": "717ecaee-e66e-4b4d-89f7-d7a8f254d158",
   "metadata": {},
   "outputs": [],
   "source": []
  },
  {
   "cell_type": "code",
   "execution_count": null,
   "id": "9e68ceb2-a32e-4fcf-9ff2-41c6faf9fbe1",
   "metadata": {},
   "outputs": [],
   "source": []
  },
  {
   "cell_type": "code",
   "execution_count": null,
   "id": "27a2f046-bcc4-47fe-8af0-8f567f8b616e",
   "metadata": {},
   "outputs": [],
   "source": []
  },
  {
   "cell_type": "code",
   "execution_count": 77,
   "id": "3cdae81b-6f28-4762-9a70-8b738ae76329",
   "metadata": {},
   "outputs": [
    {
     "data": {
      "text/html": [
       "<div><style>\n",
       ".dataframe > thead > tr,\n",
       ".dataframe > tbody > tr {\n",
       "  text-align: right;\n",
       "  white-space: pre-wrap;\n",
       "}\n",
       "</style>\n",
       "<small>shape: (5_712_887, 17)</small><table border=\"1\" class=\"dataframe\"><thead><tr><th>ride_id</th><th>rideable_type</th><th>started_at</th><th>ended_at</th><th>start_station_name</th><th>end_station_name</th><th>start_lat</th><th>start_lng</th><th>end_lat</th><th>end_lng</th><th>member_casual</th><th>start_date</th><th>start_time</th><th>end_date</th><th>end_time</th><th>duration</th><th>ride_validity</th></tr><tr><td>str</td><td>str</td><td>str</td><td>str</td><td>str</td><td>str</td><td>f64</td><td>f64</td><td>f64</td><td>f64</td><td>str</td><td>str</td><td>str</td><td>str</td><td>str</td><td>i64</td><td>str</td></tr></thead><tbody><tr><td>&quot;F96D5A74A3E41399&quot;</td><td>&quot;electric_bike&quot;</td><td>&quot;2023-01-21 20:05:42&quot;</td><td>&quot;2023-01-21 20:16:33&quot;</td><td>&quot;Lincoln Ave &amp; Fullerton Ave&quot;</td><td>&quot;Hampden Ct &amp; Diversey Ave&quot;</td><td>41.924074</td><td>-87.646278</td><td>41.93</td><td>-87.64</td><td>&quot;member&quot;</td><td>&quot;2023-01-21&quot;</td><td>&quot;20:05:42&quot;</td><td>&quot;2023-01-21&quot;</td><td>&quot;20:16:33&quot;</td><td>651</td><td>&quot;Fair&quot;</td></tr><tr><td>&quot;13CB7EB698CEDB88&quot;</td><td>&quot;classic_bike&quot;</td><td>&quot;2023-01-10 15:37:36&quot;</td><td>&quot;2023-01-10 15:46:05&quot;</td><td>&quot;Kimbark Ave &amp; 53rd St&quot;</td><td>&quot;Greenwood Ave &amp; 47th St&quot;</td><td>41.799568</td><td>-87.594747</td><td>41.809835</td><td>-87.599383</td><td>&quot;member&quot;</td><td>&quot;2023-01-10&quot;</td><td>&quot;15:37:36&quot;</td><td>&quot;2023-01-10&quot;</td><td>&quot;15:46:05&quot;</td><td>509</td><td>&quot;Fair&quot;</td></tr><tr><td>&quot;BD88A2E670661CE5&quot;</td><td>&quot;electric_bike&quot;</td><td>&quot;2023-01-02 07:51:57&quot;</td><td>&quot;2023-01-02 08:05:11&quot;</td><td>&quot;Western Ave &amp; Lunt Ave&quot;</td><td>&quot;Valli Produce - Evanston Plaza&quot;</td><td>42.008571</td><td>-87.690483</td><td>42.039742</td><td>-87.699413</td><td>&quot;casual&quot;</td><td>&quot;2023-01-02&quot;</td><td>&quot;07:51:57&quot;</td><td>&quot;2023-01-02&quot;</td><td>&quot;08:05:11&quot;</td><td>794</td><td>&quot;Fair&quot;</td></tr><tr><td>&quot;C90792D034FED968&quot;</td><td>&quot;classic_bike&quot;</td><td>&quot;2023-01-22 10:52:58&quot;</td><td>&quot;2023-01-22 11:01:44&quot;</td><td>&quot;Kimbark Ave &amp; 53rd St&quot;</td><td>&quot;Greenwood Ave &amp; 47th St&quot;</td><td>41.799568</td><td>-87.594747</td><td>41.809835</td><td>-87.599383</td><td>&quot;member&quot;</td><td>&quot;2023-01-22&quot;</td><td>&quot;10:52:58&quot;</td><td>&quot;2023-01-22&quot;</td><td>&quot;11:01:44&quot;</td><td>526</td><td>&quot;Fair&quot;</td></tr><tr><td>&quot;3397017529188E8A&quot;</td><td>&quot;classic_bike&quot;</td><td>&quot;2023-01-12 13:58:01&quot;</td><td>&quot;2023-01-12 14:13:20&quot;</td><td>&quot;Kimbark Ave &amp; 53rd St&quot;</td><td>&quot;Greenwood Ave &amp; 47th St&quot;</td><td>41.799568</td><td>-87.594747</td><td>41.809835</td><td>-87.599383</td><td>&quot;member&quot;</td><td>&quot;2023-01-12&quot;</td><td>&quot;13:58:01&quot;</td><td>&quot;2023-01-12&quot;</td><td>&quot;14:13:20&quot;</td><td>919</td><td>&quot;Fair&quot;</td></tr><tr><td>&hellip;</td><td>&hellip;</td><td>&hellip;</td><td>&hellip;</td><td>&hellip;</td><td>&hellip;</td><td>&hellip;</td><td>&hellip;</td><td>&hellip;</td><td>&hellip;</td><td>&hellip;</td><td>&hellip;</td><td>&hellip;</td><td>&hellip;</td><td>&hellip;</td><td>&hellip;</td><td>&hellip;</td></tr><tr><td>&quot;F74DF9549B504A6B&quot;</td><td>&quot;electric_bike&quot;</td><td>&quot;2023-12-07 13:15:24&quot;</td><td>&quot;2023-12-07 13:17:37&quot;</td><td>&quot;900 W Harrison St&quot;</td><td>&quot;Racine Ave &amp; Congress Pkwy&quot;</td><td>41.874702</td><td>-87.649804</td><td>41.87464</td><td>-87.65703</td><td>&quot;casual&quot;</td><td>&quot;2023-12-07&quot;</td><td>&quot;13:15:24&quot;</td><td>&quot;2023-12-07&quot;</td><td>&quot;13:17:37&quot;</td><td>133</td><td>&quot;Fair&quot;</td></tr><tr><td>&quot;BCDA66E761CC1029&quot;</td><td>&quot;classic_bike&quot;</td><td>&quot;2023-12-08 18:42:21&quot;</td><td>&quot;2023-12-08 18:45:56&quot;</td><td>&quot;900 W Harrison St&quot;</td><td>&quot;Racine Ave &amp; Congress Pkwy&quot;</td><td>41.874754</td><td>-87.649807</td><td>41.87464</td><td>-87.65703</td><td>&quot;casual&quot;</td><td>&quot;2023-12-08&quot;</td><td>&quot;18:42:21&quot;</td><td>&quot;2023-12-08&quot;</td><td>&quot;18:45:56&quot;</td><td>215</td><td>&quot;Fair&quot;</td></tr><tr><td>&quot;D2CF330F9C266683&quot;</td><td>&quot;classic_bike&quot;</td><td>&quot;2023-12-05 14:09:11&quot;</td><td>&quot;2023-12-05 14:13:01&quot;</td><td>&quot;900 W Harrison St&quot;</td><td>&quot;Racine Ave &amp; Congress Pkwy&quot;</td><td>41.874754</td><td>-87.649807</td><td>41.87464</td><td>-87.65703</td><td>&quot;member&quot;</td><td>&quot;2023-12-05&quot;</td><td>&quot;14:09:11&quot;</td><td>&quot;2023-12-05&quot;</td><td>&quot;14:13:01&quot;</td><td>230</td><td>&quot;Fair&quot;</td></tr><tr><td>&quot;3829A0D1E00EE970&quot;</td><td>&quot;electric_bike&quot;</td><td>&quot;2023-12-02 21:36:07&quot;</td><td>&quot;2023-12-02 21:53:45&quot;</td><td>&quot;Damen Ave &amp; Madison St&quot;</td><td>&quot;Morgan St &amp; Lake St*&quot;</td><td>41.881395</td><td>-87.674984</td><td>41.885492</td><td>-87.652289</td><td>&quot;casual&quot;</td><td>&quot;2023-12-02&quot;</td><td>&quot;21:36:07&quot;</td><td>&quot;2023-12-02&quot;</td><td>&quot;21:53:45&quot;</td><td>1058</td><td>&quot;Fair&quot;</td></tr><tr><td>&quot;A373F5B447AEA508&quot;</td><td>&quot;classic_bike&quot;</td><td>&quot;2023-12-11 13:07:46&quot;</td><td>&quot;2023-12-11 13:11:24&quot;</td><td>&quot;900 W Harrison St&quot;</td><td>&quot;Racine Ave &amp; Congress Pkwy&quot;</td><td>41.874754</td><td>-87.649807</td><td>41.87464</td><td>-87.65703</td><td>&quot;member&quot;</td><td>&quot;2023-12-11&quot;</td><td>&quot;13:07:46&quot;</td><td>&quot;2023-12-11&quot;</td><td>&quot;13:11:24&quot;</td><td>218</td><td>&quot;Fair&quot;</td></tr></tbody></table></div>"
      ],
      "text/plain": [
       "shape: (5_712_887, 17)\n",
       "┌──────────────────┬───────────────┬────────────┬────────────┬───┬────────────┬──────────┬──────────┬───────────────┐\n",
       "│ ride_id          ┆ rideable_type ┆ started_at ┆ ended_at   ┆ … ┆ end_date   ┆ end_time ┆ duration ┆ ride_validity │\n",
       "│ ---              ┆ ---           ┆ ---        ┆ ---        ┆   ┆ ---        ┆ ---      ┆ ---      ┆ ---           │\n",
       "│ str              ┆ str           ┆ str        ┆ str        ┆   ┆ str        ┆ str      ┆ i64      ┆ str           │\n",
       "╞══════════════════╪═══════════════╪════════════╪════════════╪═══╪════════════╪══════════╪══════════╪═══════════════╡\n",
       "│ F96D5A74A3E41399 ┆ electric_bike ┆ 2023-01-21 ┆ 2023-01-21 ┆ … ┆ 2023-01-21 ┆ 20:16:33 ┆ 651      ┆ Fair          │\n",
       "│                  ┆               ┆ 20:05:42   ┆ 20:16:33   ┆   ┆            ┆          ┆          ┆               │\n",
       "│ 13CB7EB698CEDB88 ┆ classic_bike  ┆ 2023-01-10 ┆ 2023-01-10 ┆ … ┆ 2023-01-10 ┆ 15:46:05 ┆ 509      ┆ Fair          │\n",
       "│                  ┆               ┆ 15:37:36   ┆ 15:46:05   ┆   ┆            ┆          ┆          ┆               │\n",
       "│ BD88A2E670661CE5 ┆ electric_bike ┆ 2023-01-02 ┆ 2023-01-02 ┆ … ┆ 2023-01-02 ┆ 08:05:11 ┆ 794      ┆ Fair          │\n",
       "│                  ┆               ┆ 07:51:57   ┆ 08:05:11   ┆   ┆            ┆          ┆          ┆               │\n",
       "│ C90792D034FED968 ┆ classic_bike  ┆ 2023-01-22 ┆ 2023-01-22 ┆ … ┆ 2023-01-22 ┆ 11:01:44 ┆ 526      ┆ Fair          │\n",
       "│                  ┆               ┆ 10:52:58   ┆ 11:01:44   ┆   ┆            ┆          ┆          ┆               │\n",
       "│ 3397017529188E8A ┆ classic_bike  ┆ 2023-01-12 ┆ 2023-01-12 ┆ … ┆ 2023-01-12 ┆ 14:13:20 ┆ 919      ┆ Fair          │\n",
       "│                  ┆               ┆ 13:58:01   ┆ 14:13:20   ┆   ┆            ┆          ┆          ┆               │\n",
       "│ …                ┆ …             ┆ …          ┆ …          ┆ … ┆ …          ┆ …        ┆ …        ┆ …             │\n",
       "│ F74DF9549B504A6B ┆ electric_bike ┆ 2023-12-07 ┆ 2023-12-07 ┆ … ┆ 2023-12-07 ┆ 13:17:37 ┆ 133      ┆ Fair          │\n",
       "│                  ┆               ┆ 13:15:24   ┆ 13:17:37   ┆   ┆            ┆          ┆          ┆               │\n",
       "│ BCDA66E761CC1029 ┆ classic_bike  ┆ 2023-12-08 ┆ 2023-12-08 ┆ … ┆ 2023-12-08 ┆ 18:45:56 ┆ 215      ┆ Fair          │\n",
       "│                  ┆               ┆ 18:42:21   ┆ 18:45:56   ┆   ┆            ┆          ┆          ┆               │\n",
       "│ D2CF330F9C266683 ┆ classic_bike  ┆ 2023-12-05 ┆ 2023-12-05 ┆ … ┆ 2023-12-05 ┆ 14:13:01 ┆ 230      ┆ Fair          │\n",
       "│                  ┆               ┆ 14:09:11   ┆ 14:13:01   ┆   ┆            ┆          ┆          ┆               │\n",
       "│ 3829A0D1E00EE970 ┆ electric_bike ┆ 2023-12-02 ┆ 2023-12-02 ┆ … ┆ 2023-12-02 ┆ 21:53:45 ┆ 1058     ┆ Fair          │\n",
       "│                  ┆               ┆ 21:36:07   ┆ 21:53:45   ┆   ┆            ┆          ┆          ┆               │\n",
       "│ A373F5B447AEA508 ┆ classic_bike  ┆ 2023-12-11 ┆ 2023-12-11 ┆ … ┆ 2023-12-11 ┆ 13:11:24 ┆ 218      ┆ Fair          │\n",
       "│                  ┆               ┆ 13:07:46   ┆ 13:11:24   ┆   ┆            ┆          ┆          ┆               │\n",
       "└──────────────────┴───────────────┴────────────┴────────────┴───┴────────────┴──────────┴──────────┴───────────────┘"
      ]
     },
     "execution_count": 77,
     "metadata": {},
     "output_type": "execute_result"
    }
   ],
   "source": [
    "pl.read_csv(r\"C:\\Users\\Sowjanya\\Documents\\BIIKE-SHARE-DATA\\cleaned_cyclistic_data_2023.csv\")"
   ]
  },
  {
   "cell_type": "markdown",
   "id": "7a894046-399e-4933-b16f-f04932d4763b",
   "metadata": {},
   "source": [
    "pip install sqlalchemy"
   ]
  },
  {
   "cell_type": "code",
   "execution_count": 41,
   "id": "8c0129d0-ed5e-4d45-b810-6c319edb5cbc",
   "metadata": {},
   "outputs": [],
   "source": [
    "from sqlalchemy import create_engine"
   ]
  },
  {
   "cell_type": "code",
   "execution_count": 42,
   "id": "7c84b6ee-55ec-4eac-9446-7c816c24d3c4",
   "metadata": {},
   "outputs": [
    {
     "name": "stdout",
     "output_type": "stream",
     "text": [
      "Requirement already satisfied: sqlalchemy in c:\\users\\sowjanya\\anaconda3\\lib\\site-packages (2.0.34)\n",
      "Requirement already satisfied: mysql-connector-python in c:\\users\\sowjanya\\anaconda3\\lib\\site-packages (9.2.0)\n",
      "Requirement already satisfied: pymysql in c:\\users\\sowjanya\\anaconda3\\lib\\site-packages (1.1.1)\n",
      "Requirement already satisfied: typing-extensions>=4.6.0 in c:\\users\\sowjanya\\anaconda3\\lib\\site-packages (from sqlalchemy) (4.11.0)\n",
      "Requirement already satisfied: greenlet!=0.4.17 in c:\\users\\sowjanya\\anaconda3\\lib\\site-packages (from sqlalchemy) (3.0.1)\n",
      "Note: you may need to restart the kernel to use updated packages.\n"
     ]
    }
   ],
   "source": [
    "pip install sqlalchemy mysql-connector-python pymysql\n"
   ]
  },
  {
   "cell_type": "markdown",
   "id": "78a4e2c5-53f6-4743-a8b2-b6d274afae34",
   "metadata": {},
   "source": [
    "import mysql.connector\n",
    "\n",
    "# Connection without specifying the database\n",
    "connection = mysql.connector.connect(\n",
    "    host=\"localhost\",\n",
    "    port=3305,\n",
    "    user=\"root\",\n",
    "    password=\"root\"\n",
    ")\n",
    "\n",
    "cursor = connection.cursor()\n",
    "\n",
    "# Create database if not exists\n",
    "cursor.execute(\"CREATE DATABASE IF NOT EXISTS bike_share\")\n",
    "\n",
    "# Now connect to the database\n",
    "connection.database = \"bike_share\"\n",
    "\n",
    "print(\"Database connected successfully!\")"
   ]
  },
  {
   "cell_type": "code",
   "execution_count": 83,
   "id": "17fd1199-5a2b-4ed1-aa62-a1ea68e8ae9a",
   "metadata": {},
   "outputs": [
    {
     "name": "stdout",
     "output_type": "stream",
     "text": [
      "✅ Table 'bike_rides_2023' created successfully!\n"
     ]
    }
   ],
   "source": [
    "import mysql.connector\n",
    "\n",
    "# Connect to MySQL database\n",
    "connection = mysql.connector.connect(\n",
    "    host=\"localhost\",\n",
    "    port=3305,\n",
    "    user=\"root\",\n",
    "    password=\"root\",\n",
    "    database=\"bike_share\"\n",
    ")\n",
    "cursor = connection.cursor()\n",
    "\n",
    "# Create table query\n",
    "create_table_query = \"\"\"\n",
    "CREATE TABLE IF NOT EXISTS bike_rides_2023 (\n",
    "    ride_id TEXT,\n",
    "    rideable_type TEXT,\n",
    "    started_at TEXT,\n",
    "    ended_at TEXT,\n",
    "    start_station_name TEXT,\n",
    "    end_station_name TEXT,\n",
    "    start_lat DOUBLE,\n",
    "    start_lng DOUBLE,\n",
    "    end_lat DOUBLE,\n",
    "    end_lng DOUBLE,\n",
    "    member_casual TEXT,\n",
    "    start_date TEXT,\n",
    "    start_time TEXT,\n",
    "    end_date TEXT,\n",
    "    end_time TEXT,\n",
    "    duration INT,\n",
    "    ride_validity TEXT\n",
    ");\n",
    "\"\"\"\n",
    "\n",
    "# Execute the query\n",
    "cursor.execute(create_table_query)\n",
    "connection.commit()\n",
    "\n",
    "print(\"✅ Table 'bike_rides_2023' created successfully!\")\n",
    "\n",
    "# Close connection\n",
    "cursor.close()\n",
    "connection.close()\n"
   ]
  },
  {
   "cell_type": "code",
   "execution_count": 85,
   "id": "68636ef6-8627-43a9-a6eb-c1a8e1f95c1b",
   "metadata": {},
   "outputs": [
    {
     "name": "stdout",
     "output_type": "stream",
     "text": [
      "✅ Database connected successfully!\n",
      "✅ Table checked/created successfully!\n",
      "✅ Inserted 5712887 unique records successfully into `bike_rides_2023`!\n"
     ]
    }
   ],
   "source": [
    "import mysql.connector\n",
    "\n",
    "# Assuming df_cleaned is your cleaned Polars DataFrame\n",
    "df_cleaned = df_cleaned.unique()  # Ensure unique records\n",
    "\n",
    "# Convert Polars DataFrame to a list of tuples\n",
    "data = [tuple(row) for row in df_cleaned.to_numpy()]\n",
    "\n",
    "# Connect to MySQL without specifying the database first\n",
    "connection = mysql.connector.connect(\n",
    "    host=\"localhost\",\n",
    "    port=3305,\n",
    "    user=\"root\",\n",
    "    password=\"root\"\n",
    ")\n",
    "cursor = connection.cursor()\n",
    "\n",
    "# Create database if not exists\n",
    "cursor.execute(\"CREATE DATABASE IF NOT EXISTS bike_share\")\n",
    "\n",
    "# Connect to the database\n",
    "connection.database = \"bike_share\"\n",
    "\n",
    "print(\"✅ Database connected successfully!\")\n",
    "\n",
    "# Ensure the `bike_rides_2020` table exists (Modify the schema if needed)\n",
    "cursor.execute(\"\"\"\n",
    "CREATE TABLE IF NOT EXISTS bike_rides_2023 (\n",
    "    ride_id TEXT PRIMARY KEY,\n",
    "    rideable_type TEXT,\n",
    "    started_at TEXT,\n",
    "    ended_at TEXT,\n",
    "    start_station_name TEXT,\n",
    "    end_station_name TEXT,\n",
    "    start_lat DOUBLE,\n",
    "    start_lng DOUBLE,\n",
    "    end_lat DOUBLE,\n",
    "    end_lng DOUBLE,\n",
    "    member_casual TEXT,\n",
    "    start_date TEXT,\n",
    "    start_time TEXT,\n",
    "    end_date TEXT,\n",
    "    end_time TEXT,\n",
    "    duration INT,\n",
    "    ride_validity TEXT\n",
    ")\n",
    "\"\"\")\n",
    "\n",
    "print(\"✅ Table checked/created successfully!\")\n",
    "\n",
    "# SQL Insert Query (Ensure column names match your table)\n",
    "insert_stmt = \"\"\"\n",
    "INSERT IGNORE INTO bike_rides_2023 (\n",
    "    ride_id, rideable_type, started_at, ended_at, start_station_name, \n",
    "    end_station_name, start_lat, start_lng, end_lat, end_lng, \n",
    "    member_casual, start_date, start_time, end_date, end_time, \n",
    "    duration, ride_validity\n",
    ") VALUES (%s, %s, %s, %s, %s, %s, %s, %s, %s, %s, %s, %s, %s, %s, %s, %s, %s)\n",
    "\"\"\"\n",
    "\n",
    "# Insert data in batches for efficiency\n",
    "batch_size = 1000\n",
    "for i in range(0, len(data), batch_size):\n",
    "    batch = data[i:i + batch_size]\n",
    "    cursor.executemany(insert_stmt, batch)\n",
    "    connection.commit()\n",
    "\n",
    "print(f\"✅ Inserted {len(data)} unique records successfully into `bike_rides_2023`!\")\n",
    "\n",
    "# Close connection\n",
    "cursor.close()\n",
    "connection.close()\n"
   ]
  },
  {
   "cell_type": "code",
   "execution_count": null,
   "id": "316091be-bcde-4a3e-99b2-06adc4a5e59a",
   "metadata": {},
   "outputs": [],
   "source": []
  }
 ],
 "metadata": {
  "kernelspec": {
   "display_name": "Python 3 (ipykernel)",
   "language": "python",
   "name": "python3"
  },
  "language_info": {
   "codemirror_mode": {
    "name": "ipython",
    "version": 3
   },
   "file_extension": ".py",
   "mimetype": "text/x-python",
   "name": "python",
   "nbconvert_exporter": "python",
   "pygments_lexer": "ipython3",
   "version": "3.12.7"
  }
 },
 "nbformat": 4,
 "nbformat_minor": 5
}
