{
 "cells": [
  {
   "cell_type": "code",
   "execution_count": 1,
   "id": "fd8211d5-7789-484f-af8f-13e346889ddf",
   "metadata": {},
   "outputs": [
    {
     "name": "stdout",
     "output_type": "stream",
     "text": [
      "shape: (5, 13)\n",
      "┌───────────────┬───────────────┬───────────────┬───────────────┬───┬───────────────┬─────────┬─────────┬──────────────┐\n",
      "│ ride_id       ┆ rideable_type ┆ started_at    ┆ ended_at      ┆ … ┆ start_lng     ┆ end_lat ┆ end_lng ┆ member_casua │\n",
      "│ ---           ┆ ---           ┆ ---           ┆ ---           ┆   ┆ ---           ┆ ---     ┆ ---     ┆ l            │\n",
      "│ str           ┆ str           ┆ str           ┆ str           ┆   ┆ str           ┆ str     ┆ str     ┆ ---          │\n",
      "│               ┆               ┆               ┆               ┆   ┆               ┆         ┆         ┆ str          │\n",
      "╞═══════════════╪═══════════════╪═══════════════╪═══════════════╪═══╪═══════════════╪═════════╪═════════╪══════════════╡\n",
      "│ E19E6F1B8D4C4 ┆ electric_bike ┆ 2021-01-23    ┆ 2021-01-23    ┆ … ┆ -87.696743    ┆ 41.89   ┆ -87.72  ┆ member       │\n",
      "│ 2ED           ┆               ┆ 16:14:19      ┆ 16:24:44      ┆   ┆               ┆         ┆         ┆              │\n",
      "│ DC88F20C2C55F ┆ electric_bike ┆ 2021-01-27    ┆ 2021-01-27    ┆ … ┆ -87.696707    ┆ 41.9    ┆ -87.69  ┆ member       │\n",
      "│ 27F           ┆               ┆ 18:43:08      ┆ 18:47:12      ┆   ┆               ┆         ┆         ┆              │\n",
      "│ EC45C94683FE3 ┆ electric_bike ┆ 2021-01-21    ┆ 2021-01-21    ┆ … ┆ -87.696642666 ┆ 41.9    ┆ -87.7   ┆ member       │\n",
      "│ F27           ┆               ┆ 22:35:54      ┆ 22:37:14      ┆   ┆ 66666         ┆         ┆         ┆              │\n",
      "│ 4FA453A75AE37 ┆ electric_bike ┆ 2021-01-07    ┆ 2021-01-07    ┆ … ┆ -87.696662166 ┆ 41.92   ┆ -87.69  ┆ member       │\n",
      "│ 7DB           ┆               ┆ 13:31:13      ┆ 13:42:55      ┆   ┆ 66667         ┆         ┆         ┆              │\n",
      "│ BE5E8EB4E7263 ┆ electric_bike ┆ 2021-01-23    ┆ 2021-01-23    ┆ … ┆ -87.696697166 ┆ 41.9    ┆ -87.7   ┆ casual       │\n",
      "│ A0B           ┆               ┆ 02:24:02      ┆ 02:24:45      ┆   ┆ 66667         ┆         ┆         ┆              │\n",
      "└───────────────┴───────────────┴───────────────┴───────────────┴───┴───────────────┴─────────┴─────────┴──────────────┘\n"
     ]
    }
   ],
   "source": [
    "import os\n",
    "import polars as pl\n",
    "\n",
    "# List of folder paths\n",
    "folder_paths = [\n",
    "    r\"C:\\Users\\Sowjanya\\OneDrive\\Desktop\\Capstone\\DATA_2021\"\n",
    "]\n",
    "\n",
    "# Create an empty list to store DataFrames\n",
    "dataframes = []\n",
    "\n",
    "# Loop through each folder\n",
    "for folder_path in folder_paths:\n",
    "    # Get a list of all CSV files in the folder\n",
    "    file_list = [f for f in os.listdir(folder_path) if f.endswith('.csv')]\n",
    "    \n",
    "    # Read each file and append to the list\n",
    "    for file in file_list:\n",
    "        file_path = os.path.join(folder_path, file)\n",
    "        df = pl.read_csv(file_path, infer_schema_length=1000)  # Increase schema inference\n",
    "        dataframes.append(df.with_columns([\n",
    "            pl.col(col).cast(pl.Utf8) for col in df.columns  # Convert all columns to string\n",
    "        ]))\n",
    "\n",
    "# Concatenate all DataFrames into one\n",
    "df_final = pl.concat(dataframes, how=\"vertical_relaxed\")  # Allow mismatched schemas\n",
    "\n",
    "# Display the first few rows\n",
    "print(df_final.head())"
   ]
  },
  {
   "cell_type": "code",
   "execution_count": 3,
   "id": "547bfdce-1980-48da-944f-3bff6825399d",
   "metadata": {},
   "outputs": [],
   "source": [
    "df = df_final.clone()"
   ]
  },
  {
   "cell_type": "code",
   "execution_count": 5,
   "id": "dd1a0f5f-ec0e-480c-8a13-494f7cd857ad",
   "metadata": {},
   "outputs": [
    {
     "data": {
      "text/html": [
       "<div><style>\n",
       ".dataframe > thead > tr,\n",
       ".dataframe > tbody > tr {\n",
       "  text-align: right;\n",
       "  white-space: pre-wrap;\n",
       "}\n",
       "</style>\n",
       "<small>shape: (5_595_063, 13)</small><table border=\"1\" class=\"dataframe\"><thead><tr><th>ride_id</th><th>rideable_type</th><th>started_at</th><th>ended_at</th><th>start_station_name</th><th>start_station_id</th><th>end_station_name</th><th>end_station_id</th><th>start_lat</th><th>start_lng</th><th>end_lat</th><th>end_lng</th><th>member_casual</th></tr><tr><td>str</td><td>str</td><td>str</td><td>str</td><td>str</td><td>str</td><td>str</td><td>str</td><td>str</td><td>str</td><td>str</td><td>str</td><td>str</td></tr></thead><tbody><tr><td>&quot;E19E6F1B8D4C42ED&quot;</td><td>&quot;electric_bike&quot;</td><td>&quot;2021-01-23 16:14:19&quot;</td><td>&quot;2021-01-23 16:24:44&quot;</td><td>&quot;California Ave &amp; Cortez St&quot;</td><td>&quot;17660&quot;</td><td>null</td><td>null</td><td>&quot;41.900340666666665&quot;</td><td>&quot;-87.696743&quot;</td><td>&quot;41.89&quot;</td><td>&quot;-87.72&quot;</td><td>&quot;member&quot;</td></tr><tr><td>&quot;DC88F20C2C55F27F&quot;</td><td>&quot;electric_bike&quot;</td><td>&quot;2021-01-27 18:43:08&quot;</td><td>&quot;2021-01-27 18:47:12&quot;</td><td>&quot;California Ave &amp; Cortez St&quot;</td><td>&quot;17660&quot;</td><td>null</td><td>null</td><td>&quot;41.90033283333333&quot;</td><td>&quot;-87.696707&quot;</td><td>&quot;41.9&quot;</td><td>&quot;-87.69&quot;</td><td>&quot;member&quot;</td></tr><tr><td>&quot;EC45C94683FE3F27&quot;</td><td>&quot;electric_bike&quot;</td><td>&quot;2021-01-21 22:35:54&quot;</td><td>&quot;2021-01-21 22:37:14&quot;</td><td>&quot;California Ave &amp; Cortez St&quot;</td><td>&quot;17660&quot;</td><td>null</td><td>null</td><td>&quot;41.900312666666665&quot;</td><td>&quot;-87.69664266666666&quot;</td><td>&quot;41.9&quot;</td><td>&quot;-87.7&quot;</td><td>&quot;member&quot;</td></tr><tr><td>&quot;4FA453A75AE377DB&quot;</td><td>&quot;electric_bike&quot;</td><td>&quot;2021-01-07 13:31:13&quot;</td><td>&quot;2021-01-07 13:42:55&quot;</td><td>&quot;California Ave &amp; Cortez St&quot;</td><td>&quot;17660&quot;</td><td>null</td><td>null</td><td>&quot;41.90039866666667&quot;</td><td>&quot;-87.69666216666667&quot;</td><td>&quot;41.92&quot;</td><td>&quot;-87.69&quot;</td><td>&quot;member&quot;</td></tr><tr><td>&quot;BE5E8EB4E7263A0B&quot;</td><td>&quot;electric_bike&quot;</td><td>&quot;2021-01-23 02:24:02&quot;</td><td>&quot;2021-01-23 02:24:45&quot;</td><td>&quot;California Ave &amp; Cortez St&quot;</td><td>&quot;17660&quot;</td><td>null</td><td>null</td><td>&quot;41.90032633333333&quot;</td><td>&quot;-87.69669716666667&quot;</td><td>&quot;41.9&quot;</td><td>&quot;-87.7&quot;</td><td>&quot;casual&quot;</td></tr><tr><td>&hellip;</td><td>&hellip;</td><td>&hellip;</td><td>&hellip;</td><td>&hellip;</td><td>&hellip;</td><td>&hellip;</td><td>&hellip;</td><td>&hellip;</td><td>&hellip;</td><td>&hellip;</td><td>&hellip;</td><td>&hellip;</td></tr><tr><td>&quot;847431F3D5353AB7&quot;</td><td>&quot;electric_bike&quot;</td><td>&quot;2021-12-12 13:36:55&quot;</td><td>&quot;2021-12-12 13:56:08&quot;</td><td>&quot;Canal St &amp; Madison St&quot;</td><td>&quot;13341&quot;</td><td>null</td><td>null</td><td>&quot;41.882288833333334&quot;</td><td>&quot;-87.63975216666667&quot;</td><td>&quot;41.89&quot;</td><td>&quot;-87.61&quot;</td><td>&quot;casual&quot;</td></tr><tr><td>&quot;CF407BBC3B9FAD63&quot;</td><td>&quot;electric_bike&quot;</td><td>&quot;2021-12-06 19:37:50&quot;</td><td>&quot;2021-12-06 19:44:51&quot;</td><td>&quot;Canal St &amp; Madison St&quot;</td><td>&quot;13341&quot;</td><td>&quot;Kingsbury St &amp; Kinzie St&quot;</td><td>&quot;KA1503000043&quot;</td><td>&quot;41.882122833333334&quot;</td><td>&quot;-87.640053&quot;</td><td>&quot;41.889106&quot;</td><td>&quot;-87.638862&quot;</td><td>&quot;member&quot;</td></tr><tr><td>&quot;60BB69EBF5440E92&quot;</td><td>&quot;electric_bike&quot;</td><td>&quot;2021-12-02 08:57:04&quot;</td><td>&quot;2021-12-02 09:05:21&quot;</td><td>&quot;Canal St &amp; Madison St&quot;</td><td>&quot;13341&quot;</td><td>&quot;Dearborn St &amp; Monroe St&quot;</td><td>&quot;TA1305000006&quot;</td><td>&quot;41.88195616666667&quot;</td><td>&quot;-87.63995483333333&quot;</td><td>&quot;41.8802535&quot;</td><td>&quot;-87.62960266666667&quot;</td><td>&quot;member&quot;</td></tr><tr><td>&quot;C414F654A28635B8&quot;</td><td>&quot;electric_bike&quot;</td><td>&quot;2021-12-13 09:00:26&quot;</td><td>&quot;2021-12-13 09:14:39&quot;</td><td>&quot;Lawndale Ave &amp; 16th St&quot;</td><td>&quot;362.0&quot;</td><td>null</td><td>null</td><td>&quot;41.86&quot;</td><td>&quot;-87.72&quot;</td><td>&quot;41.85&quot;</td><td>&quot;-87.71&quot;</td><td>&quot;member&quot;</td></tr><tr><td>&quot;37AC57E34B2E7E97&quot;</td><td>&quot;classic_bike&quot;</td><td>&quot;2021-12-13 08:45:32&quot;</td><td>&quot;2021-12-13 08:49:09&quot;</td><td>&quot;Michigan Ave &amp; Jackson Blvd&quot;</td><td>&quot;TA1309000002&quot;</td><td>&quot;Dearborn St &amp; Monroe St&quot;</td><td>&quot;TA1305000006&quot;</td><td>&quot;41.87785&quot;</td><td>&quot;-87.62408&quot;</td><td>&quot;41.881319815&quot;</td><td>&quot;-87.6295209193&quot;</td><td>&quot;member&quot;</td></tr></tbody></table></div>"
      ],
      "text/plain": [
       "shape: (5_595_063, 13)\n",
       "┌──────────────┬──────────────┬──────────────┬─────────────┬───┬─────────────┬─────────────┬─────────────┬─────────────┐\n",
       "│ ride_id      ┆ rideable_typ ┆ started_at   ┆ ended_at    ┆ … ┆ start_lng   ┆ end_lat     ┆ end_lng     ┆ member_casu │\n",
       "│ ---          ┆ e            ┆ ---          ┆ ---         ┆   ┆ ---         ┆ ---         ┆ ---         ┆ al          │\n",
       "│ str          ┆ ---          ┆ str          ┆ str         ┆   ┆ str         ┆ str         ┆ str         ┆ ---         │\n",
       "│              ┆ str          ┆              ┆             ┆   ┆             ┆             ┆             ┆ str         │\n",
       "╞══════════════╪══════════════╪══════════════╪═════════════╪═══╪═════════════╪═════════════╪═════════════╪═════════════╡\n",
       "│ E19E6F1B8D4C ┆ electric_bik ┆ 2021-01-23   ┆ 2021-01-23  ┆ … ┆ -87.696743  ┆ 41.89       ┆ -87.72      ┆ member      │\n",
       "│ 42ED         ┆ e            ┆ 16:14:19     ┆ 16:24:44    ┆   ┆             ┆             ┆             ┆             │\n",
       "│ DC88F20C2C55 ┆ electric_bik ┆ 2021-01-27   ┆ 2021-01-27  ┆ … ┆ -87.696707  ┆ 41.9        ┆ -87.69      ┆ member      │\n",
       "│ F27F         ┆ e            ┆ 18:43:08     ┆ 18:47:12    ┆   ┆             ┆             ┆             ┆             │\n",
       "│ EC45C94683FE ┆ electric_bik ┆ 2021-01-21   ┆ 2021-01-21  ┆ … ┆ -87.6966426 ┆ 41.9        ┆ -87.7       ┆ member      │\n",
       "│ 3F27         ┆ e            ┆ 22:35:54     ┆ 22:37:14    ┆   ┆ 6666666     ┆             ┆             ┆             │\n",
       "│ 4FA453A75AE3 ┆ electric_bik ┆ 2021-01-07   ┆ 2021-01-07  ┆ … ┆ -87.6966621 ┆ 41.92       ┆ -87.69      ┆ member      │\n",
       "│ 77DB         ┆ e            ┆ 13:31:13     ┆ 13:42:55    ┆   ┆ 6666667     ┆             ┆             ┆             │\n",
       "│ BE5E8EB4E726 ┆ electric_bik ┆ 2021-01-23   ┆ 2021-01-23  ┆ … ┆ -87.6966971 ┆ 41.9        ┆ -87.7       ┆ casual      │\n",
       "│ 3A0B         ┆ e            ┆ 02:24:02     ┆ 02:24:45    ┆   ┆ 6666667     ┆             ┆             ┆             │\n",
       "│ …            ┆ …            ┆ …            ┆ …           ┆ … ┆ …           ┆ …           ┆ …           ┆ …           │\n",
       "│ 847431F3D535 ┆ electric_bik ┆ 2021-12-12   ┆ 2021-12-12  ┆ … ┆ -87.6397521 ┆ 41.89       ┆ -87.61      ┆ casual      │\n",
       "│ 3AB7         ┆ e            ┆ 13:36:55     ┆ 13:56:08    ┆   ┆ 6666667     ┆             ┆             ┆             │\n",
       "│ CF407BBC3B9F ┆ electric_bik ┆ 2021-12-06   ┆ 2021-12-06  ┆ … ┆ -87.640053  ┆ 41.889106   ┆ -87.638862  ┆ member      │\n",
       "│ AD63         ┆ e            ┆ 19:37:50     ┆ 19:44:51    ┆   ┆             ┆             ┆             ┆             │\n",
       "│ 60BB69EBF544 ┆ electric_bik ┆ 2021-12-02   ┆ 2021-12-02  ┆ … ┆ -87.6399548 ┆ 41.8802535  ┆ -87.6296026 ┆ member      │\n",
       "│ 0E92         ┆ e            ┆ 08:57:04     ┆ 09:05:21    ┆   ┆ 3333333     ┆             ┆ 6666667     ┆             │\n",
       "│ C414F654A286 ┆ electric_bik ┆ 2021-12-13   ┆ 2021-12-13  ┆ … ┆ -87.72      ┆ 41.85       ┆ -87.71      ┆ member      │\n",
       "│ 35B8         ┆ e            ┆ 09:00:26     ┆ 09:14:39    ┆   ┆             ┆             ┆             ┆             │\n",
       "│ 37AC57E34B2E ┆ classic_bike ┆ 2021-12-13   ┆ 2021-12-13  ┆ … ┆ -87.62408   ┆ 41.88131981 ┆ -87.6295209 ┆ member      │\n",
       "│ 7E97         ┆              ┆ 08:45:32     ┆ 08:49:09    ┆   ┆             ┆ 5           ┆ 193         ┆             │\n",
       "└──────────────┴──────────────┴──────────────┴─────────────┴───┴─────────────┴─────────────┴─────────────┴─────────────┘"
      ]
     },
     "execution_count": 5,
     "metadata": {},
     "output_type": "execute_result"
    }
   ],
   "source": [
    "df"
   ]
  },
  {
   "cell_type": "code",
   "execution_count": 7,
   "id": "d0532abc-7dfe-4e6d-b5eb-ed88bf8fb1c7",
   "metadata": {},
   "outputs": [
    {
     "name": "stdout",
     "output_type": "stream",
     "text": [
      "shape: (1, 13)\n",
      "┌─────────┬───────────────┬────────────┬──────────┬───┬───────────┬─────────┬─────────┬───────────────┐\n",
      "│ ride_id ┆ rideable_type ┆ started_at ┆ ended_at ┆ … ┆ start_lng ┆ end_lat ┆ end_lng ┆ member_casual │\n",
      "│ ---     ┆ ---           ┆ ---        ┆ ---      ┆   ┆ ---       ┆ ---     ┆ ---     ┆ ---           │\n",
      "│ u32     ┆ u32           ┆ u32        ┆ u32      ┆   ┆ u32       ┆ u32     ┆ u32     ┆ u32           │\n",
      "╞═════════╪═══════════════╪════════════╪══════════╪═══╪═══════════╪═════════╪═════════╪═══════════════╡\n",
      "│ 0       ┆ 0             ┆ 0          ┆ 0        ┆ … ┆ 0         ┆ 4771    ┆ 4771    ┆ 0             │\n",
      "└─────────┴───────────────┴────────────┴──────────┴───┴───────────┴─────────┴─────────┴───────────────┘\n"
     ]
    }
   ],
   "source": [
    "# Step 1: Count missing values in each column\n",
    "missing_values = df.null_count()\n",
    "print(missing_values)"
   ]
  },
  {
   "cell_type": "code",
   "execution_count": 9,
   "id": "b09e57e6-fde8-4245-a799-d20db69d2275",
   "metadata": {},
   "outputs": [
    {
     "name": "stdout",
     "output_type": "stream",
     "text": [
      "Number of removed records: 4771\n",
      "\n",
      "Records removed (stored separately):\n",
      "shape: (4_771, 13)\n",
      "┌───────────────┬───────────────┬───────────────┬───────────────┬───┬───────────────┬─────────┬─────────┬──────────────┐\n",
      "│ ride_id       ┆ rideable_type ┆ started_at    ┆ ended_at      ┆ … ┆ start_lng     ┆ end_lat ┆ end_lng ┆ member_casua │\n",
      "│ ---           ┆ ---           ┆ ---           ┆ ---           ┆   ┆ ---           ┆ ---     ┆ ---     ┆ l            │\n",
      "│ str           ┆ str           ┆ str           ┆ str           ┆   ┆ str           ┆ str     ┆ str     ┆ ---          │\n",
      "│               ┆               ┆               ┆               ┆   ┆               ┆         ┆         ┆ str          │\n",
      "╞═══════════════╪═══════════════╪═══════════════╪═══════════════╪═══╪═══════════════╪═════════╪═════════╪══════════════╡\n",
      "│ 318CF47BD3FE2 ┆ classic_bike  ┆ 2021-01-25    ┆ 2021-01-26    ┆ … ┆ -87.620104    ┆ null    ┆ null    ┆ member       │\n",
      "│ 02A           ┆               ┆ 16:06:47      ┆ 07:30:58      ┆   ┆               ┆         ┆         ┆              │\n",
      "│ C832F2F65BBA9 ┆ classic_bike  ┆ 2021-01-07    ┆ 2021-01-08    ┆ … ┆ -87.61379     ┆ null    ┆ null    ┆ casual       │\n",
      "│ BDB           ┆               ┆ 00:31:02      ┆ 01:30:47      ┆   ┆               ┆         ┆         ┆              │\n",
      "│ 389C3A4B79903 ┆ classic_bike  ┆ 2021-01-22    ┆ 2021-01-22    ┆ … ┆ -87.6722      ┆ null    ┆ null    ┆ member       │\n",
      "│ 490           ┆               ┆ 17:56:10      ┆ 21:11:29      ┆   ┆               ┆         ┆         ┆              │\n",
      "│ 4B4060B331FC7 ┆ classic_bike  ┆ 2021-01-03    ┆ 2021-01-03    ┆ … ┆ -87.615355390 ┆ null    ┆ null    ┆ member       │\n",
      "│ D06           ┆               ┆ 07:31:57      ┆ 08:19:23      ┆   ┆ 2             ┆         ┆         ┆              │\n",
      "│ 785FE7547E9B7 ┆ classic_bike  ┆ 2021-01-16    ┆ 2021-01-17    ┆ … ┆ -87.697422802 ┆ null    ┆ null    ┆ casual       │\n",
      "│ 329           ┆               ┆ 18:17:00      ┆ 08:15:11      ┆   ┆ 44827         ┆         ┆         ┆              │\n",
      "│ …             ┆ …             ┆ …             ┆ …             ┆ … ┆ …             ┆ …       ┆ …       ┆ …            │\n",
      "│ A3C2453EE8FF2 ┆ docked_bike   ┆ 2021-12-11    ┆ 2021-12-12    ┆ … ┆ -87.582801    ┆ null    ┆ null    ┆ casual       │\n",
      "│ 517           ┆               ┆ 12:12:52      ┆ 13:12:52      ┆   ┆               ┆         ┆         ┆              │\n",
      "│ 998410C71C037 ┆ classic_bike  ┆ 2021-12-05    ┆ 2021-12-07    ┆ … ┆ -87.667429    ┆ null    ┆ null    ┆ casual       │\n",
      "│ 7A1           ┆               ┆ 23:43:26      ┆ 00:43:21      ┆   ┆               ┆         ┆         ┆              │\n",
      "│ C5E4CAB6231C2 ┆ classic_bike  ┆ 2021-12-18    ┆ 2021-12-18    ┆ … ┆ -87.659172    ┆ null    ┆ null    ┆ casual       │\n",
      "│ 39A           ┆               ┆ 13:50:32      ┆ 16:23:32      ┆   ┆               ┆         ┆         ┆              │\n",
      "│ BAAE796C54499 ┆ classic_bike  ┆ 2021-12-11    ┆ 2021-12-12    ┆ … ┆ -87.618471980 ┆ null    ┆ null    ┆ casual       │\n",
      "│ 379           ┆               ┆ 02:35:53      ┆ 03:35:49      ┆   ┆ 0949          ┆         ┆         ┆              │\n",
      "│ 03F076EF05431 ┆ classic_bike  ┆ 2021-12-06    ┆ 2021-12-07    ┆ … ┆ -87.706127883 ┆ null    ┆ null    ┆ casual       │\n",
      "│ C27           ┆               ┆ 08:52:32      ┆ 09:52:18      ┆   ┆ 7             ┆         ┆         ┆              │\n",
      "└───────────────┴───────────────┴───────────────┴───────────────┴───┴───────────────┴─────────┴─────────┴──────────────┘\n",
      "\n",
      "Updated DataFrame after removal:\n",
      "shape: (5_590_292, 13)\n",
      "┌──────────────┬──────────────┬──────────────┬─────────────┬───┬─────────────┬─────────────┬─────────────┬─────────────┐\n",
      "│ ride_id      ┆ rideable_typ ┆ started_at   ┆ ended_at    ┆ … ┆ start_lng   ┆ end_lat     ┆ end_lng     ┆ member_casu │\n",
      "│ ---          ┆ e            ┆ ---          ┆ ---         ┆   ┆ ---         ┆ ---         ┆ ---         ┆ al          │\n",
      "│ str          ┆ ---          ┆ str          ┆ str         ┆   ┆ str         ┆ str         ┆ str         ┆ ---         │\n",
      "│              ┆ str          ┆              ┆             ┆   ┆             ┆             ┆             ┆ str         │\n",
      "╞══════════════╪══════════════╪══════════════╪═════════════╪═══╪═════════════╪═════════════╪═════════════╪═════════════╡\n",
      "│ E19E6F1B8D4C ┆ electric_bik ┆ 2021-01-23   ┆ 2021-01-23  ┆ … ┆ -87.696743  ┆ 41.89       ┆ -87.72      ┆ member      │\n",
      "│ 42ED         ┆ e            ┆ 16:14:19     ┆ 16:24:44    ┆   ┆             ┆             ┆             ┆             │\n",
      "│ DC88F20C2C55 ┆ electric_bik ┆ 2021-01-27   ┆ 2021-01-27  ┆ … ┆ -87.696707  ┆ 41.9        ┆ -87.69      ┆ member      │\n",
      "│ F27F         ┆ e            ┆ 18:43:08     ┆ 18:47:12    ┆   ┆             ┆             ┆             ┆             │\n",
      "│ EC45C94683FE ┆ electric_bik ┆ 2021-01-21   ┆ 2021-01-21  ┆ … ┆ -87.6966426 ┆ 41.9        ┆ -87.7       ┆ member      │\n",
      "│ 3F27         ┆ e            ┆ 22:35:54     ┆ 22:37:14    ┆   ┆ 6666666     ┆             ┆             ┆             │\n",
      "│ 4FA453A75AE3 ┆ electric_bik ┆ 2021-01-07   ┆ 2021-01-07  ┆ … ┆ -87.6966621 ┆ 41.92       ┆ -87.69      ┆ member      │\n",
      "│ 77DB         ┆ e            ┆ 13:31:13     ┆ 13:42:55    ┆   ┆ 6666667     ┆             ┆             ┆             │\n",
      "│ BE5E8EB4E726 ┆ electric_bik ┆ 2021-01-23   ┆ 2021-01-23  ┆ … ┆ -87.6966971 ┆ 41.9        ┆ -87.7       ┆ casual      │\n",
      "│ 3A0B         ┆ e            ┆ 02:24:02     ┆ 02:24:45    ┆   ┆ 6666667     ┆             ┆             ┆             │\n",
      "│ …            ┆ …            ┆ …            ┆ …           ┆ … ┆ …           ┆ …           ┆ …           ┆ …           │\n",
      "│ 847431F3D535 ┆ electric_bik ┆ 2021-12-12   ┆ 2021-12-12  ┆ … ┆ -87.6397521 ┆ 41.89       ┆ -87.61      ┆ casual      │\n",
      "│ 3AB7         ┆ e            ┆ 13:36:55     ┆ 13:56:08    ┆   ┆ 6666667     ┆             ┆             ┆             │\n",
      "│ CF407BBC3B9F ┆ electric_bik ┆ 2021-12-06   ┆ 2021-12-06  ┆ … ┆ -87.640053  ┆ 41.889106   ┆ -87.638862  ┆ member      │\n",
      "│ AD63         ┆ e            ┆ 19:37:50     ┆ 19:44:51    ┆   ┆             ┆             ┆             ┆             │\n",
      "│ 60BB69EBF544 ┆ electric_bik ┆ 2021-12-02   ┆ 2021-12-02  ┆ … ┆ -87.6399548 ┆ 41.8802535  ┆ -87.6296026 ┆ member      │\n",
      "│ 0E92         ┆ e            ┆ 08:57:04     ┆ 09:05:21    ┆   ┆ 3333333     ┆             ┆ 6666667     ┆             │\n",
      "│ C414F654A286 ┆ electric_bik ┆ 2021-12-13   ┆ 2021-12-13  ┆ … ┆ -87.72      ┆ 41.85       ┆ -87.71      ┆ member      │\n",
      "│ 35B8         ┆ e            ┆ 09:00:26     ┆ 09:14:39    ┆   ┆             ┆             ┆             ┆             │\n",
      "│ 37AC57E34B2E ┆ classic_bike ┆ 2021-12-13   ┆ 2021-12-13  ┆ … ┆ -87.62408   ┆ 41.88131981 ┆ -87.6295209 ┆ member      │\n",
      "│ 7E97         ┆              ┆ 08:45:32     ┆ 08:49:09    ┆   ┆             ┆ 5           ┆ 193         ┆             │\n",
      "└──────────────┴──────────────┴──────────────┴─────────────┴───┴─────────────┴─────────────┴─────────────┴─────────────┘\n"
     ]
    }
   ],
   "source": [
    "# Step 2: Identify and store records where both 'end_lat' and 'end_lng' are null\n",
    "missing_end_lat_lng = df.filter(pl.col(\"end_lat\").is_null() & pl.col(\"end_lng\").is_null()).clone()\n",
    "\n",
    "# Step 3: Remove these records from the original DataFrame\n",
    "df_cleaned = df.drop_nulls(subset=[\"end_lat\", \"end_lng\"])\n",
    "\n",
    "# Display results\n",
    "print(f\"Number of removed records: {missing_end_lat_lng.shape[0]}\")\n",
    "print(\"\\nRecords removed (stored separately):\")\n",
    "print(missing_end_lat_lng)\n",
    "\n",
    "print(\"\\nUpdated DataFrame after removal:\")\n",
    "print(df_cleaned)"
   ]
  },
  {
   "cell_type": "code",
   "execution_count": 11,
   "id": "be50f9d1-fc2c-4c3a-84af-61e859b9b6ef",
   "metadata": {},
   "outputs": [],
   "source": [
    "df_cleaned = df_cleaned.with_columns(\n",
    "    pl.col(\"started_at\").str.split(\" \").alias(\"split_col\")\n",
    ").with_columns(\n",
    "    pl.col(\"split_col\").list.get(0).alias(\"start_date\"),\n",
    "    pl.col(\"split_col\").list.get(1).alias(\"start_time\")\n",
    ").drop(\"split_col\")  # Optional: Remove the temporary column"
   ]
  },
  {
   "cell_type": "code",
   "execution_count": 13,
   "id": "a8884c73-13d5-4e34-b13c-85889d740bcf",
   "metadata": {},
   "outputs": [],
   "source": [
    "# Split 'started_at' into 'start_date' and 'start_time'\n",
    "df_cleaned = df_cleaned.with_columns(\n",
    "    pl.col(\"started_at\").str.split(\" \").alias(\"split_start\")\n",
    ").with_columns(\n",
    "    pl.col(\"split_start\").list.get(0).alias(\"start_date\"),\n",
    "    pl.col(\"split_start\").list.get(1).alias(\"start_time\")\n",
    ").drop(\"split_start\")  # Optional cleanup\n",
    "\n",
    "# Remove milliseconds from 'start_time'\n",
    "df_cleaned = df_cleaned.with_columns(\n",
    "    pl.col(\"start_time\").str.split(\".\").list.get(0)\n",
    ")\n",
    "\n",
    "# Convert 'start_date' and 'start_time' to datetime\n",
    "df_cleaned = df_cleaned.with_columns(\n",
    "    (pl.col(\"start_date\") + \" \" + pl.col(\"start_time\")).str.strptime(pl.Datetime, \"%Y-%m-%d %H:%M:%S\").alias(\"started_at\")\n",
    ")\n",
    "\n",
    "# Split 'ended_at' into 'end_date' and 'end_time'\n",
    "df_cleaned = df_cleaned.with_columns(\n",
    "    pl.col(\"ended_at\").str.split(\" \").alias(\"split_end\")\n",
    ").with_columns(\n",
    "    pl.col(\"split_end\").list.get(0).alias(\"end_date\"),\n",
    "    pl.col(\"split_end\").list.get(1).alias(\"end_time\")\n",
    ").drop(\"split_end\")  # Optional cleanup\n",
    "\n",
    "# Remove milliseconds from 'end_time'\n",
    "df_cleaned = df_cleaned.with_columns(\n",
    "    pl.col(\"end_time\").str.split(\".\").list.get(0)\n",
    ")\n"
   ]
  },
  {
   "cell_type": "code",
   "execution_count": 15,
   "id": "54ed8ea7-ac2a-4328-8549-93f9b5d469ed",
   "metadata": {},
   "outputs": [],
   "source": [
    "# Convert 'start_date' and 'start_time' to datetime\n",
    "df_cleaned = df_cleaned.with_columns(\n",
    "    (pl.col(\"end_date\") + \" \" + pl.col(\"end_time\")).str.strptime(pl.Datetime, \"%Y-%m-%d %H:%M:%S\").alias(\"ended_at\")\n",
    ")"
   ]
  },
  {
   "cell_type": "code",
   "execution_count": 17,
   "id": "ad7ca86e-48a1-42d6-8561-a2ef11fdab8c",
   "metadata": {},
   "outputs": [
    {
     "data": {
      "text/html": [
       "<div><style>\n",
       ".dataframe > thead > tr,\n",
       ".dataframe > tbody > tr {\n",
       "  text-align: right;\n",
       "  white-space: pre-wrap;\n",
       "}\n",
       "</style>\n",
       "<small>shape: (5_590_292, 17)</small><table border=\"1\" class=\"dataframe\"><thead><tr><th>ride_id</th><th>rideable_type</th><th>started_at</th><th>ended_at</th><th>start_station_name</th><th>start_station_id</th><th>end_station_name</th><th>end_station_id</th><th>start_lat</th><th>start_lng</th><th>end_lat</th><th>end_lng</th><th>member_casual</th><th>start_date</th><th>start_time</th><th>end_date</th><th>end_time</th></tr><tr><td>str</td><td>str</td><td>datetime[μs]</td><td>datetime[μs]</td><td>str</td><td>str</td><td>str</td><td>str</td><td>str</td><td>str</td><td>str</td><td>str</td><td>str</td><td>str</td><td>str</td><td>str</td><td>str</td></tr></thead><tbody><tr><td>&quot;E19E6F1B8D4C42ED&quot;</td><td>&quot;electric_bike&quot;</td><td>2021-01-23 16:14:19</td><td>2021-01-23 16:24:44</td><td>&quot;California Ave &amp; Cortez St&quot;</td><td>&quot;17660&quot;</td><td>null</td><td>null</td><td>&quot;41.900340666666665&quot;</td><td>&quot;-87.696743&quot;</td><td>&quot;41.89&quot;</td><td>&quot;-87.72&quot;</td><td>&quot;member&quot;</td><td>&quot;2021-01-23&quot;</td><td>&quot;16:14:19&quot;</td><td>&quot;2021-01-23&quot;</td><td>&quot;16:24:44&quot;</td></tr><tr><td>&quot;DC88F20C2C55F27F&quot;</td><td>&quot;electric_bike&quot;</td><td>2021-01-27 18:43:08</td><td>2021-01-27 18:47:12</td><td>&quot;California Ave &amp; Cortez St&quot;</td><td>&quot;17660&quot;</td><td>null</td><td>null</td><td>&quot;41.90033283333333&quot;</td><td>&quot;-87.696707&quot;</td><td>&quot;41.9&quot;</td><td>&quot;-87.69&quot;</td><td>&quot;member&quot;</td><td>&quot;2021-01-27&quot;</td><td>&quot;18:43:08&quot;</td><td>&quot;2021-01-27&quot;</td><td>&quot;18:47:12&quot;</td></tr><tr><td>&quot;EC45C94683FE3F27&quot;</td><td>&quot;electric_bike&quot;</td><td>2021-01-21 22:35:54</td><td>2021-01-21 22:37:14</td><td>&quot;California Ave &amp; Cortez St&quot;</td><td>&quot;17660&quot;</td><td>null</td><td>null</td><td>&quot;41.900312666666665&quot;</td><td>&quot;-87.69664266666666&quot;</td><td>&quot;41.9&quot;</td><td>&quot;-87.7&quot;</td><td>&quot;member&quot;</td><td>&quot;2021-01-21&quot;</td><td>&quot;22:35:54&quot;</td><td>&quot;2021-01-21&quot;</td><td>&quot;22:37:14&quot;</td></tr><tr><td>&quot;4FA453A75AE377DB&quot;</td><td>&quot;electric_bike&quot;</td><td>2021-01-07 13:31:13</td><td>2021-01-07 13:42:55</td><td>&quot;California Ave &amp; Cortez St&quot;</td><td>&quot;17660&quot;</td><td>null</td><td>null</td><td>&quot;41.90039866666667&quot;</td><td>&quot;-87.69666216666667&quot;</td><td>&quot;41.92&quot;</td><td>&quot;-87.69&quot;</td><td>&quot;member&quot;</td><td>&quot;2021-01-07&quot;</td><td>&quot;13:31:13&quot;</td><td>&quot;2021-01-07&quot;</td><td>&quot;13:42:55&quot;</td></tr><tr><td>&quot;BE5E8EB4E7263A0B&quot;</td><td>&quot;electric_bike&quot;</td><td>2021-01-23 02:24:02</td><td>2021-01-23 02:24:45</td><td>&quot;California Ave &amp; Cortez St&quot;</td><td>&quot;17660&quot;</td><td>null</td><td>null</td><td>&quot;41.90032633333333&quot;</td><td>&quot;-87.69669716666667&quot;</td><td>&quot;41.9&quot;</td><td>&quot;-87.7&quot;</td><td>&quot;casual&quot;</td><td>&quot;2021-01-23&quot;</td><td>&quot;02:24:02&quot;</td><td>&quot;2021-01-23&quot;</td><td>&quot;02:24:45&quot;</td></tr><tr><td>&hellip;</td><td>&hellip;</td><td>&hellip;</td><td>&hellip;</td><td>&hellip;</td><td>&hellip;</td><td>&hellip;</td><td>&hellip;</td><td>&hellip;</td><td>&hellip;</td><td>&hellip;</td><td>&hellip;</td><td>&hellip;</td><td>&hellip;</td><td>&hellip;</td><td>&hellip;</td><td>&hellip;</td></tr><tr><td>&quot;847431F3D5353AB7&quot;</td><td>&quot;electric_bike&quot;</td><td>2021-12-12 13:36:55</td><td>2021-12-12 13:56:08</td><td>&quot;Canal St &amp; Madison St&quot;</td><td>&quot;13341&quot;</td><td>null</td><td>null</td><td>&quot;41.882288833333334&quot;</td><td>&quot;-87.63975216666667&quot;</td><td>&quot;41.89&quot;</td><td>&quot;-87.61&quot;</td><td>&quot;casual&quot;</td><td>&quot;2021-12-12&quot;</td><td>&quot;13:36:55&quot;</td><td>&quot;2021-12-12&quot;</td><td>&quot;13:56:08&quot;</td></tr><tr><td>&quot;CF407BBC3B9FAD63&quot;</td><td>&quot;electric_bike&quot;</td><td>2021-12-06 19:37:50</td><td>2021-12-06 19:44:51</td><td>&quot;Canal St &amp; Madison St&quot;</td><td>&quot;13341&quot;</td><td>&quot;Kingsbury St &amp; Kinzie St&quot;</td><td>&quot;KA1503000043&quot;</td><td>&quot;41.882122833333334&quot;</td><td>&quot;-87.640053&quot;</td><td>&quot;41.889106&quot;</td><td>&quot;-87.638862&quot;</td><td>&quot;member&quot;</td><td>&quot;2021-12-06&quot;</td><td>&quot;19:37:50&quot;</td><td>&quot;2021-12-06&quot;</td><td>&quot;19:44:51&quot;</td></tr><tr><td>&quot;60BB69EBF5440E92&quot;</td><td>&quot;electric_bike&quot;</td><td>2021-12-02 08:57:04</td><td>2021-12-02 09:05:21</td><td>&quot;Canal St &amp; Madison St&quot;</td><td>&quot;13341&quot;</td><td>&quot;Dearborn St &amp; Monroe St&quot;</td><td>&quot;TA1305000006&quot;</td><td>&quot;41.88195616666667&quot;</td><td>&quot;-87.63995483333333&quot;</td><td>&quot;41.8802535&quot;</td><td>&quot;-87.62960266666667&quot;</td><td>&quot;member&quot;</td><td>&quot;2021-12-02&quot;</td><td>&quot;08:57:04&quot;</td><td>&quot;2021-12-02&quot;</td><td>&quot;09:05:21&quot;</td></tr><tr><td>&quot;C414F654A28635B8&quot;</td><td>&quot;electric_bike&quot;</td><td>2021-12-13 09:00:26</td><td>2021-12-13 09:14:39</td><td>&quot;Lawndale Ave &amp; 16th St&quot;</td><td>&quot;362.0&quot;</td><td>null</td><td>null</td><td>&quot;41.86&quot;</td><td>&quot;-87.72&quot;</td><td>&quot;41.85&quot;</td><td>&quot;-87.71&quot;</td><td>&quot;member&quot;</td><td>&quot;2021-12-13&quot;</td><td>&quot;09:00:26&quot;</td><td>&quot;2021-12-13&quot;</td><td>&quot;09:14:39&quot;</td></tr><tr><td>&quot;37AC57E34B2E7E97&quot;</td><td>&quot;classic_bike&quot;</td><td>2021-12-13 08:45:32</td><td>2021-12-13 08:49:09</td><td>&quot;Michigan Ave &amp; Jackson Blvd&quot;</td><td>&quot;TA1309000002&quot;</td><td>&quot;Dearborn St &amp; Monroe St&quot;</td><td>&quot;TA1305000006&quot;</td><td>&quot;41.87785&quot;</td><td>&quot;-87.62408&quot;</td><td>&quot;41.881319815&quot;</td><td>&quot;-87.6295209193&quot;</td><td>&quot;member&quot;</td><td>&quot;2021-12-13&quot;</td><td>&quot;08:45:32&quot;</td><td>&quot;2021-12-13&quot;</td><td>&quot;08:49:09&quot;</td></tr></tbody></table></div>"
      ],
      "text/plain": [
       "shape: (5_590_292, 17)\n",
       "┌────────────────┬───────────────┬───────────────┬───────────────┬───┬────────────┬────────────┬────────────┬──────────┐\n",
       "│ ride_id        ┆ rideable_type ┆ started_at    ┆ ended_at      ┆ … ┆ start_date ┆ start_time ┆ end_date   ┆ end_time │\n",
       "│ ---            ┆ ---           ┆ ---           ┆ ---           ┆   ┆ ---        ┆ ---        ┆ ---        ┆ ---      │\n",
       "│ str            ┆ str           ┆ datetime[μs]  ┆ datetime[μs]  ┆   ┆ str        ┆ str        ┆ str        ┆ str      │\n",
       "╞════════════════╪═══════════════╪═══════════════╪═══════════════╪═══╪════════════╪════════════╪════════════╪══════════╡\n",
       "│ E19E6F1B8D4C42 ┆ electric_bike ┆ 2021-01-23    ┆ 2021-01-23    ┆ … ┆ 2021-01-23 ┆ 16:14:19   ┆ 2021-01-23 ┆ 16:24:44 │\n",
       "│ ED             ┆               ┆ 16:14:19      ┆ 16:24:44      ┆   ┆            ┆            ┆            ┆          │\n",
       "│ DC88F20C2C55F2 ┆ electric_bike ┆ 2021-01-27    ┆ 2021-01-27    ┆ … ┆ 2021-01-27 ┆ 18:43:08   ┆ 2021-01-27 ┆ 18:47:12 │\n",
       "│ 7F             ┆               ┆ 18:43:08      ┆ 18:47:12      ┆   ┆            ┆            ┆            ┆          │\n",
       "│ EC45C94683FE3F ┆ electric_bike ┆ 2021-01-21    ┆ 2021-01-21    ┆ … ┆ 2021-01-21 ┆ 22:35:54   ┆ 2021-01-21 ┆ 22:37:14 │\n",
       "│ 27             ┆               ┆ 22:35:54      ┆ 22:37:14      ┆   ┆            ┆            ┆            ┆          │\n",
       "│ 4FA453A75AE377 ┆ electric_bike ┆ 2021-01-07    ┆ 2021-01-07    ┆ … ┆ 2021-01-07 ┆ 13:31:13   ┆ 2021-01-07 ┆ 13:42:55 │\n",
       "│ DB             ┆               ┆ 13:31:13      ┆ 13:42:55      ┆   ┆            ┆            ┆            ┆          │\n",
       "│ BE5E8EB4E7263A ┆ electric_bike ┆ 2021-01-23    ┆ 2021-01-23    ┆ … ┆ 2021-01-23 ┆ 02:24:02   ┆ 2021-01-23 ┆ 02:24:45 │\n",
       "│ 0B             ┆               ┆ 02:24:02      ┆ 02:24:45      ┆   ┆            ┆            ┆            ┆          │\n",
       "│ …              ┆ …             ┆ …             ┆ …             ┆ … ┆ …          ┆ …          ┆ …          ┆ …        │\n",
       "│ 847431F3D5353A ┆ electric_bike ┆ 2021-12-12    ┆ 2021-12-12    ┆ … ┆ 2021-12-12 ┆ 13:36:55   ┆ 2021-12-12 ┆ 13:56:08 │\n",
       "│ B7             ┆               ┆ 13:36:55      ┆ 13:56:08      ┆   ┆            ┆            ┆            ┆          │\n",
       "│ CF407BBC3B9FAD ┆ electric_bike ┆ 2021-12-06    ┆ 2021-12-06    ┆ … ┆ 2021-12-06 ┆ 19:37:50   ┆ 2021-12-06 ┆ 19:44:51 │\n",
       "│ 63             ┆               ┆ 19:37:50      ┆ 19:44:51      ┆   ┆            ┆            ┆            ┆          │\n",
       "│ 60BB69EBF5440E ┆ electric_bike ┆ 2021-12-02    ┆ 2021-12-02    ┆ … ┆ 2021-12-02 ┆ 08:57:04   ┆ 2021-12-02 ┆ 09:05:21 │\n",
       "│ 92             ┆               ┆ 08:57:04      ┆ 09:05:21      ┆   ┆            ┆            ┆            ┆          │\n",
       "│ C414F654A28635 ┆ electric_bike ┆ 2021-12-13    ┆ 2021-12-13    ┆ … ┆ 2021-12-13 ┆ 09:00:26   ┆ 2021-12-13 ┆ 09:14:39 │\n",
       "│ B8             ┆               ┆ 09:00:26      ┆ 09:14:39      ┆   ┆            ┆            ┆            ┆          │\n",
       "│ 37AC57E34B2E7E ┆ classic_bike  ┆ 2021-12-13    ┆ 2021-12-13    ┆ … ┆ 2021-12-13 ┆ 08:45:32   ┆ 2021-12-13 ┆ 08:49:09 │\n",
       "│ 97             ┆               ┆ 08:45:32      ┆ 08:49:09      ┆   ┆            ┆            ┆            ┆          │\n",
       "└────────────────┴───────────────┴───────────────┴───────────────┴───┴────────────┴────────────┴────────────┴──────────┘"
      ]
     },
     "execution_count": 17,
     "metadata": {},
     "output_type": "execute_result"
    }
   ],
   "source": [
    "df_cleaned"
   ]
  },
  {
   "cell_type": "code",
   "execution_count": 19,
   "id": "304e6ccd-081f-4f1d-979e-55f6aaff6b4d",
   "metadata": {},
   "outputs": [],
   "source": [
    "df_cleaned = df_cleaned.drop([\"start_station_id\", \"end_station_id\"])\n"
   ]
  },
  {
   "cell_type": "code",
   "execution_count": 21,
   "id": "a3c98e6a-a9fd-4dbf-9ddd-72e453acad38",
   "metadata": {},
   "outputs": [],
   "source": [
    "df_cleaned = df_cleaned.with_columns(\n",
    "    (pl.col(\"ended_at\") - pl.col(\"started_at\")).alias(\"duration\")\n",
    ")\n"
   ]
  },
  {
   "cell_type": "code",
   "execution_count": 23,
   "id": "03f33bc4-3751-4131-95ab-4921a517a5ff",
   "metadata": {},
   "outputs": [
    {
     "name": "stdout",
     "output_type": "stream",
     "text": [
      "shape: (159_576, 16)\n",
      "┌───────────────┬───────────────┬───────────────┬──────────────┬───┬────────────┬────────────┬──────────┬──────────────┐\n",
      "│ ride_id       ┆ rideable_type ┆ started_at    ┆ ended_at     ┆ … ┆ start_time ┆ end_date   ┆ end_time ┆ duration     │\n",
      "│ ---           ┆ ---           ┆ ---           ┆ ---          ┆   ┆ ---        ┆ ---        ┆ ---      ┆ ---          │\n",
      "│ str           ┆ str           ┆ datetime[μs]  ┆ datetime[μs] ┆   ┆ str        ┆ str        ┆ str      ┆ duration[μs] │\n",
      "╞═══════════════╪═══════════════╪═══════════════╪══════════════╪═══╪════════════╪════════════╪══════════╪══════════════╡\n",
      "│ EC45C94683FE3 ┆ electric_bike ┆ 2021-01-21    ┆ 2021-01-21   ┆ … ┆ 22:35:54   ┆ 2021-01-21 ┆ 22:37:14 ┆ 1m 20s       │\n",
      "│ F27           ┆               ┆ 22:35:54      ┆ 22:37:14     ┆   ┆            ┆            ┆          ┆              │\n",
      "│ BE5E8EB4E7263 ┆ electric_bike ┆ 2021-01-23    ┆ 2021-01-23   ┆ … ┆ 02:24:02   ┆ 2021-01-23 ┆ 02:24:45 ┆ 43s          │\n",
      "│ A0B           ┆               ┆ 02:24:02      ┆ 02:24:45     ┆   ┆            ┆            ┆          ┆              │\n",
      "│ 09BD39967CCCB ┆ classic_bike  ┆ 2021-01-14    ┆ 2021-01-14   ┆ … ┆ 13:39:11   ┆ 2021-01-14 ┆ 13:40:48 ┆ 1m 37s       │\n",
      "│ FB3           ┆               ┆ 13:39:11      ┆ 13:40:48     ┆   ┆            ┆            ┆          ┆              │\n",
      "│ A81933DA3A0AC ┆ classic_bike  ┆ 2021-01-20    ┆ 2021-01-20   ┆ … ┆ 16:27:06   ┆ 2021-01-20 ┆ 16:27:27 ┆ 21s          │\n",
      "│ 0E4           ┆               ┆ 16:27:06      ┆ 16:27:27     ┆   ┆            ┆            ┆          ┆              │\n",
      "│ A04621CF9A6D8 ┆ classic_bike  ┆ 2021-01-17    ┆ 2021-01-17   ┆ … ┆ 10:50:25   ┆ 2021-01-17 ┆ 10:50:33 ┆ 8s           │\n",
      "│ BE6           ┆               ┆ 10:50:25      ┆ 10:50:33     ┆   ┆            ┆            ┆          ┆              │\n",
      "│ …             ┆ …             ┆ …             ┆ …            ┆ … ┆ …          ┆ …          ┆ …        ┆ …            │\n",
      "│ 6BA48E64CF7A6 ┆ electric_bike ┆ 2021-12-07    ┆ 2021-12-07   ┆ … ┆ 09:51:18   ┆ 2021-12-07 ┆ 09:52:32 ┆ 1m 14s       │\n",
      "│ D37           ┆               ┆ 09:51:18      ┆ 09:52:32     ┆   ┆            ┆            ┆          ┆              │\n",
      "│ 19C5BEED72FE8 ┆ classic_bike  ┆ 2021-12-14    ┆ 2021-12-14   ┆ … ┆ 12:17:37   ┆ 2021-12-14 ┆ 12:18:02 ┆ 25s          │\n",
      "│ 8CD           ┆               ┆ 12:17:37      ┆ 12:18:02     ┆   ┆            ┆            ┆          ┆              │\n",
      "│ 472F8E4192B58 ┆ electric_bike ┆ 2021-12-13    ┆ 2021-12-13   ┆ … ┆ 12:08:36   ┆ 2021-12-13 ┆ 12:10:26 ┆ 1m 50s       │\n",
      "│ 39B           ┆               ┆ 12:08:36      ┆ 12:10:26     ┆   ┆            ┆            ┆          ┆              │\n",
      "│ 6735D3AD97A8C ┆ electric_bike ┆ 2021-12-11    ┆ 2021-12-11   ┆ … ┆ 15:27:19   ┆ 2021-12-11 ┆ 15:27:26 ┆ 7s           │\n",
      "│ 921           ┆               ┆ 15:27:19      ┆ 15:27:26     ┆   ┆            ┆            ┆          ┆              │\n",
      "│ 1A4D3E24FA396 ┆ electric_bike ┆ 2021-12-07    ┆ 2021-12-07   ┆ … ┆ 17:26:24   ┆ 2021-12-07 ┆ 17:27:22 ┆ 58s          │\n",
      "│ 055           ┆               ┆ 17:26:24      ┆ 17:27:22     ┆   ┆            ┆            ┆          ┆              │\n",
      "└───────────────┴───────────────┴───────────────┴──────────────┴───┴────────────┴────────────┴──────────┴──────────────┘\n"
     ]
    }
   ],
   "source": [
    "df_filtered = df_cleaned.filter(pl.col(\"duration\") < pl.duration(seconds=120))\n",
    "\n",
    "print(df_filtered)\n"
   ]
  },
  {
   "cell_type": "code",
   "execution_count": 25,
   "id": "c613d2af-2d04-4913-81e8-9dc895c36329",
   "metadata": {},
   "outputs": [
    {
     "name": "stdout",
     "output_type": "stream",
     "text": [
      "shape: (5_590_292, 17)\n",
      "┌───────────────┬──────────────┬──────────────┬──────────────┬───┬────────────┬──────────┬──────────────┬──────────────┐\n",
      "│ ride_id       ┆ rideable_typ ┆ started_at   ┆ ended_at     ┆ … ┆ end_date   ┆ end_time ┆ duration     ┆ ride_validit │\n",
      "│ ---           ┆ e            ┆ ---          ┆ ---          ┆   ┆ ---        ┆ ---      ┆ ---          ┆ y            │\n",
      "│ str           ┆ ---          ┆ datetime[μs] ┆ datetime[μs] ┆   ┆ str        ┆ str      ┆ duration[μs] ┆ ---          │\n",
      "│               ┆ str          ┆              ┆              ┆   ┆            ┆          ┆              ┆ str          │\n",
      "╞═══════════════╪══════════════╪══════════════╪══════════════╪═══╪════════════╪══════════╪══════════════╪══════════════╡\n",
      "│ E19E6F1B8D4C4 ┆ electric_bik ┆ 2021-01-23   ┆ 2021-01-23   ┆ … ┆ 2021-01-23 ┆ 16:24:44 ┆ 10m 25s      ┆ Fair         │\n",
      "│ 2ED           ┆ e            ┆ 16:14:19     ┆ 16:24:44     ┆   ┆            ┆          ┆              ┆              │\n",
      "│ DC88F20C2C55F ┆ electric_bik ┆ 2021-01-27   ┆ 2021-01-27   ┆ … ┆ 2021-01-27 ┆ 18:47:12 ┆ 4m 4s        ┆ Fair         │\n",
      "│ 27F           ┆ e            ┆ 18:43:08     ┆ 18:47:12     ┆   ┆            ┆          ┆              ┆              │\n",
      "│ EC45C94683FE3 ┆ electric_bik ┆ 2021-01-21   ┆ 2021-01-21   ┆ … ┆ 2021-01-21 ┆ 22:37:14 ┆ 1m 20s       ┆ Suspicious   │\n",
      "│ F27           ┆ e            ┆ 22:35:54     ┆ 22:37:14     ┆   ┆            ┆          ┆              ┆              │\n",
      "│ 4FA453A75AE37 ┆ electric_bik ┆ 2021-01-07   ┆ 2021-01-07   ┆ … ┆ 2021-01-07 ┆ 13:42:55 ┆ 11m 42s      ┆ Fair         │\n",
      "│ 7DB           ┆ e            ┆ 13:31:13     ┆ 13:42:55     ┆   ┆            ┆          ┆              ┆              │\n",
      "│ BE5E8EB4E7263 ┆ electric_bik ┆ 2021-01-23   ┆ 2021-01-23   ┆ … ┆ 2021-01-23 ┆ 02:24:45 ┆ 43s          ┆ Suspicious   │\n",
      "│ A0B           ┆ e            ┆ 02:24:02     ┆ 02:24:45     ┆   ┆            ┆          ┆              ┆              │\n",
      "│ …             ┆ …            ┆ …            ┆ …            ┆ … ┆ …          ┆ …        ┆ …            ┆ …            │\n",
      "│ 847431F3D5353 ┆ electric_bik ┆ 2021-12-12   ┆ 2021-12-12   ┆ … ┆ 2021-12-12 ┆ 13:56:08 ┆ 19m 13s      ┆ Fair         │\n",
      "│ AB7           ┆ e            ┆ 13:36:55     ┆ 13:56:08     ┆   ┆            ┆          ┆              ┆              │\n",
      "│ CF407BBC3B9FA ┆ electric_bik ┆ 2021-12-06   ┆ 2021-12-06   ┆ … ┆ 2021-12-06 ┆ 19:44:51 ┆ 7m 1s        ┆ Fair         │\n",
      "│ D63           ┆ e            ┆ 19:37:50     ┆ 19:44:51     ┆   ┆            ┆          ┆              ┆              │\n",
      "│ 60BB69EBF5440 ┆ electric_bik ┆ 2021-12-02   ┆ 2021-12-02   ┆ … ┆ 2021-12-02 ┆ 09:05:21 ┆ 8m 17s       ┆ Fair         │\n",
      "│ E92           ┆ e            ┆ 08:57:04     ┆ 09:05:21     ┆   ┆            ┆          ┆              ┆              │\n",
      "│ C414F654A2863 ┆ electric_bik ┆ 2021-12-13   ┆ 2021-12-13   ┆ … ┆ 2021-12-13 ┆ 09:14:39 ┆ 14m 13s      ┆ Fair         │\n",
      "│ 5B8           ┆ e            ┆ 09:00:26     ┆ 09:14:39     ┆   ┆            ┆          ┆              ┆              │\n",
      "│ 37AC57E34B2E7 ┆ classic_bike ┆ 2021-12-13   ┆ 2021-12-13   ┆ … ┆ 2021-12-13 ┆ 08:49:09 ┆ 3m 37s       ┆ Fair         │\n",
      "│ E97           ┆              ┆ 08:45:32     ┆ 08:49:09     ┆   ┆            ┆          ┆              ┆              │\n",
      "└───────────────┴──────────────┴──────────────┴──────────────┴───┴────────────┴──────────┴──────────────┴──────────────┘\n"
     ]
    }
   ],
   "source": [
    "df_filtered = df_cleaned.with_columns(\n",
    "    pl.when(pl.col(\"duration\") < pl.duration(minutes=2))\n",
    "    .then(pl.lit(\"Suspicious\"))\n",
    "    .otherwise(pl.lit(\"Fair\"))\n",
    "    .alias(\"ride_validity\")\n",
    ")\n",
    "\n",
    "print(df_filtered)\n"
   ]
  },
  {
   "cell_type": "code",
   "execution_count": 27,
   "id": "985c3b98-6ca6-4258-a72c-30a58a90c521",
   "metadata": {},
   "outputs": [],
   "source": [
    "df_cleaned = df_cleaned.with_columns([\n",
    "    df_cleaned[\"started_at\"].dt.truncate(\"1s\").alias(\"started_at\"),\n",
    "    df_cleaned[\"ended_at\"].dt.truncate(\"1s\").alias(\"ended_at\")\n",
    "])\n"
   ]
  },
  {
   "cell_type": "code",
   "execution_count": 29,
   "id": "48074530-3449-4f31-8744-2378aee93992",
   "metadata": {},
   "outputs": [],
   "source": [
    "df = df_filtered.clone()"
   ]
  },
  {
   "cell_type": "code",
   "execution_count": 31,
   "id": "fa5c313f-f8dd-4e11-b420-ed4a30557cce",
   "metadata": {},
   "outputs": [
    {
     "data": {
      "text/html": [
       "<div><style>\n",
       ".dataframe > thead > tr,\n",
       ".dataframe > tbody > tr {\n",
       "  text-align: right;\n",
       "  white-space: pre-wrap;\n",
       "}\n",
       "</style>\n",
       "<small>shape: (5_590_292, 17)</small><table border=\"1\" class=\"dataframe\"><thead><tr><th>ride_id</th><th>rideable_type</th><th>started_at</th><th>ended_at</th><th>start_station_name</th><th>end_station_name</th><th>start_lat</th><th>start_lng</th><th>end_lat</th><th>end_lng</th><th>member_casual</th><th>start_date</th><th>start_time</th><th>end_date</th><th>end_time</th><th>duration</th><th>ride_validity</th></tr><tr><td>str</td><td>str</td><td>datetime[μs]</td><td>datetime[μs]</td><td>str</td><td>str</td><td>str</td><td>str</td><td>str</td><td>str</td><td>str</td><td>str</td><td>str</td><td>str</td><td>str</td><td>duration[μs]</td><td>str</td></tr></thead><tbody><tr><td>&quot;E19E6F1B8D4C42ED&quot;</td><td>&quot;electric_bike&quot;</td><td>2021-01-23 16:14:19</td><td>2021-01-23 16:24:44</td><td>&quot;California Ave &amp; Cortez St&quot;</td><td>null</td><td>&quot;41.900340666666665&quot;</td><td>&quot;-87.696743&quot;</td><td>&quot;41.89&quot;</td><td>&quot;-87.72&quot;</td><td>&quot;member&quot;</td><td>&quot;2021-01-23&quot;</td><td>&quot;16:14:19&quot;</td><td>&quot;2021-01-23&quot;</td><td>&quot;16:24:44&quot;</td><td>10m 25s</td><td>&quot;Fair&quot;</td></tr><tr><td>&quot;DC88F20C2C55F27F&quot;</td><td>&quot;electric_bike&quot;</td><td>2021-01-27 18:43:08</td><td>2021-01-27 18:47:12</td><td>&quot;California Ave &amp; Cortez St&quot;</td><td>null</td><td>&quot;41.90033283333333&quot;</td><td>&quot;-87.696707&quot;</td><td>&quot;41.9&quot;</td><td>&quot;-87.69&quot;</td><td>&quot;member&quot;</td><td>&quot;2021-01-27&quot;</td><td>&quot;18:43:08&quot;</td><td>&quot;2021-01-27&quot;</td><td>&quot;18:47:12&quot;</td><td>4m 4s</td><td>&quot;Fair&quot;</td></tr><tr><td>&quot;EC45C94683FE3F27&quot;</td><td>&quot;electric_bike&quot;</td><td>2021-01-21 22:35:54</td><td>2021-01-21 22:37:14</td><td>&quot;California Ave &amp; Cortez St&quot;</td><td>null</td><td>&quot;41.900312666666665&quot;</td><td>&quot;-87.69664266666666&quot;</td><td>&quot;41.9&quot;</td><td>&quot;-87.7&quot;</td><td>&quot;member&quot;</td><td>&quot;2021-01-21&quot;</td><td>&quot;22:35:54&quot;</td><td>&quot;2021-01-21&quot;</td><td>&quot;22:37:14&quot;</td><td>1m 20s</td><td>&quot;Suspicious&quot;</td></tr><tr><td>&quot;4FA453A75AE377DB&quot;</td><td>&quot;electric_bike&quot;</td><td>2021-01-07 13:31:13</td><td>2021-01-07 13:42:55</td><td>&quot;California Ave &amp; Cortez St&quot;</td><td>null</td><td>&quot;41.90039866666667&quot;</td><td>&quot;-87.69666216666667&quot;</td><td>&quot;41.92&quot;</td><td>&quot;-87.69&quot;</td><td>&quot;member&quot;</td><td>&quot;2021-01-07&quot;</td><td>&quot;13:31:13&quot;</td><td>&quot;2021-01-07&quot;</td><td>&quot;13:42:55&quot;</td><td>11m 42s</td><td>&quot;Fair&quot;</td></tr><tr><td>&quot;BE5E8EB4E7263A0B&quot;</td><td>&quot;electric_bike&quot;</td><td>2021-01-23 02:24:02</td><td>2021-01-23 02:24:45</td><td>&quot;California Ave &amp; Cortez St&quot;</td><td>null</td><td>&quot;41.90032633333333&quot;</td><td>&quot;-87.69669716666667&quot;</td><td>&quot;41.9&quot;</td><td>&quot;-87.7&quot;</td><td>&quot;casual&quot;</td><td>&quot;2021-01-23&quot;</td><td>&quot;02:24:02&quot;</td><td>&quot;2021-01-23&quot;</td><td>&quot;02:24:45&quot;</td><td>43s</td><td>&quot;Suspicious&quot;</td></tr><tr><td>&hellip;</td><td>&hellip;</td><td>&hellip;</td><td>&hellip;</td><td>&hellip;</td><td>&hellip;</td><td>&hellip;</td><td>&hellip;</td><td>&hellip;</td><td>&hellip;</td><td>&hellip;</td><td>&hellip;</td><td>&hellip;</td><td>&hellip;</td><td>&hellip;</td><td>&hellip;</td><td>&hellip;</td></tr><tr><td>&quot;847431F3D5353AB7&quot;</td><td>&quot;electric_bike&quot;</td><td>2021-12-12 13:36:55</td><td>2021-12-12 13:56:08</td><td>&quot;Canal St &amp; Madison St&quot;</td><td>null</td><td>&quot;41.882288833333334&quot;</td><td>&quot;-87.63975216666667&quot;</td><td>&quot;41.89&quot;</td><td>&quot;-87.61&quot;</td><td>&quot;casual&quot;</td><td>&quot;2021-12-12&quot;</td><td>&quot;13:36:55&quot;</td><td>&quot;2021-12-12&quot;</td><td>&quot;13:56:08&quot;</td><td>19m 13s</td><td>&quot;Fair&quot;</td></tr><tr><td>&quot;CF407BBC3B9FAD63&quot;</td><td>&quot;electric_bike&quot;</td><td>2021-12-06 19:37:50</td><td>2021-12-06 19:44:51</td><td>&quot;Canal St &amp; Madison St&quot;</td><td>&quot;Kingsbury St &amp; Kinzie St&quot;</td><td>&quot;41.882122833333334&quot;</td><td>&quot;-87.640053&quot;</td><td>&quot;41.889106&quot;</td><td>&quot;-87.638862&quot;</td><td>&quot;member&quot;</td><td>&quot;2021-12-06&quot;</td><td>&quot;19:37:50&quot;</td><td>&quot;2021-12-06&quot;</td><td>&quot;19:44:51&quot;</td><td>7m 1s</td><td>&quot;Fair&quot;</td></tr><tr><td>&quot;60BB69EBF5440E92&quot;</td><td>&quot;electric_bike&quot;</td><td>2021-12-02 08:57:04</td><td>2021-12-02 09:05:21</td><td>&quot;Canal St &amp; Madison St&quot;</td><td>&quot;Dearborn St &amp; Monroe St&quot;</td><td>&quot;41.88195616666667&quot;</td><td>&quot;-87.63995483333333&quot;</td><td>&quot;41.8802535&quot;</td><td>&quot;-87.62960266666667&quot;</td><td>&quot;member&quot;</td><td>&quot;2021-12-02&quot;</td><td>&quot;08:57:04&quot;</td><td>&quot;2021-12-02&quot;</td><td>&quot;09:05:21&quot;</td><td>8m 17s</td><td>&quot;Fair&quot;</td></tr><tr><td>&quot;C414F654A28635B8&quot;</td><td>&quot;electric_bike&quot;</td><td>2021-12-13 09:00:26</td><td>2021-12-13 09:14:39</td><td>&quot;Lawndale Ave &amp; 16th St&quot;</td><td>null</td><td>&quot;41.86&quot;</td><td>&quot;-87.72&quot;</td><td>&quot;41.85&quot;</td><td>&quot;-87.71&quot;</td><td>&quot;member&quot;</td><td>&quot;2021-12-13&quot;</td><td>&quot;09:00:26&quot;</td><td>&quot;2021-12-13&quot;</td><td>&quot;09:14:39&quot;</td><td>14m 13s</td><td>&quot;Fair&quot;</td></tr><tr><td>&quot;37AC57E34B2E7E97&quot;</td><td>&quot;classic_bike&quot;</td><td>2021-12-13 08:45:32</td><td>2021-12-13 08:49:09</td><td>&quot;Michigan Ave &amp; Jackson Blvd&quot;</td><td>&quot;Dearborn St &amp; Monroe St&quot;</td><td>&quot;41.87785&quot;</td><td>&quot;-87.62408&quot;</td><td>&quot;41.881319815&quot;</td><td>&quot;-87.6295209193&quot;</td><td>&quot;member&quot;</td><td>&quot;2021-12-13&quot;</td><td>&quot;08:45:32&quot;</td><td>&quot;2021-12-13&quot;</td><td>&quot;08:49:09&quot;</td><td>3m 37s</td><td>&quot;Fair&quot;</td></tr></tbody></table></div>"
      ],
      "text/plain": [
       "shape: (5_590_292, 17)\n",
       "┌───────────────┬──────────────┬──────────────┬──────────────┬───┬────────────┬──────────┬──────────────┬──────────────┐\n",
       "│ ride_id       ┆ rideable_typ ┆ started_at   ┆ ended_at     ┆ … ┆ end_date   ┆ end_time ┆ duration     ┆ ride_validit │\n",
       "│ ---           ┆ e            ┆ ---          ┆ ---          ┆   ┆ ---        ┆ ---      ┆ ---          ┆ y            │\n",
       "│ str           ┆ ---          ┆ datetime[μs] ┆ datetime[μs] ┆   ┆ str        ┆ str      ┆ duration[μs] ┆ ---          │\n",
       "│               ┆ str          ┆              ┆              ┆   ┆            ┆          ┆              ┆ str          │\n",
       "╞═══════════════╪══════════════╪══════════════╪══════════════╪═══╪════════════╪══════════╪══════════════╪══════════════╡\n",
       "│ E19E6F1B8D4C4 ┆ electric_bik ┆ 2021-01-23   ┆ 2021-01-23   ┆ … ┆ 2021-01-23 ┆ 16:24:44 ┆ 10m 25s      ┆ Fair         │\n",
       "│ 2ED           ┆ e            ┆ 16:14:19     ┆ 16:24:44     ┆   ┆            ┆          ┆              ┆              │\n",
       "│ DC88F20C2C55F ┆ electric_bik ┆ 2021-01-27   ┆ 2021-01-27   ┆ … ┆ 2021-01-27 ┆ 18:47:12 ┆ 4m 4s        ┆ Fair         │\n",
       "│ 27F           ┆ e            ┆ 18:43:08     ┆ 18:47:12     ┆   ┆            ┆          ┆              ┆              │\n",
       "│ EC45C94683FE3 ┆ electric_bik ┆ 2021-01-21   ┆ 2021-01-21   ┆ … ┆ 2021-01-21 ┆ 22:37:14 ┆ 1m 20s       ┆ Suspicious   │\n",
       "│ F27           ┆ e            ┆ 22:35:54     ┆ 22:37:14     ┆   ┆            ┆          ┆              ┆              │\n",
       "│ 4FA453A75AE37 ┆ electric_bik ┆ 2021-01-07   ┆ 2021-01-07   ┆ … ┆ 2021-01-07 ┆ 13:42:55 ┆ 11m 42s      ┆ Fair         │\n",
       "│ 7DB           ┆ e            ┆ 13:31:13     ┆ 13:42:55     ┆   ┆            ┆          ┆              ┆              │\n",
       "│ BE5E8EB4E7263 ┆ electric_bik ┆ 2021-01-23   ┆ 2021-01-23   ┆ … ┆ 2021-01-23 ┆ 02:24:45 ┆ 43s          ┆ Suspicious   │\n",
       "│ A0B           ┆ e            ┆ 02:24:02     ┆ 02:24:45     ┆   ┆            ┆          ┆              ┆              │\n",
       "│ …             ┆ …            ┆ …            ┆ …            ┆ … ┆ …          ┆ …        ┆ …            ┆ …            │\n",
       "│ 847431F3D5353 ┆ electric_bik ┆ 2021-12-12   ┆ 2021-12-12   ┆ … ┆ 2021-12-12 ┆ 13:56:08 ┆ 19m 13s      ┆ Fair         │\n",
       "│ AB7           ┆ e            ┆ 13:36:55     ┆ 13:56:08     ┆   ┆            ┆          ┆              ┆              │\n",
       "│ CF407BBC3B9FA ┆ electric_bik ┆ 2021-12-06   ┆ 2021-12-06   ┆ … ┆ 2021-12-06 ┆ 19:44:51 ┆ 7m 1s        ┆ Fair         │\n",
       "│ D63           ┆ e            ┆ 19:37:50     ┆ 19:44:51     ┆   ┆            ┆          ┆              ┆              │\n",
       "│ 60BB69EBF5440 ┆ electric_bik ┆ 2021-12-02   ┆ 2021-12-02   ┆ … ┆ 2021-12-02 ┆ 09:05:21 ┆ 8m 17s       ┆ Fair         │\n",
       "│ E92           ┆ e            ┆ 08:57:04     ┆ 09:05:21     ┆   ┆            ┆          ┆              ┆              │\n",
       "│ C414F654A2863 ┆ electric_bik ┆ 2021-12-13   ┆ 2021-12-13   ┆ … ┆ 2021-12-13 ┆ 09:14:39 ┆ 14m 13s      ┆ Fair         │\n",
       "│ 5B8           ┆ e            ┆ 09:00:26     ┆ 09:14:39     ┆   ┆            ┆          ┆              ┆              │\n",
       "│ 37AC57E34B2E7 ┆ classic_bike ┆ 2021-12-13   ┆ 2021-12-13   ┆ … ┆ 2021-12-13 ┆ 08:49:09 ┆ 3m 37s       ┆ Fair         │\n",
       "│ E97           ┆              ┆ 08:45:32     ┆ 08:49:09     ┆   ┆            ┆          ┆              ┆              │\n",
       "└───────────────┴──────────────┴──────────────┴──────────────┴───┴────────────┴──────────┴──────────────┴──────────────┘"
      ]
     },
     "execution_count": 31,
     "metadata": {},
     "output_type": "execute_result"
    }
   ],
   "source": [
    "df"
   ]
  },
  {
   "cell_type": "code",
   "execution_count": 33,
   "id": "adca5877-1cbf-435c-b39a-d4cd1cb9fac9",
   "metadata": {},
   "outputs": [],
   "source": [
    "data_1 = df.clone()"
   ]
  },
  {
   "cell_type": "code",
   "execution_count": 35,
   "id": "803a0f18-5884-4d99-b6c4-359956865066",
   "metadata": {},
   "outputs": [
    {
     "data": {
      "text/html": [
       "<div><style>\n",
       ".dataframe > thead > tr,\n",
       ".dataframe > tbody > tr {\n",
       "  text-align: right;\n",
       "  white-space: pre-wrap;\n",
       "}\n",
       "</style>\n",
       "<small>shape: (5_590_292, 17)</small><table border=\"1\" class=\"dataframe\"><thead><tr><th>ride_id</th><th>rideable_type</th><th>started_at</th><th>ended_at</th><th>start_station_name</th><th>end_station_name</th><th>start_lat</th><th>start_lng</th><th>end_lat</th><th>end_lng</th><th>member_casual</th><th>start_date</th><th>start_time</th><th>end_date</th><th>end_time</th><th>duration</th><th>ride_validity</th></tr><tr><td>str</td><td>str</td><td>datetime[μs]</td><td>datetime[μs]</td><td>str</td><td>str</td><td>str</td><td>str</td><td>str</td><td>str</td><td>str</td><td>str</td><td>str</td><td>str</td><td>str</td><td>duration[μs]</td><td>str</td></tr></thead><tbody><tr><td>&quot;E19E6F1B8D4C42ED&quot;</td><td>&quot;electric_bike&quot;</td><td>2021-01-23 16:14:19</td><td>2021-01-23 16:24:44</td><td>&quot;California Ave &amp; Cortez St&quot;</td><td>null</td><td>&quot;41.900340666666665&quot;</td><td>&quot;-87.696743&quot;</td><td>&quot;41.89&quot;</td><td>&quot;-87.72&quot;</td><td>&quot;member&quot;</td><td>&quot;2021-01-23&quot;</td><td>&quot;16:14:19&quot;</td><td>&quot;2021-01-23&quot;</td><td>&quot;16:24:44&quot;</td><td>10m 25s</td><td>&quot;Fair&quot;</td></tr><tr><td>&quot;DC88F20C2C55F27F&quot;</td><td>&quot;electric_bike&quot;</td><td>2021-01-27 18:43:08</td><td>2021-01-27 18:47:12</td><td>&quot;California Ave &amp; Cortez St&quot;</td><td>null</td><td>&quot;41.90033283333333&quot;</td><td>&quot;-87.696707&quot;</td><td>&quot;41.9&quot;</td><td>&quot;-87.69&quot;</td><td>&quot;member&quot;</td><td>&quot;2021-01-27&quot;</td><td>&quot;18:43:08&quot;</td><td>&quot;2021-01-27&quot;</td><td>&quot;18:47:12&quot;</td><td>4m 4s</td><td>&quot;Fair&quot;</td></tr><tr><td>&quot;EC45C94683FE3F27&quot;</td><td>&quot;electric_bike&quot;</td><td>2021-01-21 22:35:54</td><td>2021-01-21 22:37:14</td><td>&quot;California Ave &amp; Cortez St&quot;</td><td>null</td><td>&quot;41.900312666666665&quot;</td><td>&quot;-87.69664266666666&quot;</td><td>&quot;41.9&quot;</td><td>&quot;-87.7&quot;</td><td>&quot;member&quot;</td><td>&quot;2021-01-21&quot;</td><td>&quot;22:35:54&quot;</td><td>&quot;2021-01-21&quot;</td><td>&quot;22:37:14&quot;</td><td>1m 20s</td><td>&quot;Suspicious&quot;</td></tr><tr><td>&quot;4FA453A75AE377DB&quot;</td><td>&quot;electric_bike&quot;</td><td>2021-01-07 13:31:13</td><td>2021-01-07 13:42:55</td><td>&quot;California Ave &amp; Cortez St&quot;</td><td>null</td><td>&quot;41.90039866666667&quot;</td><td>&quot;-87.69666216666667&quot;</td><td>&quot;41.92&quot;</td><td>&quot;-87.69&quot;</td><td>&quot;member&quot;</td><td>&quot;2021-01-07&quot;</td><td>&quot;13:31:13&quot;</td><td>&quot;2021-01-07&quot;</td><td>&quot;13:42:55&quot;</td><td>11m 42s</td><td>&quot;Fair&quot;</td></tr><tr><td>&quot;BE5E8EB4E7263A0B&quot;</td><td>&quot;electric_bike&quot;</td><td>2021-01-23 02:24:02</td><td>2021-01-23 02:24:45</td><td>&quot;California Ave &amp; Cortez St&quot;</td><td>null</td><td>&quot;41.90032633333333&quot;</td><td>&quot;-87.69669716666667&quot;</td><td>&quot;41.9&quot;</td><td>&quot;-87.7&quot;</td><td>&quot;casual&quot;</td><td>&quot;2021-01-23&quot;</td><td>&quot;02:24:02&quot;</td><td>&quot;2021-01-23&quot;</td><td>&quot;02:24:45&quot;</td><td>43s</td><td>&quot;Suspicious&quot;</td></tr><tr><td>&hellip;</td><td>&hellip;</td><td>&hellip;</td><td>&hellip;</td><td>&hellip;</td><td>&hellip;</td><td>&hellip;</td><td>&hellip;</td><td>&hellip;</td><td>&hellip;</td><td>&hellip;</td><td>&hellip;</td><td>&hellip;</td><td>&hellip;</td><td>&hellip;</td><td>&hellip;</td><td>&hellip;</td></tr><tr><td>&quot;847431F3D5353AB7&quot;</td><td>&quot;electric_bike&quot;</td><td>2021-12-12 13:36:55</td><td>2021-12-12 13:56:08</td><td>&quot;Canal St &amp; Madison St&quot;</td><td>null</td><td>&quot;41.882288833333334&quot;</td><td>&quot;-87.63975216666667&quot;</td><td>&quot;41.89&quot;</td><td>&quot;-87.61&quot;</td><td>&quot;casual&quot;</td><td>&quot;2021-12-12&quot;</td><td>&quot;13:36:55&quot;</td><td>&quot;2021-12-12&quot;</td><td>&quot;13:56:08&quot;</td><td>19m 13s</td><td>&quot;Fair&quot;</td></tr><tr><td>&quot;CF407BBC3B9FAD63&quot;</td><td>&quot;electric_bike&quot;</td><td>2021-12-06 19:37:50</td><td>2021-12-06 19:44:51</td><td>&quot;Canal St &amp; Madison St&quot;</td><td>&quot;Kingsbury St &amp; Kinzie St&quot;</td><td>&quot;41.882122833333334&quot;</td><td>&quot;-87.640053&quot;</td><td>&quot;41.889106&quot;</td><td>&quot;-87.638862&quot;</td><td>&quot;member&quot;</td><td>&quot;2021-12-06&quot;</td><td>&quot;19:37:50&quot;</td><td>&quot;2021-12-06&quot;</td><td>&quot;19:44:51&quot;</td><td>7m 1s</td><td>&quot;Fair&quot;</td></tr><tr><td>&quot;60BB69EBF5440E92&quot;</td><td>&quot;electric_bike&quot;</td><td>2021-12-02 08:57:04</td><td>2021-12-02 09:05:21</td><td>&quot;Canal St &amp; Madison St&quot;</td><td>&quot;Dearborn St &amp; Monroe St&quot;</td><td>&quot;41.88195616666667&quot;</td><td>&quot;-87.63995483333333&quot;</td><td>&quot;41.8802535&quot;</td><td>&quot;-87.62960266666667&quot;</td><td>&quot;member&quot;</td><td>&quot;2021-12-02&quot;</td><td>&quot;08:57:04&quot;</td><td>&quot;2021-12-02&quot;</td><td>&quot;09:05:21&quot;</td><td>8m 17s</td><td>&quot;Fair&quot;</td></tr><tr><td>&quot;C414F654A28635B8&quot;</td><td>&quot;electric_bike&quot;</td><td>2021-12-13 09:00:26</td><td>2021-12-13 09:14:39</td><td>&quot;Lawndale Ave &amp; 16th St&quot;</td><td>null</td><td>&quot;41.86&quot;</td><td>&quot;-87.72&quot;</td><td>&quot;41.85&quot;</td><td>&quot;-87.71&quot;</td><td>&quot;member&quot;</td><td>&quot;2021-12-13&quot;</td><td>&quot;09:00:26&quot;</td><td>&quot;2021-12-13&quot;</td><td>&quot;09:14:39&quot;</td><td>14m 13s</td><td>&quot;Fair&quot;</td></tr><tr><td>&quot;37AC57E34B2E7E97&quot;</td><td>&quot;classic_bike&quot;</td><td>2021-12-13 08:45:32</td><td>2021-12-13 08:49:09</td><td>&quot;Michigan Ave &amp; Jackson Blvd&quot;</td><td>&quot;Dearborn St &amp; Monroe St&quot;</td><td>&quot;41.87785&quot;</td><td>&quot;-87.62408&quot;</td><td>&quot;41.881319815&quot;</td><td>&quot;-87.6295209193&quot;</td><td>&quot;member&quot;</td><td>&quot;2021-12-13&quot;</td><td>&quot;08:45:32&quot;</td><td>&quot;2021-12-13&quot;</td><td>&quot;08:49:09&quot;</td><td>3m 37s</td><td>&quot;Fair&quot;</td></tr></tbody></table></div>"
      ],
      "text/plain": [
       "shape: (5_590_292, 17)\n",
       "┌───────────────┬──────────────┬──────────────┬──────────────┬───┬────────────┬──────────┬──────────────┬──────────────┐\n",
       "│ ride_id       ┆ rideable_typ ┆ started_at   ┆ ended_at     ┆ … ┆ end_date   ┆ end_time ┆ duration     ┆ ride_validit │\n",
       "│ ---           ┆ e            ┆ ---          ┆ ---          ┆   ┆ ---        ┆ ---      ┆ ---          ┆ y            │\n",
       "│ str           ┆ ---          ┆ datetime[μs] ┆ datetime[μs] ┆   ┆ str        ┆ str      ┆ duration[μs] ┆ ---          │\n",
       "│               ┆ str          ┆              ┆              ┆   ┆            ┆          ┆              ┆ str          │\n",
       "╞═══════════════╪══════════════╪══════════════╪══════════════╪═══╪════════════╪══════════╪══════════════╪══════════════╡\n",
       "│ E19E6F1B8D4C4 ┆ electric_bik ┆ 2021-01-23   ┆ 2021-01-23   ┆ … ┆ 2021-01-23 ┆ 16:24:44 ┆ 10m 25s      ┆ Fair         │\n",
       "│ 2ED           ┆ e            ┆ 16:14:19     ┆ 16:24:44     ┆   ┆            ┆          ┆              ┆              │\n",
       "│ DC88F20C2C55F ┆ electric_bik ┆ 2021-01-27   ┆ 2021-01-27   ┆ … ┆ 2021-01-27 ┆ 18:47:12 ┆ 4m 4s        ┆ Fair         │\n",
       "│ 27F           ┆ e            ┆ 18:43:08     ┆ 18:47:12     ┆   ┆            ┆          ┆              ┆              │\n",
       "│ EC45C94683FE3 ┆ electric_bik ┆ 2021-01-21   ┆ 2021-01-21   ┆ … ┆ 2021-01-21 ┆ 22:37:14 ┆ 1m 20s       ┆ Suspicious   │\n",
       "│ F27           ┆ e            ┆ 22:35:54     ┆ 22:37:14     ┆   ┆            ┆          ┆              ┆              │\n",
       "│ 4FA453A75AE37 ┆ electric_bik ┆ 2021-01-07   ┆ 2021-01-07   ┆ … ┆ 2021-01-07 ┆ 13:42:55 ┆ 11m 42s      ┆ Fair         │\n",
       "│ 7DB           ┆ e            ┆ 13:31:13     ┆ 13:42:55     ┆   ┆            ┆          ┆              ┆              │\n",
       "│ BE5E8EB4E7263 ┆ electric_bik ┆ 2021-01-23   ┆ 2021-01-23   ┆ … ┆ 2021-01-23 ┆ 02:24:45 ┆ 43s          ┆ Suspicious   │\n",
       "│ A0B           ┆ e            ┆ 02:24:02     ┆ 02:24:45     ┆   ┆            ┆          ┆              ┆              │\n",
       "│ …             ┆ …            ┆ …            ┆ …            ┆ … ┆ …          ┆ …        ┆ …            ┆ …            │\n",
       "│ 847431F3D5353 ┆ electric_bik ┆ 2021-12-12   ┆ 2021-12-12   ┆ … ┆ 2021-12-12 ┆ 13:56:08 ┆ 19m 13s      ┆ Fair         │\n",
       "│ AB7           ┆ e            ┆ 13:36:55     ┆ 13:56:08     ┆   ┆            ┆          ┆              ┆              │\n",
       "│ CF407BBC3B9FA ┆ electric_bik ┆ 2021-12-06   ┆ 2021-12-06   ┆ … ┆ 2021-12-06 ┆ 19:44:51 ┆ 7m 1s        ┆ Fair         │\n",
       "│ D63           ┆ e            ┆ 19:37:50     ┆ 19:44:51     ┆   ┆            ┆          ┆              ┆              │\n",
       "│ 60BB69EBF5440 ┆ electric_bik ┆ 2021-12-02   ┆ 2021-12-02   ┆ … ┆ 2021-12-02 ┆ 09:05:21 ┆ 8m 17s       ┆ Fair         │\n",
       "│ E92           ┆ e            ┆ 08:57:04     ┆ 09:05:21     ┆   ┆            ┆          ┆              ┆              │\n",
       "│ C414F654A2863 ┆ electric_bik ┆ 2021-12-13   ┆ 2021-12-13   ┆ … ┆ 2021-12-13 ┆ 09:14:39 ┆ 14m 13s      ┆ Fair         │\n",
       "│ 5B8           ┆ e            ┆ 09:00:26     ┆ 09:14:39     ┆   ┆            ┆          ┆              ┆              │\n",
       "│ 37AC57E34B2E7 ┆ classic_bike ┆ 2021-12-13   ┆ 2021-12-13   ┆ … ┆ 2021-12-13 ┆ 08:49:09 ┆ 3m 37s       ┆ Fair         │\n",
       "│ E97           ┆              ┆ 08:45:32     ┆ 08:49:09     ┆   ┆            ┆          ┆              ┆              │\n",
       "└───────────────┴──────────────┴──────────────┴──────────────┴───┴────────────┴──────────┴──────────────┴──────────────┘"
      ]
     },
     "execution_count": 35,
     "metadata": {},
     "output_type": "execute_result"
    }
   ],
   "source": [
    "data_1"
   ]
  },
  {
   "cell_type": "markdown",
   "id": "be2e2ef3-fd1f-46b4-bb19-04d8e98731c8",
   "metadata": {},
   "source": [
    "##  Polars is optimized for performance, we can avoid slow row-wise operations by using a vectorized approach and efficient nearest-neighbor searches.\n",
    "\n",
    "## Instead of iterating row by row, we can use Scipy's KDTree for fast nearest-neighbor lookups. Here’s how you can implement it in Polars:"
   ]
  },
  {
   "cell_type": "code",
   "execution_count": 38,
   "id": "9ae4a6e3-950c-44e2-9690-75415c35e287",
   "metadata": {},
   "outputs": [
    {
     "name": "stderr",
     "output_type": "stream",
     "text": [
      "C:\\Users\\Sowjanya\\AppData\\Local\\Temp\\ipykernel_4668\\1136869562.py:29: SettingWithCopyWarning: \n",
      "A value is trying to be set on a copy of a slice from a DataFrame.\n",
      "Try using .loc[row_indexer,col_indexer] = value instead\n",
      "\n",
      "See the caveats in the documentation: https://pandas.pydata.org/pandas-docs/stable/user_guide/indexing.html#returning-a-view-versus-a-copy\n",
      "  missing_places[\"start_station_name\"] = valid_places.iloc[nearest_indices][\"start_station_name\"].values\n"
     ]
    },
    {
     "name": "stdout",
     "output_type": "stream",
     "text": [
      "shape: (5_590_292, 17)\n",
      "┌───────────────┬──────────────┬──────────────┬──────────────┬───┬────────────┬──────────┬──────────────┬──────────────┐\n",
      "│ ride_id       ┆ rideable_typ ┆ started_at   ┆ ended_at     ┆ … ┆ end_date   ┆ end_time ┆ duration     ┆ ride_validit │\n",
      "│ ---           ┆ e            ┆ ---          ┆ ---          ┆   ┆ ---        ┆ ---      ┆ ---          ┆ y            │\n",
      "│ str           ┆ ---          ┆ datetime[μs] ┆ datetime[μs] ┆   ┆ str        ┆ str      ┆ duration[μs] ┆ ---          │\n",
      "│               ┆ str          ┆              ┆              ┆   ┆            ┆          ┆              ┆ str          │\n",
      "╞═══════════════╪══════════════╪══════════════╪══════════════╪═══╪════════════╪══════════╪══════════════╪══════════════╡\n",
      "│ E19E6F1B8D4C4 ┆ electric_bik ┆ 2021-01-23   ┆ 2021-01-23   ┆ … ┆ 2021-01-23 ┆ 16:24:44 ┆ 10m 25s      ┆ Fair         │\n",
      "│ 2ED           ┆ e            ┆ 16:14:19     ┆ 16:24:44     ┆   ┆            ┆          ┆              ┆              │\n",
      "│ DC88F20C2C55F ┆ electric_bik ┆ 2021-01-27   ┆ 2021-01-27   ┆ … ┆ 2021-01-27 ┆ 18:47:12 ┆ 4m 4s        ┆ Fair         │\n",
      "│ 27F           ┆ e            ┆ 18:43:08     ┆ 18:47:12     ┆   ┆            ┆          ┆              ┆              │\n",
      "│ EC45C94683FE3 ┆ electric_bik ┆ 2021-01-21   ┆ 2021-01-21   ┆ … ┆ 2021-01-21 ┆ 22:37:14 ┆ 1m 20s       ┆ Suspicious   │\n",
      "│ F27           ┆ e            ┆ 22:35:54     ┆ 22:37:14     ┆   ┆            ┆          ┆              ┆              │\n",
      "│ 4FA453A75AE37 ┆ electric_bik ┆ 2021-01-07   ┆ 2021-01-07   ┆ … ┆ 2021-01-07 ┆ 13:42:55 ┆ 11m 42s      ┆ Fair         │\n",
      "│ 7DB           ┆ e            ┆ 13:31:13     ┆ 13:42:55     ┆   ┆            ┆          ┆              ┆              │\n",
      "│ BE5E8EB4E7263 ┆ electric_bik ┆ 2021-01-23   ┆ 2021-01-23   ┆ … ┆ 2021-01-23 ┆ 02:24:45 ┆ 43s          ┆ Suspicious   │\n",
      "│ A0B           ┆ e            ┆ 02:24:02     ┆ 02:24:45     ┆   ┆            ┆          ┆              ┆              │\n",
      "│ …             ┆ …            ┆ …            ┆ …            ┆ … ┆ …          ┆ …        ┆ …            ┆ …            │\n",
      "│ 847431F3D5353 ┆ electric_bik ┆ 2021-12-12   ┆ 2021-12-12   ┆ … ┆ 2021-12-12 ┆ 13:56:08 ┆ 19m 13s      ┆ Fair         │\n",
      "│ AB7           ┆ e            ┆ 13:36:55     ┆ 13:56:08     ┆   ┆            ┆          ┆              ┆              │\n",
      "│ CF407BBC3B9FA ┆ electric_bik ┆ 2021-12-06   ┆ 2021-12-06   ┆ … ┆ 2021-12-06 ┆ 19:44:51 ┆ 7m 1s        ┆ Fair         │\n",
      "│ D63           ┆ e            ┆ 19:37:50     ┆ 19:44:51     ┆   ┆            ┆          ┆              ┆              │\n",
      "│ 60BB69EBF5440 ┆ electric_bik ┆ 2021-12-02   ┆ 2021-12-02   ┆ … ┆ 2021-12-02 ┆ 09:05:21 ┆ 8m 17s       ┆ Fair         │\n",
      "│ E92           ┆ e            ┆ 08:57:04     ┆ 09:05:21     ┆   ┆            ┆          ┆              ┆              │\n",
      "│ C414F654A2863 ┆ electric_bik ┆ 2021-12-13   ┆ 2021-12-13   ┆ … ┆ 2021-12-13 ┆ 09:14:39 ┆ 14m 13s      ┆ Fair         │\n",
      "│ 5B8           ┆ e            ┆ 09:00:26     ┆ 09:14:39     ┆   ┆            ┆          ┆              ┆              │\n",
      "│ 37AC57E34B2E7 ┆ classic_bike ┆ 2021-12-13   ┆ 2021-12-13   ┆ … ┆ 2021-12-13 ┆ 08:49:09 ┆ 3m 37s       ┆ Fair         │\n",
      "│ E97           ┆              ┆ 08:45:32     ┆ 08:49:09     ┆   ┆            ┆          ┆              ┆              │\n",
      "└───────────────┴──────────────┴──────────────┴──────────────┴───┴────────────┴──────────┴──────────────┴──────────────┘\n"
     ]
    }
   ],
   "source": [
    "import polars as pl\n",
    "import numpy as np\n",
    "from scipy.spatial import cKDTree  # Fast nearest-neighbor search\n",
    "\n",
    "def find_nearest_place_polars(df: pl.DataFrame) -> pl.DataFrame:\n",
    "    \"\"\"\n",
    "    Assigns the nearest place name to rows where 'start_station_name' is missing.\n",
    "    Uses KDTree for fast nearest-neighbor lookup.\n",
    "    \"\"\"\n",
    "\n",
    "    # Convert to Pandas for KDTree operations (only for lat/lng processing)\n",
    "    df_pandas = df.to_pandas()\n",
    "\n",
    "    # Extract valid and missing place data\n",
    "    valid_places = df_pandas[df_pandas[\"start_station_name\"].notna()]\n",
    "    missing_places = df_pandas[df_pandas[\"start_station_name\"].isna()]\n",
    "\n",
    "    # Build KDTree for fast nearest neighbor search\n",
    "    if not valid_places.empty:\n",
    "        valid_coords = np.array(list(zip(valid_places[\"start_lat\"], valid_places[\"start_lng\"])))\n",
    "        tree = cKDTree(valid_coords)\n",
    "\n",
    "        # Find nearest valid station for each missing station\n",
    "        if not missing_places.empty:\n",
    "            missing_coords = np.array(list(zip(missing_places[\"start_lat\"], missing_places[\"start_lng\"])))\n",
    "            _, nearest_indices = tree.query(missing_coords)\n",
    "\n",
    "            # Assign nearest station names\n",
    "            missing_places[\"start_station_name\"] = valid_places.iloc[nearest_indices][\"start_station_name\"].values\n",
    "\n",
    "            # Merge back the updated missing places\n",
    "            df_pandas.loc[df_pandas[\"start_station_name\"].isna(), \"start_station_name\"] = missing_places[\"start_station_name\"]\n",
    "\n",
    "    # Convert back to Polars\n",
    "    return pl.from_pandas(df_pandas)\n",
    "\n",
    "# Example usage\n",
    "try:\n",
    "    df_cleaned = pl.DataFrame(data_1)  # Ensure data_1 is defined\n",
    "    df_cleaned = find_nearest_place_polars(df_cleaned)\n",
    "    print(df_cleaned)\n",
    "except NameError:\n",
    "    print(\"Error: 'data_1' is not defined. Make sure your dataset exists.\")\n"
   ]
  },
  {
   "cell_type": "code",
   "execution_count": 40,
   "id": "c2c7eebe-78ff-4da2-9b09-f7dba1ac33c6",
   "metadata": {},
   "outputs": [
    {
     "name": "stdout",
     "output_type": "stream",
     "text": [
      "Missing values in start_station_name: 0\n"
     ]
    }
   ],
   "source": [
    "# Count missing values in start_station_name\n",
    "missing_count = df_cleaned[\"start_station_name\"].is_null().sum()\n",
    "print(f\"Missing values in start_station_name: {missing_count}\")\n"
   ]
  },
  {
   "cell_type": "code",
   "execution_count": 42,
   "id": "4ee82b71-2bda-471d-980e-286891ce6f51",
   "metadata": {},
   "outputs": [
    {
     "name": "stderr",
     "output_type": "stream",
     "text": [
      "C:\\Users\\Sowjanya\\AppData\\Local\\Temp\\ipykernel_4668\\65436734.py:32: SettingWithCopyWarning: \n",
      "A value is trying to be set on a copy of a slice from a DataFrame.\n",
      "Try using .loc[row_indexer,col_indexer] = value instead\n",
      "\n",
      "See the caveats in the documentation: https://pandas.pydata.org/pandas-docs/stable/user_guide/indexing.html#returning-a-view-versus-a-copy\n",
      "  missing_places[station_col] = valid_places.iloc[nearest_indices][station_col].values\n",
      "C:\\Users\\Sowjanya\\AppData\\Local\\Temp\\ipykernel_4668\\65436734.py:32: SettingWithCopyWarning: \n",
      "A value is trying to be set on a copy of a slice from a DataFrame.\n",
      "Try using .loc[row_indexer,col_indexer] = value instead\n",
      "\n",
      "See the caveats in the documentation: https://pandas.pydata.org/pandas-docs/stable/user_guide/indexing.html#returning-a-view-versus-a-copy\n",
      "  missing_places[station_col] = valid_places.iloc[nearest_indices][station_col].values\n"
     ]
    },
    {
     "name": "stdout",
     "output_type": "stream",
     "text": [
      "shape: (5_590_292, 17)\n",
      "┌───────────────┬──────────────┬──────────────┬──────────────┬───┬────────────┬──────────┬──────────────┬──────────────┐\n",
      "│ ride_id       ┆ rideable_typ ┆ started_at   ┆ ended_at     ┆ … ┆ end_date   ┆ end_time ┆ duration     ┆ ride_validit │\n",
      "│ ---           ┆ e            ┆ ---          ┆ ---          ┆   ┆ ---        ┆ ---      ┆ ---          ┆ y            │\n",
      "│ str           ┆ ---          ┆ datetime[μs] ┆ datetime[μs] ┆   ┆ str        ┆ str      ┆ duration[μs] ┆ ---          │\n",
      "│               ┆ str          ┆              ┆              ┆   ┆            ┆          ┆              ┆ str          │\n",
      "╞═══════════════╪══════════════╪══════════════╪══════════════╪═══╪════════════╪══════════╪══════════════╪══════════════╡\n",
      "│ E19E6F1B8D4C4 ┆ electric_bik ┆ 2021-01-23   ┆ 2021-01-23   ┆ … ┆ 2021-01-23 ┆ 16:24:44 ┆ 10m 25s      ┆ Fair         │\n",
      "│ 2ED           ┆ e            ┆ 16:14:19     ┆ 16:24:44     ┆   ┆            ┆          ┆              ┆              │\n",
      "│ DC88F20C2C55F ┆ electric_bik ┆ 2021-01-27   ┆ 2021-01-27   ┆ … ┆ 2021-01-27 ┆ 18:47:12 ┆ 4m 4s        ┆ Fair         │\n",
      "│ 27F           ┆ e            ┆ 18:43:08     ┆ 18:47:12     ┆   ┆            ┆          ┆              ┆              │\n",
      "│ EC45C94683FE3 ┆ electric_bik ┆ 2021-01-21   ┆ 2021-01-21   ┆ … ┆ 2021-01-21 ┆ 22:37:14 ┆ 1m 20s       ┆ Suspicious   │\n",
      "│ F27           ┆ e            ┆ 22:35:54     ┆ 22:37:14     ┆   ┆            ┆          ┆              ┆              │\n",
      "│ 4FA453A75AE37 ┆ electric_bik ┆ 2021-01-07   ┆ 2021-01-07   ┆ … ┆ 2021-01-07 ┆ 13:42:55 ┆ 11m 42s      ┆ Fair         │\n",
      "│ 7DB           ┆ e            ┆ 13:31:13     ┆ 13:42:55     ┆   ┆            ┆          ┆              ┆              │\n",
      "│ BE5E8EB4E7263 ┆ electric_bik ┆ 2021-01-23   ┆ 2021-01-23   ┆ … ┆ 2021-01-23 ┆ 02:24:45 ┆ 43s          ┆ Suspicious   │\n",
      "│ A0B           ┆ e            ┆ 02:24:02     ┆ 02:24:45     ┆   ┆            ┆          ┆              ┆              │\n",
      "│ …             ┆ …            ┆ …            ┆ …            ┆ … ┆ …          ┆ …        ┆ …            ┆ …            │\n",
      "│ 847431F3D5353 ┆ electric_bik ┆ 2021-12-12   ┆ 2021-12-12   ┆ … ┆ 2021-12-12 ┆ 13:56:08 ┆ 19m 13s      ┆ Fair         │\n",
      "│ AB7           ┆ e            ┆ 13:36:55     ┆ 13:56:08     ┆   ┆            ┆          ┆              ┆              │\n",
      "│ CF407BBC3B9FA ┆ electric_bik ┆ 2021-12-06   ┆ 2021-12-06   ┆ … ┆ 2021-12-06 ┆ 19:44:51 ┆ 7m 1s        ┆ Fair         │\n",
      "│ D63           ┆ e            ┆ 19:37:50     ┆ 19:44:51     ┆   ┆            ┆          ┆              ┆              │\n",
      "│ 60BB69EBF5440 ┆ electric_bik ┆ 2021-12-02   ┆ 2021-12-02   ┆ … ┆ 2021-12-02 ┆ 09:05:21 ┆ 8m 17s       ┆ Fair         │\n",
      "│ E92           ┆ e            ┆ 08:57:04     ┆ 09:05:21     ┆   ┆            ┆          ┆              ┆              │\n",
      "│ C414F654A2863 ┆ electric_bik ┆ 2021-12-13   ┆ 2021-12-13   ┆ … ┆ 2021-12-13 ┆ 09:14:39 ┆ 14m 13s      ┆ Fair         │\n",
      "│ 5B8           ┆ e            ┆ 09:00:26     ┆ 09:14:39     ┆   ┆            ┆          ┆              ┆              │\n",
      "│ 37AC57E34B2E7 ┆ classic_bike ┆ 2021-12-13   ┆ 2021-12-13   ┆ … ┆ 2021-12-13 ┆ 08:49:09 ┆ 3m 37s       ┆ Fair         │\n",
      "│ E97           ┆              ┆ 08:45:32     ┆ 08:49:09     ┆   ┆            ┆          ┆              ┆              │\n",
      "└───────────────┴──────────────┴──────────────┴──────────────┴───┴────────────┴──────────┴──────────────┴──────────────┘\n"
     ]
    }
   ],
   "source": [
    "import polars as pl\n",
    "import numpy as np\n",
    "from scipy.spatial import cKDTree  # Fast nearest-neighbor search\n",
    "\n",
    "def find_nearest_place_polars(df: pl.DataFrame) -> pl.DataFrame:\n",
    "    \"\"\"\n",
    "    Assigns the nearest place name to rows where 'start_station_name' and 'end_station_name' are missing.\n",
    "    Uses KDTree for fast nearest-neighbor lookup.\n",
    "    \"\"\"\n",
    "\n",
    "    # Convert Polars to Pandas for KDTree operations\n",
    "    df_pandas = df.to_pandas()\n",
    "\n",
    "    def fill_missing_station(df, station_col, lat_col, lng_col):\n",
    "        \"\"\"\n",
    "        Helper function to fill missing station names based on nearest valid locations.\n",
    "        \"\"\"\n",
    "        valid_places = df[df[station_col].notna()]\n",
    "        missing_places = df[df[station_col].isna()]\n",
    "\n",
    "        # Build KDTree for fast nearest neighbor search\n",
    "        if not valid_places.empty:\n",
    "            valid_coords = np.array(list(zip(valid_places[lat_col], valid_places[lng_col])))\n",
    "            tree = cKDTree(valid_coords)\n",
    "\n",
    "            # Find nearest valid station for each missing station\n",
    "            if not missing_places.empty:\n",
    "                missing_coords = np.array(list(zip(missing_places[lat_col], missing_places[lng_col])))\n",
    "                _, nearest_indices = tree.query(missing_coords)\n",
    "\n",
    "                # Assign nearest station names\n",
    "                missing_places[station_col] = valid_places.iloc[nearest_indices][station_col].values\n",
    "\n",
    "                # Merge back the updated missing places\n",
    "                df.loc[df[station_col].isna(), station_col] = missing_places[station_col]\n",
    "\n",
    "    # Fill missing values for start and end stations\n",
    "    fill_missing_station(df_pandas, \"start_station_name\", \"start_lat\", \"start_lng\")\n",
    "    fill_missing_station(df_pandas, \"end_station_name\", \"end_lat\", \"end_lng\")\n",
    "\n",
    "    # Convert back to Polars\n",
    "    return pl.from_pandas(df_pandas)\n",
    "\n",
    "# Example usage\n",
    "try:\n",
    "    df_cleaned = pl.DataFrame(data_1)  # Ensure data_1 is defined\n",
    "    df_cleaned = find_nearest_place_polars(df_cleaned)\n",
    "    print(df_cleaned)\n",
    "except NameError:\n",
    "    print(\"Error: 'data_1' is not defined. Make sure your dataset exists.\")\n"
   ]
  },
  {
   "cell_type": "code",
   "execution_count": 44,
   "id": "bd867d5c-edf5-4493-89a8-b65b35560e66",
   "metadata": {},
   "outputs": [
    {
     "name": "stdout",
     "output_type": "stream",
     "text": [
      "Missing values in end_station_name: 0\n"
     ]
    }
   ],
   "source": [
    "# Count missing values in start_station_name\n",
    "missing_count = df_cleaned[\"end_station_name\"].is_null().sum()\n",
    "print(f\"Missing values in end_station_name: {missing_count}\")"
   ]
  },
  {
   "cell_type": "code",
   "execution_count": 46,
   "id": "b99bfe92-a942-422b-85a9-3caa3e0bd961",
   "metadata": {},
   "outputs": [],
   "source": [
    "df_cleaned = df_cleaned.with_columns(\n",
    "    df_cleaned[\"duration\"].dt.total_seconds().cast(pl.Float64).alias(\"duration_seconds\")\n",
    ")\n"
   ]
  },
  {
   "cell_type": "code",
   "execution_count": 48,
   "id": "0e79e69e-f10d-4dc2-8797-262cc6f98d09",
   "metadata": {},
   "outputs": [
    {
     "data": {
      "text/plain": [
       "Schema([('ride_id', String),\n",
       "        ('rideable_type', String),\n",
       "        ('started_at', Datetime(time_unit='us', time_zone=None)),\n",
       "        ('ended_at', Datetime(time_unit='us', time_zone=None)),\n",
       "        ('start_station_name', String),\n",
       "        ('end_station_name', String),\n",
       "        ('start_lat', String),\n",
       "        ('start_lng', String),\n",
       "        ('end_lat', String),\n",
       "        ('end_lng', String),\n",
       "        ('member_casual', String),\n",
       "        ('start_date', String),\n",
       "        ('start_time', String),\n",
       "        ('end_date', String),\n",
       "        ('end_time', String),\n",
       "        ('duration', Duration(time_unit='us')),\n",
       "        ('ride_validity', String),\n",
       "        ('duration_seconds', Float64)])"
      ]
     },
     "execution_count": 48,
     "metadata": {},
     "output_type": "execute_result"
    }
   ],
   "source": [
    "df_cleaned.schema"
   ]
  },
  {
   "cell_type": "code",
   "execution_count": 50,
   "id": "d8775570-8d3e-400c-94ff-36988c569350",
   "metadata": {},
   "outputs": [
    {
     "data": {
      "text/html": [
       "<div><style>\n",
       ".dataframe > thead > tr,\n",
       ".dataframe > tbody > tr {\n",
       "  text-align: right;\n",
       "  white-space: pre-wrap;\n",
       "}\n",
       "</style>\n",
       "<small>shape: (5_590_292, 18)</small><table border=\"1\" class=\"dataframe\"><thead><tr><th>ride_id</th><th>rideable_type</th><th>started_at</th><th>ended_at</th><th>start_station_name</th><th>end_station_name</th><th>start_lat</th><th>start_lng</th><th>end_lat</th><th>end_lng</th><th>member_casual</th><th>start_date</th><th>start_time</th><th>end_date</th><th>end_time</th><th>duration</th><th>ride_validity</th><th>duration_seconds</th></tr><tr><td>str</td><td>str</td><td>datetime[μs]</td><td>datetime[μs]</td><td>str</td><td>str</td><td>str</td><td>str</td><td>str</td><td>str</td><td>str</td><td>str</td><td>str</td><td>str</td><td>str</td><td>duration[μs]</td><td>str</td><td>f64</td></tr></thead><tbody><tr><td>&quot;E19E6F1B8D4C42ED&quot;</td><td>&quot;electric_bike&quot;</td><td>2021-01-23 16:14:19</td><td>2021-01-23 16:24:44</td><td>&quot;California Ave &amp; Cortez St&quot;</td><td>&quot;Central Park Ave &amp; Ohio St&quot;</td><td>&quot;41.900340666666665&quot;</td><td>&quot;-87.696743&quot;</td><td>&quot;41.89&quot;</td><td>&quot;-87.72&quot;</td><td>&quot;member&quot;</td><td>&quot;2021-01-23&quot;</td><td>&quot;16:14:19&quot;</td><td>&quot;2021-01-23&quot;</td><td>&quot;16:24:44&quot;</td><td>10m 25s</td><td>&quot;Fair&quot;</td><td>625.0</td></tr><tr><td>&quot;DC88F20C2C55F27F&quot;</td><td>&quot;electric_bike&quot;</td><td>2021-01-27 18:43:08</td><td>2021-01-27 18:47:12</td><td>&quot;California Ave &amp; Cortez St&quot;</td><td>&quot;California Ave &amp; Cortez St&quot;</td><td>&quot;41.90033283333333&quot;</td><td>&quot;-87.696707&quot;</td><td>&quot;41.9&quot;</td><td>&quot;-87.69&quot;</td><td>&quot;member&quot;</td><td>&quot;2021-01-27&quot;</td><td>&quot;18:43:08&quot;</td><td>&quot;2021-01-27&quot;</td><td>&quot;18:47:12&quot;</td><td>4m 4s</td><td>&quot;Fair&quot;</td><td>244.0</td></tr><tr><td>&quot;EC45C94683FE3F27&quot;</td><td>&quot;electric_bike&quot;</td><td>2021-01-21 22:35:54</td><td>2021-01-21 22:37:14</td><td>&quot;California Ave &amp; Cortez St&quot;</td><td>&quot;California Ave &amp; Division St&quot;</td><td>&quot;41.900312666666665&quot;</td><td>&quot;-87.69664266666666&quot;</td><td>&quot;41.9&quot;</td><td>&quot;-87.7&quot;</td><td>&quot;member&quot;</td><td>&quot;2021-01-21&quot;</td><td>&quot;22:35:54&quot;</td><td>&quot;2021-01-21&quot;</td><td>&quot;22:37:14&quot;</td><td>1m 20s</td><td>&quot;Suspicious&quot;</td><td>80.0</td></tr><tr><td>&quot;4FA453A75AE377DB&quot;</td><td>&quot;electric_bike&quot;</td><td>2021-01-07 13:31:13</td><td>2021-01-07 13:42:55</td><td>&quot;California Ave &amp; Cortez St&quot;</td><td>&quot;Milwaukee Ave &amp; Rockwell St&quot;</td><td>&quot;41.90039866666667&quot;</td><td>&quot;-87.69666216666667&quot;</td><td>&quot;41.92&quot;</td><td>&quot;-87.69&quot;</td><td>&quot;member&quot;</td><td>&quot;2021-01-07&quot;</td><td>&quot;13:31:13&quot;</td><td>&quot;2021-01-07&quot;</td><td>&quot;13:42:55&quot;</td><td>11m 42s</td><td>&quot;Fair&quot;</td><td>702.0</td></tr><tr><td>&quot;BE5E8EB4E7263A0B&quot;</td><td>&quot;electric_bike&quot;</td><td>2021-01-23 02:24:02</td><td>2021-01-23 02:24:45</td><td>&quot;California Ave &amp; Cortez St&quot;</td><td>&quot;California Ave &amp; Division St&quot;</td><td>&quot;41.90032633333333&quot;</td><td>&quot;-87.69669716666667&quot;</td><td>&quot;41.9&quot;</td><td>&quot;-87.7&quot;</td><td>&quot;casual&quot;</td><td>&quot;2021-01-23&quot;</td><td>&quot;02:24:02&quot;</td><td>&quot;2021-01-23&quot;</td><td>&quot;02:24:45&quot;</td><td>43s</td><td>&quot;Suspicious&quot;</td><td>43.0</td></tr><tr><td>&hellip;</td><td>&hellip;</td><td>&hellip;</td><td>&hellip;</td><td>&hellip;</td><td>&hellip;</td><td>&hellip;</td><td>&hellip;</td><td>&hellip;</td><td>&hellip;</td><td>&hellip;</td><td>&hellip;</td><td>&hellip;</td><td>&hellip;</td><td>&hellip;</td><td>&hellip;</td><td>&hellip;</td><td>&hellip;</td></tr><tr><td>&quot;847431F3D5353AB7&quot;</td><td>&quot;electric_bike&quot;</td><td>2021-12-12 13:36:55</td><td>2021-12-12 13:56:08</td><td>&quot;Canal St &amp; Madison St&quot;</td><td>&quot;State St &amp; Randolph St&quot;</td><td>&quot;41.882288833333334&quot;</td><td>&quot;-87.63975216666667&quot;</td><td>&quot;41.89&quot;</td><td>&quot;-87.61&quot;</td><td>&quot;casual&quot;</td><td>&quot;2021-12-12&quot;</td><td>&quot;13:36:55&quot;</td><td>&quot;2021-12-12&quot;</td><td>&quot;13:56:08&quot;</td><td>19m 13s</td><td>&quot;Fair&quot;</td><td>1153.0</td></tr><tr><td>&quot;CF407BBC3B9FAD63&quot;</td><td>&quot;electric_bike&quot;</td><td>2021-12-06 19:37:50</td><td>2021-12-06 19:44:51</td><td>&quot;Canal St &amp; Madison St&quot;</td><td>&quot;Kingsbury St &amp; Kinzie St&quot;</td><td>&quot;41.882122833333334&quot;</td><td>&quot;-87.640053&quot;</td><td>&quot;41.889106&quot;</td><td>&quot;-87.638862&quot;</td><td>&quot;member&quot;</td><td>&quot;2021-12-06&quot;</td><td>&quot;19:37:50&quot;</td><td>&quot;2021-12-06&quot;</td><td>&quot;19:44:51&quot;</td><td>7m 1s</td><td>&quot;Fair&quot;</td><td>421.0</td></tr><tr><td>&quot;60BB69EBF5440E92&quot;</td><td>&quot;electric_bike&quot;</td><td>2021-12-02 08:57:04</td><td>2021-12-02 09:05:21</td><td>&quot;Canal St &amp; Madison St&quot;</td><td>&quot;Dearborn St &amp; Monroe St&quot;</td><td>&quot;41.88195616666667&quot;</td><td>&quot;-87.63995483333333&quot;</td><td>&quot;41.8802535&quot;</td><td>&quot;-87.62960266666667&quot;</td><td>&quot;member&quot;</td><td>&quot;2021-12-02&quot;</td><td>&quot;08:57:04&quot;</td><td>&quot;2021-12-02&quot;</td><td>&quot;09:05:21&quot;</td><td>8m 17s</td><td>&quot;Fair&quot;</td><td>497.0</td></tr><tr><td>&quot;C414F654A28635B8&quot;</td><td>&quot;electric_bike&quot;</td><td>2021-12-13 09:00:26</td><td>2021-12-13 09:14:39</td><td>&quot;Lawndale Ave &amp; 16th St&quot;</td><td>&quot;Kedzie Ave &amp; 24th St&quot;</td><td>&quot;41.86&quot;</td><td>&quot;-87.72&quot;</td><td>&quot;41.85&quot;</td><td>&quot;-87.71&quot;</td><td>&quot;member&quot;</td><td>&quot;2021-12-13&quot;</td><td>&quot;09:00:26&quot;</td><td>&quot;2021-12-13&quot;</td><td>&quot;09:14:39&quot;</td><td>14m 13s</td><td>&quot;Fair&quot;</td><td>853.0</td></tr><tr><td>&quot;37AC57E34B2E7E97&quot;</td><td>&quot;classic_bike&quot;</td><td>2021-12-13 08:45:32</td><td>2021-12-13 08:49:09</td><td>&quot;Michigan Ave &amp; Jackson Blvd&quot;</td><td>&quot;Dearborn St &amp; Monroe St&quot;</td><td>&quot;41.87785&quot;</td><td>&quot;-87.62408&quot;</td><td>&quot;41.881319815&quot;</td><td>&quot;-87.6295209193&quot;</td><td>&quot;member&quot;</td><td>&quot;2021-12-13&quot;</td><td>&quot;08:45:32&quot;</td><td>&quot;2021-12-13&quot;</td><td>&quot;08:49:09&quot;</td><td>3m 37s</td><td>&quot;Fair&quot;</td><td>217.0</td></tr></tbody></table></div>"
      ],
      "text/plain": [
       "shape: (5_590_292, 18)\n",
       "┌──────────────┬──────────────┬──────────────┬──────────────┬───┬──────────┬──────────────┬──────────────┬─────────────┐\n",
       "│ ride_id      ┆ rideable_typ ┆ started_at   ┆ ended_at     ┆ … ┆ end_time ┆ duration     ┆ ride_validit ┆ duration_se │\n",
       "│ ---          ┆ e            ┆ ---          ┆ ---          ┆   ┆ ---      ┆ ---          ┆ y            ┆ conds       │\n",
       "│ str          ┆ ---          ┆ datetime[μs] ┆ datetime[μs] ┆   ┆ str      ┆ duration[μs] ┆ ---          ┆ ---         │\n",
       "│              ┆ str          ┆              ┆              ┆   ┆          ┆              ┆ str          ┆ f64         │\n",
       "╞══════════════╪══════════════╪══════════════╪══════════════╪═══╪══════════╪══════════════╪══════════════╪═════════════╡\n",
       "│ E19E6F1B8D4C ┆ electric_bik ┆ 2021-01-23   ┆ 2021-01-23   ┆ … ┆ 16:24:44 ┆ 10m 25s      ┆ Fair         ┆ 625.0       │\n",
       "│ 42ED         ┆ e            ┆ 16:14:19     ┆ 16:24:44     ┆   ┆          ┆              ┆              ┆             │\n",
       "│ DC88F20C2C55 ┆ electric_bik ┆ 2021-01-27   ┆ 2021-01-27   ┆ … ┆ 18:47:12 ┆ 4m 4s        ┆ Fair         ┆ 244.0       │\n",
       "│ F27F         ┆ e            ┆ 18:43:08     ┆ 18:47:12     ┆   ┆          ┆              ┆              ┆             │\n",
       "│ EC45C94683FE ┆ electric_bik ┆ 2021-01-21   ┆ 2021-01-21   ┆ … ┆ 22:37:14 ┆ 1m 20s       ┆ Suspicious   ┆ 80.0        │\n",
       "│ 3F27         ┆ e            ┆ 22:35:54     ┆ 22:37:14     ┆   ┆          ┆              ┆              ┆             │\n",
       "│ 4FA453A75AE3 ┆ electric_bik ┆ 2021-01-07   ┆ 2021-01-07   ┆ … ┆ 13:42:55 ┆ 11m 42s      ┆ Fair         ┆ 702.0       │\n",
       "│ 77DB         ┆ e            ┆ 13:31:13     ┆ 13:42:55     ┆   ┆          ┆              ┆              ┆             │\n",
       "│ BE5E8EB4E726 ┆ electric_bik ┆ 2021-01-23   ┆ 2021-01-23   ┆ … ┆ 02:24:45 ┆ 43s          ┆ Suspicious   ┆ 43.0        │\n",
       "│ 3A0B         ┆ e            ┆ 02:24:02     ┆ 02:24:45     ┆   ┆          ┆              ┆              ┆             │\n",
       "│ …            ┆ …            ┆ …            ┆ …            ┆ … ┆ …        ┆ …            ┆ …            ┆ …           │\n",
       "│ 847431F3D535 ┆ electric_bik ┆ 2021-12-12   ┆ 2021-12-12   ┆ … ┆ 13:56:08 ┆ 19m 13s      ┆ Fair         ┆ 1153.0      │\n",
       "│ 3AB7         ┆ e            ┆ 13:36:55     ┆ 13:56:08     ┆   ┆          ┆              ┆              ┆             │\n",
       "│ CF407BBC3B9F ┆ electric_bik ┆ 2021-12-06   ┆ 2021-12-06   ┆ … ┆ 19:44:51 ┆ 7m 1s        ┆ Fair         ┆ 421.0       │\n",
       "│ AD63         ┆ e            ┆ 19:37:50     ┆ 19:44:51     ┆   ┆          ┆              ┆              ┆             │\n",
       "│ 60BB69EBF544 ┆ electric_bik ┆ 2021-12-02   ┆ 2021-12-02   ┆ … ┆ 09:05:21 ┆ 8m 17s       ┆ Fair         ┆ 497.0       │\n",
       "│ 0E92         ┆ e            ┆ 08:57:04     ┆ 09:05:21     ┆   ┆          ┆              ┆              ┆             │\n",
       "│ C414F654A286 ┆ electric_bik ┆ 2021-12-13   ┆ 2021-12-13   ┆ … ┆ 09:14:39 ┆ 14m 13s      ┆ Fair         ┆ 853.0       │\n",
       "│ 35B8         ┆ e            ┆ 09:00:26     ┆ 09:14:39     ┆   ┆          ┆              ┆              ┆             │\n",
       "│ 37AC57E34B2E ┆ classic_bike ┆ 2021-12-13   ┆ 2021-12-13   ┆ … ┆ 08:49:09 ┆ 3m 37s       ┆ Fair         ┆ 217.0       │\n",
       "│ 7E97         ┆              ┆ 08:45:32     ┆ 08:49:09     ┆   ┆          ┆              ┆              ┆             │\n",
       "└──────────────┴──────────────┴──────────────┴──────────────┴───┴──────────┴──────────────┴──────────────┴─────────────┘"
      ]
     },
     "execution_count": 50,
     "metadata": {},
     "output_type": "execute_result"
    }
   ],
   "source": [
    "df_cleaned"
   ]
  },
  {
   "cell_type": "code",
   "execution_count": 52,
   "id": "79be89db-583a-4613-a997-6eaac80dd200",
   "metadata": {},
   "outputs": [],
   "source": [
    "df_cleaned = df_cleaned.drop(\"duration_seconds\")\n"
   ]
  },
  {
   "cell_type": "code",
   "execution_count": 54,
   "id": "a29a1892-6971-4f50-a0c3-b3ebd6e161c8",
   "metadata": {},
   "outputs": [],
   "source": [
    "df_cleaned = df_cleaned.with_columns([\n",
    "    df_cleaned[\"started_at\"].cast(pl.Utf8).alias(\"started_at\"),\n",
    "    df_cleaned[\"ended_at\"].cast(pl.Utf8).alias(\"ended_at\"),\n",
    "    df_cleaned[\"duration\"].dt.total_seconds().cast(pl.Utf8).alias(\"duration\")  # Convert to seconds, then string\n",
    "])"
   ]
  },
  {
   "cell_type": "code",
   "execution_count": 55,
   "id": "f9eeb086-27b4-4647-939c-bf7d42707d6e",
   "metadata": {},
   "outputs": [
    {
     "data": {
      "text/html": [
       "<div><style>\n",
       ".dataframe > thead > tr,\n",
       ".dataframe > tbody > tr {\n",
       "  text-align: right;\n",
       "  white-space: pre-wrap;\n",
       "}\n",
       "</style>\n",
       "<small>shape: (5_590_292, 17)</small><table border=\"1\" class=\"dataframe\"><thead><tr><th>ride_id</th><th>rideable_type</th><th>started_at</th><th>ended_at</th><th>start_station_name</th><th>end_station_name</th><th>start_lat</th><th>start_lng</th><th>end_lat</th><th>end_lng</th><th>member_casual</th><th>start_date</th><th>start_time</th><th>end_date</th><th>end_time</th><th>duration</th><th>ride_validity</th></tr><tr><td>str</td><td>str</td><td>str</td><td>str</td><td>str</td><td>str</td><td>str</td><td>str</td><td>str</td><td>str</td><td>str</td><td>str</td><td>str</td><td>str</td><td>str</td><td>str</td><td>str</td></tr></thead><tbody><tr><td>&quot;E19E6F1B8D4C42ED&quot;</td><td>&quot;electric_bike&quot;</td><td>&quot;2021-01-23 16:14:19.000000&quot;</td><td>&quot;2021-01-23 16:24:44.000000&quot;</td><td>&quot;California Ave &amp; Cortez St&quot;</td><td>&quot;Central Park Ave &amp; Ohio St&quot;</td><td>&quot;41.900340666666665&quot;</td><td>&quot;-87.696743&quot;</td><td>&quot;41.89&quot;</td><td>&quot;-87.72&quot;</td><td>&quot;member&quot;</td><td>&quot;2021-01-23&quot;</td><td>&quot;16:14:19&quot;</td><td>&quot;2021-01-23&quot;</td><td>&quot;16:24:44&quot;</td><td>&quot;625&quot;</td><td>&quot;Fair&quot;</td></tr><tr><td>&quot;DC88F20C2C55F27F&quot;</td><td>&quot;electric_bike&quot;</td><td>&quot;2021-01-27 18:43:08.000000&quot;</td><td>&quot;2021-01-27 18:47:12.000000&quot;</td><td>&quot;California Ave &amp; Cortez St&quot;</td><td>&quot;California Ave &amp; Cortez St&quot;</td><td>&quot;41.90033283333333&quot;</td><td>&quot;-87.696707&quot;</td><td>&quot;41.9&quot;</td><td>&quot;-87.69&quot;</td><td>&quot;member&quot;</td><td>&quot;2021-01-27&quot;</td><td>&quot;18:43:08&quot;</td><td>&quot;2021-01-27&quot;</td><td>&quot;18:47:12&quot;</td><td>&quot;244&quot;</td><td>&quot;Fair&quot;</td></tr><tr><td>&quot;EC45C94683FE3F27&quot;</td><td>&quot;electric_bike&quot;</td><td>&quot;2021-01-21 22:35:54.000000&quot;</td><td>&quot;2021-01-21 22:37:14.000000&quot;</td><td>&quot;California Ave &amp; Cortez St&quot;</td><td>&quot;California Ave &amp; Division St&quot;</td><td>&quot;41.900312666666665&quot;</td><td>&quot;-87.69664266666666&quot;</td><td>&quot;41.9&quot;</td><td>&quot;-87.7&quot;</td><td>&quot;member&quot;</td><td>&quot;2021-01-21&quot;</td><td>&quot;22:35:54&quot;</td><td>&quot;2021-01-21&quot;</td><td>&quot;22:37:14&quot;</td><td>&quot;80&quot;</td><td>&quot;Suspicious&quot;</td></tr><tr><td>&quot;4FA453A75AE377DB&quot;</td><td>&quot;electric_bike&quot;</td><td>&quot;2021-01-07 13:31:13.000000&quot;</td><td>&quot;2021-01-07 13:42:55.000000&quot;</td><td>&quot;California Ave &amp; Cortez St&quot;</td><td>&quot;Milwaukee Ave &amp; Rockwell St&quot;</td><td>&quot;41.90039866666667&quot;</td><td>&quot;-87.69666216666667&quot;</td><td>&quot;41.92&quot;</td><td>&quot;-87.69&quot;</td><td>&quot;member&quot;</td><td>&quot;2021-01-07&quot;</td><td>&quot;13:31:13&quot;</td><td>&quot;2021-01-07&quot;</td><td>&quot;13:42:55&quot;</td><td>&quot;702&quot;</td><td>&quot;Fair&quot;</td></tr><tr><td>&quot;BE5E8EB4E7263A0B&quot;</td><td>&quot;electric_bike&quot;</td><td>&quot;2021-01-23 02:24:02.000000&quot;</td><td>&quot;2021-01-23 02:24:45.000000&quot;</td><td>&quot;California Ave &amp; Cortez St&quot;</td><td>&quot;California Ave &amp; Division St&quot;</td><td>&quot;41.90032633333333&quot;</td><td>&quot;-87.69669716666667&quot;</td><td>&quot;41.9&quot;</td><td>&quot;-87.7&quot;</td><td>&quot;casual&quot;</td><td>&quot;2021-01-23&quot;</td><td>&quot;02:24:02&quot;</td><td>&quot;2021-01-23&quot;</td><td>&quot;02:24:45&quot;</td><td>&quot;43&quot;</td><td>&quot;Suspicious&quot;</td></tr><tr><td>&hellip;</td><td>&hellip;</td><td>&hellip;</td><td>&hellip;</td><td>&hellip;</td><td>&hellip;</td><td>&hellip;</td><td>&hellip;</td><td>&hellip;</td><td>&hellip;</td><td>&hellip;</td><td>&hellip;</td><td>&hellip;</td><td>&hellip;</td><td>&hellip;</td><td>&hellip;</td><td>&hellip;</td></tr><tr><td>&quot;847431F3D5353AB7&quot;</td><td>&quot;electric_bike&quot;</td><td>&quot;2021-12-12 13:36:55.000000&quot;</td><td>&quot;2021-12-12 13:56:08.000000&quot;</td><td>&quot;Canal St &amp; Madison St&quot;</td><td>&quot;State St &amp; Randolph St&quot;</td><td>&quot;41.882288833333334&quot;</td><td>&quot;-87.63975216666667&quot;</td><td>&quot;41.89&quot;</td><td>&quot;-87.61&quot;</td><td>&quot;casual&quot;</td><td>&quot;2021-12-12&quot;</td><td>&quot;13:36:55&quot;</td><td>&quot;2021-12-12&quot;</td><td>&quot;13:56:08&quot;</td><td>&quot;1153&quot;</td><td>&quot;Fair&quot;</td></tr><tr><td>&quot;CF407BBC3B9FAD63&quot;</td><td>&quot;electric_bike&quot;</td><td>&quot;2021-12-06 19:37:50.000000&quot;</td><td>&quot;2021-12-06 19:44:51.000000&quot;</td><td>&quot;Canal St &amp; Madison St&quot;</td><td>&quot;Kingsbury St &amp; Kinzie St&quot;</td><td>&quot;41.882122833333334&quot;</td><td>&quot;-87.640053&quot;</td><td>&quot;41.889106&quot;</td><td>&quot;-87.638862&quot;</td><td>&quot;member&quot;</td><td>&quot;2021-12-06&quot;</td><td>&quot;19:37:50&quot;</td><td>&quot;2021-12-06&quot;</td><td>&quot;19:44:51&quot;</td><td>&quot;421&quot;</td><td>&quot;Fair&quot;</td></tr><tr><td>&quot;60BB69EBF5440E92&quot;</td><td>&quot;electric_bike&quot;</td><td>&quot;2021-12-02 08:57:04.000000&quot;</td><td>&quot;2021-12-02 09:05:21.000000&quot;</td><td>&quot;Canal St &amp; Madison St&quot;</td><td>&quot;Dearborn St &amp; Monroe St&quot;</td><td>&quot;41.88195616666667&quot;</td><td>&quot;-87.63995483333333&quot;</td><td>&quot;41.8802535&quot;</td><td>&quot;-87.62960266666667&quot;</td><td>&quot;member&quot;</td><td>&quot;2021-12-02&quot;</td><td>&quot;08:57:04&quot;</td><td>&quot;2021-12-02&quot;</td><td>&quot;09:05:21&quot;</td><td>&quot;497&quot;</td><td>&quot;Fair&quot;</td></tr><tr><td>&quot;C414F654A28635B8&quot;</td><td>&quot;electric_bike&quot;</td><td>&quot;2021-12-13 09:00:26.000000&quot;</td><td>&quot;2021-12-13 09:14:39.000000&quot;</td><td>&quot;Lawndale Ave &amp; 16th St&quot;</td><td>&quot;Kedzie Ave &amp; 24th St&quot;</td><td>&quot;41.86&quot;</td><td>&quot;-87.72&quot;</td><td>&quot;41.85&quot;</td><td>&quot;-87.71&quot;</td><td>&quot;member&quot;</td><td>&quot;2021-12-13&quot;</td><td>&quot;09:00:26&quot;</td><td>&quot;2021-12-13&quot;</td><td>&quot;09:14:39&quot;</td><td>&quot;853&quot;</td><td>&quot;Fair&quot;</td></tr><tr><td>&quot;37AC57E34B2E7E97&quot;</td><td>&quot;classic_bike&quot;</td><td>&quot;2021-12-13 08:45:32.000000&quot;</td><td>&quot;2021-12-13 08:49:09.000000&quot;</td><td>&quot;Michigan Ave &amp; Jackson Blvd&quot;</td><td>&quot;Dearborn St &amp; Monroe St&quot;</td><td>&quot;41.87785&quot;</td><td>&quot;-87.62408&quot;</td><td>&quot;41.881319815&quot;</td><td>&quot;-87.6295209193&quot;</td><td>&quot;member&quot;</td><td>&quot;2021-12-13&quot;</td><td>&quot;08:45:32&quot;</td><td>&quot;2021-12-13&quot;</td><td>&quot;08:49:09&quot;</td><td>&quot;217&quot;</td><td>&quot;Fair&quot;</td></tr></tbody></table></div>"
      ],
      "text/plain": [
       "shape: (5_590_292, 17)\n",
       "┌───────────────┬───────────────┬───────────────┬───────────────┬───┬────────────┬──────────┬──────────┬───────────────┐\n",
       "│ ride_id       ┆ rideable_type ┆ started_at    ┆ ended_at      ┆ … ┆ end_date   ┆ end_time ┆ duration ┆ ride_validity │\n",
       "│ ---           ┆ ---           ┆ ---           ┆ ---           ┆   ┆ ---        ┆ ---      ┆ ---      ┆ ---           │\n",
       "│ str           ┆ str           ┆ str           ┆ str           ┆   ┆ str        ┆ str      ┆ str      ┆ str           │\n",
       "╞═══════════════╪═══════════════╪═══════════════╪═══════════════╪═══╪════════════╪══════════╪══════════╪═══════════════╡\n",
       "│ E19E6F1B8D4C4 ┆ electric_bike ┆ 2021-01-23    ┆ 2021-01-23    ┆ … ┆ 2021-01-23 ┆ 16:24:44 ┆ 625      ┆ Fair          │\n",
       "│ 2ED           ┆               ┆ 16:14:19.0000 ┆ 16:24:44.0000 ┆   ┆            ┆          ┆          ┆               │\n",
       "│               ┆               ┆ 00            ┆ 00            ┆   ┆            ┆          ┆          ┆               │\n",
       "│ DC88F20C2C55F ┆ electric_bike ┆ 2021-01-27    ┆ 2021-01-27    ┆ … ┆ 2021-01-27 ┆ 18:47:12 ┆ 244      ┆ Fair          │\n",
       "│ 27F           ┆               ┆ 18:43:08.0000 ┆ 18:47:12.0000 ┆   ┆            ┆          ┆          ┆               │\n",
       "│               ┆               ┆ 00            ┆ 00            ┆   ┆            ┆          ┆          ┆               │\n",
       "│ EC45C94683FE3 ┆ electric_bike ┆ 2021-01-21    ┆ 2021-01-21    ┆ … ┆ 2021-01-21 ┆ 22:37:14 ┆ 80       ┆ Suspicious    │\n",
       "│ F27           ┆               ┆ 22:35:54.0000 ┆ 22:37:14.0000 ┆   ┆            ┆          ┆          ┆               │\n",
       "│               ┆               ┆ 00            ┆ 00            ┆   ┆            ┆          ┆          ┆               │\n",
       "│ 4FA453A75AE37 ┆ electric_bike ┆ 2021-01-07    ┆ 2021-01-07    ┆ … ┆ 2021-01-07 ┆ 13:42:55 ┆ 702      ┆ Fair          │\n",
       "│ 7DB           ┆               ┆ 13:31:13.0000 ┆ 13:42:55.0000 ┆   ┆            ┆          ┆          ┆               │\n",
       "│               ┆               ┆ 00            ┆ 00            ┆   ┆            ┆          ┆          ┆               │\n",
       "│ BE5E8EB4E7263 ┆ electric_bike ┆ 2021-01-23    ┆ 2021-01-23    ┆ … ┆ 2021-01-23 ┆ 02:24:45 ┆ 43       ┆ Suspicious    │\n",
       "│ A0B           ┆               ┆ 02:24:02.0000 ┆ 02:24:45.0000 ┆   ┆            ┆          ┆          ┆               │\n",
       "│               ┆               ┆ 00            ┆ 00            ┆   ┆            ┆          ┆          ┆               │\n",
       "│ …             ┆ …             ┆ …             ┆ …             ┆ … ┆ …          ┆ …        ┆ …        ┆ …             │\n",
       "│ 847431F3D5353 ┆ electric_bike ┆ 2021-12-12    ┆ 2021-12-12    ┆ … ┆ 2021-12-12 ┆ 13:56:08 ┆ 1153     ┆ Fair          │\n",
       "│ AB7           ┆               ┆ 13:36:55.0000 ┆ 13:56:08.0000 ┆   ┆            ┆          ┆          ┆               │\n",
       "│               ┆               ┆ 00            ┆ 00            ┆   ┆            ┆          ┆          ┆               │\n",
       "│ CF407BBC3B9FA ┆ electric_bike ┆ 2021-12-06    ┆ 2021-12-06    ┆ … ┆ 2021-12-06 ┆ 19:44:51 ┆ 421      ┆ Fair          │\n",
       "│ D63           ┆               ┆ 19:37:50.0000 ┆ 19:44:51.0000 ┆   ┆            ┆          ┆          ┆               │\n",
       "│               ┆               ┆ 00            ┆ 00            ┆   ┆            ┆          ┆          ┆               │\n",
       "│ 60BB69EBF5440 ┆ electric_bike ┆ 2021-12-02    ┆ 2021-12-02    ┆ … ┆ 2021-12-02 ┆ 09:05:21 ┆ 497      ┆ Fair          │\n",
       "│ E92           ┆               ┆ 08:57:04.0000 ┆ 09:05:21.0000 ┆   ┆            ┆          ┆          ┆               │\n",
       "│               ┆               ┆ 00            ┆ 00            ┆   ┆            ┆          ┆          ┆               │\n",
       "│ C414F654A2863 ┆ electric_bike ┆ 2021-12-13    ┆ 2021-12-13    ┆ … ┆ 2021-12-13 ┆ 09:14:39 ┆ 853      ┆ Fair          │\n",
       "│ 5B8           ┆               ┆ 09:00:26.0000 ┆ 09:14:39.0000 ┆   ┆            ┆          ┆          ┆               │\n",
       "│               ┆               ┆ 00            ┆ 00            ┆   ┆            ┆          ┆          ┆               │\n",
       "│ 37AC57E34B2E7 ┆ classic_bike  ┆ 2021-12-13    ┆ 2021-12-13    ┆ … ┆ 2021-12-13 ┆ 08:49:09 ┆ 217      ┆ Fair          │\n",
       "│ E97           ┆               ┆ 08:45:32.0000 ┆ 08:49:09.0000 ┆   ┆            ┆          ┆          ┆               │\n",
       "│               ┆               ┆ 00            ┆ 00            ┆   ┆            ┆          ┆          ┆               │\n",
       "└───────────────┴───────────────┴───────────────┴───────────────┴───┴────────────┴──────────┴──────────┴───────────────┘"
      ]
     },
     "execution_count": 55,
     "metadata": {},
     "output_type": "execute_result"
    }
   ],
   "source": [
    "df_cleaned"
   ]
  },
  {
   "cell_type": "code",
   "execution_count": 58,
   "id": "624290f4-b196-4ae6-a5b8-5ee189ff0d8a",
   "metadata": {},
   "outputs": [],
   "source": [
    "df_cleaned = df_cleaned.with_columns([\n",
    "    df_cleaned[\"started_at\"].str.slice(0, 19).alias(\"started_at\"),  # Keep only YYYY-MM-DD HH:MM:SS\n",
    "    df_cleaned[\"ended_at\"].str.slice(0, 19).alias(\"ended_at\")\n",
    "])\n"
   ]
  },
  {
   "cell_type": "code",
   "execution_count": 60,
   "id": "e5f48c24-06ba-4aa7-b268-24f8f83b7b65",
   "metadata": {},
   "outputs": [
    {
     "name": "stdout",
     "output_type": "stream",
     "text": [
      "File saved as cleaned_cyclistic_data_2021.csv\n"
     ]
    }
   ],
   "source": [
    "df_cleaned.write_csv(\"cleaned_cyclistic_data_2021.csv\")\n",
    "print(\"File saved as cleaned_cyclistic_data_2021.csv\")"
   ]
  },
  {
   "cell_type": "code",
   "execution_count": null,
   "id": "9e68ceb2-a32e-4fcf-9ff2-41c6faf9fbe1",
   "metadata": {},
   "outputs": [],
   "source": []
  },
  {
   "cell_type": "code",
   "execution_count": 3,
   "id": "27a2f046-bcc4-47fe-8af0-8f567f8b616e",
   "metadata": {},
   "outputs": [],
   "source": [
    "import os\n",
    "import polars as pl"
   ]
  },
  {
   "cell_type": "code",
   "execution_count": null,
   "id": "3cdae81b-6f28-4762-9a70-8b738ae76329",
   "metadata": {},
   "outputs": [],
   "source": [
    "pl.read_csv(r\"C:\\Users\\Sowjanya\\Documents\\BIIKE-SHARE-DATA\\cleaned_cyclistic_data_2021.csv\")"
   ]
  },
  {
   "cell_type": "code",
   "execution_count": 33,
   "id": "b26f38cb-b525-42d6-84a2-c7baba4400d3",
   "metadata": {},
   "outputs": [
    {
     "name": "stdout",
     "output_type": "stream",
     "text": [
      "Requirement already satisfied: sqlalchemy in c:\\users\\sowjanya\\anaconda3\\lib\\site-packages (2.0.34)Note: you may need to restart the kernel to use updated packages.\n",
      "\n",
      "Requirement already satisfied: typing-extensions>=4.6.0 in c:\\users\\sowjanya\\anaconda3\\lib\\site-packages (from sqlalchemy) (4.11.0)\n",
      "Requirement already satisfied: greenlet!=0.4.17 in c:\\users\\sowjanya\\anaconda3\\lib\\site-packages (from sqlalchemy) (3.0.1)\n"
     ]
    }
   ],
   "source": [
    "pip install sqlalchemy"
   ]
  },
  {
   "cell_type": "code",
   "execution_count": 34,
   "id": "8c0129d0-ed5e-4d45-b810-6c319edb5cbc",
   "metadata": {},
   "outputs": [],
   "source": [
    "from sqlalchemy import create_engine"
   ]
  },
  {
   "cell_type": "code",
   "execution_count": 35,
   "id": "7c84b6ee-55ec-4eac-9446-7c816c24d3c4",
   "metadata": {},
   "outputs": [
    {
     "name": "stdout",
     "output_type": "stream",
     "text": [
      "Requirement already satisfied: sqlalchemy in c:\\users\\sowjanya\\anaconda3\\lib\\site-packages (2.0.34)\n",
      "Requirement already satisfied: mysql-connector-python in c:\\users\\sowjanya\\anaconda3\\lib\\site-packages (9.2.0)\n",
      "Requirement already satisfied: pymysql in c:\\users\\sowjanya\\anaconda3\\lib\\site-packages (1.1.1)\n",
      "Requirement already satisfied: typing-extensions>=4.6.0 in c:\\users\\sowjanya\\anaconda3\\lib\\site-packages (from sqlalchemy) (4.11.0)\n",
      "Requirement already satisfied: greenlet!=0.4.17 in c:\\users\\sowjanya\\anaconda3\\lib\\site-packages (from sqlalchemy) (3.0.1)\n",
      "Note: you may need to restart the kernel to use updated packages.\n"
     ]
    }
   ],
   "source": [
    "pip install sqlalchemy mysql-connector-python pymysql\n"
   ]
  },
  {
   "cell_type": "code",
   "execution_count": 36,
   "id": "9586089a-5e40-45f9-a592-2f63f3b7b178",
   "metadata": {},
   "outputs": [
    {
     "name": "stdout",
     "output_type": "stream",
     "text": [
      "17\n"
     ]
    }
   ],
   "source": [
    "print(len(df_cleaned.columns))  # Should match the number of %s placeholders\n"
   ]
  },
  {
   "cell_type": "code",
   "execution_count": 37,
   "id": "490d9280-e183-4938-9598-b5b4053d8777",
   "metadata": {},
   "outputs": [
    {
     "data": {
      "text/html": [
       "<div><style>\n",
       ".dataframe > thead > tr,\n",
       ".dataframe > tbody > tr {\n",
       "  text-align: right;\n",
       "  white-space: pre-wrap;\n",
       "}\n",
       "</style>\n",
       "<small>shape: (5_590_292, 17)</small><table border=\"1\" class=\"dataframe\"><thead><tr><th>ride_id</th><th>rideable_type</th><th>started_at</th><th>ended_at</th><th>start_station_name</th><th>end_station_name</th><th>start_lat</th><th>start_lng</th><th>end_lat</th><th>end_lng</th><th>member_casual</th><th>start_date</th><th>start_time</th><th>end_date</th><th>end_time</th><th>duration</th><th>ride_validity</th></tr><tr><td>str</td><td>str</td><td>str</td><td>str</td><td>str</td><td>str</td><td>str</td><td>str</td><td>str</td><td>str</td><td>str</td><td>str</td><td>str</td><td>str</td><td>str</td><td>str</td><td>str</td></tr></thead><tbody><tr><td>&quot;E19E6F1B8D4C42ED&quot;</td><td>&quot;electric_bike&quot;</td><td>&quot;2021-01-23 16:14:19&quot;</td><td>&quot;2021-01-23 16:24:44&quot;</td><td>&quot;California Ave &amp; Cortez St&quot;</td><td>&quot;Central Park Ave &amp; Ohio St&quot;</td><td>&quot;41.900340666666665&quot;</td><td>&quot;-87.696743&quot;</td><td>&quot;41.89&quot;</td><td>&quot;-87.72&quot;</td><td>&quot;member&quot;</td><td>&quot;2021-01-23&quot;</td><td>&quot;16:14:19&quot;</td><td>&quot;2021-01-23&quot;</td><td>&quot;16:24:44&quot;</td><td>&quot;625&quot;</td><td>&quot;Fair&quot;</td></tr><tr><td>&quot;DC88F20C2C55F27F&quot;</td><td>&quot;electric_bike&quot;</td><td>&quot;2021-01-27 18:43:08&quot;</td><td>&quot;2021-01-27 18:47:12&quot;</td><td>&quot;California Ave &amp; Cortez St&quot;</td><td>&quot;California Ave &amp; Cortez St&quot;</td><td>&quot;41.90033283333333&quot;</td><td>&quot;-87.696707&quot;</td><td>&quot;41.9&quot;</td><td>&quot;-87.69&quot;</td><td>&quot;member&quot;</td><td>&quot;2021-01-27&quot;</td><td>&quot;18:43:08&quot;</td><td>&quot;2021-01-27&quot;</td><td>&quot;18:47:12&quot;</td><td>&quot;244&quot;</td><td>&quot;Fair&quot;</td></tr><tr><td>&quot;EC45C94683FE3F27&quot;</td><td>&quot;electric_bike&quot;</td><td>&quot;2021-01-21 22:35:54&quot;</td><td>&quot;2021-01-21 22:37:14&quot;</td><td>&quot;California Ave &amp; Cortez St&quot;</td><td>&quot;California Ave &amp; Division St&quot;</td><td>&quot;41.900312666666665&quot;</td><td>&quot;-87.69664266666666&quot;</td><td>&quot;41.9&quot;</td><td>&quot;-87.7&quot;</td><td>&quot;member&quot;</td><td>&quot;2021-01-21&quot;</td><td>&quot;22:35:54&quot;</td><td>&quot;2021-01-21&quot;</td><td>&quot;22:37:14&quot;</td><td>&quot;80&quot;</td><td>&quot;Suspicious&quot;</td></tr><tr><td>&quot;4FA453A75AE377DB&quot;</td><td>&quot;electric_bike&quot;</td><td>&quot;2021-01-07 13:31:13&quot;</td><td>&quot;2021-01-07 13:42:55&quot;</td><td>&quot;California Ave &amp; Cortez St&quot;</td><td>&quot;Milwaukee Ave &amp; Rockwell St&quot;</td><td>&quot;41.90039866666667&quot;</td><td>&quot;-87.69666216666667&quot;</td><td>&quot;41.92&quot;</td><td>&quot;-87.69&quot;</td><td>&quot;member&quot;</td><td>&quot;2021-01-07&quot;</td><td>&quot;13:31:13&quot;</td><td>&quot;2021-01-07&quot;</td><td>&quot;13:42:55&quot;</td><td>&quot;702&quot;</td><td>&quot;Fair&quot;</td></tr><tr><td>&quot;BE5E8EB4E7263A0B&quot;</td><td>&quot;electric_bike&quot;</td><td>&quot;2021-01-23 02:24:02&quot;</td><td>&quot;2021-01-23 02:24:45&quot;</td><td>&quot;California Ave &amp; Cortez St&quot;</td><td>&quot;California Ave &amp; Division St&quot;</td><td>&quot;41.90032633333333&quot;</td><td>&quot;-87.69669716666667&quot;</td><td>&quot;41.9&quot;</td><td>&quot;-87.7&quot;</td><td>&quot;casual&quot;</td><td>&quot;2021-01-23&quot;</td><td>&quot;02:24:02&quot;</td><td>&quot;2021-01-23&quot;</td><td>&quot;02:24:45&quot;</td><td>&quot;43&quot;</td><td>&quot;Suspicious&quot;</td></tr><tr><td>&hellip;</td><td>&hellip;</td><td>&hellip;</td><td>&hellip;</td><td>&hellip;</td><td>&hellip;</td><td>&hellip;</td><td>&hellip;</td><td>&hellip;</td><td>&hellip;</td><td>&hellip;</td><td>&hellip;</td><td>&hellip;</td><td>&hellip;</td><td>&hellip;</td><td>&hellip;</td><td>&hellip;</td></tr><tr><td>&quot;847431F3D5353AB7&quot;</td><td>&quot;electric_bike&quot;</td><td>&quot;2021-12-12 13:36:55&quot;</td><td>&quot;2021-12-12 13:56:08&quot;</td><td>&quot;Canal St &amp; Madison St&quot;</td><td>&quot;State St &amp; Randolph St&quot;</td><td>&quot;41.882288833333334&quot;</td><td>&quot;-87.63975216666667&quot;</td><td>&quot;41.89&quot;</td><td>&quot;-87.61&quot;</td><td>&quot;casual&quot;</td><td>&quot;2021-12-12&quot;</td><td>&quot;13:36:55&quot;</td><td>&quot;2021-12-12&quot;</td><td>&quot;13:56:08&quot;</td><td>&quot;1153&quot;</td><td>&quot;Fair&quot;</td></tr><tr><td>&quot;CF407BBC3B9FAD63&quot;</td><td>&quot;electric_bike&quot;</td><td>&quot;2021-12-06 19:37:50&quot;</td><td>&quot;2021-12-06 19:44:51&quot;</td><td>&quot;Canal St &amp; Madison St&quot;</td><td>&quot;Kingsbury St &amp; Kinzie St&quot;</td><td>&quot;41.882122833333334&quot;</td><td>&quot;-87.640053&quot;</td><td>&quot;41.889106&quot;</td><td>&quot;-87.638862&quot;</td><td>&quot;member&quot;</td><td>&quot;2021-12-06&quot;</td><td>&quot;19:37:50&quot;</td><td>&quot;2021-12-06&quot;</td><td>&quot;19:44:51&quot;</td><td>&quot;421&quot;</td><td>&quot;Fair&quot;</td></tr><tr><td>&quot;60BB69EBF5440E92&quot;</td><td>&quot;electric_bike&quot;</td><td>&quot;2021-12-02 08:57:04&quot;</td><td>&quot;2021-12-02 09:05:21&quot;</td><td>&quot;Canal St &amp; Madison St&quot;</td><td>&quot;Dearborn St &amp; Monroe St&quot;</td><td>&quot;41.88195616666667&quot;</td><td>&quot;-87.63995483333333&quot;</td><td>&quot;41.8802535&quot;</td><td>&quot;-87.62960266666667&quot;</td><td>&quot;member&quot;</td><td>&quot;2021-12-02&quot;</td><td>&quot;08:57:04&quot;</td><td>&quot;2021-12-02&quot;</td><td>&quot;09:05:21&quot;</td><td>&quot;497&quot;</td><td>&quot;Fair&quot;</td></tr><tr><td>&quot;C414F654A28635B8&quot;</td><td>&quot;electric_bike&quot;</td><td>&quot;2021-12-13 09:00:26&quot;</td><td>&quot;2021-12-13 09:14:39&quot;</td><td>&quot;Lawndale Ave &amp; 16th St&quot;</td><td>&quot;Kedzie Ave &amp; 24th St&quot;</td><td>&quot;41.86&quot;</td><td>&quot;-87.72&quot;</td><td>&quot;41.85&quot;</td><td>&quot;-87.71&quot;</td><td>&quot;member&quot;</td><td>&quot;2021-12-13&quot;</td><td>&quot;09:00:26&quot;</td><td>&quot;2021-12-13&quot;</td><td>&quot;09:14:39&quot;</td><td>&quot;853&quot;</td><td>&quot;Fair&quot;</td></tr><tr><td>&quot;37AC57E34B2E7E97&quot;</td><td>&quot;classic_bike&quot;</td><td>&quot;2021-12-13 08:45:32&quot;</td><td>&quot;2021-12-13 08:49:09&quot;</td><td>&quot;Michigan Ave &amp; Jackson Blvd&quot;</td><td>&quot;Dearborn St &amp; Monroe St&quot;</td><td>&quot;41.87785&quot;</td><td>&quot;-87.62408&quot;</td><td>&quot;41.881319815&quot;</td><td>&quot;-87.6295209193&quot;</td><td>&quot;member&quot;</td><td>&quot;2021-12-13&quot;</td><td>&quot;08:45:32&quot;</td><td>&quot;2021-12-13&quot;</td><td>&quot;08:49:09&quot;</td><td>&quot;217&quot;</td><td>&quot;Fair&quot;</td></tr></tbody></table></div>"
      ],
      "text/plain": [
       "shape: (5_590_292, 17)\n",
       "┌──────────────────┬───────────────┬────────────┬────────────┬───┬────────────┬──────────┬──────────┬───────────────┐\n",
       "│ ride_id          ┆ rideable_type ┆ started_at ┆ ended_at   ┆ … ┆ end_date   ┆ end_time ┆ duration ┆ ride_validity │\n",
       "│ ---              ┆ ---           ┆ ---        ┆ ---        ┆   ┆ ---        ┆ ---      ┆ ---      ┆ ---           │\n",
       "│ str              ┆ str           ┆ str        ┆ str        ┆   ┆ str        ┆ str      ┆ str      ┆ str           │\n",
       "╞══════════════════╪═══════════════╪════════════╪════════════╪═══╪════════════╪══════════╪══════════╪═══════════════╡\n",
       "│ E19E6F1B8D4C42ED ┆ electric_bike ┆ 2021-01-23 ┆ 2021-01-23 ┆ … ┆ 2021-01-23 ┆ 16:24:44 ┆ 625      ┆ Fair          │\n",
       "│                  ┆               ┆ 16:14:19   ┆ 16:24:44   ┆   ┆            ┆          ┆          ┆               │\n",
       "│ DC88F20C2C55F27F ┆ electric_bike ┆ 2021-01-27 ┆ 2021-01-27 ┆ … ┆ 2021-01-27 ┆ 18:47:12 ┆ 244      ┆ Fair          │\n",
       "│                  ┆               ┆ 18:43:08   ┆ 18:47:12   ┆   ┆            ┆          ┆          ┆               │\n",
       "│ EC45C94683FE3F27 ┆ electric_bike ┆ 2021-01-21 ┆ 2021-01-21 ┆ … ┆ 2021-01-21 ┆ 22:37:14 ┆ 80       ┆ Suspicious    │\n",
       "│                  ┆               ┆ 22:35:54   ┆ 22:37:14   ┆   ┆            ┆          ┆          ┆               │\n",
       "│ 4FA453A75AE377DB ┆ electric_bike ┆ 2021-01-07 ┆ 2021-01-07 ┆ … ┆ 2021-01-07 ┆ 13:42:55 ┆ 702      ┆ Fair          │\n",
       "│                  ┆               ┆ 13:31:13   ┆ 13:42:55   ┆   ┆            ┆          ┆          ┆               │\n",
       "│ BE5E8EB4E7263A0B ┆ electric_bike ┆ 2021-01-23 ┆ 2021-01-23 ┆ … ┆ 2021-01-23 ┆ 02:24:45 ┆ 43       ┆ Suspicious    │\n",
       "│                  ┆               ┆ 02:24:02   ┆ 02:24:45   ┆   ┆            ┆          ┆          ┆               │\n",
       "│ …                ┆ …             ┆ …          ┆ …          ┆ … ┆ …          ┆ …        ┆ …        ┆ …             │\n",
       "│ 847431F3D5353AB7 ┆ electric_bike ┆ 2021-12-12 ┆ 2021-12-12 ┆ … ┆ 2021-12-12 ┆ 13:56:08 ┆ 1153     ┆ Fair          │\n",
       "│                  ┆               ┆ 13:36:55   ┆ 13:56:08   ┆   ┆            ┆          ┆          ┆               │\n",
       "│ CF407BBC3B9FAD63 ┆ electric_bike ┆ 2021-12-06 ┆ 2021-12-06 ┆ … ┆ 2021-12-06 ┆ 19:44:51 ┆ 421      ┆ Fair          │\n",
       "│                  ┆               ┆ 19:37:50   ┆ 19:44:51   ┆   ┆            ┆          ┆          ┆               │\n",
       "│ 60BB69EBF5440E92 ┆ electric_bike ┆ 2021-12-02 ┆ 2021-12-02 ┆ … ┆ 2021-12-02 ┆ 09:05:21 ┆ 497      ┆ Fair          │\n",
       "│                  ┆               ┆ 08:57:04   ┆ 09:05:21   ┆   ┆            ┆          ┆          ┆               │\n",
       "│ C414F654A28635B8 ┆ electric_bike ┆ 2021-12-13 ┆ 2021-12-13 ┆ … ┆ 2021-12-13 ┆ 09:14:39 ┆ 853      ┆ Fair          │\n",
       "│                  ┆               ┆ 09:00:26   ┆ 09:14:39   ┆   ┆            ┆          ┆          ┆               │\n",
       "│ 37AC57E34B2E7E97 ┆ classic_bike  ┆ 2021-12-13 ┆ 2021-12-13 ┆ … ┆ 2021-12-13 ┆ 08:49:09 ┆ 217      ┆ Fair          │\n",
       "│                  ┆               ┆ 08:45:32   ┆ 08:49:09   ┆   ┆            ┆          ┆          ┆               │\n",
       "└──────────────────┴───────────────┴────────────┴────────────┴───┴────────────┴──────────┴──────────┴───────────────┘"
      ]
     },
     "execution_count": 37,
     "metadata": {},
     "output_type": "execute_result"
    }
   ],
   "source": [
    "df_cleaned"
   ]
  },
  {
   "cell_type": "code",
   "execution_count": 38,
   "id": "45c73c2c-b6d0-4b55-a7fc-7e81b84ca52a",
   "metadata": {},
   "outputs": [],
   "source": [
    "df_cleaned = df_cleaned.unique(subset=[\"ride_id\"])\n"
   ]
  },
  {
   "cell_type": "code",
   "execution_count": 39,
   "id": "c87ad00a-0f8a-426a-bcca-531b3c13c306",
   "metadata": {},
   "outputs": [
    {
     "data": {
      "text/html": [
       "<div><style>\n",
       ".dataframe > thead > tr,\n",
       ".dataframe > tbody > tr {\n",
       "  text-align: right;\n",
       "  white-space: pre-wrap;\n",
       "}\n",
       "</style>\n",
       "<small>shape: (5_590_292, 17)</small><table border=\"1\" class=\"dataframe\"><thead><tr><th>ride_id</th><th>rideable_type</th><th>started_at</th><th>ended_at</th><th>start_station_name</th><th>end_station_name</th><th>start_lat</th><th>start_lng</th><th>end_lat</th><th>end_lng</th><th>member_casual</th><th>start_date</th><th>start_time</th><th>end_date</th><th>end_time</th><th>duration</th><th>ride_validity</th></tr><tr><td>str</td><td>str</td><td>str</td><td>str</td><td>str</td><td>str</td><td>str</td><td>str</td><td>str</td><td>str</td><td>str</td><td>str</td><td>str</td><td>str</td><td>str</td><td>str</td><td>str</td></tr></thead><tbody><tr><td>&quot;D9BDD234133ADAE6&quot;</td><td>&quot;classic_bike&quot;</td><td>&quot;2021-03-09 12:41:31&quot;</td><td>&quot;2021-03-09 13:01:57&quot;</td><td>&quot;Cornell Ave &amp; Hyde Park Blvd&quot;</td><td>&quot;State St &amp; 33rd St&quot;</td><td>&quot;41.802406&quot;</td><td>&quot;-87.586924&quot;</td><td>&quot;41.834734&quot;</td><td>&quot;-87.625813&quot;</td><td>&quot;member&quot;</td><td>&quot;2021-03-09&quot;</td><td>&quot;12:41:31&quot;</td><td>&quot;2021-03-09&quot;</td><td>&quot;13:01:57&quot;</td><td>&quot;1226&quot;</td><td>&quot;Fair&quot;</td></tr><tr><td>&quot;5EA6C32DC2783754&quot;</td><td>&quot;classic_bike&quot;</td><td>&quot;2021-06-03 18:31:43&quot;</td><td>&quot;2021-06-03 18:38:20&quot;</td><td>&quot;Sedgwick St &amp; North Ave&quot;</td><td>&quot;Clark St &amp; Elm St&quot;</td><td>&quot;41.911386&quot;</td><td>&quot;-87.638677&quot;</td><td>&quot;41.902973&quot;</td><td>&quot;-87.63128&quot;</td><td>&quot;member&quot;</td><td>&quot;2021-06-03&quot;</td><td>&quot;18:31:43&quot;</td><td>&quot;2021-06-03&quot;</td><td>&quot;18:38:20&quot;</td><td>&quot;397&quot;</td><td>&quot;Fair&quot;</td></tr><tr><td>&quot;51F6A2BBF9CDE805&quot;</td><td>&quot;electric_bike&quot;</td><td>&quot;2021-07-17 11:24:39&quot;</td><td>&quot;2021-07-17 11:37:18&quot;</td><td>&quot;Ogden Ave &amp; Race Ave&quot;</td><td>&quot;Clark St &amp; Lake St&quot;</td><td>&quot;41.89&quot;</td><td>&quot;-87.66&quot;</td><td>&quot;41.886366333333335&quot;</td><td>&quot;-87.63114816666666&quot;</td><td>&quot;casual&quot;</td><td>&quot;2021-07-17&quot;</td><td>&quot;11:24:39&quot;</td><td>&quot;2021-07-17&quot;</td><td>&quot;11:37:18&quot;</td><td>&quot;759&quot;</td><td>&quot;Fair&quot;</td></tr><tr><td>&quot;B8A1B4EC588B643C&quot;</td><td>&quot;classic_bike&quot;</td><td>&quot;2021-08-11 18:16:31&quot;</td><td>&quot;2021-08-11 18:29:23&quot;</td><td>&quot;Wood St &amp; Taylor St (Temp)&quot;</td><td>&quot;Morgan Ave &amp; 14th Pl&quot;</td><td>&quot;41.869265218438194&quot;</td><td>&quot;-87.67373085021973&quot;</td><td>&quot;41.862378&quot;</td><td>&quot;-87.651062&quot;</td><td>&quot;member&quot;</td><td>&quot;2021-08-11&quot;</td><td>&quot;18:16:31&quot;</td><td>&quot;2021-08-11&quot;</td><td>&quot;18:29:23&quot;</td><td>&quot;772&quot;</td><td>&quot;Fair&quot;</td></tr><tr><td>&quot;026CF220C0132611&quot;</td><td>&quot;electric_bike&quot;</td><td>&quot;2021-09-15 11:50:03&quot;</td><td>&quot;2021-09-15 11:58:42&quot;</td><td>&quot;Franklin St &amp; Monroe St&quot;</td><td>&quot;New St &amp; Illinois St&quot;</td><td>&quot;41.88052916666667&quot;</td><td>&quot;-87.6360935&quot;</td><td>&quot;41.89068733333333&quot;</td><td>&quot;-87.6184995&quot;</td><td>&quot;casual&quot;</td><td>&quot;2021-09-15&quot;</td><td>&quot;11:50:03&quot;</td><td>&quot;2021-09-15&quot;</td><td>&quot;11:58:42&quot;</td><td>&quot;519&quot;</td><td>&quot;Fair&quot;</td></tr><tr><td>&hellip;</td><td>&hellip;</td><td>&hellip;</td><td>&hellip;</td><td>&hellip;</td><td>&hellip;</td><td>&hellip;</td><td>&hellip;</td><td>&hellip;</td><td>&hellip;</td><td>&hellip;</td><td>&hellip;</td><td>&hellip;</td><td>&hellip;</td><td>&hellip;</td><td>&hellip;</td><td>&hellip;</td></tr><tr><td>&quot;B5237BA5B7DCF301&quot;</td><td>&quot;electric_bike&quot;</td><td>&quot;2021-09-04 12:55:37&quot;</td><td>&quot;2021-09-04 13:08:04&quot;</td><td>&quot;W Washington Blvd &amp; N Peoria S…</td><td>&quot;Sangamon St &amp; Washington Blvd&quot;</td><td>&quot;41.88&quot;</td><td>&quot;-87.65&quot;</td><td>&quot;41.88324183333334&quot;</td><td>&quot;-87.65101616666666&quot;</td><td>&quot;casual&quot;</td><td>&quot;2021-09-04&quot;</td><td>&quot;12:55:37&quot;</td><td>&quot;2021-09-04&quot;</td><td>&quot;13:08:04&quot;</td><td>&quot;747&quot;</td><td>&quot;Fair&quot;</td></tr><tr><td>&quot;D644535D17E5A1AF&quot;</td><td>&quot;docked_bike&quot;</td><td>&quot;2021-04-18 17:10:54&quot;</td><td>&quot;2021-04-18 17:36:02&quot;</td><td>&quot;Wells St &amp; Elm St&quot;</td><td>&quot;State St &amp; Pearson St&quot;</td><td>&quot;41.903222&quot;</td><td>&quot;-87.634324&quot;</td><td>&quot;41.897448&quot;</td><td>&quot;-87.628722&quot;</td><td>&quot;casual&quot;</td><td>&quot;2021-04-18&quot;</td><td>&quot;17:10:54&quot;</td><td>&quot;2021-04-18&quot;</td><td>&quot;17:36:02&quot;</td><td>&quot;1508&quot;</td><td>&quot;Fair&quot;</td></tr><tr><td>&quot;9A5BCAE8955B0A8D&quot;</td><td>&quot;electric_bike&quot;</td><td>&quot;2021-11-21 12:34:34&quot;</td><td>&quot;2021-11-21 12:58:51&quot;</td><td>&quot;Damen Ave &amp; Charleston St&quot;</td><td>&quot;California Ave &amp; Montrose Ave&quot;</td><td>&quot;41.92002183333334&quot;</td><td>&quot;-87.678064&quot;</td><td>&quot;41.961078666666666&quot;</td><td>&quot;-87.69546833333334&quot;</td><td>&quot;member&quot;</td><td>&quot;2021-11-21&quot;</td><td>&quot;12:34:34&quot;</td><td>&quot;2021-11-21&quot;</td><td>&quot;12:58:51&quot;</td><td>&quot;1457&quot;</td><td>&quot;Fair&quot;</td></tr><tr><td>&quot;B2A198CF596BF98E&quot;</td><td>&quot;classic_bike&quot;</td><td>&quot;2021-09-18 12:20:07&quot;</td><td>&quot;2021-09-18 12:32:02&quot;</td><td>&quot;Halsted St &amp; Clybourn Ave&quot;</td><td>&quot;Halsted St &amp; Clybourn Ave&quot;</td><td>&quot;41.909668&quot;</td><td>&quot;-87.648128&quot;</td><td>&quot;41.909668&quot;</td><td>&quot;-87.648128&quot;</td><td>&quot;member&quot;</td><td>&quot;2021-09-18&quot;</td><td>&quot;12:20:07&quot;</td><td>&quot;2021-09-18&quot;</td><td>&quot;12:32:02&quot;</td><td>&quot;715&quot;</td><td>&quot;Fair&quot;</td></tr><tr><td>&quot;514F08910CFE9163&quot;</td><td>&quot;classic_bike&quot;</td><td>&quot;2021-08-22 15:04:35&quot;</td><td>&quot;2021-08-22 15:35:27&quot;</td><td>&quot;Theater on the Lake&quot;</td><td>&quot;Michigan Ave &amp; Oak St&quot;</td><td>&quot;41.926277&quot;</td><td>&quot;-87.630834&quot;</td><td>&quot;41.90096039&quot;</td><td>&quot;-87.62377664&quot;</td><td>&quot;member&quot;</td><td>&quot;2021-08-22&quot;</td><td>&quot;15:04:35&quot;</td><td>&quot;2021-08-22&quot;</td><td>&quot;15:35:27&quot;</td><td>&quot;1852&quot;</td><td>&quot;Fair&quot;</td></tr></tbody></table></div>"
      ],
      "text/plain": [
       "shape: (5_590_292, 17)\n",
       "┌──────────────────┬───────────────┬────────────┬────────────┬───┬────────────┬──────────┬──────────┬───────────────┐\n",
       "│ ride_id          ┆ rideable_type ┆ started_at ┆ ended_at   ┆ … ┆ end_date   ┆ end_time ┆ duration ┆ ride_validity │\n",
       "│ ---              ┆ ---           ┆ ---        ┆ ---        ┆   ┆ ---        ┆ ---      ┆ ---      ┆ ---           │\n",
       "│ str              ┆ str           ┆ str        ┆ str        ┆   ┆ str        ┆ str      ┆ str      ┆ str           │\n",
       "╞══════════════════╪═══════════════╪════════════╪════════════╪═══╪════════════╪══════════╪══════════╪═══════════════╡\n",
       "│ D9BDD234133ADAE6 ┆ classic_bike  ┆ 2021-03-09 ┆ 2021-03-09 ┆ … ┆ 2021-03-09 ┆ 13:01:57 ┆ 1226     ┆ Fair          │\n",
       "│                  ┆               ┆ 12:41:31   ┆ 13:01:57   ┆   ┆            ┆          ┆          ┆               │\n",
       "│ 5EA6C32DC2783754 ┆ classic_bike  ┆ 2021-06-03 ┆ 2021-06-03 ┆ … ┆ 2021-06-03 ┆ 18:38:20 ┆ 397      ┆ Fair          │\n",
       "│                  ┆               ┆ 18:31:43   ┆ 18:38:20   ┆   ┆            ┆          ┆          ┆               │\n",
       "│ 51F6A2BBF9CDE805 ┆ electric_bike ┆ 2021-07-17 ┆ 2021-07-17 ┆ … ┆ 2021-07-17 ┆ 11:37:18 ┆ 759      ┆ Fair          │\n",
       "│                  ┆               ┆ 11:24:39   ┆ 11:37:18   ┆   ┆            ┆          ┆          ┆               │\n",
       "│ B8A1B4EC588B643C ┆ classic_bike  ┆ 2021-08-11 ┆ 2021-08-11 ┆ … ┆ 2021-08-11 ┆ 18:29:23 ┆ 772      ┆ Fair          │\n",
       "│                  ┆               ┆ 18:16:31   ┆ 18:29:23   ┆   ┆            ┆          ┆          ┆               │\n",
       "│ 026CF220C0132611 ┆ electric_bike ┆ 2021-09-15 ┆ 2021-09-15 ┆ … ┆ 2021-09-15 ┆ 11:58:42 ┆ 519      ┆ Fair          │\n",
       "│                  ┆               ┆ 11:50:03   ┆ 11:58:42   ┆   ┆            ┆          ┆          ┆               │\n",
       "│ …                ┆ …             ┆ …          ┆ …          ┆ … ┆ …          ┆ …        ┆ …        ┆ …             │\n",
       "│ B5237BA5B7DCF301 ┆ electric_bike ┆ 2021-09-04 ┆ 2021-09-04 ┆ … ┆ 2021-09-04 ┆ 13:08:04 ┆ 747      ┆ Fair          │\n",
       "│                  ┆               ┆ 12:55:37   ┆ 13:08:04   ┆   ┆            ┆          ┆          ┆               │\n",
       "│ D644535D17E5A1AF ┆ docked_bike   ┆ 2021-04-18 ┆ 2021-04-18 ┆ … ┆ 2021-04-18 ┆ 17:36:02 ┆ 1508     ┆ Fair          │\n",
       "│                  ┆               ┆ 17:10:54   ┆ 17:36:02   ┆   ┆            ┆          ┆          ┆               │\n",
       "│ 9A5BCAE8955B0A8D ┆ electric_bike ┆ 2021-11-21 ┆ 2021-11-21 ┆ … ┆ 2021-11-21 ┆ 12:58:51 ┆ 1457     ┆ Fair          │\n",
       "│                  ┆               ┆ 12:34:34   ┆ 12:58:51   ┆   ┆            ┆          ┆          ┆               │\n",
       "│ B2A198CF596BF98E ┆ classic_bike  ┆ 2021-09-18 ┆ 2021-09-18 ┆ … ┆ 2021-09-18 ┆ 12:32:02 ┆ 715      ┆ Fair          │\n",
       "│                  ┆               ┆ 12:20:07   ┆ 12:32:02   ┆   ┆            ┆          ┆          ┆               │\n",
       "│ 514F08910CFE9163 ┆ classic_bike  ┆ 2021-08-22 ┆ 2021-08-22 ┆ … ┆ 2021-08-22 ┆ 15:35:27 ┆ 1852     ┆ Fair          │\n",
       "│                  ┆               ┆ 15:04:35   ┆ 15:35:27   ┆   ┆            ┆          ┆          ┆               │\n",
       "└──────────────────┴───────────────┴────────────┴────────────┴───┴────────────┴──────────┴──────────┴───────────────┘"
      ]
     },
     "execution_count": 39,
     "metadata": {},
     "output_type": "execute_result"
    }
   ],
   "source": [
    "df_cleaned"
   ]
  },
  {
   "cell_type": "code",
   "execution_count": 40,
   "id": "17ccc14d-b36e-4193-811d-af8b1942b26d",
   "metadata": {},
   "outputs": [
    {
     "name": "stdout",
     "output_type": "stream",
     "text": [
      "✅ Table 'bike_rides_2021' created successfully!\n"
     ]
    }
   ],
   "source": [
    "import mysql.connector\n",
    "\n",
    "# Connect to MySQL database\n",
    "connection = mysql.connector.connect(\n",
    "    host=\"localhost\",\n",
    "    port=3305,\n",
    "    user=\"root\",\n",
    "    password=\"root\",\n",
    "    database=\"bike_share\"\n",
    ")\n",
    "cursor = connection.cursor()\n",
    "\n",
    "# Create table query\n",
    "create_table_query = \"\"\"\n",
    "CREATE TABLE IF NOT EXISTS bike_rides_2021 (\n",
    "    ride_id TEXT,\n",
    "    rideable_type TEXT,\n",
    "    started_at TEXT,\n",
    "    ended_at TEXT,\n",
    "    start_station_name TEXT,\n",
    "    end_station_name TEXT,\n",
    "    start_lat DOUBLE,\n",
    "    start_lng DOUBLE,\n",
    "    end_lat DOUBLE,\n",
    "    end_lng DOUBLE,\n",
    "    member_casual TEXT,\n",
    "    start_date TEXT,\n",
    "    start_time TEXT,\n",
    "    end_date TEXT,\n",
    "    end_time TEXT,\n",
    "    duration INT,\n",
    "    ride_validity TEXT\n",
    ");\n",
    "\"\"\"\n",
    "\n",
    "# Execute the query\n",
    "cursor.execute(create_table_query)\n",
    "connection.commit()\n",
    "\n",
    "print(\"✅ Table 'bike_rides_2021' created successfully!\")\n",
    "\n",
    "# Close connection\n",
    "cursor.close()\n",
    "connection.close()\n"
   ]
  },
  {
   "cell_type": "code",
   "execution_count": 49,
   "id": "6d4aff1f-59b8-4f96-b027-52a8b2add166",
   "metadata": {},
   "outputs": [
    {
     "name": "stdout",
     "output_type": "stream",
     "text": [
      "✅ Database connected successfully!\n",
      "✅ Table checked/created successfully!\n",
      "✅ Inserted 5590292 unique records successfully into `bike_rides_2021`!\n"
     ]
    }
   ],
   "source": [
    "import polars as pl\n",
    "import mysql.connector\n",
    "\n",
    "# Assuming df_cleaned is your cleaned Polars DataFrame\n",
    "df_cleaned = df_cleaned.unique()  # Ensure unique records\n",
    "\n",
    "# Convert Polars DataFrame to a list of tuples\n",
    "data = [tuple(row) for row in df_cleaned.to_numpy()]\n",
    "\n",
    "# Connect to MySQL without specifying the database first\n",
    "connection = mysql.connector.connect(\n",
    "    host=\"localhost\",\n",
    "    port=3305,\n",
    "    user=\"root\",\n",
    "    password=\"root\"\n",
    ")\n",
    "cursor = connection.cursor()\n",
    "\n",
    "# Create database if not exists\n",
    "cursor.execute(\"CREATE DATABASE IF NOT EXISTS bike_share\")\n",
    "\n",
    "# Connect to the database\n",
    "connection.database = \"bike_share\"\n",
    "\n",
    "print(\"✅ Database connected successfully!\")\n",
    "\n",
    "# Ensure the `bike_rides_2021` table exists (Modify the schema if needed)\n",
    "cursor.execute(\"\"\"\n",
    "CREATE TABLE IF NOT EXISTS bike_rides_2021 (\n",
    "    ride_id TEXT PRIMARY KEY,\n",
    "    rideable_type TEXT,\n",
    "    started_at TEXT,\n",
    "    ended_at TEXT,\n",
    "    start_station_name TEXT,\n",
    "    end_station_name TEXT,\n",
    "    start_lat DOUBLE,\n",
    "    start_lng DOUBLE,\n",
    "    end_lat DOUBLE,\n",
    "    end_lng DOUBLE,\n",
    "    member_casual TEXT,\n",
    "    start_date TEXT,\n",
    "    start_time TEXT,\n",
    "    end_date TEXT,\n",
    "    end_time TEXT,\n",
    "    duration INT,\n",
    "    ride_validity TEXT\n",
    ")\n",
    "\"\"\")\n",
    "\n",
    "print(\"✅ Table checked/created successfully!\")\n",
    "\n",
    "# SQL Insert Query (Ensure column names match your table)\n",
    "insert_stmt = \"\"\"\n",
    "INSERT IGNORE INTO bike_rides_2021 (\n",
    "    ride_id, rideable_type, started_at, ended_at, start_station_name, \n",
    "    end_station_name, start_lat, start_lng, end_lat, end_lng, \n",
    "    member_casual, start_date, start_time, end_date, end_time, \n",
    "    duration, ride_validity\n",
    ") VALUES (%s, %s, %s, %s, %s, %s, %s, %s, %s, %s, %s, %s, %s, %s, %s, %s, %s)\n",
    "\"\"\"\n",
    "\n",
    "# Insert data in batches for efficiency\n",
    "batch_size = 1000\n",
    "for i in range(0, len(data), batch_size):\n",
    "    batch = data[i:i + batch_size]\n",
    "    cursor.executemany(insert_stmt, batch)\n",
    "    connection.commit()\n",
    "\n",
    "print(f\"✅ Inserted {len(data)} unique records successfully into `bike_rides_2021`!\")\n",
    "\n",
    "# Close connection\n",
    "cursor.close()\n",
    "connection.close()\n"
   ]
  },
  {
   "cell_type": "code",
   "execution_count": null,
   "id": "7d542a24-e5b8-47e9-b047-60af7a3c2b8b",
   "metadata": {},
   "outputs": [],
   "source": []
  }
 ],
 "metadata": {
  "kernelspec": {
   "display_name": "Python 3 (ipykernel)",
   "language": "python",
   "name": "python3"
  },
  "language_info": {
   "codemirror_mode": {
    "name": "ipython",
    "version": 3
   },
   "file_extension": ".py",
   "mimetype": "text/x-python",
   "name": "python",
   "nbconvert_exporter": "python",
   "pygments_lexer": "ipython3",
   "version": "3.12.7"
  }
 },
 "nbformat": 4,
 "nbformat_minor": 5
}
