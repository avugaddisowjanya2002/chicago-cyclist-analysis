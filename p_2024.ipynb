{
 "cells": [
  {
   "cell_type": "code",
   "execution_count": 1,
   "id": "fd8211d5-7789-484f-af8f-13e346889ddf",
   "metadata": {},
   "outputs": [
    {
     "name": "stdout",
     "output_type": "stream",
     "text": [
      "shape: (5, 13)\n",
      "┌──────────────┬──────────────┬──────────────┬─────────────┬───┬─────────────┬─────────────┬─────────────┬─────────────┐\n",
      "│ ride_id      ┆ rideable_typ ┆ started_at   ┆ ended_at    ┆ … ┆ start_lng   ┆ end_lat     ┆ end_lng     ┆ member_casu │\n",
      "│ ---          ┆ e            ┆ ---          ┆ ---         ┆   ┆ ---         ┆ ---         ┆ ---         ┆ al          │\n",
      "│ str          ┆ ---          ┆ str          ┆ str         ┆   ┆ str         ┆ str         ┆ str         ┆ ---         │\n",
      "│              ┆ str          ┆              ┆             ┆   ┆             ┆             ┆             ┆ str         │\n",
      "╞══════════════╪══════════════╪══════════════╪═════════════╪═══╪═════════════╪═════════════╪═════════════╪═════════════╡\n",
      "│ C1D650626C8C ┆ electric_bik ┆ 2024-01-12   ┆ 2024-01-12  ┆ … ┆ -87.6347367 ┆ 41.88917683 ┆ -87.6385057 ┆ member      │\n",
      "│ 899A         ┆ e            ┆ 15:30:27     ┆ 15:37:59    ┆   ┆ 76          ┆ 258         ┆ 718         ┆             │\n",
      "│ EECD38BDB25B ┆ electric_bik ┆ 2024-01-08   ┆ 2024-01-08  ┆ … ┆ -87.6344401 ┆ 41.88917683 ┆ -87.6385057 ┆ member      │\n",
      "│ FCB0         ┆ e            ┆ 15:45:46     ┆ 15:52:59    ┆   ┆ 6666666     ┆ 258         ┆ 718         ┆             │\n",
      "│ F4A9CE78061F ┆ electric_bik ┆ 2024-01-27   ┆ 2024-01-27  ┆ … ┆ -87.6344703 ┆ 41.88917683 ┆ -87.6385057 ┆ member      │\n",
      "│ 17F7         ┆ e            ┆ 12:27:19     ┆ 12:35:19    ┆   ┆ 3333334     ┆ 258         ┆ 718         ┆             │\n",
      "│ 0A0D9E15EE50 ┆ classic_bike ┆ 2024-01-29   ┆ 2024-01-29  ┆ … ┆ -87.633963  ┆ 41.921822   ┆ -87.64414   ┆ member      │\n",
      "│ B171         ┆              ┆ 16:26:17     ┆ 16:56:06    ┆   ┆             ┆             ┆             ┆             │\n",
      "│ 33FFC9805E3E ┆ classic_bike ┆ 2024-01-31   ┆ 2024-01-31  ┆ … ┆ -87.675278  ┆ 41.88917683 ┆ -87.6385057 ┆ member      │\n",
      "│ FF9A         ┆              ┆ 05:43:23     ┆ 06:09:35    ┆   ┆             ┆ 258         ┆ 718         ┆             │\n",
      "└──────────────┴──────────────┴──────────────┴─────────────┴───┴─────────────┴─────────────┴─────────────┴─────────────┘\n"
     ]
    }
   ],
   "source": [
    "import os\n",
    "import polars as pl\n",
    "\n",
    "# List of folder paths\n",
    "folder_paths = [\n",
    "    r\"C:\\Users\\Sowjanya\\OneDrive\\Desktop\\Capstone\\DATA_2024\"\n",
    "]\n",
    "\n",
    "# Create an empty list to store DataFrames\n",
    "dataframes = []\n",
    "\n",
    "# Loop through each folder\n",
    "for folder_path in folder_paths:\n",
    "    # Get a list of all CSV files in the folder\n",
    "    file_list = [f for f in os.listdir(folder_path) if f.endswith('.csv')]\n",
    "    \n",
    "    # Read each file and append to the list\n",
    "    for file in file_list:\n",
    "        file_path = os.path.join(folder_path, file)\n",
    "        df = pl.read_csv(file_path, infer_schema_length=10000)  # Increase schema inference\n",
    "        dataframes.append(df.with_columns([\n",
    "            pl.col(col).cast(pl.Utf8) for col in df.columns  # Convert all columns to string\n",
    "        ]))\n",
    "\n",
    "# Concatenate all DataFrames into one\n",
    "df_final = pl.concat(dataframes, how=\"vertical_relaxed\")  # Allow mismatched schemas\n",
    "\n",
    "# Display the first few rows\n",
    "print(df_final.head())"
   ]
  },
  {
   "cell_type": "code",
   "execution_count": 3,
   "id": "547bfdce-1980-48da-944f-3bff6825399d",
   "metadata": {},
   "outputs": [],
   "source": [
    "df = df_final.clone()"
   ]
  },
  {
   "cell_type": "code",
   "execution_count": 5,
   "id": "dd1a0f5f-ec0e-480c-8a13-494f7cd857ad",
   "metadata": {},
   "outputs": [
    {
     "data": {
      "text/html": [
       "<div><style>\n",
       ".dataframe > thead > tr,\n",
       ".dataframe > tbody > tr {\n",
       "  text-align: right;\n",
       "  white-space: pre-wrap;\n",
       "}\n",
       "</style>\n",
       "<small>shape: (5_860_568, 13)</small><table border=\"1\" class=\"dataframe\"><thead><tr><th>ride_id</th><th>rideable_type</th><th>started_at</th><th>ended_at</th><th>start_station_name</th><th>start_station_id</th><th>end_station_name</th><th>end_station_id</th><th>start_lat</th><th>start_lng</th><th>end_lat</th><th>end_lng</th><th>member_casual</th></tr><tr><td>str</td><td>str</td><td>str</td><td>str</td><td>str</td><td>str</td><td>str</td><td>str</td><td>str</td><td>str</td><td>str</td><td>str</td><td>str</td></tr></thead><tbody><tr><td>&quot;C1D650626C8C899A&quot;</td><td>&quot;electric_bike&quot;</td><td>&quot;2024-01-12 15:30:27&quot;</td><td>&quot;2024-01-12 15:37:59&quot;</td><td>&quot;Wells St &amp; Elm St&quot;</td><td>&quot;KA1504000135&quot;</td><td>&quot;Kingsbury St &amp; Kinzie St&quot;</td><td>&quot;KA1503000043&quot;</td><td>&quot;41.903267384&quot;</td><td>&quot;-87.634736776&quot;</td><td>&quot;41.88917683258&quot;</td><td>&quot;-87.6385057718&quot;</td><td>&quot;member&quot;</td></tr><tr><td>&quot;EECD38BDB25BFCB0&quot;</td><td>&quot;electric_bike&quot;</td><td>&quot;2024-01-08 15:45:46&quot;</td><td>&quot;2024-01-08 15:52:59&quot;</td><td>&quot;Wells St &amp; Elm St&quot;</td><td>&quot;KA1504000135&quot;</td><td>&quot;Kingsbury St &amp; Kinzie St&quot;</td><td>&quot;KA1503000043&quot;</td><td>&quot;41.9029365&quot;</td><td>&quot;-87.63444016666666&quot;</td><td>&quot;41.88917683258&quot;</td><td>&quot;-87.6385057718&quot;</td><td>&quot;member&quot;</td></tr><tr><td>&quot;F4A9CE78061F17F7&quot;</td><td>&quot;electric_bike&quot;</td><td>&quot;2024-01-27 12:27:19&quot;</td><td>&quot;2024-01-27 12:35:19&quot;</td><td>&quot;Wells St &amp; Elm St&quot;</td><td>&quot;KA1504000135&quot;</td><td>&quot;Kingsbury St &amp; Kinzie St&quot;</td><td>&quot;KA1503000043&quot;</td><td>&quot;41.902951333333334&quot;</td><td>&quot;-87.63447033333334&quot;</td><td>&quot;41.88917683258&quot;</td><td>&quot;-87.6385057718&quot;</td><td>&quot;member&quot;</td></tr><tr><td>&quot;0A0D9E15EE50B171&quot;</td><td>&quot;classic_bike&quot;</td><td>&quot;2024-01-29 16:26:17&quot;</td><td>&quot;2024-01-29 16:56:06&quot;</td><td>&quot;Wells St &amp; Randolph St&quot;</td><td>&quot;TA1305000030&quot;</td><td>&quot;Larrabee St &amp; Webster Ave&quot;</td><td>&quot;13193&quot;</td><td>&quot;41.884295&quot;</td><td>&quot;-87.633963&quot;</td><td>&quot;41.921822&quot;</td><td>&quot;-87.64414&quot;</td><td>&quot;member&quot;</td></tr><tr><td>&quot;33FFC9805E3EFF9A&quot;</td><td>&quot;classic_bike&quot;</td><td>&quot;2024-01-31 05:43:23&quot;</td><td>&quot;2024-01-31 06:09:35&quot;</td><td>&quot;Lincoln Ave &amp; Waveland Ave&quot;</td><td>&quot;13253&quot;</td><td>&quot;Kingsbury St &amp; Kinzie St&quot;</td><td>&quot;KA1503000043&quot;</td><td>&quot;41.948797&quot;</td><td>&quot;-87.675278&quot;</td><td>&quot;41.88917683258&quot;</td><td>&quot;-87.6385057718&quot;</td><td>&quot;member&quot;</td></tr><tr><td>&hellip;</td><td>&hellip;</td><td>&hellip;</td><td>&hellip;</td><td>&hellip;</td><td>&hellip;</td><td>&hellip;</td><td>&hellip;</td><td>&hellip;</td><td>&hellip;</td><td>&hellip;</td><td>&hellip;</td><td>&hellip;</td></tr><tr><td>&quot;BD56BA20F42E4794&quot;</td><td>&quot;electric_bike&quot;</td><td>&quot;2024-12-11 08:23:46.564&quot;</td><td>&quot;2024-12-11 08:37:34.532&quot;</td><td>&quot;Clybourn Ave &amp; Division St&quot;</td><td>&quot;TA1307000115&quot;</td><td>null</td><td>null</td><td>&quot;41.904633522&quot;</td><td>&quot;-87.64051795&quot;</td><td>&quot;41.88&quot;</td><td>&quot;-87.63&quot;</td><td>&quot;member&quot;</td></tr><tr><td>&quot;3074643A6B60B300&quot;</td><td>&quot;electric_bike&quot;</td><td>&quot;2024-12-09 12:26:15.677&quot;</td><td>&quot;2024-12-09 12:37:32.712&quot;</td><td>&quot;Canal St &amp; Jackson Blvd&quot;</td><td>&quot;13138&quot;</td><td>null</td><td>null</td><td>&quot;41.878125&quot;</td><td>&quot;-87.639968&quot;</td><td>&quot;41.9&quot;</td><td>&quot;-87.62&quot;</td><td>&quot;member&quot;</td></tr><tr><td>&quot;15602635C5DF484E&quot;</td><td>&quot;electric_bike&quot;</td><td>&quot;2024-12-31 17:10:03.113&quot;</td><td>&quot;2024-12-31 17:17:21.838&quot;</td><td>&quot;Albany Ave &amp; Bloomingdale Ave&quot;</td><td>&quot;15655&quot;</td><td>&quot;California Ave &amp; Milwaukee Ave&quot;</td><td>&quot;13084&quot;</td><td>&quot;41.91402671273&quot;</td><td>&quot;-87.705126462&quot;</td><td>&quot;41.922695&quot;</td><td>&quot;-87.697153&quot;</td><td>&quot;member&quot;</td></tr><tr><td>&quot;F15ABBA961560B75&quot;</td><td>&quot;electric_bike&quot;</td><td>&quot;2024-12-01 14:39:47.216&quot;</td><td>&quot;2024-12-01 14:45:21.268&quot;</td><td>&quot;Albany Ave &amp; Bloomingdale Ave&quot;</td><td>&quot;15655&quot;</td><td>&quot;California Ave &amp; Milwaukee Ave&quot;</td><td>&quot;13084&quot;</td><td>&quot;41.914002657&quot;</td><td>&quot;-87.705099225&quot;</td><td>&quot;41.922695&quot;</td><td>&quot;-87.697153&quot;</td><td>&quot;member&quot;</td></tr><tr><td>&quot;8AF273287533B527&quot;</td><td>&quot;electric_bike&quot;</td><td>&quot;2024-12-17 06:38:32.320&quot;</td><td>&quot;2024-12-17 06:46:27.167&quot;</td><td>&quot;Albany Ave &amp; Bloomingdale Ave&quot;</td><td>&quot;15655&quot;</td><td>null</td><td>null</td><td>&quot;41.91402671273&quot;</td><td>&quot;-87.705126462&quot;</td><td>&quot;41.92&quot;</td><td>&quot;-87.69&quot;</td><td>&quot;member&quot;</td></tr></tbody></table></div>"
      ],
      "text/plain": [
       "shape: (5_860_568, 13)\n",
       "┌──────────────┬──────────────┬──────────────┬─────────────┬───┬─────────────┬─────────────┬─────────────┬─────────────┐\n",
       "│ ride_id      ┆ rideable_typ ┆ started_at   ┆ ended_at    ┆ … ┆ start_lng   ┆ end_lat     ┆ end_lng     ┆ member_casu │\n",
       "│ ---          ┆ e            ┆ ---          ┆ ---         ┆   ┆ ---         ┆ ---         ┆ ---         ┆ al          │\n",
       "│ str          ┆ ---          ┆ str          ┆ str         ┆   ┆ str         ┆ str         ┆ str         ┆ ---         │\n",
       "│              ┆ str          ┆              ┆             ┆   ┆             ┆             ┆             ┆ str         │\n",
       "╞══════════════╪══════════════╪══════════════╪═════════════╪═══╪═════════════╪═════════════╪═════════════╪═════════════╡\n",
       "│ C1D650626C8C ┆ electric_bik ┆ 2024-01-12   ┆ 2024-01-12  ┆ … ┆ -87.6347367 ┆ 41.88917683 ┆ -87.6385057 ┆ member      │\n",
       "│ 899A         ┆ e            ┆ 15:30:27     ┆ 15:37:59    ┆   ┆ 76          ┆ 258         ┆ 718         ┆             │\n",
       "│ EECD38BDB25B ┆ electric_bik ┆ 2024-01-08   ┆ 2024-01-08  ┆ … ┆ -87.6344401 ┆ 41.88917683 ┆ -87.6385057 ┆ member      │\n",
       "│ FCB0         ┆ e            ┆ 15:45:46     ┆ 15:52:59    ┆   ┆ 6666666     ┆ 258         ┆ 718         ┆             │\n",
       "│ F4A9CE78061F ┆ electric_bik ┆ 2024-01-27   ┆ 2024-01-27  ┆ … ┆ -87.6344703 ┆ 41.88917683 ┆ -87.6385057 ┆ member      │\n",
       "│ 17F7         ┆ e            ┆ 12:27:19     ┆ 12:35:19    ┆   ┆ 3333334     ┆ 258         ┆ 718         ┆             │\n",
       "│ 0A0D9E15EE50 ┆ classic_bike ┆ 2024-01-29   ┆ 2024-01-29  ┆ … ┆ -87.633963  ┆ 41.921822   ┆ -87.64414   ┆ member      │\n",
       "│ B171         ┆              ┆ 16:26:17     ┆ 16:56:06    ┆   ┆             ┆             ┆             ┆             │\n",
       "│ 33FFC9805E3E ┆ classic_bike ┆ 2024-01-31   ┆ 2024-01-31  ┆ … ┆ -87.675278  ┆ 41.88917683 ┆ -87.6385057 ┆ member      │\n",
       "│ FF9A         ┆              ┆ 05:43:23     ┆ 06:09:35    ┆   ┆             ┆ 258         ┆ 718         ┆             │\n",
       "│ …            ┆ …            ┆ …            ┆ …           ┆ … ┆ …           ┆ …           ┆ …           ┆ …           │\n",
       "│ BD56BA20F42E ┆ electric_bik ┆ 2024-12-11   ┆ 2024-12-11  ┆ … ┆ -87.6405179 ┆ 41.88       ┆ -87.63      ┆ member      │\n",
       "│ 4794         ┆ e            ┆ 08:23:46.564 ┆ 08:37:34.53 ┆   ┆ 5           ┆             ┆             ┆             │\n",
       "│              ┆              ┆              ┆ 2           ┆   ┆             ┆             ┆             ┆             │\n",
       "│ 3074643A6B60 ┆ electric_bik ┆ 2024-12-09   ┆ 2024-12-09  ┆ … ┆ -87.639968  ┆ 41.9        ┆ -87.62      ┆ member      │\n",
       "│ B300         ┆ e            ┆ 12:26:15.677 ┆ 12:37:32.71 ┆   ┆             ┆             ┆             ┆             │\n",
       "│              ┆              ┆              ┆ 2           ┆   ┆             ┆             ┆             ┆             │\n",
       "│ 15602635C5DF ┆ electric_bik ┆ 2024-12-31   ┆ 2024-12-31  ┆ … ┆ -87.7051264 ┆ 41.922695   ┆ -87.697153  ┆ member      │\n",
       "│ 484E         ┆ e            ┆ 17:10:03.113 ┆ 17:17:21.83 ┆   ┆ 62          ┆             ┆             ┆             │\n",
       "│              ┆              ┆              ┆ 8           ┆   ┆             ┆             ┆             ┆             │\n",
       "│ F15ABBA96156 ┆ electric_bik ┆ 2024-12-01   ┆ 2024-12-01  ┆ … ┆ -87.7050992 ┆ 41.922695   ┆ -87.697153  ┆ member      │\n",
       "│ 0B75         ┆ e            ┆ 14:39:47.216 ┆ 14:45:21.26 ┆   ┆ 25          ┆             ┆             ┆             │\n",
       "│              ┆              ┆              ┆ 8           ┆   ┆             ┆             ┆             ┆             │\n",
       "│ 8AF273287533 ┆ electric_bik ┆ 2024-12-17   ┆ 2024-12-17  ┆ … ┆ -87.7051264 ┆ 41.92       ┆ -87.69      ┆ member      │\n",
       "│ B527         ┆ e            ┆ 06:38:32.320 ┆ 06:46:27.16 ┆   ┆ 62          ┆             ┆             ┆             │\n",
       "│              ┆              ┆              ┆ 7           ┆   ┆             ┆             ┆             ┆             │\n",
       "└──────────────┴──────────────┴──────────────┴─────────────┴───┴─────────────┴─────────────┴─────────────┴─────────────┘"
      ]
     },
     "execution_count": 5,
     "metadata": {},
     "output_type": "execute_result"
    }
   ],
   "source": [
    "df"
   ]
  },
  {
   "cell_type": "code",
   "execution_count": 7,
   "id": "d0532abc-7dfe-4e6d-b5eb-ed88bf8fb1c7",
   "metadata": {},
   "outputs": [
    {
     "name": "stdout",
     "output_type": "stream",
     "text": [
      "shape: (1, 13)\n",
      "┌─────────┬───────────────┬────────────┬──────────┬───┬───────────┬─────────┬─────────┬───────────────┐\n",
      "│ ride_id ┆ rideable_type ┆ started_at ┆ ended_at ┆ … ┆ start_lng ┆ end_lat ┆ end_lng ┆ member_casual │\n",
      "│ ---     ┆ ---           ┆ ---        ┆ ---      ┆   ┆ ---       ┆ ---     ┆ ---     ┆ ---           │\n",
      "│ u32     ┆ u32           ┆ u32        ┆ u32      ┆   ┆ u32       ┆ u32     ┆ u32     ┆ u32           │\n",
      "╞═════════╪═══════════════╪════════════╪══════════╪═══╪═══════════╪═════════╪═════════╪═══════════════╡\n",
      "│ 0       ┆ 0             ┆ 0          ┆ 0        ┆ … ┆ 0         ┆ 7232    ┆ 7232    ┆ 0             │\n",
      "└─────────┴───────────────┴────────────┴──────────┴───┴───────────┴─────────┴─────────┴───────────────┘\n"
     ]
    }
   ],
   "source": [
    "# Step 1: Count missing values in each column\n",
    "missing_values = df.null_count()\n",
    "print(missing_values)"
   ]
  },
  {
   "cell_type": "code",
   "execution_count": 9,
   "id": "b09e57e6-fde8-4245-a799-d20db69d2275",
   "metadata": {},
   "outputs": [
    {
     "name": "stdout",
     "output_type": "stream",
     "text": [
      "Number of removed records: 7232\n",
      "\n",
      "Records removed (stored separately):\n",
      "shape: (7_232, 13)\n",
      "┌───────────────┬───────────────┬───────────────┬───────────────┬───┬───────────────┬─────────┬─────────┬──────────────┐\n",
      "│ ride_id       ┆ rideable_type ┆ started_at    ┆ ended_at      ┆ … ┆ start_lng     ┆ end_lat ┆ end_lng ┆ member_casua │\n",
      "│ ---           ┆ ---           ┆ ---           ┆ ---           ┆   ┆ ---           ┆ ---     ┆ ---     ┆ l            │\n",
      "│ str           ┆ str           ┆ str           ┆ str           ┆   ┆ str           ┆ str     ┆ str     ┆ ---          │\n",
      "│               ┆               ┆               ┆               ┆   ┆               ┆         ┆         ┆ str          │\n",
      "╞═══════════════╪═══════════════╪═══════════════╪═══════════════╪═══╪═══════════════╪═════════╪═════════╪══════════════╡\n",
      "│ 16D623E15D50B ┆ classic_bike  ┆ 2024-01-17    ┆ 2024-01-18    ┆ … ┆ -87.634324    ┆ null    ┆ null    ┆ member       │\n",
      "│ DC4           ┆               ┆ 07:27:37      ┆ 08:27:28      ┆   ┆               ┆         ┆         ┆              │\n",
      "│ 4AED4912A1C82 ┆ classic_bike  ┆ 2024-01-10    ┆ 2024-01-11    ┆ … ┆ -87.590461    ┆ null    ┆ null    ┆ member       │\n",
      "│ E62           ┆               ┆ 13:22:32      ┆ 14:22:10      ┆   ┆               ┆         ┆         ┆              │\n",
      "│ E6EB2D2AB728E ┆ classic_bike  ┆ 2024-01-16    ┆ 2024-01-17    ┆ … ┆ -87.634324    ┆ null    ┆ null    ┆ member       │\n",
      "│ BCD           ┆               ┆ 07:56:06      ┆ 08:56:00      ┆   ┆               ┆         ┆         ┆              │\n",
      "│ A322C307E0388 ┆ classic_bike  ┆ 2024-01-16    ┆ 2024-01-17    ┆ … ┆ -87.688829    ┆ null    ┆ null    ┆ member       │\n",
      "│ 0C0           ┆               ┆ 12:39:16      ┆ 13:39:07      ┆   ┆               ┆         ┆         ┆              │\n",
      "│ F1E68C2E598C5 ┆ classic_bike  ┆ 2024-01-26    ┆ 2024-01-27    ┆ … ┆ -87.619521    ┆ null    ┆ null    ┆ member       │\n",
      "│ 83F           ┆               ┆ 10:56:37      ┆ 11:56:30      ┆   ┆               ┆         ┆         ┆              │\n",
      "│ …             ┆ …             ┆ …             ┆ …             ┆ … ┆ …             ┆ …       ┆ …       ┆ …            │\n",
      "│ 528762D81B7D7 ┆ classic_bike  ┆ 2024-12-13    ┆ 2024-12-15    ┆ … ┆ -87.649077    ┆ null    ┆ null    ┆ member       │\n",
      "│ 384           ┆               ┆ 23:38:45.218  ┆ 00:38:36.397  ┆   ┆               ┆         ┆         ┆              │\n",
      "│ B859928FAA610 ┆ classic_bike  ┆ 2024-12-13    ┆ 2024-12-14    ┆ … ┆ -87.633094042 ┆ null    ┆ null    ┆ casual       │\n",
      "│ 509           ┆               ┆ 21:04:14.855  ┆ 22:03:55.539  ┆   ┆ 5396          ┆         ┆         ┆              │\n",
      "│ 53337D65C2F08 ┆ classic_bike  ┆ 2024-12-24    ┆ 2024-12-25    ┆ … ┆ -87.624164    ┆ null    ┆ null    ┆ casual       │\n",
      "│ 10F           ┆               ┆ 12:24:55.002  ┆ 13:24:34.894  ┆   ┆               ┆         ┆         ┆              │\n",
      "│ A1FEE6CB062E7 ┆ classic_bike  ┆ 2024-11-30    ┆ 2024-12-01    ┆ … ┆ -87.625125    ┆ null    ┆ null    ┆ casual       │\n",
      "│ BCB           ┆               ┆ 22:10:47.714  ┆ 23:10:41.492  ┆   ┆               ┆         ┆         ┆              │\n",
      "│ CAD9F49C3C423 ┆ classic_bike  ┆ 2024-12-16    ┆ 2024-12-17    ┆ … ┆ -87.631501    ┆ null    ┆ null    ┆ casual       │\n",
      "│ 0BA           ┆               ┆ 21:43:54.582  ┆ 22:43:47.672  ┆   ┆               ┆         ┆         ┆              │\n",
      "└───────────────┴───────────────┴───────────────┴───────────────┴───┴───────────────┴─────────┴─────────┴──────────────┘\n",
      "\n",
      "Updated DataFrame after removal:\n",
      "shape: (5_853_336, 13)\n",
      "┌──────────────┬──────────────┬──────────────┬─────────────┬───┬─────────────┬─────────────┬─────────────┬─────────────┐\n",
      "│ ride_id      ┆ rideable_typ ┆ started_at   ┆ ended_at    ┆ … ┆ start_lng   ┆ end_lat     ┆ end_lng     ┆ member_casu │\n",
      "│ ---          ┆ e            ┆ ---          ┆ ---         ┆   ┆ ---         ┆ ---         ┆ ---         ┆ al          │\n",
      "│ str          ┆ ---          ┆ str          ┆ str         ┆   ┆ str         ┆ str         ┆ str         ┆ ---         │\n",
      "│              ┆ str          ┆              ┆             ┆   ┆             ┆             ┆             ┆ str         │\n",
      "╞══════════════╪══════════════╪══════════════╪═════════════╪═══╪═════════════╪═════════════╪═════════════╪═════════════╡\n",
      "│ C1D650626C8C ┆ electric_bik ┆ 2024-01-12   ┆ 2024-01-12  ┆ … ┆ -87.6347367 ┆ 41.88917683 ┆ -87.6385057 ┆ member      │\n",
      "│ 899A         ┆ e            ┆ 15:30:27     ┆ 15:37:59    ┆   ┆ 76          ┆ 258         ┆ 718         ┆             │\n",
      "│ EECD38BDB25B ┆ electric_bik ┆ 2024-01-08   ┆ 2024-01-08  ┆ … ┆ -87.6344401 ┆ 41.88917683 ┆ -87.6385057 ┆ member      │\n",
      "│ FCB0         ┆ e            ┆ 15:45:46     ┆ 15:52:59    ┆   ┆ 6666666     ┆ 258         ┆ 718         ┆             │\n",
      "│ F4A9CE78061F ┆ electric_bik ┆ 2024-01-27   ┆ 2024-01-27  ┆ … ┆ -87.6344703 ┆ 41.88917683 ┆ -87.6385057 ┆ member      │\n",
      "│ 17F7         ┆ e            ┆ 12:27:19     ┆ 12:35:19    ┆   ┆ 3333334     ┆ 258         ┆ 718         ┆             │\n",
      "│ 0A0D9E15EE50 ┆ classic_bike ┆ 2024-01-29   ┆ 2024-01-29  ┆ … ┆ -87.633963  ┆ 41.921822   ┆ -87.64414   ┆ member      │\n",
      "│ B171         ┆              ┆ 16:26:17     ┆ 16:56:06    ┆   ┆             ┆             ┆             ┆             │\n",
      "│ 33FFC9805E3E ┆ classic_bike ┆ 2024-01-31   ┆ 2024-01-31  ┆ … ┆ -87.675278  ┆ 41.88917683 ┆ -87.6385057 ┆ member      │\n",
      "│ FF9A         ┆              ┆ 05:43:23     ┆ 06:09:35    ┆   ┆             ┆ 258         ┆ 718         ┆             │\n",
      "│ …            ┆ …            ┆ …            ┆ …           ┆ … ┆ …           ┆ …           ┆ …           ┆ …           │\n",
      "│ BD56BA20F42E ┆ electric_bik ┆ 2024-12-11   ┆ 2024-12-11  ┆ … ┆ -87.6405179 ┆ 41.88       ┆ -87.63      ┆ member      │\n",
      "│ 4794         ┆ e            ┆ 08:23:46.564 ┆ 08:37:34.53 ┆   ┆ 5           ┆             ┆             ┆             │\n",
      "│              ┆              ┆              ┆ 2           ┆   ┆             ┆             ┆             ┆             │\n",
      "│ 3074643A6B60 ┆ electric_bik ┆ 2024-12-09   ┆ 2024-12-09  ┆ … ┆ -87.639968  ┆ 41.9        ┆ -87.62      ┆ member      │\n",
      "│ B300         ┆ e            ┆ 12:26:15.677 ┆ 12:37:32.71 ┆   ┆             ┆             ┆             ┆             │\n",
      "│              ┆              ┆              ┆ 2           ┆   ┆             ┆             ┆             ┆             │\n",
      "│ 15602635C5DF ┆ electric_bik ┆ 2024-12-31   ┆ 2024-12-31  ┆ … ┆ -87.7051264 ┆ 41.922695   ┆ -87.697153  ┆ member      │\n",
      "│ 484E         ┆ e            ┆ 17:10:03.113 ┆ 17:17:21.83 ┆   ┆ 62          ┆             ┆             ┆             │\n",
      "│              ┆              ┆              ┆ 8           ┆   ┆             ┆             ┆             ┆             │\n",
      "│ F15ABBA96156 ┆ electric_bik ┆ 2024-12-01   ┆ 2024-12-01  ┆ … ┆ -87.7050992 ┆ 41.922695   ┆ -87.697153  ┆ member      │\n",
      "│ 0B75         ┆ e            ┆ 14:39:47.216 ┆ 14:45:21.26 ┆   ┆ 25          ┆             ┆             ┆             │\n",
      "│              ┆              ┆              ┆ 8           ┆   ┆             ┆             ┆             ┆             │\n",
      "│ 8AF273287533 ┆ electric_bik ┆ 2024-12-17   ┆ 2024-12-17  ┆ … ┆ -87.7051264 ┆ 41.92       ┆ -87.69      ┆ member      │\n",
      "│ B527         ┆ e            ┆ 06:38:32.320 ┆ 06:46:27.16 ┆   ┆ 62          ┆             ┆             ┆             │\n",
      "│              ┆              ┆              ┆ 7           ┆   ┆             ┆             ┆             ┆             │\n",
      "└──────────────┴──────────────┴──────────────┴─────────────┴───┴─────────────┴─────────────┴─────────────┴─────────────┘\n"
     ]
    }
   ],
   "source": [
    "# Step 2: Identify and store records where both 'end_lat' and 'end_lng' are null\n",
    "missing_end_lat_lng = df.filter(pl.col(\"end_lat\").is_null() & pl.col(\"end_lng\").is_null()).clone()\n",
    "\n",
    "# Step 3: Remove these records from the original DataFrame\n",
    "df_cleaned = df.drop_nulls(subset=[\"end_lat\", \"end_lng\"])\n",
    "\n",
    "# Display results\n",
    "print(f\"Number of removed records: {missing_end_lat_lng.shape[0]}\")\n",
    "print(\"\\nRecords removed (stored separately):\")\n",
    "print(missing_end_lat_lng)\n",
    "\n",
    "print(\"\\nUpdated DataFrame after removal:\")\n",
    "print(df_cleaned)"
   ]
  },
  {
   "cell_type": "code",
   "execution_count": 11,
   "id": "be50f9d1-fc2c-4c3a-84af-61e859b9b6ef",
   "metadata": {},
   "outputs": [],
   "source": [
    "df_cleaned = df_cleaned.with_columns(\n",
    "    pl.col(\"started_at\").str.split(\" \").alias(\"split_col\")\n",
    ").with_columns(\n",
    "    pl.col(\"split_col\").list.get(0).alias(\"start_date\"),\n",
    "    pl.col(\"split_col\").list.get(1).alias(\"start_time\")\n",
    ").drop(\"split_col\")  # Optional: Remove the temporary column"
   ]
  },
  {
   "cell_type": "code",
   "execution_count": 13,
   "id": "a8884c73-13d5-4e34-b13c-85889d740bcf",
   "metadata": {},
   "outputs": [],
   "source": [
    "# Split 'started_at' into 'start_date' and 'start_time'\n",
    "df_cleaned = df_cleaned.with_columns(\n",
    "    pl.col(\"started_at\").str.split(\" \").alias(\"split_start\")\n",
    ").with_columns(\n",
    "    pl.col(\"split_start\").list.get(0).alias(\"start_date\"),\n",
    "    pl.col(\"split_start\").list.get(1).alias(\"start_time\")\n",
    ").drop(\"split_start\")  # Optional cleanup\n",
    "\n",
    "# Remove milliseconds from 'start_time'\n",
    "df_cleaned = df_cleaned.with_columns(\n",
    "    pl.col(\"start_time\").str.split(\".\").list.get(0)\n",
    ")\n",
    "\n",
    "# Convert 'start_date' and 'start_time' to datetime\n",
    "df_cleaned = df_cleaned.with_columns(\n",
    "    (pl.col(\"start_date\") + \" \" + pl.col(\"start_time\")).str.strptime(pl.Datetime, \"%Y-%m-%d %H:%M:%S\").alias(\"started_at\")\n",
    ")\n",
    "\n",
    "# Split 'ended_at' into 'end_date' and 'end_time'\n",
    "df_cleaned = df_cleaned.with_columns(\n",
    "    pl.col(\"ended_at\").str.split(\" \").alias(\"split_end\")\n",
    ").with_columns(\n",
    "    pl.col(\"split_end\").list.get(0).alias(\"end_date\"),\n",
    "    pl.col(\"split_end\").list.get(1).alias(\"end_time\")\n",
    ").drop(\"split_end\")  # Optional cleanup\n",
    "\n",
    "# Remove milliseconds from 'end_time'\n",
    "df_cleaned = df_cleaned.with_columns(\n",
    "    pl.col(\"end_time\").str.split(\".\").list.get(0)\n",
    ")\n"
   ]
  },
  {
   "cell_type": "code",
   "execution_count": 15,
   "id": "54ed8ea7-ac2a-4328-8549-93f9b5d469ed",
   "metadata": {},
   "outputs": [],
   "source": [
    "# Convert 'start_date' and 'start_time' to datetime\n",
    "df_cleaned = df_cleaned.with_columns(\n",
    "    (pl.col(\"end_date\") + \" \" + pl.col(\"end_time\")).str.strptime(pl.Datetime, \"%Y-%m-%d %H:%M:%S\").alias(\"ended_at\")\n",
    ")"
   ]
  },
  {
   "cell_type": "code",
   "execution_count": 17,
   "id": "ad7ca86e-48a1-42d6-8561-a2ef11fdab8c",
   "metadata": {},
   "outputs": [
    {
     "data": {
      "text/html": [
       "<div><style>\n",
       ".dataframe > thead > tr,\n",
       ".dataframe > tbody > tr {\n",
       "  text-align: right;\n",
       "  white-space: pre-wrap;\n",
       "}\n",
       "</style>\n",
       "<small>shape: (5_853_336, 17)</small><table border=\"1\" class=\"dataframe\"><thead><tr><th>ride_id</th><th>rideable_type</th><th>started_at</th><th>ended_at</th><th>start_station_name</th><th>start_station_id</th><th>end_station_name</th><th>end_station_id</th><th>start_lat</th><th>start_lng</th><th>end_lat</th><th>end_lng</th><th>member_casual</th><th>start_date</th><th>start_time</th><th>end_date</th><th>end_time</th></tr><tr><td>str</td><td>str</td><td>datetime[μs]</td><td>datetime[μs]</td><td>str</td><td>str</td><td>str</td><td>str</td><td>str</td><td>str</td><td>str</td><td>str</td><td>str</td><td>str</td><td>str</td><td>str</td><td>str</td></tr></thead><tbody><tr><td>&quot;C1D650626C8C899A&quot;</td><td>&quot;electric_bike&quot;</td><td>2024-01-12 15:30:27</td><td>2024-01-12 15:37:59</td><td>&quot;Wells St &amp; Elm St&quot;</td><td>&quot;KA1504000135&quot;</td><td>&quot;Kingsbury St &amp; Kinzie St&quot;</td><td>&quot;KA1503000043&quot;</td><td>&quot;41.903267384&quot;</td><td>&quot;-87.634736776&quot;</td><td>&quot;41.88917683258&quot;</td><td>&quot;-87.6385057718&quot;</td><td>&quot;member&quot;</td><td>&quot;2024-01-12&quot;</td><td>&quot;15:30:27&quot;</td><td>&quot;2024-01-12&quot;</td><td>&quot;15:37:59&quot;</td></tr><tr><td>&quot;EECD38BDB25BFCB0&quot;</td><td>&quot;electric_bike&quot;</td><td>2024-01-08 15:45:46</td><td>2024-01-08 15:52:59</td><td>&quot;Wells St &amp; Elm St&quot;</td><td>&quot;KA1504000135&quot;</td><td>&quot;Kingsbury St &amp; Kinzie St&quot;</td><td>&quot;KA1503000043&quot;</td><td>&quot;41.9029365&quot;</td><td>&quot;-87.63444016666666&quot;</td><td>&quot;41.88917683258&quot;</td><td>&quot;-87.6385057718&quot;</td><td>&quot;member&quot;</td><td>&quot;2024-01-08&quot;</td><td>&quot;15:45:46&quot;</td><td>&quot;2024-01-08&quot;</td><td>&quot;15:52:59&quot;</td></tr><tr><td>&quot;F4A9CE78061F17F7&quot;</td><td>&quot;electric_bike&quot;</td><td>2024-01-27 12:27:19</td><td>2024-01-27 12:35:19</td><td>&quot;Wells St &amp; Elm St&quot;</td><td>&quot;KA1504000135&quot;</td><td>&quot;Kingsbury St &amp; Kinzie St&quot;</td><td>&quot;KA1503000043&quot;</td><td>&quot;41.902951333333334&quot;</td><td>&quot;-87.63447033333334&quot;</td><td>&quot;41.88917683258&quot;</td><td>&quot;-87.6385057718&quot;</td><td>&quot;member&quot;</td><td>&quot;2024-01-27&quot;</td><td>&quot;12:27:19&quot;</td><td>&quot;2024-01-27&quot;</td><td>&quot;12:35:19&quot;</td></tr><tr><td>&quot;0A0D9E15EE50B171&quot;</td><td>&quot;classic_bike&quot;</td><td>2024-01-29 16:26:17</td><td>2024-01-29 16:56:06</td><td>&quot;Wells St &amp; Randolph St&quot;</td><td>&quot;TA1305000030&quot;</td><td>&quot;Larrabee St &amp; Webster Ave&quot;</td><td>&quot;13193&quot;</td><td>&quot;41.884295&quot;</td><td>&quot;-87.633963&quot;</td><td>&quot;41.921822&quot;</td><td>&quot;-87.64414&quot;</td><td>&quot;member&quot;</td><td>&quot;2024-01-29&quot;</td><td>&quot;16:26:17&quot;</td><td>&quot;2024-01-29&quot;</td><td>&quot;16:56:06&quot;</td></tr><tr><td>&quot;33FFC9805E3EFF9A&quot;</td><td>&quot;classic_bike&quot;</td><td>2024-01-31 05:43:23</td><td>2024-01-31 06:09:35</td><td>&quot;Lincoln Ave &amp; Waveland Ave&quot;</td><td>&quot;13253&quot;</td><td>&quot;Kingsbury St &amp; Kinzie St&quot;</td><td>&quot;KA1503000043&quot;</td><td>&quot;41.948797&quot;</td><td>&quot;-87.675278&quot;</td><td>&quot;41.88917683258&quot;</td><td>&quot;-87.6385057718&quot;</td><td>&quot;member&quot;</td><td>&quot;2024-01-31&quot;</td><td>&quot;05:43:23&quot;</td><td>&quot;2024-01-31&quot;</td><td>&quot;06:09:35&quot;</td></tr><tr><td>&hellip;</td><td>&hellip;</td><td>&hellip;</td><td>&hellip;</td><td>&hellip;</td><td>&hellip;</td><td>&hellip;</td><td>&hellip;</td><td>&hellip;</td><td>&hellip;</td><td>&hellip;</td><td>&hellip;</td><td>&hellip;</td><td>&hellip;</td><td>&hellip;</td><td>&hellip;</td><td>&hellip;</td></tr><tr><td>&quot;BD56BA20F42E4794&quot;</td><td>&quot;electric_bike&quot;</td><td>2024-12-11 08:23:46</td><td>2024-12-11 08:37:34</td><td>&quot;Clybourn Ave &amp; Division St&quot;</td><td>&quot;TA1307000115&quot;</td><td>null</td><td>null</td><td>&quot;41.904633522&quot;</td><td>&quot;-87.64051795&quot;</td><td>&quot;41.88&quot;</td><td>&quot;-87.63&quot;</td><td>&quot;member&quot;</td><td>&quot;2024-12-11&quot;</td><td>&quot;08:23:46&quot;</td><td>&quot;2024-12-11&quot;</td><td>&quot;08:37:34&quot;</td></tr><tr><td>&quot;3074643A6B60B300&quot;</td><td>&quot;electric_bike&quot;</td><td>2024-12-09 12:26:15</td><td>2024-12-09 12:37:32</td><td>&quot;Canal St &amp; Jackson Blvd&quot;</td><td>&quot;13138&quot;</td><td>null</td><td>null</td><td>&quot;41.878125&quot;</td><td>&quot;-87.639968&quot;</td><td>&quot;41.9&quot;</td><td>&quot;-87.62&quot;</td><td>&quot;member&quot;</td><td>&quot;2024-12-09&quot;</td><td>&quot;12:26:15&quot;</td><td>&quot;2024-12-09&quot;</td><td>&quot;12:37:32&quot;</td></tr><tr><td>&quot;15602635C5DF484E&quot;</td><td>&quot;electric_bike&quot;</td><td>2024-12-31 17:10:03</td><td>2024-12-31 17:17:21</td><td>&quot;Albany Ave &amp; Bloomingdale Ave&quot;</td><td>&quot;15655&quot;</td><td>&quot;California Ave &amp; Milwaukee Ave&quot;</td><td>&quot;13084&quot;</td><td>&quot;41.91402671273&quot;</td><td>&quot;-87.705126462&quot;</td><td>&quot;41.922695&quot;</td><td>&quot;-87.697153&quot;</td><td>&quot;member&quot;</td><td>&quot;2024-12-31&quot;</td><td>&quot;17:10:03&quot;</td><td>&quot;2024-12-31&quot;</td><td>&quot;17:17:21&quot;</td></tr><tr><td>&quot;F15ABBA961560B75&quot;</td><td>&quot;electric_bike&quot;</td><td>2024-12-01 14:39:47</td><td>2024-12-01 14:45:21</td><td>&quot;Albany Ave &amp; Bloomingdale Ave&quot;</td><td>&quot;15655&quot;</td><td>&quot;California Ave &amp; Milwaukee Ave&quot;</td><td>&quot;13084&quot;</td><td>&quot;41.914002657&quot;</td><td>&quot;-87.705099225&quot;</td><td>&quot;41.922695&quot;</td><td>&quot;-87.697153&quot;</td><td>&quot;member&quot;</td><td>&quot;2024-12-01&quot;</td><td>&quot;14:39:47&quot;</td><td>&quot;2024-12-01&quot;</td><td>&quot;14:45:21&quot;</td></tr><tr><td>&quot;8AF273287533B527&quot;</td><td>&quot;electric_bike&quot;</td><td>2024-12-17 06:38:32</td><td>2024-12-17 06:46:27</td><td>&quot;Albany Ave &amp; Bloomingdale Ave&quot;</td><td>&quot;15655&quot;</td><td>null</td><td>null</td><td>&quot;41.91402671273&quot;</td><td>&quot;-87.705126462&quot;</td><td>&quot;41.92&quot;</td><td>&quot;-87.69&quot;</td><td>&quot;member&quot;</td><td>&quot;2024-12-17&quot;</td><td>&quot;06:38:32&quot;</td><td>&quot;2024-12-17&quot;</td><td>&quot;06:46:27&quot;</td></tr></tbody></table></div>"
      ],
      "text/plain": [
       "shape: (5_853_336, 17)\n",
       "┌────────────────┬───────────────┬───────────────┬───────────────┬───┬────────────┬────────────┬────────────┬──────────┐\n",
       "│ ride_id        ┆ rideable_type ┆ started_at    ┆ ended_at      ┆ … ┆ start_date ┆ start_time ┆ end_date   ┆ end_time │\n",
       "│ ---            ┆ ---           ┆ ---           ┆ ---           ┆   ┆ ---        ┆ ---        ┆ ---        ┆ ---      │\n",
       "│ str            ┆ str           ┆ datetime[μs]  ┆ datetime[μs]  ┆   ┆ str        ┆ str        ┆ str        ┆ str      │\n",
       "╞════════════════╪═══════════════╪═══════════════╪═══════════════╪═══╪════════════╪════════════╪════════════╪══════════╡\n",
       "│ C1D650626C8C89 ┆ electric_bike ┆ 2024-01-12    ┆ 2024-01-12    ┆ … ┆ 2024-01-12 ┆ 15:30:27   ┆ 2024-01-12 ┆ 15:37:59 │\n",
       "│ 9A             ┆               ┆ 15:30:27      ┆ 15:37:59      ┆   ┆            ┆            ┆            ┆          │\n",
       "│ EECD38BDB25BFC ┆ electric_bike ┆ 2024-01-08    ┆ 2024-01-08    ┆ … ┆ 2024-01-08 ┆ 15:45:46   ┆ 2024-01-08 ┆ 15:52:59 │\n",
       "│ B0             ┆               ┆ 15:45:46      ┆ 15:52:59      ┆   ┆            ┆            ┆            ┆          │\n",
       "│ F4A9CE78061F17 ┆ electric_bike ┆ 2024-01-27    ┆ 2024-01-27    ┆ … ┆ 2024-01-27 ┆ 12:27:19   ┆ 2024-01-27 ┆ 12:35:19 │\n",
       "│ F7             ┆               ┆ 12:27:19      ┆ 12:35:19      ┆   ┆            ┆            ┆            ┆          │\n",
       "│ 0A0D9E15EE50B1 ┆ classic_bike  ┆ 2024-01-29    ┆ 2024-01-29    ┆ … ┆ 2024-01-29 ┆ 16:26:17   ┆ 2024-01-29 ┆ 16:56:06 │\n",
       "│ 71             ┆               ┆ 16:26:17      ┆ 16:56:06      ┆   ┆            ┆            ┆            ┆          │\n",
       "│ 33FFC9805E3EFF ┆ classic_bike  ┆ 2024-01-31    ┆ 2024-01-31    ┆ … ┆ 2024-01-31 ┆ 05:43:23   ┆ 2024-01-31 ┆ 06:09:35 │\n",
       "│ 9A             ┆               ┆ 05:43:23      ┆ 06:09:35      ┆   ┆            ┆            ┆            ┆          │\n",
       "│ …              ┆ …             ┆ …             ┆ …             ┆ … ┆ …          ┆ …          ┆ …          ┆ …        │\n",
       "│ BD56BA20F42E47 ┆ electric_bike ┆ 2024-12-11    ┆ 2024-12-11    ┆ … ┆ 2024-12-11 ┆ 08:23:46   ┆ 2024-12-11 ┆ 08:37:34 │\n",
       "│ 94             ┆               ┆ 08:23:46      ┆ 08:37:34      ┆   ┆            ┆            ┆            ┆          │\n",
       "│ 3074643A6B60B3 ┆ electric_bike ┆ 2024-12-09    ┆ 2024-12-09    ┆ … ┆ 2024-12-09 ┆ 12:26:15   ┆ 2024-12-09 ┆ 12:37:32 │\n",
       "│ 00             ┆               ┆ 12:26:15      ┆ 12:37:32      ┆   ┆            ┆            ┆            ┆          │\n",
       "│ 15602635C5DF48 ┆ electric_bike ┆ 2024-12-31    ┆ 2024-12-31    ┆ … ┆ 2024-12-31 ┆ 17:10:03   ┆ 2024-12-31 ┆ 17:17:21 │\n",
       "│ 4E             ┆               ┆ 17:10:03      ┆ 17:17:21      ┆   ┆            ┆            ┆            ┆          │\n",
       "│ F15ABBA961560B ┆ electric_bike ┆ 2024-12-01    ┆ 2024-12-01    ┆ … ┆ 2024-12-01 ┆ 14:39:47   ┆ 2024-12-01 ┆ 14:45:21 │\n",
       "│ 75             ┆               ┆ 14:39:47      ┆ 14:45:21      ┆   ┆            ┆            ┆            ┆          │\n",
       "│ 8AF273287533B5 ┆ electric_bike ┆ 2024-12-17    ┆ 2024-12-17    ┆ … ┆ 2024-12-17 ┆ 06:38:32   ┆ 2024-12-17 ┆ 06:46:27 │\n",
       "│ 27             ┆               ┆ 06:38:32      ┆ 06:46:27      ┆   ┆            ┆            ┆            ┆          │\n",
       "└────────────────┴───────────────┴───────────────┴───────────────┴───┴────────────┴────────────┴────────────┴──────────┘"
      ]
     },
     "execution_count": 17,
     "metadata": {},
     "output_type": "execute_result"
    }
   ],
   "source": [
    "df_cleaned"
   ]
  },
  {
   "cell_type": "code",
   "execution_count": 19,
   "id": "304e6ccd-081f-4f1d-979e-55f6aaff6b4d",
   "metadata": {},
   "outputs": [],
   "source": [
    "df_cleaned = df_cleaned.drop([\"start_station_id\", \"end_station_id\"])\n"
   ]
  },
  {
   "cell_type": "code",
   "execution_count": 21,
   "id": "a3c98e6a-a9fd-4dbf-9ddd-72e453acad38",
   "metadata": {},
   "outputs": [],
   "source": [
    "df_cleaned = df_cleaned.with_columns(\n",
    "    (pl.col(\"ended_at\") - pl.col(\"started_at\")).alias(\"duration\")\n",
    ")\n"
   ]
  },
  {
   "cell_type": "code",
   "execution_count": 23,
   "id": "03f33bc4-3751-4131-95ab-4921a517a5ff",
   "metadata": {},
   "outputs": [
    {
     "name": "stdout",
     "output_type": "stream",
     "text": [
      "shape: (241_671, 16)\n",
      "┌───────────────┬───────────────┬───────────────┬──────────────┬───┬────────────┬────────────┬──────────┬──────────────┐\n",
      "│ ride_id       ┆ rideable_type ┆ started_at    ┆ ended_at     ┆ … ┆ start_time ┆ end_date   ┆ end_time ┆ duration     │\n",
      "│ ---           ┆ ---           ┆ ---           ┆ ---          ┆   ┆ ---        ┆ ---        ┆ ---      ┆ ---          │\n",
      "│ str           ┆ str           ┆ datetime[μs]  ┆ datetime[μs] ┆   ┆ str        ┆ str        ┆ str      ┆ duration[μs] │\n",
      "╞═══════════════╪═══════════════╪═══════════════╪══════════════╪═══╪════════════╪════════════╪══════════╪══════════════╡\n",
      "│ 0C94B9855F6B7 ┆ classic_bike  ┆ 2024-01-18    ┆ 2024-01-18   ┆ … ┆ 16:41:31   ┆ 2024-01-18 ┆ 16:43:05 ┆ 1m 34s       │\n",
      "│ 0CA           ┆               ┆ 16:41:31      ┆ 16:43:05     ┆   ┆            ┆            ┆          ┆              │\n",
      "│ BD70C53ED25F6 ┆ classic_bike  ┆ 2024-01-11    ┆ 2024-01-11   ┆ … ┆ 14:38:22   ┆ 2024-01-11 ┆ 14:39:29 ┆ 1m 7s        │\n",
      "│ F5A           ┆               ┆ 14:38:22      ┆ 14:39:29     ┆   ┆            ┆            ┆          ┆              │\n",
      "│ 48D418655F81D ┆ classic_bike  ┆ 2024-01-11    ┆ 2024-01-11   ┆ … ┆ 14:42:02   ┆ 2024-01-11 ┆ 14:43:18 ┆ 1m 16s       │\n",
      "│ 517           ┆               ┆ 14:42:02      ┆ 14:43:18     ┆   ┆            ┆            ┆          ┆              │\n",
      "│ AFE5DAE93F605 ┆ electric_bike ┆ 2024-01-29    ┆ 2024-01-29   ┆ … ┆ 10:14:17   ┆ 2024-01-29 ┆ 10:16:13 ┆ 1m 56s       │\n",
      "│ E71           ┆               ┆ 10:14:17      ┆ 10:16:13     ┆   ┆            ┆            ┆          ┆              │\n",
      "│ 61A9D9377D583 ┆ electric_bike ┆ 2024-01-01    ┆ 2024-01-01   ┆ … ┆ 15:50:04   ┆ 2024-01-01 ┆ 15:51:02 ┆ 58s          │\n",
      "│ 9AB           ┆               ┆ 15:50:04      ┆ 15:51:02     ┆   ┆            ┆            ┆          ┆              │\n",
      "│ …             ┆ …             ┆ …             ┆ …            ┆ … ┆ …          ┆ …          ┆ …        ┆ …            │\n",
      "│ D02A7ACA7CC32 ┆ electric_bike ┆ 2024-12-16    ┆ 2024-12-16   ┆ … ┆ 09:04:06   ┆ 2024-12-16 ┆ 09:04:48 ┆ 42s          │\n",
      "│ 3D8           ┆               ┆ 09:04:06      ┆ 09:04:48     ┆   ┆            ┆            ┆          ┆              │\n",
      "│ 58C7FC0A29501 ┆ electric_bike ┆ 2024-12-12    ┆ 2024-12-12   ┆ … ┆ 07:53:42   ┆ 2024-12-12 ┆ 07:54:20 ┆ 38s          │\n",
      "│ E13           ┆               ┆ 07:53:42      ┆ 07:54:20     ┆   ┆            ┆            ┆          ┆              │\n",
      "│ DC97B72779FB2 ┆ electric_bike ┆ 2024-12-10    ┆ 2024-12-10   ┆ … ┆ 11:25:01   ┆ 2024-12-10 ┆ 11:26:42 ┆ 1m 41s       │\n",
      "│ 9C1           ┆               ┆ 11:25:01      ┆ 11:26:42     ┆   ┆            ┆            ┆          ┆              │\n",
      "│ 6742C35D41E99 ┆ electric_bike ┆ 2024-12-08    ┆ 2024-12-08   ┆ … ┆ 11:04:15   ┆ 2024-12-08 ┆ 11:05:51 ┆ 1m 36s       │\n",
      "│ 272           ┆               ┆ 11:04:15      ┆ 11:05:51     ┆   ┆            ┆            ┆          ┆              │\n",
      "│ 8696F59FBF091 ┆ electric_bike ┆ 2024-12-17    ┆ 2024-12-17   ┆ … ┆ 19:22:40   ┆ 2024-12-17 ┆ 19:24:15 ┆ 1m 35s       │\n",
      "│ A21           ┆               ┆ 19:22:40      ┆ 19:24:15     ┆   ┆            ┆            ┆          ┆              │\n",
      "└───────────────┴───────────────┴───────────────┴──────────────┴───┴────────────┴────────────┴──────────┴──────────────┘\n"
     ]
    }
   ],
   "source": [
    "df_filtered = df_cleaned.filter(pl.col(\"duration\") < pl.duration(seconds=120))\n",
    "\n",
    "print(df_filtered)\n"
   ]
  },
  {
   "cell_type": "code",
   "execution_count": 25,
   "id": "c613d2af-2d04-4913-81e8-9dc895c36329",
   "metadata": {},
   "outputs": [
    {
     "name": "stdout",
     "output_type": "stream",
     "text": [
      "shape: (5_853_336, 17)\n",
      "┌───────────────┬──────────────┬──────────────┬──────────────┬───┬────────────┬──────────┬──────────────┬──────────────┐\n",
      "│ ride_id       ┆ rideable_typ ┆ started_at   ┆ ended_at     ┆ … ┆ end_date   ┆ end_time ┆ duration     ┆ ride_validit │\n",
      "│ ---           ┆ e            ┆ ---          ┆ ---          ┆   ┆ ---        ┆ ---      ┆ ---          ┆ y            │\n",
      "│ str           ┆ ---          ┆ datetime[μs] ┆ datetime[μs] ┆   ┆ str        ┆ str      ┆ duration[μs] ┆ ---          │\n",
      "│               ┆ str          ┆              ┆              ┆   ┆            ┆          ┆              ┆ str          │\n",
      "╞═══════════════╪══════════════╪══════════════╪══════════════╪═══╪════════════╪══════════╪══════════════╪══════════════╡\n",
      "│ C1D650626C8C8 ┆ electric_bik ┆ 2024-01-12   ┆ 2024-01-12   ┆ … ┆ 2024-01-12 ┆ 15:37:59 ┆ 7m 32s       ┆ Fair         │\n",
      "│ 99A           ┆ e            ┆ 15:30:27     ┆ 15:37:59     ┆   ┆            ┆          ┆              ┆              │\n",
      "│ EECD38BDB25BF ┆ electric_bik ┆ 2024-01-08   ┆ 2024-01-08   ┆ … ┆ 2024-01-08 ┆ 15:52:59 ┆ 7m 13s       ┆ Fair         │\n",
      "│ CB0           ┆ e            ┆ 15:45:46     ┆ 15:52:59     ┆   ┆            ┆          ┆              ┆              │\n",
      "│ F4A9CE78061F1 ┆ electric_bik ┆ 2024-01-27   ┆ 2024-01-27   ┆ … ┆ 2024-01-27 ┆ 12:35:19 ┆ 8m           ┆ Fair         │\n",
      "│ 7F7           ┆ e            ┆ 12:27:19     ┆ 12:35:19     ┆   ┆            ┆          ┆              ┆              │\n",
      "│ 0A0D9E15EE50B ┆ classic_bike ┆ 2024-01-29   ┆ 2024-01-29   ┆ … ┆ 2024-01-29 ┆ 16:56:06 ┆ 29m 49s      ┆ Fair         │\n",
      "│ 171           ┆              ┆ 16:26:17     ┆ 16:56:06     ┆   ┆            ┆          ┆              ┆              │\n",
      "│ 33FFC9805E3EF ┆ classic_bike ┆ 2024-01-31   ┆ 2024-01-31   ┆ … ┆ 2024-01-31 ┆ 06:09:35 ┆ 26m 12s      ┆ Fair         │\n",
      "│ F9A           ┆              ┆ 05:43:23     ┆ 06:09:35     ┆   ┆            ┆          ┆              ┆              │\n",
      "│ …             ┆ …            ┆ …            ┆ …            ┆ … ┆ …          ┆ …        ┆ …            ┆ …            │\n",
      "│ BD56BA20F42E4 ┆ electric_bik ┆ 2024-12-11   ┆ 2024-12-11   ┆ … ┆ 2024-12-11 ┆ 08:37:34 ┆ 13m 48s      ┆ Fair         │\n",
      "│ 794           ┆ e            ┆ 08:23:46     ┆ 08:37:34     ┆   ┆            ┆          ┆              ┆              │\n",
      "│ 3074643A6B60B ┆ electric_bik ┆ 2024-12-09   ┆ 2024-12-09   ┆ … ┆ 2024-12-09 ┆ 12:37:32 ┆ 11m 17s      ┆ Fair         │\n",
      "│ 300           ┆ e            ┆ 12:26:15     ┆ 12:37:32     ┆   ┆            ┆          ┆              ┆              │\n",
      "│ 15602635C5DF4 ┆ electric_bik ┆ 2024-12-31   ┆ 2024-12-31   ┆ … ┆ 2024-12-31 ┆ 17:17:21 ┆ 7m 18s       ┆ Fair         │\n",
      "│ 84E           ┆ e            ┆ 17:10:03     ┆ 17:17:21     ┆   ┆            ┆          ┆              ┆              │\n",
      "│ F15ABBA961560 ┆ electric_bik ┆ 2024-12-01   ┆ 2024-12-01   ┆ … ┆ 2024-12-01 ┆ 14:45:21 ┆ 5m 34s       ┆ Fair         │\n",
      "│ B75           ┆ e            ┆ 14:39:47     ┆ 14:45:21     ┆   ┆            ┆          ┆              ┆              │\n",
      "│ 8AF273287533B ┆ electric_bik ┆ 2024-12-17   ┆ 2024-12-17   ┆ … ┆ 2024-12-17 ┆ 06:46:27 ┆ 7m 55s       ┆ Fair         │\n",
      "│ 527           ┆ e            ┆ 06:38:32     ┆ 06:46:27     ┆   ┆            ┆          ┆              ┆              │\n",
      "└───────────────┴──────────────┴──────────────┴──────────────┴───┴────────────┴──────────┴──────────────┴──────────────┘\n"
     ]
    }
   ],
   "source": [
    "df_filtered = df_cleaned.with_columns(\n",
    "    pl.when(pl.col(\"duration\") < pl.duration(minutes=2))\n",
    "    .then(pl.lit(\"Suspicious\"))\n",
    "    .otherwise(pl.lit(\"Fair\"))\n",
    "    .alias(\"ride_validity\")\n",
    ")\n",
    "\n",
    "print(df_filtered)\n"
   ]
  },
  {
   "cell_type": "code",
   "execution_count": 27,
   "id": "985c3b98-6ca6-4258-a72c-30a58a90c521",
   "metadata": {},
   "outputs": [],
   "source": [
    "df_cleaned = df_cleaned.with_columns([\n",
    "    df_cleaned[\"started_at\"].dt.truncate(\"1s\").alias(\"started_at\"),\n",
    "    df_cleaned[\"ended_at\"].dt.truncate(\"1s\").alias(\"ended_at\")\n",
    "])\n"
   ]
  },
  {
   "cell_type": "code",
   "execution_count": 29,
   "id": "48074530-3449-4f31-8744-2378aee93992",
   "metadata": {},
   "outputs": [],
   "source": [
    "df = df_filtered.clone()"
   ]
  },
  {
   "cell_type": "code",
   "execution_count": 31,
   "id": "fa5c313f-f8dd-4e11-b420-ed4a30557cce",
   "metadata": {},
   "outputs": [
    {
     "data": {
      "text/html": [
       "<div><style>\n",
       ".dataframe > thead > tr,\n",
       ".dataframe > tbody > tr {\n",
       "  text-align: right;\n",
       "  white-space: pre-wrap;\n",
       "}\n",
       "</style>\n",
       "<small>shape: (5_853_336, 17)</small><table border=\"1\" class=\"dataframe\"><thead><tr><th>ride_id</th><th>rideable_type</th><th>started_at</th><th>ended_at</th><th>start_station_name</th><th>end_station_name</th><th>start_lat</th><th>start_lng</th><th>end_lat</th><th>end_lng</th><th>member_casual</th><th>start_date</th><th>start_time</th><th>end_date</th><th>end_time</th><th>duration</th><th>ride_validity</th></tr><tr><td>str</td><td>str</td><td>datetime[μs]</td><td>datetime[μs]</td><td>str</td><td>str</td><td>str</td><td>str</td><td>str</td><td>str</td><td>str</td><td>str</td><td>str</td><td>str</td><td>str</td><td>duration[μs]</td><td>str</td></tr></thead><tbody><tr><td>&quot;C1D650626C8C899A&quot;</td><td>&quot;electric_bike&quot;</td><td>2024-01-12 15:30:27</td><td>2024-01-12 15:37:59</td><td>&quot;Wells St &amp; Elm St&quot;</td><td>&quot;Kingsbury St &amp; Kinzie St&quot;</td><td>&quot;41.903267384&quot;</td><td>&quot;-87.634736776&quot;</td><td>&quot;41.88917683258&quot;</td><td>&quot;-87.6385057718&quot;</td><td>&quot;member&quot;</td><td>&quot;2024-01-12&quot;</td><td>&quot;15:30:27&quot;</td><td>&quot;2024-01-12&quot;</td><td>&quot;15:37:59&quot;</td><td>7m 32s</td><td>&quot;Fair&quot;</td></tr><tr><td>&quot;EECD38BDB25BFCB0&quot;</td><td>&quot;electric_bike&quot;</td><td>2024-01-08 15:45:46</td><td>2024-01-08 15:52:59</td><td>&quot;Wells St &amp; Elm St&quot;</td><td>&quot;Kingsbury St &amp; Kinzie St&quot;</td><td>&quot;41.9029365&quot;</td><td>&quot;-87.63444016666666&quot;</td><td>&quot;41.88917683258&quot;</td><td>&quot;-87.6385057718&quot;</td><td>&quot;member&quot;</td><td>&quot;2024-01-08&quot;</td><td>&quot;15:45:46&quot;</td><td>&quot;2024-01-08&quot;</td><td>&quot;15:52:59&quot;</td><td>7m 13s</td><td>&quot;Fair&quot;</td></tr><tr><td>&quot;F4A9CE78061F17F7&quot;</td><td>&quot;electric_bike&quot;</td><td>2024-01-27 12:27:19</td><td>2024-01-27 12:35:19</td><td>&quot;Wells St &amp; Elm St&quot;</td><td>&quot;Kingsbury St &amp; Kinzie St&quot;</td><td>&quot;41.902951333333334&quot;</td><td>&quot;-87.63447033333334&quot;</td><td>&quot;41.88917683258&quot;</td><td>&quot;-87.6385057718&quot;</td><td>&quot;member&quot;</td><td>&quot;2024-01-27&quot;</td><td>&quot;12:27:19&quot;</td><td>&quot;2024-01-27&quot;</td><td>&quot;12:35:19&quot;</td><td>8m</td><td>&quot;Fair&quot;</td></tr><tr><td>&quot;0A0D9E15EE50B171&quot;</td><td>&quot;classic_bike&quot;</td><td>2024-01-29 16:26:17</td><td>2024-01-29 16:56:06</td><td>&quot;Wells St &amp; Randolph St&quot;</td><td>&quot;Larrabee St &amp; Webster Ave&quot;</td><td>&quot;41.884295&quot;</td><td>&quot;-87.633963&quot;</td><td>&quot;41.921822&quot;</td><td>&quot;-87.64414&quot;</td><td>&quot;member&quot;</td><td>&quot;2024-01-29&quot;</td><td>&quot;16:26:17&quot;</td><td>&quot;2024-01-29&quot;</td><td>&quot;16:56:06&quot;</td><td>29m 49s</td><td>&quot;Fair&quot;</td></tr><tr><td>&quot;33FFC9805E3EFF9A&quot;</td><td>&quot;classic_bike&quot;</td><td>2024-01-31 05:43:23</td><td>2024-01-31 06:09:35</td><td>&quot;Lincoln Ave &amp; Waveland Ave&quot;</td><td>&quot;Kingsbury St &amp; Kinzie St&quot;</td><td>&quot;41.948797&quot;</td><td>&quot;-87.675278&quot;</td><td>&quot;41.88917683258&quot;</td><td>&quot;-87.6385057718&quot;</td><td>&quot;member&quot;</td><td>&quot;2024-01-31&quot;</td><td>&quot;05:43:23&quot;</td><td>&quot;2024-01-31&quot;</td><td>&quot;06:09:35&quot;</td><td>26m 12s</td><td>&quot;Fair&quot;</td></tr><tr><td>&hellip;</td><td>&hellip;</td><td>&hellip;</td><td>&hellip;</td><td>&hellip;</td><td>&hellip;</td><td>&hellip;</td><td>&hellip;</td><td>&hellip;</td><td>&hellip;</td><td>&hellip;</td><td>&hellip;</td><td>&hellip;</td><td>&hellip;</td><td>&hellip;</td><td>&hellip;</td><td>&hellip;</td></tr><tr><td>&quot;BD56BA20F42E4794&quot;</td><td>&quot;electric_bike&quot;</td><td>2024-12-11 08:23:46</td><td>2024-12-11 08:37:34</td><td>&quot;Clybourn Ave &amp; Division St&quot;</td><td>null</td><td>&quot;41.904633522&quot;</td><td>&quot;-87.64051795&quot;</td><td>&quot;41.88&quot;</td><td>&quot;-87.63&quot;</td><td>&quot;member&quot;</td><td>&quot;2024-12-11&quot;</td><td>&quot;08:23:46&quot;</td><td>&quot;2024-12-11&quot;</td><td>&quot;08:37:34&quot;</td><td>13m 48s</td><td>&quot;Fair&quot;</td></tr><tr><td>&quot;3074643A6B60B300&quot;</td><td>&quot;electric_bike&quot;</td><td>2024-12-09 12:26:15</td><td>2024-12-09 12:37:32</td><td>&quot;Canal St &amp; Jackson Blvd&quot;</td><td>null</td><td>&quot;41.878125&quot;</td><td>&quot;-87.639968&quot;</td><td>&quot;41.9&quot;</td><td>&quot;-87.62&quot;</td><td>&quot;member&quot;</td><td>&quot;2024-12-09&quot;</td><td>&quot;12:26:15&quot;</td><td>&quot;2024-12-09&quot;</td><td>&quot;12:37:32&quot;</td><td>11m 17s</td><td>&quot;Fair&quot;</td></tr><tr><td>&quot;15602635C5DF484E&quot;</td><td>&quot;electric_bike&quot;</td><td>2024-12-31 17:10:03</td><td>2024-12-31 17:17:21</td><td>&quot;Albany Ave &amp; Bloomingdale Ave&quot;</td><td>&quot;California Ave &amp; Milwaukee Ave&quot;</td><td>&quot;41.91402671273&quot;</td><td>&quot;-87.705126462&quot;</td><td>&quot;41.922695&quot;</td><td>&quot;-87.697153&quot;</td><td>&quot;member&quot;</td><td>&quot;2024-12-31&quot;</td><td>&quot;17:10:03&quot;</td><td>&quot;2024-12-31&quot;</td><td>&quot;17:17:21&quot;</td><td>7m 18s</td><td>&quot;Fair&quot;</td></tr><tr><td>&quot;F15ABBA961560B75&quot;</td><td>&quot;electric_bike&quot;</td><td>2024-12-01 14:39:47</td><td>2024-12-01 14:45:21</td><td>&quot;Albany Ave &amp; Bloomingdale Ave&quot;</td><td>&quot;California Ave &amp; Milwaukee Ave&quot;</td><td>&quot;41.914002657&quot;</td><td>&quot;-87.705099225&quot;</td><td>&quot;41.922695&quot;</td><td>&quot;-87.697153&quot;</td><td>&quot;member&quot;</td><td>&quot;2024-12-01&quot;</td><td>&quot;14:39:47&quot;</td><td>&quot;2024-12-01&quot;</td><td>&quot;14:45:21&quot;</td><td>5m 34s</td><td>&quot;Fair&quot;</td></tr><tr><td>&quot;8AF273287533B527&quot;</td><td>&quot;electric_bike&quot;</td><td>2024-12-17 06:38:32</td><td>2024-12-17 06:46:27</td><td>&quot;Albany Ave &amp; Bloomingdale Ave&quot;</td><td>null</td><td>&quot;41.91402671273&quot;</td><td>&quot;-87.705126462&quot;</td><td>&quot;41.92&quot;</td><td>&quot;-87.69&quot;</td><td>&quot;member&quot;</td><td>&quot;2024-12-17&quot;</td><td>&quot;06:38:32&quot;</td><td>&quot;2024-12-17&quot;</td><td>&quot;06:46:27&quot;</td><td>7m 55s</td><td>&quot;Fair&quot;</td></tr></tbody></table></div>"
      ],
      "text/plain": [
       "shape: (5_853_336, 17)\n",
       "┌───────────────┬──────────────┬──────────────┬──────────────┬───┬────────────┬──────────┬──────────────┬──────────────┐\n",
       "│ ride_id       ┆ rideable_typ ┆ started_at   ┆ ended_at     ┆ … ┆ end_date   ┆ end_time ┆ duration     ┆ ride_validit │\n",
       "│ ---           ┆ e            ┆ ---          ┆ ---          ┆   ┆ ---        ┆ ---      ┆ ---          ┆ y            │\n",
       "│ str           ┆ ---          ┆ datetime[μs] ┆ datetime[μs] ┆   ┆ str        ┆ str      ┆ duration[μs] ┆ ---          │\n",
       "│               ┆ str          ┆              ┆              ┆   ┆            ┆          ┆              ┆ str          │\n",
       "╞═══════════════╪══════════════╪══════════════╪══════════════╪═══╪════════════╪══════════╪══════════════╪══════════════╡\n",
       "│ C1D650626C8C8 ┆ electric_bik ┆ 2024-01-12   ┆ 2024-01-12   ┆ … ┆ 2024-01-12 ┆ 15:37:59 ┆ 7m 32s       ┆ Fair         │\n",
       "│ 99A           ┆ e            ┆ 15:30:27     ┆ 15:37:59     ┆   ┆            ┆          ┆              ┆              │\n",
       "│ EECD38BDB25BF ┆ electric_bik ┆ 2024-01-08   ┆ 2024-01-08   ┆ … ┆ 2024-01-08 ┆ 15:52:59 ┆ 7m 13s       ┆ Fair         │\n",
       "│ CB0           ┆ e            ┆ 15:45:46     ┆ 15:52:59     ┆   ┆            ┆          ┆              ┆              │\n",
       "│ F4A9CE78061F1 ┆ electric_bik ┆ 2024-01-27   ┆ 2024-01-27   ┆ … ┆ 2024-01-27 ┆ 12:35:19 ┆ 8m           ┆ Fair         │\n",
       "│ 7F7           ┆ e            ┆ 12:27:19     ┆ 12:35:19     ┆   ┆            ┆          ┆              ┆              │\n",
       "│ 0A0D9E15EE50B ┆ classic_bike ┆ 2024-01-29   ┆ 2024-01-29   ┆ … ┆ 2024-01-29 ┆ 16:56:06 ┆ 29m 49s      ┆ Fair         │\n",
       "│ 171           ┆              ┆ 16:26:17     ┆ 16:56:06     ┆   ┆            ┆          ┆              ┆              │\n",
       "│ 33FFC9805E3EF ┆ classic_bike ┆ 2024-01-31   ┆ 2024-01-31   ┆ … ┆ 2024-01-31 ┆ 06:09:35 ┆ 26m 12s      ┆ Fair         │\n",
       "│ F9A           ┆              ┆ 05:43:23     ┆ 06:09:35     ┆   ┆            ┆          ┆              ┆              │\n",
       "│ …             ┆ …            ┆ …            ┆ …            ┆ … ┆ …          ┆ …        ┆ …            ┆ …            │\n",
       "│ BD56BA20F42E4 ┆ electric_bik ┆ 2024-12-11   ┆ 2024-12-11   ┆ … ┆ 2024-12-11 ┆ 08:37:34 ┆ 13m 48s      ┆ Fair         │\n",
       "│ 794           ┆ e            ┆ 08:23:46     ┆ 08:37:34     ┆   ┆            ┆          ┆              ┆              │\n",
       "│ 3074643A6B60B ┆ electric_bik ┆ 2024-12-09   ┆ 2024-12-09   ┆ … ┆ 2024-12-09 ┆ 12:37:32 ┆ 11m 17s      ┆ Fair         │\n",
       "│ 300           ┆ e            ┆ 12:26:15     ┆ 12:37:32     ┆   ┆            ┆          ┆              ┆              │\n",
       "│ 15602635C5DF4 ┆ electric_bik ┆ 2024-12-31   ┆ 2024-12-31   ┆ … ┆ 2024-12-31 ┆ 17:17:21 ┆ 7m 18s       ┆ Fair         │\n",
       "│ 84E           ┆ e            ┆ 17:10:03     ┆ 17:17:21     ┆   ┆            ┆          ┆              ┆              │\n",
       "│ F15ABBA961560 ┆ electric_bik ┆ 2024-12-01   ┆ 2024-12-01   ┆ … ┆ 2024-12-01 ┆ 14:45:21 ┆ 5m 34s       ┆ Fair         │\n",
       "│ B75           ┆ e            ┆ 14:39:47     ┆ 14:45:21     ┆   ┆            ┆          ┆              ┆              │\n",
       "│ 8AF273287533B ┆ electric_bik ┆ 2024-12-17   ┆ 2024-12-17   ┆ … ┆ 2024-12-17 ┆ 06:46:27 ┆ 7m 55s       ┆ Fair         │\n",
       "│ 527           ┆ e            ┆ 06:38:32     ┆ 06:46:27     ┆   ┆            ┆          ┆              ┆              │\n",
       "└───────────────┴──────────────┴──────────────┴──────────────┴───┴────────────┴──────────┴──────────────┴──────────────┘"
      ]
     },
     "execution_count": 31,
     "metadata": {},
     "output_type": "execute_result"
    }
   ],
   "source": [
    "df"
   ]
  },
  {
   "cell_type": "code",
   "execution_count": 33,
   "id": "adca5877-1cbf-435c-b39a-d4cd1cb9fac9",
   "metadata": {},
   "outputs": [],
   "source": [
    "data_1 = df.clone()"
   ]
  },
  {
   "cell_type": "code",
   "execution_count": 35,
   "id": "803a0f18-5884-4d99-b6c4-359956865066",
   "metadata": {},
   "outputs": [
    {
     "data": {
      "text/html": [
       "<div><style>\n",
       ".dataframe > thead > tr,\n",
       ".dataframe > tbody > tr {\n",
       "  text-align: right;\n",
       "  white-space: pre-wrap;\n",
       "}\n",
       "</style>\n",
       "<small>shape: (5_853_336, 17)</small><table border=\"1\" class=\"dataframe\"><thead><tr><th>ride_id</th><th>rideable_type</th><th>started_at</th><th>ended_at</th><th>start_station_name</th><th>end_station_name</th><th>start_lat</th><th>start_lng</th><th>end_lat</th><th>end_lng</th><th>member_casual</th><th>start_date</th><th>start_time</th><th>end_date</th><th>end_time</th><th>duration</th><th>ride_validity</th></tr><tr><td>str</td><td>str</td><td>datetime[μs]</td><td>datetime[μs]</td><td>str</td><td>str</td><td>str</td><td>str</td><td>str</td><td>str</td><td>str</td><td>str</td><td>str</td><td>str</td><td>str</td><td>duration[μs]</td><td>str</td></tr></thead><tbody><tr><td>&quot;C1D650626C8C899A&quot;</td><td>&quot;electric_bike&quot;</td><td>2024-01-12 15:30:27</td><td>2024-01-12 15:37:59</td><td>&quot;Wells St &amp; Elm St&quot;</td><td>&quot;Kingsbury St &amp; Kinzie St&quot;</td><td>&quot;41.903267384&quot;</td><td>&quot;-87.634736776&quot;</td><td>&quot;41.88917683258&quot;</td><td>&quot;-87.6385057718&quot;</td><td>&quot;member&quot;</td><td>&quot;2024-01-12&quot;</td><td>&quot;15:30:27&quot;</td><td>&quot;2024-01-12&quot;</td><td>&quot;15:37:59&quot;</td><td>7m 32s</td><td>&quot;Fair&quot;</td></tr><tr><td>&quot;EECD38BDB25BFCB0&quot;</td><td>&quot;electric_bike&quot;</td><td>2024-01-08 15:45:46</td><td>2024-01-08 15:52:59</td><td>&quot;Wells St &amp; Elm St&quot;</td><td>&quot;Kingsbury St &amp; Kinzie St&quot;</td><td>&quot;41.9029365&quot;</td><td>&quot;-87.63444016666666&quot;</td><td>&quot;41.88917683258&quot;</td><td>&quot;-87.6385057718&quot;</td><td>&quot;member&quot;</td><td>&quot;2024-01-08&quot;</td><td>&quot;15:45:46&quot;</td><td>&quot;2024-01-08&quot;</td><td>&quot;15:52:59&quot;</td><td>7m 13s</td><td>&quot;Fair&quot;</td></tr><tr><td>&quot;F4A9CE78061F17F7&quot;</td><td>&quot;electric_bike&quot;</td><td>2024-01-27 12:27:19</td><td>2024-01-27 12:35:19</td><td>&quot;Wells St &amp; Elm St&quot;</td><td>&quot;Kingsbury St &amp; Kinzie St&quot;</td><td>&quot;41.902951333333334&quot;</td><td>&quot;-87.63447033333334&quot;</td><td>&quot;41.88917683258&quot;</td><td>&quot;-87.6385057718&quot;</td><td>&quot;member&quot;</td><td>&quot;2024-01-27&quot;</td><td>&quot;12:27:19&quot;</td><td>&quot;2024-01-27&quot;</td><td>&quot;12:35:19&quot;</td><td>8m</td><td>&quot;Fair&quot;</td></tr><tr><td>&quot;0A0D9E15EE50B171&quot;</td><td>&quot;classic_bike&quot;</td><td>2024-01-29 16:26:17</td><td>2024-01-29 16:56:06</td><td>&quot;Wells St &amp; Randolph St&quot;</td><td>&quot;Larrabee St &amp; Webster Ave&quot;</td><td>&quot;41.884295&quot;</td><td>&quot;-87.633963&quot;</td><td>&quot;41.921822&quot;</td><td>&quot;-87.64414&quot;</td><td>&quot;member&quot;</td><td>&quot;2024-01-29&quot;</td><td>&quot;16:26:17&quot;</td><td>&quot;2024-01-29&quot;</td><td>&quot;16:56:06&quot;</td><td>29m 49s</td><td>&quot;Fair&quot;</td></tr><tr><td>&quot;33FFC9805E3EFF9A&quot;</td><td>&quot;classic_bike&quot;</td><td>2024-01-31 05:43:23</td><td>2024-01-31 06:09:35</td><td>&quot;Lincoln Ave &amp; Waveland Ave&quot;</td><td>&quot;Kingsbury St &amp; Kinzie St&quot;</td><td>&quot;41.948797&quot;</td><td>&quot;-87.675278&quot;</td><td>&quot;41.88917683258&quot;</td><td>&quot;-87.6385057718&quot;</td><td>&quot;member&quot;</td><td>&quot;2024-01-31&quot;</td><td>&quot;05:43:23&quot;</td><td>&quot;2024-01-31&quot;</td><td>&quot;06:09:35&quot;</td><td>26m 12s</td><td>&quot;Fair&quot;</td></tr><tr><td>&hellip;</td><td>&hellip;</td><td>&hellip;</td><td>&hellip;</td><td>&hellip;</td><td>&hellip;</td><td>&hellip;</td><td>&hellip;</td><td>&hellip;</td><td>&hellip;</td><td>&hellip;</td><td>&hellip;</td><td>&hellip;</td><td>&hellip;</td><td>&hellip;</td><td>&hellip;</td><td>&hellip;</td></tr><tr><td>&quot;BD56BA20F42E4794&quot;</td><td>&quot;electric_bike&quot;</td><td>2024-12-11 08:23:46</td><td>2024-12-11 08:37:34</td><td>&quot;Clybourn Ave &amp; Division St&quot;</td><td>null</td><td>&quot;41.904633522&quot;</td><td>&quot;-87.64051795&quot;</td><td>&quot;41.88&quot;</td><td>&quot;-87.63&quot;</td><td>&quot;member&quot;</td><td>&quot;2024-12-11&quot;</td><td>&quot;08:23:46&quot;</td><td>&quot;2024-12-11&quot;</td><td>&quot;08:37:34&quot;</td><td>13m 48s</td><td>&quot;Fair&quot;</td></tr><tr><td>&quot;3074643A6B60B300&quot;</td><td>&quot;electric_bike&quot;</td><td>2024-12-09 12:26:15</td><td>2024-12-09 12:37:32</td><td>&quot;Canal St &amp; Jackson Blvd&quot;</td><td>null</td><td>&quot;41.878125&quot;</td><td>&quot;-87.639968&quot;</td><td>&quot;41.9&quot;</td><td>&quot;-87.62&quot;</td><td>&quot;member&quot;</td><td>&quot;2024-12-09&quot;</td><td>&quot;12:26:15&quot;</td><td>&quot;2024-12-09&quot;</td><td>&quot;12:37:32&quot;</td><td>11m 17s</td><td>&quot;Fair&quot;</td></tr><tr><td>&quot;15602635C5DF484E&quot;</td><td>&quot;electric_bike&quot;</td><td>2024-12-31 17:10:03</td><td>2024-12-31 17:17:21</td><td>&quot;Albany Ave &amp; Bloomingdale Ave&quot;</td><td>&quot;California Ave &amp; Milwaukee Ave&quot;</td><td>&quot;41.91402671273&quot;</td><td>&quot;-87.705126462&quot;</td><td>&quot;41.922695&quot;</td><td>&quot;-87.697153&quot;</td><td>&quot;member&quot;</td><td>&quot;2024-12-31&quot;</td><td>&quot;17:10:03&quot;</td><td>&quot;2024-12-31&quot;</td><td>&quot;17:17:21&quot;</td><td>7m 18s</td><td>&quot;Fair&quot;</td></tr><tr><td>&quot;F15ABBA961560B75&quot;</td><td>&quot;electric_bike&quot;</td><td>2024-12-01 14:39:47</td><td>2024-12-01 14:45:21</td><td>&quot;Albany Ave &amp; Bloomingdale Ave&quot;</td><td>&quot;California Ave &amp; Milwaukee Ave&quot;</td><td>&quot;41.914002657&quot;</td><td>&quot;-87.705099225&quot;</td><td>&quot;41.922695&quot;</td><td>&quot;-87.697153&quot;</td><td>&quot;member&quot;</td><td>&quot;2024-12-01&quot;</td><td>&quot;14:39:47&quot;</td><td>&quot;2024-12-01&quot;</td><td>&quot;14:45:21&quot;</td><td>5m 34s</td><td>&quot;Fair&quot;</td></tr><tr><td>&quot;8AF273287533B527&quot;</td><td>&quot;electric_bike&quot;</td><td>2024-12-17 06:38:32</td><td>2024-12-17 06:46:27</td><td>&quot;Albany Ave &amp; Bloomingdale Ave&quot;</td><td>null</td><td>&quot;41.91402671273&quot;</td><td>&quot;-87.705126462&quot;</td><td>&quot;41.92&quot;</td><td>&quot;-87.69&quot;</td><td>&quot;member&quot;</td><td>&quot;2024-12-17&quot;</td><td>&quot;06:38:32&quot;</td><td>&quot;2024-12-17&quot;</td><td>&quot;06:46:27&quot;</td><td>7m 55s</td><td>&quot;Fair&quot;</td></tr></tbody></table></div>"
      ],
      "text/plain": [
       "shape: (5_853_336, 17)\n",
       "┌───────────────┬──────────────┬──────────────┬──────────────┬───┬────────────┬──────────┬──────────────┬──────────────┐\n",
       "│ ride_id       ┆ rideable_typ ┆ started_at   ┆ ended_at     ┆ … ┆ end_date   ┆ end_time ┆ duration     ┆ ride_validit │\n",
       "│ ---           ┆ e            ┆ ---          ┆ ---          ┆   ┆ ---        ┆ ---      ┆ ---          ┆ y            │\n",
       "│ str           ┆ ---          ┆ datetime[μs] ┆ datetime[μs] ┆   ┆ str        ┆ str      ┆ duration[μs] ┆ ---          │\n",
       "│               ┆ str          ┆              ┆              ┆   ┆            ┆          ┆              ┆ str          │\n",
       "╞═══════════════╪══════════════╪══════════════╪══════════════╪═══╪════════════╪══════════╪══════════════╪══════════════╡\n",
       "│ C1D650626C8C8 ┆ electric_bik ┆ 2024-01-12   ┆ 2024-01-12   ┆ … ┆ 2024-01-12 ┆ 15:37:59 ┆ 7m 32s       ┆ Fair         │\n",
       "│ 99A           ┆ e            ┆ 15:30:27     ┆ 15:37:59     ┆   ┆            ┆          ┆              ┆              │\n",
       "│ EECD38BDB25BF ┆ electric_bik ┆ 2024-01-08   ┆ 2024-01-08   ┆ … ┆ 2024-01-08 ┆ 15:52:59 ┆ 7m 13s       ┆ Fair         │\n",
       "│ CB0           ┆ e            ┆ 15:45:46     ┆ 15:52:59     ┆   ┆            ┆          ┆              ┆              │\n",
       "│ F4A9CE78061F1 ┆ electric_bik ┆ 2024-01-27   ┆ 2024-01-27   ┆ … ┆ 2024-01-27 ┆ 12:35:19 ┆ 8m           ┆ Fair         │\n",
       "│ 7F7           ┆ e            ┆ 12:27:19     ┆ 12:35:19     ┆   ┆            ┆          ┆              ┆              │\n",
       "│ 0A0D9E15EE50B ┆ classic_bike ┆ 2024-01-29   ┆ 2024-01-29   ┆ … ┆ 2024-01-29 ┆ 16:56:06 ┆ 29m 49s      ┆ Fair         │\n",
       "│ 171           ┆              ┆ 16:26:17     ┆ 16:56:06     ┆   ┆            ┆          ┆              ┆              │\n",
       "│ 33FFC9805E3EF ┆ classic_bike ┆ 2024-01-31   ┆ 2024-01-31   ┆ … ┆ 2024-01-31 ┆ 06:09:35 ┆ 26m 12s      ┆ Fair         │\n",
       "│ F9A           ┆              ┆ 05:43:23     ┆ 06:09:35     ┆   ┆            ┆          ┆              ┆              │\n",
       "│ …             ┆ …            ┆ …            ┆ …            ┆ … ┆ …          ┆ …        ┆ …            ┆ …            │\n",
       "│ BD56BA20F42E4 ┆ electric_bik ┆ 2024-12-11   ┆ 2024-12-11   ┆ … ┆ 2024-12-11 ┆ 08:37:34 ┆ 13m 48s      ┆ Fair         │\n",
       "│ 794           ┆ e            ┆ 08:23:46     ┆ 08:37:34     ┆   ┆            ┆          ┆              ┆              │\n",
       "│ 3074643A6B60B ┆ electric_bik ┆ 2024-12-09   ┆ 2024-12-09   ┆ … ┆ 2024-12-09 ┆ 12:37:32 ┆ 11m 17s      ┆ Fair         │\n",
       "│ 300           ┆ e            ┆ 12:26:15     ┆ 12:37:32     ┆   ┆            ┆          ┆              ┆              │\n",
       "│ 15602635C5DF4 ┆ electric_bik ┆ 2024-12-31   ┆ 2024-12-31   ┆ … ┆ 2024-12-31 ┆ 17:17:21 ┆ 7m 18s       ┆ Fair         │\n",
       "│ 84E           ┆ e            ┆ 17:10:03     ┆ 17:17:21     ┆   ┆            ┆          ┆              ┆              │\n",
       "│ F15ABBA961560 ┆ electric_bik ┆ 2024-12-01   ┆ 2024-12-01   ┆ … ┆ 2024-12-01 ┆ 14:45:21 ┆ 5m 34s       ┆ Fair         │\n",
       "│ B75           ┆ e            ┆ 14:39:47     ┆ 14:45:21     ┆   ┆            ┆          ┆              ┆              │\n",
       "│ 8AF273287533B ┆ electric_bik ┆ 2024-12-17   ┆ 2024-12-17   ┆ … ┆ 2024-12-17 ┆ 06:46:27 ┆ 7m 55s       ┆ Fair         │\n",
       "│ 527           ┆ e            ┆ 06:38:32     ┆ 06:46:27     ┆   ┆            ┆          ┆              ┆              │\n",
       "└───────────────┴──────────────┴──────────────┴──────────────┴───┴────────────┴──────────┴──────────────┴──────────────┘"
      ]
     },
     "execution_count": 35,
     "metadata": {},
     "output_type": "execute_result"
    }
   ],
   "source": [
    "data_1"
   ]
  },
  {
   "cell_type": "markdown",
   "id": "be2e2ef3-fd1f-46b4-bb19-04d8e98731c8",
   "metadata": {},
   "source": [
    "##  Polars is optimized for performance, we can avoid slow row-wise operations by using a vectorized approach and efficient nearest-neighbor searches.\n",
    "\n",
    "## Instead of iterating row by row, we can use Scipy's KDTree for fast nearest-neighbor lookups. Here’s how you can implement it in Polars:"
   ]
  },
  {
   "cell_type": "code",
   "execution_count": 38,
   "id": "9ae4a6e3-950c-44e2-9690-75415c35e287",
   "metadata": {},
   "outputs": [
    {
     "name": "stderr",
     "output_type": "stream",
     "text": [
      "C:\\Users\\Sowjanya\\AppData\\Local\\Temp\\ipykernel_17608\\1136869562.py:29: SettingWithCopyWarning: \n",
      "A value is trying to be set on a copy of a slice from a DataFrame.\n",
      "Try using .loc[row_indexer,col_indexer] = value instead\n",
      "\n",
      "See the caveats in the documentation: https://pandas.pydata.org/pandas-docs/stable/user_guide/indexing.html#returning-a-view-versus-a-copy\n",
      "  missing_places[\"start_station_name\"] = valid_places.iloc[nearest_indices][\"start_station_name\"].values\n"
     ]
    },
    {
     "name": "stdout",
     "output_type": "stream",
     "text": [
      "shape: (5_853_336, 17)\n",
      "┌───────────────┬──────────────┬──────────────┬──────────────┬───┬────────────┬──────────┬──────────────┬──────────────┐\n",
      "│ ride_id       ┆ rideable_typ ┆ started_at   ┆ ended_at     ┆ … ┆ end_date   ┆ end_time ┆ duration     ┆ ride_validit │\n",
      "│ ---           ┆ e            ┆ ---          ┆ ---          ┆   ┆ ---        ┆ ---      ┆ ---          ┆ y            │\n",
      "│ str           ┆ ---          ┆ datetime[μs] ┆ datetime[μs] ┆   ┆ str        ┆ str      ┆ duration[μs] ┆ ---          │\n",
      "│               ┆ str          ┆              ┆              ┆   ┆            ┆          ┆              ┆ str          │\n",
      "╞═══════════════╪══════════════╪══════════════╪══════════════╪═══╪════════════╪══════════╪══════════════╪══════════════╡\n",
      "│ C1D650626C8C8 ┆ electric_bik ┆ 2024-01-12   ┆ 2024-01-12   ┆ … ┆ 2024-01-12 ┆ 15:37:59 ┆ 7m 32s       ┆ Fair         │\n",
      "│ 99A           ┆ e            ┆ 15:30:27     ┆ 15:37:59     ┆   ┆            ┆          ┆              ┆              │\n",
      "│ EECD38BDB25BF ┆ electric_bik ┆ 2024-01-08   ┆ 2024-01-08   ┆ … ┆ 2024-01-08 ┆ 15:52:59 ┆ 7m 13s       ┆ Fair         │\n",
      "│ CB0           ┆ e            ┆ 15:45:46     ┆ 15:52:59     ┆   ┆            ┆          ┆              ┆              │\n",
      "│ F4A9CE78061F1 ┆ electric_bik ┆ 2024-01-27   ┆ 2024-01-27   ┆ … ┆ 2024-01-27 ┆ 12:35:19 ┆ 8m           ┆ Fair         │\n",
      "│ 7F7           ┆ e            ┆ 12:27:19     ┆ 12:35:19     ┆   ┆            ┆          ┆              ┆              │\n",
      "│ 0A0D9E15EE50B ┆ classic_bike ┆ 2024-01-29   ┆ 2024-01-29   ┆ … ┆ 2024-01-29 ┆ 16:56:06 ┆ 29m 49s      ┆ Fair         │\n",
      "│ 171           ┆              ┆ 16:26:17     ┆ 16:56:06     ┆   ┆            ┆          ┆              ┆              │\n",
      "│ 33FFC9805E3EF ┆ classic_bike ┆ 2024-01-31   ┆ 2024-01-31   ┆ … ┆ 2024-01-31 ┆ 06:09:35 ┆ 26m 12s      ┆ Fair         │\n",
      "│ F9A           ┆              ┆ 05:43:23     ┆ 06:09:35     ┆   ┆            ┆          ┆              ┆              │\n",
      "│ …             ┆ …            ┆ …            ┆ …            ┆ … ┆ …          ┆ …        ┆ …            ┆ …            │\n",
      "│ BD56BA20F42E4 ┆ electric_bik ┆ 2024-12-11   ┆ 2024-12-11   ┆ … ┆ 2024-12-11 ┆ 08:37:34 ┆ 13m 48s      ┆ Fair         │\n",
      "│ 794           ┆ e            ┆ 08:23:46     ┆ 08:37:34     ┆   ┆            ┆          ┆              ┆              │\n",
      "│ 3074643A6B60B ┆ electric_bik ┆ 2024-12-09   ┆ 2024-12-09   ┆ … ┆ 2024-12-09 ┆ 12:37:32 ┆ 11m 17s      ┆ Fair         │\n",
      "│ 300           ┆ e            ┆ 12:26:15     ┆ 12:37:32     ┆   ┆            ┆          ┆              ┆              │\n",
      "│ 15602635C5DF4 ┆ electric_bik ┆ 2024-12-31   ┆ 2024-12-31   ┆ … ┆ 2024-12-31 ┆ 17:17:21 ┆ 7m 18s       ┆ Fair         │\n",
      "│ 84E           ┆ e            ┆ 17:10:03     ┆ 17:17:21     ┆   ┆            ┆          ┆              ┆              │\n",
      "│ F15ABBA961560 ┆ electric_bik ┆ 2024-12-01   ┆ 2024-12-01   ┆ … ┆ 2024-12-01 ┆ 14:45:21 ┆ 5m 34s       ┆ Fair         │\n",
      "│ B75           ┆ e            ┆ 14:39:47     ┆ 14:45:21     ┆   ┆            ┆          ┆              ┆              │\n",
      "│ 8AF273287533B ┆ electric_bik ┆ 2024-12-17   ┆ 2024-12-17   ┆ … ┆ 2024-12-17 ┆ 06:46:27 ┆ 7m 55s       ┆ Fair         │\n",
      "│ 527           ┆ e            ┆ 06:38:32     ┆ 06:46:27     ┆   ┆            ┆          ┆              ┆              │\n",
      "└───────────────┴──────────────┴──────────────┴──────────────┴───┴────────────┴──────────┴──────────────┴──────────────┘\n"
     ]
    }
   ],
   "source": [
    "import polars as pl\n",
    "import numpy as np\n",
    "from scipy.spatial import cKDTree  # Fast nearest-neighbor search\n",
    "\n",
    "def find_nearest_place_polars(df: pl.DataFrame) -> pl.DataFrame:\n",
    "    \"\"\"\n",
    "    Assigns the nearest place name to rows where 'start_station_name' is missing.\n",
    "    Uses KDTree for fast nearest-neighbor lookup.\n",
    "    \"\"\"\n",
    "\n",
    "    # Convert to Pandas for KDTree operations (only for lat/lng processing)\n",
    "    df_pandas = df.to_pandas()\n",
    "\n",
    "    # Extract valid and missing place data\n",
    "    valid_places = df_pandas[df_pandas[\"start_station_name\"].notna()]\n",
    "    missing_places = df_pandas[df_pandas[\"start_station_name\"].isna()]\n",
    "\n",
    "    # Build KDTree for fast nearest neighbor search\n",
    "    if not valid_places.empty:\n",
    "        valid_coords = np.array(list(zip(valid_places[\"start_lat\"], valid_places[\"start_lng\"])))\n",
    "        tree = cKDTree(valid_coords)\n",
    "\n",
    "        # Find nearest valid station for each missing station\n",
    "        if not missing_places.empty:\n",
    "            missing_coords = np.array(list(zip(missing_places[\"start_lat\"], missing_places[\"start_lng\"])))\n",
    "            _, nearest_indices = tree.query(missing_coords)\n",
    "\n",
    "            # Assign nearest station names\n",
    "            missing_places[\"start_station_name\"] = valid_places.iloc[nearest_indices][\"start_station_name\"].values\n",
    "\n",
    "            # Merge back the updated missing places\n",
    "            df_pandas.loc[df_pandas[\"start_station_name\"].isna(), \"start_station_name\"] = missing_places[\"start_station_name\"]\n",
    "\n",
    "    # Convert back to Polars\n",
    "    return pl.from_pandas(df_pandas)\n",
    "\n",
    "# Example usage\n",
    "try:\n",
    "    df_cleaned = pl.DataFrame(data_1)  # Ensure data_1 is defined\n",
    "    df_cleaned = find_nearest_place_polars(df_cleaned)\n",
    "    print(df_cleaned)\n",
    "except NameError:\n",
    "    print(\"Error: 'data_1' is not defined. Make sure your dataset exists.\")\n"
   ]
  },
  {
   "cell_type": "code",
   "execution_count": 40,
   "id": "c2c7eebe-78ff-4da2-9b09-f7dba1ac33c6",
   "metadata": {},
   "outputs": [
    {
     "name": "stdout",
     "output_type": "stream",
     "text": [
      "Missing values in start_station_name: 0\n"
     ]
    }
   ],
   "source": [
    "# Count missing values in start_station_name\n",
    "missing_count = df_cleaned[\"start_station_name\"].is_null().sum()\n",
    "print(f\"Missing values in start_station_name: {missing_count}\")\n"
   ]
  },
  {
   "cell_type": "code",
   "execution_count": 42,
   "id": "4ee82b71-2bda-471d-980e-286891ce6f51",
   "metadata": {},
   "outputs": [
    {
     "name": "stderr",
     "output_type": "stream",
     "text": [
      "C:\\Users\\Sowjanya\\AppData\\Local\\Temp\\ipykernel_17608\\65436734.py:32: SettingWithCopyWarning: \n",
      "A value is trying to be set on a copy of a slice from a DataFrame.\n",
      "Try using .loc[row_indexer,col_indexer] = value instead\n",
      "\n",
      "See the caveats in the documentation: https://pandas.pydata.org/pandas-docs/stable/user_guide/indexing.html#returning-a-view-versus-a-copy\n",
      "  missing_places[station_col] = valid_places.iloc[nearest_indices][station_col].values\n",
      "C:\\Users\\Sowjanya\\AppData\\Local\\Temp\\ipykernel_17608\\65436734.py:32: SettingWithCopyWarning: \n",
      "A value is trying to be set on a copy of a slice from a DataFrame.\n",
      "Try using .loc[row_indexer,col_indexer] = value instead\n",
      "\n",
      "See the caveats in the documentation: https://pandas.pydata.org/pandas-docs/stable/user_guide/indexing.html#returning-a-view-versus-a-copy\n",
      "  missing_places[station_col] = valid_places.iloc[nearest_indices][station_col].values\n"
     ]
    },
    {
     "name": "stdout",
     "output_type": "stream",
     "text": [
      "shape: (5_853_336, 17)\n",
      "┌───────────────┬──────────────┬──────────────┬──────────────┬───┬────────────┬──────────┬──────────────┬──────────────┐\n",
      "│ ride_id       ┆ rideable_typ ┆ started_at   ┆ ended_at     ┆ … ┆ end_date   ┆ end_time ┆ duration     ┆ ride_validit │\n",
      "│ ---           ┆ e            ┆ ---          ┆ ---          ┆   ┆ ---        ┆ ---      ┆ ---          ┆ y            │\n",
      "│ str           ┆ ---          ┆ datetime[μs] ┆ datetime[μs] ┆   ┆ str        ┆ str      ┆ duration[μs] ┆ ---          │\n",
      "│               ┆ str          ┆              ┆              ┆   ┆            ┆          ┆              ┆ str          │\n",
      "╞═══════════════╪══════════════╪══════════════╪══════════════╪═══╪════════════╪══════════╪══════════════╪══════════════╡\n",
      "│ C1D650626C8C8 ┆ electric_bik ┆ 2024-01-12   ┆ 2024-01-12   ┆ … ┆ 2024-01-12 ┆ 15:37:59 ┆ 7m 32s       ┆ Fair         │\n",
      "│ 99A           ┆ e            ┆ 15:30:27     ┆ 15:37:59     ┆   ┆            ┆          ┆              ┆              │\n",
      "│ EECD38BDB25BF ┆ electric_bik ┆ 2024-01-08   ┆ 2024-01-08   ┆ … ┆ 2024-01-08 ┆ 15:52:59 ┆ 7m 13s       ┆ Fair         │\n",
      "│ CB0           ┆ e            ┆ 15:45:46     ┆ 15:52:59     ┆   ┆            ┆          ┆              ┆              │\n",
      "│ F4A9CE78061F1 ┆ electric_bik ┆ 2024-01-27   ┆ 2024-01-27   ┆ … ┆ 2024-01-27 ┆ 12:35:19 ┆ 8m           ┆ Fair         │\n",
      "│ 7F7           ┆ e            ┆ 12:27:19     ┆ 12:35:19     ┆   ┆            ┆          ┆              ┆              │\n",
      "│ 0A0D9E15EE50B ┆ classic_bike ┆ 2024-01-29   ┆ 2024-01-29   ┆ … ┆ 2024-01-29 ┆ 16:56:06 ┆ 29m 49s      ┆ Fair         │\n",
      "│ 171           ┆              ┆ 16:26:17     ┆ 16:56:06     ┆   ┆            ┆          ┆              ┆              │\n",
      "│ 33FFC9805E3EF ┆ classic_bike ┆ 2024-01-31   ┆ 2024-01-31   ┆ … ┆ 2024-01-31 ┆ 06:09:35 ┆ 26m 12s      ┆ Fair         │\n",
      "│ F9A           ┆              ┆ 05:43:23     ┆ 06:09:35     ┆   ┆            ┆          ┆              ┆              │\n",
      "│ …             ┆ …            ┆ …            ┆ …            ┆ … ┆ …          ┆ …        ┆ …            ┆ …            │\n",
      "│ BD56BA20F42E4 ┆ electric_bik ┆ 2024-12-11   ┆ 2024-12-11   ┆ … ┆ 2024-12-11 ┆ 08:37:34 ┆ 13m 48s      ┆ Fair         │\n",
      "│ 794           ┆ e            ┆ 08:23:46     ┆ 08:37:34     ┆   ┆            ┆          ┆              ┆              │\n",
      "│ 3074643A6B60B ┆ electric_bik ┆ 2024-12-09   ┆ 2024-12-09   ┆ … ┆ 2024-12-09 ┆ 12:37:32 ┆ 11m 17s      ┆ Fair         │\n",
      "│ 300           ┆ e            ┆ 12:26:15     ┆ 12:37:32     ┆   ┆            ┆          ┆              ┆              │\n",
      "│ 15602635C5DF4 ┆ electric_bik ┆ 2024-12-31   ┆ 2024-12-31   ┆ … ┆ 2024-12-31 ┆ 17:17:21 ┆ 7m 18s       ┆ Fair         │\n",
      "│ 84E           ┆ e            ┆ 17:10:03     ┆ 17:17:21     ┆   ┆            ┆          ┆              ┆              │\n",
      "│ F15ABBA961560 ┆ electric_bik ┆ 2024-12-01   ┆ 2024-12-01   ┆ … ┆ 2024-12-01 ┆ 14:45:21 ┆ 5m 34s       ┆ Fair         │\n",
      "│ B75           ┆ e            ┆ 14:39:47     ┆ 14:45:21     ┆   ┆            ┆          ┆              ┆              │\n",
      "│ 8AF273287533B ┆ electric_bik ┆ 2024-12-17   ┆ 2024-12-17   ┆ … ┆ 2024-12-17 ┆ 06:46:27 ┆ 7m 55s       ┆ Fair         │\n",
      "│ 527           ┆ e            ┆ 06:38:32     ┆ 06:46:27     ┆   ┆            ┆          ┆              ┆              │\n",
      "└───────────────┴──────────────┴──────────────┴──────────────┴───┴────────────┴──────────┴──────────────┴──────────────┘\n"
     ]
    }
   ],
   "source": [
    "import polars as pl\n",
    "import numpy as np\n",
    "from scipy.spatial import cKDTree  # Fast nearest-neighbor search\n",
    "\n",
    "def find_nearest_place_polars(df: pl.DataFrame) -> pl.DataFrame:\n",
    "    \"\"\"\n",
    "    Assigns the nearest place name to rows where 'start_station_name' and 'end_station_name' are missing.\n",
    "    Uses KDTree for fast nearest-neighbor lookup.\n",
    "    \"\"\"\n",
    "\n",
    "    # Convert Polars to Pandas for KDTree operations\n",
    "    df_pandas = df.to_pandas()\n",
    "\n",
    "    def fill_missing_station(df, station_col, lat_col, lng_col):\n",
    "        \"\"\"\n",
    "        Helper function to fill missing station names based on nearest valid locations.\n",
    "        \"\"\"\n",
    "        valid_places = df[df[station_col].notna()]\n",
    "        missing_places = df[df[station_col].isna()]\n",
    "\n",
    "        # Build KDTree for fast nearest neighbor search\n",
    "        if not valid_places.empty:\n",
    "            valid_coords = np.array(list(zip(valid_places[lat_col], valid_places[lng_col])))\n",
    "            tree = cKDTree(valid_coords)\n",
    "\n",
    "            # Find nearest valid station for each missing station\n",
    "            if not missing_places.empty:\n",
    "                missing_coords = np.array(list(zip(missing_places[lat_col], missing_places[lng_col])))\n",
    "                _, nearest_indices = tree.query(missing_coords)\n",
    "\n",
    "                # Assign nearest station names\n",
    "                missing_places[station_col] = valid_places.iloc[nearest_indices][station_col].values\n",
    "\n",
    "                # Merge back the updated missing places\n",
    "                df.loc[df[station_col].isna(), station_col] = missing_places[station_col]\n",
    "\n",
    "    # Fill missing values for start and end stations\n",
    "    fill_missing_station(df_pandas, \"start_station_name\", \"start_lat\", \"start_lng\")\n",
    "    fill_missing_station(df_pandas, \"end_station_name\", \"end_lat\", \"end_lng\")\n",
    "\n",
    "    # Convert back to Polars\n",
    "    return pl.from_pandas(df_pandas)\n",
    "\n",
    "# Example usage\n",
    "try:\n",
    "    df_cleaned = pl.DataFrame(data_1)  # Ensure data_1 is defined\n",
    "    df_cleaned = find_nearest_place_polars(df_cleaned)\n",
    "    print(df_cleaned)\n",
    "except NameError:\n",
    "    print(\"Error: 'data_1' is not defined. Make sure your dataset exists.\")\n"
   ]
  },
  {
   "cell_type": "code",
   "execution_count": 44,
   "id": "bd867d5c-edf5-4493-89a8-b65b35560e66",
   "metadata": {},
   "outputs": [
    {
     "name": "stdout",
     "output_type": "stream",
     "text": [
      "Missing values in end_station_name: 0\n"
     ]
    }
   ],
   "source": [
    "# Count missing values in end_station_name\n",
    "missing_count = df_cleaned[\"end_station_name\"].is_null().sum()\n",
    "print(f\"Missing values in end_station_name: {missing_count}\")"
   ]
  },
  {
   "cell_type": "code",
   "execution_count": 46,
   "id": "b99bfe92-a942-422b-85a9-3caa3e0bd961",
   "metadata": {},
   "outputs": [],
   "source": [
    "df_cleaned = df_cleaned.with_columns(\n",
    "    df_cleaned[\"duration\"].dt.total_seconds().cast(pl.Float64).alias(\"duration_seconds\")\n",
    ")\n"
   ]
  },
  {
   "cell_type": "code",
   "execution_count": 48,
   "id": "0e79e69e-f10d-4dc2-8797-262cc6f98d09",
   "metadata": {},
   "outputs": [
    {
     "data": {
      "text/plain": [
       "Schema([('ride_id', String),\n",
       "        ('rideable_type', String),\n",
       "        ('started_at', Datetime(time_unit='us', time_zone=None)),\n",
       "        ('ended_at', Datetime(time_unit='us', time_zone=None)),\n",
       "        ('start_station_name', String),\n",
       "        ('end_station_name', String),\n",
       "        ('start_lat', String),\n",
       "        ('start_lng', String),\n",
       "        ('end_lat', String),\n",
       "        ('end_lng', String),\n",
       "        ('member_casual', String),\n",
       "        ('start_date', String),\n",
       "        ('start_time', String),\n",
       "        ('end_date', String),\n",
       "        ('end_time', String),\n",
       "        ('duration', Duration(time_unit='us')),\n",
       "        ('ride_validity', String),\n",
       "        ('duration_seconds', Float64)])"
      ]
     },
     "execution_count": 48,
     "metadata": {},
     "output_type": "execute_result"
    }
   ],
   "source": [
    "df_cleaned.schema"
   ]
  },
  {
   "cell_type": "code",
   "execution_count": 50,
   "id": "d8775570-8d3e-400c-94ff-36988c569350",
   "metadata": {},
   "outputs": [
    {
     "data": {
      "text/html": [
       "<div><style>\n",
       ".dataframe > thead > tr,\n",
       ".dataframe > tbody > tr {\n",
       "  text-align: right;\n",
       "  white-space: pre-wrap;\n",
       "}\n",
       "</style>\n",
       "<small>shape: (5_853_336, 18)</small><table border=\"1\" class=\"dataframe\"><thead><tr><th>ride_id</th><th>rideable_type</th><th>started_at</th><th>ended_at</th><th>start_station_name</th><th>end_station_name</th><th>start_lat</th><th>start_lng</th><th>end_lat</th><th>end_lng</th><th>member_casual</th><th>start_date</th><th>start_time</th><th>end_date</th><th>end_time</th><th>duration</th><th>ride_validity</th><th>duration_seconds</th></tr><tr><td>str</td><td>str</td><td>datetime[μs]</td><td>datetime[μs]</td><td>str</td><td>str</td><td>str</td><td>str</td><td>str</td><td>str</td><td>str</td><td>str</td><td>str</td><td>str</td><td>str</td><td>duration[μs]</td><td>str</td><td>f64</td></tr></thead><tbody><tr><td>&quot;C1D650626C8C899A&quot;</td><td>&quot;electric_bike&quot;</td><td>2024-01-12 15:30:27</td><td>2024-01-12 15:37:59</td><td>&quot;Wells St &amp; Elm St&quot;</td><td>&quot;Kingsbury St &amp; Kinzie St&quot;</td><td>&quot;41.903267384&quot;</td><td>&quot;-87.634736776&quot;</td><td>&quot;41.88917683258&quot;</td><td>&quot;-87.6385057718&quot;</td><td>&quot;member&quot;</td><td>&quot;2024-01-12&quot;</td><td>&quot;15:30:27&quot;</td><td>&quot;2024-01-12&quot;</td><td>&quot;15:37:59&quot;</td><td>7m 32s</td><td>&quot;Fair&quot;</td><td>452.0</td></tr><tr><td>&quot;EECD38BDB25BFCB0&quot;</td><td>&quot;electric_bike&quot;</td><td>2024-01-08 15:45:46</td><td>2024-01-08 15:52:59</td><td>&quot;Wells St &amp; Elm St&quot;</td><td>&quot;Kingsbury St &amp; Kinzie St&quot;</td><td>&quot;41.9029365&quot;</td><td>&quot;-87.63444016666666&quot;</td><td>&quot;41.88917683258&quot;</td><td>&quot;-87.6385057718&quot;</td><td>&quot;member&quot;</td><td>&quot;2024-01-08&quot;</td><td>&quot;15:45:46&quot;</td><td>&quot;2024-01-08&quot;</td><td>&quot;15:52:59&quot;</td><td>7m 13s</td><td>&quot;Fair&quot;</td><td>433.0</td></tr><tr><td>&quot;F4A9CE78061F17F7&quot;</td><td>&quot;electric_bike&quot;</td><td>2024-01-27 12:27:19</td><td>2024-01-27 12:35:19</td><td>&quot;Wells St &amp; Elm St&quot;</td><td>&quot;Kingsbury St &amp; Kinzie St&quot;</td><td>&quot;41.902951333333334&quot;</td><td>&quot;-87.63447033333334&quot;</td><td>&quot;41.88917683258&quot;</td><td>&quot;-87.6385057718&quot;</td><td>&quot;member&quot;</td><td>&quot;2024-01-27&quot;</td><td>&quot;12:27:19&quot;</td><td>&quot;2024-01-27&quot;</td><td>&quot;12:35:19&quot;</td><td>8m</td><td>&quot;Fair&quot;</td><td>480.0</td></tr><tr><td>&quot;0A0D9E15EE50B171&quot;</td><td>&quot;classic_bike&quot;</td><td>2024-01-29 16:26:17</td><td>2024-01-29 16:56:06</td><td>&quot;Wells St &amp; Randolph St&quot;</td><td>&quot;Larrabee St &amp; Webster Ave&quot;</td><td>&quot;41.884295&quot;</td><td>&quot;-87.633963&quot;</td><td>&quot;41.921822&quot;</td><td>&quot;-87.64414&quot;</td><td>&quot;member&quot;</td><td>&quot;2024-01-29&quot;</td><td>&quot;16:26:17&quot;</td><td>&quot;2024-01-29&quot;</td><td>&quot;16:56:06&quot;</td><td>29m 49s</td><td>&quot;Fair&quot;</td><td>1789.0</td></tr><tr><td>&quot;33FFC9805E3EFF9A&quot;</td><td>&quot;classic_bike&quot;</td><td>2024-01-31 05:43:23</td><td>2024-01-31 06:09:35</td><td>&quot;Lincoln Ave &amp; Waveland Ave&quot;</td><td>&quot;Kingsbury St &amp; Kinzie St&quot;</td><td>&quot;41.948797&quot;</td><td>&quot;-87.675278&quot;</td><td>&quot;41.88917683258&quot;</td><td>&quot;-87.6385057718&quot;</td><td>&quot;member&quot;</td><td>&quot;2024-01-31&quot;</td><td>&quot;05:43:23&quot;</td><td>&quot;2024-01-31&quot;</td><td>&quot;06:09:35&quot;</td><td>26m 12s</td><td>&quot;Fair&quot;</td><td>1572.0</td></tr><tr><td>&hellip;</td><td>&hellip;</td><td>&hellip;</td><td>&hellip;</td><td>&hellip;</td><td>&hellip;</td><td>&hellip;</td><td>&hellip;</td><td>&hellip;</td><td>&hellip;</td><td>&hellip;</td><td>&hellip;</td><td>&hellip;</td><td>&hellip;</td><td>&hellip;</td><td>&hellip;</td><td>&hellip;</td><td>&hellip;</td></tr><tr><td>&quot;BD56BA20F42E4794&quot;</td><td>&quot;electric_bike&quot;</td><td>2024-12-11 08:23:46</td><td>2024-12-11 08:37:34</td><td>&quot;Clybourn Ave &amp; Division St&quot;</td><td>&quot;Dearborn St &amp; Monroe St&quot;</td><td>&quot;41.904633522&quot;</td><td>&quot;-87.64051795&quot;</td><td>&quot;41.88&quot;</td><td>&quot;-87.63&quot;</td><td>&quot;member&quot;</td><td>&quot;2024-12-11&quot;</td><td>&quot;08:23:46&quot;</td><td>&quot;2024-12-11&quot;</td><td>&quot;08:37:34&quot;</td><td>13m 48s</td><td>&quot;Fair&quot;</td><td>828.0</td></tr><tr><td>&quot;3074643A6B60B300&quot;</td><td>&quot;electric_bike&quot;</td><td>2024-12-09 12:26:15</td><td>2024-12-09 12:37:32</td><td>&quot;Canal St &amp; Jackson Blvd&quot;</td><td>&quot;Mies van der Rohe Way &amp; Chestn…</td><td>&quot;41.878125&quot;</td><td>&quot;-87.639968&quot;</td><td>&quot;41.9&quot;</td><td>&quot;-87.62&quot;</td><td>&quot;member&quot;</td><td>&quot;2024-12-09&quot;</td><td>&quot;12:26:15&quot;</td><td>&quot;2024-12-09&quot;</td><td>&quot;12:37:32&quot;</td><td>11m 17s</td><td>&quot;Fair&quot;</td><td>677.0</td></tr><tr><td>&quot;15602635C5DF484E&quot;</td><td>&quot;electric_bike&quot;</td><td>2024-12-31 17:10:03</td><td>2024-12-31 17:17:21</td><td>&quot;Albany Ave &amp; Bloomingdale Ave&quot;</td><td>&quot;California Ave &amp; Milwaukee Ave&quot;</td><td>&quot;41.91402671273&quot;</td><td>&quot;-87.705126462&quot;</td><td>&quot;41.922695&quot;</td><td>&quot;-87.697153&quot;</td><td>&quot;member&quot;</td><td>&quot;2024-12-31&quot;</td><td>&quot;17:10:03&quot;</td><td>&quot;2024-12-31&quot;</td><td>&quot;17:17:21&quot;</td><td>7m 18s</td><td>&quot;Fair&quot;</td><td>438.0</td></tr><tr><td>&quot;F15ABBA961560B75&quot;</td><td>&quot;electric_bike&quot;</td><td>2024-12-01 14:39:47</td><td>2024-12-01 14:45:21</td><td>&quot;Albany Ave &amp; Bloomingdale Ave&quot;</td><td>&quot;California Ave &amp; Milwaukee Ave&quot;</td><td>&quot;41.914002657&quot;</td><td>&quot;-87.705099225&quot;</td><td>&quot;41.922695&quot;</td><td>&quot;-87.697153&quot;</td><td>&quot;member&quot;</td><td>&quot;2024-12-01&quot;</td><td>&quot;14:39:47&quot;</td><td>&quot;2024-12-01&quot;</td><td>&quot;14:45:21&quot;</td><td>5m 34s</td><td>&quot;Fair&quot;</td><td>334.0</td></tr><tr><td>&quot;8AF273287533B527&quot;</td><td>&quot;electric_bike&quot;</td><td>2024-12-17 06:38:32</td><td>2024-12-17 06:46:27</td><td>&quot;Albany Ave &amp; Bloomingdale Ave&quot;</td><td>&quot;Milwaukee Ave &amp; Rockwell St&quot;</td><td>&quot;41.91402671273&quot;</td><td>&quot;-87.705126462&quot;</td><td>&quot;41.92&quot;</td><td>&quot;-87.69&quot;</td><td>&quot;member&quot;</td><td>&quot;2024-12-17&quot;</td><td>&quot;06:38:32&quot;</td><td>&quot;2024-12-17&quot;</td><td>&quot;06:46:27&quot;</td><td>7m 55s</td><td>&quot;Fair&quot;</td><td>475.0</td></tr></tbody></table></div>"
      ],
      "text/plain": [
       "shape: (5_853_336, 18)\n",
       "┌──────────────┬──────────────┬──────────────┬──────────────┬───┬──────────┬──────────────┬──────────────┬─────────────┐\n",
       "│ ride_id      ┆ rideable_typ ┆ started_at   ┆ ended_at     ┆ … ┆ end_time ┆ duration     ┆ ride_validit ┆ duration_se │\n",
       "│ ---          ┆ e            ┆ ---          ┆ ---          ┆   ┆ ---      ┆ ---          ┆ y            ┆ conds       │\n",
       "│ str          ┆ ---          ┆ datetime[μs] ┆ datetime[μs] ┆   ┆ str      ┆ duration[μs] ┆ ---          ┆ ---         │\n",
       "│              ┆ str          ┆              ┆              ┆   ┆          ┆              ┆ str          ┆ f64         │\n",
       "╞══════════════╪══════════════╪══════════════╪══════════════╪═══╪══════════╪══════════════╪══════════════╪═════════════╡\n",
       "│ C1D650626C8C ┆ electric_bik ┆ 2024-01-12   ┆ 2024-01-12   ┆ … ┆ 15:37:59 ┆ 7m 32s       ┆ Fair         ┆ 452.0       │\n",
       "│ 899A         ┆ e            ┆ 15:30:27     ┆ 15:37:59     ┆   ┆          ┆              ┆              ┆             │\n",
       "│ EECD38BDB25B ┆ electric_bik ┆ 2024-01-08   ┆ 2024-01-08   ┆ … ┆ 15:52:59 ┆ 7m 13s       ┆ Fair         ┆ 433.0       │\n",
       "│ FCB0         ┆ e            ┆ 15:45:46     ┆ 15:52:59     ┆   ┆          ┆              ┆              ┆             │\n",
       "│ F4A9CE78061F ┆ electric_bik ┆ 2024-01-27   ┆ 2024-01-27   ┆ … ┆ 12:35:19 ┆ 8m           ┆ Fair         ┆ 480.0       │\n",
       "│ 17F7         ┆ e            ┆ 12:27:19     ┆ 12:35:19     ┆   ┆          ┆              ┆              ┆             │\n",
       "│ 0A0D9E15EE50 ┆ classic_bike ┆ 2024-01-29   ┆ 2024-01-29   ┆ … ┆ 16:56:06 ┆ 29m 49s      ┆ Fair         ┆ 1789.0      │\n",
       "│ B171         ┆              ┆ 16:26:17     ┆ 16:56:06     ┆   ┆          ┆              ┆              ┆             │\n",
       "│ 33FFC9805E3E ┆ classic_bike ┆ 2024-01-31   ┆ 2024-01-31   ┆ … ┆ 06:09:35 ┆ 26m 12s      ┆ Fair         ┆ 1572.0      │\n",
       "│ FF9A         ┆              ┆ 05:43:23     ┆ 06:09:35     ┆   ┆          ┆              ┆              ┆             │\n",
       "│ …            ┆ …            ┆ …            ┆ …            ┆ … ┆ …        ┆ …            ┆ …            ┆ …           │\n",
       "│ BD56BA20F42E ┆ electric_bik ┆ 2024-12-11   ┆ 2024-12-11   ┆ … ┆ 08:37:34 ┆ 13m 48s      ┆ Fair         ┆ 828.0       │\n",
       "│ 4794         ┆ e            ┆ 08:23:46     ┆ 08:37:34     ┆   ┆          ┆              ┆              ┆             │\n",
       "│ 3074643A6B60 ┆ electric_bik ┆ 2024-12-09   ┆ 2024-12-09   ┆ … ┆ 12:37:32 ┆ 11m 17s      ┆ Fair         ┆ 677.0       │\n",
       "│ B300         ┆ e            ┆ 12:26:15     ┆ 12:37:32     ┆   ┆          ┆              ┆              ┆             │\n",
       "│ 15602635C5DF ┆ electric_bik ┆ 2024-12-31   ┆ 2024-12-31   ┆ … ┆ 17:17:21 ┆ 7m 18s       ┆ Fair         ┆ 438.0       │\n",
       "│ 484E         ┆ e            ┆ 17:10:03     ┆ 17:17:21     ┆   ┆          ┆              ┆              ┆             │\n",
       "│ F15ABBA96156 ┆ electric_bik ┆ 2024-12-01   ┆ 2024-12-01   ┆ … ┆ 14:45:21 ┆ 5m 34s       ┆ Fair         ┆ 334.0       │\n",
       "│ 0B75         ┆ e            ┆ 14:39:47     ┆ 14:45:21     ┆   ┆          ┆              ┆              ┆             │\n",
       "│ 8AF273287533 ┆ electric_bik ┆ 2024-12-17   ┆ 2024-12-17   ┆ … ┆ 06:46:27 ┆ 7m 55s       ┆ Fair         ┆ 475.0       │\n",
       "│ B527         ┆ e            ┆ 06:38:32     ┆ 06:46:27     ┆   ┆          ┆              ┆              ┆             │\n",
       "└──────────────┴──────────────┴──────────────┴──────────────┴───┴──────────┴──────────────┴──────────────┴─────────────┘"
      ]
     },
     "execution_count": 50,
     "metadata": {},
     "output_type": "execute_result"
    }
   ],
   "source": [
    "df_cleaned"
   ]
  },
  {
   "cell_type": "code",
   "execution_count": 52,
   "id": "79be89db-583a-4613-a997-6eaac80dd200",
   "metadata": {},
   "outputs": [],
   "source": [
    "df_cleaned = df_cleaned.drop(\"duration_seconds\")\n"
   ]
  },
  {
   "cell_type": "code",
   "execution_count": 54,
   "id": "a29a1892-6971-4f50-a0c3-b3ebd6e161c8",
   "metadata": {},
   "outputs": [],
   "source": [
    "df_cleaned = df_cleaned.with_columns([\n",
    "    df_cleaned[\"started_at\"].cast(pl.Utf8).alias(\"started_at\"),\n",
    "    df_cleaned[\"ended_at\"].cast(pl.Utf8).alias(\"ended_at\"),\n",
    "    df_cleaned[\"duration\"].dt.total_seconds().cast(pl.Utf8).alias(\"duration\")  # Convert to seconds, then string\n",
    "])"
   ]
  },
  {
   "cell_type": "code",
   "execution_count": 55,
   "id": "f9eeb086-27b4-4647-939c-bf7d42707d6e",
   "metadata": {},
   "outputs": [
    {
     "data": {
      "text/html": [
       "<div><style>\n",
       ".dataframe > thead > tr,\n",
       ".dataframe > tbody > tr {\n",
       "  text-align: right;\n",
       "  white-space: pre-wrap;\n",
       "}\n",
       "</style>\n",
       "<small>shape: (5_853_336, 17)</small><table border=\"1\" class=\"dataframe\"><thead><tr><th>ride_id</th><th>rideable_type</th><th>started_at</th><th>ended_at</th><th>start_station_name</th><th>end_station_name</th><th>start_lat</th><th>start_lng</th><th>end_lat</th><th>end_lng</th><th>member_casual</th><th>start_date</th><th>start_time</th><th>end_date</th><th>end_time</th><th>duration</th><th>ride_validity</th></tr><tr><td>str</td><td>str</td><td>str</td><td>str</td><td>str</td><td>str</td><td>str</td><td>str</td><td>str</td><td>str</td><td>str</td><td>str</td><td>str</td><td>str</td><td>str</td><td>str</td><td>str</td></tr></thead><tbody><tr><td>&quot;C1D650626C8C899A&quot;</td><td>&quot;electric_bike&quot;</td><td>&quot;2024-01-12 15:30:27.000000&quot;</td><td>&quot;2024-01-12 15:37:59.000000&quot;</td><td>&quot;Wells St &amp; Elm St&quot;</td><td>&quot;Kingsbury St &amp; Kinzie St&quot;</td><td>&quot;41.903267384&quot;</td><td>&quot;-87.634736776&quot;</td><td>&quot;41.88917683258&quot;</td><td>&quot;-87.6385057718&quot;</td><td>&quot;member&quot;</td><td>&quot;2024-01-12&quot;</td><td>&quot;15:30:27&quot;</td><td>&quot;2024-01-12&quot;</td><td>&quot;15:37:59&quot;</td><td>&quot;452&quot;</td><td>&quot;Fair&quot;</td></tr><tr><td>&quot;EECD38BDB25BFCB0&quot;</td><td>&quot;electric_bike&quot;</td><td>&quot;2024-01-08 15:45:46.000000&quot;</td><td>&quot;2024-01-08 15:52:59.000000&quot;</td><td>&quot;Wells St &amp; Elm St&quot;</td><td>&quot;Kingsbury St &amp; Kinzie St&quot;</td><td>&quot;41.9029365&quot;</td><td>&quot;-87.63444016666666&quot;</td><td>&quot;41.88917683258&quot;</td><td>&quot;-87.6385057718&quot;</td><td>&quot;member&quot;</td><td>&quot;2024-01-08&quot;</td><td>&quot;15:45:46&quot;</td><td>&quot;2024-01-08&quot;</td><td>&quot;15:52:59&quot;</td><td>&quot;433&quot;</td><td>&quot;Fair&quot;</td></tr><tr><td>&quot;F4A9CE78061F17F7&quot;</td><td>&quot;electric_bike&quot;</td><td>&quot;2024-01-27 12:27:19.000000&quot;</td><td>&quot;2024-01-27 12:35:19.000000&quot;</td><td>&quot;Wells St &amp; Elm St&quot;</td><td>&quot;Kingsbury St &amp; Kinzie St&quot;</td><td>&quot;41.902951333333334&quot;</td><td>&quot;-87.63447033333334&quot;</td><td>&quot;41.88917683258&quot;</td><td>&quot;-87.6385057718&quot;</td><td>&quot;member&quot;</td><td>&quot;2024-01-27&quot;</td><td>&quot;12:27:19&quot;</td><td>&quot;2024-01-27&quot;</td><td>&quot;12:35:19&quot;</td><td>&quot;480&quot;</td><td>&quot;Fair&quot;</td></tr><tr><td>&quot;0A0D9E15EE50B171&quot;</td><td>&quot;classic_bike&quot;</td><td>&quot;2024-01-29 16:26:17.000000&quot;</td><td>&quot;2024-01-29 16:56:06.000000&quot;</td><td>&quot;Wells St &amp; Randolph St&quot;</td><td>&quot;Larrabee St &amp; Webster Ave&quot;</td><td>&quot;41.884295&quot;</td><td>&quot;-87.633963&quot;</td><td>&quot;41.921822&quot;</td><td>&quot;-87.64414&quot;</td><td>&quot;member&quot;</td><td>&quot;2024-01-29&quot;</td><td>&quot;16:26:17&quot;</td><td>&quot;2024-01-29&quot;</td><td>&quot;16:56:06&quot;</td><td>&quot;1789&quot;</td><td>&quot;Fair&quot;</td></tr><tr><td>&quot;33FFC9805E3EFF9A&quot;</td><td>&quot;classic_bike&quot;</td><td>&quot;2024-01-31 05:43:23.000000&quot;</td><td>&quot;2024-01-31 06:09:35.000000&quot;</td><td>&quot;Lincoln Ave &amp; Waveland Ave&quot;</td><td>&quot;Kingsbury St &amp; Kinzie St&quot;</td><td>&quot;41.948797&quot;</td><td>&quot;-87.675278&quot;</td><td>&quot;41.88917683258&quot;</td><td>&quot;-87.6385057718&quot;</td><td>&quot;member&quot;</td><td>&quot;2024-01-31&quot;</td><td>&quot;05:43:23&quot;</td><td>&quot;2024-01-31&quot;</td><td>&quot;06:09:35&quot;</td><td>&quot;1572&quot;</td><td>&quot;Fair&quot;</td></tr><tr><td>&hellip;</td><td>&hellip;</td><td>&hellip;</td><td>&hellip;</td><td>&hellip;</td><td>&hellip;</td><td>&hellip;</td><td>&hellip;</td><td>&hellip;</td><td>&hellip;</td><td>&hellip;</td><td>&hellip;</td><td>&hellip;</td><td>&hellip;</td><td>&hellip;</td><td>&hellip;</td><td>&hellip;</td></tr><tr><td>&quot;BD56BA20F42E4794&quot;</td><td>&quot;electric_bike&quot;</td><td>&quot;2024-12-11 08:23:46.000000&quot;</td><td>&quot;2024-12-11 08:37:34.000000&quot;</td><td>&quot;Clybourn Ave &amp; Division St&quot;</td><td>&quot;Dearborn St &amp; Monroe St&quot;</td><td>&quot;41.904633522&quot;</td><td>&quot;-87.64051795&quot;</td><td>&quot;41.88&quot;</td><td>&quot;-87.63&quot;</td><td>&quot;member&quot;</td><td>&quot;2024-12-11&quot;</td><td>&quot;08:23:46&quot;</td><td>&quot;2024-12-11&quot;</td><td>&quot;08:37:34&quot;</td><td>&quot;828&quot;</td><td>&quot;Fair&quot;</td></tr><tr><td>&quot;3074643A6B60B300&quot;</td><td>&quot;electric_bike&quot;</td><td>&quot;2024-12-09 12:26:15.000000&quot;</td><td>&quot;2024-12-09 12:37:32.000000&quot;</td><td>&quot;Canal St &amp; Jackson Blvd&quot;</td><td>&quot;Mies van der Rohe Way &amp; Chestn…</td><td>&quot;41.878125&quot;</td><td>&quot;-87.639968&quot;</td><td>&quot;41.9&quot;</td><td>&quot;-87.62&quot;</td><td>&quot;member&quot;</td><td>&quot;2024-12-09&quot;</td><td>&quot;12:26:15&quot;</td><td>&quot;2024-12-09&quot;</td><td>&quot;12:37:32&quot;</td><td>&quot;677&quot;</td><td>&quot;Fair&quot;</td></tr><tr><td>&quot;15602635C5DF484E&quot;</td><td>&quot;electric_bike&quot;</td><td>&quot;2024-12-31 17:10:03.000000&quot;</td><td>&quot;2024-12-31 17:17:21.000000&quot;</td><td>&quot;Albany Ave &amp; Bloomingdale Ave&quot;</td><td>&quot;California Ave &amp; Milwaukee Ave&quot;</td><td>&quot;41.91402671273&quot;</td><td>&quot;-87.705126462&quot;</td><td>&quot;41.922695&quot;</td><td>&quot;-87.697153&quot;</td><td>&quot;member&quot;</td><td>&quot;2024-12-31&quot;</td><td>&quot;17:10:03&quot;</td><td>&quot;2024-12-31&quot;</td><td>&quot;17:17:21&quot;</td><td>&quot;438&quot;</td><td>&quot;Fair&quot;</td></tr><tr><td>&quot;F15ABBA961560B75&quot;</td><td>&quot;electric_bike&quot;</td><td>&quot;2024-12-01 14:39:47.000000&quot;</td><td>&quot;2024-12-01 14:45:21.000000&quot;</td><td>&quot;Albany Ave &amp; Bloomingdale Ave&quot;</td><td>&quot;California Ave &amp; Milwaukee Ave&quot;</td><td>&quot;41.914002657&quot;</td><td>&quot;-87.705099225&quot;</td><td>&quot;41.922695&quot;</td><td>&quot;-87.697153&quot;</td><td>&quot;member&quot;</td><td>&quot;2024-12-01&quot;</td><td>&quot;14:39:47&quot;</td><td>&quot;2024-12-01&quot;</td><td>&quot;14:45:21&quot;</td><td>&quot;334&quot;</td><td>&quot;Fair&quot;</td></tr><tr><td>&quot;8AF273287533B527&quot;</td><td>&quot;electric_bike&quot;</td><td>&quot;2024-12-17 06:38:32.000000&quot;</td><td>&quot;2024-12-17 06:46:27.000000&quot;</td><td>&quot;Albany Ave &amp; Bloomingdale Ave&quot;</td><td>&quot;Milwaukee Ave &amp; Rockwell St&quot;</td><td>&quot;41.91402671273&quot;</td><td>&quot;-87.705126462&quot;</td><td>&quot;41.92&quot;</td><td>&quot;-87.69&quot;</td><td>&quot;member&quot;</td><td>&quot;2024-12-17&quot;</td><td>&quot;06:38:32&quot;</td><td>&quot;2024-12-17&quot;</td><td>&quot;06:46:27&quot;</td><td>&quot;475&quot;</td><td>&quot;Fair&quot;</td></tr></tbody></table></div>"
      ],
      "text/plain": [
       "shape: (5_853_336, 17)\n",
       "┌───────────────┬───────────────┬───────────────┬───────────────┬───┬────────────┬──────────┬──────────┬───────────────┐\n",
       "│ ride_id       ┆ rideable_type ┆ started_at    ┆ ended_at      ┆ … ┆ end_date   ┆ end_time ┆ duration ┆ ride_validity │\n",
       "│ ---           ┆ ---           ┆ ---           ┆ ---           ┆   ┆ ---        ┆ ---      ┆ ---      ┆ ---           │\n",
       "│ str           ┆ str           ┆ str           ┆ str           ┆   ┆ str        ┆ str      ┆ str      ┆ str           │\n",
       "╞═══════════════╪═══════════════╪═══════════════╪═══════════════╪═══╪════════════╪══════════╪══════════╪═══════════════╡\n",
       "│ C1D650626C8C8 ┆ electric_bike ┆ 2024-01-12    ┆ 2024-01-12    ┆ … ┆ 2024-01-12 ┆ 15:37:59 ┆ 452      ┆ Fair          │\n",
       "│ 99A           ┆               ┆ 15:30:27.0000 ┆ 15:37:59.0000 ┆   ┆            ┆          ┆          ┆               │\n",
       "│               ┆               ┆ 00            ┆ 00            ┆   ┆            ┆          ┆          ┆               │\n",
       "│ EECD38BDB25BF ┆ electric_bike ┆ 2024-01-08    ┆ 2024-01-08    ┆ … ┆ 2024-01-08 ┆ 15:52:59 ┆ 433      ┆ Fair          │\n",
       "│ CB0           ┆               ┆ 15:45:46.0000 ┆ 15:52:59.0000 ┆   ┆            ┆          ┆          ┆               │\n",
       "│               ┆               ┆ 00            ┆ 00            ┆   ┆            ┆          ┆          ┆               │\n",
       "│ F4A9CE78061F1 ┆ electric_bike ┆ 2024-01-27    ┆ 2024-01-27    ┆ … ┆ 2024-01-27 ┆ 12:35:19 ┆ 480      ┆ Fair          │\n",
       "│ 7F7           ┆               ┆ 12:27:19.0000 ┆ 12:35:19.0000 ┆   ┆            ┆          ┆          ┆               │\n",
       "│               ┆               ┆ 00            ┆ 00            ┆   ┆            ┆          ┆          ┆               │\n",
       "│ 0A0D9E15EE50B ┆ classic_bike  ┆ 2024-01-29    ┆ 2024-01-29    ┆ … ┆ 2024-01-29 ┆ 16:56:06 ┆ 1789     ┆ Fair          │\n",
       "│ 171           ┆               ┆ 16:26:17.0000 ┆ 16:56:06.0000 ┆   ┆            ┆          ┆          ┆               │\n",
       "│               ┆               ┆ 00            ┆ 00            ┆   ┆            ┆          ┆          ┆               │\n",
       "│ 33FFC9805E3EF ┆ classic_bike  ┆ 2024-01-31    ┆ 2024-01-31    ┆ … ┆ 2024-01-31 ┆ 06:09:35 ┆ 1572     ┆ Fair          │\n",
       "│ F9A           ┆               ┆ 05:43:23.0000 ┆ 06:09:35.0000 ┆   ┆            ┆          ┆          ┆               │\n",
       "│               ┆               ┆ 00            ┆ 00            ┆   ┆            ┆          ┆          ┆               │\n",
       "│ …             ┆ …             ┆ …             ┆ …             ┆ … ┆ …          ┆ …        ┆ …        ┆ …             │\n",
       "│ BD56BA20F42E4 ┆ electric_bike ┆ 2024-12-11    ┆ 2024-12-11    ┆ … ┆ 2024-12-11 ┆ 08:37:34 ┆ 828      ┆ Fair          │\n",
       "│ 794           ┆               ┆ 08:23:46.0000 ┆ 08:37:34.0000 ┆   ┆            ┆          ┆          ┆               │\n",
       "│               ┆               ┆ 00            ┆ 00            ┆   ┆            ┆          ┆          ┆               │\n",
       "│ 3074643A6B60B ┆ electric_bike ┆ 2024-12-09    ┆ 2024-12-09    ┆ … ┆ 2024-12-09 ┆ 12:37:32 ┆ 677      ┆ Fair          │\n",
       "│ 300           ┆               ┆ 12:26:15.0000 ┆ 12:37:32.0000 ┆   ┆            ┆          ┆          ┆               │\n",
       "│               ┆               ┆ 00            ┆ 00            ┆   ┆            ┆          ┆          ┆               │\n",
       "│ 15602635C5DF4 ┆ electric_bike ┆ 2024-12-31    ┆ 2024-12-31    ┆ … ┆ 2024-12-31 ┆ 17:17:21 ┆ 438      ┆ Fair          │\n",
       "│ 84E           ┆               ┆ 17:10:03.0000 ┆ 17:17:21.0000 ┆   ┆            ┆          ┆          ┆               │\n",
       "│               ┆               ┆ 00            ┆ 00            ┆   ┆            ┆          ┆          ┆               │\n",
       "│ F15ABBA961560 ┆ electric_bike ┆ 2024-12-01    ┆ 2024-12-01    ┆ … ┆ 2024-12-01 ┆ 14:45:21 ┆ 334      ┆ Fair          │\n",
       "│ B75           ┆               ┆ 14:39:47.0000 ┆ 14:45:21.0000 ┆   ┆            ┆          ┆          ┆               │\n",
       "│               ┆               ┆ 00            ┆ 00            ┆   ┆            ┆          ┆          ┆               │\n",
       "│ 8AF273287533B ┆ electric_bike ┆ 2024-12-17    ┆ 2024-12-17    ┆ … ┆ 2024-12-17 ┆ 06:46:27 ┆ 475      ┆ Fair          │\n",
       "│ 527           ┆               ┆ 06:38:32.0000 ┆ 06:46:27.0000 ┆   ┆            ┆          ┆          ┆               │\n",
       "│               ┆               ┆ 00            ┆ 00            ┆   ┆            ┆          ┆          ┆               │\n",
       "└───────────────┴───────────────┴───────────────┴───────────────┴───┴────────────┴──────────┴──────────┴───────────────┘"
      ]
     },
     "execution_count": 55,
     "metadata": {},
     "output_type": "execute_result"
    }
   ],
   "source": [
    "df_cleaned"
   ]
  },
  {
   "cell_type": "code",
   "execution_count": 58,
   "id": "624290f4-b196-4ae6-a5b8-5ee189ff0d8a",
   "metadata": {},
   "outputs": [],
   "source": [
    "df_cleaned = df_cleaned.with_columns([\n",
    "    df_cleaned[\"started_at\"].str.slice(0, 19).alias(\"started_at\"),  # Keep only YYYY-MM-DD HH:MM:SS\n",
    "    df_cleaned[\"ended_at\"].str.slice(0, 19).alias(\"ended_at\")\n",
    "])\n"
   ]
  },
  {
   "cell_type": "code",
   "execution_count": 60,
   "id": "e5f48c24-06ba-4aa7-b268-24f8f83b7b65",
   "metadata": {},
   "outputs": [
    {
     "name": "stdout",
     "output_type": "stream",
     "text": [
      "File saved as cleaned_cyclistic_data_2024.csv\n"
     ]
    }
   ],
   "source": [
    "df_cleaned.write_csv(\"cleaned_cyclistic_data_2024.csv\")\n",
    "print(\"File saved as cleaned_cyclistic_data_2024.csv\")"
   ]
  },
  {
   "cell_type": "code",
   "execution_count": null,
   "id": "9e68ceb2-a32e-4fcf-9ff2-41c6faf9fbe1",
   "metadata": {},
   "outputs": [],
   "source": []
  },
  {
   "cell_type": "code",
   "execution_count": null,
   "id": "27a2f046-bcc4-47fe-8af0-8f567f8b616e",
   "metadata": {},
   "outputs": [],
   "source": []
  },
  {
   "cell_type": "code",
   "execution_count": 82,
   "id": "3cdae81b-6f28-4762-9a70-8b738ae76329",
   "metadata": {},
   "outputs": [
    {
     "data": {
      "text/html": [
       "<div><style>\n",
       ".dataframe > thead > tr,\n",
       ".dataframe > tbody > tr {\n",
       "  text-align: right;\n",
       "  white-space: pre-wrap;\n",
       "}\n",
       "</style>\n",
       "<small>shape: (5_853_336, 17)</small><table border=\"1\" class=\"dataframe\"><thead><tr><th>ride_id</th><th>rideable_type</th><th>started_at</th><th>ended_at</th><th>start_station_name</th><th>end_station_name</th><th>start_lat</th><th>start_lng</th><th>end_lat</th><th>end_lng</th><th>member_casual</th><th>start_date</th><th>start_time</th><th>end_date</th><th>end_time</th><th>duration</th><th>ride_validity</th></tr><tr><td>str</td><td>str</td><td>str</td><td>str</td><td>str</td><td>str</td><td>f64</td><td>f64</td><td>f64</td><td>f64</td><td>str</td><td>str</td><td>str</td><td>str</td><td>str</td><td>i64</td><td>str</td></tr></thead><tbody><tr><td>&quot;C1D650626C8C899A&quot;</td><td>&quot;electric_bike&quot;</td><td>&quot;2024-01-12 15:30:27&quot;</td><td>&quot;2024-01-12 15:37:59&quot;</td><td>&quot;Wells St &amp; Elm St&quot;</td><td>&quot;Kingsbury St &amp; Kinzie St&quot;</td><td>41.903267</td><td>-87.634737</td><td>41.889177</td><td>-87.638506</td><td>&quot;member&quot;</td><td>&quot;2024-01-12&quot;</td><td>&quot;15:30:27&quot;</td><td>&quot;2024-01-12&quot;</td><td>&quot;15:37:59&quot;</td><td>452</td><td>&quot;Fair&quot;</td></tr><tr><td>&quot;EECD38BDB25BFCB0&quot;</td><td>&quot;electric_bike&quot;</td><td>&quot;2024-01-08 15:45:46&quot;</td><td>&quot;2024-01-08 15:52:59&quot;</td><td>&quot;Wells St &amp; Elm St&quot;</td><td>&quot;Kingsbury St &amp; Kinzie St&quot;</td><td>41.902937</td><td>-87.63444</td><td>41.889177</td><td>-87.638506</td><td>&quot;member&quot;</td><td>&quot;2024-01-08&quot;</td><td>&quot;15:45:46&quot;</td><td>&quot;2024-01-08&quot;</td><td>&quot;15:52:59&quot;</td><td>433</td><td>&quot;Fair&quot;</td></tr><tr><td>&quot;F4A9CE78061F17F7&quot;</td><td>&quot;electric_bike&quot;</td><td>&quot;2024-01-27 12:27:19&quot;</td><td>&quot;2024-01-27 12:35:19&quot;</td><td>&quot;Wells St &amp; Elm St&quot;</td><td>&quot;Kingsbury St &amp; Kinzie St&quot;</td><td>41.902951</td><td>-87.63447</td><td>41.889177</td><td>-87.638506</td><td>&quot;member&quot;</td><td>&quot;2024-01-27&quot;</td><td>&quot;12:27:19&quot;</td><td>&quot;2024-01-27&quot;</td><td>&quot;12:35:19&quot;</td><td>480</td><td>&quot;Fair&quot;</td></tr><tr><td>&quot;0A0D9E15EE50B171&quot;</td><td>&quot;classic_bike&quot;</td><td>&quot;2024-01-29 16:26:17&quot;</td><td>&quot;2024-01-29 16:56:06&quot;</td><td>&quot;Wells St &amp; Randolph St&quot;</td><td>&quot;Larrabee St &amp; Webster Ave&quot;</td><td>41.884295</td><td>-87.633963</td><td>41.921822</td><td>-87.64414</td><td>&quot;member&quot;</td><td>&quot;2024-01-29&quot;</td><td>&quot;16:26:17&quot;</td><td>&quot;2024-01-29&quot;</td><td>&quot;16:56:06&quot;</td><td>1789</td><td>&quot;Fair&quot;</td></tr><tr><td>&quot;33FFC9805E3EFF9A&quot;</td><td>&quot;classic_bike&quot;</td><td>&quot;2024-01-31 05:43:23&quot;</td><td>&quot;2024-01-31 06:09:35&quot;</td><td>&quot;Lincoln Ave &amp; Waveland Ave&quot;</td><td>&quot;Kingsbury St &amp; Kinzie St&quot;</td><td>41.948797</td><td>-87.675278</td><td>41.889177</td><td>-87.638506</td><td>&quot;member&quot;</td><td>&quot;2024-01-31&quot;</td><td>&quot;05:43:23&quot;</td><td>&quot;2024-01-31&quot;</td><td>&quot;06:09:35&quot;</td><td>1572</td><td>&quot;Fair&quot;</td></tr><tr><td>&hellip;</td><td>&hellip;</td><td>&hellip;</td><td>&hellip;</td><td>&hellip;</td><td>&hellip;</td><td>&hellip;</td><td>&hellip;</td><td>&hellip;</td><td>&hellip;</td><td>&hellip;</td><td>&hellip;</td><td>&hellip;</td><td>&hellip;</td><td>&hellip;</td><td>&hellip;</td><td>&hellip;</td></tr><tr><td>&quot;BD56BA20F42E4794&quot;</td><td>&quot;electric_bike&quot;</td><td>&quot;2024-12-11 08:23:46&quot;</td><td>&quot;2024-12-11 08:37:34&quot;</td><td>&quot;Clybourn Ave &amp; Division St&quot;</td><td>&quot;Dearborn St &amp; Monroe St&quot;</td><td>41.904634</td><td>-87.640518</td><td>41.88</td><td>-87.63</td><td>&quot;member&quot;</td><td>&quot;2024-12-11&quot;</td><td>&quot;08:23:46&quot;</td><td>&quot;2024-12-11&quot;</td><td>&quot;08:37:34&quot;</td><td>828</td><td>&quot;Fair&quot;</td></tr><tr><td>&quot;3074643A6B60B300&quot;</td><td>&quot;electric_bike&quot;</td><td>&quot;2024-12-09 12:26:15&quot;</td><td>&quot;2024-12-09 12:37:32&quot;</td><td>&quot;Canal St &amp; Jackson Blvd&quot;</td><td>&quot;Mies van der Rohe Way &amp; Chestn…</td><td>41.878125</td><td>-87.639968</td><td>41.9</td><td>-87.62</td><td>&quot;member&quot;</td><td>&quot;2024-12-09&quot;</td><td>&quot;12:26:15&quot;</td><td>&quot;2024-12-09&quot;</td><td>&quot;12:37:32&quot;</td><td>677</td><td>&quot;Fair&quot;</td></tr><tr><td>&quot;15602635C5DF484E&quot;</td><td>&quot;electric_bike&quot;</td><td>&quot;2024-12-31 17:10:03&quot;</td><td>&quot;2024-12-31 17:17:21&quot;</td><td>&quot;Albany Ave &amp; Bloomingdale Ave&quot;</td><td>&quot;California Ave &amp; Milwaukee Ave&quot;</td><td>41.914027</td><td>-87.705126</td><td>41.922695</td><td>-87.697153</td><td>&quot;member&quot;</td><td>&quot;2024-12-31&quot;</td><td>&quot;17:10:03&quot;</td><td>&quot;2024-12-31&quot;</td><td>&quot;17:17:21&quot;</td><td>438</td><td>&quot;Fair&quot;</td></tr><tr><td>&quot;F15ABBA961560B75&quot;</td><td>&quot;electric_bike&quot;</td><td>&quot;2024-12-01 14:39:47&quot;</td><td>&quot;2024-12-01 14:45:21&quot;</td><td>&quot;Albany Ave &amp; Bloomingdale Ave&quot;</td><td>&quot;California Ave &amp; Milwaukee Ave&quot;</td><td>41.914003</td><td>-87.705099</td><td>41.922695</td><td>-87.697153</td><td>&quot;member&quot;</td><td>&quot;2024-12-01&quot;</td><td>&quot;14:39:47&quot;</td><td>&quot;2024-12-01&quot;</td><td>&quot;14:45:21&quot;</td><td>334</td><td>&quot;Fair&quot;</td></tr><tr><td>&quot;8AF273287533B527&quot;</td><td>&quot;electric_bike&quot;</td><td>&quot;2024-12-17 06:38:32&quot;</td><td>&quot;2024-12-17 06:46:27&quot;</td><td>&quot;Albany Ave &amp; Bloomingdale Ave&quot;</td><td>&quot;Milwaukee Ave &amp; Rockwell St&quot;</td><td>41.914027</td><td>-87.705126</td><td>41.92</td><td>-87.69</td><td>&quot;member&quot;</td><td>&quot;2024-12-17&quot;</td><td>&quot;06:38:32&quot;</td><td>&quot;2024-12-17&quot;</td><td>&quot;06:46:27&quot;</td><td>475</td><td>&quot;Fair&quot;</td></tr></tbody></table></div>"
      ],
      "text/plain": [
       "shape: (5_853_336, 17)\n",
       "┌──────────────────┬───────────────┬────────────┬────────────┬───┬────────────┬──────────┬──────────┬───────────────┐\n",
       "│ ride_id          ┆ rideable_type ┆ started_at ┆ ended_at   ┆ … ┆ end_date   ┆ end_time ┆ duration ┆ ride_validity │\n",
       "│ ---              ┆ ---           ┆ ---        ┆ ---        ┆   ┆ ---        ┆ ---      ┆ ---      ┆ ---           │\n",
       "│ str              ┆ str           ┆ str        ┆ str        ┆   ┆ str        ┆ str      ┆ i64      ┆ str           │\n",
       "╞══════════════════╪═══════════════╪════════════╪════════════╪═══╪════════════╪══════════╪══════════╪═══════════════╡\n",
       "│ C1D650626C8C899A ┆ electric_bike ┆ 2024-01-12 ┆ 2024-01-12 ┆ … ┆ 2024-01-12 ┆ 15:37:59 ┆ 452      ┆ Fair          │\n",
       "│                  ┆               ┆ 15:30:27   ┆ 15:37:59   ┆   ┆            ┆          ┆          ┆               │\n",
       "│ EECD38BDB25BFCB0 ┆ electric_bike ┆ 2024-01-08 ┆ 2024-01-08 ┆ … ┆ 2024-01-08 ┆ 15:52:59 ┆ 433      ┆ Fair          │\n",
       "│                  ┆               ┆ 15:45:46   ┆ 15:52:59   ┆   ┆            ┆          ┆          ┆               │\n",
       "│ F4A9CE78061F17F7 ┆ electric_bike ┆ 2024-01-27 ┆ 2024-01-27 ┆ … ┆ 2024-01-27 ┆ 12:35:19 ┆ 480      ┆ Fair          │\n",
       "│                  ┆               ┆ 12:27:19   ┆ 12:35:19   ┆   ┆            ┆          ┆          ┆               │\n",
       "│ 0A0D9E15EE50B171 ┆ classic_bike  ┆ 2024-01-29 ┆ 2024-01-29 ┆ … ┆ 2024-01-29 ┆ 16:56:06 ┆ 1789     ┆ Fair          │\n",
       "│                  ┆               ┆ 16:26:17   ┆ 16:56:06   ┆   ┆            ┆          ┆          ┆               │\n",
       "│ 33FFC9805E3EFF9A ┆ classic_bike  ┆ 2024-01-31 ┆ 2024-01-31 ┆ … ┆ 2024-01-31 ┆ 06:09:35 ┆ 1572     ┆ Fair          │\n",
       "│                  ┆               ┆ 05:43:23   ┆ 06:09:35   ┆   ┆            ┆          ┆          ┆               │\n",
       "│ …                ┆ …             ┆ …          ┆ …          ┆ … ┆ …          ┆ …        ┆ …        ┆ …             │\n",
       "│ BD56BA20F42E4794 ┆ electric_bike ┆ 2024-12-11 ┆ 2024-12-11 ┆ … ┆ 2024-12-11 ┆ 08:37:34 ┆ 828      ┆ Fair          │\n",
       "│                  ┆               ┆ 08:23:46   ┆ 08:37:34   ┆   ┆            ┆          ┆          ┆               │\n",
       "│ 3074643A6B60B300 ┆ electric_bike ┆ 2024-12-09 ┆ 2024-12-09 ┆ … ┆ 2024-12-09 ┆ 12:37:32 ┆ 677      ┆ Fair          │\n",
       "│                  ┆               ┆ 12:26:15   ┆ 12:37:32   ┆   ┆            ┆          ┆          ┆               │\n",
       "│ 15602635C5DF484E ┆ electric_bike ┆ 2024-12-31 ┆ 2024-12-31 ┆ … ┆ 2024-12-31 ┆ 17:17:21 ┆ 438      ┆ Fair          │\n",
       "│                  ┆               ┆ 17:10:03   ┆ 17:17:21   ┆   ┆            ┆          ┆          ┆               │\n",
       "│ F15ABBA961560B75 ┆ electric_bike ┆ 2024-12-01 ┆ 2024-12-01 ┆ … ┆ 2024-12-01 ┆ 14:45:21 ┆ 334      ┆ Fair          │\n",
       "│                  ┆               ┆ 14:39:47   ┆ 14:45:21   ┆   ┆            ┆          ┆          ┆               │\n",
       "│ 8AF273287533B527 ┆ electric_bike ┆ 2024-12-17 ┆ 2024-12-17 ┆ … ┆ 2024-12-17 ┆ 06:46:27 ┆ 475      ┆ Fair          │\n",
       "│                  ┆               ┆ 06:38:32   ┆ 06:46:27   ┆   ┆            ┆          ┆          ┆               │\n",
       "└──────────────────┴───────────────┴────────────┴────────────┴───┴────────────┴──────────┴──────────┴───────────────┘"
      ]
     },
     "execution_count": 82,
     "metadata": {},
     "output_type": "execute_result"
    }
   ],
   "source": [
    "pl.read_csv(r\"C:\\Users\\Sowjanya\\Documents\\BIIKE-SHARE-DATA\\cleaned_cyclistic_data_2024.csv\")"
   ]
  },
  {
   "cell_type": "code",
   "execution_count": null,
   "id": "b26f38cb-b525-42d6-84a2-c7baba4400d3",
   "metadata": {},
   "outputs": [],
   "source": [
    "pip install sqlalchemy"
   ]
  },
  {
   "cell_type": "code",
   "execution_count": null,
   "id": "8c0129d0-ed5e-4d45-b810-6c319edb5cbc",
   "metadata": {},
   "outputs": [],
   "source": [
    "from sqlalchemy import create_engine"
   ]
  },
  {
   "cell_type": "code",
   "execution_count": null,
   "id": "7c84b6ee-55ec-4eac-9446-7c816c24d3c4",
   "metadata": {},
   "outputs": [],
   "source": [
    "pip install sqlalchemy mysql-connector-python pymysql\n"
   ]
  },
  {
   "cell_type": "code",
   "execution_count": null,
   "id": "9586089a-5e40-45f9-a592-2f63f3b7b178",
   "metadata": {},
   "outputs": [],
   "source": [
    "print(len(df_cleaned.columns))  # Should match the number of %s placeholders\n"
   ]
  },
  {
   "cell_type": "code",
   "execution_count": 84,
   "id": "490d9280-e183-4938-9598-b5b4053d8777",
   "metadata": {},
   "outputs": [
    {
     "data": {
      "text/html": [
       "<div><style>\n",
       ".dataframe > thead > tr,\n",
       ".dataframe > tbody > tr {\n",
       "  text-align: right;\n",
       "  white-space: pre-wrap;\n",
       "}\n",
       "</style>\n",
       "<small>shape: (5_853_336, 17)</small><table border=\"1\" class=\"dataframe\"><thead><tr><th>ride_id</th><th>rideable_type</th><th>started_at</th><th>ended_at</th><th>start_station_name</th><th>end_station_name</th><th>start_lat</th><th>start_lng</th><th>end_lat</th><th>end_lng</th><th>member_casual</th><th>start_date</th><th>start_time</th><th>end_date</th><th>end_time</th><th>duration</th><th>ride_validity</th></tr><tr><td>str</td><td>str</td><td>str</td><td>str</td><td>str</td><td>str</td><td>str</td><td>str</td><td>str</td><td>str</td><td>str</td><td>str</td><td>str</td><td>str</td><td>str</td><td>str</td><td>str</td></tr></thead><tbody><tr><td>&quot;C1D650626C8C899A&quot;</td><td>&quot;electric_bike&quot;</td><td>&quot;2024-01-12 15:30:27&quot;</td><td>&quot;2024-01-12 15:37:59&quot;</td><td>&quot;Wells St &amp; Elm St&quot;</td><td>&quot;Kingsbury St &amp; Kinzie St&quot;</td><td>&quot;41.903267384&quot;</td><td>&quot;-87.634736776&quot;</td><td>&quot;41.88917683258&quot;</td><td>&quot;-87.6385057718&quot;</td><td>&quot;member&quot;</td><td>&quot;2024-01-12&quot;</td><td>&quot;15:30:27&quot;</td><td>&quot;2024-01-12&quot;</td><td>&quot;15:37:59&quot;</td><td>&quot;452&quot;</td><td>&quot;Fair&quot;</td></tr><tr><td>&quot;EECD38BDB25BFCB0&quot;</td><td>&quot;electric_bike&quot;</td><td>&quot;2024-01-08 15:45:46&quot;</td><td>&quot;2024-01-08 15:52:59&quot;</td><td>&quot;Wells St &amp; Elm St&quot;</td><td>&quot;Kingsbury St &amp; Kinzie St&quot;</td><td>&quot;41.9029365&quot;</td><td>&quot;-87.63444016666666&quot;</td><td>&quot;41.88917683258&quot;</td><td>&quot;-87.6385057718&quot;</td><td>&quot;member&quot;</td><td>&quot;2024-01-08&quot;</td><td>&quot;15:45:46&quot;</td><td>&quot;2024-01-08&quot;</td><td>&quot;15:52:59&quot;</td><td>&quot;433&quot;</td><td>&quot;Fair&quot;</td></tr><tr><td>&quot;F4A9CE78061F17F7&quot;</td><td>&quot;electric_bike&quot;</td><td>&quot;2024-01-27 12:27:19&quot;</td><td>&quot;2024-01-27 12:35:19&quot;</td><td>&quot;Wells St &amp; Elm St&quot;</td><td>&quot;Kingsbury St &amp; Kinzie St&quot;</td><td>&quot;41.902951333333334&quot;</td><td>&quot;-87.63447033333334&quot;</td><td>&quot;41.88917683258&quot;</td><td>&quot;-87.6385057718&quot;</td><td>&quot;member&quot;</td><td>&quot;2024-01-27&quot;</td><td>&quot;12:27:19&quot;</td><td>&quot;2024-01-27&quot;</td><td>&quot;12:35:19&quot;</td><td>&quot;480&quot;</td><td>&quot;Fair&quot;</td></tr><tr><td>&quot;0A0D9E15EE50B171&quot;</td><td>&quot;classic_bike&quot;</td><td>&quot;2024-01-29 16:26:17&quot;</td><td>&quot;2024-01-29 16:56:06&quot;</td><td>&quot;Wells St &amp; Randolph St&quot;</td><td>&quot;Larrabee St &amp; Webster Ave&quot;</td><td>&quot;41.884295&quot;</td><td>&quot;-87.633963&quot;</td><td>&quot;41.921822&quot;</td><td>&quot;-87.64414&quot;</td><td>&quot;member&quot;</td><td>&quot;2024-01-29&quot;</td><td>&quot;16:26:17&quot;</td><td>&quot;2024-01-29&quot;</td><td>&quot;16:56:06&quot;</td><td>&quot;1789&quot;</td><td>&quot;Fair&quot;</td></tr><tr><td>&quot;33FFC9805E3EFF9A&quot;</td><td>&quot;classic_bike&quot;</td><td>&quot;2024-01-31 05:43:23&quot;</td><td>&quot;2024-01-31 06:09:35&quot;</td><td>&quot;Lincoln Ave &amp; Waveland Ave&quot;</td><td>&quot;Kingsbury St &amp; Kinzie St&quot;</td><td>&quot;41.948797&quot;</td><td>&quot;-87.675278&quot;</td><td>&quot;41.88917683258&quot;</td><td>&quot;-87.6385057718&quot;</td><td>&quot;member&quot;</td><td>&quot;2024-01-31&quot;</td><td>&quot;05:43:23&quot;</td><td>&quot;2024-01-31&quot;</td><td>&quot;06:09:35&quot;</td><td>&quot;1572&quot;</td><td>&quot;Fair&quot;</td></tr><tr><td>&hellip;</td><td>&hellip;</td><td>&hellip;</td><td>&hellip;</td><td>&hellip;</td><td>&hellip;</td><td>&hellip;</td><td>&hellip;</td><td>&hellip;</td><td>&hellip;</td><td>&hellip;</td><td>&hellip;</td><td>&hellip;</td><td>&hellip;</td><td>&hellip;</td><td>&hellip;</td><td>&hellip;</td></tr><tr><td>&quot;BD56BA20F42E4794&quot;</td><td>&quot;electric_bike&quot;</td><td>&quot;2024-12-11 08:23:46&quot;</td><td>&quot;2024-12-11 08:37:34&quot;</td><td>&quot;Clybourn Ave &amp; Division St&quot;</td><td>&quot;Dearborn St &amp; Monroe St&quot;</td><td>&quot;41.904633522&quot;</td><td>&quot;-87.64051795&quot;</td><td>&quot;41.88&quot;</td><td>&quot;-87.63&quot;</td><td>&quot;member&quot;</td><td>&quot;2024-12-11&quot;</td><td>&quot;08:23:46&quot;</td><td>&quot;2024-12-11&quot;</td><td>&quot;08:37:34&quot;</td><td>&quot;828&quot;</td><td>&quot;Fair&quot;</td></tr><tr><td>&quot;3074643A6B60B300&quot;</td><td>&quot;electric_bike&quot;</td><td>&quot;2024-12-09 12:26:15&quot;</td><td>&quot;2024-12-09 12:37:32&quot;</td><td>&quot;Canal St &amp; Jackson Blvd&quot;</td><td>&quot;Mies van der Rohe Way &amp; Chestn…</td><td>&quot;41.878125&quot;</td><td>&quot;-87.639968&quot;</td><td>&quot;41.9&quot;</td><td>&quot;-87.62&quot;</td><td>&quot;member&quot;</td><td>&quot;2024-12-09&quot;</td><td>&quot;12:26:15&quot;</td><td>&quot;2024-12-09&quot;</td><td>&quot;12:37:32&quot;</td><td>&quot;677&quot;</td><td>&quot;Fair&quot;</td></tr><tr><td>&quot;15602635C5DF484E&quot;</td><td>&quot;electric_bike&quot;</td><td>&quot;2024-12-31 17:10:03&quot;</td><td>&quot;2024-12-31 17:17:21&quot;</td><td>&quot;Albany Ave &amp; Bloomingdale Ave&quot;</td><td>&quot;California Ave &amp; Milwaukee Ave&quot;</td><td>&quot;41.91402671273&quot;</td><td>&quot;-87.705126462&quot;</td><td>&quot;41.922695&quot;</td><td>&quot;-87.697153&quot;</td><td>&quot;member&quot;</td><td>&quot;2024-12-31&quot;</td><td>&quot;17:10:03&quot;</td><td>&quot;2024-12-31&quot;</td><td>&quot;17:17:21&quot;</td><td>&quot;438&quot;</td><td>&quot;Fair&quot;</td></tr><tr><td>&quot;F15ABBA961560B75&quot;</td><td>&quot;electric_bike&quot;</td><td>&quot;2024-12-01 14:39:47&quot;</td><td>&quot;2024-12-01 14:45:21&quot;</td><td>&quot;Albany Ave &amp; Bloomingdale Ave&quot;</td><td>&quot;California Ave &amp; Milwaukee Ave&quot;</td><td>&quot;41.914002657&quot;</td><td>&quot;-87.705099225&quot;</td><td>&quot;41.922695&quot;</td><td>&quot;-87.697153&quot;</td><td>&quot;member&quot;</td><td>&quot;2024-12-01&quot;</td><td>&quot;14:39:47&quot;</td><td>&quot;2024-12-01&quot;</td><td>&quot;14:45:21&quot;</td><td>&quot;334&quot;</td><td>&quot;Fair&quot;</td></tr><tr><td>&quot;8AF273287533B527&quot;</td><td>&quot;electric_bike&quot;</td><td>&quot;2024-12-17 06:38:32&quot;</td><td>&quot;2024-12-17 06:46:27&quot;</td><td>&quot;Albany Ave &amp; Bloomingdale Ave&quot;</td><td>&quot;Milwaukee Ave &amp; Rockwell St&quot;</td><td>&quot;41.91402671273&quot;</td><td>&quot;-87.705126462&quot;</td><td>&quot;41.92&quot;</td><td>&quot;-87.69&quot;</td><td>&quot;member&quot;</td><td>&quot;2024-12-17&quot;</td><td>&quot;06:38:32&quot;</td><td>&quot;2024-12-17&quot;</td><td>&quot;06:46:27&quot;</td><td>&quot;475&quot;</td><td>&quot;Fair&quot;</td></tr></tbody></table></div>"
      ],
      "text/plain": [
       "shape: (5_853_336, 17)\n",
       "┌──────────────────┬───────────────┬────────────┬────────────┬───┬────────────┬──────────┬──────────┬───────────────┐\n",
       "│ ride_id          ┆ rideable_type ┆ started_at ┆ ended_at   ┆ … ┆ end_date   ┆ end_time ┆ duration ┆ ride_validity │\n",
       "│ ---              ┆ ---           ┆ ---        ┆ ---        ┆   ┆ ---        ┆ ---      ┆ ---      ┆ ---           │\n",
       "│ str              ┆ str           ┆ str        ┆ str        ┆   ┆ str        ┆ str      ┆ str      ┆ str           │\n",
       "╞══════════════════╪═══════════════╪════════════╪════════════╪═══╪════════════╪══════════╪══════════╪═══════════════╡\n",
       "│ C1D650626C8C899A ┆ electric_bike ┆ 2024-01-12 ┆ 2024-01-12 ┆ … ┆ 2024-01-12 ┆ 15:37:59 ┆ 452      ┆ Fair          │\n",
       "│                  ┆               ┆ 15:30:27   ┆ 15:37:59   ┆   ┆            ┆          ┆          ┆               │\n",
       "│ EECD38BDB25BFCB0 ┆ electric_bike ┆ 2024-01-08 ┆ 2024-01-08 ┆ … ┆ 2024-01-08 ┆ 15:52:59 ┆ 433      ┆ Fair          │\n",
       "│                  ┆               ┆ 15:45:46   ┆ 15:52:59   ┆   ┆            ┆          ┆          ┆               │\n",
       "│ F4A9CE78061F17F7 ┆ electric_bike ┆ 2024-01-27 ┆ 2024-01-27 ┆ … ┆ 2024-01-27 ┆ 12:35:19 ┆ 480      ┆ Fair          │\n",
       "│                  ┆               ┆ 12:27:19   ┆ 12:35:19   ┆   ┆            ┆          ┆          ┆               │\n",
       "│ 0A0D9E15EE50B171 ┆ classic_bike  ┆ 2024-01-29 ┆ 2024-01-29 ┆ … ┆ 2024-01-29 ┆ 16:56:06 ┆ 1789     ┆ Fair          │\n",
       "│                  ┆               ┆ 16:26:17   ┆ 16:56:06   ┆   ┆            ┆          ┆          ┆               │\n",
       "│ 33FFC9805E3EFF9A ┆ classic_bike  ┆ 2024-01-31 ┆ 2024-01-31 ┆ … ┆ 2024-01-31 ┆ 06:09:35 ┆ 1572     ┆ Fair          │\n",
       "│                  ┆               ┆ 05:43:23   ┆ 06:09:35   ┆   ┆            ┆          ┆          ┆               │\n",
       "│ …                ┆ …             ┆ …          ┆ …          ┆ … ┆ …          ┆ …        ┆ …        ┆ …             │\n",
       "│ BD56BA20F42E4794 ┆ electric_bike ┆ 2024-12-11 ┆ 2024-12-11 ┆ … ┆ 2024-12-11 ┆ 08:37:34 ┆ 828      ┆ Fair          │\n",
       "│                  ┆               ┆ 08:23:46   ┆ 08:37:34   ┆   ┆            ┆          ┆          ┆               │\n",
       "│ 3074643A6B60B300 ┆ electric_bike ┆ 2024-12-09 ┆ 2024-12-09 ┆ … ┆ 2024-12-09 ┆ 12:37:32 ┆ 677      ┆ Fair          │\n",
       "│                  ┆               ┆ 12:26:15   ┆ 12:37:32   ┆   ┆            ┆          ┆          ┆               │\n",
       "│ 15602635C5DF484E ┆ electric_bike ┆ 2024-12-31 ┆ 2024-12-31 ┆ … ┆ 2024-12-31 ┆ 17:17:21 ┆ 438      ┆ Fair          │\n",
       "│                  ┆               ┆ 17:10:03   ┆ 17:17:21   ┆   ┆            ┆          ┆          ┆               │\n",
       "│ F15ABBA961560B75 ┆ electric_bike ┆ 2024-12-01 ┆ 2024-12-01 ┆ … ┆ 2024-12-01 ┆ 14:45:21 ┆ 334      ┆ Fair          │\n",
       "│                  ┆               ┆ 14:39:47   ┆ 14:45:21   ┆   ┆            ┆          ┆          ┆               │\n",
       "│ 8AF273287533B527 ┆ electric_bike ┆ 2024-12-17 ┆ 2024-12-17 ┆ … ┆ 2024-12-17 ┆ 06:46:27 ┆ 475      ┆ Fair          │\n",
       "│                  ┆               ┆ 06:38:32   ┆ 06:46:27   ┆   ┆            ┆          ┆          ┆               │\n",
       "└──────────────────┴───────────────┴────────────┴────────────┴───┴────────────┴──────────┴──────────┴───────────────┘"
      ]
     },
     "execution_count": 84,
     "metadata": {},
     "output_type": "execute_result"
    }
   ],
   "source": [
    "df_cleaned"
   ]
  },
  {
   "cell_type": "code",
   "execution_count": 86,
   "id": "45c73c2c-b6d0-4b55-a7fc-7e81b84ca52a",
   "metadata": {},
   "outputs": [],
   "source": [
    "df_cleaned = df_cleaned.unique(subset=[\"ride_id\"])\n"
   ]
  },
  {
   "cell_type": "code",
   "execution_count": 88,
   "id": "c87ad00a-0f8a-426a-bcca-531b3c13c306",
   "metadata": {},
   "outputs": [
    {
     "data": {
      "text/html": [
       "<div><style>\n",
       ".dataframe > thead > tr,\n",
       ".dataframe > tbody > tr {\n",
       "  text-align: right;\n",
       "  white-space: pre-wrap;\n",
       "}\n",
       "</style>\n",
       "<small>shape: (5_853_165, 17)</small><table border=\"1\" class=\"dataframe\"><thead><tr><th>ride_id</th><th>rideable_type</th><th>started_at</th><th>ended_at</th><th>start_station_name</th><th>end_station_name</th><th>start_lat</th><th>start_lng</th><th>end_lat</th><th>end_lng</th><th>member_casual</th><th>start_date</th><th>start_time</th><th>end_date</th><th>end_time</th><th>duration</th><th>ride_validity</th></tr><tr><td>str</td><td>str</td><td>str</td><td>str</td><td>str</td><td>str</td><td>str</td><td>str</td><td>str</td><td>str</td><td>str</td><td>str</td><td>str</td><td>str</td><td>str</td><td>str</td><td>str</td></tr></thead><tbody><tr><td>&quot;9FC44CCF78FB54C7&quot;</td><td>&quot;electric_bike&quot;</td><td>&quot;2024-05-31 16:39:07&quot;</td><td>&quot;2024-05-31 17:10:47&quot;</td><td>&quot;Damen Ave &amp; Walnut (Lake) St&quot;</td><td>&quot;Clarendon Ave &amp; Junior Ter&quot;</td><td>&quot;41.885957003&quot;</td><td>&quot;-87.676992774&quot;</td><td>&quot;41.961004&quot;</td><td>&quot;-87.649603&quot;</td><td>&quot;member&quot;</td><td>&quot;2024-05-31&quot;</td><td>&quot;16:39:07&quot;</td><td>&quot;2024-05-31&quot;</td><td>&quot;17:10:47&quot;</td><td>&quot;1900&quot;</td><td>&quot;Fair&quot;</td></tr><tr><td>&quot;F88A0488A85E001C&quot;</td><td>&quot;classic_bike&quot;</td><td>&quot;2024-10-05 15:12:20&quot;</td><td>&quot;2024-10-05 15:22:16&quot;</td><td>&quot;Ashland Ave &amp; Lake St&quot;</td><td>&quot;Sangamon St &amp; Lake St&quot;</td><td>&quot;41.88592&quot;</td><td>&quot;-87.66717&quot;</td><td>&quot;41.88577925240433&quot;</td><td>&quot;-87.65102460980414&quot;</td><td>&quot;casual&quot;</td><td>&quot;2024-10-05&quot;</td><td>&quot;15:12:20&quot;</td><td>&quot;2024-10-05&quot;</td><td>&quot;15:22:16&quot;</td><td>&quot;596&quot;</td><td>&quot;Fair&quot;</td></tr><tr><td>&quot;F2202F477D16B66B&quot;</td><td>&quot;electric_bike&quot;</td><td>&quot;2024-04-13 17:00:11&quot;</td><td>&quot;2024-04-13 17:21:29&quot;</td><td>&quot;Western Ave &amp; Winnebago Ave&quot;</td><td>&quot;State St &amp; Randolph St&quot;</td><td>&quot;41.915694952&quot;</td><td>&quot;-87.687241673&quot;</td><td>&quot;41.88462107257936&quot;</td><td>&quot;-87.62783423066139&quot;</td><td>&quot;member&quot;</td><td>&quot;2024-04-13&quot;</td><td>&quot;17:00:11&quot;</td><td>&quot;2024-04-13&quot;</td><td>&quot;17:21:29&quot;</td><td>&quot;1278&quot;</td><td>&quot;Fair&quot;</td></tr><tr><td>&quot;164489DD07880813&quot;</td><td>&quot;classic_bike&quot;</td><td>&quot;2024-05-12 10:13:03&quot;</td><td>&quot;2024-05-12 10:30:23&quot;</td><td>&quot;Blackstone Ave &amp; Hyde Park Blv…</td><td>&quot;Ellis Ave &amp; 60th St&quot;</td><td>&quot;41.802562&quot;</td><td>&quot;-87.590368&quot;</td><td>&quot;41.78509714636&quot;</td><td>&quot;-87.6010727606&quot;</td><td>&quot;casual&quot;</td><td>&quot;2024-05-12&quot;</td><td>&quot;10:13:03&quot;</td><td>&quot;2024-05-12&quot;</td><td>&quot;10:30:23&quot;</td><td>&quot;1040&quot;</td><td>&quot;Fair&quot;</td></tr><tr><td>&quot;571F1056CDA2F7F9&quot;</td><td>&quot;electric_bike&quot;</td><td>&quot;2024-05-31 23:13:18&quot;</td><td>&quot;2024-05-31 23:19:38&quot;</td><td>&quot;Ashland Ave &amp; Augusta Blvd&quot;</td><td>&quot;Western Ave &amp; Walton St&quot;</td><td>&quot;41.9&quot;</td><td>&quot;-87.67&quot;</td><td>&quot;41.89841768945&quot;</td><td>&quot;-87.6865960164&quot;</td><td>&quot;casual&quot;</td><td>&quot;2024-05-31&quot;</td><td>&quot;23:13:18&quot;</td><td>&quot;2024-05-31&quot;</td><td>&quot;23:19:38&quot;</td><td>&quot;380&quot;</td><td>&quot;Fair&quot;</td></tr><tr><td>&hellip;</td><td>&hellip;</td><td>&hellip;</td><td>&hellip;</td><td>&hellip;</td><td>&hellip;</td><td>&hellip;</td><td>&hellip;</td><td>&hellip;</td><td>&hellip;</td><td>&hellip;</td><td>&hellip;</td><td>&hellip;</td><td>&hellip;</td><td>&hellip;</td><td>&hellip;</td><td>&hellip;</td></tr><tr><td>&quot;3DB400ABF1DD8FD7&quot;</td><td>&quot;electric_bike&quot;</td><td>&quot;2024-06-10 18:13:23&quot;</td><td>&quot;2024-06-10 18:18:25&quot;</td><td>&quot;Clinton St &amp; Lake St&quot;</td><td>&quot;N Damen Ave &amp; W Chicago Ave&quot;</td><td>&quot;41.9&quot;</td><td>&quot;-87.68&quot;</td><td>&quot;41.895809&quot;</td><td>&quot;-87.678519&quot;</td><td>&quot;member&quot;</td><td>&quot;2024-06-10&quot;</td><td>&quot;18:13:23&quot;</td><td>&quot;2024-06-10&quot;</td><td>&quot;18:18:25&quot;</td><td>&quot;302&quot;</td><td>&quot;Fair&quot;</td></tr><tr><td>&quot;34FBB2D15D11F3C7&quot;</td><td>&quot;electric_bike&quot;</td><td>&quot;2024-08-22 13:51:32&quot;</td><td>&quot;2024-08-22 13:57:12&quot;</td><td>&quot;Oakley Ave &amp; Irving Park Rd&quot;</td><td>&quot;Ashland Ave &amp; Belle Plaine Ave&quot;</td><td>&quot;41.95434085219&quot;</td><td>&quot;-87.6860796243&quot;</td><td>&quot;41.956057&quot;</td><td>&quot;-87.668835&quot;</td><td>&quot;casual&quot;</td><td>&quot;2024-08-22&quot;</td><td>&quot;13:51:32&quot;</td><td>&quot;2024-08-22&quot;</td><td>&quot;13:57:12&quot;</td><td>&quot;340&quot;</td><td>&quot;Fair&quot;</td></tr><tr><td>&quot;690EEC3E38CB0399&quot;</td><td>&quot;classic_bike&quot;</td><td>&quot;2024-05-25 13:35:15&quot;</td><td>&quot;2024-05-25 14:13:41&quot;</td><td>&quot;Fort Dearborn Dr &amp; 31st St*&quot;</td><td>&quot;Streeter Dr &amp; Grand Ave&quot;</td><td>&quot;41.83867632897121&quot;</td><td>&quot;-87.60883212089539&quot;</td><td>&quot;41.892278&quot;</td><td>&quot;-87.612043&quot;</td><td>&quot;casual&quot;</td><td>&quot;2024-05-25&quot;</td><td>&quot;13:35:15&quot;</td><td>&quot;2024-05-25&quot;</td><td>&quot;14:13:41&quot;</td><td>&quot;2306&quot;</td><td>&quot;Fair&quot;</td></tr><tr><td>&quot;91A180A0D541501B&quot;</td><td>&quot;classic_bike&quot;</td><td>&quot;2024-11-20 16:41:23&quot;</td><td>&quot;2024-11-20 17:16:51&quot;</td><td>&quot;Damen Ave &amp; Grand Ave&quot;</td><td>&quot;Kedzie Ave &amp; Milwaukee Ave&quot;</td><td>&quot;41.892394452962705&quot;</td><td>&quot;-87.67688512802124&quot;</td><td>&quot;41.928999&quot;</td><td>&quot;-87.70803&quot;</td><td>&quot;member&quot;</td><td>&quot;2024-11-20&quot;</td><td>&quot;16:41:23&quot;</td><td>&quot;2024-11-20&quot;</td><td>&quot;17:16:51&quot;</td><td>&quot;2128&quot;</td><td>&quot;Fair&quot;</td></tr><tr><td>&quot;B596B3561A68AF87&quot;</td><td>&quot;classic_bike&quot;</td><td>&quot;2024-10-02 13:39:31&quot;</td><td>&quot;2024-10-02 14:01:29&quot;</td><td>&quot;Western Ave &amp; Winnebago Ave&quot;</td><td>&quot;Burling St &amp; Diversey Pkwy&quot;</td><td>&quot;41.91552&quot;</td><td>&quot;-87.687022&quot;</td><td>&quot;41.93314&quot;</td><td>&quot;-87.64776&quot;</td><td>&quot;member&quot;</td><td>&quot;2024-10-02&quot;</td><td>&quot;13:39:31&quot;</td><td>&quot;2024-10-02&quot;</td><td>&quot;14:01:29&quot;</td><td>&quot;1318&quot;</td><td>&quot;Fair&quot;</td></tr></tbody></table></div>"
      ],
      "text/plain": [
       "shape: (5_853_165, 17)\n",
       "┌──────────────────┬───────────────┬────────────┬────────────┬───┬────────────┬──────────┬──────────┬───────────────┐\n",
       "│ ride_id          ┆ rideable_type ┆ started_at ┆ ended_at   ┆ … ┆ end_date   ┆ end_time ┆ duration ┆ ride_validity │\n",
       "│ ---              ┆ ---           ┆ ---        ┆ ---        ┆   ┆ ---        ┆ ---      ┆ ---      ┆ ---           │\n",
       "│ str              ┆ str           ┆ str        ┆ str        ┆   ┆ str        ┆ str      ┆ str      ┆ str           │\n",
       "╞══════════════════╪═══════════════╪════════════╪════════════╪═══╪════════════╪══════════╪══════════╪═══════════════╡\n",
       "│ 9FC44CCF78FB54C7 ┆ electric_bike ┆ 2024-05-31 ┆ 2024-05-31 ┆ … ┆ 2024-05-31 ┆ 17:10:47 ┆ 1900     ┆ Fair          │\n",
       "│                  ┆               ┆ 16:39:07   ┆ 17:10:47   ┆   ┆            ┆          ┆          ┆               │\n",
       "│ F88A0488A85E001C ┆ classic_bike  ┆ 2024-10-05 ┆ 2024-10-05 ┆ … ┆ 2024-10-05 ┆ 15:22:16 ┆ 596      ┆ Fair          │\n",
       "│                  ┆               ┆ 15:12:20   ┆ 15:22:16   ┆   ┆            ┆          ┆          ┆               │\n",
       "│ F2202F477D16B66B ┆ electric_bike ┆ 2024-04-13 ┆ 2024-04-13 ┆ … ┆ 2024-04-13 ┆ 17:21:29 ┆ 1278     ┆ Fair          │\n",
       "│                  ┆               ┆ 17:00:11   ┆ 17:21:29   ┆   ┆            ┆          ┆          ┆               │\n",
       "│ 164489DD07880813 ┆ classic_bike  ┆ 2024-05-12 ┆ 2024-05-12 ┆ … ┆ 2024-05-12 ┆ 10:30:23 ┆ 1040     ┆ Fair          │\n",
       "│                  ┆               ┆ 10:13:03   ┆ 10:30:23   ┆   ┆            ┆          ┆          ┆               │\n",
       "│ 571F1056CDA2F7F9 ┆ electric_bike ┆ 2024-05-31 ┆ 2024-05-31 ┆ … ┆ 2024-05-31 ┆ 23:19:38 ┆ 380      ┆ Fair          │\n",
       "│                  ┆               ┆ 23:13:18   ┆ 23:19:38   ┆   ┆            ┆          ┆          ┆               │\n",
       "│ …                ┆ …             ┆ …          ┆ …          ┆ … ┆ …          ┆ …        ┆ …        ┆ …             │\n",
       "│ 3DB400ABF1DD8FD7 ┆ electric_bike ┆ 2024-06-10 ┆ 2024-06-10 ┆ … ┆ 2024-06-10 ┆ 18:18:25 ┆ 302      ┆ Fair          │\n",
       "│                  ┆               ┆ 18:13:23   ┆ 18:18:25   ┆   ┆            ┆          ┆          ┆               │\n",
       "│ 34FBB2D15D11F3C7 ┆ electric_bike ┆ 2024-08-22 ┆ 2024-08-22 ┆ … ┆ 2024-08-22 ┆ 13:57:12 ┆ 340      ┆ Fair          │\n",
       "│                  ┆               ┆ 13:51:32   ┆ 13:57:12   ┆   ┆            ┆          ┆          ┆               │\n",
       "│ 690EEC3E38CB0399 ┆ classic_bike  ┆ 2024-05-25 ┆ 2024-05-25 ┆ … ┆ 2024-05-25 ┆ 14:13:41 ┆ 2306     ┆ Fair          │\n",
       "│                  ┆               ┆ 13:35:15   ┆ 14:13:41   ┆   ┆            ┆          ┆          ┆               │\n",
       "│ 91A180A0D541501B ┆ classic_bike  ┆ 2024-11-20 ┆ 2024-11-20 ┆ … ┆ 2024-11-20 ┆ 17:16:51 ┆ 2128     ┆ Fair          │\n",
       "│                  ┆               ┆ 16:41:23   ┆ 17:16:51   ┆   ┆            ┆          ┆          ┆               │\n",
       "│ B596B3561A68AF87 ┆ classic_bike  ┆ 2024-10-02 ┆ 2024-10-02 ┆ … ┆ 2024-10-02 ┆ 14:01:29 ┆ 1318     ┆ Fair          │\n",
       "│                  ┆               ┆ 13:39:31   ┆ 14:01:29   ┆   ┆            ┆          ┆          ┆               │\n",
       "└──────────────────┴───────────────┴────────────┴────────────┴───┴────────────┴──────────┴──────────┴───────────────┘"
      ]
     },
     "execution_count": 88,
     "metadata": {},
     "output_type": "execute_result"
    }
   ],
   "source": [
    "df_cleaned"
   ]
  },
  {
   "cell_type": "code",
   "execution_count": 90,
   "id": "17ccc14d-b36e-4193-811d-af8b1942b26d",
   "metadata": {},
   "outputs": [
    {
     "name": "stdout",
     "output_type": "stream",
     "text": [
      "✅ Table 'bike_rides_2024' created successfully!\n"
     ]
    }
   ],
   "source": [
    "import mysql.connector\n",
    "\n",
    "# Connect to MySQL database\n",
    "connection = mysql.connector.connect(\n",
    "    host=\"localhost\",\n",
    "    port=3305,\n",
    "    user=\"root\",\n",
    "    password=\"root\",\n",
    "    database=\"bike_share\"\n",
    ")\n",
    "cursor = connection.cursor()\n",
    "\n",
    "# Create table query\n",
    "create_table_query = \"\"\"\n",
    "CREATE TABLE IF NOT EXISTS bike_rides_2024 (\n",
    "    ride_id TEXT,\n",
    "    rideable_type TEXT,\n",
    "    started_at TEXT,\n",
    "    ended_at TEXT,\n",
    "    start_station_name TEXT,\n",
    "    end_station_name TEXT,\n",
    "    start_lat DOUBLE,\n",
    "    start_lng DOUBLE,\n",
    "    end_lat DOUBLE,\n",
    "    end_lng DOUBLE,\n",
    "    member_casual TEXT,\n",
    "    start_date TEXT,\n",
    "    start_time TEXT,\n",
    "    end_date TEXT,\n",
    "    end_time TEXT,\n",
    "    duration INT,\n",
    "    ride_validity TEXT\n",
    ");\n",
    "\"\"\"\n",
    "\n",
    "# Execute the query\n",
    "cursor.execute(create_table_query)\n",
    "connection.commit()\n",
    "\n",
    "print(\"✅ Table 'bike_rides_2024' created successfully!\")\n",
    "\n",
    "# Close connection\n",
    "cursor.close()\n",
    "connection.close()\n"
   ]
  },
  {
   "cell_type": "code",
   "execution_count": 92,
   "id": "6d4aff1f-59b8-4f96-b027-52a8b2add166",
   "metadata": {},
   "outputs": [
    {
     "name": "stdout",
     "output_type": "stream",
     "text": [
      "✅ Database connected successfully!\n",
      "✅ Table checked/created successfully!\n",
      "✅ Inserted 5853165 unique records successfully into `bike_rides_2022`!\n"
     ]
    }
   ],
   "source": [
    "import polars as pl\n",
    "import mysql.connector\n",
    "\n",
    "# Assuming df_cleaned is your cleaned Polars DataFrame\n",
    "df_cleaned = df_cleaned.unique()  # Ensure unique records\n",
    "\n",
    "# Convert Polars DataFrame to a list of tuples\n",
    "data = [tuple(row) for row in df_cleaned.to_numpy()]\n",
    "\n",
    "# Connect to MySQL without specifying the database first\n",
    "connection = mysql.connector.connect(\n",
    "    host=\"localhost\",\n",
    "    port=3305,\n",
    "    user=\"root\",\n",
    "    password=\"root\"\n",
    ")\n",
    "cursor = connection.cursor()\n",
    "\n",
    "# Create database if not exists\n",
    "cursor.execute(\"CREATE DATABASE IF NOT EXISTS bike_share\")\n",
    "\n",
    "# Connect to the database\n",
    "connection.database = \"bike_share\"\n",
    "\n",
    "print(\"✅ Database connected successfully!\")\n",
    "\n",
    "# Ensure the `bike_rides_2021` table exists (Modify the schema if needed)\n",
    "cursor.execute(\"\"\"\n",
    "CREATE TABLE IF NOT EXISTS bike_rides_2024 (\n",
    "    ride_id TEXT PRIMARY KEY,\n",
    "    rideable_type TEXT,\n",
    "    started_at TEXT,\n",
    "    ended_at TEXT,\n",
    "    start_station_name TEXT,\n",
    "    end_station_name TEXT,\n",
    "    start_lat DOUBLE,\n",
    "    start_lng DOUBLE,\n",
    "    end_lat DOUBLE,\n",
    "    end_lng DOUBLE,\n",
    "    member_casual TEXT,\n",
    "    start_date TEXT,\n",
    "    start_time TEXT,\n",
    "    end_date TEXT,\n",
    "    end_time TEXT,\n",
    "    duration INT,\n",
    "    ride_validity TEXT\n",
    ")\n",
    "\"\"\")\n",
    "\n",
    "print(\"✅ Table checked/created successfully!\")\n",
    "\n",
    "# SQL Insert Query (Ensure column names match your table)\n",
    "insert_stmt = \"\"\"\n",
    "INSERT IGNORE INTO bike_rides_2024 (\n",
    "    ride_id, rideable_type, started_at, ended_at, start_station_name, \n",
    "    end_station_name, start_lat, start_lng, end_lat, end_lng, \n",
    "    member_casual, start_date, start_time, end_date, end_time, \n",
    "    duration, ride_validity\n",
    ") VALUES (%s, %s, %s, %s, %s, %s, %s, %s, %s, %s, %s, %s, %s, %s, %s, %s, %s)\n",
    "\"\"\"\n",
    "\n",
    "# Insert data in batches for efficiency\n",
    "batch_size = 1000\n",
    "for i in range(0, len(data), batch_size):\n",
    "    batch = data[i:i + batch_size]\n",
    "    cursor.executemany(insert_stmt, batch)\n",
    "    connection.commit()\n",
    "\n",
    "print(f\"✅ Inserted {len(data)} unique records successfully into `bike_rides_2022`!\")\n",
    "\n",
    "# Close connection\n",
    "cursor.close()\n",
    "connection.close()\n"
   ]
  },
  {
   "cell_type": "code",
   "execution_count": null,
   "id": "7d542a24-e5b8-47e9-b047-60af7a3c2b8b",
   "metadata": {},
   "outputs": [],
   "source": []
  }
 ],
 "metadata": {
  "kernelspec": {
   "display_name": "Python 3 (ipykernel)",
   "language": "python",
   "name": "python3"
  },
  "language_info": {
   "codemirror_mode": {
    "name": "ipython",
    "version": 3
   },
   "file_extension": ".py",
   "mimetype": "text/x-python",
   "name": "python",
   "nbconvert_exporter": "python",
   "pygments_lexer": "ipython3",
   "version": "3.12.7"
  }
 },
 "nbformat": 4,
 "nbformat_minor": 5
}
